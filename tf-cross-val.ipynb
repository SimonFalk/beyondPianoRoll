{
 "cells": [
  {
   "cell_type": "code",
   "execution_count": 1,
   "id": "b0f89d5a",
   "metadata": {},
   "outputs": [],
   "source": [
    "import tensorflow as tf\n",
    "import tensorflow_io as tfio\n",
    "import matplotlib.pyplot as plt\n",
    "import numpy as np\n",
    "from numpy import genfromtxt\n",
    "import pickle\n",
    "import os"
   ]
  },
  {
   "cell_type": "code",
   "execution_count": 2,
   "id": "0fab8bbe",
   "metadata": {},
   "outputs": [],
   "source": [
    "from keras import backend as K\n",
    "\n",
    "def f1(y_true, y_pred):\n",
    "    def recall(y_true, y_pred):\n",
    "        \"\"\"Recall metric.\n",
    "\n",
    "        Only computes a batch-wise average of recall.\n",
    "\n",
    "        Computes the recall, a metric for multi-label classification of\n",
    "        how many relevant items are selected.\n",
    "        \"\"\"\n",
    "        true_positives = K.sum(K.round(K.clip(y_true * y_pred, 0, 1)))\n",
    "        possible_positives = K.sum(K.round(K.clip(y_true, 0, 1)))\n",
    "        recall = true_positives / (possible_positives + K.epsilon())\n",
    "        return recall\n",
    "\n",
    "    def precision(y_true, y_pred):\n",
    "        \"\"\"Precision metric.\n",
    "\n",
    "        Only computes a batch-wise average of precision.\n",
    "\n",
    "        Computes the precision, a metric for multi-label classification of\n",
    "        how many selected items are relevant.\n",
    "        \"\"\"\n",
    "        true_positives = K.sum(K.round(K.clip(y_true * y_pred, 0, 1)))\n",
    "        predicted_positives = K.sum(K.round(K.clip(y_pred, 0, 1)))\n",
    "        precision = true_positives / (predicted_positives + K.epsilon())\n",
    "        return precision\n",
    "    precision = precision(y_true, y_pred)\n",
    "    recall = recall(y_true, y_pred)\n",
    "    return 2*((precision*recall)/(precision+recall+K.epsilon()))"
   ]
  },
  {
   "cell_type": "code",
   "execution_count": 3,
   "id": "802215b2",
   "metadata": {},
   "outputs": [],
   "source": [
    "def get_label_vector(times, onset_times, fuzzy=False):\n",
    "    a = np.reshape(onset_times, (-1,1))\n",
    "    b = np.reshape(times, (1,-1))\n",
    "    onset_onehot = np.sum(np.abs(a - b) < HOP/(2*sr), 0)\n",
    "    onset_wide = np.sum(np.abs(a - b) < 3*HOP/(2*sr), 0)\n",
    "    onset_fuzzy = 0.25*onset_wide + 0.25*onset_onehot\n",
    "    \n",
    "    if fuzzy: \n",
    "        return onset_fuzzy\n",
    "    else:\n",
    "        return onset_onehot"
   ]
  },
  {
   "cell_type": "code",
   "execution_count": 4,
   "id": "9da6c50f",
   "metadata": {},
   "outputs": [
    {
     "name": "stdout",
     "output_type": "stream",
     "text": [
      "1\n",
      "(1686, 80, 15, 3)\n",
      "Audio clip defined from 0.000 s to 16.962 s\n",
      "With a feature frequency of 0.010 s this yields 1701 features\n",
      "Onsets start at 0.767 and end at 15.158\n",
      "(1686,)\n",
      "\n",
      "2\n",
      "(1609, 80, 15, 3)\n",
      "Audio clip defined from 0.000 s to 16.196 s\n",
      "With a feature frequency of 0.010 s this yields 1624 features\n",
      "Onsets start at 0.598 and end at 14.528\n",
      "(1609,)\n",
      "\n",
      "3\n",
      "(1646, 80, 15, 3)\n",
      "Audio clip defined from 0.000 s to 16.567 s\n",
      "With a feature frequency of 0.010 s this yields 1661 features\n",
      "Onsets start at 0.838 and end at 14.697\n",
      "(1646,)\n",
      "\n",
      "4\n",
      "(1585, 80, 15, 3)\n",
      "Audio clip defined from 0.000 s to 15.961 s\n",
      "With a feature frequency of 0.010 s this yields 1600 features\n",
      "Onsets start at 0.458 and end at 14.867\n",
      "(1585,)\n",
      "\n",
      "5\n",
      "(3403, 80, 15, 3)\n",
      "Audio clip defined from 0.000 s to 34.099 s\n",
      "With a feature frequency of 0.010 s this yields 3418 features\n",
      "Onsets start at 0.488 and end at 31.757\n",
      "(3403,)\n",
      "\n",
      "6\n",
      "(4959, 80, 15, 3)\n",
      "Audio clip defined from 0.000 s to 49.621 s\n",
      "With a feature frequency of 0.010 s this yields 4974 features\n",
      "Onsets start at 0.587 and end at 47.127\n",
      "(4959,)\n",
      "\n",
      "7\n",
      "(4971, 80, 15, 3)\n",
      "Audio clip defined from 0.000 s to 49.737 s\n",
      "With a feature frequency of 0.010 s this yields 4986 features\n",
      "Onsets start at 0.306 and end at 47.157\n",
      "(4971,)\n",
      "\n",
      "8\n",
      "(2906, 80, 15, 3)\n",
      "Audio clip defined from 0.000 s to 29.141 s\n",
      "With a feature frequency of 0.010 s this yields 2921 features\n",
      "Onsets start at 0.617 and end at 28.168\n",
      "(2906,)\n",
      "\n",
      "9\n",
      "(3616, 80, 15, 3)\n",
      "Audio clip defined from 0.000 s to 36.223 s\n",
      "With a feature frequency of 0.010 s this yields 3631 features\n",
      "Onsets start at 0.527 and end at 33.818\n",
      "(3616,)\n",
      "\n",
      "10\n",
      "(4020, 80, 15, 3)\n",
      "Audio clip defined from 0.000 s to 40.252 s\n",
      "With a feature frequency of 0.010 s this yields 4035 features\n",
      "Onsets start at 0.399 and end at 39.437\n",
      "(4020,)\n",
      "\n",
      "11\n",
      "(3610, 80, 15, 3)\n",
      "Audio clip defined from 0.000 s to 36.165 s\n",
      "With a feature frequency of 0.010 s this yields 3625 features\n",
      "Onsets start at 0.318 and end at 36.147\n",
      "(3610,)\n",
      "\n",
      "12\n",
      "(3188, 80, 15, 3)\n",
      "Audio clip defined from 0.000 s to 31.951 s\n",
      "With a feature frequency of 0.010 s this yields 3203 features\n",
      "Onsets start at 1.118 and end at 27.328119\n",
      "(3188,)\n",
      "\n",
      "13\n",
      "(2803, 80, 15, 3)\n",
      "Audio clip defined from 0.000 s to 28.107 s\n",
      "With a feature frequency of 0.010 s this yields 2818 features\n",
      "Onsets start at 0.837 and end at 25.827\n",
      "(2803,)\n",
      "\n",
      "14\n",
      "(2932, 80, 15, 3)\n",
      "Audio clip defined from 0.000 s to 29.396 s\n",
      "With a feature frequency of 0.010 s this yields 2947 features\n",
      "Onsets start at 0.537 and end at 27.008\n",
      "(2932,)\n",
      "\n",
      "15\n",
      "(3622, 80, 15, 3)\n",
      "Audio clip defined from 0.000 s to 36.281 s\n",
      "With a feature frequency of 0.010 s this yields 3637 features\n",
      "Onsets start at 0.608 and end at 34.967\n",
      "(3622,)\n",
      "\n",
      "16\n",
      "(4172, 80, 15, 3)\n",
      "Audio clip defined from 0.000 s to 41.766 s\n",
      "With a feature frequency of 0.010 s this yields 4187 features\n",
      "Onsets start at 0.752 and end at 40.656\n",
      "(4172,)\n",
      "\n",
      "18\n",
      "(5584, 80, 15, 3)\n",
      "Audio clip defined from 0.000 s to 55.859 s\n",
      "With a feature frequency of 0.010 s this yields 5599 features\n",
      "Onsets start at 0.552 and end at 51.791047\n",
      "(5584,)\n",
      "\n",
      "19\n",
      "(5661, 80, 15, 3)\n",
      "Audio clip defined from 0.000 s to 56.622 s\n",
      "With a feature frequency of 0.010 s this yields 5676 features\n",
      "Onsets start at 0.61 and end at 54.997\n",
      "(5661,)\n",
      "\n"
     ]
    }
   ],
   "source": [
    "frame_dir = 'datasets/initslurtest_vn/frames/'\n",
    "label_dir = 'datasets/initslurtest_vn/initslurtest_vn_annotations/'\n",
    "audio_dir = 'datasets/initslurtest_vn/initslurtest_vn_wav/'\n",
    "HOP = 440\n",
    "sr = 44100\n",
    "N_MARGIN = 7 # How many frames to include before and after focus frame\n",
    "clips_spects = []\n",
    "clips_onsets = []\n",
    "for n in range(1,20):\n",
    "    if n==17:\n",
    "        continue\n",
    "        # TODO: solve the 17 case\n",
    "    print(n)\n",
    "    \n",
    "    frame_name = frame_dir + \"slurtest{:02d}\".format(n) + \".pickle\"\n",
    "    label_name = label_dir+\"{:02d}\".format(n)+\".txt\"\n",
    "    audio_name  = audio_dir + \"slurtest{:02d}\".format(n) + \".wav\"\n",
    "    \n",
    "    # Get audio\n",
    "    audio = tfio.audio.AudioIOTensor(audio_name)\n",
    "    length = len(audio)/sr\n",
    "    \n",
    "    # Get label vector\n",
    "    with open(frame_name, 'rb') as handle:\n",
    "        new_spect = np.array(pickle.load(handle))\n",
    "        print(new_spect.shape)\n",
    "    times = np.arange(0, length, HOP/sr)\n",
    "    print(\"Audio clip defined from {:.3f} s to {:.3f} s\".format(0, length))\n",
    "    print(\"With a feature frequency of {:.3f} s this yields {} features\".format(HOP/sr, len(times)))\n",
    "    onset_times = genfromtxt(label_name, delimiter=',')\n",
    "    print(\"Onsets start at {} and end at {}\".format(onset_times[0], onset_times[-1]))\n",
    "    labels = get_label_vector(times, onset_times, fuzzy=False)[N_MARGIN:-N_MARGIN-1]\n",
    "    print(labels.shape)\n",
    "    print()\n",
    "    clips_spects.append(new_spect)\n",
    "    clips_onsets.append(labels)"
   ]
  },
  {
   "cell_type": "code",
   "execution_count": 5,
   "id": "78955be9",
   "metadata": {},
   "outputs": [
    {
     "name": "stdout",
     "output_type": "stream",
     "text": [
      "Folds:  [array([11, 14,  7]), array([9, 2, 3]), array([ 8,  5, 12]), array([13,  6, 17]), array([4, 1, 0]), array([15, 16, 10])]\n"
     ]
    }
   ],
   "source": [
    "n_folds = 6\n",
    "clips_per_fold = 3\n",
    "\n",
    "_, y_dim, x_dim, n_channels = clips_spects[0].shape\n",
    "\n",
    "# K-fold cross validation\n",
    "from numpy.random import default_rng\n",
    "rng = default_rng(119)\n",
    "split_idx = rng.choice(np.arange(len(clips_spects)), size=n_folds*clips_per_fold, replace=False)\n",
    "\n",
    "folds = np.split(split_idx, n_folds)\n",
    "print(\"Folds: \", folds)"
   ]
  },
  {
   "cell_type": "code",
   "execution_count": 10,
   "id": "144511a9",
   "metadata": {},
   "outputs": [],
   "source": [
    "# Same architecture, smaller dimensions, with dropout\n",
    "\n",
    "model1 = tf.keras.Sequential([\n",
    "    tf.keras.layers.Input(shape=(y_dim, x_dim, n_channels)),\n",
    "    tf.keras.layers.Permute((2,1,3)),\n",
    "    tf.keras.layers.Conv2D(\n",
    "        activation = 'relu',\n",
    "        filters = 1,\n",
    "        kernel_size = (7,3),\n",
    "        strides = 1\n",
    "    ),\n",
    "    tf.keras.layers.MaxPooling2D(\n",
    "         pool_size=(1, 3), \n",
    "            strides=(1,3)\n",
    "    ),\n",
    "    tf.keras.layers.Conv2D(\n",
    "        activation = 'relu',\n",
    "        filters = 1,\n",
    "        kernel_size = (3,3),\n",
    "        strides = 1\n",
    "    ),  \n",
    "    tf.keras.layers.MaxPooling2D(\n",
    "         pool_size=(1, 3), \n",
    "            strides=(1,3)\n",
    "    ),\n",
    "    tf.keras.layers.Flatten(),\n",
    "    #tf.keras.layers.Dropout(.5),\n",
    "    tf.keras.layers.Dense(64, activation = 'sigmoid'),\n",
    "    #tf.keras.layers.Dropout(.5),\n",
    "    tf.keras.layers.Dense(1, activation = 'sigmoid', \n",
    "                          #bias_initializer=tf.keras.initializers.Constant(output_bias)\n",
    "     )\n",
    "])"
   ]
  },
  {
   "cell_type": "code",
   "execution_count": 11,
   "id": "09a22706",
   "metadata": {},
   "outputs": [
    {
     "name": "stdout",
     "output_type": "stream",
     "text": [
      "Model: \"sequential_1\"\n",
      "_________________________________________________________________\n",
      " Layer (type)                Output Shape              Param #   \n",
      "=================================================================\n",
      " permute_1 (Permute)         (None, 15, 80, 3)         0         \n",
      "                                                                 \n",
      " conv2d_2 (Conv2D)           (None, 9, 78, 1)          64        \n",
      "                                                                 \n",
      " max_pooling2d_2 (MaxPooling  (None, 9, 26, 1)         0         \n",
      " 2D)                                                             \n",
      "                                                                 \n",
      " conv2d_3 (Conv2D)           (None, 7, 24, 1)          10        \n",
      "                                                                 \n",
      " max_pooling2d_3 (MaxPooling  (None, 7, 8, 1)          0         \n",
      " 2D)                                                             \n",
      "                                                                 \n",
      " flatten_1 (Flatten)         (None, 56)                0         \n",
      "                                                                 \n",
      " dense_2 (Dense)             (None, 64)                3648      \n",
      "                                                                 \n",
      " dense_3 (Dense)             (None, 1)                 65        \n",
      "                                                                 \n",
      "=================================================================\n",
      "Total params: 3,787\n",
      "Trainable params: 3,787\n",
      "Non-trainable params: 0\n",
      "_________________________________________________________________\n"
     ]
    }
   ],
   "source": [
    "model1.summary()"
   ]
  },
  {
   "cell_type": "code",
   "execution_count": 14,
   "id": "f4950b83",
   "metadata": {
    "scrolled": true
   },
   "outputs": [
    {
     "name": "stdout",
     "output_type": "stream",
     "text": [
      "------------------------------------------------------------------------\n",
      "Preparing data for fold 0 ...\n",
      "Indices in training:  [ 0  1  2  3  4  5  6  8  9 10 12 13 15 16 17]\n",
      "Indices in test:  [11 14  7]\n",
      "Training for fold 0 ...\n",
      "Epoch 1/5\n",
      "205/205 [==============================] - 25s 88ms/step - loss: 1.0218 - f1: 0.1901\n",
      "Epoch 2/5\n",
      "205/205 [==============================] - 17s 82ms/step - loss: 0.7112 - f1: 0.2576\n",
      "Epoch 3/5\n",
      "205/205 [==============================] - 15s 75ms/step - loss: 0.6698 - f1: 0.2668\n",
      "Epoch 4/5\n",
      "205/205 [==============================] - 17s 82ms/step - loss: 0.6529 - f1: 0.2772\n",
      "Epoch 5/5\n",
      "205/205 [==============================] - 16s 76ms/step - loss: 0.6399 - f1: 0.2769\n",
      "Scores for fold 0: [0.2869691252708435, 0.19631119072437286]\n",
      "------------------------------------------------------------------------\n",
      "Preparing data for fold 1 ...\n",
      "Indices in training:  [ 0  1  4  5  6  7  8 10 11 12 13 14 15 16 17]\n",
      "Indices in test:  [9 2 3]\n",
      "Training for fold 1 ...\n",
      "Epoch 1/5\n",
      "214/214 [==============================] - 24s 102ms/step - loss: 0.5949 - f1: 0.2814\n",
      "Epoch 2/5\n",
      "121/214 [===============>..............] - ETA: 8s - loss: 0.5908 - f1: 0.2861"
     ]
    },
    {
     "ename": "KeyboardInterrupt",
     "evalue": "",
     "output_type": "error",
     "traceback": [
      "\u001b[0;31m---------------------------------------------------------------------------\u001b[0m",
      "\u001b[0;31mKeyboardInterrupt\u001b[0m                         Traceback (most recent call last)",
      "\u001b[0;32m<ipython-input-14-861f2ed395ac>\u001b[0m in \u001b[0;36m<module>\u001b[0;34m\u001b[0m\n\u001b[1;32m     39\u001b[0m \u001b[0;34m\u001b[0m\u001b[0m\n\u001b[1;32m     40\u001b[0m     \u001b[0mprint\u001b[0m\u001b[0;34m(\u001b[0m\u001b[0;34mf'Training for fold {f} ...'\u001b[0m\u001b[0;34m)\u001b[0m\u001b[0;34m\u001b[0m\u001b[0;34m\u001b[0m\u001b[0m\n\u001b[0;32m---> 41\u001b[0;31m     history = model1.fit(\n\u001b[0m\u001b[1;32m     42\u001b[0m     \u001b[0mx\u001b[0m\u001b[0;34m=\u001b[0m\u001b[0mX_train\u001b[0m\u001b[0;34m,\u001b[0m\u001b[0;34m\u001b[0m\u001b[0;34m\u001b[0m\u001b[0m\n\u001b[1;32m     43\u001b[0m     \u001b[0my\u001b[0m\u001b[0;34m=\u001b[0m\u001b[0my_train\u001b[0m\u001b[0;34m,\u001b[0m\u001b[0;34m\u001b[0m\u001b[0;34m\u001b[0m\u001b[0m\n",
      "\u001b[0;32m~/anaconda3/lib/python3.8/site-packages/keras/utils/traceback_utils.py\u001b[0m in \u001b[0;36merror_handler\u001b[0;34m(*args, **kwargs)\u001b[0m\n\u001b[1;32m     62\u001b[0m     \u001b[0mfiltered_tb\u001b[0m \u001b[0;34m=\u001b[0m \u001b[0;32mNone\u001b[0m\u001b[0;34m\u001b[0m\u001b[0;34m\u001b[0m\u001b[0m\n\u001b[1;32m     63\u001b[0m     \u001b[0;32mtry\u001b[0m\u001b[0;34m:\u001b[0m\u001b[0;34m\u001b[0m\u001b[0;34m\u001b[0m\u001b[0m\n\u001b[0;32m---> 64\u001b[0;31m       \u001b[0;32mreturn\u001b[0m \u001b[0mfn\u001b[0m\u001b[0;34m(\u001b[0m\u001b[0;34m*\u001b[0m\u001b[0margs\u001b[0m\u001b[0;34m,\u001b[0m \u001b[0;34m**\u001b[0m\u001b[0mkwargs\u001b[0m\u001b[0;34m)\u001b[0m\u001b[0;34m\u001b[0m\u001b[0;34m\u001b[0m\u001b[0m\n\u001b[0m\u001b[1;32m     65\u001b[0m     \u001b[0;32mexcept\u001b[0m \u001b[0mException\u001b[0m \u001b[0;32mas\u001b[0m \u001b[0me\u001b[0m\u001b[0;34m:\u001b[0m  \u001b[0;31m# pylint: disable=broad-except\u001b[0m\u001b[0;34m\u001b[0m\u001b[0;34m\u001b[0m\u001b[0m\n\u001b[1;32m     66\u001b[0m       \u001b[0mfiltered_tb\u001b[0m \u001b[0;34m=\u001b[0m \u001b[0m_process_traceback_frames\u001b[0m\u001b[0;34m(\u001b[0m\u001b[0me\u001b[0m\u001b[0;34m.\u001b[0m\u001b[0m__traceback__\u001b[0m\u001b[0;34m)\u001b[0m\u001b[0;34m\u001b[0m\u001b[0;34m\u001b[0m\u001b[0m\n",
      "\u001b[0;32m~/anaconda3/lib/python3.8/site-packages/keras/engine/training.py\u001b[0m in \u001b[0;36mfit\u001b[0;34m(self, x, y, batch_size, epochs, verbose, callbacks, validation_split, validation_data, shuffle, class_weight, sample_weight, initial_epoch, steps_per_epoch, validation_steps, validation_batch_size, validation_freq, max_queue_size, workers, use_multiprocessing)\u001b[0m\n\u001b[1;32m   1382\u001b[0m                 _r=1):\n\u001b[1;32m   1383\u001b[0m               \u001b[0mcallbacks\u001b[0m\u001b[0;34m.\u001b[0m\u001b[0mon_train_batch_begin\u001b[0m\u001b[0;34m(\u001b[0m\u001b[0mstep\u001b[0m\u001b[0;34m)\u001b[0m\u001b[0;34m\u001b[0m\u001b[0;34m\u001b[0m\u001b[0m\n\u001b[0;32m-> 1384\u001b[0;31m               \u001b[0mtmp_logs\u001b[0m \u001b[0;34m=\u001b[0m \u001b[0mself\u001b[0m\u001b[0;34m.\u001b[0m\u001b[0mtrain_function\u001b[0m\u001b[0;34m(\u001b[0m\u001b[0miterator\u001b[0m\u001b[0;34m)\u001b[0m\u001b[0;34m\u001b[0m\u001b[0;34m\u001b[0m\u001b[0m\n\u001b[0m\u001b[1;32m   1385\u001b[0m               \u001b[0;32mif\u001b[0m \u001b[0mdata_handler\u001b[0m\u001b[0;34m.\u001b[0m\u001b[0mshould_sync\u001b[0m\u001b[0;34m:\u001b[0m\u001b[0;34m\u001b[0m\u001b[0;34m\u001b[0m\u001b[0m\n\u001b[1;32m   1386\u001b[0m                 \u001b[0mcontext\u001b[0m\u001b[0;34m.\u001b[0m\u001b[0masync_wait\u001b[0m\u001b[0;34m(\u001b[0m\u001b[0;34m)\u001b[0m\u001b[0;34m\u001b[0m\u001b[0;34m\u001b[0m\u001b[0m\n",
      "\u001b[0;32m~/anaconda3/lib/python3.8/site-packages/tensorflow/python/util/traceback_utils.py\u001b[0m in \u001b[0;36merror_handler\u001b[0;34m(*args, **kwargs)\u001b[0m\n\u001b[1;32m    148\u001b[0m     \u001b[0mfiltered_tb\u001b[0m \u001b[0;34m=\u001b[0m \u001b[0;32mNone\u001b[0m\u001b[0;34m\u001b[0m\u001b[0;34m\u001b[0m\u001b[0m\n\u001b[1;32m    149\u001b[0m     \u001b[0;32mtry\u001b[0m\u001b[0;34m:\u001b[0m\u001b[0;34m\u001b[0m\u001b[0;34m\u001b[0m\u001b[0m\n\u001b[0;32m--> 150\u001b[0;31m       \u001b[0;32mreturn\u001b[0m \u001b[0mfn\u001b[0m\u001b[0;34m(\u001b[0m\u001b[0;34m*\u001b[0m\u001b[0margs\u001b[0m\u001b[0;34m,\u001b[0m \u001b[0;34m**\u001b[0m\u001b[0mkwargs\u001b[0m\u001b[0;34m)\u001b[0m\u001b[0;34m\u001b[0m\u001b[0;34m\u001b[0m\u001b[0m\n\u001b[0m\u001b[1;32m    151\u001b[0m     \u001b[0;32mexcept\u001b[0m \u001b[0mException\u001b[0m \u001b[0;32mas\u001b[0m \u001b[0me\u001b[0m\u001b[0;34m:\u001b[0m\u001b[0;34m\u001b[0m\u001b[0;34m\u001b[0m\u001b[0m\n\u001b[1;32m    152\u001b[0m       \u001b[0mfiltered_tb\u001b[0m \u001b[0;34m=\u001b[0m \u001b[0m_process_traceback_frames\u001b[0m\u001b[0;34m(\u001b[0m\u001b[0me\u001b[0m\u001b[0;34m.\u001b[0m\u001b[0m__traceback__\u001b[0m\u001b[0;34m)\u001b[0m\u001b[0;34m\u001b[0m\u001b[0;34m\u001b[0m\u001b[0m\n",
      "\u001b[0;32m~/anaconda3/lib/python3.8/site-packages/tensorflow/python/eager/def_function.py\u001b[0m in \u001b[0;36m__call__\u001b[0;34m(self, *args, **kwds)\u001b[0m\n\u001b[1;32m    913\u001b[0m \u001b[0;34m\u001b[0m\u001b[0m\n\u001b[1;32m    914\u001b[0m       \u001b[0;32mwith\u001b[0m \u001b[0mOptionalXlaContext\u001b[0m\u001b[0;34m(\u001b[0m\u001b[0mself\u001b[0m\u001b[0;34m.\u001b[0m\u001b[0m_jit_compile\u001b[0m\u001b[0;34m)\u001b[0m\u001b[0;34m:\u001b[0m\u001b[0;34m\u001b[0m\u001b[0;34m\u001b[0m\u001b[0m\n\u001b[0;32m--> 915\u001b[0;31m         \u001b[0mresult\u001b[0m \u001b[0;34m=\u001b[0m \u001b[0mself\u001b[0m\u001b[0;34m.\u001b[0m\u001b[0m_call\u001b[0m\u001b[0;34m(\u001b[0m\u001b[0;34m*\u001b[0m\u001b[0margs\u001b[0m\u001b[0;34m,\u001b[0m \u001b[0;34m**\u001b[0m\u001b[0mkwds\u001b[0m\u001b[0;34m)\u001b[0m\u001b[0;34m\u001b[0m\u001b[0;34m\u001b[0m\u001b[0m\n\u001b[0m\u001b[1;32m    916\u001b[0m \u001b[0;34m\u001b[0m\u001b[0m\n\u001b[1;32m    917\u001b[0m       \u001b[0mnew_tracing_count\u001b[0m \u001b[0;34m=\u001b[0m \u001b[0mself\u001b[0m\u001b[0;34m.\u001b[0m\u001b[0mexperimental_get_tracing_count\u001b[0m\u001b[0;34m(\u001b[0m\u001b[0;34m)\u001b[0m\u001b[0;34m\u001b[0m\u001b[0;34m\u001b[0m\u001b[0m\n",
      "\u001b[0;32m~/anaconda3/lib/python3.8/site-packages/tensorflow/python/eager/def_function.py\u001b[0m in \u001b[0;36m_call\u001b[0;34m(self, *args, **kwds)\u001b[0m\n\u001b[1;32m    945\u001b[0m       \u001b[0;31m# In this case we have created variables on the first call, so we run the\u001b[0m\u001b[0;34m\u001b[0m\u001b[0;34m\u001b[0m\u001b[0;34m\u001b[0m\u001b[0m\n\u001b[1;32m    946\u001b[0m       \u001b[0;31m# defunned version which is guaranteed to never create variables.\u001b[0m\u001b[0;34m\u001b[0m\u001b[0;34m\u001b[0m\u001b[0;34m\u001b[0m\u001b[0m\n\u001b[0;32m--> 947\u001b[0;31m       \u001b[0;32mreturn\u001b[0m \u001b[0mself\u001b[0m\u001b[0;34m.\u001b[0m\u001b[0m_stateless_fn\u001b[0m\u001b[0;34m(\u001b[0m\u001b[0;34m*\u001b[0m\u001b[0margs\u001b[0m\u001b[0;34m,\u001b[0m \u001b[0;34m**\u001b[0m\u001b[0mkwds\u001b[0m\u001b[0;34m)\u001b[0m  \u001b[0;31m# pylint: disable=not-callable\u001b[0m\u001b[0;34m\u001b[0m\u001b[0;34m\u001b[0m\u001b[0m\n\u001b[0m\u001b[1;32m    948\u001b[0m     \u001b[0;32melif\u001b[0m \u001b[0mself\u001b[0m\u001b[0;34m.\u001b[0m\u001b[0m_stateful_fn\u001b[0m \u001b[0;32mis\u001b[0m \u001b[0;32mnot\u001b[0m \u001b[0;32mNone\u001b[0m\u001b[0;34m:\u001b[0m\u001b[0;34m\u001b[0m\u001b[0;34m\u001b[0m\u001b[0m\n\u001b[1;32m    949\u001b[0m       \u001b[0;31m# Release the lock early so that multiple threads can perform the call\u001b[0m\u001b[0;34m\u001b[0m\u001b[0;34m\u001b[0m\u001b[0;34m\u001b[0m\u001b[0m\n",
      "\u001b[0;32m~/anaconda3/lib/python3.8/site-packages/tensorflow/python/eager/function.py\u001b[0m in \u001b[0;36m__call__\u001b[0;34m(self, *args, **kwargs)\u001b[0m\n\u001b[1;32m   2954\u001b[0m       (graph_function,\n\u001b[1;32m   2955\u001b[0m        filtered_flat_args) = self._maybe_define_function(args, kwargs)\n\u001b[0;32m-> 2956\u001b[0;31m     return graph_function._call_flat(\n\u001b[0m\u001b[1;32m   2957\u001b[0m         filtered_flat_args, captured_inputs=graph_function.captured_inputs)  # pylint: disable=protected-access\n\u001b[1;32m   2958\u001b[0m \u001b[0;34m\u001b[0m\u001b[0m\n",
      "\u001b[0;32m~/anaconda3/lib/python3.8/site-packages/tensorflow/python/eager/function.py\u001b[0m in \u001b[0;36m_call_flat\u001b[0;34m(self, args, captured_inputs, cancellation_manager)\u001b[0m\n\u001b[1;32m   1851\u001b[0m         and executing_eagerly):\n\u001b[1;32m   1852\u001b[0m       \u001b[0;31m# No tape is watching; skip to running the function.\u001b[0m\u001b[0;34m\u001b[0m\u001b[0;34m\u001b[0m\u001b[0;34m\u001b[0m\u001b[0m\n\u001b[0;32m-> 1853\u001b[0;31m       return self._build_call_outputs(self._inference_function.call(\n\u001b[0m\u001b[1;32m   1854\u001b[0m           ctx, args, cancellation_manager=cancellation_manager))\n\u001b[1;32m   1855\u001b[0m     forward_backward = self._select_forward_and_backward_functions(\n",
      "\u001b[0;32m~/anaconda3/lib/python3.8/site-packages/tensorflow/python/eager/function.py\u001b[0m in \u001b[0;36mcall\u001b[0;34m(self, ctx, args, cancellation_manager)\u001b[0m\n\u001b[1;32m    497\u001b[0m       \u001b[0;32mwith\u001b[0m \u001b[0m_InterpolateFunctionError\u001b[0m\u001b[0;34m(\u001b[0m\u001b[0mself\u001b[0m\u001b[0;34m)\u001b[0m\u001b[0;34m:\u001b[0m\u001b[0;34m\u001b[0m\u001b[0;34m\u001b[0m\u001b[0m\n\u001b[1;32m    498\u001b[0m         \u001b[0;32mif\u001b[0m \u001b[0mcancellation_manager\u001b[0m \u001b[0;32mis\u001b[0m \u001b[0;32mNone\u001b[0m\u001b[0;34m:\u001b[0m\u001b[0;34m\u001b[0m\u001b[0;34m\u001b[0m\u001b[0m\n\u001b[0;32m--> 499\u001b[0;31m           outputs = execute.execute(\n\u001b[0m\u001b[1;32m    500\u001b[0m               \u001b[0mstr\u001b[0m\u001b[0;34m(\u001b[0m\u001b[0mself\u001b[0m\u001b[0;34m.\u001b[0m\u001b[0msignature\u001b[0m\u001b[0;34m.\u001b[0m\u001b[0mname\u001b[0m\u001b[0;34m)\u001b[0m\u001b[0;34m,\u001b[0m\u001b[0;34m\u001b[0m\u001b[0;34m\u001b[0m\u001b[0m\n\u001b[1;32m    501\u001b[0m               \u001b[0mnum_outputs\u001b[0m\u001b[0;34m=\u001b[0m\u001b[0mself\u001b[0m\u001b[0;34m.\u001b[0m\u001b[0m_num_outputs\u001b[0m\u001b[0;34m,\u001b[0m\u001b[0;34m\u001b[0m\u001b[0;34m\u001b[0m\u001b[0m\n",
      "\u001b[0;32m~/anaconda3/lib/python3.8/site-packages/tensorflow/python/eager/execute.py\u001b[0m in \u001b[0;36mquick_execute\u001b[0;34m(op_name, num_outputs, inputs, attrs, ctx, name)\u001b[0m\n\u001b[1;32m     52\u001b[0m   \u001b[0;32mtry\u001b[0m\u001b[0;34m:\u001b[0m\u001b[0;34m\u001b[0m\u001b[0;34m\u001b[0m\u001b[0m\n\u001b[1;32m     53\u001b[0m     \u001b[0mctx\u001b[0m\u001b[0;34m.\u001b[0m\u001b[0mensure_initialized\u001b[0m\u001b[0;34m(\u001b[0m\u001b[0;34m)\u001b[0m\u001b[0;34m\u001b[0m\u001b[0;34m\u001b[0m\u001b[0m\n\u001b[0;32m---> 54\u001b[0;31m     tensors = pywrap_tfe.TFE_Py_Execute(ctx._handle, device_name, op_name,\n\u001b[0m\u001b[1;32m     55\u001b[0m                                         inputs, attrs, num_outputs)\n\u001b[1;32m     56\u001b[0m   \u001b[0;32mexcept\u001b[0m \u001b[0mcore\u001b[0m\u001b[0;34m.\u001b[0m\u001b[0m_NotOkStatusException\u001b[0m \u001b[0;32mas\u001b[0m \u001b[0me\u001b[0m\u001b[0;34m:\u001b[0m\u001b[0;34m\u001b[0m\u001b[0;34m\u001b[0m\u001b[0m\n",
      "\u001b[0;31mKeyboardInterrupt\u001b[0m: "
     ]
    }
   ],
   "source": [
    "\n",
    "for f in range(n_folds):\n",
    "    print('------------------------------------------------------------------------')\n",
    "    print(f'Preparing data for fold {f} ...')\n",
    "    print(\"Indices in training: \", np.setdiff1d(\n",
    "            range(n_folds*clips_per_fold),\n",
    "            folds[f]\n",
    "        ))\n",
    "    print(\"Indices in test: \", folds[f])\n",
    "    # Data\n",
    "    X_train = np.concatenate(\n",
    "        [clips_spects[i] for i in np.setdiff1d(\n",
    "            range(n_folds*clips_per_fold),\n",
    "            folds[f]\n",
    "        )]\n",
    "    )\n",
    "    y_train = np.concatenate(\n",
    "        [clips_onsets[i] for i in np.setdiff1d(\n",
    "            range(n_folds*clips_per_fold),\n",
    "            folds[f]\n",
    "        )]\n",
    "    )\n",
    "    X_test = np.concatenate([clips_spects[i] for i in folds[f]])\n",
    "    y_test = np.concatenate([clips_onsets[i] for i in folds[f]])\n",
    "    \n",
    "    # Normalization\n",
    "    center_frames_train = X_train[:,:,7,:]\n",
    "    mean_train = center_frames_train.mean(0).reshape((1,80,1,3))\n",
    "    std_train = center_frames_train.std(0, ddof=1).reshape((1,80,1,3))\n",
    "    X_train = (X_train - mean_train)/std_train\n",
    "    X_test = (X_test - mean_train)/std_train\n",
    "    \n",
    "    # Training\n",
    "    model1.compile(optimizer=\"adam\",\n",
    "                  loss=\"binary_crossentropy\",\n",
    "                  metrics=[\n",
    "                      f1\n",
    "                  ]\n",
    "    )\n",
    "\n",
    "    print(f'Training for fold {f} ...')\n",
    "    history = model1.fit(\n",
    "    x=X_train,\n",
    "    y=y_train,\n",
    "    epochs = 5,\n",
    "    class_weight = {0: 1., 1: 1/0.035},\n",
    "    batch_size = 256\n",
    "    )\n",
    "    scores = model1.evaluate(X_test, y_test, verbose=0)\n",
    "    print(f\"Scores for fold {f}: {scores}\")"
   ]
  },
  {
   "cell_type": "code",
   "execution_count": 331,
   "id": "c361d908",
   "metadata": {},
   "outputs": [
    {
     "data": {
      "text/plain": [
       "<matplotlib.legend.Legend at 0x7fc1078e63d0>"
      ]
     },
     "execution_count": 331,
     "metadata": {},
     "output_type": "execute_result"
    },
    {
     "data": {
      "image/png": "[encoded data removed]",
      "text/plain": [
       "<Figure size 432x288 with 1 Axes>"
      ]
     },
     "metadata": {
      "needs_background": "light"
     },
     "output_type": "display_data"
    }
   ],
   "source": [
    "plt.plot(history.history['loss'])\n",
    "plt.plot(history.history['val_loss'])\n",
    "plt.legend([\"Training loss\", \"Validation loss\"])"
   ]
  },
  {
   "cell_type": "code",
   "execution_count": 332,
   "id": "e99bae2f",
   "metadata": {},
   "outputs": [
    {
     "name": "stdout",
     "output_type": "stream",
     "text": [
      "113/113 [==============================] - 2s 16ms/step - loss: 0.0546 - precision_4: 0.0000e+00 - recall_4: 0.0000e+00\n"
     ]
    },
    {
     "data": {
      "text/plain": [
       "[0.05458918958902359, 0.0, 0.0]"
      ]
     },
     "execution_count": 332,
     "metadata": {},
     "output_type": "execute_result"
    }
   ],
   "source": [
    "model.evaluate(X_test, y_test)"
   ]
  },
  {
   "cell_type": "markdown",
   "id": "d0c015ec",
   "metadata": {},
   "source": [
    "## Audio analysis and onset extraction"
   ]
  },
  {
   "cell_type": "code",
   "execution_count": 333,
   "id": "3e488ddb",
   "metadata": {},
   "outputs": [],
   "source": [
    "test_index = split_idx[-n_test:][0]\n",
    "audio = tfio.audio.AudioIOTensor('datasets/initslurtest_vn/initslurtest_vn_wav/slurtest{:02d}.wav'.format(test_index))\n",
    "audio_tensor = tf.squeeze(audio[:], axis=[-1])\n",
    "audio_tensor = tf.cast(audio_tensor, tf.float32)/np.max(audio_tensor)"
   ]
  },
  {
   "cell_type": "code",
   "execution_count": 334,
   "id": "b74298ee",
   "metadata": {},
   "outputs": [],
   "source": [
    "with open('datasets/initslurtest_vn/spectrogram/slurtest{:02d}.pickle'.format(test_index), 'rb') as handle:\n",
    "    spects=pickle.load(handle)\n"
   ]
  },
  {
   "cell_type": "code",
   "execution_count": 335,
   "id": "94131f89",
   "metadata": {},
   "outputs": [
    {
     "name": "stdout",
     "output_type": "stream",
     "text": [
      "Sum of onehot:  52\n",
      "Len of onset times:  52\n"
     ]
    }
   ],
   "source": [
    "onset_times = genfromtxt('datasets/initslurtest_vn/initslurtest_vn_annotations/{:02d}.txt'.format(test_index), delimiter=',')\n",
    "times = np.arange(0, len(audio_tensor)/44100, 440/44100)\n",
    "labels = get_label_vector(times, onset_times, fuzzy=False)"
   ]
  },
  {
   "cell_type": "code",
   "execution_count": 336,
   "id": "bed64d97",
   "metadata": {},
   "outputs": [
    {
     "name": "stdout",
     "output_type": "stream",
     "text": [
      "(4020, 80, 15, 3)\n"
     ]
    }
   ],
   "source": [
    "with open('datasets/initslurtest_vn/frames/slurtest{:02d}.pickle'.format(test_index), 'rb') as handle:\n",
    "    frames=pickle.load(handle)\n",
    "print(frames.shape)"
   ]
  },
  {
   "cell_type": "code",
   "execution_count": 338,
   "id": "06f6a03a",
   "metadata": {},
   "outputs": [
    {
     "name": "stdout",
     "output_type": "stream",
     "text": [
      "Onsets detected:  51 51\n"
     ]
    },
    {
     "data": {
      "image/png": "[encoded data removed]",
      "text/plain": [
       "<Figure size 1440x360 with 1 Axes>"
      ]
     },
     "metadata": {
      "needs_background": "light"
     },
     "output_type": "display_data"
    }
   ],
   "source": [
    "from scipy.signal import find_peaks\n",
    "from librosa.util import peak_pick\n",
    "\n",
    "kernel_size = 5\n",
    "threshold = 0.2\n",
    "thres2=0.1\n",
    "\n",
    "pred_onsets = model.predict(frames)[:,0]\n",
    "plt.figure(figsize=(20,5))\n",
    "\n",
    "smoothed = np.convolve(pred_onsets, np.hamming(kernel_size), mode='same')\n",
    "plt.plot(smoothed, c='gray')\n",
    "plt.plot(pred_onsets, c='orange')\n",
    "\n",
    "peaks, _ = find_peaks(smoothed, height=threshold)\n",
    "peaks2 = peak_pick(smoothed, pre_max=5, post_max=1, pre_avg=5, post_avg=1, delta=thres2, wait=10)\n",
    "print(\"Onsets detected: \", len(peaks), len(peaks2))\n",
    "plt.scatter(peaks, smoothed[peaks], c='magenta', marker='x')\n",
    "plt.scatter(peaks2, smoothed[peaks2], c='green', marker='o')\n",
    "\n",
    "plt.scatter(onset_times*sr/HOP, np.zeros_like(onset_times), marker='x', c='darkblue')\n",
    "plt.legend([\"Smoothed function\", \"Detection function (CNN output)\", \"Detections\", \"True onsets\"])\n",
    "plt.show()"
   ]
  },
  {
   "cell_type": "code",
   "execution_count": 339,
   "id": "f2f78602",
   "metadata": {},
   "outputs": [
    {
     "name": "stdout",
     "output_type": "stream",
     "text": [
      "Precision: 57.9 %\n",
      "Recall: 63.5 %\n"
     ]
    }
   ],
   "source": [
    "from analyze_detection import evaluate\n",
    "\n",
    "true = onset_times\n",
    "pred = peaks*HOP/sr\n",
    "\n",
    "[CD,FN,FP,doubles,merged] = evaluate(true, pred, tol_sec=0.25)\n",
    "\n",
    "print(\"Precision: {:.1f} %\".format( 100*CD/(CD+FP)))\n",
    "print(\"Recall: {:.1f} %\".format( 100*CD/(CD+FN)))"
   ]
  },
  {
   "cell_type": "code",
   "execution_count": 114,
   "id": "22736e04",
   "metadata": {},
   "outputs": [],
   "source": [
    "#f = open(\"datasets/initslurtest_vn/model-output/bockmodel-220315-slurtest{:02d}.txt\".format(test_index), \"w\")\n",
    "#for i in range(len(peaks)):\n",
    "#    f.write(str(np.round((peaks[i]+7)*440/44100, decimals=2))+ \"\\n\")\n",
    "#f.close()"
   ]
  },
  {
   "cell_type": "code",
   "execution_count": null,
   "id": "82bf4341",
   "metadata": {},
   "outputs": [],
   "source": []
  }
 ],
 "metadata": {
  "kernelspec": {
   "display_name": "Python 3",
   "language": "python",
   "name": "python3"
  },
  "language_info": {
   "codemirror_mode": {
    "name": "ipython",
    "version": 3
   },
   "file_extension": ".py",
   "mimetype": "text/x-python",
   "name": "python",
   "nbconvert_exporter": "python",
   "pygments_lexer": "ipython3",
   "version": "3.8.8"
  }
 },
 "nbformat": 4,
 "nbformat_minor": 5
}
