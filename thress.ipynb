{
 "cells": [
  {
   "cell_type": "code",
   "execution_count": 2,
   "metadata": {},
   "outputs": [],
   "source": [
    "import matplotlib.pyplot as plt\n",
    "import seaborn as sns\n",
    "import numpy as np"
   ]
  },
  {
   "cell_type": "code",
   "execution_count": 3,
   "metadata": {},
   "outputs": [],
   "source": [
    "vals = np.arange(0.1,1.1,0.1)"
   ]
  },
  {
   "cell_type": "code",
   "execution_count": 4,
   "metadata": {},
   "outputs": [],
   "source": [
    "data = 2*(vals.reshape((1,-1))*vals.reshape((-1,1)))/(vals.reshape((1,-1))+vals.reshape((-1,1)))"
   ]
  },
  {
   "cell_type": "code",
   "execution_count": 25,
   "metadata": {},
   "outputs": [
    {
     "name": "stdout",
     "output_type": "stream",
     "text": [
      "[0.27374788 0.28762046 0.36350455 0.46956392 0.56142632 0.63320463\n",
      " 0.60298943 0.22238806]\n"
     ]
    }
   ],
   "source": [
    "cds = np.load(\"results/hfc-eval-220422/hfc_AB_w512_tuning_cds.npy\")\n",
    "fps = np.load(\"results/hfc-eval-220422/hfc_AB_w512_tuning_fps.npy\")\n",
    "fns = np.load(\"results/hfc-eval-220422/hfc_AB_w512_tuning_fns.npy\")\n",
    "tns = np.load(\"results/hfc-eval-220422/hfc_AB_w512_tuning_tns.npy\")\n",
    "\n",
    "f = 10*cds.sum(1)/(cds.sum(1)+0.5*fps.sum(1)+0.5*fns.sum(1))\n",
    "p = 10*cds.sum(1)/(cds.sum(1)+fps.sum(1))\n",
    "r = 10*cds.sum(1)/(cds.sum(1)+fns.sum(1))\n",
    "print(f*0.1)"
   ]
  },
  {
   "cell_type": "code",
   "execution_count": 26,
   "metadata": {},
   "outputs": [
    {
     "name": "stdout",
     "output_type": "stream",
     "text": [
      "[7.85793975 6.35141862 6.17874396 6.12880057 6.12147298]\n"
     ]
    }
   ],
   "source": [
    "oet_ps = 10*np.array([0.7857939754555597, 0.6351418616226978, 0.6178743961352657, 0.6128800574575054, 0.6121472979435677])\n",
    "oet_rs = 10*np.array([0.6135307781649245, 0.7409988385598142, 0.7427409988385598, 0.743321718931475, 0.743321718931475])\n",
    "\n",
    "print(oet_ps)"
   ]
  },
  {
   "cell_type": "code",
   "execution_count": 28,
   "metadata": {},
   "outputs": [
    {
     "data": {
      "image/png": "[encoded data removed]",
      "text/plain": [
       "<Figure size 504x504 with 2 Axes>"
      ]
     },
     "metadata": {
      "needs_background": "light"
     },
     "output_type": "display_data"
    },
    {
     "name": "stdout",
     "output_type": "stream",
     "text": [
      "\n"
     ]
    }
   ],
   "source": [
    "import matplotlib.path as mpath\n",
    "import matplotlib.patches as mpatches\n",
    "\n",
    "fig, ax = plt.subplots(figsize=(7,7))\n",
    "sns.heatmap(data=data, cmap=\"coolwarm\", square=True, ax=ax, cbar_kws={'label': 'F-measure'})\n",
    "ax.set_xticklabels( [\"{:.1f}\".format(val) for val in vals])\n",
    "ax.set_yticklabels( [\"{:.1f}\".format(val) for val in vals])\n",
    "ax.invert_yaxis()\n",
    "ax.set_ylabel(\"Recall\")\n",
    "ax.set_xlabel(\"Precision\")\n",
    "\n",
    "Path = mpath.Path\n",
    "pp = mpatches.PathPatch(\n",
    "            Path([(x, y) for x, y in zip(p,r)],\n",
    "            [Path.MOVETO] + [Path.LINETO for x in p][1:]),\n",
    "            edgecolor=\"black\", facecolor='none', linewidth=1)\n",
    "\n",
    "ax.add_patch(pp)\n",
    "pp2 = mpatches.PathPatch(\n",
    "            Path([(x, y) for x, y in zip(oet_ps,oet_rs)],\n",
    "            [Path.MOVETO] + [Path.LINETO for x in oet_ps][1:]),\n",
    "            edgecolor=\"black\", facecolor='none', linewidth=1)\n",
    "\n",
    "ax.add_patch(pp2)\n",
    "#for x, y in zip(p,r):\n",
    "#    ax.add_patch(mpatches.Circle([x,y], radius = 0.1, color = 'r'))\n",
    "ax.scatter(p,r, color=\"k\", marker=\"+\", s=100)\n",
    "ax.scatter(oet_ps, oet_rs, color=\"k\", marker=\"D\", s=50)\n",
    "ax.scatter(8.235, 9.131, color=\"w\", marker=\"*\", s=100)\n",
    "plt.show()\n",
    "\n",
    "print()"
   ]
  },
  {
   "cell_type": "code",
   "execution_count": null,
   "metadata": {},
   "outputs": [],
   "source": []
  }
 ],
 "metadata": {
  "interpreter": {
   "hash": "aee8b7b246df8f9039afb4144a1f6fd8d2ca17a180786b69acc140d282b71a49"
  },
  "kernelspec": {
   "display_name": "Python 3.9.10 64-bit",
   "language": "python",
   "name": "python3"
  },
  "language_info": {
   "codemirror_mode": {
    "name": "ipython",
    "version": 3
   },
   "file_extension": ".py",
   "mimetype": "text/x-python",
   "name": "python",
   "nbconvert_exporter": "python",
   "pygments_lexer": "ipython3",
   "version": "3.9.10"
  },
  "orig_nbformat": 4
 },
 "nbformat": 4,
 "nbformat_minor": 2
}
