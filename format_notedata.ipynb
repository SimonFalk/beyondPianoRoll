{
 "cells": [
  {
   "cell_type": "code",
   "execution_count": 29,
   "metadata": {},
   "outputs": [],
   "source": [
    "# Write note data both as table with note value info\n",
    "# and as list with unique onset times\n",
    "\n",
    "import numpy as np\n",
    "import pandas as pd\n"
   ]
  },
  {
   "cell_type": "code",
   "execution_count": 30,
   "metadata": {},
   "outputs": [],
   "source": [
    "NOTES = ['C', 'C#', 'D', 'D#', 'E', 'F', 'F#', 'G', 'G#', 'A', 'A#', 'B']\n",
    "OCTAVES = list(range(11))\n",
    "NOTES_IN_OCTAVE = len(NOTES)"
   ]
  },
  {
   "cell_type": "code",
   "execution_count": 31,
   "metadata": {},
   "outputs": [],
   "source": [
    "def number_to_note(number: int) -> tuple:\n",
    "    octave = number // NOTES_IN_OCTAVE\n",
    "    assert octave in OCTAVES, errors['notes']\n",
    "    assert 0 <= number <= 127, errors['notes']\n",
    "    note = NOTES[number % NOTES_IN_OCTAVE]\n",
    "\n",
    "    return note, octave"
   ]
  },
  {
   "cell_type": "code",
   "execution_count": 10,
   "metadata": {},
   "outputs": [],
   "source": [
    "wav_name = \"HahnGiguePartita2.mp3\"\n",
    "path = \"datasets/sturmbach/sturmbach_labels/HahnGiguePartita2.txt\""
   ]
  },
  {
   "cell_type": "code",
   "execution_count": 22,
   "metadata": {},
   "outputs": [],
   "source": [
    "with open(path) as file:\n",
    "    sc_data = file.readlines()"
   ]
  },
  {
   "cell_type": "code",
   "execution_count": 23,
   "metadata": {},
   "outputs": [],
   "source": [
    "sc_data = [line.strip().split(\"\\t\") for line in sc_data]\n",
    "sc_data = [(float(e1), float(e2), int(e3)) for e1, e2, e3 in sc_data]\n",
    "\n",
    "sc_onsets = [row[0] for row in sc_data]\n",
    "sc_offsets = [row[1] for row in sc_data]\n",
    "sc_pitches = [row[2] for row in sc_data]\n",
    "sc_notes = [number_to_note(pitch)[0] for pitch in sc_pitches]\n",
    "sc_octaves = [number_to_note(pitch)[1] for pitch in sc_pitches]"
   ]
  },
  {
   "cell_type": "code",
   "execution_count": 27,
   "metadata": {},
   "outputs": [],
   "source": [
    "df1 = pd.DataFrame({\"onset\":sc_onsets, \"offset\":sc_offsets, \"pitch\": sc_pitches, \"note\": sc_notes, \"octave\": sc_octaves})"
   ]
  },
  {
   "cell_type": "code",
   "execution_count": 28,
   "metadata": {},
   "outputs": [],
   "source": [
    "df1.to_csv(path[:-4] + \".midi.csv\", index=False)"
   ]
  },
  {
   "cell_type": "code",
   "execution_count": 18,
   "metadata": {},
   "outputs": [],
   "source": [
    "sc_unique_onsets = np.unique(sc_onsets)\n",
    "df2 = pd.DataFrame({\"onset\":sc_unique_onsets})\n",
    "df2.to_csv(path[:-4] + \".onsets\", index=False, header=False)"
   ]
  },
  {
   "cell_type": "code",
   "execution_count": null,
   "metadata": {},
   "outputs": [],
   "source": []
  }
 ],
 "metadata": {
  "kernelspec": {
   "display_name": "flow",
   "language": "python",
   "name": "flow"
  },
  "language_info": {
   "codemirror_mode": {
    "name": "ipython",
    "version": 3
   },
   "file_extension": ".py",
   "mimetype": "text/x-python",
   "name": "python",
   "nbconvert_exporter": "python",
   "pygments_lexer": "ipython3",
   "version": "3.8.10"
  },
  "orig_nbformat": 4,
  "vscode": {
   "interpreter": {
    "hash": "36cf16204b8548560b1c020c4e8fb5b57f0e4c58016f52f2d4be01e192833930"
   }
  }
 },
 "nbformat": 4,
 "nbformat_minor": 2
}
