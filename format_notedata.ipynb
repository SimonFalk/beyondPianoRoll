{
 "cells": [
  {
   "cell_type": "code",
   "execution_count": 1,
   "metadata": {},
   "outputs": [],
   "source": [
    "# Write note data both as table with note value info\n",
    "# and as list with unique onset times\n",
    "\n",
    "import numpy as np\n",
    "import pandas as pd\n"
   ]
  },
  {
   "cell_type": "code",
   "execution_count": 2,
   "metadata": {},
   "outputs": [],
   "source": [
    "NOTES = ['C', 'C#', 'D', 'D#', 'E', 'F', 'F#', 'G', 'G#', 'A', 'A#', 'B']\n",
    "OCTAVES = list(range(11))\n",
    "NOTES_IN_OCTAVE = len(NOTES)"
   ]
  },
  {
   "cell_type": "code",
   "execution_count": 3,
   "metadata": {},
   "outputs": [],
   "source": [
    "def number_to_note(number: int) -> tuple:\n",
    "    octave = number // NOTES_IN_OCTAVE\n",
    "    assert octave in OCTAVES, errors['notes']\n",
    "    assert 0 <= number <= 127, errors['notes']\n",
    "    note = NOTES[number % NOTES_IN_OCTAVE]\n",
    "\n",
    "    return note, octave"
   ]
  },
  {
   "cell_type": "code",
   "execution_count": 4,
   "metadata": {},
   "outputs": [],
   "source": [
    "wav_name = \"HahnGiguePartita2.mp3\"\n",
    "path = \"datasets/extra/\""
   ]
  },
  {
   "cell_type": "code",
   "execution_count": 5,
   "metadata": {},
   "outputs": [
    {
     "ename": "FileNotFoundError",
     "evalue": "[Errno 2] No such file or directory: 'datasets/extra/HahnGiguePartita2.mp3.scld.txt'",
     "output_type": "error",
     "traceback": [
      "\u001b[0;31m---------------------------------------------------------------------------\u001b[0m",
      "\u001b[0;31mFileNotFoundError\u001b[0m                         Traceback (most recent call last)",
      "\u001b[1;32m/home/simonf/beyondPianoRoll/format_notedata.ipynb Cell 5\u001b[0m in \u001b[0;36m<cell line: 1>\u001b[0;34m()\u001b[0m\n\u001b[0;32m----> <a href='vscode-notebook-cell://ssh-remote%2B130.237.67.120/home/simonf/beyondPianoRoll/format_notedata.ipynb#W4sdnNjb2RlLXJlbW90ZQ%3D%3D?line=0'>1</a>\u001b[0m \u001b[39mwith\u001b[39;00m \u001b[39mopen\u001b[39;49m(path \u001b[39m+\u001b[39;49m wav_name \u001b[39m+\u001b[39;49m \u001b[39m\"\u001b[39;49m\u001b[39m.scld.txt\u001b[39;49m\u001b[39m\"\u001b[39;49m) \u001b[39mas\u001b[39;00m file:\n\u001b[1;32m      <a href='vscode-notebook-cell://ssh-remote%2B130.237.67.120/home/simonf/beyondPianoRoll/format_notedata.ipynb#W4sdnNjb2RlLXJlbW90ZQ%3D%3D?line=1'>2</a>\u001b[0m     sc_data \u001b[39m=\u001b[39m file\u001b[39m.\u001b[39mreadlines()\n\u001b[1;32m      <a href='vscode-notebook-cell://ssh-remote%2B130.237.67.120/home/simonf/beyondPianoRoll/format_notedata.ipynb#W4sdnNjb2RlLXJlbW90ZQ%3D%3D?line=2'>3</a>\u001b[0m sc_data \u001b[39m=\u001b[39m [line\u001b[39m.\u001b[39mstrip()\u001b[39m.\u001b[39msplit(\u001b[39m\"\u001b[39m\u001b[39m\\t\u001b[39;00m\u001b[39m\"\u001b[39m) \u001b[39mfor\u001b[39;00m line \u001b[39min\u001b[39;00m sc_data[\u001b[39m0\u001b[39m::\u001b[39m2\u001b[39m]]\n",
      "\u001b[0;31mFileNotFoundError\u001b[0m: [Errno 2] No such file or directory: 'datasets/extra/HahnGiguePartita2.mp3.scld.txt'"
     ]
    }
   ],
   "source": [
    "with open(path + wav_name + \".scld.txt\") as file:\n",
    "    sc_data = file.readlines()\n",
    "sc_data = [line.strip().split(\"\\t\") for line in sc_data[0::2]]\n",
    "sc_data = [(float(e1), float(e2), int(e3)) for e1, e2, e3 in sc_data]\n",
    "\n",
    "sc_onsets = [row[0] for row in sc_data]\n",
    "sc_offsets = [row[1] for row in sc_data]\n",
    "sc_pitches = [row[2] for row in sc_data]\n",
    "sc_notes = [number_to_note(pitch)[0] for pitch in sc_pitches]\n",
    "sc_octaves = [number_to_note(pitch)[1] for pitch in sc_pitches]"
   ]
  },
  {
   "cell_type": "code",
   "execution_count": 17,
   "metadata": {},
   "outputs": [],
   "source": [
    "df1 = pd.DataFrame({\"onset\":sc_onsets, \"offset\":sc_offsets, \"pitch\": sc_pitches, \"note\": sc_notes, \"octave\": sc_octaves})\n",
    "df1.to_csv(path + wav_name.split(\".\")[0] + \".midi.csv\", index=False)"
   ]
  },
  {
   "cell_type": "code",
   "execution_count": 18,
   "metadata": {},
   "outputs": [],
   "source": [
    "sc_unique_onsets = np.unique(sc_onsets)\n",
    "df2 = pd.DataFrame({\"onset\":sc_unique_onsets})\n",
    "df2.to_csv(path + wav_name.split(\".\")[0] + \".onsets\", index=False, header=False)"
   ]
  },
  {
   "cell_type": "code",
   "execution_count": null,
   "metadata": {},
   "outputs": [],
   "source": []
  }
 ],
 "metadata": {
  "kernelspec": {
   "display_name": "flow",
   "language": "python",
   "name": "flow"
  },
  "language_info": {
   "codemirror_mode": {
    "name": "ipython",
    "version": 3
   },
   "file_extension": ".py",
   "mimetype": "text/x-python",
   "name": "python",
   "nbconvert_exporter": "python",
   "pygments_lexer": "ipython3",
   "version": "3.8.10"
  },
  "orig_nbformat": 4,
  "vscode": {
   "interpreter": {
    "hash": "36cf16204b8548560b1c020c4e8fb5b57f0e4c58016f52f2d4be01e192833930"
   }
  }
 },
 "nbformat": 4,
 "nbformat_minor": 2
}
