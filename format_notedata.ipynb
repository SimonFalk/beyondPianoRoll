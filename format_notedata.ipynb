{
 "cells": [
  {
   "cell_type": "code",
   "execution_count": 6,
   "metadata": {},
   "outputs": [],
   "source": [
    "# Write note data both as table with note value info\n",
    "# and as list with unique onset times\n",
    "\n",
    "import numpy as np\n",
    "import pandas as pd\n"
   ]
  },
  {
   "cell_type": "code",
   "execution_count": 2,
   "metadata": {},
   "outputs": [],
   "source": [
    "NOTES = ['C', 'C#', 'D', 'D#', 'E', 'F', 'F#', 'G', 'G#', 'A', 'A#', 'B']\n",
    "OCTAVES = list(range(11))\n",
    "NOTES_IN_OCTAVE = len(NOTES)"
   ]
  },
  {
   "cell_type": "code",
   "execution_count": 3,
   "metadata": {},
   "outputs": [],
   "source": [
    "def number_to_note(number: int) -> tuple:\n",
    "    octave = number // NOTES_IN_OCTAVE\n",
    "    assert octave in OCTAVES, errors['notes']\n",
    "    assert 0 <= number <= 127, errors['notes']\n",
    "    note = NOTES[number % NOTES_IN_OCTAVE]\n",
    "\n",
    "    return note, octave"
   ]
  },
  {
   "cell_type": "code",
   "execution_count": 15,
   "metadata": {},
   "outputs": [],
   "source": [
    "wav_name = \"slurtest09_IR1.wav\"\n",
    "path = \"datasets/slurtest_add/sc_onsets/\""
   ]
  },
  {
   "cell_type": "code",
   "execution_count": 16,
   "metadata": {},
   "outputs": [],
   "source": [
    "with open(path + wav_name + \".scld.txt\") as file:\n",
    "    sc_data = file.readlines()\n",
    "sc_data = [line.strip().split(\"\\t\") for line in sc_data[0::2]]\n",
    "sc_data = [(float(e1), float(e2), int(e3)) for e1, e2, e3 in sc_data]\n",
    "\n",
    "sc_onsets = [row[0] for row in sc_data]\n",
    "sc_offsets = [row[1] for row in sc_data]\n",
    "sc_pitches = [row[2] for row in sc_data]\n",
    "sc_notes = [number_to_note(pitch)[0] for pitch in sc_pitches]\n",
    "sc_octaves = [number_to_note(pitch)[1] for pitch in sc_pitches]"
   ]
  },
  {
   "cell_type": "code",
   "execution_count": 17,
   "metadata": {},
   "outputs": [],
   "source": [
    "df1 = pd.DataFrame({\"onset\":sc_onsets, \"offset\":sc_offsets, \"pitch\": sc_pitches, \"note\": sc_notes, \"octave\": sc_octaves})\n",
    "df1.to_csv(path + wav_name.split(\".\")[0] + \".midi.csv\", index=False)"
   ]
  },
  {
   "cell_type": "code",
   "execution_count": 18,
   "metadata": {},
   "outputs": [],
   "source": [
    "sc_unique_onsets = np.unique(sc_onsets)\n",
    "df2 = pd.DataFrame({\"onset\":sc_unique_onsets})\n",
    "df2.to_csv(path + wav_name.split(\".\")[0] + \".onsets\", index=False, header=False)"
   ]
  },
  {
   "cell_type": "code",
   "execution_count": null,
   "metadata": {},
   "outputs": [],
   "source": []
  }
 ],
 "metadata": {
  "kernelspec": {
   "display_name": "Python 3.9.10 64-bit",
   "language": "python",
   "name": "python3"
  },
  "language_info": {
   "codemirror_mode": {
    "name": "ipython",
    "version": 3
   },
   "file_extension": ".py",
   "mimetype": "text/x-python",
   "name": "python",
   "nbconvert_exporter": "python",
   "pygments_lexer": "ipython3",
   "version": "3.9.10"
  },
  "orig_nbformat": 4,
  "vscode": {
   "interpreter": {
    "hash": "aee8b7b246df8f9039afb4144a1f6fd8d2ca17a180786b69acc140d282b71a49"
   }
  }
 },
 "nbformat": 4,
 "nbformat_minor": 2
}
