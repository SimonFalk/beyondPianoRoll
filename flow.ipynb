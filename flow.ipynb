{
 "cells": [
  {
   "cell_type": "code",
   "execution_count": 11,
   "id": "b0f89d5a",
   "metadata": {},
   "outputs": [
    {
     "name": "stdout",
     "output_type": "stream",
     "text": [
      "The autoreload extension is already loaded. To reload it, use:\n",
      "  %reload_ext autoreload\n"
     ]
    }
   ],
   "source": [
    "import os\n",
    "import pickle\n",
    "import datetime\n",
    "\n",
    "import numpy as np\n",
    "from numpy import genfromtxt\n",
    "import matplotlib.pyplot as plt\n",
    "\n",
    "import tensorflow as tf\n",
    "import madmom\n",
    "\n",
    "from segment import segment_spectrogram\n",
    "from modules.labels import get_label_vector\n",
    "from modules.madmom_cnn_prep import cnn_preprocessor\n",
    "from datasets import Dataset\n",
    "from analyze_detection import evaluate, f_score\n",
    "from models.bock2013pret import get_model\n",
    "\n",
    "%load_ext autoreload\n",
    "%autoreload 2\n",
    "\n",
    "SR = 44100\n",
    "HOP = 441\n",
    "CONTEXT = 7\n"
   ]
  },
  {
   "cell_type": "code",
   "execution_count": 3,
   "id": "d5efad60",
   "metadata": {},
   "outputs": [],
   "source": [
    "# Load Madmom normalization\n",
    "def cnn_normalize(frames):\n",
    "    inv_std = np.load(\"models/bock2013pret_inv_std.npy\")\n",
    "    mean = np.load(\"models/bock2013pret_mean.npy\")\n",
    "    frames_normalized = (frames - np.reshape(mean, (1,80,3)))*np.reshape(inv_std, (1,80,3))\n",
    "    return frames_normalized\n",
    "    \n",
    "# Load preprocessing funciton\n",
    "preprocessor = cnn_preprocessor()\n",
    "box_processor = madmom.features.onsets.CNNOnsetProcessor()"
   ]
  },
  {
   "cell_type": "code",
   "execution_count": 4,
   "id": "29ac37ea",
   "metadata": {},
   "outputs": [
    {
     "name": "stdout",
     "output_type": "stream",
     "text": [
      "Dataset created\n",
      "Found 19 audio files and 0 annotation files.\n"
     ]
    },
    {
     "name": "stderr",
     "output_type": "stream",
     "text": [
      "/usr/local/lib/python3.9/site-packages/madmom/audio/signal.py:457: UserWarning: Deprecated as of version 0.16. Please use madmom.io.audio.load_wave_file instead. Will be removed in version 0.18.\n",
      "  warnings.warn('Deprecated as of version 0.16. Please use madmom.io.audio.'\n",
      "/usr/local/lib/python3.9/site-packages/madmom/io/audio.py:493: WavFileWarning: Chunk (non-data) not understood, skipping it.\n",
      "  file_sample_rate, signal = wavfile.read(filename, mmap=True)\n"
     ]
    }
   ],
   "source": [
    "ds = Dataset(\"initslurtest\")\n",
    "audio_fnames = ds.get_audio_paths()\n",
    "label_fnames = ds.get_annotation_paths()\n",
    "\n",
    "audios = [madmom.audio.signal.load_wave_file(filename)[0] for filename in audio_fnames]\n",
    "sample_rates = [madmom.audio.signal.load_wave_file(filename)[1] for filename in audio_fnames]\n",
    "onset_schedules = [genfromtxt(label_fname, delimiter=',') for label_fname in label_fnames]\n",
    "for ele in sample_rates:\n",
    "    if ele != SR:\n",
    "        print(\"Some sample rates are not equal to 44.1kHz!\")\n"
   ]
  },
  {
   "cell_type": "code",
   "execution_count": null,
   "id": "41a06a39",
   "metadata": {},
   "outputs": [],
   "source": [
    "[print(\"Name of rec: {}\\n\"\n",
    "       \"Len in seconds: {:.2f}\\n\"\n",
    "       \"Shape of audio: {}\\n\"\n",
    "       \"Shape of onset schedule: {}\\n\"\n",
    "       \"Onsets from {:.2f}s to {:.2f}s\\n\".format(\n",
    "                                        os.path.split(fname)[1], \n",
    "                                        audio.shape[0]/44100,\n",
    "                                        audio.shape,\n",
    "                                        schedule.shape,\n",
    "                                        schedule.min(),\n",
    "                                        schedule.max(),\n",
    "                                        ) \n",
    "    ) for fname, audio, schedule in zip(audio_fnames, audios, onset_schedules)\n",
    "]"
   ]
  },
  {
   "cell_type": "code",
   "execution_count": null,
   "id": "df3577bc",
   "metadata": {},
   "outputs": [],
   "source": [
    "# Add white noise to recordings\n",
    "# Noise variance is adjusted to a fixed Signal Noise Ratio computed recording-wise\n",
    "# snr_db = 20 means S/N=10\n",
    "# snr_db = 10 means S/N≈3.2\n",
    "SNR_DB = 10\n",
    "snr_v = 10**(SNR_DB/20)\n",
    "\n",
    "def augmentation(audio, t=None, p=None):\n",
    "    if t==None:\n",
    "        return audio\n",
    "    elif t==\"white_noise\":\n",
    "        # p contains snr_db parameter\n",
    "        return audio+np.random.normal(\n",
    "            scale=np.mean(rms(y=audio))/(10**(p/20)),\n",
    "            size=audio.shape\n",
    "            )\n",
    "\n",
    "noisy_audios = [augmentation(audio, t=\"white_noise\", p=SNR_DB) for audio in audios]\n",
    "fig, axs = plt.subplots(2,1)\n",
    "axs[0].plot(audios[0][:100000])\n",
    "axs[1].plot(noisy_audios[0][:100000])"
   ]
  },
  {
   "cell_type": "code",
   "execution_count": 5,
   "id": "78d4d97e",
   "metadata": {},
   "outputs": [
    {
     "name": "stdout",
     "output_type": "stream",
     "text": [
      "(1697,)\n"
     ]
    }
   ],
   "source": [
    "onset_vectors = [get_label_vector(sched, len(audio)/SR, HOP, SR)\n",
    "    for (sched, audio) in zip(onset_schedules, audios)\n",
    "]\n",
    "print(onset_vectors[0].shape)"
   ]
  },
  {
   "cell_type": "code",
   "execution_count": 6,
   "id": "9d6656f4",
   "metadata": {},
   "outputs": [
    {
     "name": "stdout",
     "output_type": "stream",
     "text": [
      "(1711, 80, 3)\n",
      "(1697, 80, 15, 3)\n"
     ]
    }
   ],
   "source": [
    "# Create data and normalize\n",
    "mm_proc_frames = [preprocessor(fname) for fname in audio_fnames]\n",
    "mm_frames_normalized = [cnn_normalize(frame_set) for frame_set in mm_proc_frames]\n",
    "print(mm_frames_normalized[0].shape)\n",
    "X = [[\n",
    "    data[i-CONTEXT:i+CONTEXT+1,:,:] \n",
    "    for i in range(CONTEXT, data.shape[0]-CONTEXT)\n",
    "] for data in mm_frames_normalized]\n",
    "X = [np.transpose(np.stack(data, 0), [0,2,1,3]) for data in X]\n",
    "print(X[0].shape)"
   ]
  },
  {
   "cell_type": "code",
   "execution_count": 7,
   "id": "5783cde5",
   "metadata": {},
   "outputs": [
    {
     "name": "stdout",
     "output_type": "stream",
     "text": [
      "[array([ 0, 15, 13,  8, 14,  4,  7,  9,  6, 10, 17, 18,  2]), array([11, 16,  1,  3]), array([12,  5])]\n"
     ]
    }
   ],
   "source": [
    "# Single split:\n",
    "\n",
    "from sklearn.model_selection import train_test_split\n",
    "random_seed = 119\n",
    "test = 0.1\n",
    "validation = 0.2\n",
    "training = 0.7\n",
    "train_idx, test_val_idx = train_test_split(np.arange(len(audio_fnames)), test_size=test+validation, random_state=random_seed)\n",
    "val_idx, test_idx = train_test_split(test_val_idx, test_size=test/(test+validation), random_state=random_seed)\n",
    "idx_split = [train_idx, val_idx, test_idx]\n",
    "print(idx_split)\n",
    "\n",
    "# Divide\n",
    "X_train, X_val, X_test = [\n",
    "    np.concatenate([X[i] for i in idx]) \n",
    "    for idx in idx_split\n",
    "]\n",
    "y_train, y_val, y_test = [\n",
    "    np.concatenate([onset_vectors[i] for i in idx]) \n",
    "    for idx in idx_split\n",
    "]\n",
    "\n",
    "train_onset_ratio = y_train.sum()/len(y_train)\n",
    "\n",
    "# Normalize\n",
    "center_frames_train = X_train[:,:,7,:]\n",
    "mean_train = center_frames_train.mean(0).reshape((1,80,1,3))\n",
    "std_train = center_frames_train.std(0, ddof=1).reshape((1,80,1,3))\n",
    "\n",
    "X_train = (X_train - mean_train)/std_train\n",
    "X_val = (X_val - mean_train)/std_train\n",
    "X_test = (X_test - mean_train)/std_train"
   ]
  },
  {
   "cell_type": "code",
   "execution_count": 16,
   "id": "bcc4b361",
   "metadata": {},
   "outputs": [
    {
     "name": "stdout",
     "output_type": "stream",
     "text": [
      "Train:  [ 0  1  2  4  5  7  8  9 11 12 13 14 16 17 18] Test:  [ 3  6 10 15]\n",
      "Train:  [ 0  1  3  5  6  7  8  9 10 11 12 13 15 17 18] Test:  [ 2  4 14 16]\n",
      "Train:  [ 2  3  4  5  6  8  9 10 11 12 14 15 16 17 18] Test:  [ 0  1  7 13]\n",
      "Train:  [ 0  1  2  3  4  5  6  7 10 11 12 13 14 15 16] Test:  [ 8  9 17 18]\n",
      "Train:  [ 0  1  2  3  4  6  7  8  9 10 13 14 15 16 17 18] Test:  [ 5 11 12]\n"
     ]
    }
   ],
   "source": [
    "# K-Fold:\n",
    "\n",
    "from sklearn.model_selection import KFold\n",
    "random_seed = 119\n",
    "n_splits =  5\n",
    "kf = KFold(n_splits=n_splits, shuffle=True, random_state=True)\n",
    "kf_gen = kf.split(np.arange(len(audio_fnames)))\n",
    "for train_index, test_index in kf_gen:\n",
    "    print(\"Train: \", train_index, \"Test: \", test_index)\n",
    "kf_gen = kf.split(np.arange(len(audio_fnames)))\n"
   ]
  },
  {
   "cell_type": "code",
   "execution_count": 12,
   "id": "47c79011",
   "metadata": {},
   "outputs": [
    {
     "name": "stderr",
     "output_type": "stream",
     "text": [
      "2022-03-31 16:31:25.385869: I tensorflow/core/platform/cpu_feature_guard.cc:151] This TensorFlow binary is optimized with oneAPI Deep Neural Network Library (oneDNN) to use the following CPU instructions in performance-critical operations:  AVX2 FMA\n",
      "To enable them in other operations, rebuild TensorFlow with the appropriate compiler flags.\n"
     ]
    }
   ],
   "source": [
    "from modules.metrics import f1\n",
    "loss_fn = tf.keras.losses.BinaryCrossentropy(from_logits=False)\n",
    "optimizer = tf.keras.optimizers.Adam()\n",
    "metrics = [\n",
    "    tf.keras.metrics.TruePositives(name='tp', thresholds=0.5),\n",
    "    tf.keras.metrics.TrueNegatives(name='tn', thresholds=0.5),\n",
    "    tf.keras.metrics.FalsePositives(name='fp', thresholds=0.5),\n",
    "    tf.keras.metrics.FalseNegatives(name='fn', thresholds=0.5),\n",
    "]\n"
   ]
  },
  {
   "cell_type": "code",
   "execution_count": 17,
   "id": "83087052",
   "metadata": {},
   "outputs": [
    {
     "name": "stdout",
     "output_type": "stream",
     "text": [
      "\n",
      "Fold 0/5 ---------\n",
      "Train indices:  [ 0  1  2  4  5  7  8  9 11 12 13 14 16 17 18]\n",
      "Test indices:  [ 3  6 10 15]\n",
      "Onset ratio training set:  0.025734086863344913\n",
      "Onset ratio test set:  0.04128089105464671\n",
      "\n",
      "Epoch 1/40\n",
      "227/227 [==============================] - 167s 695ms/step - loss: 0.9689 - tp: 1233.0000 - tn: 45357.0000 - fp: 11015.0000 - fn: 256.0000 - val_loss: 0.3632 - val_tp: 508.0000 - val_tn: 11395.0000 - val_fp: 2377.0000 - val_fn: 85.0000\n",
      "Epoch 2/40\n",
      "227/227 [==============================] - 188s 828ms/step - loss: 0.6999 - tp: 1320.0000 - tn: 47409.0000 - fp: 8963.0000 - fn: 169.0000 - val_loss: 0.4588 - val_tp: 552.0000 - val_tn: 10741.0000 - val_fp: 3031.0000 - val_fn: 41.0000\n",
      "Epoch 3/40\n",
      "227/227 [==============================] - 118s 520ms/step - loss: 0.6317 - tp: 1335.0000 - tn: 48079.0000 - fp: 8293.0000 - fn: 154.0000 - val_loss: 0.4472 - val_tp: 545.0000 - val_tn: 11009.0000 - val_fp: 2763.0000 - val_fn: 48.0000\n",
      "Epoch 4/40\n",
      "227/227 [==============================] - 116s 512ms/step - loss: 0.5983 - tp: 1347.0000 - tn: 48638.0000 - fp: 7734.0000 - fn: 142.0000 - val_loss: 0.4308 - val_tp: 553.0000 - val_tn: 10967.0000 - val_fp: 2805.0000 - val_fn: 40.0000\n",
      "Epoch 5/40\n",
      "227/227 [==============================] - 106s 466ms/step - loss: 0.5911 - tp: 1340.0000 - tn: 48634.0000 - fp: 7738.0000 - fn: 149.0000 - val_loss: 0.3656 - val_tp: 535.0000 - val_tn: 11513.0000 - val_fp: 2259.0000 - val_fn: 58.0000\n",
      "Epoch 6/40\n",
      "227/227 [==============================] - 97s 430ms/step - loss: 0.5774 - tp: 1347.0000 - tn: 48840.0000 - fp: 7532.0000 - fn: 142.0000 - val_loss: 0.3854 - val_tp: 547.0000 - val_tn: 11334.0000 - val_fp: 2438.0000 - val_fn: 46.0000\n",
      "Epoch 7/40\n",
      "227/227 [==============================] - 96s 423ms/step - loss: 0.5463 - tp: 1359.0000 - tn: 49322.0000 - fp: 7050.0000 - fn: 130.0000 - val_loss: 0.3907 - val_tp: 548.0000 - val_tn: 11230.0000 - val_fp: 2542.0000 - val_fn: 45.0000\n",
      "Epoch 8/40\n",
      "227/227 [==============================] - 102s 449ms/step - loss: 0.5359 - tp: 1364.0000 - tn: 49248.0000 - fp: 7124.0000 - fn: 125.0000 - val_loss: 0.4056 - val_tp: 549.0000 - val_tn: 11232.0000 - val_fp: 2540.0000 - val_fn: 44.0000\n",
      "Epoch 9/40\n",
      "227/227 [==============================] - 115s 505ms/step - loss: 0.5097 - tp: 1375.0000 - tn: 49635.0000 - fp: 6737.0000 - fn: 114.0000 - val_loss: 0.3083 - val_tp: 524.0000 - val_tn: 11891.0000 - val_fp: 1881.0000 - val_fn: 69.0000\n",
      "Epoch 10/40\n",
      "227/227 [==============================] - 106s 465ms/step - loss: 0.4882 - tp: 1383.0000 - tn: 49777.0000 - fp: 6595.0000 - fn: 106.0000 - val_loss: 0.3471 - val_tp: 531.0000 - val_tn: 11701.0000 - val_fp: 2071.0000 - val_fn: 62.0000\n",
      "Epoch 11/40\n",
      "227/227 [==============================] - 97s 428ms/step - loss: 0.4792 - tp: 1382.0000 - tn: 49852.0000 - fp: 6520.0000 - fn: 107.0000 - val_loss: 0.3438 - val_tp: 536.0000 - val_tn: 11631.0000 - val_fp: 2141.0000 - val_fn: 57.0000\n",
      "Epoch 12/40\n",
      "227/227 [==============================] - 107s 469ms/step - loss: 0.4688 - tp: 1386.0000 - tn: 50020.0000 - fp: 6352.0000 - fn: 103.0000 - val_loss: 0.3707 - val_tp: 545.0000 - val_tn: 11502.0000 - val_fp: 2270.0000 - val_fn: 48.0000\n",
      "Epoch 13/40\n",
      "227/227 [==============================] - 120s 529ms/step - loss: 0.4654 - tp: 1393.0000 - tn: 50114.0000 - fp: 6258.0000 - fn: 96.0000 - val_loss: 0.3483 - val_tp: 539.0000 - val_tn: 11674.0000 - val_fp: 2098.0000 - val_fn: 54.0000\n",
      "Epoch 14/40\n",
      "227/227 [==============================] - 100s 441ms/step - loss: 0.4491 - tp: 1387.0000 - tn: 50236.0000 - fp: 6136.0000 - fn: 102.0000 - val_loss: 0.3625 - val_tp: 536.0000 - val_tn: 11599.0000 - val_fp: 2173.0000 - val_fn: 57.0000\n",
      "Epoch 15/40\n",
      "227/227 [==============================] - 104s 457ms/step - loss: 0.4531 - tp: 1390.0000 - tn: 50189.0000 - fp: 6183.0000 - fn: 99.0000 - val_loss: 0.3594 - val_tp: 537.0000 - val_tn: 11631.0000 - val_fp: 2141.0000 - val_fn: 56.0000\n",
      "Epoch 16/40\n",
      "227/227 [==============================] - 101s 445ms/step - loss: 0.4366 - tp: 1398.0000 - tn: 50330.0000 - fp: 6042.0000 - fn: 91.0000 - val_loss: 0.3529 - val_tp: 538.0000 - val_tn: 11681.0000 - val_fp: 2091.0000 - val_fn: 55.0000\n",
      "Epoch 17/40\n",
      "227/227 [==============================] - 114s 500ms/step - loss: 0.4198 - tp: 1404.0000 - tn: 50478.0000 - fp: 5894.0000 - fn: 85.0000 - val_loss: 0.3383 - val_tp: 539.0000 - val_tn: 11677.0000 - val_fp: 2095.0000 - val_fn: 54.0000\n",
      "Epoch 18/40\n",
      "227/227 [==============================] - 104s 457ms/step - loss: 0.4189 - tp: 1409.0000 - tn: 50499.0000 - fp: 5873.0000 - fn: 80.0000 - val_loss: 0.3933 - val_tp: 554.0000 - val_tn: 11337.0000 - val_fp: 2435.0000 - val_fn: 39.0000\n",
      "Epoch 19/40\n",
      "227/227 [==============================] - 101s 440ms/step - loss: 0.4046 - tp: 1409.0000 - tn: 50535.0000 - fp: 5837.0000 - fn: 80.0000 - val_loss: 0.3572 - val_tp: 540.0000 - val_tn: 11675.0000 - val_fp: 2097.0000 - val_fn: 53.0000\n",
      "Epoch 20/40\n",
      "227/227 [==============================] - 96s 421ms/step - loss: 0.4064 - tp: 1416.0000 - tn: 50542.0000 - fp: 5830.0000 - fn: 73.0000 - val_loss: 0.3150 - val_tp: 528.0000 - val_tn: 11862.0000 - val_fp: 1910.0000 - val_fn: 65.0000\n",
      "Epoch 21/40\n",
      "227/227 [==============================] - 105s 461ms/step - loss: 0.4052 - tp: 1425.0000 - tn: 50465.0000 - fp: 5907.0000 - fn: 64.0000 - val_loss: 0.3105 - val_tp: 529.0000 - val_tn: 11923.0000 - val_fp: 1849.0000 - val_fn: 64.0000\n",
      "Epoch 22/40\n",
      "227/227 [==============================] - 100s 439ms/step - loss: 0.3959 - tp: 1423.0000 - tn: 50618.0000 - fp: 5754.0000 - fn: 66.0000 - val_loss: 0.3063 - val_tp: 526.0000 - val_tn: 11930.0000 - val_fp: 1842.0000 - val_fn: 67.0000\n",
      "Epoch 23/40\n",
      "227/227 [==============================] - 104s 458ms/step - loss: 0.4080 - tp: 1410.0000 - tn: 50613.0000 - fp: 5759.0000 - fn: 79.0000 - val_loss: 0.3949 - val_tp: 552.0000 - val_tn: 11343.0000 - val_fp: 2429.0000 - val_fn: 41.0000\n",
      "Epoch 24/40\n",
      "227/227 [==============================] - 107s 472ms/step - loss: 0.3747 - tp: 1436.0000 - tn: 50760.0000 - fp: 5612.0000 - fn: 53.0000 - val_loss: 0.3063 - val_tp: 530.0000 - val_tn: 11965.0000 - val_fp: 1807.0000 - val_fn: 63.0000\n",
      "Epoch 25/40\n",
      "227/227 [==============================] - 104s 457ms/step - loss: 0.3785 - tp: 1422.0000 - tn: 51035.0000 - fp: 5337.0000 - fn: 67.0000 - val_loss: 0.3211 - val_tp: 533.0000 - val_tn: 11854.0000 - val_fp: 1918.0000 - val_fn: 60.0000\n",
      "Epoch 26/40\n",
      "227/227 [==============================] - 94s 412ms/step - loss: 0.3744 - tp: 1419.0000 - tn: 51023.0000 - fp: 5349.0000 - fn: 70.0000 - val_loss: 0.3414 - val_tp: 534.0000 - val_tn: 11770.0000 - val_fp: 2002.0000 - val_fn: 59.0000\n",
      "Epoch 27/40\n",
      "227/227 [==============================] - 96s 423ms/step - loss: 0.3927 - tp: 1425.0000 - tn: 50814.0000 - fp: 5558.0000 - fn: 64.0000 - val_loss: 0.3191 - val_tp: 533.0000 - val_tn: 11880.0000 - val_fp: 1892.0000 - val_fn: 60.0000\n",
      "Epoch 28/40\n",
      "227/227 [==============================] - 98s 428ms/step - loss: 0.3587 - tp: 1423.0000 - tn: 51207.0000 - fp: 5165.0000 - fn: 66.0000 - val_loss: 0.3273 - val_tp: 531.0000 - val_tn: 11826.0000 - val_fp: 1946.0000 - val_fn: 62.0000\n",
      "Epoch 29/40\n",
      "227/227 [==============================] - 91s 402ms/step - loss: 0.3534 - tp: 1436.0000 - tn: 51267.0000 - fp: 5105.0000 - fn: 53.0000 - val_loss: 0.3057 - val_tp: 522.0000 - val_tn: 11941.0000 - val_fp: 1831.0000 - val_fn: 71.0000\n",
      "Epoch 30/40\n",
      "227/227 [==============================] - 91s 399ms/step - loss: 0.3441 - tp: 1448.0000 - tn: 51165.0000 - fp: 5207.0000 - fn: 41.0000 - val_loss: 0.2869 - val_tp: 520.0000 - val_tn: 12058.0000 - val_fp: 1714.0000 - val_fn: 73.0000\n",
      "Epoch 31/40\n",
      "227/227 [==============================] - 99s 434ms/step - loss: 0.3543 - tp: 1435.0000 - tn: 51247.0000 - fp: 5125.0000 - fn: 54.0000 - val_loss: 0.2959 - val_tp: 519.0000 - val_tn: 12045.0000 - val_fp: 1727.0000 - val_fn: 74.0000\n",
      "Epoch 32/40\n",
      "227/227 [==============================] - 107s 472ms/step - loss: 0.3501 - tp: 1433.0000 - tn: 51379.0000 - fp: 4993.0000 - fn: 56.0000 - val_loss: 0.3125 - val_tp: 530.0000 - val_tn: 11930.0000 - val_fp: 1842.0000 - val_fn: 63.0000\n",
      "Epoch 33/40\n",
      "227/227 [==============================] - 100s 441ms/step - loss: 0.3473 - tp: 1434.0000 - tn: 51226.0000 - fp: 5146.0000 - fn: 55.0000 - val_loss: 0.2750 - val_tp: 514.0000 - val_tn: 12175.0000 - val_fp: 1597.0000 - val_fn: 79.0000\n",
      "Epoch 34/40\n",
      "227/227 [==============================] - 104s 457ms/step - loss: 0.3401 - tp: 1432.0000 - tn: 51429.0000 - fp: 4943.0000 - fn: 57.0000 - val_loss: 0.3071 - val_tp: 528.0000 - val_tn: 11933.0000 - val_fp: 1839.0000 - val_fn: 65.0000\n",
      "Epoch 35/40\n",
      "227/227 [==============================] - 102s 447ms/step - loss: 0.3321 - tp: 1438.0000 - tn: 51524.0000 - fp: 4848.0000 - fn: 51.0000 - val_loss: 0.2987 - val_tp: 518.0000 - val_tn: 12057.0000 - val_fp: 1715.0000 - val_fn: 75.0000\n",
      "Epoch 36/40\n",
      "227/227 [==============================] - 117s 517ms/step - loss: 0.3352 - tp: 1446.0000 - tn: 51470.0000 - fp: 4902.0000 - fn: 43.0000 - val_loss: 0.3061 - val_tp: 517.0000 - val_tn: 12015.0000 - val_fp: 1757.0000 - val_fn: 76.0000\n",
      "Epoch 37/40\n",
      "227/227 [==============================] - 101s 446ms/step - loss: 0.3330 - tp: 1441.0000 - tn: 51474.0000 - fp: 4898.0000 - fn: 48.0000 - val_loss: 0.2757 - val_tp: 518.0000 - val_tn: 12143.0000 - val_fp: 1629.0000 - val_fn: 75.0000\n",
      "Epoch 38/40\n",
      "227/227 [==============================] - 103s 452ms/step - loss: 0.3100 - tp: 1454.0000 - tn: 51870.0000 - fp: 4502.0000 - fn: 35.0000 - val_loss: 0.2956 - val_tp: 515.0000 - val_tn: 12075.0000 - val_fp: 1697.0000 - val_fn: 78.0000\n",
      "Epoch 39/40\n",
      "227/227 [==============================] - 101s 445ms/step - loss: 0.3224 - tp: 1447.0000 - tn: 51669.0000 - fp: 4703.0000 - fn: 42.0000 - val_loss: 0.3120 - val_tp: 526.0000 - val_tn: 12001.0000 - val_fp: 1771.0000 - val_fn: 67.0000\n",
      "Epoch 40/40\n",
      "227/227 [==============================] - 109s 480ms/step - loss: 0.3066 - tp: 1447.0000 - tn: 51849.0000 - fp: 4523.0000 - fn: 42.0000 - val_loss: 0.2800 - val_tp: 515.0000 - val_tn: 12164.0000 - val_fp: 1608.0000 - val_fn: 78.0000\n"
     ]
    },
    {
     "name": "stderr",
     "output_type": "stream",
     "text": [
      "2022-03-31 17:53:03.579548: W tensorflow/python/util/util.cc:368] Sets are not currently considered sequences, but this may change in the future, so consider avoiding using them.\n",
      "WARNING:absl:Found untraced functions such as SpecialActivation_layer_call_fn, SpecialActivation_layer_call_and_return_conditional_losses, SpecialActivation_layer_call_fn, SpecialActivation_layer_call_and_return_conditional_losses while saving (showing 4 of 4). These functions will not be directly callable after loading.\n"
     ]
    },
    {
     "name": "stdout",
     "output_type": "stream",
     "text": [
      "INFO:tensorflow:Assets written to: results/cnn-training-220331/0_fold_finetune-all-dropout_model/assets\n"
     ]
    },
    {
     "name": "stderr",
     "output_type": "stream",
     "text": [
      "INFO:tensorflow:Assets written to: results/cnn-training-220331/0_fold_finetune-all-dropout_model/assets\n"
     ]
    },
    {
     "name": "stdout",
     "output_type": "stream",
     "text": [
      "\n",
      "Fold 1/5 ---------\n",
      "Train indices:  [ 0  1  3  5  6  7  8  9 10 11 12 13 15 17 18]\n",
      "Test indices:  [ 2  4 14 16]\n",
      "Onset ratio training set:  0.030914708360640388\n",
      "Onset ratio test set:  0.02289995218107433\n",
      "\n",
      "Epoch 1/40\n",
      "209/209 [==============================] - 275s 1s/step - loss: 0.9023 - tp: 1889.0000 - tn: 54877.0000 - fp: 10649.0000 - fn: 355.0000 - val_loss: 0.3609 - val_tp: 387.0000 - val_tn: 15468.0000 - val_fp: 2922.0000 - val_fn: 44.0000\n",
      "Epoch 2/40\n",
      "209/209 [==============================] - 220s 1s/step - loss: 0.6483 - tp: 1483.0000 - tn: 43644.0000 - fp: 8110.0000 - fn: 168.0000 - val_loss: 0.3131 - val_tp: 378.0000 - val_tn: 15744.0000 - val_fp: 2646.0000 - val_fn: 53.0000\n",
      "Epoch 3/40\n",
      "209/209 [==============================] - 94s 451ms/step - loss: 0.6146 - tp: 1493.0000 - tn: 44153.0000 - fp: 7601.0000 - fn: 158.0000 - val_loss: 0.3025 - val_tp: 374.0000 - val_tn: 15846.0000 - val_fp: 2544.0000 - val_fn: 57.0000\n",
      "Epoch 4/40\n",
      "209/209 [==============================] - 89s 424ms/step - loss: 0.5873 - tp: 1509.0000 - tn: 44308.0000 - fp: 7446.0000 - fn: 142.0000 - val_loss: 0.2933 - val_tp: 375.0000 - val_tn: 15919.0000 - val_fp: 2471.0000 - val_fn: 56.0000\n",
      "Epoch 5/40\n",
      "209/209 [==============================] - 120s 576ms/step - loss: 0.5500 - tp: 1524.0000 - tn: 44504.0000 - fp: 7250.0000 - fn: 127.0000 - val_loss: 0.2513 - val_tp: 365.0000 - val_tn: 16347.0000 - val_fp: 2043.0000 - val_fn: 66.0000\n",
      "Epoch 6/40\n",
      "209/209 [==============================] - 99s 473ms/step - loss: 0.5454 - tp: 1524.0000 - tn: 44834.0000 - fp: 6920.0000 - fn: 127.0000 - val_loss: 0.3044 - val_tp: 380.0000 - val_tn: 15772.0000 - val_fp: 2618.0000 - val_fn: 51.0000\n",
      "Epoch 7/40\n",
      "209/209 [==============================] - 96s 458ms/step - loss: 0.5295 - tp: 1529.0000 - tn: 44963.0000 - fp: 6791.0000 - fn: 122.0000 - val_loss: 0.3221 - val_tp: 384.0000 - val_tn: 15717.0000 - val_fp: 2673.0000 - val_fn: 47.0000\n",
      "Epoch 8/40\n",
      "209/209 [==============================] - 99s 473ms/step - loss: 0.5274 - tp: 1529.0000 - tn: 44936.0000 - fp: 6818.0000 - fn: 122.0000 - val_loss: 0.2612 - val_tp: 370.0000 - val_tn: 16130.0000 - val_fp: 2260.0000 - val_fn: 61.0000\n",
      "Epoch 9/40\n",
      "209/209 [==============================] - 99s 471ms/step - loss: 0.5182 - tp: 1528.0000 - tn: 45182.0000 - fp: 6572.0000 - fn: 123.0000 - val_loss: 0.2770 - val_tp: 370.0000 - val_tn: 16094.0000 - val_fp: 2296.0000 - val_fn: 61.0000\n",
      "Epoch 10/40\n",
      "209/209 [==============================] - 98s 468ms/step - loss: 0.4994 - tp: 1519.0000 - tn: 45331.0000 - fp: 6423.0000 - fn: 132.0000 - val_loss: 0.3105 - val_tp: 380.0000 - val_tn: 15788.0000 - val_fp: 2602.0000 - val_fn: 51.0000\n",
      "Epoch 11/40\n",
      "209/209 [==============================] - 92s 439ms/step - loss: 0.4924 - tp: 1548.0000 - tn: 45352.0000 - fp: 6402.0000 - fn: 103.0000 - val_loss: 0.2549 - val_tp: 367.0000 - val_tn: 16235.0000 - val_fp: 2155.0000 - val_fn: 64.0000\n",
      "Epoch 12/40\n",
      "209/209 [==============================] - 99s 473ms/step - loss: 0.4867 - tp: 1547.0000 - tn: 45476.0000 - fp: 6278.0000 - fn: 104.0000 - val_loss: 0.2745 - val_tp: 372.0000 - val_tn: 16133.0000 - val_fp: 2257.0000 - val_fn: 59.0000\n",
      "Epoch 13/40\n",
      "209/209 [==============================] - 92s 443ms/step - loss: 0.4806 - tp: 1544.0000 - tn: 45577.0000 - fp: 6177.0000 - fn: 107.0000 - val_loss: 0.2921 - val_tp: 378.0000 - val_tn: 15923.0000 - val_fp: 2467.0000 - val_fn: 53.0000\n",
      "Epoch 14/40\n",
      "209/209 [==============================] - 103s 490ms/step - loss: 0.4546 - tp: 1556.0000 - tn: 45656.0000 - fp: 6098.0000 - fn: 95.0000 - val_loss: 0.2374 - val_tp: 362.0000 - val_tn: 16400.0000 - val_fp: 1990.0000 - val_fn: 69.0000\n",
      "Epoch 15/40\n",
      "209/209 [==============================] - 89s 424ms/step - loss: 0.4477 - tp: 1553.0000 - tn: 45955.0000 - fp: 5799.0000 - fn: 98.0000 - val_loss: 0.3071 - val_tp: 378.0000 - val_tn: 15770.0000 - val_fp: 2620.0000 - val_fn: 53.0000\n",
      "Epoch 16/40\n",
      "209/209 [==============================] - 96s 459ms/step - loss: 0.4552 - tp: 1557.0000 - tn: 45744.0000 - fp: 6010.0000 - fn: 94.0000 - val_loss: 0.2684 - val_tp: 375.0000 - val_tn: 16118.0000 - val_fp: 2272.0000 - val_fn: 56.0000\n",
      "Epoch 17/40\n",
      "209/209 [==============================] - 93s 443ms/step - loss: 0.4410 - tp: 1570.0000 - tn: 45876.0000 - fp: 5878.0000 - fn: 81.0000 - val_loss: 0.2368 - val_tp: 366.0000 - val_tn: 16412.0000 - val_fp: 1978.0000 - val_fn: 65.0000\n",
      "Epoch 18/40\n",
      "209/209 [==============================] - 107s 513ms/step - loss: 0.4440 - tp: 1540.0000 - tn: 45894.0000 - fp: 5860.0000 - fn: 111.0000 - val_loss: 0.2821 - val_tp: 379.0000 - val_tn: 15932.0000 - val_fp: 2458.0000 - val_fn: 52.0000\n",
      "Epoch 19/40\n",
      "209/209 [==============================] - 104s 496ms/step - loss: 0.4309 - tp: 1564.0000 - tn: 45971.0000 - fp: 5783.0000 - fn: 87.0000 - val_loss: 0.2707 - val_tp: 376.0000 - val_tn: 16021.0000 - val_fp: 2369.0000 - val_fn: 55.0000\n",
      "Epoch 20/40\n",
      "209/209 [==============================] - 94s 448ms/step - loss: 0.4270 - tp: 1568.0000 - tn: 46022.0000 - fp: 5732.0000 - fn: 83.0000 - val_loss: 0.2380 - val_tp: 365.0000 - val_tn: 16433.0000 - val_fp: 1957.0000 - val_fn: 66.0000\n",
      "Epoch 21/40\n",
      "209/209 [==============================] - 103s 491ms/step - loss: 0.4187 - tp: 1571.0000 - tn: 46105.0000 - fp: 5649.0000 - fn: 80.0000 - val_loss: 0.2372 - val_tp: 364.0000 - val_tn: 16404.0000 - val_fp: 1986.0000 - val_fn: 67.0000\n",
      "Epoch 22/40\n",
      "209/209 [==============================] - 99s 474ms/step - loss: 0.4256 - tp: 1569.0000 - tn: 46142.0000 - fp: 5612.0000 - fn: 82.0000 - val_loss: 0.2172 - val_tp: 360.0000 - val_tn: 16591.0000 - val_fp: 1799.0000 - val_fn: 71.0000\n",
      "Epoch 23/40\n",
      "209/209 [==============================] - 95s 452ms/step - loss: 0.4181 - tp: 1564.0000 - tn: 46316.0000 - fp: 5438.0000 - fn: 87.0000 - val_loss: 0.2725 - val_tp: 372.0000 - val_tn: 16140.0000 - val_fp: 2250.0000 - val_fn: 59.0000\n",
      "Epoch 24/40\n",
      "209/209 [==============================] - 98s 468ms/step - loss: 0.3986 - tp: 1583.0000 - tn: 46326.0000 - fp: 5428.0000 - fn: 68.0000 - val_loss: 0.2244 - val_tp: 357.0000 - val_tn: 16608.0000 - val_fp: 1782.0000 - val_fn: 74.0000\n",
      "Epoch 25/40\n",
      "209/209 [==============================] - 99s 472ms/step - loss: 0.3922 - tp: 1581.0000 - tn: 46501.0000 - fp: 5253.0000 - fn: 70.0000 - val_loss: 0.2509 - val_tp: 366.0000 - val_tn: 16289.0000 - val_fp: 2101.0000 - val_fn: 65.0000\n",
      "Epoch 26/40\n",
      "209/209 [==============================] - 128s 612ms/step - loss: 0.3915 - tp: 1575.0000 - tn: 46542.0000 - fp: 5212.0000 - fn: 76.0000 - val_loss: 0.2271 - val_tp: 361.0000 - val_tn: 16521.0000 - val_fp: 1869.0000 - val_fn: 70.0000\n",
      "Epoch 27/40\n",
      "209/209 [==============================] - 98s 471ms/step - loss: 0.3825 - tp: 1576.0000 - tn: 46474.0000 - fp: 5280.0000 - fn: 75.0000 - val_loss: 0.2221 - val_tp: 363.0000 - val_tn: 16571.0000 - val_fp: 1819.0000 - val_fn: 68.0000\n",
      "Epoch 28/40\n",
      "209/209 [==============================] - 109s 523ms/step - loss: 0.3986 - tp: 1578.0000 - tn: 46378.0000 - fp: 5376.0000 - fn: 73.0000 - val_loss: 0.2155 - val_tp: 361.0000 - val_tn: 16629.0000 - val_fp: 1761.0000 - val_fn: 70.0000\n",
      "Epoch 29/40\n",
      "209/209 [==============================] - 93s 446ms/step - loss: 0.3824 - tp: 1590.0000 - tn: 46581.0000 - fp: 5173.0000 - fn: 61.0000 - val_loss: 0.2148 - val_tp: 356.0000 - val_tn: 16678.0000 - val_fp: 1712.0000 - val_fn: 75.0000\n",
      "Epoch 30/40\n",
      "209/209 [==============================] - 94s 451ms/step - loss: 0.3865 - tp: 1579.0000 - tn: 46463.0000 - fp: 5291.0000 - fn: 72.0000 - val_loss: 0.2196 - val_tp: 360.0000 - val_tn: 16608.0000 - val_fp: 1782.0000 - val_fn: 71.0000\n",
      "Epoch 31/40\n",
      "209/209 [==============================] - 98s 469ms/step - loss: 0.3783 - tp: 1583.0000 - tn: 46616.0000 - fp: 5138.0000 - fn: 68.0000 - val_loss: 0.2308 - val_tp: 365.0000 - val_tn: 16514.0000 - val_fp: 1876.0000 - val_fn: 66.0000\n",
      "Epoch 32/40\n",
      "209/209 [==============================] - 94s 448ms/step - loss: 0.3656 - tp: 1591.0000 - tn: 46694.0000 - fp: 5060.0000 - fn: 60.0000 - val_loss: 0.2199 - val_tp: 364.0000 - val_tn: 16644.0000 - val_fp: 1746.0000 - val_fn: 67.0000\n",
      "Epoch 33/40\n",
      "209/209 [==============================] - 98s 468ms/step - loss: 0.3701 - tp: 1585.0000 - tn: 46823.0000 - fp: 4931.0000 - fn: 66.0000 - val_loss: 0.2369 - val_tp: 363.0000 - val_tn: 16458.0000 - val_fp: 1932.0000 - val_fn: 68.0000\n",
      "Epoch 34/40\n",
      "209/209 [==============================] - 95s 452ms/step - loss: 0.3547 - tp: 1589.0000 - tn: 46996.0000 - fp: 4758.0000 - fn: 62.0000 - val_loss: 0.2206 - val_tp: 358.0000 - val_tn: 16616.0000 - val_fp: 1774.0000 - val_fn: 73.0000\n",
      "Epoch 35/40\n",
      "209/209 [==============================] - 103s 490ms/step - loss: 0.3518 - tp: 1592.0000 - tn: 47084.0000 - fp: 4670.0000 - fn: 59.0000 - val_loss: 0.2582 - val_tp: 371.0000 - val_tn: 16278.0000 - val_fp: 2112.0000 - val_fn: 60.0000\n",
      "Epoch 36/40\n",
      "209/209 [==============================] - 101s 483ms/step - loss: 0.3621 - tp: 1589.0000 - tn: 46798.0000 - fp: 4956.0000 - fn: 62.0000 - val_loss: 0.2142 - val_tp: 357.0000 - val_tn: 16703.0000 - val_fp: 1687.0000 - val_fn: 74.0000\n",
      "Epoch 37/40\n",
      "209/209 [==============================] - 120s 571ms/step - loss: 0.3583 - tp: 1590.0000 - tn: 46921.0000 - fp: 4833.0000 - fn: 61.0000 - val_loss: 0.2148 - val_tp: 355.0000 - val_tn: 16714.0000 - val_fp: 1676.0000 - val_fn: 76.0000\n",
      "Epoch 38/40\n",
      "209/209 [==============================] - 106s 505ms/step - loss: 0.3383 - tp: 1601.0000 - tn: 47064.0000 - fp: 4690.0000 - fn: 50.0000 - val_loss: 0.2276 - val_tp: 360.0000 - val_tn: 16612.0000 - val_fp: 1778.0000 - val_fn: 71.0000\n",
      "Epoch 39/40\n",
      "209/209 [==============================] - 95s 453ms/step - loss: 0.3393 - tp: 1601.0000 - tn: 47113.0000 - fp: 4641.0000 - fn: 50.0000 - val_loss: 0.2297 - val_tp: 361.0000 - val_tn: 16565.0000 - val_fp: 1825.0000 - val_fn: 70.0000\n",
      "Epoch 40/40\n",
      "209/209 [==============================] - 104s 497ms/step - loss: 0.3487 - tp: 1588.0000 - tn: 46967.0000 - fp: 4787.0000 - fn: 63.0000 - val_loss: 0.2233 - val_tp: 357.0000 - val_tn: 16612.0000 - val_fp: 1778.0000 - val_fn: 74.0000\n"
     ]
    },
    {
     "name": "stderr",
     "output_type": "stream",
     "text": [
      "WARNING:absl:Found untraced functions such as SpecialActivation_layer_call_fn, SpecialActivation_layer_call_and_return_conditional_losses, SpecialActivation_layer_call_fn, SpecialActivation_layer_call_and_return_conditional_losses while saving (showing 4 of 4). These functions will not be directly callable after loading.\n"
     ]
    },
    {
     "name": "stdout",
     "output_type": "stream",
     "text": [
      "INFO:tensorflow:Assets written to: results/cnn-training-220331/1_fold_finetune-all-dropout_model/assets\n"
     ]
    },
    {
     "name": "stderr",
     "output_type": "stream",
     "text": [
      "INFO:tensorflow:Assets written to: results/cnn-training-220331/1_fold_finetune-all-dropout_model/assets\n"
     ]
    },
    {
     "name": "stdout",
     "output_type": "stream",
     "text": [
      "\n",
      "Fold 2/5 ---------\n",
      "Train indices:  [ 2  3  4  5  6  8  9 10 11 12 14 15 16 17 18]\n",
      "Test indices:  [ 0  1  7 13]\n",
      "Onset ratio training set:  0.028737272813778667\n",
      "Onset ratio test set:  0.029437418229393806\n",
      "\n",
      "Epoch 1/40\n",
      "247/247 [==============================] - 319s 1s/step - loss: 1.1061 - tp: 1830.0000 - tn: 65868.0000 - fp: 13764.0000 - fn: 413.0000 - val_loss: 0.4492 - val_tp: 260.0000 - val_tn: 7085.0000 - val_fp: 1817.0000 - val_fn: 10.0000\n",
      "Epoch 2/40\n",
      "247/247 [==============================] - 157s 638ms/step - loss: 0.7305 - tp: 1591.0000 - tn: 50939.0000 - fp: 10303.0000 - fn: 221.0000 - val_loss: 0.4091 - val_tp: 260.0000 - val_tn: 7174.0000 - val_fp: 1728.0000 - val_fn: 10.0000\n",
      "Epoch 3/40\n",
      "247/247 [==============================] - 109s 440ms/step - loss: 0.6534 - tp: 1623.0000 - tn: 51623.0000 - fp: 9619.0000 - fn: 189.0000 - val_loss: 0.3553 - val_tp: 262.0000 - val_tn: 7428.0000 - val_fp: 1474.0000 - val_fn: 8.0000\n",
      "Epoch 4/40\n",
      "247/247 [==============================] - 107s 432ms/step - loss: 0.6172 - tp: 1619.0000 - tn: 52293.0000 - fp: 8949.0000 - fn: 193.0000 - val_loss: 0.4125 - val_tp: 260.0000 - val_tn: 7222.0000 - val_fp: 1680.0000 - val_fn: 10.0000\n",
      "Epoch 5/40\n",
      "247/247 [==============================] - 109s 439ms/step - loss: 0.6013 - tp: 1647.0000 - tn: 52161.0000 - fp: 9081.0000 - fn: 165.0000 - val_loss: 0.3707 - val_tp: 262.0000 - val_tn: 7382.0000 - val_fp: 1520.0000 - val_fn: 8.0000\n",
      "Epoch 6/40\n",
      "247/247 [==============================] - 109s 439ms/step - loss: 0.5844 - tp: 1645.0000 - tn: 52308.0000 - fp: 8934.0000 - fn: 167.0000 - val_loss: 0.3292 - val_tp: 258.0000 - val_tn: 7575.0000 - val_fp: 1327.0000 - val_fn: 12.0000\n",
      "Epoch 7/40\n",
      "247/247 [==============================] - 104s 423ms/step - loss: 0.5510 - tp: 1660.0000 - tn: 52842.0000 - fp: 8400.0000 - fn: 152.0000 - val_loss: 0.3176 - val_tp: 259.0000 - val_tn: 7599.0000 - val_fp: 1303.0000 - val_fn: 11.0000\n",
      "Epoch 8/40\n",
      "247/247 [==============================] - 110s 445ms/step - loss: 0.5400 - tp: 1660.0000 - tn: 52908.0000 - fp: 8334.0000 - fn: 152.0000 - val_loss: 0.3281 - val_tp: 260.0000 - val_tn: 7588.0000 - val_fp: 1314.0000 - val_fn: 10.0000\n",
      "Epoch 9/40\n",
      "247/247 [==============================] - 103s 418ms/step - loss: 0.5289 - tp: 1677.0000 - tn: 53166.0000 - fp: 8076.0000 - fn: 135.0000 - val_loss: 0.3291 - val_tp: 259.0000 - val_tn: 7615.0000 - val_fp: 1287.0000 - val_fn: 11.0000\n",
      "Epoch 10/40\n",
      "247/247 [==============================] - 104s 419ms/step - loss: 0.5112 - tp: 1671.0000 - tn: 53423.0000 - fp: 7819.0000 - fn: 141.0000 - val_loss: 0.3143 - val_tp: 256.0000 - val_tn: 7677.0000 - val_fp: 1225.0000 - val_fn: 14.0000\n",
      "Epoch 11/40\n",
      "247/247 [==============================] - 102s 413ms/step - loss: 0.5018 - tp: 1676.0000 - tn: 53418.0000 - fp: 7824.0000 - fn: 136.0000 - val_loss: 0.3069 - val_tp: 257.0000 - val_tn: 7714.0000 - val_fp: 1188.0000 - val_fn: 13.0000\n",
      "Epoch 12/40\n",
      "247/247 [==============================] - 117s 472ms/step - loss: 0.4998 - tp: 1696.0000 - tn: 53584.0000 - fp: 7658.0000 - fn: 116.0000 - val_loss: 0.3028 - val_tp: 261.0000 - val_tn: 7702.0000 - val_fp: 1200.0000 - val_fn: 9.0000\n",
      "Epoch 13/40\n",
      "247/247 [==============================] - 111s 447ms/step - loss: 0.4838 - tp: 1690.0000 - tn: 53531.0000 - fp: 7711.0000 - fn: 122.0000 - val_loss: 0.2814 - val_tp: 257.0000 - val_tn: 7796.0000 - val_fp: 1106.0000 - val_fn: 13.0000\n",
      "Epoch 14/40\n",
      "247/247 [==============================] - 109s 441ms/step - loss: 0.4846 - tp: 1682.0000 - tn: 53701.0000 - fp: 7541.0000 - fn: 130.0000 - val_loss: 0.3058 - val_tp: 259.0000 - val_tn: 7700.0000 - val_fp: 1202.0000 - val_fn: 11.0000\n",
      "Epoch 15/40\n",
      "247/247 [==============================] - 107s 432ms/step - loss: 0.4785 - tp: 1692.0000 - tn: 53715.0000 - fp: 7527.0000 - fn: 120.0000 - val_loss: 0.2816 - val_tp: 256.0000 - val_tn: 7789.0000 - val_fp: 1113.0000 - val_fn: 14.0000\n",
      "Epoch 16/40\n",
      "247/247 [==============================] - 106s 429ms/step - loss: 0.4642 - tp: 1696.0000 - tn: 53972.0000 - fp: 7270.0000 - fn: 116.0000 - val_loss: 0.2912 - val_tp: 257.0000 - val_tn: 7775.0000 - val_fp: 1127.0000 - val_fn: 13.0000\n",
      "Epoch 17/40\n",
      "247/247 [==============================] - 110s 444ms/step - loss: 0.4656 - tp: 1698.0000 - tn: 53958.0000 - fp: 7284.0000 - fn: 114.0000 - val_loss: 0.3012 - val_tp: 261.0000 - val_tn: 7719.0000 - val_fp: 1183.0000 - val_fn: 9.0000\n",
      "Epoch 18/40\n",
      "247/247 [==============================] - 109s 437ms/step - loss: 0.4561 - tp: 1706.0000 - tn: 53975.0000 - fp: 7267.0000 - fn: 106.0000 - val_loss: 0.2739 - val_tp: 255.0000 - val_tn: 7878.0000 - val_fp: 1024.0000 - val_fn: 15.0000\n",
      "Epoch 19/40\n",
      "247/247 [==============================] - 115s 464ms/step - loss: 0.4339 - tp: 1717.0000 - tn: 54407.0000 - fp: 6835.0000 - fn: 95.0000 - val_loss: 0.2652 - val_tp: 254.0000 - val_tn: 7888.0000 - val_fp: 1014.0000 - val_fn: 16.0000\n",
      "Epoch 20/40\n",
      "247/247 [==============================] - 102s 412ms/step - loss: 0.4559 - tp: 1703.0000 - tn: 54080.0000 - fp: 7162.0000 - fn: 109.0000 - val_loss: 0.2689 - val_tp: 254.0000 - val_tn: 7901.0000 - val_fp: 1001.0000 - val_fn: 16.0000\n",
      "Epoch 21/40\n",
      "247/247 [==============================] - 100s 403ms/step - loss: 0.4324 - tp: 1721.0000 - tn: 54411.0000 - fp: 6831.0000 - fn: 91.0000 - val_loss: 0.2712 - val_tp: 256.0000 - val_tn: 7863.0000 - val_fp: 1039.0000 - val_fn: 14.0000\n",
      "Epoch 22/40\n",
      "247/247 [==============================] - 108s 438ms/step - loss: 0.4342 - tp: 1713.0000 - tn: 54381.0000 - fp: 6861.0000 - fn: 99.0000 - val_loss: 0.2807 - val_tp: 257.0000 - val_tn: 7812.0000 - val_fp: 1090.0000 - val_fn: 13.0000\n",
      "Epoch 23/40\n",
      "247/247 [==============================] - 116s 471ms/step - loss: 0.4211 - tp: 1724.0000 - tn: 54404.0000 - fp: 6838.0000 - fn: 88.0000 - val_loss: 0.2673 - val_tp: 256.0000 - val_tn: 7897.0000 - val_fp: 1005.0000 - val_fn: 14.0000\n",
      "Epoch 24/40\n",
      "247/247 [==============================] - 110s 443ms/step - loss: 0.4185 - tp: 1727.0000 - tn: 54522.0000 - fp: 6720.0000 - fn: 85.0000 - val_loss: 0.2667 - val_tp: 259.0000 - val_tn: 7911.0000 - val_fp: 991.0000 - val_fn: 11.0000\n",
      "Epoch 25/40\n",
      "247/247 [==============================] - 108s 437ms/step - loss: 0.4124 - tp: 1725.0000 - tn: 54693.0000 - fp: 6549.0000 - fn: 87.0000 - val_loss: 0.2726 - val_tp: 259.0000 - val_tn: 7873.0000 - val_fp: 1029.0000 - val_fn: 11.0000\n",
      "Epoch 26/40\n",
      "247/247 [==============================] - 106s 429ms/step - loss: 0.4170 - tp: 1711.0000 - tn: 54538.0000 - fp: 6704.0000 - fn: 101.0000 - val_loss: 0.2752 - val_tp: 257.0000 - val_tn: 7870.0000 - val_fp: 1032.0000 - val_fn: 13.0000\n",
      "Epoch 27/40\n",
      "247/247 [==============================] - 111s 449ms/step - loss: 0.4043 - tp: 1731.0000 - tn: 54748.0000 - fp: 6494.0000 - fn: 81.0000 - val_loss: 0.2583 - val_tp: 255.0000 - val_tn: 7950.0000 - val_fp: 952.0000 - val_fn: 15.0000\n",
      "Epoch 28/40\n",
      "247/247 [==============================] - 107s 431ms/step - loss: 0.4052 - tp: 1726.0000 - tn: 54837.0000 - fp: 6405.0000 - fn: 86.0000 - val_loss: 0.2861 - val_tp: 256.0000 - val_tn: 7800.0000 - val_fp: 1102.0000 - val_fn: 14.0000\n",
      "Epoch 29/40\n",
      "247/247 [==============================] - 103s 416ms/step - loss: 0.3924 - tp: 1725.0000 - tn: 54974.0000 - fp: 6268.0000 - fn: 87.0000 - val_loss: 0.2657 - val_tp: 255.0000 - val_tn: 7889.0000 - val_fp: 1013.0000 - val_fn: 15.0000\n",
      "Epoch 30/40\n",
      "247/247 [==============================] - 121s 491ms/step - loss: 0.3853 - tp: 1735.0000 - tn: 54988.0000 - fp: 6254.0000 - fn: 77.0000 - val_loss: 0.2619 - val_tp: 252.0000 - val_tn: 7941.0000 - val_fp: 961.0000 - val_fn: 18.0000\n",
      "Epoch 31/40\n",
      "247/247 [==============================] - 109s 442ms/step - loss: 0.4112 - tp: 1725.0000 - tn: 54820.0000 - fp: 6422.0000 - fn: 87.0000 - val_loss: 0.2607 - val_tp: 252.0000 - val_tn: 7915.0000 - val_fp: 987.0000 - val_fn: 18.0000\n",
      "Epoch 32/40\n",
      "247/247 [==============================] - 105s 425ms/step - loss: 0.3825 - tp: 1743.0000 - tn: 55083.0000 - fp: 6159.0000 - fn: 69.0000 - val_loss: 0.2588 - val_tp: 252.0000 - val_tn: 7945.0000 - val_fp: 957.0000 - val_fn: 18.0000\n",
      "Epoch 33/40\n",
      "247/247 [==============================] - 104s 422ms/step - loss: 0.3912 - tp: 1734.0000 - tn: 55054.0000 - fp: 6188.0000 - fn: 78.0000 - val_loss: 0.2767 - val_tp: 257.0000 - val_tn: 7849.0000 - val_fp: 1053.0000 - val_fn: 13.0000\n",
      "Epoch 34/40\n",
      "247/247 [==============================] - 109s 439ms/step - loss: 0.3700 - tp: 1753.0000 - tn: 55237.0000 - fp: 6005.0000 - fn: 59.0000 - val_loss: 0.2503 - val_tp: 250.0000 - val_tn: 7997.0000 - val_fp: 905.0000 - val_fn: 20.0000\n",
      "Epoch 35/40\n",
      "247/247 [==============================] - 154s 624ms/step - loss: 0.3748 - tp: 1745.0000 - tn: 55155.0000 - fp: 6087.0000 - fn: 67.0000 - val_loss: 0.2573 - val_tp: 249.0000 - val_tn: 7954.0000 - val_fp: 948.0000 - val_fn: 21.0000\n",
      "Epoch 36/40\n",
      "247/247 [==============================] - 120s 488ms/step - loss: 0.3699 - tp: 1749.0000 - tn: 55220.0000 - fp: 6022.0000 - fn: 63.0000 - val_loss: 0.2450 - val_tp: 252.0000 - val_tn: 8021.0000 - val_fp: 881.0000 - val_fn: 18.0000\n",
      "Epoch 37/40\n",
      "247/247 [==============================] - 110s 447ms/step - loss: 0.3642 - tp: 1743.0000 - tn: 55371.0000 - fp: 5871.0000 - fn: 69.0000 - val_loss: 0.2577 - val_tp: 255.0000 - val_tn: 7944.0000 - val_fp: 958.0000 - val_fn: 15.0000\n",
      "Epoch 38/40\n",
      "247/247 [==============================] - 107s 434ms/step - loss: 0.3629 - tp: 1745.0000 - tn: 55343.0000 - fp: 5899.0000 - fn: 67.0000 - val_loss: 0.2450 - val_tp: 251.0000 - val_tn: 8002.0000 - val_fp: 900.0000 - val_fn: 19.0000\n",
      "Epoch 39/40\n",
      "247/247 [==============================] - 105s 423ms/step - loss: 0.3630 - tp: 1742.0000 - tn: 55340.0000 - fp: 5902.0000 - fn: 70.0000 - val_loss: 0.2417 - val_tp: 252.0000 - val_tn: 8045.0000 - val_fp: 857.0000 - val_fn: 18.0000\n",
      "Epoch 40/40\n",
      "247/247 [==============================] - 104s 422ms/step - loss: 0.3680 - tp: 1735.0000 - tn: 55223.0000 - fp: 6019.0000 - fn: 77.0000 - val_loss: 0.2460 - val_tp: 251.0000 - val_tn: 7988.0000 - val_fp: 914.0000 - val_fn: 19.0000\n"
     ]
    },
    {
     "name": "stderr",
     "output_type": "stream",
     "text": [
      "WARNING:absl:Found untraced functions such as SpecialActivation_layer_call_fn, SpecialActivation_layer_call_and_return_conditional_losses, SpecialActivation_layer_call_fn, SpecialActivation_layer_call_and_return_conditional_losses while saving (showing 4 of 4). These functions will not be directly callable after loading.\n"
     ]
    },
    {
     "name": "stdout",
     "output_type": "stream",
     "text": [
      "INFO:tensorflow:Assets written to: results/cnn-training-220331/2_fold_finetune-all-dropout_model/assets\n"
     ]
    },
    {
     "name": "stderr",
     "output_type": "stream",
     "text": [
      "INFO:tensorflow:Assets written to: results/cnn-training-220331/2_fold_finetune-all-dropout_model/assets\n"
     ]
    },
    {
     "name": "stdout",
     "output_type": "stream",
     "text": [
      "\n",
      "Fold 3/5 ---------\n",
      "Train indices:  [ 0  1  2  3  4  5  6  7 10 11 12 13 14 15 16]\n",
      "Test indices:  [ 8  9 17 18]\n",
      "Onset ratio training set:  0.03230948094809481\n",
      "Onset ratio test set:  0.0189967192295481\n",
      "\n",
      "Epoch 1/40\n",
      "209/209 [==============================] - 213s 897ms/step - loss: 1.1144 - tp: 1624.0000 - tn: 49295.0000 - fp: 11212.0000 - fn: 369.0000 - val_loss: 0.1848 - val_tp: 289.0000 - val_tn: 17175.0000 - val_fp: 1364.0000 - val_fn: 70.0000\n",
      "Epoch 2/40\n",
      "209/209 [==============================] - 256s 1s/step - loss: 0.8050 - tp: 1481.0000 - tn: 42572.0000 - fp: 9033.0000 - fn: 242.0000 - val_loss: 0.2035 - val_tp: 292.0000 - val_tn: 17053.0000 - val_fp: 1486.0000 - val_fn: 67.0000\n",
      "Epoch 3/40\n",
      "209/209 [==============================] - 89s 428ms/step - loss: 0.6914 - tp: 1522.0000 - tn: 43577.0000 - fp: 8028.0000 - fn: 201.0000 - val_loss: 0.2104 - val_tp: 295.0000 - val_tn: 16959.0000 - val_fp: 1580.0000 - val_fn: 64.0000\n",
      "Epoch 4/40\n",
      "209/209 [==============================] - 93s 445ms/step - loss: 0.6666 - tp: 1530.0000 - tn: 43631.0000 - fp: 7974.0000 - fn: 193.0000 - val_loss: 0.2445 - val_tp: 307.0000 - val_tn: 16465.0000 - val_fp: 2074.0000 - val_fn: 52.0000\n",
      "Epoch 5/40\n",
      "209/209 [==============================] - 98s 465ms/step - loss: 0.6232 - tp: 1559.0000 - tn: 43852.0000 - fp: 7753.0000 - fn: 164.0000 - val_loss: 0.1599 - val_tp: 273.0000 - val_tn: 17426.0000 - val_fp: 1113.0000 - val_fn: 86.0000\n",
      "Epoch 6/40\n",
      "209/209 [==============================] - 133s 637ms/step - loss: 0.6038 - tp: 1555.0000 - tn: 44267.0000 - fp: 7338.0000 - fn: 168.0000 - val_loss: 0.1990 - val_tp: 297.0000 - val_tn: 17008.0000 - val_fp: 1531.0000 - val_fn: 62.0000\n",
      "Epoch 7/40\n",
      "209/209 [==============================] - 96s 456ms/step - loss: 0.5569 - tp: 1590.0000 - tn: 44466.0000 - fp: 7139.0000 - fn: 133.0000 - val_loss: 0.1598 - val_tp: 281.0000 - val_tn: 17359.0000 - val_fp: 1180.0000 - val_fn: 78.0000\n",
      "Epoch 8/40\n",
      "209/209 [==============================] - 86s 411ms/step - loss: 0.5484 - tp: 1580.0000 - tn: 44739.0000 - fp: 6866.0000 - fn: 143.0000 - val_loss: 0.1869 - val_tp: 290.0000 - val_tn: 17085.0000 - val_fp: 1454.0000 - val_fn: 69.0000\n",
      "Epoch 9/40\n",
      "209/209 [==============================] - 94s 451ms/step - loss: 0.5420 - tp: 1572.0000 - tn: 44572.0000 - fp: 7033.0000 - fn: 151.0000 - val_loss: 0.1692 - val_tp: 290.0000 - val_tn: 17223.0000 - val_fp: 1316.0000 - val_fn: 69.0000\n",
      "Epoch 10/40\n",
      "209/209 [==============================] - 91s 434ms/step - loss: 0.5231 - tp: 1597.0000 - tn: 44634.0000 - fp: 6971.0000 - fn: 126.0000 - val_loss: 0.1445 - val_tp: 279.0000 - val_tn: 17439.0000 - val_fp: 1100.0000 - val_fn: 80.0000\n",
      "Epoch 11/40\n",
      "209/209 [==============================] - 94s 445ms/step - loss: 0.5156 - tp: 1608.0000 - tn: 44856.0000 - fp: 6749.0000 - fn: 115.0000 - val_loss: 0.1684 - val_tp: 290.0000 - val_tn: 17198.0000 - val_fp: 1341.0000 - val_fn: 69.0000\n",
      "Epoch 12/40\n",
      "209/209 [==============================] - 96s 460ms/step - loss: 0.5126 - tp: 1604.0000 - tn: 44750.0000 - fp: 6855.0000 - fn: 119.0000 - val_loss: 0.1638 - val_tp: 284.0000 - val_tn: 17287.0000 - val_fp: 1252.0000 - val_fn: 75.0000\n",
      "Epoch 13/40\n",
      "209/209 [==============================] - 90s 430ms/step - loss: 0.4858 - tp: 1609.0000 - tn: 45032.0000 - fp: 6573.0000 - fn: 114.0000 - val_loss: 0.1532 - val_tp: 273.0000 - val_tn: 17381.0000 - val_fp: 1158.0000 - val_fn: 86.0000\n",
      "Epoch 14/40\n",
      "209/209 [==============================] - 98s 470ms/step - loss: 0.4944 - tp: 1597.0000 - tn: 44997.0000 - fp: 6608.0000 - fn: 126.0000 - val_loss: 0.1674 - val_tp: 285.0000 - val_tn: 17201.0000 - val_fp: 1338.0000 - val_fn: 74.0000\n",
      "Epoch 15/40\n",
      "209/209 [==============================] - 96s 458ms/step - loss: 0.4767 - tp: 1611.0000 - tn: 45154.0000 - fp: 6451.0000 - fn: 112.0000 - val_loss: 0.1580 - val_tp: 286.0000 - val_tn: 17320.0000 - val_fp: 1219.0000 - val_fn: 73.0000\n",
      "Epoch 16/40\n",
      "209/209 [==============================] - 115s 551ms/step - loss: 0.4762 - tp: 1619.0000 - tn: 45111.0000 - fp: 6494.0000 - fn: 104.0000 - val_loss: 0.1768 - val_tp: 297.0000 - val_tn: 17076.0000 - val_fp: 1463.0000 - val_fn: 62.0000\n",
      "Epoch 17/40\n",
      "209/209 [==============================] - 101s 485ms/step - loss: 0.4567 - tp: 1628.0000 - tn: 45362.0000 - fp: 6243.0000 - fn: 95.0000 - val_loss: 0.1883 - val_tp: 299.0000 - val_tn: 17003.0000 - val_fp: 1536.0000 - val_fn: 60.0000\n",
      "Epoch 18/40\n",
      "209/209 [==============================] - 96s 460ms/step - loss: 0.4442 - tp: 1628.0000 - tn: 45489.0000 - fp: 6116.0000 - fn: 95.0000 - val_loss: 0.1598 - val_tp: 283.0000 - val_tn: 17362.0000 - val_fp: 1177.0000 - val_fn: 76.0000\n",
      "Epoch 19/40\n",
      "209/209 [==============================] - 81s 389ms/step - loss: 0.4464 - tp: 1627.0000 - tn: 45564.0000 - fp: 6041.0000 - fn: 96.0000 - val_loss: 0.1478 - val_tp: 277.0000 - val_tn: 17415.0000 - val_fp: 1124.0000 - val_fn: 82.0000\n",
      "Epoch 20/40\n",
      "209/209 [==============================] - 80s 384ms/step - loss: 0.4469 - tp: 1625.0000 - tn: 45559.0000 - fp: 6046.0000 - fn: 98.0000 - val_loss: 0.1638 - val_tp: 286.0000 - val_tn: 17238.0000 - val_fp: 1301.0000 - val_fn: 73.0000\n",
      "Epoch 21/40\n",
      "209/209 [==============================] - 96s 456ms/step - loss: 0.4479 - tp: 1623.0000 - tn: 45641.0000 - fp: 5964.0000 - fn: 100.0000 - val_loss: 0.1551 - val_tp: 283.0000 - val_tn: 17334.0000 - val_fp: 1205.0000 - val_fn: 76.0000\n",
      "Epoch 22/40\n",
      "209/209 [==============================] - 107s 513ms/step - loss: 0.4432 - tp: 1633.0000 - tn: 45623.0000 - fp: 5982.0000 - fn: 90.0000 - val_loss: 0.1344 - val_tp: 271.0000 - val_tn: 17524.0000 - val_fp: 1015.0000 - val_fn: 88.0000\n",
      "Epoch 23/40\n",
      "209/209 [==============================] - 123s 589ms/step - loss: 0.4360 - tp: 1623.0000 - tn: 45571.0000 - fp: 6034.0000 - fn: 100.0000 - val_loss: 0.1681 - val_tp: 295.0000 - val_tn: 17176.0000 - val_fp: 1363.0000 - val_fn: 64.0000\n",
      "Epoch 24/40\n",
      "209/209 [==============================] - 100s 476ms/step - loss: 0.4184 - tp: 1644.0000 - tn: 45725.0000 - fp: 5880.0000 - fn: 79.0000 - val_loss: 0.1457 - val_tp: 280.0000 - val_tn: 17416.0000 - val_fp: 1123.0000 - val_fn: 79.0000\n",
      "Epoch 25/40\n",
      "209/209 [==============================] - 90s 432ms/step - loss: 0.4090 - tp: 1645.0000 - tn: 45920.0000 - fp: 5685.0000 - fn: 78.0000 - val_loss: 0.1823 - val_tp: 301.0000 - val_tn: 17077.0000 - val_fp: 1462.0000 - val_fn: 58.0000\n",
      "Epoch 26/40\n",
      "209/209 [==============================] - 92s 440ms/step - loss: 0.4250 - tp: 1642.0000 - tn: 45913.0000 - fp: 5692.0000 - fn: 81.0000 - val_loss: 0.1812 - val_tp: 300.0000 - val_tn: 17097.0000 - val_fp: 1442.0000 - val_fn: 59.0000\n",
      "Epoch 27/40\n",
      "209/209 [==============================] - 123s 588ms/step - loss: 0.4042 - tp: 1644.0000 - tn: 45952.0000 - fp: 5653.0000 - fn: 79.0000 - val_loss: 0.1715 - val_tp: 287.0000 - val_tn: 17202.0000 - val_fp: 1337.0000 - val_fn: 72.0000\n",
      "Epoch 28/40\n",
      "209/209 [==============================] - 98s 466ms/step - loss: 0.4110 - tp: 1646.0000 - tn: 45932.0000 - fp: 5673.0000 - fn: 77.0000 - val_loss: 0.1633 - val_tp: 291.0000 - val_tn: 17288.0000 - val_fp: 1251.0000 - val_fn: 68.0000\n",
      "Epoch 29/40\n",
      "209/209 [==============================] - 101s 481ms/step - loss: 0.4028 - tp: 1644.0000 - tn: 46022.0000 - fp: 5583.0000 - fn: 79.0000 - val_loss: 0.1458 - val_tp: 278.0000 - val_tn: 17444.0000 - val_fp: 1095.0000 - val_fn: 81.0000\n",
      "Epoch 30/40\n",
      "209/209 [==============================] - 102s 486ms/step - loss: 0.3966 - tp: 1647.0000 - tn: 46160.0000 - fp: 5445.0000 - fn: 76.0000 - val_loss: 0.1643 - val_tp: 290.0000 - val_tn: 17235.0000 - val_fp: 1304.0000 - val_fn: 69.0000\n",
      "Epoch 31/40\n",
      "209/209 [==============================] - 90s 431ms/step - loss: 0.3981 - tp: 1654.0000 - tn: 46098.0000 - fp: 5507.0000 - fn: 69.0000 - val_loss: 0.1524 - val_tp: 274.0000 - val_tn: 17378.0000 - val_fp: 1161.0000 - val_fn: 85.0000\n",
      "Epoch 32/40\n",
      "209/209 [==============================] - 96s 453ms/step - loss: 0.4009 - tp: 1654.0000 - tn: 45957.0000 - fp: 5648.0000 - fn: 69.0000 - val_loss: 0.1547 - val_tp: 287.0000 - val_tn: 17339.0000 - val_fp: 1200.0000 - val_fn: 72.0000\n",
      "Epoch 33/40\n",
      "209/209 [==============================] - 91s 437ms/step - loss: 0.3838 - tp: 1662.0000 - tn: 46268.0000 - fp: 5337.0000 - fn: 61.0000 - val_loss: 0.1407 - val_tp: 277.0000 - val_tn: 17478.0000 - val_fp: 1061.0000 - val_fn: 82.0000\n",
      "Epoch 34/40\n",
      "209/209 [==============================] - 94s 450ms/step - loss: 0.3934 - tp: 1647.0000 - tn: 46201.0000 - fp: 5404.0000 - fn: 76.0000 - val_loss: 0.1810 - val_tp: 298.0000 - val_tn: 17139.0000 - val_fp: 1400.0000 - val_fn: 61.0000\n",
      "Epoch 35/40\n",
      "209/209 [==============================] - 110s 524ms/step - loss: 0.3761 - tp: 1653.0000 - tn: 46340.0000 - fp: 5265.0000 - fn: 70.0000 - val_loss: 0.1486 - val_tp: 279.0000 - val_tn: 17427.0000 - val_fp: 1112.0000 - val_fn: 80.0000\n",
      "Epoch 36/40\n",
      "209/209 [==============================] - 101s 482ms/step - loss: 0.3879 - tp: 1651.0000 - tn: 46259.0000 - fp: 5346.0000 - fn: 72.0000 - val_loss: 0.1436 - val_tp: 281.0000 - val_tn: 17472.0000 - val_fp: 1067.0000 - val_fn: 78.0000\n",
      "Epoch 37/40\n",
      "209/209 [==============================] - 95s 456ms/step - loss: 0.3798 - tp: 1655.0000 - tn: 46222.0000 - fp: 5383.0000 - fn: 68.0000 - val_loss: 0.1452 - val_tp: 282.0000 - val_tn: 17420.0000 - val_fp: 1119.0000 - val_fn: 77.0000\n",
      "Epoch 38/40\n",
      "209/209 [==============================] - 95s 452ms/step - loss: 0.3716 - tp: 1657.0000 - tn: 46449.0000 - fp: 5156.0000 - fn: 66.0000 - val_loss: 0.1541 - val_tp: 284.0000 - val_tn: 17353.0000 - val_fp: 1186.0000 - val_fn: 75.0000\n",
      "Epoch 39/40\n",
      "209/209 [==============================] - 98s 470ms/step - loss: 0.3655 - tp: 1655.0000 - tn: 46434.0000 - fp: 5171.0000 - fn: 68.0000 - val_loss: 0.1445 - val_tp: 274.0000 - val_tn: 17481.0000 - val_fp: 1058.0000 - val_fn: 85.0000\n",
      "Epoch 40/40\n",
      "209/209 [==============================] - 103s 494ms/step - loss: 0.3580 - tp: 1658.0000 - tn: 46461.0000 - fp: 5144.0000 - fn: 65.0000 - val_loss: 0.1345 - val_tp: 270.0000 - val_tn: 17548.0000 - val_fp: 991.0000 - val_fn: 89.0000\n"
     ]
    },
    {
     "name": "stderr",
     "output_type": "stream",
     "text": [
      "WARNING:absl:Found untraced functions such as SpecialActivation_layer_call_fn, SpecialActivation_layer_call_and_return_conditional_losses, SpecialActivation_layer_call_fn, SpecialActivation_layer_call_and_return_conditional_losses while saving (showing 4 of 4). These functions will not be directly callable after loading.\n"
     ]
    },
    {
     "name": "stdout",
     "output_type": "stream",
     "text": [
      "INFO:tensorflow:Assets written to: results/cnn-training-220331/3_fold_finetune-all-dropout_model/assets\n"
     ]
    },
    {
     "name": "stderr",
     "output_type": "stream",
     "text": [
      "INFO:tensorflow:Assets written to: results/cnn-training-220331/3_fold_finetune-all-dropout_model/assets\n"
     ]
    },
    {
     "name": "stdout",
     "output_type": "stream",
     "text": [
      "\n",
      "Fold 4/5 ---------\n",
      "Train indices:  [ 0  1  2  3  4  6  7  8  9 10 13 14 15 16 17 18]\n",
      "Test indices:  [ 5 11 12]\n",
      "Onset ratio training set:  0.02698511166253102\n",
      "Onset ratio test set:  0.03910665451230629\n",
      "\n",
      "Epoch 1/40\n",
      "240/240 [==============================] - 391s 1s/step - loss: 1.1732 - tp: 1585.0000 - tn: 65162.0000 - fp: 12980.0000 - fn: 427.0000 - val_loss: 0.4117 - val_tp: 398.0000 - val_tn: 8599.0000 - val_fp: 1942.0000 - val_fn: 31.0000\n",
      "Epoch 2/40\n",
      "240/240 [==============================] - 177s 740ms/step - loss: 0.7448 - tp: 1440.0000 - tn: 49753.0000 - fp: 9850.0000 - fn: 213.0000 - val_loss: 0.4442 - val_tp: 411.0000 - val_tn: 8392.0000 - val_fp: 2149.0000 - val_fn: 18.0000\n",
      "Epoch 3/40\n",
      "240/240 [==============================] - 104s 432ms/step - loss: 0.6715 - tp: 1450.0000 - tn: 50333.0000 - fp: 9270.0000 - fn: 203.0000 - val_loss: 0.3532 - val_tp: 399.0000 - val_tn: 8891.0000 - val_fp: 1650.0000 - val_fn: 30.0000\n",
      "Epoch 4/40\n",
      "240/240 [==============================] - 95s 398ms/step - loss: 0.6190 - tp: 1486.0000 - tn: 50887.0000 - fp: 8716.0000 - fn: 167.0000 - val_loss: 0.4039 - val_tp: 416.0000 - val_tn: 8549.0000 - val_fp: 1992.0000 - val_fn: 13.0000\n",
      "Epoch 5/40\n",
      "240/240 [==============================] - 105s 438ms/step - loss: 0.5927 - tp: 1493.0000 - tn: 51137.0000 - fp: 8466.0000 - fn: 160.0000 - val_loss: 0.4024 - val_tp: 413.0000 - val_tn: 8555.0000 - val_fp: 1986.0000 - val_fn: 16.0000\n",
      "Epoch 6/40\n",
      "240/240 [==============================] - 99s 411ms/step - loss: 0.5896 - tp: 1484.0000 - tn: 51164.0000 - fp: 8439.0000 - fn: 169.0000 - val_loss: 0.4245 - val_tp: 415.0000 - val_tn: 8410.0000 - val_fp: 2131.0000 - val_fn: 14.0000\n",
      "Epoch 7/40\n",
      "240/240 [==============================] - 103s 427ms/step - loss: 0.5569 - tp: 1506.0000 - tn: 51448.0000 - fp: 8155.0000 - fn: 147.0000 - val_loss: 0.3697 - val_tp: 407.0000 - val_tn: 8764.0000 - val_fp: 1777.0000 - val_fn: 22.0000\n",
      "Epoch 8/40\n",
      "240/240 [==============================] - 115s 476ms/step - loss: 0.5376 - tp: 1519.0000 - tn: 51728.0000 - fp: 7875.0000 - fn: 134.0000 - val_loss: 0.3881 - val_tp: 412.0000 - val_tn: 8632.0000 - val_fp: 1909.0000 - val_fn: 17.0000\n",
      "Epoch 9/40\n",
      "240/240 [==============================] - 108s 451ms/step - loss: 0.5363 - tp: 1528.0000 - tn: 51705.0000 - fp: 7898.0000 - fn: 125.0000 - val_loss: 0.3501 - val_tp: 404.0000 - val_tn: 8837.0000 - val_fp: 1704.0000 - val_fn: 25.0000\n",
      "Epoch 10/40\n",
      "240/240 [==============================] - 103s 430ms/step - loss: 0.5246 - tp: 1530.0000 - tn: 51935.0000 - fp: 7668.0000 - fn: 123.0000 - val_loss: 0.3505 - val_tp: 406.0000 - val_tn: 8861.0000 - val_fp: 1680.0000 - val_fn: 23.0000\n",
      "Epoch 11/40\n",
      "240/240 [==============================] - 101s 419ms/step - loss: 0.5082 - tp: 1522.0000 - tn: 52032.0000 - fp: 7571.0000 - fn: 131.0000 - val_loss: 0.3450 - val_tp: 405.0000 - val_tn: 8867.0000 - val_fp: 1674.0000 - val_fn: 24.0000\n",
      "Epoch 12/40\n",
      "240/240 [==============================] - 105s 438ms/step - loss: 0.4949 - tp: 1540.0000 - tn: 52291.0000 - fp: 7312.0000 - fn: 113.0000 - val_loss: 0.3890 - val_tp: 412.0000 - val_tn: 8696.0000 - val_fp: 1845.0000 - val_fn: 17.0000\n",
      "Epoch 13/40\n",
      "240/240 [==============================] - 101s 420ms/step - loss: 0.4932 - tp: 1530.0000 - tn: 52193.0000 - fp: 7410.0000 - fn: 123.0000 - val_loss: 0.3736 - val_tp: 406.0000 - val_tn: 8757.0000 - val_fp: 1784.0000 - val_fn: 23.0000\n",
      "Epoch 14/40\n",
      "240/240 [==============================] - 100s 414ms/step - loss: 0.4945 - tp: 1539.0000 - tn: 52139.0000 - fp: 7464.0000 - fn: 114.0000 - val_loss: 0.3470 - val_tp: 408.0000 - val_tn: 8914.0000 - val_fp: 1627.0000 - val_fn: 21.0000\n",
      "Epoch 15/40\n",
      "240/240 [==============================] - 105s 438ms/step - loss: 0.4952 - tp: 1537.0000 - tn: 52179.0000 - fp: 7424.0000 - fn: 116.0000 - val_loss: 0.4311 - val_tp: 416.0000 - val_tn: 8559.0000 - val_fp: 1982.0000 - val_fn: 13.0000\n",
      "Epoch 16/40\n",
      "240/240 [==============================] - 103s 429ms/step - loss: 0.4874 - tp: 1539.0000 - tn: 52074.0000 - fp: 7529.0000 - fn: 114.0000 - val_loss: 0.3375 - val_tp: 401.0000 - val_tn: 8906.0000 - val_fp: 1635.0000 - val_fn: 28.0000\n",
      "Epoch 17/40\n",
      "240/240 [==============================] - 119s 495ms/step - loss: 0.4753 - tp: 1538.0000 - tn: 52274.0000 - fp: 7329.0000 - fn: 115.0000 - val_loss: 0.3628 - val_tp: 410.0000 - val_tn: 8804.0000 - val_fp: 1737.0000 - val_fn: 19.0000\n",
      "Epoch 18/40\n",
      "240/240 [==============================] - 103s 429ms/step - loss: 0.4621 - tp: 1556.0000 - tn: 52497.0000 - fp: 7106.0000 - fn: 97.0000 - val_loss: 0.3133 - val_tp: 401.0000 - val_tn: 9060.0000 - val_fp: 1481.0000 - val_fn: 28.0000\n",
      "Epoch 19/40\n",
      "240/240 [==============================] - 103s 431ms/step - loss: 0.4540 - tp: 1544.0000 - tn: 52649.0000 - fp: 6954.0000 - fn: 109.0000 - val_loss: 0.3333 - val_tp: 408.0000 - val_tn: 8880.0000 - val_fp: 1661.0000 - val_fn: 21.0000\n",
      "Epoch 20/40\n",
      "240/240 [==============================] - 107s 441ms/step - loss: 0.4441 - tp: 1560.0000 - tn: 52688.0000 - fp: 6915.0000 - fn: 93.0000 - val_loss: 0.3391 - val_tp: 409.0000 - val_tn: 8983.0000 - val_fp: 1558.0000 - val_fn: 20.0000\n",
      "Epoch 21/40\n",
      "240/240 [==============================] - 93s 387ms/step - loss: 0.4547 - tp: 1546.0000 - tn: 52515.0000 - fp: 7088.0000 - fn: 107.0000 - val_loss: 0.3307 - val_tp: 399.0000 - val_tn: 8984.0000 - val_fp: 1557.0000 - val_fn: 30.0000\n",
      "Epoch 22/40\n",
      "240/240 [==============================] - 103s 430ms/step - loss: 0.4311 - tp: 1556.0000 - tn: 52778.0000 - fp: 6825.0000 - fn: 97.0000 - val_loss: 0.3725 - val_tp: 411.0000 - val_tn: 8839.0000 - val_fp: 1702.0000 - val_fn: 18.0000\n",
      "Epoch 23/40\n",
      "240/240 [==============================] - 108s 448ms/step - loss: 0.4345 - tp: 1558.0000 - tn: 52744.0000 - fp: 6859.0000 - fn: 95.0000 - val_loss: 0.3351 - val_tp: 404.0000 - val_tn: 8983.0000 - val_fp: 1558.0000 - val_fn: 25.0000\n",
      "Epoch 24/40\n",
      "240/240 [==============================] - 107s 446ms/step - loss: 0.4130 - tp: 1570.0000 - tn: 53141.0000 - fp: 6462.0000 - fn: 83.0000 - val_loss: 0.3039 - val_tp: 399.0000 - val_tn: 9109.0000 - val_fp: 1432.0000 - val_fn: 30.0000\n",
      "Epoch 25/40\n",
      "240/240 [==============================] - 113s 470ms/step - loss: 0.4222 - tp: 1567.0000 - tn: 53008.0000 - fp: 6595.0000 - fn: 86.0000 - val_loss: 0.3095 - val_tp: 404.0000 - val_tn: 9035.0000 - val_fp: 1506.0000 - val_fn: 25.0000\n",
      "Epoch 26/40\n",
      "240/240 [==============================] - 138s 572ms/step - loss: 0.4147 - tp: 1573.0000 - tn: 53149.0000 - fp: 6454.0000 - fn: 80.0000 - val_loss: 0.2879 - val_tp: 397.0000 - val_tn: 9200.0000 - val_fp: 1341.0000 - val_fn: 32.0000\n",
      "Epoch 27/40\n",
      "240/240 [==============================] - 104s 432ms/step - loss: 0.4069 - tp: 1576.0000 - tn: 53311.0000 - fp: 6292.0000 - fn: 77.0000 - val_loss: 0.3038 - val_tp: 404.0000 - val_tn: 9093.0000 - val_fp: 1448.0000 - val_fn: 25.0000\n",
      "Epoch 28/40\n",
      "240/240 [==============================] - 105s 436ms/step - loss: 0.4288 - tp: 1568.0000 - tn: 53002.0000 - fp: 6601.0000 - fn: 85.0000 - val_loss: 0.3147 - val_tp: 405.0000 - val_tn: 9085.0000 - val_fp: 1456.0000 - val_fn: 24.0000\n",
      "Epoch 29/40\n",
      "240/240 [==============================] - 111s 463ms/step - loss: 0.3978 - tp: 1578.0000 - tn: 53437.0000 - fp: 6166.0000 - fn: 75.0000 - val_loss: 0.3116 - val_tp: 400.0000 - val_tn: 9108.0000 - val_fp: 1433.0000 - val_fn: 29.0000\n",
      "Epoch 30/40\n",
      "240/240 [==============================] - 101s 420ms/step - loss: 0.3993 - tp: 1574.0000 - tn: 53421.0000 - fp: 6182.0000 - fn: 79.0000 - val_loss: 0.2769 - val_tp: 396.0000 - val_tn: 9234.0000 - val_fp: 1307.0000 - val_fn: 33.0000\n",
      "Epoch 31/40\n",
      "240/240 [==============================] - 111s 463ms/step - loss: 0.3887 - tp: 1578.0000 - tn: 53364.0000 - fp: 6239.0000 - fn: 75.0000 - val_loss: 0.3142 - val_tp: 399.0000 - val_tn: 9076.0000 - val_fp: 1465.0000 - val_fn: 30.0000\n",
      "Epoch 32/40\n",
      "240/240 [==============================] - 106s 439ms/step - loss: 0.3905 - tp: 1579.0000 - tn: 53363.0000 - fp: 6240.0000 - fn: 74.0000 - val_loss: 0.2910 - val_tp: 396.0000 - val_tn: 9199.0000 - val_fp: 1342.0000 - val_fn: 33.0000\n",
      "Epoch 33/40\n",
      "240/240 [==============================] - 129s 535ms/step - loss: 0.3814 - tp: 1586.0000 - tn: 53599.0000 - fp: 6004.0000 - fn: 67.0000 - val_loss: 0.3022 - val_tp: 394.0000 - val_tn: 9164.0000 - val_fp: 1377.0000 - val_fn: 35.0000\n",
      "Epoch 34/40\n",
      "240/240 [==============================] - 134s 535ms/step - loss: 0.3815 - tp: 1589.0000 - tn: 53433.0000 - fp: 6170.0000 - fn: 64.0000 - val_loss: 0.2955 - val_tp: 402.0000 - val_tn: 9129.0000 - val_fp: 1412.0000 - val_fn: 27.0000\n",
      "Epoch 35/40\n",
      "240/240 [==============================] - 111s 464ms/step - loss: 0.3733 - tp: 1585.0000 - tn: 53785.0000 - fp: 5818.0000 - fn: 68.0000 - val_loss: 0.3267 - val_tp: 404.0000 - val_tn: 9083.0000 - val_fp: 1458.0000 - val_fn: 25.0000\n",
      "Epoch 36/40\n",
      "240/240 [==============================] - 114s 473ms/step - loss: 0.3846 - tp: 1586.0000 - tn: 53547.0000 - fp: 6056.0000 - fn: 67.0000 - val_loss: 0.3035 - val_tp: 400.0000 - val_tn: 9136.0000 - val_fp: 1405.0000 - val_fn: 29.0000\n",
      "Epoch 37/40\n",
      "240/240 [==============================] - 102s 427ms/step - loss: 0.3687 - tp: 1592.0000 - tn: 53764.0000 - fp: 5839.0000 - fn: 61.0000 - val_loss: 0.3275 - val_tp: 402.0000 - val_tn: 9080.0000 - val_fp: 1461.0000 - val_fn: 27.0000\n",
      "Epoch 38/40\n",
      "240/240 [==============================] - 105s 438ms/step - loss: 0.3635 - tp: 1586.0000 - tn: 53865.0000 - fp: 5738.0000 - fn: 67.0000 - val_loss: 0.2918 - val_tp: 397.0000 - val_tn: 9222.0000 - val_fp: 1319.0000 - val_fn: 32.0000\n",
      "Epoch 39/40\n",
      "240/240 [==============================] - 102s 424ms/step - loss: 0.3618 - tp: 1597.0000 - tn: 53824.0000 - fp: 5779.0000 - fn: 56.0000 - val_loss: 0.3130 - val_tp: 403.0000 - val_tn: 9090.0000 - val_fp: 1451.0000 - val_fn: 26.0000\n",
      "Epoch 40/40\n",
      "240/240 [==============================] - 102s 426ms/step - loss: 0.3570 - tp: 1597.0000 - tn: 53799.0000 - fp: 5804.0000 - fn: 56.0000 - val_loss: 0.2660 - val_tp: 391.0000 - val_tn: 9330.0000 - val_fp: 1211.0000 - val_fn: 38.0000\n"
     ]
    },
    {
     "name": "stderr",
     "output_type": "stream",
     "text": [
      "WARNING:absl:Found untraced functions such as SpecialActivation_layer_call_fn, SpecialActivation_layer_call_and_return_conditional_losses, SpecialActivation_layer_call_fn, SpecialActivation_layer_call_and_return_conditional_losses while saving (showing 4 of 4). These functions will not be directly callable after loading.\n"
     ]
    },
    {
     "name": "stdout",
     "output_type": "stream",
     "text": [
      "INFO:tensorflow:Assets written to: results/cnn-training-220331/4_fold_finetune-all-dropout_model/assets\n"
     ]
    },
    {
     "name": "stderr",
     "output_type": "stream",
     "text": [
      "INFO:tensorflow:Assets written to: results/cnn-training-220331/4_fold_finetune-all-dropout_model/assets\n"
     ]
    }
   ],
   "source": [
    "fold = 0\n",
    "for train_idx, test_idx in kf_gen:\n",
    "    print()\n",
    "    print(\"Fold {}/{} ---------\".format(fold, n_splits))\n",
    "    print(\"Train indices: \", train_idx)\n",
    "    print(\"Test indices: \", test_idx)\n",
    "\n",
    "    # Data\n",
    "    X_train, X_test = [\n",
    "        np.concatenate([X[i] for i in idx]) \n",
    "        for idx in (train_idx, test_idx)\n",
    "    ]\n",
    "    y_train, y_test = [\n",
    "        np.concatenate([onset_vectors[i] for i in idx]) \n",
    "        for idx in (train_idx, test_idx)\n",
    "    ]\n",
    "\n",
    "    train_onset_ratio = y_train.sum()/len(y_train)\n",
    "    test_onset_ratio = y_test.sum()/len(y_test)\n",
    "    print(\"Onset ratio training set: \", train_onset_ratio)\n",
    "    print(\"Onset ratio test set: \", test_onset_ratio)\n",
    "    print()\n",
    "\n",
    "    # Normalize\n",
    "    center_frames_train = X_train[:,:,7,:]\n",
    "    mean_train = center_frames_train.mean(0).reshape((1,80,1,3))\n",
    "    std_train = center_frames_train.std(0, ddof=1).reshape((1,80,1,3))\n",
    "\n",
    "    X_train = (X_train - mean_train)/std_train\n",
    "    X_test = (X_test - mean_train)/std_train\n",
    "    \n",
    "    # Model\n",
    "    tf.keras.backend.clear_session()\n",
    "    (model, norm_layer)=get_model(finetune=False)\n",
    "    model.compile(optimizer=optimizer,\n",
    "              loss=loss_fn,\n",
    "              metrics=metrics)\n",
    "    \n",
    "    # Training\n",
    "    history = model.fit(\n",
    "        x=X_train,\n",
    "        y=y_train,\n",
    "        validation_data=(X_test, y_test),\n",
    "        class_weight = {0: 1., 1: 1/train_onset_ratio},\n",
    "        epochs = 40,\n",
    "        batch_size = 256\n",
    "    )\n",
    "    \n",
    "    # Saving\n",
    "    training_name = \"finetune-all-dropout\"\n",
    "    model.save('results/cnn-training-220331/{}_fold_{}_model'.format(fold, training_name))\n",
    "    with open('results/cnn-training-220330/{}_fold_{}_history.pickle'.format(fold, training_name), 'wb') as file_pi:\n",
    "        pickle.dump(history.history, file_pi)\n",
    "\n",
    "    fold += 1"
   ]
  },
  {
   "cell_type": "code",
   "execution_count": 26,
   "id": "8b89eb73",
   "metadata": {},
   "outputs": [],
   "source": [
    "with open('results/cnn-training-220330/{}_fold_{}_history.pickle'.format(4, training_name), 'rb') as file_pi:\n",
    "    history = pickle.load(file_pi)"
   ]
  },
  {
   "cell_type": "code",
   "execution_count": 13,
   "id": "c2d93f3c",
   "metadata": {},
   "outputs": [
    {
     "name": "stdout",
     "output_type": "stream",
     "text": [
      "F-score before postprocessing: 0.33311696741529273\n"
     ]
    }
   ],
   "source": [
    "THRES = ''\n",
    "VAL = ''\n",
    "TPS = history.history[VAL + 'tp' + THRES]\n",
    "FNS = history.history[VAL + 'fn' + THRES]\n",
    "FPS = history.history[VAL + 'fp' + THRES]\n",
    "print(\"F-score before postprocessing:\", 2*TPS[-2]/(2*TPS[-2] + FPS[-2] + FNS[-2]))"
   ]
  },
  {
   "cell_type": "code",
   "execution_count": 28,
   "id": "c361d908",
   "metadata": {},
   "outputs": [
    {
     "data": {
      "text/plain": [
       "<matplotlib.legend.Legend at 0x14fe53c10>"
      ]
     },
     "execution_count": 28,
     "metadata": {},
     "output_type": "execute_result"
    },
    {
     "data": {
      "image/png": "[encoded data removed]",
      "text/plain": [
       "<Figure size 432x288 with 1 Axes>"
      ]
     },
     "metadata": {
      "needs_background": "light"
     },
     "output_type": "display_data"
    }
   ],
   "source": [
    "plt.plot(history['loss'])\n",
    "plt.plot(history['val_loss'])\n",
    "plt.legend([\"Training loss\", \"Validation loss\"])"
   ]
  },
  {
   "cell_type": "code",
   "execution_count": 30,
   "id": "1d83928b",
   "metadata": {},
   "outputs": [
    {
     "data": {
      "text/plain": [
       "<matplotlib.legend.Legend at 0x14fbdc790>"
      ]
     },
     "execution_count": 30,
     "metadata": {},
     "output_type": "execute_result"
    },
    {
     "data": {
      "image/png": "[encoded data removed]",
      "text/plain": [
       "<Figure size 1440x288 with 2 Axes>"
      ]
     },
     "metadata": {
      "needs_background": "light"
     },
     "output_type": "display_data"
    }
   ],
   "source": [
    "fig, axs = plt.subplots(1,2,figsize=(20,4))\n",
    "# Prec. training\n",
    "axs[0].plot([tp/(fp+tp) for (tp, fp) in zip(history['tp'], history['fp'])], color='lightblue')\n",
    "# Rec. training\n",
    "axs[0].plot([tp/(fn+tp) for (tp, fn) in zip(history['tp'], history['fn'])], color='lightgreen')\n",
    "# F-measure\n",
    "axs[0].plot([2*tp/(2*tp+fp+fn) for (tp, fp, fn) in zip(history['tp'], history['fp'], history['fn'])], 'k:')\n",
    "axs[0].legend([\"Precision\", \"Recall\", \"F-measure\"])\n",
    "\n",
    "# Prec. training\n",
    "axs[1].plot([tp/(fp+tp) for (tp, fp) in zip(history['val_tp'], history['val_fp'])], color='lightblue')\n",
    "# Rec. training\n",
    "axs[1].plot([tp/(fn+tp) for (tp, fn) in zip(history['val_tp'], history['val_fn'])], color='lightgreen')\n",
    "# F-measure\n",
    "axs[1].plot([2*tp/(2*tp+fp+fn) for (tp, fp, fn) in zip(history['val_tp'], history['val_fp'], history['val_fn'])], 'k:')\n",
    "axs[1].legend([\"Precision\", \"Recall\", \"F-measure\"])"
   ]
  },
  {
   "cell_type": "code",
   "execution_count": 37,
   "id": "4a2a98df",
   "metadata": {},
   "outputs": [],
   "source": [
    "\n"
   ]
  },
  {
   "cell_type": "markdown",
   "id": "d0c015ec",
   "metadata": {},
   "source": [
    "## Audio analysis and onset extraction"
   ]
  },
  {
   "cell_type": "code",
   "execution_count": 35,
   "id": "3e488ddb",
   "metadata": {},
   "outputs": [
    {
     "name": "stdout",
     "output_type": "stream",
     "text": [
      "Test recordings:  [4]\n",
      "Length of recordings:  ['16.0 s']\n",
      "[1596.108843537415]\n",
      "Length of onset vectors:  [1597]\n",
      "Number of annotated onsets:  [75]  =  75\n"
     ]
    },
    {
     "name": "stderr",
     "output_type": "stream",
     "text": [
      "/usr/local/lib/python3.9/site-packages/madmom/audio/signal.py:457: UserWarning: Deprecated as of version 0.16. Please use madmom.io.audio.load_wave_file instead. Will be removed in version 0.18.\n",
      "  warnings.warn('Deprecated as of version 0.16. Please use madmom.io.audio.'\n",
      "/usr/local/lib/python3.9/site-packages/madmom/io/audio.py:493: WavFileWarning: Chunk (non-data) not understood, skipping it.\n",
      "  file_sample_rate, signal = wavfile.read(filename, mmap=True)\n"
     ]
    }
   ],
   "source": [
    "F_RATE = HOP/SR \n",
    "train_idx = np.array([0,  1,  2,  4,  5,  7,  8,  9, 11, 12, 13, 14, 16, 17, 18])\n",
    "test_idx = np.array([3, 6, 10, 15])\n",
    "test_idx = np.array([3])\n",
    "test_audio_paths = ['datasets/initslurtest_vn/initslurtest_vn_wav/slurtest{:02d}.wav'.format(test_index+1) for test_index in test_idx]\n",
    "test_audios = [madmom.audio.signal.load_wave_file(path)[0] for path in test_audio_paths]\n",
    "test_lengths = [len(test_audio)/SR for test_audio in test_audios]\n",
    "test_onsets = [genfromtxt('datasets/initslurtest_vn/initslurtest_vn_annotations/{:02d}.txt'.format(test_index+1), delimiter=',') for test_index in test_idx]\n",
    "test_onset_vectors = [get_label_vector(test_onset, len(test_audio)/SR, HOP, SR) for test_audio, test_onset in zip(test_audios, test_onsets)]\n",
    "print(\"Test recordings: \", test_idx+1)\n",
    "print(\"Length of recordings: \", [\"{:.1f} s\".format(l) for l in test_lengths])\n",
    "print([len(a)/HOP for a in test_audios])\n",
    "print(\"Length of onset vectors: \", [len(v) for v in test_onset_vectors])\n",
    "print(\"Number of annotated onsets: \", \n",
    "    [len(test_onset) for test_onset in test_onsets], \n",
    "    \" = \", np.sum([len(test_onset) for test_onset in test_onsets])\n",
    ")"
   ]
  },
  {
   "cell_type": "code",
   "execution_count": 36,
   "id": "40d836e4",
   "metadata": {},
   "outputs": [],
   "source": [
    "full_audio = np.concatenate(test_audios)\n",
    "cum_lengths = np.concatenate(([0.0], np.cumsum(test_lengths)))[:-1]\n",
    "full_onsets = np.concatenate(\n",
    "    [shift + onset for (shift, onset) in zip(cum_lengths, test_onsets)]\n",
    ")\n",
    "full_onset_vectors = np.concatenate(test_onset_vectors)"
   ]
  },
  {
   "cell_type": "code",
   "execution_count": 37,
   "id": "2fc376a6",
   "metadata": {},
   "outputs": [
    {
     "ename": "KeyboardInterrupt",
     "evalue": "",
     "output_type": "error",
     "traceback": [
      "\u001b[0;31m---------------------------------------------------------------------------\u001b[0m",
      "\u001b[0;31mKeyboardInterrupt\u001b[0m                         Traceback (most recent call last)",
      "\u001b[1;32m/Users/simonfal/kth-master/exjobb/beyondPianoRoll/flow.ipynb Cell 20'\u001b[0m in \u001b[0;36m<cell line: 1>\u001b[0;34m()\u001b[0m\n\u001b[0;32m----> <a href='vscode-notebook-cell:/Users/simonfal/kth-master/exjobb/beyondPianoRoll/flow.ipynb#ch0000033?line=0'>1</a>\u001b[0m X_train \u001b[39m=\u001b[39m np\u001b[39m.\u001b[39;49mconcatenate([X[i] \u001b[39mfor\u001b[39;49;00m i \u001b[39min\u001b[39;49;00m train_idx]) \n\u001b[1;32m      <a href='vscode-notebook-cell:/Users/simonfal/kth-master/exjobb/beyondPianoRoll/flow.ipynb#ch0000033?line=2'>3</a>\u001b[0m center_frames_train \u001b[39m=\u001b[39m X_train[:,:,\u001b[39m7\u001b[39m,:]\n\u001b[1;32m      <a href='vscode-notebook-cell:/Users/simonfal/kth-master/exjobb/beyondPianoRoll/flow.ipynb#ch0000033?line=3'>4</a>\u001b[0m mean_train \u001b[39m=\u001b[39m center_frames_train\u001b[39m.\u001b[39mmean(\u001b[39m0\u001b[39m)\u001b[39m.\u001b[39mreshape((\u001b[39m1\u001b[39m,\u001b[39m80\u001b[39m,\u001b[39m1\u001b[39m,\u001b[39m3\u001b[39m))\n",
      "File \u001b[0;32m<__array_function__ internals>:180\u001b[0m, in \u001b[0;36mconcatenate\u001b[0;34m(*args, **kwargs)\u001b[0m\n",
      "\u001b[0;31mKeyboardInterrupt\u001b[0m: "
     ]
    }
   ],
   "source": [
    "X_train = np.concatenate([X[i] for i in train_idx]) \n",
    "\n",
    "center_frames_train = X_train[:,:,7,:]\n",
    "mean_train = center_frames_train.mean(0).reshape((1,80,1,3))\n",
    "std_train = center_frames_train.std(0, ddof=1).reshape((1,80,1,3))\n",
    "\n"
   ]
  },
  {
   "cell_type": "code",
   "execution_count": 34,
   "id": "741d8287",
   "metadata": {},
   "outputs": [],
   "source": [
    "\n",
    "model = tf.keras.models.load_model('results/cnn-training-220331/{}_fold_{}_model'.format(0, training_name))\n",
    "test_model_out = model.predict((-mean_train)/std_train)"
   ]
  },
  {
   "cell_type": "code",
   "execution_count": 95,
   "id": "6a820900",
   "metadata": {},
   "outputs": [
    {
     "data": {
      "text/plain": [
       "416"
      ]
     },
     "execution_count": 95,
     "metadata": {},
     "output_type": "execute_result"
    }
   ],
   "source": [
    "KERNEL_SIZE = 5\n",
    "N_PRE = 5\n",
    "N_POST = 1\n",
    "THRES = 0.5\n",
    "\n",
    "test_peaks = madmom.features.onsets.peak_picking(\n",
    "                                    activations=test_model_out, \n",
    "                                    threshold=THRES, \n",
    "                                    smooth=KERNEL_SIZE, \n",
    "                                    pre_avg=N_PRE, \n",
    "                                    post_avg=N_POST, \n",
    "                                    pre_max=N_PRE, \n",
    "                                    post_max=N_POST\n",
    ")[0].astype(np.float32)*F_RATE\n",
    "\n",
    "len(test_peaks)\n"
   ]
  },
  {
   "cell_type": "code",
   "execution_count": null,
   "id": "db506487",
   "metadata": {},
   "outputs": [
    {
     "name": "stdout",
     "output_type": "stream",
     "text": [
      "[10.309999 10.84     11.38     11.96     12.45     13.03    ]\n"
     ]
    },
    {
     "data": {
      "text/plain": [
       "<matplotlib.collections.PathCollection at 0x1529dfee0>"
      ]
     },
     "execution_count": 51,
     "metadata": {},
     "output_type": "execute_result"
    },
    {
     "data": {
      "image/png": "[encoded data removed]",
      "text/plain": [
       "<Figure size 432x288 with 1 Axes>"
      ]
     },
     "metadata": {
      "needs_background": "light"
     },
     "output_type": "display_data"
    }
   ],
   "source": [
    "start_sec = 10\n",
    "end_sec = 14\n",
    "selected_peaks = test_peaks[np.intersect1d(\n",
    "    np.where(test_peaks>=start_sec)[0],\n",
    "    np.where(test_peaks<end_sec)[0])\n",
    "]\n",
    "selected_onsets = full_onsets[np.intersect1d(\n",
    "    np.where(full_onsets>=start_sec)[0],\n",
    "    np.where(full_onsets<end_sec)[0])\n",
    "]\n",
    "print(selected_peaks)\n",
    "plt.scatter(selected_peaks, np.zeros_like(selected_peaks), marker='x', color='blue')\n",
    "plt.scatter(selected_onsets, np.zeros_like(selected_onsets), marker='x', color='green')"
   ]
  },
  {
   "cell_type": "code",
   "execution_count": 96,
   "id": "10d8b049",
   "metadata": {},
   "outputs": [
    {
     "name": "stdout",
     "output_type": "stream",
     "text": [
      "374\n",
      "Precision: 89.9 %\n",
      "Recall: 94.9 %\n",
      "F-score: 92.3 %\n"
     ]
    }
   ],
   "source": [
    "from analyze_detection import evaluate\n",
    "\n",
    "true = full_onsets\n",
    "pred = test_peaks\n",
    "\n",
    "TOL = 0.025\n",
    "[CD,FN,FP,doubles,merged] = evaluate(true, pred, tol_sec=TOL)\n",
    "print(CD)\n",
    "print(\"Precision: {:.1f} %\".format( 100*CD/(CD+FP)))\n",
    "print(\"Recall: {:.1f} %\".format( 100*CD/(CD+FN)))\n",
    "print(\"F-score: {:.1f} %\".format( 200*CD/(2*CD+FP+FN)))"
   ]
  },
  {
   "cell_type": "code",
   "execution_count": 82,
   "id": "238a057a",
   "metadata": {},
   "outputs": [
    {
     "name": "stdout",
     "output_type": "stream",
     "text": [
      "Cannot plot selected region, choose other start/dur values\n"
     ]
    },
    {
     "data": {
      "text/plain": [
       "<Figure size 1800x360 with 0 Axes>"
      ]
     },
     "metadata": {},
     "output_type": "display_data"
    }
   ],
   "source": [
    "start_sec = 30\n",
    "dur_sec = 5\n",
    "\n",
    "selected_audio = full_audio[start_sec*SR:(start_sec+dur_sec)*SR]\n",
    "selected_onsets = full_onsets[np.intersect1d(\n",
    "        np.where(full_onsets>=start_sec)[0], \n",
    "        np.where(full_onsets<start_sec+dur_sec)[0]\n",
    ")]\n",
    "selected_onehot = full_onset_vectors[int(start_sec/F_RATE):int((start_sec+dur_sec)/F_RATE)]\n",
    "fig = plt.figure(figsize=(25,5))\n",
    "if start_sec + dur_sec < len(full_audio)/SR:\n",
    "    \n",
    "    \n",
    "    plt.plot(\n",
    "        np.linspace(start_sec, start_sec+dur_sec, dur_sec*SR),\n",
    "        selected_audio, \n",
    "        color=\"lightgray\"\n",
    "    )\n",
    "    for i, onset in enumerate(selected_onehot):\n",
    "        if onset==1:\n",
    "            plt.scatter(start_sec + i*F_RATE/dur_sec, 0, color='green')\n",
    "    plt.xlabel(\"Seconds\")\n",
    "    plt.show()\n",
    "\n",
    "else:\n",
    "    print(\"Cannot plot selected region, choose other start/dur values\")"
   ]
  },
  {
   "cell_type": "code",
   "execution_count": 81,
   "id": "245acaf2",
   "metadata": {},
   "outputs": [
    {
     "data": {
      "text/plain": [
       "0.01"
      ]
     },
     "execution_count": 81,
     "metadata": {},
     "output_type": "execute_result"
    }
   ],
   "source": []
  },
  {
   "cell_type": "code",
   "execution_count": 22,
   "id": "f2f78602",
   "metadata": {},
   "outputs": [
    {
     "name": "stdout",
     "output_type": "stream",
     "text": [
      "Precision: 58.2 %\n",
      "Recall: 61.5 %\n"
     ]
    }
   ],
   "source": []
  },
  {
   "cell_type": "code",
   "execution_count": null,
   "id": "22736e04",
   "metadata": {},
   "outputs": [],
   "source": [
    "#f = open(\"datasets/initslurtest_vn/model-output/bockmodel-220315-slurtest{:02d}.txt\".format(test_index), \"w\")\n",
    "#for i in range(len(peaks)):\n",
    "#    f.write(str(np.round((peaks[i]+7)*440/44100, decimals=2))+ \"\\n\")\n",
    "#f.close()"
   ]
  },
  {
   "cell_type": "code",
   "execution_count": null,
   "id": "82bf4341",
   "metadata": {},
   "outputs": [],
   "source": []
  }
 ],
 "metadata": {
  "kernelspec": {
   "display_name": "Python 3 (ipykernel)",
   "language": "python",
   "name": "python3"
  },
  "language_info": {
   "codemirror_mode": {
    "name": "ipython",
    "version": 3
   },
   "file_extension": ".py",
   "mimetype": "text/x-python",
   "name": "python",
   "nbconvert_exporter": "python",
   "pygments_lexer": "ipython3",
   "version": "3.9.10"
  }
 },
 "nbformat": 4,
 "nbformat_minor": 5
}
