{
 "cells": [
  {
   "cell_type": "code",
   "execution_count": 1,
   "id": "b0f89d5a",
   "metadata": {},
   "outputs": [],
   "source": [
    "import os\n",
    "import pickle\n",
    "import datetime\n",
    "\n",
    "import numpy as np\n",
    "from numpy import genfromtxt\n",
    "import matplotlib.pyplot as plt\n",
    "\n",
    "import tensorflow as tf\n",
    "import madmom\n",
    "\n",
    "from segment import segment_spectrogram\n",
    "from modules.labels import get_label_vector\n",
    "from modules.madmom_cnn_prep import cnn_preprocessor\n",
    "from datasets import Dataset\n",
    "from analyze_detection import evaluate, f_score\n",
    "from models.bock2013pret import get_model\n",
    "\n",
    "%load_ext autoreload\n",
    "%autoreload 2\n",
    "\n",
    "SR = 44100\n",
    "HOP = 441\n",
    "CONTEXT = 7\n"
   ]
  },
  {
   "cell_type": "code",
   "execution_count": 2,
   "id": "d5efad60",
   "metadata": {},
   "outputs": [],
   "source": [
    "# Load Madmom normalization\n",
    "def cnn_normalize(frames):\n",
    "    inv_std = np.load(\"models/bock2013pret_inv_std.npy\")\n",
    "    mean = np.load(\"models/bock2013pret_mean.npy\")\n",
    "    frames_normalized = (frames - np.reshape(mean, (1,80,3)))*np.reshape(inv_std, (1,80,3))\n",
    "    return frames_normalized\n",
    "    \n",
    "# Load preprocessing funciton\n",
    "preprocessor = cnn_preprocessor()\n",
    "box_processor = madmom.features.onsets.CNNOnsetProcessor()"
   ]
  },
  {
   "cell_type": "code",
   "execution_count": 3,
   "id": "29ac37ea",
   "metadata": {},
   "outputs": [
    {
     "name": "stdout",
     "output_type": "stream",
     "text": [
      "Dataset created\n",
      "Found 19 audio files and 0 annotation files.\n"
     ]
    },
    {
     "name": "stderr",
     "output_type": "stream",
     "text": [
      "/usr/local/lib/python3.9/site-packages/madmom/audio/signal.py:457: UserWarning: Deprecated as of version 0.16. Please use madmom.io.audio.load_wave_file instead. Will be removed in version 0.18.\n",
      "  warnings.warn('Deprecated as of version 0.16. Please use madmom.io.audio.'\n",
      "/usr/local/lib/python3.9/site-packages/madmom/io/audio.py:493: WavFileWarning: Chunk (non-data) not understood, skipping it.\n",
      "  file_sample_rate, signal = wavfile.read(filename, mmap=True)\n"
     ]
    }
   ],
   "source": [
    "ds = Dataset(\"initslurtest\")\n",
    "audio_fnames = ds.get_audio_paths()\n",
    "label_fnames = ds.get_annotation_paths()\n",
    "\n",
    "audios = [madmom.audio.signal.load_wave_file(filename)[0] for filename in audio_fnames]\n",
    "sample_rates = [madmom.audio.signal.load_wave_file(filename)[1] for filename in audio_fnames]\n",
    "onset_schedules = [genfromtxt(label_fname, delimiter=',') for label_fname in label_fnames]\n",
    "for ele in sample_rates:\n",
    "    if ele != SR:\n",
    "        print(\"Some sample rates are not equal to 44.1kHz!\")\n"
   ]
  },
  {
   "cell_type": "code",
   "execution_count": null,
   "id": "41a06a39",
   "metadata": {},
   "outputs": [],
   "source": [
    "[print(\"Name of rec: {}\\n\"\n",
    "       \"Len in seconds: {:.2f}\\n\"\n",
    "       \"Shape of audio: {}\\n\"\n",
    "       \"Shape of onset schedule: {}\\n\"\n",
    "       \"Onsets from {:.2f}s to {:.2f}s\\n\".format(\n",
    "                                        os.path.split(fname)[1], \n",
    "                                        audio.shape[0]/44100,\n",
    "                                        audio.shape,\n",
    "                                        schedule.shape,\n",
    "                                        schedule.min(),\n",
    "                                        schedule.max(),\n",
    "                                        ) \n",
    "    ) for fname, audio, schedule in zip(audio_fnames, audios, onset_schedules)\n",
    "]"
   ]
  },
  {
   "cell_type": "code",
   "execution_count": null,
   "id": "df3577bc",
   "metadata": {},
   "outputs": [],
   "source": [
    "# Add white noise to recordings\n",
    "# Noise variance is adjusted to a fixed Signal Noise Ratio computed recording-wise\n",
    "# snr_db = 20 means S/N=10\n",
    "# snr_db = 10 means S/N≈3.2\n",
    "SNR_DB = 10\n",
    "snr_v = 10**(SNR_DB/20)\n",
    "\n",
    "def augmentation(audio, t=None, p=None):\n",
    "    if t==None:\n",
    "        return audio\n",
    "    elif t==\"white_noise\":\n",
    "        # p contains snr_db parameter\n",
    "        return audio+np.random.normal(\n",
    "            scale=np.mean(rms(y=audio))/(10**(p/20)),\n",
    "            size=audio.shape\n",
    "            )\n",
    "\n",
    "noisy_audios = [augmentation(audio, t=\"white_noise\", p=SNR_DB) for audio in audios]\n",
    "fig, axs = plt.subplots(2,1)\n",
    "axs[0].plot(audios[0][:100000])\n",
    "axs[1].plot(noisy_audios[0][:100000])"
   ]
  },
  {
   "cell_type": "code",
   "execution_count": 4,
   "id": "78d4d97e",
   "metadata": {},
   "outputs": [
    {
     "name": "stdout",
     "output_type": "stream",
     "text": [
      "(1697,)\n"
     ]
    }
   ],
   "source": [
    "onset_vectors = [get_label_vector(sched, len(audio)/SR, HOP, SR)\n",
    "    for (sched, audio) in zip(onset_schedules, audios)\n",
    "]\n",
    "print(onset_vectors[0].shape)"
   ]
  },
  {
   "cell_type": "code",
   "execution_count": 5,
   "id": "9d6656f4",
   "metadata": {},
   "outputs": [
    {
     "name": "stdout",
     "output_type": "stream",
     "text": [
      "(1711, 80, 3)\n",
      "(1697, 80, 15, 3)\n"
     ]
    }
   ],
   "source": [
    "# Create data and normalize\n",
    "mm_proc_frames = [preprocessor(fname) for fname in audio_fnames]\n",
    "mm_frames_normalized = [cnn_normalize(frame_set) for frame_set in mm_proc_frames]\n",
    "print(mm_frames_normalized[0].shape)\n",
    "X = [[\n",
    "    data[i-CONTEXT:i+CONTEXT+1,:,:] \n",
    "    for i in range(CONTEXT, data.shape[0]-CONTEXT)\n",
    "] for data in mm_frames_normalized]\n",
    "X = [np.transpose(np.stack(data, 0), [0,2,1,3]) for data in X]\n",
    "print(X[0].shape)"
   ]
  },
  {
   "cell_type": "code",
   "execution_count": 7,
   "id": "5783cde5",
   "metadata": {},
   "outputs": [
    {
     "name": "stdout",
     "output_type": "stream",
     "text": [
      "[array([ 0, 15, 13,  8, 14,  4,  7,  9,  6, 10, 17, 18,  2]), array([11, 16,  1,  3]), array([12,  5])]\n"
     ]
    }
   ],
   "source": [
    "# Single split:\n",
    "\n",
    "from sklearn.model_selection import train_test_split\n",
    "random_seed = 119\n",
    "test = 0.1\n",
    "validation = 0.2\n",
    "training = 0.7\n",
    "train_idx, test_val_idx = train_test_split(np.arange(len(audio_fnames)), test_size=test+validation, random_state=random_seed)\n",
    "val_idx, test_idx = train_test_split(test_val_idx, test_size=test/(test+validation), random_state=random_seed)\n",
    "idx_split = [train_idx, val_idx, test_idx]\n",
    "print(idx_split)\n",
    "\n",
    "# Divide\n",
    "X_train, X_val, X_test = [\n",
    "    np.concatenate([X[i] for i in idx]) \n",
    "    for idx in idx_split\n",
    "]\n",
    "y_train, y_val, y_test = [\n",
    "    np.concatenate([onset_vectors[i] for i in idx]) \n",
    "    for idx in idx_split\n",
    "]\n",
    "\n",
    "train_onset_ratio = y_train.sum()/len(y_train)\n",
    "\n",
    "# Normalize\n",
    "center_frames_train = X_train[:,:,7,:]\n",
    "mean_train = center_frames_train.mean(0).reshape((1,80,1,3))\n",
    "std_train = center_frames_train.std(0, ddof=1).reshape((1,80,1,3))\n",
    "\n",
    "X_train = (X_train - mean_train)/std_train\n",
    "X_val = (X_val - mean_train)/std_train\n",
    "X_test = (X_test - mean_train)/std_train"
   ]
  },
  {
   "cell_type": "code",
   "execution_count": 6,
   "id": "bcc4b361",
   "metadata": {},
   "outputs": [
    {
     "name": "stdout",
     "output_type": "stream",
     "text": [
      "Train:  [ 0  1  2  4  5  7  8  9 11 12 13 14 16 17 18] Test:  [ 3  6 10 15]\n",
      "Train:  [ 0  1  3  5  6  7  8  9 10 11 12 13 15 17 18] Test:  [ 2  4 14 16]\n",
      "Train:  [ 2  3  4  5  6  8  9 10 11 12 14 15 16 17 18] Test:  [ 0  1  7 13]\n",
      "Train:  [ 0  1  2  3  4  5  6  7 10 11 12 13 14 15 16] Test:  [ 8  9 17 18]\n",
      "Train:  [ 0  1  2  3  4  6  7  8  9 10 13 14 15 16 17 18] Test:  [ 5 11 12]\n"
     ]
    }
   ],
   "source": [
    "# K-Fold:\n",
    "\n",
    "from sklearn.model_selection import KFold\n",
    "random_seed = 119\n",
    "n_splits =  5\n",
    "kf = KFold(n_splits=n_splits, shuffle=True, random_state=True)\n",
    "kf_gen = kf.split(np.arange(len(audio_fnames)))\n",
    "for train_index, test_index in kf_gen:\n",
    "    print(\"Train: \", train_index, \"Test: \", test_index)\n",
    "kf_gen = kf.split(np.arange(len(audio_fnames)))\n"
   ]
  },
  {
   "cell_type": "code",
   "execution_count": 7,
   "id": "47c79011",
   "metadata": {},
   "outputs": [
    {
     "name": "stderr",
     "output_type": "stream",
     "text": [
      "2022-04-01 00:52:14.982335: I tensorflow/core/platform/cpu_feature_guard.cc:151] This TensorFlow binary is optimized with oneAPI Deep Neural Network Library (oneDNN) to use the following CPU instructions in performance-critical operations:  AVX2 FMA\n",
      "To enable them in other operations, rebuild TensorFlow with the appropriate compiler flags.\n"
     ]
    }
   ],
   "source": [
    "from modules.metrics import f1\n",
    "loss_fn = tf.keras.losses.BinaryCrossentropy(from_logits=False)\n",
    "optimizer = tf.keras.optimizers.Adam()\n",
    "metrics = [\n",
    "    tf.keras.metrics.TruePositives(name='tp', thresholds=0.5),\n",
    "    tf.keras.metrics.TrueNegatives(name='tn', thresholds=0.5),\n",
    "    tf.keras.metrics.FalsePositives(name='fp', thresholds=0.5),\n",
    "    tf.keras.metrics.FalseNegatives(name='fn', thresholds=0.5),\n",
    "]\n"
   ]
  },
  {
   "cell_type": "code",
   "execution_count": 10,
   "id": "83087052",
   "metadata": {},
   "outputs": [
    {
     "name": "stdout",
     "output_type": "stream",
     "text": [
      "\n",
      "Fold 0/5 ---------\n",
      "Train indices:  [ 0  1  2  4  5  7  8  9 11 12 13 14 16 17 18]\n",
      "Test indices:  [ 3  6 10 15]\n",
      "Onset ratio training set:  0.025734086863344913\n",
      "Onset ratio test set:  0.04128089105464671\n",
      "\n",
      "Epoch 1/40\n",
      "227/227 [==============================] - 91s 361ms/step - loss: 1.0103 - tp: 1222.0000 - tn: 45289.0000 - fp: 11083.0000 - fn: 267.0000 - val_loss: 0.4209 - val_tp: 529.0000 - val_tn: 10795.0000 - val_fp: 2977.0000 - val_fn: 64.0000\n",
      "Epoch 2/40\n",
      "227/227 [==============================] - 82s 363ms/step - loss: 0.7171 - tp: 1309.0000 - tn: 47093.0000 - fp: 9279.0000 - fn: 180.0000 - val_loss: 0.4808 - val_tp: 545.0000 - val_tn: 10539.0000 - val_fp: 3233.0000 - val_fn: 48.0000\n",
      "Epoch 3/40\n",
      "227/227 [==============================] - 54s 240ms/step - loss: 0.6736 - tp: 1330.0000 - tn: 47480.0000 - fp: 8892.0000 - fn: 159.0000 - val_loss: 0.4369 - val_tp: 546.0000 - val_tn: 10810.0000 - val_fp: 2962.0000 - val_fn: 47.0000\n",
      "Epoch 4/40\n",
      "227/227 [==============================] - 48s 210ms/step - loss: 0.6378 - tp: 1339.0000 - tn: 48097.0000 - fp: 8275.0000 - fn: 150.0000 - val_loss: 0.4150 - val_tp: 534.0000 - val_tn: 11042.0000 - val_fp: 2730.0000 - val_fn: 59.0000\n",
      "Epoch 5/40\n",
      "227/227 [==============================] - 49s 217ms/step - loss: 0.6067 - tp: 1349.0000 - tn: 48443.0000 - fp: 7929.0000 - fn: 140.0000 - val_loss: 0.3587 - val_tp: 525.0000 - val_tn: 11542.0000 - val_fp: 2230.0000 - val_fn: 68.0000\n",
      "Epoch 6/40\n",
      "227/227 [==============================] - 49s 214ms/step - loss: 0.5828 - tp: 1343.0000 - tn: 48617.0000 - fp: 7755.0000 - fn: 146.0000 - val_loss: 0.3629 - val_tp: 528.0000 - val_tn: 11511.0000 - val_fp: 2261.0000 - val_fn: 65.0000\n",
      "Epoch 7/40\n",
      "227/227 [==============================] - 48s 212ms/step - loss: 0.5857 - tp: 1345.0000 - tn: 48773.0000 - fp: 7599.0000 - fn: 144.0000 - val_loss: 0.3649 - val_tp: 530.0000 - val_tn: 11499.0000 - val_fp: 2273.0000 - val_fn: 63.0000\n",
      "Epoch 8/40\n",
      "227/227 [==============================] - 48s 213ms/step - loss: 0.5511 - tp: 1359.0000 - tn: 49094.0000 - fp: 7278.0000 - fn: 130.0000 - val_loss: 0.3640 - val_tp: 527.0000 - val_tn: 11599.0000 - val_fp: 2173.0000 - val_fn: 66.0000\n",
      "Epoch 9/40\n",
      "227/227 [==============================] - 49s 218ms/step - loss: 0.5242 - tp: 1372.0000 - tn: 49444.0000 - fp: 6928.0000 - fn: 117.0000 - val_loss: 0.3222 - val_tp: 510.0000 - val_tn: 11853.0000 - val_fp: 1919.0000 - val_fn: 83.0000\n",
      "Epoch 10/40\n",
      "227/227 [==============================] - 43s 192ms/step - loss: 0.5253 - tp: 1370.0000 - tn: 49362.0000 - fp: 7010.0000 - fn: 119.0000 - val_loss: 0.3769 - val_tp: 537.0000 - val_tn: 11422.0000 - val_fp: 2350.0000 - val_fn: 56.0000\n",
      "Epoch 11/40\n",
      "227/227 [==============================] - 40s 177ms/step - loss: 0.5199 - tp: 1374.0000 - tn: 49354.0000 - fp: 7018.0000 - fn: 115.0000 - val_loss: 0.3408 - val_tp: 525.0000 - val_tn: 11697.0000 - val_fp: 2075.0000 - val_fn: 68.0000\n",
      "Epoch 12/40\n",
      "227/227 [==============================] - 40s 175ms/step - loss: 0.5014 - tp: 1381.0000 - tn: 49465.0000 - fp: 6907.0000 - fn: 108.0000 - val_loss: 0.3626 - val_tp: 533.0000 - val_tn: 11536.0000 - val_fp: 2236.0000 - val_fn: 60.0000\n",
      "Epoch 13/40\n",
      "227/227 [==============================] - 39s 172ms/step - loss: 0.4995 - tp: 1378.0000 - tn: 49548.0000 - fp: 6824.0000 - fn: 111.0000 - val_loss: 0.3694 - val_tp: 531.0000 - val_tn: 11497.0000 - val_fp: 2275.0000 - val_fn: 62.0000\n",
      "Epoch 14/40\n",
      "227/227 [==============================] - 40s 174ms/step - loss: 0.4811 - tp: 1390.0000 - tn: 49670.0000 - fp: 6702.0000 - fn: 99.0000 - val_loss: 0.3324 - val_tp: 519.0000 - val_tn: 11818.0000 - val_fp: 1954.0000 - val_fn: 74.0000\n",
      "Epoch 15/40\n",
      "227/227 [==============================] - 40s 175ms/step - loss: 0.4987 - tp: 1379.0000 - tn: 49658.0000 - fp: 6714.0000 - fn: 110.0000 - val_loss: 0.3372 - val_tp: 522.0000 - val_tn: 11741.0000 - val_fp: 2031.0000 - val_fn: 71.0000\n",
      "Epoch 16/40\n",
      "227/227 [==============================] - 41s 181ms/step - loss: 0.4710 - tp: 1399.0000 - tn: 50033.0000 - fp: 6339.0000 - fn: 90.0000 - val_loss: 0.3343 - val_tp: 518.0000 - val_tn: 11806.0000 - val_fp: 1966.0000 - val_fn: 75.0000\n",
      "Epoch 17/40\n",
      "227/227 [==============================] - 40s 175ms/step - loss: 0.4599 - tp: 1396.0000 - tn: 50119.0000 - fp: 6253.0000 - fn: 93.0000 - val_loss: 0.3459 - val_tp: 529.0000 - val_tn: 11709.0000 - val_fp: 2063.0000 - val_fn: 64.0000\n",
      "Epoch 18/40\n",
      "227/227 [==============================] - 40s 178ms/step - loss: 0.4637 - tp: 1395.0000 - tn: 49932.0000 - fp: 6440.0000 - fn: 94.0000 - val_loss: 0.3323 - val_tp: 522.0000 - val_tn: 11786.0000 - val_fp: 1986.0000 - val_fn: 71.0000\n",
      "Epoch 19/40\n",
      "227/227 [==============================] - 42s 184ms/step - loss: 0.4453 - tp: 1395.0000 - tn: 50259.0000 - fp: 6113.0000 - fn: 94.0000 - val_loss: 0.3522 - val_tp: 527.0000 - val_tn: 11667.0000 - val_fp: 2105.0000 - val_fn: 66.0000\n",
      "Epoch 20/40\n",
      "227/227 [==============================] - 40s 176ms/step - loss: 0.4497 - tp: 1399.0000 - tn: 50082.0000 - fp: 6290.0000 - fn: 90.0000 - val_loss: 0.2861 - val_tp: 504.0000 - val_tn: 12103.0000 - val_fp: 1669.0000 - val_fn: 89.0000\n",
      "Epoch 21/40\n",
      "227/227 [==============================] - 41s 181ms/step - loss: 0.4362 - tp: 1393.0000 - tn: 50398.0000 - fp: 5974.0000 - fn: 96.0000 - val_loss: 0.3275 - val_tp: 522.0000 - val_tn: 11817.0000 - val_fp: 1955.0000 - val_fn: 71.0000\n",
      "Epoch 22/40\n",
      "227/227 [==============================] - 46s 205ms/step - loss: 0.4270 - tp: 1412.0000 - tn: 50259.0000 - fp: 6113.0000 - fn: 77.0000 - val_loss: 0.3318 - val_tp: 525.0000 - val_tn: 11742.0000 - val_fp: 2030.0000 - val_fn: 68.0000\n",
      "Epoch 23/40\n",
      "227/227 [==============================] - 64s 279ms/step - loss: 0.4336 - tp: 1405.0000 - tn: 50238.0000 - fp: 6134.0000 - fn: 84.0000 - val_loss: 0.2927 - val_tp: 511.0000 - val_tn: 12015.0000 - val_fp: 1757.0000 - val_fn: 82.0000\n",
      "Epoch 24/40\n",
      "227/227 [==============================] - 58s 253ms/step - loss: 0.4307 - tp: 1404.0000 - tn: 50214.0000 - fp: 6158.0000 - fn: 85.0000 - val_loss: 0.3176 - val_tp: 517.0000 - val_tn: 11842.0000 - val_fp: 1930.0000 - val_fn: 76.0000\n",
      "Epoch 25/40\n",
      "227/227 [==============================] - 47s 205ms/step - loss: 0.4224 - tp: 1406.0000 - tn: 50404.0000 - fp: 5968.0000 - fn: 83.0000 - val_loss: 0.2774 - val_tp: 504.0000 - val_tn: 12110.0000 - val_fp: 1662.0000 - val_fn: 89.0000\n",
      "Epoch 26/40\n",
      "227/227 [==============================] - 43s 188ms/step - loss: 0.4207 - tp: 1410.0000 - tn: 50455.0000 - fp: 5917.0000 - fn: 79.0000 - val_loss: 0.3055 - val_tp: 511.0000 - val_tn: 11954.0000 - val_fp: 1818.0000 - val_fn: 82.0000\n",
      "Epoch 27/40\n",
      "227/227 [==============================] - 49s 215ms/step - loss: 0.4047 - tp: 1425.0000 - tn: 50555.0000 - fp: 5817.0000 - fn: 64.0000 - val_loss: 0.3156 - val_tp: 516.0000 - val_tn: 11913.0000 - val_fp: 1859.0000 - val_fn: 77.0000\n",
      "Epoch 28/40\n",
      "227/227 [==============================] - 49s 215ms/step - loss: 0.4110 - tp: 1418.0000 - tn: 50562.0000 - fp: 5810.0000 - fn: 71.0000 - val_loss: 0.2957 - val_tp: 512.0000 - val_tn: 11988.0000 - val_fp: 1784.0000 - val_fn: 81.0000\n",
      "Epoch 29/40\n",
      "227/227 [==============================] - 55s 242ms/step - loss: 0.4079 - tp: 1417.0000 - tn: 50501.0000 - fp: 5871.0000 - fn: 72.0000 - val_loss: 0.2863 - val_tp: 508.0000 - val_tn: 12083.0000 - val_fp: 1689.0000 - val_fn: 85.0000\n",
      "Epoch 30/40\n",
      "227/227 [==============================] - 60s 262ms/step - loss: 0.4035 - tp: 1410.0000 - tn: 50637.0000 - fp: 5735.0000 - fn: 79.0000 - val_loss: 0.3172 - val_tp: 520.0000 - val_tn: 11910.0000 - val_fp: 1862.0000 - val_fn: 73.0000\n",
      "Epoch 31/40\n",
      "227/227 [==============================] - 52s 228ms/step - loss: 0.4005 - tp: 1420.0000 - tn: 50822.0000 - fp: 5550.0000 - fn: 69.0000 - val_loss: 0.3002 - val_tp: 510.0000 - val_tn: 12010.0000 - val_fp: 1762.0000 - val_fn: 83.0000\n",
      "Epoch 32/40\n",
      "227/227 [==============================] - 47s 206ms/step - loss: 0.3980 - tp: 1419.0000 - tn: 50721.0000 - fp: 5651.0000 - fn: 70.0000 - val_loss: 0.3084 - val_tp: 516.0000 - val_tn: 11969.0000 - val_fp: 1803.0000 - val_fn: 77.0000\n",
      "Epoch 33/40\n",
      "227/227 [==============================] - 44s 193ms/step - loss: 0.3889 - tp: 1420.0000 - tn: 50877.0000 - fp: 5495.0000 - fn: 69.0000 - val_loss: 0.3317 - val_tp: 518.0000 - val_tn: 11820.0000 - val_fp: 1952.0000 - val_fn: 75.0000\n",
      "Epoch 34/40\n",
      "227/227 [==============================] - 41s 180ms/step - loss: 0.3819 - tp: 1426.0000 - tn: 50981.0000 - fp: 5391.0000 - fn: 63.0000 - val_loss: 0.3048 - val_tp: 516.0000 - val_tn: 11961.0000 - val_fp: 1811.0000 - val_fn: 77.0000\n",
      "Epoch 35/40\n",
      "227/227 [==============================] - 44s 193ms/step - loss: 0.3892 - tp: 1425.0000 - tn: 50765.0000 - fp: 5607.0000 - fn: 64.0000 - val_loss: 0.3137 - val_tp: 522.0000 - val_tn: 11837.0000 - val_fp: 1935.0000 - val_fn: 71.0000\n",
      "Epoch 36/40\n",
      "227/227 [==============================] - 47s 206ms/step - loss: 0.3941 - tp: 1425.0000 - tn: 50755.0000 - fp: 5617.0000 - fn: 64.0000 - val_loss: 0.3317 - val_tp: 524.0000 - val_tn: 11837.0000 - val_fp: 1935.0000 - val_fn: 69.0000\n",
      "Epoch 37/40\n",
      "227/227 [==============================] - 42s 183ms/step - loss: 0.3842 - tp: 1422.0000 - tn: 50832.0000 - fp: 5540.0000 - fn: 67.0000 - val_loss: 0.3148 - val_tp: 511.0000 - val_tn: 11963.0000 - val_fp: 1809.0000 - val_fn: 82.0000\n",
      "Epoch 38/40\n",
      "227/227 [==============================] - 40s 177ms/step - loss: 0.3776 - tp: 1424.0000 - tn: 51009.0000 - fp: 5363.0000 - fn: 65.0000 - val_loss: 0.3282 - val_tp: 520.0000 - val_tn: 11854.0000 - val_fp: 1918.0000 - val_fn: 73.0000\n",
      "Epoch 39/40\n",
      "227/227 [==============================] - 39s 174ms/step - loss: 0.3745 - tp: 1422.0000 - tn: 50991.0000 - fp: 5381.0000 - fn: 67.0000 - val_loss: 0.3151 - val_tp: 517.0000 - val_tn: 11940.0000 - val_fp: 1832.0000 - val_fn: 76.0000\n",
      "Epoch 40/40\n",
      "227/227 [==============================] - 39s 173ms/step - loss: 0.3770 - tp: 1431.0000 - tn: 51049.0000 - fp: 5323.0000 - fn: 58.0000 - val_loss: 0.2906 - val_tp: 510.0000 - val_tn: 12036.0000 - val_fp: 1736.0000 - val_fn: 83.0000\n"
     ]
    },
    {
     "name": "stderr",
     "output_type": "stream",
     "text": [
      "2022-04-01 01:30:37.505229: W tensorflow/python/util/util.cc:368] Sets are not currently considered sequences, but this may change in the future, so consider avoiding using them.\n",
      "WARNING:absl:Found untraced functions such as SpecialActivation_layer_call_fn, SpecialActivation_layer_call_and_return_conditional_losses, SpecialActivation_layer_call_fn, SpecialActivation_layer_call_and_return_conditional_losses while saving (showing 4 of 4). These functions will not be directly callable after loading.\n"
     ]
    },
    {
     "name": "stdout",
     "output_type": "stream",
     "text": [
      "INFO:tensorflow:Assets written to: results/cnn-training-220331/0_fold_finetune-dense-dropout_model/assets\n"
     ]
    },
    {
     "name": "stderr",
     "output_type": "stream",
     "text": [
      "INFO:tensorflow:Assets written to: results/cnn-training-220331/0_fold_finetune-dense-dropout_model/assets\n"
     ]
    },
    {
     "name": "stdout",
     "output_type": "stream",
     "text": [
      "\n",
      "Fold 1/5 ---------\n",
      "Train indices:  [ 0  1  3  5  6  7  8  9 10 11 12 13 15 17 18]\n",
      "Test indices:  [ 2  4 14 16]\n",
      "Onset ratio training set:  0.030914708360640388\n",
      "Onset ratio test set:  0.02289995218107433\n",
      "\n",
      "Epoch 1/40\n",
      "209/209 [==============================] - 72s 311ms/step - loss: 0.9996 - tp: 1888.0000 - tn: 53799.0000 - fp: 11727.0000 - fn: 356.0000 - val_loss: 0.3803 - val_tp: 378.0000 - val_tn: 15461.0000 - val_fp: 2929.0000 - val_fn: 53.0000\n",
      "Epoch 2/40\n",
      "209/209 [==============================] - 60s 289ms/step - loss: 0.7199 - tp: 1455.0000 - tn: 42835.0000 - fp: 8919.0000 - fn: 196.0000 - val_loss: 0.3923 - val_tp: 391.0000 - val_tn: 15093.0000 - val_fp: 3297.0000 - val_fn: 40.0000\n",
      "Epoch 3/40\n",
      "209/209 [==============================] - 51s 244ms/step - loss: 0.6453 - tp: 1486.0000 - tn: 43419.0000 - fp: 8335.0000 - fn: 165.0000 - val_loss: 0.3587 - val_tp: 389.0000 - val_tn: 15347.0000 - val_fp: 3043.0000 - val_fn: 42.0000\n",
      "Epoch 4/40\n",
      "209/209 [==============================] - 41s 196ms/step - loss: 0.6231 - tp: 1485.0000 - tn: 43950.0000 - fp: 7804.0000 - fn: 166.0000 - val_loss: 0.3110 - val_tp: 376.0000 - val_tn: 15842.0000 - val_fp: 2548.0000 - val_fn: 55.0000\n",
      "Epoch 5/40\n",
      "209/209 [==============================] - 39s 189ms/step - loss: 0.5907 - tp: 1505.0000 - tn: 44109.0000 - fp: 7645.0000 - fn: 146.0000 - val_loss: 0.3260 - val_tp: 383.0000 - val_tn: 15681.0000 - val_fp: 2709.0000 - val_fn: 48.0000\n",
      "Epoch 6/40\n",
      "209/209 [==============================] - 41s 194ms/step - loss: 0.5929 - tp: 1501.0000 - tn: 44368.0000 - fp: 7386.0000 - fn: 150.0000 - val_loss: 0.3062 - val_tp: 376.0000 - val_tn: 15850.0000 - val_fp: 2540.0000 - val_fn: 55.0000\n",
      "Epoch 7/40\n",
      "209/209 [==============================] - 39s 188ms/step - loss: 0.5703 - tp: 1508.0000 - tn: 44664.0000 - fp: 7090.0000 - fn: 143.0000 - val_loss: 0.3292 - val_tp: 386.0000 - val_tn: 15679.0000 - val_fp: 2711.0000 - val_fn: 45.0000\n",
      "Epoch 8/40\n",
      "209/209 [==============================] - 42s 201ms/step - loss: 0.5689 - tp: 1505.0000 - tn: 44616.0000 - fp: 7138.0000 - fn: 146.0000 - val_loss: 0.3077 - val_tp: 384.0000 - val_tn: 15807.0000 - val_fp: 2583.0000 - val_fn: 47.0000\n",
      "Epoch 9/40\n",
      "209/209 [==============================] - 44s 213ms/step - loss: 0.5642 - tp: 1513.0000 - tn: 44638.0000 - fp: 7116.0000 - fn: 138.0000 - val_loss: 0.2857 - val_tp: 376.0000 - val_tn: 15991.0000 - val_fp: 2399.0000 - val_fn: 55.0000\n",
      "Epoch 10/40\n",
      "209/209 [==============================] - 47s 227ms/step - loss: 0.5336 - tp: 1521.0000 - tn: 44818.0000 - fp: 6936.0000 - fn: 130.0000 - val_loss: 0.2966 - val_tp: 384.0000 - val_tn: 15946.0000 - val_fp: 2444.0000 - val_fn: 47.0000\n",
      "Epoch 11/40\n",
      "209/209 [==============================] - 40s 190ms/step - loss: 0.5212 - tp: 1536.0000 - tn: 45090.0000 - fp: 6664.0000 - fn: 115.0000 - val_loss: 0.2926 - val_tp: 378.0000 - val_tn: 16065.0000 - val_fp: 2325.0000 - val_fn: 53.0000\n",
      "Epoch 12/40\n",
      "209/209 [==============================] - 40s 193ms/step - loss: 0.5150 - tp: 1526.0000 - tn: 45060.0000 - fp: 6694.0000 - fn: 125.0000 - val_loss: 0.2721 - val_tp: 376.0000 - val_tn: 16148.0000 - val_fp: 2242.0000 - val_fn: 55.0000\n",
      "Epoch 13/40\n",
      "209/209 [==============================] - 51s 243ms/step - loss: 0.5090 - tp: 1533.0000 - tn: 45189.0000 - fp: 6565.0000 - fn: 118.0000 - val_loss: 0.2773 - val_tp: 380.0000 - val_tn: 16091.0000 - val_fp: 2299.0000 - val_fn: 51.0000\n",
      "Epoch 14/40\n",
      "209/209 [==============================] - 51s 245ms/step - loss: 0.5060 - tp: 1537.0000 - tn: 45215.0000 - fp: 6539.0000 - fn: 114.0000 - val_loss: 0.2673 - val_tp: 371.0000 - val_tn: 16247.0000 - val_fp: 2143.0000 - val_fn: 60.0000\n",
      "Epoch 15/40\n",
      "209/209 [==============================] - 52s 247ms/step - loss: 0.5043 - tp: 1538.0000 - tn: 45319.0000 - fp: 6435.0000 - fn: 113.0000 - val_loss: 0.2779 - val_tp: 375.0000 - val_tn: 16121.0000 - val_fp: 2269.0000 - val_fn: 56.0000\n",
      "Epoch 16/40\n",
      "209/209 [==============================] - 43s 204ms/step - loss: 0.4952 - tp: 1536.0000 - tn: 45227.0000 - fp: 6527.0000 - fn: 115.0000 - val_loss: 0.2564 - val_tp: 372.0000 - val_tn: 16273.0000 - val_fp: 2117.0000 - val_fn: 59.0000\n",
      "Epoch 17/40\n",
      "209/209 [==============================] - 41s 199ms/step - loss: 0.4942 - tp: 1533.0000 - tn: 45357.0000 - fp: 6397.0000 - fn: 118.0000 - val_loss: 0.2676 - val_tp: 378.0000 - val_tn: 16174.0000 - val_fp: 2216.0000 - val_fn: 53.0000\n",
      "Epoch 18/40\n",
      "209/209 [==============================] - 48s 231ms/step - loss: 0.4821 - tp: 1536.0000 - tn: 45524.0000 - fp: 6230.0000 - fn: 115.0000 - val_loss: 0.2712 - val_tp: 375.0000 - val_tn: 16117.0000 - val_fp: 2273.0000 - val_fn: 56.0000\n",
      "Epoch 19/40\n",
      "209/209 [==============================] - 42s 201ms/step - loss: 0.4912 - tp: 1549.0000 - tn: 45281.0000 - fp: 6473.0000 - fn: 102.0000 - val_loss: 0.2627 - val_tp: 375.0000 - val_tn: 16201.0000 - val_fp: 2189.0000 - val_fn: 56.0000\n",
      "Epoch 20/40\n",
      "209/209 [==============================] - 43s 208ms/step - loss: 0.4684 - tp: 1540.0000 - tn: 45602.0000 - fp: 6152.0000 - fn: 111.0000 - val_loss: 0.2560 - val_tp: 370.0000 - val_tn: 16270.0000 - val_fp: 2120.0000 - val_fn: 61.0000\n",
      "Epoch 21/40\n",
      "209/209 [==============================] - 44s 209ms/step - loss: 0.4791 - tp: 1542.0000 - tn: 45529.0000 - fp: 6225.0000 - fn: 109.0000 - val_loss: 0.2827 - val_tp: 373.0000 - val_tn: 16110.0000 - val_fp: 2280.0000 - val_fn: 58.0000\n",
      "Epoch 22/40\n",
      "209/209 [==============================] - 47s 226ms/step - loss: 0.4635 - tp: 1559.0000 - tn: 45603.0000 - fp: 6151.0000 - fn: 92.0000 - val_loss: 0.2612 - val_tp: 372.0000 - val_tn: 16264.0000 - val_fp: 2126.0000 - val_fn: 59.0000\n",
      "Epoch 23/40\n",
      "209/209 [==============================] - 49s 236ms/step - loss: 0.4587 - tp: 1546.0000 - tn: 45628.0000 - fp: 6126.0000 - fn: 105.0000 - val_loss: 0.2859 - val_tp: 378.0000 - val_tn: 15945.0000 - val_fp: 2445.0000 - val_fn: 53.0000\n",
      "Epoch 24/40\n",
      "209/209 [==============================] - 43s 204ms/step - loss: 0.4535 - tp: 1552.0000 - tn: 45731.0000 - fp: 6023.0000 - fn: 99.0000 - val_loss: 0.2641 - val_tp: 373.0000 - val_tn: 16154.0000 - val_fp: 2236.0000 - val_fn: 58.0000\n",
      "Epoch 25/40\n",
      "209/209 [==============================] - 38s 183ms/step - loss: 0.4483 - tp: 1562.0000 - tn: 45631.0000 - fp: 6123.0000 - fn: 89.0000 - val_loss: 0.2398 - val_tp: 369.0000 - val_tn: 16349.0000 - val_fp: 2041.0000 - val_fn: 62.0000\n",
      "Epoch 26/40\n",
      "209/209 [==============================] - 40s 194ms/step - loss: 0.4392 - tp: 1560.0000 - tn: 45842.0000 - fp: 5912.0000 - fn: 91.0000 - val_loss: 0.2513 - val_tp: 375.0000 - val_tn: 16242.0000 - val_fp: 2148.0000 - val_fn: 56.0000\n",
      "Epoch 27/40\n",
      "209/209 [==============================] - 38s 182ms/step - loss: 0.4352 - tp: 1561.0000 - tn: 45947.0000 - fp: 5807.0000 - fn: 90.0000 - val_loss: 0.2557 - val_tp: 375.0000 - val_tn: 16212.0000 - val_fp: 2178.0000 - val_fn: 56.0000\n",
      "Epoch 28/40\n",
      "209/209 [==============================] - 58s 278ms/step - loss: 0.4440 - tp: 1558.0000 - tn: 45723.0000 - fp: 6031.0000 - fn: 93.0000 - val_loss: 0.2744 - val_tp: 379.0000 - val_tn: 16092.0000 - val_fp: 2298.0000 - val_fn: 52.0000\n",
      "Epoch 29/40\n",
      "209/209 [==============================] - 46s 223ms/step - loss: 0.4211 - tp: 1573.0000 - tn: 46033.0000 - fp: 5721.0000 - fn: 78.0000 - val_loss: 0.2680 - val_tp: 373.0000 - val_tn: 16197.0000 - val_fp: 2193.0000 - val_fn: 58.0000\n",
      "Epoch 30/40\n",
      "209/209 [==============================] - 42s 199ms/step - loss: 0.4268 - tp: 1569.0000 - tn: 45919.0000 - fp: 5835.0000 - fn: 82.0000 - val_loss: 0.2737 - val_tp: 378.0000 - val_tn: 16079.0000 - val_fp: 2311.0000 - val_fn: 53.0000\n",
      "Epoch 31/40\n",
      "209/209 [==============================] - 39s 186ms/step - loss: 0.4234 - tp: 1569.0000 - tn: 45992.0000 - fp: 5762.0000 - fn: 82.0000 - val_loss: 0.2404 - val_tp: 362.0000 - val_tn: 16423.0000 - val_fp: 1967.0000 - val_fn: 69.0000\n",
      "Epoch 32/40\n",
      "209/209 [==============================] - 41s 195ms/step - loss: 0.4245 - tp: 1564.0000 - tn: 45983.0000 - fp: 5771.0000 - fn: 87.0000 - val_loss: 0.2478 - val_tp: 366.0000 - val_tn: 16351.0000 - val_fp: 2039.0000 - val_fn: 65.0000\n",
      "Epoch 33/40\n",
      "209/209 [==============================] - 38s 182ms/step - loss: 0.4208 - tp: 1567.0000 - tn: 46081.0000 - fp: 5673.0000 - fn: 84.0000 - val_loss: 0.2416 - val_tp: 367.0000 - val_tn: 16415.0000 - val_fp: 1975.0000 - val_fn: 64.0000\n",
      "Epoch 34/40\n",
      "209/209 [==============================] - 50s 240ms/step - loss: 0.4222 - tp: 1568.0000 - tn: 46086.0000 - fp: 5668.0000 - fn: 83.0000 - val_loss: 0.2526 - val_tp: 370.0000 - val_tn: 16289.0000 - val_fp: 2101.0000 - val_fn: 61.0000\n",
      "Epoch 35/40\n",
      "209/209 [==============================] - 49s 234ms/step - loss: 0.4072 - tp: 1570.0000 - tn: 46196.0000 - fp: 5558.0000 - fn: 81.0000 - val_loss: 0.2507 - val_tp: 371.0000 - val_tn: 16305.0000 - val_fp: 2085.0000 - val_fn: 60.0000\n",
      "Epoch 36/40\n",
      "209/209 [==============================] - 42s 202ms/step - loss: 0.4249 - tp: 1561.0000 - tn: 46022.0000 - fp: 5732.0000 - fn: 90.0000 - val_loss: 0.2611 - val_tp: 374.0000 - val_tn: 16199.0000 - val_fp: 2191.0000 - val_fn: 57.0000\n",
      "Epoch 37/40\n",
      "209/209 [==============================] - 38s 181ms/step - loss: 0.4167 - tp: 1561.0000 - tn: 46111.0000 - fp: 5643.0000 - fn: 90.0000 - val_loss: 0.2451 - val_tp: 366.0000 - val_tn: 16403.0000 - val_fp: 1987.0000 - val_fn: 65.0000\n",
      "Epoch 38/40\n",
      "209/209 [==============================] - 38s 180ms/step - loss: 0.4037 - tp: 1569.0000 - tn: 46192.0000 - fp: 5562.0000 - fn: 82.0000 - val_loss: 0.2328 - val_tp: 360.0000 - val_tn: 16503.0000 - val_fp: 1887.0000 - val_fn: 71.0000\n",
      "Epoch 39/40\n",
      "209/209 [==============================] - 38s 184ms/step - loss: 0.4009 - tp: 1578.0000 - tn: 46361.0000 - fp: 5393.0000 - fn: 73.0000 - val_loss: 0.2437 - val_tp: 363.0000 - val_tn: 16367.0000 - val_fp: 2023.0000 - val_fn: 68.0000\n",
      "Epoch 40/40\n",
      "209/209 [==============================] - 39s 187ms/step - loss: 0.4049 - tp: 1577.0000 - tn: 46126.0000 - fp: 5628.0000 - fn: 74.0000 - val_loss: 0.2493 - val_tp: 366.0000 - val_tn: 16295.0000 - val_fp: 2095.0000 - val_fn: 65.0000\n"
     ]
    },
    {
     "name": "stderr",
     "output_type": "stream",
     "text": [
      "WARNING:absl:Found untraced functions such as SpecialActivation_layer_call_fn, SpecialActivation_layer_call_and_return_conditional_losses, SpecialActivation_layer_call_fn, SpecialActivation_layer_call_and_return_conditional_losses while saving (showing 4 of 4). These functions will not be directly callable after loading.\n"
     ]
    },
    {
     "name": "stdout",
     "output_type": "stream",
     "text": [
      "INFO:tensorflow:Assets written to: results/cnn-training-220331/1_fold_finetune-dense-dropout_model/assets\n"
     ]
    },
    {
     "name": "stderr",
     "output_type": "stream",
     "text": [
      "INFO:tensorflow:Assets written to: results/cnn-training-220331/1_fold_finetune-dense-dropout_model/assets\n"
     ]
    },
    {
     "name": "stdout",
     "output_type": "stream",
     "text": [
      "\n",
      "Fold 2/5 ---------\n",
      "Train indices:  [ 2  3  4  5  6  8  9 10 11 12 14 15 16 17 18]\n",
      "Test indices:  [ 0  1  7 13]\n",
      "Onset ratio training set:  0.028737272813778667\n",
      "Onset ratio test set:  0.029437418229393806\n",
      "\n",
      "Epoch 1/40\n",
      "247/247 [==============================] - 72s 265ms/step - loss: 1.0842 - tp: 1841.0000 - tn: 65398.0000 - fp: 14234.0000 - fn: 402.0000 - val_loss: 0.4500 - val_tp: 260.0000 - val_tn: 7212.0000 - val_fp: 1690.0000 - val_fn: 10.0000\n",
      "Epoch 2/40\n",
      "247/247 [==============================] - 81s 330ms/step - loss: 0.7482 - tp: 1578.0000 - tn: 50942.0000 - fp: 10300.0000 - fn: 234.0000 - val_loss: 0.4517 - val_tp: 262.0000 - val_tn: 7093.0000 - val_fp: 1809.0000 - val_fn: 8.0000\n",
      "Epoch 3/40\n",
      "247/247 [==============================] - 47s 192ms/step - loss: 0.6847 - tp: 1593.0000 - tn: 51468.0000 - fp: 9774.0000 - fn: 219.0000 - val_loss: 0.3901 - val_tp: 262.0000 - val_tn: 7355.0000 - val_fp: 1547.0000 - val_fn: 8.0000\n",
      "Epoch 4/40\n",
      "247/247 [==============================] - 42s 172ms/step - loss: 0.6725 - tp: 1608.0000 - tn: 51332.0000 - fp: 9910.0000 - fn: 204.0000 - val_loss: 0.3602 - val_tp: 260.0000 - val_tn: 7507.0000 - val_fp: 1395.0000 - val_fn: 10.0000\n",
      "Epoch 5/40\n",
      "247/247 [==============================] - 41s 164ms/step - loss: 0.6303 - tp: 1621.0000 - tn: 52428.0000 - fp: 8814.0000 - fn: 191.0000 - val_loss: 0.3720 - val_tp: 262.0000 - val_tn: 7465.0000 - val_fp: 1437.0000 - val_fn: 8.0000\n",
      "Epoch 6/40\n",
      "247/247 [==============================] - 52s 210ms/step - loss: 0.6197 - tp: 1636.0000 - tn: 52026.0000 - fp: 9216.0000 - fn: 176.0000 - val_loss: 0.3779 - val_tp: 261.0000 - val_tn: 7390.0000 - val_fp: 1512.0000 - val_fn: 9.0000\n",
      "Epoch 7/40\n",
      "247/247 [==============================] - 51s 205ms/step - loss: 0.6150 - tp: 1628.0000 - tn: 51940.0000 - fp: 9302.0000 - fn: 184.0000 - val_loss: 0.3509 - val_tp: 260.0000 - val_tn: 7511.0000 - val_fp: 1391.0000 - val_fn: 10.0000\n",
      "Epoch 8/40\n",
      "247/247 [==============================] - 49s 199ms/step - loss: 0.6070 - tp: 1653.0000 - tn: 52260.0000 - fp: 8982.0000 - fn: 159.0000 - val_loss: 0.3472 - val_tp: 259.0000 - val_tn: 7555.0000 - val_fp: 1347.0000 - val_fn: 11.0000\n",
      "Epoch 9/40\n",
      "247/247 [==============================] - 48s 195ms/step - loss: 0.5879 - tp: 1646.0000 - tn: 52386.0000 - fp: 8856.0000 - fn: 166.0000 - val_loss: 0.3989 - val_tp: 260.0000 - val_tn: 7292.0000 - val_fp: 1610.0000 - val_fn: 10.0000\n",
      "Epoch 10/40\n",
      "247/247 [==============================] - 52s 209ms/step - loss: 0.5769 - tp: 1653.0000 - tn: 52407.0000 - fp: 8835.0000 - fn: 159.0000 - val_loss: 0.3272 - val_tp: 256.0000 - val_tn: 7612.0000 - val_fp: 1290.0000 - val_fn: 14.0000\n",
      "Epoch 11/40\n",
      "247/247 [==============================] - 55s 221ms/step - loss: 0.5631 - tp: 1661.0000 - tn: 52689.0000 - fp: 8553.0000 - fn: 151.0000 - val_loss: 0.3363 - val_tp: 259.0000 - val_tn: 7629.0000 - val_fp: 1273.0000 - val_fn: 11.0000\n",
      "Epoch 12/40\n",
      "247/247 [==============================] - 45s 184ms/step - loss: 0.5434 - tp: 1672.0000 - tn: 52911.0000 - fp: 8331.0000 - fn: 140.0000 - val_loss: 0.3166 - val_tp: 256.0000 - val_tn: 7698.0000 - val_fp: 1204.0000 - val_fn: 14.0000\n",
      "Epoch 13/40\n",
      "247/247 [==============================] - 43s 173ms/step - loss: 0.5567 - tp: 1659.0000 - tn: 52856.0000 - fp: 8386.0000 - fn: 153.0000 - val_loss: 0.3572 - val_tp: 259.0000 - val_tn: 7485.0000 - val_fp: 1417.0000 - val_fn: 11.0000\n",
      "Epoch 14/40\n",
      "247/247 [==============================] - 47s 189ms/step - loss: 0.5511 - tp: 1668.0000 - tn: 52558.0000 - fp: 8684.0000 - fn: 144.0000 - val_loss: 0.3207 - val_tp: 256.0000 - val_tn: 7615.0000 - val_fp: 1287.0000 - val_fn: 14.0000\n",
      "Epoch 15/40\n",
      "247/247 [==============================] - 42s 171ms/step - loss: 0.5399 - tp: 1667.0000 - tn: 52706.0000 - fp: 8536.0000 - fn: 145.0000 - val_loss: 0.3383 - val_tp: 257.0000 - val_tn: 7572.0000 - val_fp: 1330.0000 - val_fn: 13.0000\n",
      "Epoch 16/40\n",
      "247/247 [==============================] - 40s 161ms/step - loss: 0.5345 - tp: 1664.0000 - tn: 52952.0000 - fp: 8290.0000 - fn: 148.0000 - val_loss: 0.2661 - val_tp: 252.0000 - val_tn: 7867.0000 - val_fp: 1035.0000 - val_fn: 18.0000\n",
      "Epoch 17/40\n",
      "247/247 [==============================] - 41s 165ms/step - loss: 0.5329 - tp: 1661.0000 - tn: 53000.0000 - fp: 8242.0000 - fn: 151.0000 - val_loss: 0.3181 - val_tp: 257.0000 - val_tn: 7601.0000 - val_fp: 1301.0000 - val_fn: 13.0000\n",
      "Epoch 18/40\n",
      "247/247 [==============================] - 40s 164ms/step - loss: 0.5166 - tp: 1681.0000 - tn: 53384.0000 - fp: 7858.0000 - fn: 131.0000 - val_loss: 0.3247 - val_tp: 256.0000 - val_tn: 7622.0000 - val_fp: 1280.0000 - val_fn: 14.0000\n",
      "Epoch 19/40\n",
      "247/247 [==============================] - 40s 161ms/step - loss: 0.5092 - tp: 1678.0000 - tn: 53263.0000 - fp: 7979.0000 - fn: 134.0000 - val_loss: 0.3067 - val_tp: 254.0000 - val_tn: 7708.0000 - val_fp: 1194.0000 - val_fn: 16.0000\n",
      "Epoch 20/40\n",
      "247/247 [==============================] - 40s 163ms/step - loss: 0.5156 - tp: 1669.0000 - tn: 53317.0000 - fp: 7925.0000 - fn: 143.0000 - val_loss: 0.3119 - val_tp: 255.0000 - val_tn: 7664.0000 - val_fp: 1238.0000 - val_fn: 15.0000\n",
      "Epoch 21/40\n",
      "247/247 [==============================] - 40s 162ms/step - loss: 0.4982 - tp: 1678.0000 - tn: 53367.0000 - fp: 7875.0000 - fn: 134.0000 - val_loss: 0.3120 - val_tp: 253.0000 - val_tn: 7678.0000 - val_fp: 1224.0000 - val_fn: 17.0000\n",
      "Epoch 22/40\n",
      "247/247 [==============================] - 42s 170ms/step - loss: 0.5206 - tp: 1669.0000 - tn: 53335.0000 - fp: 7907.0000 - fn: 143.0000 - val_loss: 0.2907 - val_tp: 256.0000 - val_tn: 7755.0000 - val_fp: 1147.0000 - val_fn: 14.0000\n",
      "Epoch 23/40\n",
      "247/247 [==============================] - 55s 222ms/step - loss: 0.4875 - tp: 1701.0000 - tn: 53401.0000 - fp: 7841.0000 - fn: 111.0000 - val_loss: 0.2889 - val_tp: 256.0000 - val_tn: 7785.0000 - val_fp: 1117.0000 - val_fn: 14.0000\n",
      "Epoch 24/40\n",
      "247/247 [==============================] - 47s 192ms/step - loss: 0.4930 - tp: 1684.0000 - tn: 53511.0000 - fp: 7731.0000 - fn: 128.0000 - val_loss: 0.2966 - val_tp: 254.0000 - val_tn: 7767.0000 - val_fp: 1135.0000 - val_fn: 16.0000\n",
      "Epoch 25/40\n",
      "247/247 [==============================] - 44s 176ms/step - loss: 0.4870 - tp: 1688.0000 - tn: 53732.0000 - fp: 7510.0000 - fn: 124.0000 - val_loss: 0.2835 - val_tp: 253.0000 - val_tn: 7811.0000 - val_fp: 1091.0000 - val_fn: 17.0000\n",
      "Epoch 26/40\n",
      "247/247 [==============================] - 44s 178ms/step - loss: 0.4657 - tp: 1703.0000 - tn: 53880.0000 - fp: 7362.0000 - fn: 109.0000 - val_loss: 0.2736 - val_tp: 253.0000 - val_tn: 7852.0000 - val_fp: 1050.0000 - val_fn: 17.0000\n",
      "Epoch 27/40\n",
      "247/247 [==============================] - 40s 163ms/step - loss: 0.4833 - tp: 1680.0000 - tn: 53863.0000 - fp: 7379.0000 - fn: 132.0000 - val_loss: 0.3148 - val_tp: 257.0000 - val_tn: 7704.0000 - val_fp: 1198.0000 - val_fn: 13.0000\n",
      "Epoch 28/40\n",
      "247/247 [==============================] - 51s 208ms/step - loss: 0.4793 - tp: 1707.0000 - tn: 53739.0000 - fp: 7503.0000 - fn: 105.0000 - val_loss: 0.2622 - val_tp: 254.0000 - val_tn: 7896.0000 - val_fp: 1006.0000 - val_fn: 16.0000\n",
      "Epoch 29/40\n",
      "247/247 [==============================] - 46s 188ms/step - loss: 0.4765 - tp: 1704.0000 - tn: 53937.0000 - fp: 7305.0000 - fn: 108.0000 - val_loss: 0.2708 - val_tp: 253.0000 - val_tn: 7858.0000 - val_fp: 1044.0000 - val_fn: 17.0000\n",
      "Epoch 30/40\n",
      "247/247 [==============================] - 43s 173ms/step - loss: 0.4604 - tp: 1697.0000 - tn: 54054.0000 - fp: 7188.0000 - fn: 115.0000 - val_loss: 0.2714 - val_tp: 253.0000 - val_tn: 7856.0000 - val_fp: 1046.0000 - val_fn: 17.0000\n",
      "Epoch 31/40\n",
      "247/247 [==============================] - 41s 165ms/step - loss: 0.4584 - tp: 1697.0000 - tn: 54035.0000 - fp: 7207.0000 - fn: 115.0000 - val_loss: 0.3122 - val_tp: 255.0000 - val_tn: 7707.0000 - val_fp: 1195.0000 - val_fn: 15.0000\n",
      "Epoch 32/40\n",
      "247/247 [==============================] - 41s 168ms/step - loss: 0.4543 - tp: 1699.0000 - tn: 53963.0000 - fp: 7279.0000 - fn: 113.0000 - val_loss: 0.2810 - val_tp: 253.0000 - val_tn: 7812.0000 - val_fp: 1090.0000 - val_fn: 17.0000\n",
      "Epoch 33/40\n",
      "247/247 [==============================] - 41s 167ms/step - loss: 0.4502 - tp: 1705.0000 - tn: 54078.0000 - fp: 7164.0000 - fn: 107.0000 - val_loss: 0.2901 - val_tp: 253.0000 - val_tn: 7779.0000 - val_fp: 1123.0000 - val_fn: 17.0000\n",
      "Epoch 34/40\n",
      "247/247 [==============================] - 47s 188ms/step - loss: 0.4373 - tp: 1716.0000 - tn: 54142.0000 - fp: 7100.0000 - fn: 96.0000 - val_loss: 0.2665 - val_tp: 251.0000 - val_tn: 7896.0000 - val_fp: 1006.0000 - val_fn: 19.0000\n",
      "Epoch 35/40\n",
      "247/247 [==============================] - 62s 250ms/step - loss: 0.4446 - tp: 1703.0000 - tn: 54210.0000 - fp: 7032.0000 - fn: 109.0000 - val_loss: 0.2884 - val_tp: 255.0000 - val_tn: 7810.0000 - val_fp: 1092.0000 - val_fn: 15.0000\n",
      "Epoch 36/40\n",
      "247/247 [==============================] - 49s 197ms/step - loss: 0.4405 - tp: 1715.0000 - tn: 54352.0000 - fp: 6890.0000 - fn: 97.0000 - val_loss: 0.2846 - val_tp: 255.0000 - val_tn: 7809.0000 - val_fp: 1093.0000 - val_fn: 15.0000\n",
      "Epoch 37/40\n",
      "247/247 [==============================] - 57s 231ms/step - loss: 0.4380 - tp: 1713.0000 - tn: 54181.0000 - fp: 7061.0000 - fn: 99.0000 - val_loss: 0.2703 - val_tp: 253.0000 - val_tn: 7889.0000 - val_fp: 1013.0000 - val_fn: 17.0000\n",
      "Epoch 38/40\n",
      "247/247 [==============================] - 55s 222ms/step - loss: 0.4234 - tp: 1715.0000 - tn: 54357.0000 - fp: 6885.0000 - fn: 97.0000 - val_loss: 0.2598 - val_tp: 253.0000 - val_tn: 7925.0000 - val_fp: 977.0000 - val_fn: 17.0000\n",
      "Epoch 39/40\n",
      "247/247 [==============================] - 51s 206ms/step - loss: 0.4494 - tp: 1706.0000 - tn: 54184.0000 - fp: 7058.0000 - fn: 106.0000 - val_loss: 0.2801 - val_tp: 253.0000 - val_tn: 7822.0000 - val_fp: 1080.0000 - val_fn: 17.0000\n",
      "Epoch 40/40\n",
      "247/247 [==============================] - 47s 189ms/step - loss: 0.4410 - tp: 1711.0000 - tn: 54382.0000 - fp: 6860.0000 - fn: 101.0000 - val_loss: 0.2779 - val_tp: 254.0000 - val_tn: 7827.0000 - val_fp: 1075.0000 - val_fn: 16.0000\n"
     ]
    },
    {
     "name": "stderr",
     "output_type": "stream",
     "text": [
      "WARNING:absl:Found untraced functions such as SpecialActivation_layer_call_fn, SpecialActivation_layer_call_and_return_conditional_losses, SpecialActivation_layer_call_fn, SpecialActivation_layer_call_and_return_conditional_losses while saving (showing 4 of 4). These functions will not be directly callable after loading.\n"
     ]
    },
    {
     "name": "stdout",
     "output_type": "stream",
     "text": [
      "INFO:tensorflow:Assets written to: results/cnn-training-220331/2_fold_finetune-dense-dropout_model/assets\n"
     ]
    },
    {
     "name": "stderr",
     "output_type": "stream",
     "text": [
      "INFO:tensorflow:Assets written to: results/cnn-training-220331/2_fold_finetune-dense-dropout_model/assets\n"
     ]
    },
    {
     "name": "stdout",
     "output_type": "stream",
     "text": [
      "\n",
      "Fold 3/5 ---------\n",
      "Train indices:  [ 0  1  2  3  4  5  6  7 10 11 12 13 14 15 16]\n",
      "Test indices:  [ 8  9 17 18]\n",
      "Onset ratio training set:  0.03230948094809481\n",
      "Onset ratio test set:  0.0189967192295481\n",
      "\n",
      "Epoch 1/40\n",
      "209/209 [==============================] - 74s 302ms/step - loss: 1.2356 - tp: 1646.0000 - tn: 48957.0000 - fp: 11550.0000 - fn: 347.0000 - val_loss: 0.2213 - val_tp: 293.0000 - val_tn: 16802.0000 - val_fp: 1737.0000 - val_fn: 66.0000\n",
      "Epoch 2/40\n",
      "209/209 [==============================] - 79s 381ms/step - loss: 0.8544 - tp: 1455.0000 - tn: 42225.0000 - fp: 9380.0000 - fn: 268.0000 - val_loss: 0.2169 - val_tp: 299.0000 - val_tn: 16717.0000 - val_fp: 1822.0000 - val_fn: 60.0000\n",
      "Epoch 3/40\n",
      "209/209 [==============================] - 44s 208ms/step - loss: 0.7505 - tp: 1514.0000 - tn: 42565.0000 - fp: 9040.0000 - fn: 209.0000 - val_loss: 0.2099 - val_tp: 299.0000 - val_tn: 16886.0000 - val_fp: 1653.0000 - val_fn: 60.0000\n",
      "Epoch 4/40\n",
      "209/209 [==============================] - 40s 189ms/step - loss: 0.6750 - tp: 1539.0000 - tn: 43166.0000 - fp: 8439.0000 - fn: 184.0000 - val_loss: 0.2194 - val_tp: 298.0000 - val_tn: 16862.0000 - val_fp: 1677.0000 - val_fn: 61.0000\n",
      "Epoch 5/40\n",
      "209/209 [==============================] - 65s 310ms/step - loss: 0.6382 - tp: 1544.0000 - tn: 43512.0000 - fp: 8093.0000 - fn: 179.0000 - val_loss: 0.2254 - val_tp: 302.0000 - val_tn: 16724.0000 - val_fp: 1815.0000 - val_fn: 57.0000\n",
      "Epoch 6/40\n",
      "209/209 [==============================] - 52s 249ms/step - loss: 0.5975 - tp: 1563.0000 - tn: 43771.0000 - fp: 7834.0000 - fn: 160.0000 - val_loss: 0.1913 - val_tp: 297.0000 - val_tn: 17017.0000 - val_fp: 1522.0000 - val_fn: 62.0000\n",
      "Epoch 7/40\n",
      "209/209 [==============================] - 44s 210ms/step - loss: 0.6054 - tp: 1554.0000 - tn: 43613.0000 - fp: 7992.0000 - fn: 169.0000 - val_loss: 0.1664 - val_tp: 288.0000 - val_tn: 17269.0000 - val_fp: 1270.0000 - val_fn: 71.0000\n",
      "Epoch 8/40\n",
      "209/209 [==============================] - 40s 193ms/step - loss: 0.5940 - tp: 1560.0000 - tn: 43899.0000 - fp: 7706.0000 - fn: 163.0000 - val_loss: 0.2181 - val_tp: 299.0000 - val_tn: 16880.0000 - val_fp: 1659.0000 - val_fn: 60.0000\n",
      "Epoch 9/40\n",
      "209/209 [==============================] - 41s 195ms/step - loss: 0.5703 - tp: 1584.0000 - tn: 44144.0000 - fp: 7461.0000 - fn: 139.0000 - val_loss: 0.1798 - val_tp: 295.0000 - val_tn: 17131.0000 - val_fp: 1408.0000 - val_fn: 64.0000\n",
      "Epoch 10/40\n",
      "209/209 [==============================] - 45s 216ms/step - loss: 0.5706 - tp: 1577.0000 - tn: 44260.0000 - fp: 7345.0000 - fn: 146.0000 - val_loss: 0.2258 - val_tp: 304.0000 - val_tn: 16742.0000 - val_fp: 1797.0000 - val_fn: 55.0000\n",
      "Epoch 11/40\n",
      "209/209 [==============================] - 43s 206ms/step - loss: 0.5582 - tp: 1589.0000 - tn: 44134.0000 - fp: 7471.0000 - fn: 134.0000 - val_loss: 0.2005 - val_tp: 294.0000 - val_tn: 16937.0000 - val_fp: 1602.0000 - val_fn: 65.0000\n",
      "Epoch 12/40\n",
      "209/209 [==============================] - 44s 212ms/step - loss: 0.5497 - tp: 1604.0000 - tn: 44337.0000 - fp: 7268.0000 - fn: 119.0000 - val_loss: 0.1909 - val_tp: 292.0000 - val_tn: 17028.0000 - val_fp: 1511.0000 - val_fn: 67.0000\n",
      "Epoch 13/40\n",
      "209/209 [==============================] - 38s 184ms/step - loss: 0.5499 - tp: 1579.0000 - tn: 44358.0000 - fp: 7247.0000 - fn: 144.0000 - val_loss: 0.1887 - val_tp: 295.0000 - val_tn: 17053.0000 - val_fp: 1486.0000 - val_fn: 64.0000\n",
      "Epoch 14/40\n",
      "209/209 [==============================] - 38s 182ms/step - loss: 0.5292 - tp: 1599.0000 - tn: 44465.0000 - fp: 7140.0000 - fn: 124.0000 - val_loss: 0.1729 - val_tp: 291.0000 - val_tn: 17186.0000 - val_fp: 1353.0000 - val_fn: 68.0000\n",
      "Epoch 15/40\n",
      "209/209 [==============================] - 40s 191ms/step - loss: 0.5253 - tp: 1595.0000 - tn: 44628.0000 - fp: 6977.0000 - fn: 128.0000 - val_loss: 0.1729 - val_tp: 294.0000 - val_tn: 17174.0000 - val_fp: 1365.0000 - val_fn: 65.0000\n",
      "Epoch 16/40\n",
      "209/209 [==============================] - 38s 181ms/step - loss: 0.5309 - tp: 1595.0000 - tn: 44464.0000 - fp: 7141.0000 - fn: 128.0000 - val_loss: 0.1891 - val_tp: 299.0000 - val_tn: 17009.0000 - val_fp: 1530.0000 - val_fn: 60.0000\n",
      "Epoch 17/40\n",
      "209/209 [==============================] - 37s 176ms/step - loss: 0.5102 - tp: 1605.0000 - tn: 44690.0000 - fp: 6915.0000 - fn: 118.0000 - val_loss: 0.1861 - val_tp: 296.0000 - val_tn: 17061.0000 - val_fp: 1478.0000 - val_fn: 63.0000\n",
      "Epoch 18/40\n",
      "209/209 [==============================] - 44s 211ms/step - loss: 0.5127 - tp: 1601.0000 - tn: 44596.0000 - fp: 7009.0000 - fn: 122.0000 - val_loss: 0.1882 - val_tp: 294.0000 - val_tn: 17020.0000 - val_fp: 1519.0000 - val_fn: 65.0000\n",
      "Epoch 19/40\n",
      "209/209 [==============================] - 50s 241ms/step - loss: 0.5067 - tp: 1601.0000 - tn: 44793.0000 - fp: 6812.0000 - fn: 122.0000 - val_loss: 0.1954 - val_tp: 298.0000 - val_tn: 16987.0000 - val_fp: 1552.0000 - val_fn: 61.0000\n",
      "Epoch 20/40\n",
      "209/209 [==============================] - 48s 232ms/step - loss: 0.4926 - tp: 1614.0000 - tn: 44967.0000 - fp: 6638.0000 - fn: 109.0000 - val_loss: 0.1816 - val_tp: 292.0000 - val_tn: 17107.0000 - val_fp: 1432.0000 - val_fn: 67.0000\n",
      "Epoch 21/40\n",
      "209/209 [==============================] - 43s 207ms/step - loss: 0.4897 - tp: 1613.0000 - tn: 44870.0000 - fp: 6735.0000 - fn: 110.0000 - val_loss: 0.1893 - val_tp: 298.0000 - val_tn: 16990.0000 - val_fp: 1549.0000 - val_fn: 61.0000\n",
      "Epoch 22/40\n",
      "209/209 [==============================] - 38s 182ms/step - loss: 0.4919 - tp: 1608.0000 - tn: 44904.0000 - fp: 6701.0000 - fn: 115.0000 - val_loss: 0.1767 - val_tp: 288.0000 - val_tn: 17164.0000 - val_fp: 1375.0000 - val_fn: 71.0000\n",
      "Epoch 23/40\n",
      "209/209 [==============================] - 38s 180ms/step - loss: 0.4813 - tp: 1611.0000 - tn: 44933.0000 - fp: 6672.0000 - fn: 112.0000 - val_loss: 0.1909 - val_tp: 298.0000 - val_tn: 17018.0000 - val_fp: 1521.0000 - val_fn: 61.0000\n",
      "Epoch 24/40\n",
      "209/209 [==============================] - 38s 183ms/step - loss: 0.4909 - tp: 1609.0000 - tn: 45063.0000 - fp: 6542.0000 - fn: 114.0000 - val_loss: 0.1728 - val_tp: 291.0000 - val_tn: 17162.0000 - val_fp: 1377.0000 - val_fn: 68.0000\n",
      "Epoch 25/40\n",
      "209/209 [==============================] - 38s 182ms/step - loss: 0.4713 - tp: 1614.0000 - tn: 45106.0000 - fp: 6499.0000 - fn: 109.0000 - val_loss: 0.1992 - val_tp: 299.0000 - val_tn: 16958.0000 - val_fp: 1581.0000 - val_fn: 60.0000\n",
      "Epoch 26/40\n",
      "209/209 [==============================] - 51s 244ms/step - loss: 0.4711 - tp: 1622.0000 - tn: 45079.0000 - fp: 6526.0000 - fn: 101.0000 - val_loss: 0.1767 - val_tp: 288.0000 - val_tn: 17139.0000 - val_fp: 1400.0000 - val_fn: 71.0000\n",
      "Epoch 27/40\n",
      "209/209 [==============================] - 56s 267ms/step - loss: 0.4674 - tp: 1624.0000 - tn: 45161.0000 - fp: 6444.0000 - fn: 99.0000 - val_loss: 0.1639 - val_tp: 288.0000 - val_tn: 17267.0000 - val_fp: 1272.0000 - val_fn: 71.0000\n",
      "Epoch 28/40\n",
      "209/209 [==============================] - 48s 230ms/step - loss: 0.4612 - tp: 1613.0000 - tn: 45269.0000 - fp: 6336.0000 - fn: 110.0000 - val_loss: 0.1668 - val_tp: 288.0000 - val_tn: 17236.0000 - val_fp: 1303.0000 - val_fn: 71.0000\n",
      "Epoch 29/40\n",
      "209/209 [==============================] - 47s 226ms/step - loss: 0.4566 - tp: 1624.0000 - tn: 45334.0000 - fp: 6271.0000 - fn: 99.0000 - val_loss: 0.1700 - val_tp: 292.0000 - val_tn: 17176.0000 - val_fp: 1363.0000 - val_fn: 67.0000\n",
      "Epoch 30/40\n",
      "209/209 [==============================] - 46s 222ms/step - loss: 0.4490 - tp: 1617.0000 - tn: 45499.0000 - fp: 6106.0000 - fn: 106.0000 - val_loss: 0.1629 - val_tp: 288.0000 - val_tn: 17274.0000 - val_fp: 1265.0000 - val_fn: 71.0000\n",
      "Epoch 31/40\n",
      "209/209 [==============================] - 43s 206ms/step - loss: 0.4452 - tp: 1627.0000 - tn: 45428.0000 - fp: 6177.0000 - fn: 96.0000 - val_loss: 0.1562 - val_tp: 281.0000 - val_tn: 17336.0000 - val_fp: 1203.0000 - val_fn: 78.0000\n",
      "Epoch 32/40\n",
      "209/209 [==============================] - 50s 238ms/step - loss: 0.4340 - tp: 1637.0000 - tn: 45745.0000 - fp: 5860.0000 - fn: 86.0000 - val_loss: 0.1597 - val_tp: 282.0000 - val_tn: 17339.0000 - val_fp: 1200.0000 - val_fn: 77.0000\n",
      "Epoch 33/40\n",
      "209/209 [==============================] - 51s 243ms/step - loss: 0.4652 - tp: 1620.0000 - tn: 45424.0000 - fp: 6181.0000 - fn: 103.0000 - val_loss: 0.1604 - val_tp: 280.0000 - val_tn: 17297.0000 - val_fp: 1242.0000 - val_fn: 79.0000\n",
      "Epoch 34/40\n",
      "209/209 [==============================] - 43s 206ms/step - loss: 0.4417 - tp: 1627.0000 - tn: 45486.0000 - fp: 6119.0000 - fn: 96.0000 - val_loss: 0.1614 - val_tp: 287.0000 - val_tn: 17253.0000 - val_fp: 1286.0000 - val_fn: 72.0000\n",
      "Epoch 35/40\n",
      "209/209 [==============================] - 42s 202ms/step - loss: 0.4380 - tp: 1629.0000 - tn: 45559.0000 - fp: 6046.0000 - fn: 94.0000 - val_loss: 0.1690 - val_tp: 287.0000 - val_tn: 17224.0000 - val_fp: 1315.0000 - val_fn: 72.0000\n",
      "Epoch 36/40\n",
      "209/209 [==============================] - 40s 193ms/step - loss: 0.4425 - tp: 1626.0000 - tn: 45577.0000 - fp: 6028.0000 - fn: 97.0000 - val_loss: 0.1597 - val_tp: 283.0000 - val_tn: 17281.0000 - val_fp: 1258.0000 - val_fn: 76.0000\n",
      "Epoch 37/40\n",
      "209/209 [==============================] - 39s 188ms/step - loss: 0.4360 - tp: 1639.0000 - tn: 45549.0000 - fp: 6056.0000 - fn: 84.0000 - val_loss: 0.1492 - val_tp: 279.0000 - val_tn: 17368.0000 - val_fp: 1171.0000 - val_fn: 80.0000\n",
      "Epoch 38/40\n",
      "209/209 [==============================] - 40s 193ms/step - loss: 0.4274 - tp: 1627.0000 - tn: 45779.0000 - fp: 5826.0000 - fn: 96.0000 - val_loss: 0.1618 - val_tp: 286.0000 - val_tn: 17272.0000 - val_fp: 1267.0000 - val_fn: 73.0000\n",
      "Epoch 39/40\n",
      "209/209 [==============================] - 47s 225ms/step - loss: 0.4247 - tp: 1640.0000 - tn: 45616.0000 - fp: 5989.0000 - fn: 83.0000 - val_loss: 0.1581 - val_tp: 285.0000 - val_tn: 17303.0000 - val_fp: 1236.0000 - val_fn: 74.0000\n",
      "Epoch 40/40\n",
      "209/209 [==============================] - 49s 236ms/step - loss: 0.4310 - tp: 1627.0000 - tn: 45797.0000 - fp: 5808.0000 - fn: 96.0000 - val_loss: 0.1763 - val_tp: 293.0000 - val_tn: 17152.0000 - val_fp: 1387.0000 - val_fn: 66.0000\n"
     ]
    },
    {
     "name": "stderr",
     "output_type": "stream",
     "text": [
      "WARNING:absl:Found untraced functions such as SpecialActivation_layer_call_fn, SpecialActivation_layer_call_and_return_conditional_losses, SpecialActivation_layer_call_fn, SpecialActivation_layer_call_and_return_conditional_losses while saving (showing 4 of 4). These functions will not be directly callable after loading.\n"
     ]
    },
    {
     "name": "stdout",
     "output_type": "stream",
     "text": [
      "INFO:tensorflow:Assets written to: results/cnn-training-220331/3_fold_finetune-dense-dropout_model/assets\n"
     ]
    },
    {
     "name": "stderr",
     "output_type": "stream",
     "text": [
      "INFO:tensorflow:Assets written to: results/cnn-training-220331/3_fold_finetune-dense-dropout_model/assets\n"
     ]
    },
    {
     "name": "stdout",
     "output_type": "stream",
     "text": [
      "\n",
      "Fold 4/5 ---------\n",
      "Train indices:  [ 0  1  2  3  4  6  7  8  9 10 13 14 15 16 17 18]\n",
      "Test indices:  [ 5 11 12]\n",
      "Onset ratio training set:  0.02698511166253102\n",
      "Onset ratio test set:  0.03910665451230629\n",
      "\n",
      "Epoch 1/40\n",
      "240/240 [==============================] - 110s 376ms/step - loss: 1.0489 - tp: 1635.0000 - tn: 64846.0000 - fp: 13296.0000 - fn: 377.0000 - val_loss: 0.3690 - val_tp: 391.0000 - val_tn: 8798.0000 - val_fp: 1743.0000 - val_fn: 38.0000\n",
      "Epoch 2/40\n",
      "240/240 [==============================] - 75s 311ms/step - loss: 0.7567 - tp: 1444.0000 - tn: 49108.0000 - fp: 10495.0000 - fn: 209.0000 - val_loss: 0.4565 - val_tp: 410.0000 - val_tn: 8268.0000 - val_fp: 2273.0000 - val_fn: 19.0000\n",
      "Epoch 3/40\n",
      "240/240 [==============================] - 54s 226ms/step - loss: 0.6842 - tp: 1467.0000 - tn: 50088.0000 - fp: 9515.0000 - fn: 186.0000 - val_loss: 0.4192 - val_tp: 402.0000 - val_tn: 8530.0000 - val_fp: 2011.0000 - val_fn: 27.0000\n",
      "Epoch 4/40\n",
      "240/240 [==============================] - 55s 230ms/step - loss: 0.6466 - tp: 1475.0000 - tn: 50472.0000 - fp: 9131.0000 - fn: 178.0000 - val_loss: 0.3646 - val_tp: 399.0000 - val_tn: 8756.0000 - val_fp: 1785.0000 - val_fn: 30.0000\n",
      "Epoch 5/40\n",
      "240/240 [==============================] - 56s 232ms/step - loss: 0.6243 - tp: 1481.0000 - tn: 50665.0000 - fp: 8938.0000 - fn: 172.0000 - val_loss: 0.3870 - val_tp: 403.0000 - val_tn: 8590.0000 - val_fp: 1951.0000 - val_fn: 26.0000\n",
      "Epoch 6/40\n",
      "240/240 [==============================] - 50s 207ms/step - loss: 0.6013 - tp: 1506.0000 - tn: 50914.0000 - fp: 8689.0000 - fn: 147.0000 - val_loss: 0.3961 - val_tp: 400.0000 - val_tn: 8639.0000 - val_fp: 1902.0000 - val_fn: 29.0000\n",
      "Epoch 7/40\n",
      "240/240 [==============================] - 45s 186ms/step - loss: 0.6043 - tp: 1496.0000 - tn: 51158.0000 - fp: 8445.0000 - fn: 157.0000 - val_loss: 0.4103 - val_tp: 404.0000 - val_tn: 8550.0000 - val_fp: 1991.0000 - val_fn: 25.0000\n",
      "Epoch 8/40\n",
      "240/240 [==============================] - 41s 172ms/step - loss: 0.6026 - tp: 1508.0000 - tn: 51162.0000 - fp: 8441.0000 - fn: 145.0000 - val_loss: 0.3806 - val_tp: 401.0000 - val_tn: 8764.0000 - val_fp: 1777.0000 - val_fn: 28.0000\n",
      "Epoch 9/40\n",
      "240/240 [==============================] - 43s 180ms/step - loss: 0.5709 - tp: 1507.0000 - tn: 51343.0000 - fp: 8260.0000 - fn: 146.0000 - val_loss: 0.3623 - val_tp: 398.0000 - val_tn: 8833.0000 - val_fp: 1708.0000 - val_fn: 31.0000\n",
      "Epoch 10/40\n",
      "240/240 [==============================] - 43s 178ms/step - loss: 0.5532 - tp: 1517.0000 - tn: 51653.0000 - fp: 7950.0000 - fn: 136.0000 - val_loss: 0.3599 - val_tp: 400.0000 - val_tn: 8823.0000 - val_fp: 1718.0000 - val_fn: 29.0000\n",
      "Epoch 11/40\n",
      "240/240 [==============================] - 44s 184ms/step - loss: 0.5494 - tp: 1508.0000 - tn: 51700.0000 - fp: 7903.0000 - fn: 145.0000 - val_loss: 0.3849 - val_tp: 401.0000 - val_tn: 8696.0000 - val_fp: 1845.0000 - val_fn: 28.0000\n",
      "Epoch 12/40\n",
      "240/240 [==============================] - 45s 189ms/step - loss: 0.5440 - tp: 1511.0000 - tn: 51637.0000 - fp: 7966.0000 - fn: 142.0000 - val_loss: 0.3391 - val_tp: 397.0000 - val_tn: 8945.0000 - val_fp: 1596.0000 - val_fn: 32.0000\n",
      "Epoch 13/40\n",
      "240/240 [==============================] - 43s 180ms/step - loss: 0.5346 - tp: 1524.0000 - tn: 51678.0000 - fp: 7925.0000 - fn: 129.0000 - val_loss: 0.3228 - val_tp: 395.0000 - val_tn: 9018.0000 - val_fp: 1523.0000 - val_fn: 34.0000\n",
      "Epoch 14/40\n",
      "240/240 [==============================] - 46s 191ms/step - loss: 0.5461 - tp: 1512.0000 - tn: 51791.0000 - fp: 7812.0000 - fn: 141.0000 - val_loss: 0.3987 - val_tp: 404.0000 - val_tn: 8642.0000 - val_fp: 1899.0000 - val_fn: 25.0000\n",
      "Epoch 15/40\n",
      "240/240 [==============================] - 43s 179ms/step - loss: 0.5246 - tp: 1524.0000 - tn: 51818.0000 - fp: 7785.0000 - fn: 129.0000 - val_loss: 0.3266 - val_tp: 395.0000 - val_tn: 9035.0000 - val_fp: 1506.0000 - val_fn: 34.0000\n",
      "Epoch 16/40\n",
      "240/240 [==============================] - 42s 174ms/step - loss: 0.5222 - tp: 1525.0000 - tn: 52027.0000 - fp: 7576.0000 - fn: 128.0000 - val_loss: 0.3769 - val_tp: 403.0000 - val_tn: 8750.0000 - val_fp: 1791.0000 - val_fn: 26.0000\n",
      "Epoch 17/40\n",
      "240/240 [==============================] - 49s 205ms/step - loss: 0.5155 - tp: 1529.0000 - tn: 51929.0000 - fp: 7674.0000 - fn: 124.0000 - val_loss: 0.3485 - val_tp: 398.0000 - val_tn: 8895.0000 - val_fp: 1646.0000 - val_fn: 31.0000\n",
      "Epoch 18/40\n",
      "240/240 [==============================] - 48s 200ms/step - loss: 0.5067 - tp: 1533.0000 - tn: 51860.0000 - fp: 7743.0000 - fn: 120.0000 - val_loss: 0.3155 - val_tp: 390.0000 - val_tn: 9082.0000 - val_fp: 1459.0000 - val_fn: 39.0000\n",
      "Epoch 19/40\n",
      "240/240 [==============================] - 58s 241ms/step - loss: 0.5038 - tp: 1537.0000 - tn: 52355.0000 - fp: 7248.0000 - fn: 116.0000 - val_loss: 0.3616 - val_tp: 399.0000 - val_tn: 8879.0000 - val_fp: 1662.0000 - val_fn: 30.0000\n",
      "Epoch 20/40\n",
      "240/240 [==============================] - 55s 225ms/step - loss: 0.5038 - tp: 1519.0000 - tn: 52001.0000 - fp: 7602.0000 - fn: 134.0000 - val_loss: 0.3825 - val_tp: 404.0000 - val_tn: 8728.0000 - val_fp: 1813.0000 - val_fn: 25.0000\n",
      "Epoch 21/40\n",
      "240/240 [==============================] - 46s 191ms/step - loss: 0.4883 - tp: 1534.0000 - tn: 52220.0000 - fp: 7383.0000 - fn: 119.0000 - val_loss: 0.3445 - val_tp: 397.0000 - val_tn: 8971.0000 - val_fp: 1570.0000 - val_fn: 32.0000\n",
      "Epoch 22/40\n",
      "240/240 [==============================] - 43s 178ms/step - loss: 0.4826 - tp: 1537.0000 - tn: 52271.0000 - fp: 7332.0000 - fn: 116.0000 - val_loss: 0.3739 - val_tp: 399.0000 - val_tn: 8840.0000 - val_fp: 1701.0000 - val_fn: 30.0000\n",
      "Epoch 23/40\n",
      "240/240 [==============================] - 47s 195ms/step - loss: 0.4725 - tp: 1558.0000 - tn: 52538.0000 - fp: 7065.0000 - fn: 95.0000 - val_loss: 0.3128 - val_tp: 391.0000 - val_tn: 9133.0000 - val_fp: 1408.0000 - val_fn: 38.0000\n",
      "Epoch 24/40\n",
      "240/240 [==============================] - 47s 197ms/step - loss: 0.4966 - tp: 1530.0000 - tn: 52235.0000 - fp: 7368.0000 - fn: 123.0000 - val_loss: 0.3565 - val_tp: 399.0000 - val_tn: 8879.0000 - val_fp: 1662.0000 - val_fn: 30.0000\n",
      "Epoch 25/40\n",
      "240/240 [==============================] - 46s 193ms/step - loss: 0.4758 - tp: 1547.0000 - tn: 52390.0000 - fp: 7213.0000 - fn: 106.0000 - val_loss: 0.3531 - val_tp: 399.0000 - val_tn: 8884.0000 - val_fp: 1657.0000 - val_fn: 30.0000\n",
      "Epoch 26/40\n",
      "240/240 [==============================] - 43s 178ms/step - loss: 0.4738 - tp: 1540.0000 - tn: 52476.0000 - fp: 7127.0000 - fn: 113.0000 - val_loss: 0.3355 - val_tp: 396.0000 - val_tn: 8995.0000 - val_fp: 1546.0000 - val_fn: 33.0000\n",
      "Epoch 27/40\n",
      "240/240 [==============================] - 49s 203ms/step - loss: 0.4632 - tp: 1535.0000 - tn: 52806.0000 - fp: 6797.0000 - fn: 118.0000 - val_loss: 0.3378 - val_tp: 396.0000 - val_tn: 9016.0000 - val_fp: 1525.0000 - val_fn: 33.0000\n",
      "Epoch 28/40\n",
      "240/240 [==============================] - 55s 230ms/step - loss: 0.4703 - tp: 1551.0000 - tn: 52492.0000 - fp: 7111.0000 - fn: 102.0000 - val_loss: 0.3329 - val_tp: 395.0000 - val_tn: 9009.0000 - val_fp: 1532.0000 - val_fn: 34.0000\n",
      "Epoch 29/40\n",
      "240/240 [==============================] - 61s 254ms/step - loss: 0.4535 - tp: 1560.0000 - tn: 52711.0000 - fp: 6892.0000 - fn: 93.0000 - val_loss: 0.3545 - val_tp: 401.0000 - val_tn: 8913.0000 - val_fp: 1628.0000 - val_fn: 28.0000\n",
      "Epoch 30/40\n",
      "240/240 [==============================] - 54s 224ms/step - loss: 0.4622 - tp: 1545.0000 - tn: 52530.0000 - fp: 7073.0000 - fn: 108.0000 - val_loss: 0.3321 - val_tp: 395.0000 - val_tn: 9009.0000 - val_fp: 1532.0000 - val_fn: 34.0000\n",
      "Epoch 31/40\n",
      "240/240 [==============================] - 45s 188ms/step - loss: 0.4586 - tp: 1553.0000 - tn: 52661.0000 - fp: 6942.0000 - fn: 100.0000 - val_loss: 0.3014 - val_tp: 387.0000 - val_tn: 9149.0000 - val_fp: 1392.0000 - val_fn: 42.0000\n",
      "Epoch 32/40\n",
      "240/240 [==============================] - 48s 202ms/step - loss: 0.4298 - tp: 1556.0000 - tn: 53062.0000 - fp: 6541.0000 - fn: 97.0000 - val_loss: 0.3090 - val_tp: 393.0000 - val_tn: 9097.0000 - val_fp: 1444.0000 - val_fn: 36.0000\n",
      "Epoch 33/40\n",
      "240/240 [==============================] - 41s 173ms/step - loss: 0.4331 - tp: 1555.0000 - tn: 52901.0000 - fp: 6702.0000 - fn: 98.0000 - val_loss: 0.3581 - val_tp: 399.0000 - val_tn: 8939.0000 - val_fp: 1602.0000 - val_fn: 30.0000\n",
      "Epoch 34/40\n",
      "240/240 [==============================] - 46s 192ms/step - loss: 0.4467 - tp: 1560.0000 - tn: 52778.0000 - fp: 6825.0000 - fn: 93.0000 - val_loss: 0.2827 - val_tp: 388.0000 - val_tn: 9246.0000 - val_fp: 1295.0000 - val_fn: 41.0000\n",
      "Epoch 35/40\n",
      "240/240 [==============================] - 45s 187ms/step - loss: 0.4292 - tp: 1560.0000 - tn: 53093.0000 - fp: 6510.0000 - fn: 93.0000 - val_loss: 0.2993 - val_tp: 390.0000 - val_tn: 9154.0000 - val_fp: 1387.0000 - val_fn: 39.0000\n",
      "Epoch 36/40\n",
      "240/240 [==============================] - 44s 183ms/step - loss: 0.4366 - tp: 1558.0000 - tn: 52998.0000 - fp: 6605.0000 - fn: 95.0000 - val_loss: 0.3551 - val_tp: 403.0000 - val_tn: 8938.0000 - val_fp: 1603.0000 - val_fn: 26.0000\n",
      "Epoch 37/40\n",
      "240/240 [==============================] - 55s 231ms/step - loss: 0.4382 - tp: 1563.0000 - tn: 52908.0000 - fp: 6695.0000 - fn: 90.0000 - val_loss: 0.3464 - val_tp: 397.0000 - val_tn: 9024.0000 - val_fp: 1517.0000 - val_fn: 32.0000\n",
      "Epoch 38/40\n",
      "240/240 [==============================] - 52s 217ms/step - loss: 0.4230 - tp: 1573.0000 - tn: 53160.0000 - fp: 6443.0000 - fn: 80.0000 - val_loss: 0.3285 - val_tp: 392.0000 - val_tn: 9084.0000 - val_fp: 1457.0000 - val_fn: 37.0000\n",
      "Epoch 39/40\n",
      "240/240 [==============================] - 55s 230ms/step - loss: 0.4247 - tp: 1563.0000 - tn: 53188.0000 - fp: 6415.0000 - fn: 90.0000 - val_loss: 0.3735 - val_tp: 399.0000 - val_tn: 8871.0000 - val_fp: 1670.0000 - val_fn: 30.0000\n",
      "Epoch 40/40\n",
      "240/240 [==============================] - 57s 238ms/step - loss: 0.4352 - tp: 1561.0000 - tn: 53009.0000 - fp: 6594.0000 - fn: 92.0000 - val_loss: 0.3378 - val_tp: 397.0000 - val_tn: 9033.0000 - val_fp: 1508.0000 - val_fn: 32.0000\n"
     ]
    },
    {
     "name": "stderr",
     "output_type": "stream",
     "text": [
      "WARNING:absl:Found untraced functions such as SpecialActivation_layer_call_fn, SpecialActivation_layer_call_and_return_conditional_losses, SpecialActivation_layer_call_fn, SpecialActivation_layer_call_and_return_conditional_losses while saving (showing 4 of 4). These functions will not be directly callable after loading.\n"
     ]
    },
    {
     "name": "stdout",
     "output_type": "stream",
     "text": [
      "INFO:tensorflow:Assets written to: results/cnn-training-220331/4_fold_finetune-dense-dropout_model/assets\n"
     ]
    },
    {
     "name": "stderr",
     "output_type": "stream",
     "text": [
      "INFO:tensorflow:Assets written to: results/cnn-training-220331/4_fold_finetune-dense-dropout_model/assets\n"
     ]
    }
   ],
   "source": [
    "fold = 0\n",
    "kf_gen = kf.split(np.arange(len(audio_fnames)))\n",
    "\n",
    "for train_idx, test_idx in kf_gen:\n",
    "    print()\n",
    "    print(\"Fold {}/{} ---------\".format(fold, n_splits))\n",
    "    print(\"Train indices: \", train_idx)\n",
    "    print(\"Test indices: \", test_idx)\n",
    "\n",
    "    # Data\n",
    "    X_train, X_test = [\n",
    "        np.concatenate([X[i] for i in idx]) \n",
    "        for idx in (train_idx, test_idx)\n",
    "    ]\n",
    "    y_train, y_test = [\n",
    "        np.concatenate([onset_vectors[i] for i in idx]) \n",
    "        for idx in (train_idx, test_idx)\n",
    "    ]\n",
    "\n",
    "    train_onset_ratio = y_train.sum()/len(y_train)\n",
    "    test_onset_ratio = y_test.sum()/len(y_test)\n",
    "    print(\"Onset ratio training set: \", train_onset_ratio)\n",
    "    print(\"Onset ratio test set: \", test_onset_ratio)\n",
    "    print()\n",
    "\n",
    "    # Normalize\n",
    "    center_frames_train = X_train[:,:,7,:]\n",
    "    mean_train = center_frames_train.mean(0).reshape((1,80,1,3))\n",
    "    std_train = center_frames_train.std(0, ddof=1).reshape((1,80,1,3))\n",
    "\n",
    "    X_train = (X_train - mean_train)/std_train\n",
    "    X_test = (X_test - mean_train)/std_train\n",
    "    \n",
    "    # Model\n",
    "    tf.keras.backend.clear_session()\n",
    "    (model, norm_layer)=get_model(finetune=True)\n",
    "    model.compile(optimizer=optimizer,\n",
    "              loss=loss_fn,\n",
    "              metrics=metrics)\n",
    "    \n",
    "    # Training\n",
    "    history = model.fit(\n",
    "        x=X_train,\n",
    "        y=y_train,\n",
    "        validation_data=(X_test, y_test),\n",
    "        class_weight = {0: 1., 1: 1/train_onset_ratio},\n",
    "        epochs = 40,\n",
    "        batch_size = 256\n",
    "    )\n",
    "    \n",
    "    # Saving\n",
    "    training_name = \"finetune-dense-dropout\"\n",
    "    model.save('results/cnn-training-220331/{}_fold_{}_model'.format(fold, training_name))\n",
    "    with open('results/cnn-training-220330/{}_fold_{}_history.pickle'.format(fold, training_name), 'wb') as file_pi:\n",
    "        pickle.dump(history.history, file_pi)\n",
    "\n",
    "    fold += 1"
   ]
  },
  {
   "cell_type": "code",
   "execution_count": 26,
   "id": "8b89eb73",
   "metadata": {},
   "outputs": [],
   "source": [
    "with open('results/cnn-training-220330/{}_fold_{}_history.pickle'.format(4, training_name), 'rb') as file_pi:\n",
    "    history = pickle.load(file_pi)"
   ]
  },
  {
   "cell_type": "code",
   "execution_count": 13,
   "id": "c2d93f3c",
   "metadata": {},
   "outputs": [
    {
     "name": "stdout",
     "output_type": "stream",
     "text": [
      "F-score before postprocessing: 0.33311696741529273\n"
     ]
    }
   ],
   "source": [
    "THRES = ''\n",
    "VAL = ''\n",
    "TPS = history.history[VAL + 'tp' + THRES]\n",
    "FNS = history.history[VAL + 'fn' + THRES]\n",
    "FPS = history.history[VAL + 'fp' + THRES]\n",
    "print(\"F-score before postprocessing:\", 2*TPS[-2]/(2*TPS[-2] + FPS[-2] + FNS[-2]))"
   ]
  },
  {
   "cell_type": "code",
   "execution_count": 28,
   "id": "c361d908",
   "metadata": {},
   "outputs": [
    {
     "data": {
      "text/plain": [
       "<matplotlib.legend.Legend at 0x14fe53c10>"
      ]
     },
     "execution_count": 28,
     "metadata": {},
     "output_type": "execute_result"
    },
    {
     "data": {
      "image/png": "[encoded data removed]",
      "text/plain": [
       "<Figure size 432x288 with 1 Axes>"
      ]
     },
     "metadata": {
      "needs_background": "light"
     },
     "output_type": "display_data"
    }
   ],
   "source": [
    "plt.plot(history['loss'])\n",
    "plt.plot(history['val_loss'])\n",
    "plt.legend([\"Training loss\", \"Validation loss\"])"
   ]
  },
  {
   "cell_type": "code",
   "execution_count": 30,
   "id": "1d83928b",
   "metadata": {},
   "outputs": [
    {
     "data": {
      "text/plain": [
       "<matplotlib.legend.Legend at 0x14fbdc790>"
      ]
     },
     "execution_count": 30,
     "metadata": {},
     "output_type": "execute_result"
    },
    {
     "data": {
      "image/png": "[encoded data removed]",
      "text/plain": [
       "<Figure size 1440x288 with 2 Axes>"
      ]
     },
     "metadata": {
      "needs_background": "light"
     },
     "output_type": "display_data"
    }
   ],
   "source": [
    "fig, axs = plt.subplots(1,2,figsize=(20,4))\n",
    "# Prec. training\n",
    "axs[0].plot([tp/(fp+tp) for (tp, fp) in zip(history['tp'], history['fp'])], color='lightblue')\n",
    "# Rec. training\n",
    "axs[0].plot([tp/(fn+tp) for (tp, fn) in zip(history['tp'], history['fn'])], color='lightgreen')\n",
    "# F-measure\n",
    "axs[0].plot([2*tp/(2*tp+fp+fn) for (tp, fp, fn) in zip(history['tp'], history['fp'], history['fn'])], 'k:')\n",
    "axs[0].legend([\"Precision\", \"Recall\", \"F-measure\"])\n",
    "\n",
    "# Prec. training\n",
    "axs[1].plot([tp/(fp+tp) for (tp, fp) in zip(history['val_tp'], history['val_fp'])], color='lightblue')\n",
    "# Rec. training\n",
    "axs[1].plot([tp/(fn+tp) for (tp, fn) in zip(history['val_tp'], history['val_fn'])], color='lightgreen')\n",
    "# F-measure\n",
    "axs[1].plot([2*tp/(2*tp+fp+fn) for (tp, fp, fn) in zip(history['val_tp'], history['val_fp'], history['val_fn'])], 'k:')\n",
    "axs[1].legend([\"Precision\", \"Recall\", \"F-measure\"])"
   ]
  },
  {
   "cell_type": "code",
   "execution_count": 37,
   "id": "4a2a98df",
   "metadata": {},
   "outputs": [],
   "source": [
    "\n"
   ]
  },
  {
   "cell_type": "markdown",
   "id": "d0c015ec",
   "metadata": {},
   "source": [
    "## Audio analysis and onset extraction"
   ]
  },
  {
   "cell_type": "code",
   "execution_count": 35,
   "id": "3e488ddb",
   "metadata": {},
   "outputs": [
    {
     "name": "stdout",
     "output_type": "stream",
     "text": [
      "Test recordings:  [4]\n",
      "Length of recordings:  ['16.0 s']\n",
      "[1596.108843537415]\n",
      "Length of onset vectors:  [1597]\n",
      "Number of annotated onsets:  [75]  =  75\n"
     ]
    },
    {
     "name": "stderr",
     "output_type": "stream",
     "text": [
      "/usr/local/lib/python3.9/site-packages/madmom/audio/signal.py:457: UserWarning: Deprecated as of version 0.16. Please use madmom.io.audio.load_wave_file instead. Will be removed in version 0.18.\n",
      "  warnings.warn('Deprecated as of version 0.16. Please use madmom.io.audio.'\n",
      "/usr/local/lib/python3.9/site-packages/madmom/io/audio.py:493: WavFileWarning: Chunk (non-data) not understood, skipping it.\n",
      "  file_sample_rate, signal = wavfile.read(filename, mmap=True)\n"
     ]
    }
   ],
   "source": [
    "F_RATE = HOP/SR \n",
    "train_idx = np.array([0,  1,  2,  4,  5,  7,  8,  9, 11, 12, 13, 14, 16, 17, 18])\n",
    "test_idx = np.array([3, 6, 10, 15])\n",
    "test_idx = np.array([3])\n",
    "test_audio_paths = ['datasets/initslurtest_vn/initslurtest_vn_wav/slurtest{:02d}.wav'.format(test_index+1) for test_index in test_idx]\n",
    "test_audios = [madmom.audio.signal.load_wave_file(path)[0] for path in test_audio_paths]\n",
    "test_lengths = [len(test_audio)/SR for test_audio in test_audios]\n",
    "test_onsets = [genfromtxt('datasets/initslurtest_vn/initslurtest_vn_annotations/{:02d}.txt'.format(test_index+1), delimiter=',') for test_index in test_idx]\n",
    "test_onset_vectors = [get_label_vector(test_onset, len(test_audio)/SR, HOP, SR) for test_audio, test_onset in zip(test_audios, test_onsets)]\n",
    "print(\"Test recordings: \", test_idx+1)\n",
    "print(\"Length of recordings: \", [\"{:.1f} s\".format(l) for l in test_lengths])\n",
    "print([len(a)/HOP for a in test_audios])\n",
    "print(\"Length of onset vectors: \", [len(v) for v in test_onset_vectors])\n",
    "print(\"Number of annotated onsets: \", \n",
    "    [len(test_onset) for test_onset in test_onsets], \n",
    "    \" = \", np.sum([len(test_onset) for test_onset in test_onsets])\n",
    ")"
   ]
  },
  {
   "cell_type": "code",
   "execution_count": 36,
   "id": "40d836e4",
   "metadata": {},
   "outputs": [],
   "source": [
    "full_audio = np.concatenate(test_audios)\n",
    "cum_lengths = np.concatenate(([0.0], np.cumsum(test_lengths)))[:-1]\n",
    "full_onsets = np.concatenate(\n",
    "    [shift + onset for (shift, onset) in zip(cum_lengths, test_onsets)]\n",
    ")\n",
    "full_onset_vectors = np.concatenate(test_onset_vectors)"
   ]
  },
  {
   "cell_type": "code",
   "execution_count": 37,
   "id": "2fc376a6",
   "metadata": {},
   "outputs": [
    {
     "ename": "KeyboardInterrupt",
     "evalue": "",
     "output_type": "error",
     "traceback": [
      "\u001b[0;31m---------------------------------------------------------------------------\u001b[0m",
      "\u001b[0;31mKeyboardInterrupt\u001b[0m                         Traceback (most recent call last)",
      "\u001b[1;32m/Users/simonfal/kth-master/exjobb/beyondPianoRoll/flow.ipynb Cell 20'\u001b[0m in \u001b[0;36m<cell line: 1>\u001b[0;34m()\u001b[0m\n\u001b[0;32m----> <a href='vscode-notebook-cell:/Users/simonfal/kth-master/exjobb/beyondPianoRoll/flow.ipynb#ch0000033?line=0'>1</a>\u001b[0m X_train \u001b[39m=\u001b[39m np\u001b[39m.\u001b[39;49mconcatenate([X[i] \u001b[39mfor\u001b[39;49;00m i \u001b[39min\u001b[39;49;00m train_idx]) \n\u001b[1;32m      <a href='vscode-notebook-cell:/Users/simonfal/kth-master/exjobb/beyondPianoRoll/flow.ipynb#ch0000033?line=2'>3</a>\u001b[0m center_frames_train \u001b[39m=\u001b[39m X_train[:,:,\u001b[39m7\u001b[39m,:]\n\u001b[1;32m      <a href='vscode-notebook-cell:/Users/simonfal/kth-master/exjobb/beyondPianoRoll/flow.ipynb#ch0000033?line=3'>4</a>\u001b[0m mean_train \u001b[39m=\u001b[39m center_frames_train\u001b[39m.\u001b[39mmean(\u001b[39m0\u001b[39m)\u001b[39m.\u001b[39mreshape((\u001b[39m1\u001b[39m,\u001b[39m80\u001b[39m,\u001b[39m1\u001b[39m,\u001b[39m3\u001b[39m))\n",
      "File \u001b[0;32m<__array_function__ internals>:180\u001b[0m, in \u001b[0;36mconcatenate\u001b[0;34m(*args, **kwargs)\u001b[0m\n",
      "\u001b[0;31mKeyboardInterrupt\u001b[0m: "
     ]
    }
   ],
   "source": [
    "X_train = np.concatenate([X[i] for i in train_idx]) \n",
    "\n",
    "center_frames_train = X_train[:,:,7,:]\n",
    "mean_train = center_frames_train.mean(0).reshape((1,80,1,3))\n",
    "std_train = center_frames_train.std(0, ddof=1).reshape((1,80,1,3))\n",
    "\n"
   ]
  },
  {
   "cell_type": "code",
   "execution_count": 34,
   "id": "741d8287",
   "metadata": {},
   "outputs": [],
   "source": [
    "\n",
    "model = tf.keras.models.load_model('results/cnn-training-220331/{}_fold_{}_model'.format(0, training_name))\n",
    "test_model_out = model.predict((-mean_train)/std_train)"
   ]
  },
  {
   "cell_type": "code",
   "execution_count": 95,
   "id": "6a820900",
   "metadata": {},
   "outputs": [
    {
     "data": {
      "text/plain": [
       "416"
      ]
     },
     "execution_count": 95,
     "metadata": {},
     "output_type": "execute_result"
    }
   ],
   "source": [
    "KERNEL_SIZE = 5\n",
    "N_PRE = 5\n",
    "N_POST = 1\n",
    "THRES = 0.5\n",
    "\n",
    "test_peaks = madmom.features.onsets.peak_picking(\n",
    "                                    activations=test_model_out, \n",
    "                                    threshold=THRES, \n",
    "                                    smooth=KERNEL_SIZE, \n",
    "                                    pre_avg=N_PRE, \n",
    "                                    post_avg=N_POST, \n",
    "                                    pre_max=N_PRE, \n",
    "                                    post_max=N_POST\n",
    ")[0].astype(np.float32)*F_RATE\n",
    "\n",
    "len(test_peaks)\n"
   ]
  },
  {
   "cell_type": "code",
   "execution_count": null,
   "id": "db506487",
   "metadata": {},
   "outputs": [
    {
     "name": "stdout",
     "output_type": "stream",
     "text": [
      "[10.309999 10.84     11.38     11.96     12.45     13.03    ]\n"
     ]
    },
    {
     "data": {
      "text/plain": [
       "<matplotlib.collections.PathCollection at 0x1529dfee0>"
      ]
     },
     "execution_count": 51,
     "metadata": {},
     "output_type": "execute_result"
    },
    {
     "data": {
      "image/png": "[encoded data removed]",
      "text/plain": [
       "<Figure size 432x288 with 1 Axes>"
      ]
     },
     "metadata": {
      "needs_background": "light"
     },
     "output_type": "display_data"
    }
   ],
   "source": [
    "start_sec = 10\n",
    "end_sec = 14\n",
    "selected_peaks = test_peaks[np.intersect1d(\n",
    "    np.where(test_peaks>=start_sec)[0],\n",
    "    np.where(test_peaks<end_sec)[0])\n",
    "]\n",
    "selected_onsets = full_onsets[np.intersect1d(\n",
    "    np.where(full_onsets>=start_sec)[0],\n",
    "    np.where(full_onsets<end_sec)[0])\n",
    "]\n",
    "print(selected_peaks)\n",
    "plt.scatter(selected_peaks, np.zeros_like(selected_peaks), marker='x', color='blue')\n",
    "plt.scatter(selected_onsets, np.zeros_like(selected_onsets), marker='x', color='green')"
   ]
  },
  {
   "cell_type": "code",
   "execution_count": 96,
   "id": "10d8b049",
   "metadata": {},
   "outputs": [
    {
     "name": "stdout",
     "output_type": "stream",
     "text": [
      "374\n",
      "Precision: 89.9 %\n",
      "Recall: 94.9 %\n",
      "F-score: 92.3 %\n"
     ]
    }
   ],
   "source": [
    "from analyze_detection import evaluate\n",
    "\n",
    "true = full_onsets\n",
    "pred = test_peaks\n",
    "\n",
    "TOL = 0.025\n",
    "[CD,FN,FP,doubles,merged] = evaluate(true, pred, tol_sec=TOL)\n",
    "print(CD)\n",
    "print(\"Precision: {:.1f} %\".format( 100*CD/(CD+FP)))\n",
    "print(\"Recall: {:.1f} %\".format( 100*CD/(CD+FN)))\n",
    "print(\"F-score: {:.1f} %\".format( 200*CD/(2*CD+FP+FN)))"
   ]
  },
  {
   "cell_type": "code",
   "execution_count": 82,
   "id": "238a057a",
   "metadata": {},
   "outputs": [
    {
     "name": "stdout",
     "output_type": "stream",
     "text": [
      "Cannot plot selected region, choose other start/dur values\n"
     ]
    },
    {
     "data": {
      "text/plain": [
       "<Figure size 1800x360 with 0 Axes>"
      ]
     },
     "metadata": {},
     "output_type": "display_data"
    }
   ],
   "source": [
    "start_sec = 30\n",
    "dur_sec = 5\n",
    "\n",
    "selected_audio = full_audio[start_sec*SR:(start_sec+dur_sec)*SR]\n",
    "selected_onsets = full_onsets[np.intersect1d(\n",
    "        np.where(full_onsets>=start_sec)[0], \n",
    "        np.where(full_onsets<start_sec+dur_sec)[0]\n",
    ")]\n",
    "selected_onehot = full_onset_vectors[int(start_sec/F_RATE):int((start_sec+dur_sec)/F_RATE)]\n",
    "fig = plt.figure(figsize=(25,5))\n",
    "if start_sec + dur_sec < len(full_audio)/SR:\n",
    "    \n",
    "    \n",
    "    plt.plot(\n",
    "        np.linspace(start_sec, start_sec+dur_sec, dur_sec*SR),\n",
    "        selected_audio, \n",
    "        color=\"lightgray\"\n",
    "    )\n",
    "    for i, onset in enumerate(selected_onehot):\n",
    "        if onset==1:\n",
    "            plt.scatter(start_sec + i*F_RATE/dur_sec, 0, color='green')\n",
    "    plt.xlabel(\"Seconds\")\n",
    "    plt.show()\n",
    "\n",
    "else:\n",
    "    print(\"Cannot plot selected region, choose other start/dur values\")"
   ]
  },
  {
   "cell_type": "code",
   "execution_count": 81,
   "id": "245acaf2",
   "metadata": {},
   "outputs": [
    {
     "data": {
      "text/plain": [
       "0.01"
      ]
     },
     "execution_count": 81,
     "metadata": {},
     "output_type": "execute_result"
    }
   ],
   "source": []
  },
  {
   "cell_type": "code",
   "execution_count": 22,
   "id": "f2f78602",
   "metadata": {},
   "outputs": [
    {
     "name": "stdout",
     "output_type": "stream",
     "text": [
      "Precision: 58.2 %\n",
      "Recall: 61.5 %\n"
     ]
    }
   ],
   "source": []
  },
  {
   "cell_type": "code",
   "execution_count": null,
   "id": "22736e04",
   "metadata": {},
   "outputs": [],
   "source": [
    "#f = open(\"datasets/initslurtest_vn/model-output/bockmodel-220315-slurtest{:02d}.txt\".format(test_index), \"w\")\n",
    "#for i in range(len(peaks)):\n",
    "#    f.write(str(np.round((peaks[i]+7)*440/44100, decimals=2))+ \"\\n\")\n",
    "#f.close()"
   ]
  },
  {
   "cell_type": "code",
   "execution_count": null,
   "id": "82bf4341",
   "metadata": {},
   "outputs": [],
   "source": []
  }
 ],
 "metadata": {
  "kernelspec": {
   "display_name": "Python 3 (ipykernel)",
   "language": "python",
   "name": "python3"
  },
  "language_info": {
   "codemirror_mode": {
    "name": "ipython",
    "version": 3
   },
   "file_extension": ".py",
   "mimetype": "text/x-python",
   "name": "python",
   "nbconvert_exporter": "python",
   "pygments_lexer": "ipython3",
   "version": "3.9.10"
  }
 },
 "nbformat": 4,
 "nbformat_minor": 5
}
