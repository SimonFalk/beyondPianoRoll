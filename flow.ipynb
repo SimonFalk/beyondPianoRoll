{
 "cells": [
  {
   "cell_type": "code",
   "execution_count": 1,
   "id": "b0f89d5a",
   "metadata": {},
   "outputs": [],
   "source": [
    "import os\n",
    "import pickle\n",
    "import datetime\n",
    "import warnings\n",
    "\n",
    "import numpy as np\n",
    "from numpy import genfromtxt\n",
    "import matplotlib.pyplot as plt\n",
    "from sklearn.model_selection import KFold, train_test_split\n",
    "\n",
    "import tensorflow as tf\n",
    "import madmom\n",
    "\n",
    "from segment import segment_spectrogram\n",
    "from modules.labels import get_label_vector\n",
    "from modules.madmom_cnn_prep import cnn_preprocessor, cnn_normalize\n",
    "from datasets import Dataset\n",
    "from analyze_detection import evaluate, f_score\n",
    "from models.bock2013pret import get_model\n",
    "\n",
    "%load_ext autoreload\n",
    "%autoreload 2\n",
    "\n",
    "def fxn():\n",
    "    warnings.warn(\"deprecated\", DeprecationWarning)\n",
    "\n",
    "SR = 44100\n",
    "FPS = 100\n",
    "CONTEXT = 7"
   ]
  },
  {
   "cell_type": "code",
   "execution_count": 2,
   "id": "29ac37ea",
   "metadata": {},
   "outputs": [
    {
     "name": "stdout",
     "output_type": "stream",
     "text": [
      "Some sample rates are not equal to 44.1kHz!\n",
      "Some sample rates are not equal to 44.1kHz!\n"
     ]
    },
    {
     "name": "stderr",
     "output_type": "stream",
     "text": [
      "/home/simonf/.venv/onsets/lib/python3.8/site-packages/madmom/audio/signal.py:457: UserWarning: Deprecated as of version 0.16. Please use madmom.io.audio.load_wave_file instead. Will be removed in version 0.18.\n",
      "  warnings.warn('Deprecated as of version 0.16. Please use madmom.io.audio.'\n",
      "/home/simonf/.venv/onsets/lib/python3.8/site-packages/madmom/io/audio.py:493: WavFileWarning: Chunk (non-data) not understood, skipping it.\n",
      "  file_sample_rate, signal = wavfile.read(filename, mmap=True)\n"
     ]
    }
   ],
   "source": [
    "ds0 = Dataset(\"initslurtest\")\n",
    "ds1 = Dataset(\"slurtest_add_1\")\n",
    "ds2 = Dataset(\"slurtest_add_2\")\n",
    "\n",
    "audio_fnames = ds0.get_audio_paths() + ds1.get_audio_paths()\n",
    "label_fnames = ds0.get_annotation_paths() + ds1.get_annotation_paths()\n",
    "\n",
    "audios = [madmom.audio.signal.load_wave_file(filename)[0] for filename in audio_fnames]\n",
    "sample_rates = [madmom.audio.signal.load_wave_file(filename)[1] for filename in audio_fnames]\n",
    "onset_schedules = [np.loadtxt(label_fname, usecols=0) for label_fname in label_fnames]\n",
    "for ele in sample_rates:\n",
    "    if ele != SR:\n",
    "        print(\"Some sample rates are not equal to 44.1kHz!\")\n"
   ]
  },
  {
   "cell_type": "code",
   "execution_count": 3,
   "id": "ba7d99b1",
   "metadata": {},
   "outputs": [],
   "source": [
    "# Load preprocessing funciton\n",
    "preprocessor = cnn_preprocessor()\n",
    "box_processor = madmom.features.onsets.CNNOnsetProcessor()"
   ]
  },
  {
   "cell_type": "code",
   "execution_count": null,
   "id": "41a06a39",
   "metadata": {},
   "outputs": [],
   "source": [
    "[print(\"Name of rec: {}\\n\"\n",
    "       \"Len in seconds: {:.2f}\\n\"\n",
    "       \"Shape of audio: {}\\n\"\n",
    "       \"Shape of onset schedule: {}\\n\"\n",
    "       \"Onsets from {:.2f}s to {:.2f}s\\n\".format(\n",
    "                                        os.path.split(fname)[1], \n",
    "                                        audio.shape[0]/sr,\n",
    "                                        audio.shape,\n",
    "                                        schedule.shape,\n",
    "                                        schedule.min(),\n",
    "                                        schedule.max(),\n",
    "                                        ) \n",
    "    ) for fname, audio, schedule, sr in zip(audio_fnames, audios, onset_schedules, sample_rates)\n",
    "]"
   ]
  },
  {
   "cell_type": "code",
   "execution_count": null,
   "id": "df3577bc",
   "metadata": {},
   "outputs": [],
   "source": [
    "# Add white noise to recordings\n",
    "# Noise variance is adjusted to a fixed Signal Noise Ratio computed recording-wise\n",
    "# snr_db = 20 means S/N=10\n",
    "# snr_db = 10 means S/N≈3.2\n",
    "SNR_DB = 10\n",
    "snr_v = 10**(SNR_DB/20)\n",
    "\n",
    "def augmentation(audio, t=None, p=None):\n",
    "    if t==None:\n",
    "        return audio\n",
    "    elif t==\"white_noise\":\n",
    "        # p contains snr_db parameter\n",
    "        return audio+np.random.normal(\n",
    "            scale=madmom.audio.signal.root_mean_square(audio)/(10**(p/20)),\n",
    "            size=audio.shape\n",
    "            )\n",
    "\n",
    "for audio, fname in zip(audios, audio_fnames):\n",
    "    np.save(\"dataset/augmented/\" + os.path.basename(fname) + \"_noise_SNRdB_\"+SNR_DB)\n"
   ]
  },
  {
   "cell_type": "code",
   "execution_count": 4,
   "id": "78d4d97e",
   "metadata": {},
   "outputs": [],
   "source": [
    "onset_vectors = [get_label_vector(sched, len(audio)/sr, FPS)\n",
    "    for (sched, audio, sr) in zip(onset_schedules, audios, sample_rates)\n",
    "]"
   ]
  },
  {
   "cell_type": "code",
   "execution_count": 5,
   "id": "9d6656f4",
   "metadata": {},
   "outputs": [
    {
     "name": "stderr",
     "output_type": "stream",
     "text": [
      "/home/simonf/.venv/onsets/lib/python3.8/site-packages/madmom/io/audio.py:493: WavFileWarning: Chunk (non-data) not understood, skipping it.\n",
      "  file_sample_rate, signal = wavfile.read(filename, mmap=True)\n",
      "/home/simonf/.venv/onsets/lib/python3.8/site-packages/madmom/io/audio.py:493: WavFileWarning: Chunk (non-data) not understood, skipping it.\n",
      "  file_sample_rate, signal = wavfile.read(filename, mmap=True)\n"
     ]
    },
    {
     "name": "stdout",
     "output_type": "stream",
     "text": [
      "(1711, 80, 3)\n"
     ]
    }
   ],
   "source": [
    "# Create data and normalize\n",
    "mm_proc_frames = [preprocessor(fname) for fname in audio_fnames]\n",
    "mm_frames_normalized = [cnn_normalize(frame_set) for frame_set in mm_proc_frames]\n",
    "print(mm_frames_normalized[0].shape)\n",
    "#X = [[\n",
    "#    data[i-CONTEXT:i+CONTEXT+1,:,:] \n",
    "#    for i in range(CONTEXT, data.shape[0]-CONTEXT)\n",
    "#] for data in mm_frames_normalized]\n",
    "#X = [np.transpose(np.stack(data, 0), [0,2,1,3]) for data in X]\n",
    "#print(X[0].sum())"
   ]
  },
  {
   "cell_type": "code",
   "execution_count": 6,
   "id": "7144fff3",
   "metadata": {},
   "outputs": [],
   "source": [
    "def data_generator(\n",
    "    batch_size,\n",
    "    steps_per_epoch,\n",
    "    epochs,\n",
    "    idx, \n",
    "    sampling=True,\n",
    "    mode=None,\n",
    "    standard=False,\n",
    "    mean=None,\n",
    "    std=None\n",
    "):\n",
    "    \n",
    "    #for _ in range(steps_per_epoch * epochs):\n",
    "    if not sampling:\n",
    "        ep = 0\n",
    "        file_p = 0\n",
    "        frame_p = 0\n",
    "    \n",
    "    while True:\n",
    "        # Select indices for training or test\n",
    "        if sampling:\n",
    "            file_i = np.random.choice(idx)\n",
    "        else:\n",
    "            file_i = idx[file_p]\n",
    "        \n",
    "        #print(\"Selected file index: \", file_i)\n",
    "        fname = audio_fnames[file_i]\n",
    "        \n",
    "        if mode==\"use_prep_frames\":\n",
    "            frames = mm_frames_normalized[file_i]\n",
    "        elif mode==\"use_raw_frames\":\n",
    "            # No normalization\n",
    "            frames = mm_proc_frames[file_i]    \n",
    "        else:\n",
    "            # Compute frames\n",
    "            with warnings.catch_warnings():\n",
    "                warnings.simplefilter(\"ignore\")\n",
    "                fxn()\n",
    "                frames = cnn_normalize(preprocessor(fname))\n",
    "\n",
    "        if standard:\n",
    "            frames = (frames-mean)/std\n",
    "            \n",
    "        #print(\"Frame size: \", frames.shape[0])\n",
    "\n",
    "        # Retrieve onsets \n",
    "        onsets = onset_vectors[file_i]\n",
    "        #print(\"Computed frames of size \", frames.shape)\n",
    "        #print(\"Onset vectors have len \", len(onsets))\n",
    "\n",
    "        # Sample a set of indices (defined from audio start,\n",
    "        # that is CONTEXT values counted from x array start)\n",
    "        if sampling:\n",
    "            focus_idx = np.random.choice(\n",
    "                np.arange(frames.shape[0]-2*CONTEXT-1), \n",
    "                size=batch_size\n",
    "            )\n",
    "            #print(\"Sampled focus idx between \", 0, \" and \", frames.shape[0]-2*CONTEXT-1)\n",
    "        else:\n",
    "            #print(\"Focus idx from \", frame_p, \" to \", frame_p+batch_size)\n",
    "            focus_idx = np.arange(frame_p, frame_p+batch_size)\n",
    "        \n",
    "\n",
    "        # Segmentation\n",
    "        x = [frames[focus:focus+2*CONTEXT+1,:,:] for focus in focus_idx]\n",
    "        x = np.transpose(np.stack(x, 0), [0,2,1,3])\n",
    "        #print(\"Segmented x has shape \", x.shape)\n",
    "        if x.shape[0] != batch_size:\n",
    "            print(\"Delivering less than batch-size\")\n",
    "\n",
    "        # Labels\n",
    "        y = onsets[focus_idx]\n",
    "        yield (x, y)\n",
    "\n",
    "        if not sampling:\n",
    "            if frame_p + 2*batch_size >= frames.shape[0]-2*CONTEXT-1:\n",
    "                if file_p == len(idx) - 1:\n",
    "                    ep += 1\n",
    "                    print(\"Generator reached end of epoch. Resetting...\")\n",
    "                    file_p = 0\n",
    "                    frame_p = 0\n",
    "                else:\n",
    "                    file_p += 1\n",
    "                    frame_p = 0\n",
    "            else:\n",
    "                frame_p += batch_size\n",
    "            \n",
    "\n"
   ]
  },
  {
   "cell_type": "code",
   "execution_count": 12,
   "id": "9ab8a240",
   "metadata": {},
   "outputs": [],
   "source": [
    "# Custom split:\n",
    "n_splits = 1\n",
    "kf_gen = [[np.arange(19), np.arange(19, len(audio_fnames))]]"
   ]
  },
  {
   "cell_type": "code",
   "execution_count": 8,
   "id": "bcc4b361",
   "metadata": {},
   "outputs": [],
   "source": [
    "# K-Fold:\n",
    "\n",
    "\n",
    "random_seed = 119\n",
    "n_splits =  5\n",
    "kf = KFold(n_splits=n_splits, shuffle=True, random_state=True)\n",
    "kf_gen = list(kf.split(np.arange(len(audio_fnames))))"
   ]
  },
  {
   "cell_type": "code",
   "execution_count": 8,
   "id": "89002ea2",
   "metadata": {},
   "outputs": [],
   "source": [
    "# Precompute statistics\n",
    "means_per_fold = []\n",
    "std_per_fold = []\n",
    "for train_idx, test_idx in kf_gen:\n",
    "    train_frames = np.concatenate([mm_proc_frames[i] for i in train_idx]) \n",
    "    mean_train = train_frames.mean(0).reshape((80,1,3))\n",
    "    std_train = train_frames.std(0, ddof=1).reshape((80,1,3))\n",
    "    means_per_fold.append(mean_train)\n",
    "    std_per_fold.append(std_train)\n",
    "\n",
    "with open('results/computed/added_means_by_fold.pickle', 'wb') as file_pi:\n",
    "    pickle.dump(means_per_fold, file_pi)\n",
    "with open('results/computed/added_std_by_fold.pickle', 'wb') as file_pi:\n",
    "    pickle.dump(std_per_fold, file_pi)\n",
    "\n"
   ]
  },
  {
   "cell_type": "code",
   "execution_count": 8,
   "id": "55b91d22",
   "metadata": {},
   "outputs": [],
   "source": [
    "def compute_steps(idx, bs):\n",
    "    song_sizes = np.array([len(f) for f in mm_frames_normalized])[idx]-2*CONTEXT-1\n",
    "    steps_per_song = np.floor_divide(song_sizes, bs)\n",
    "    return np.sum(steps_per_song)"
   ]
  },
  {
   "cell_type": "code",
   "execution_count": 9,
   "id": "5c1e774c",
   "metadata": {},
   "outputs": [],
   "source": [
    "loss_fn = tf.keras.losses.BinaryCrossentropy(from_logits=False)\n",
    "optimizer = tf.keras.optimizers.Adam()\n",
    "metrics = [\n",
    "    #tf.keras.metrics.TruePositives(name='tp', thresholds=0.5),\n",
    "    #tf.keras.metrics.TrueNegatives(name='tn', thresholds=0.5),\n",
    "    #tf.keras.metrics.FalsePositives(name='fp', thresholds=0.5),\n",
    "    #tf.keras.metrics.FalseNegatives(name='fn', thresholds=0.5),\n",
    "]"
   ]
  },
  {
   "cell_type": "code",
   "execution_count": 10,
   "id": "0be42001",
   "metadata": {},
   "outputs": [],
   "source": [
    "datasets = \"a\"\n",
    "continue_run = False\n",
    "training_mode = \"all\" # REMEMBER TO CHANGE\n",
    "check_at_epoch = 5 \n",
    "\n",
    "save = True # REMEMBER TO CHANGE\n",
    " # REMEMBER TO CHANGE\n",
    "save_path = \"results/cnn-training-220425/\" # TODO - automatically\n",
    "n_epochs = 35 # REMEMBER TO CHANGE\n",
    "learning_r = 0.001\n",
    "bs = 256\n",
    "steps_per_epoch = int(np.sum(np.array([len(f) for f in mm_frames_normalized])[kf_gen[0][0]]-2*CONTEXT-1)/bs)\n",
    "val_steps_per_epoch = 30\n",
    "nogen = False\n",
    "sampling = False\n",
    "\n",
    "standard = False # keep in mind on which data format statistics are computed \n",
    "mode = 'use_prep_frames' # Preparing by BN layer/\"CNN normalization\"\n",
    "#mode = 'use_raw_frames' # No preparing\n",
    "\n",
    "\n",
    "training_name = \"{}-{}-{}eps-lr{:.4f}-{}\".format(\n",
    "    datasets, \n",
    "    \"nogen\" if nogen else (\"sample\" if sampling else \"seq\"),\n",
    "    n_epochs,\n",
    "    learning_r,\n",
    "    \"standard\" if standard else \"nostandard\"\n",
    ")\n"
   ]
  },
  {
   "cell_type": "code",
   "execution_count": 13,
   "id": "83087052",
   "metadata": {},
   "outputs": [
    {
     "name": "stdout",
     "output_type": "stream",
     "text": [
      "\n",
      "Fold 0/1 ---------\n",
      "Train indices:  [ 0  1  2  3  4  5  6  7  8  9 10 11 12 13 14 15 16 17 18]\n",
      "Test indices:  [19 20 21 22 23 24 25 26 27 28 29 30 31 32 33 34 35]\n",
      "Epoch 1/50\n"
     ]
    },
    {
     "name": "stderr",
     "output_type": "stream",
     "text": [
      "2022-04-25 15:25:09.403845: I tensorflow/stream_executor/cuda/cuda_gpu_executor.cc:936] successful NUMA node read from SysFS had negative value (-1), but there must be at least one NUMA node, so returning NUMA node zero\n",
      "2022-04-25 15:25:09.408257: I tensorflow/stream_executor/cuda/cuda_gpu_executor.cc:936] successful NUMA node read from SysFS had negative value (-1), but there must be at least one NUMA node, so returning NUMA node zero\n",
      "2022-04-25 15:25:09.408561: I tensorflow/stream_executor/cuda/cuda_gpu_executor.cc:936] successful NUMA node read from SysFS had negative value (-1), but there must be at least one NUMA node, so returning NUMA node zero\n",
      "2022-04-25 15:25:09.409321: I tensorflow/core/platform/cpu_feature_guard.cc:151] This TensorFlow binary is optimized with oneAPI Deep Neural Network Library (oneDNN) to use the following CPU instructions in performance-critical operations:  AVX2 FMA\n",
      "To enable them in other operations, rebuild TensorFlow with the appropriate compiler flags.\n",
      "2022-04-25 15:25:09.409689: I tensorflow/stream_executor/cuda/cuda_gpu_executor.cc:936] successful NUMA node read from SysFS had negative value (-1), but there must be at least one NUMA node, so returning NUMA node zero\n",
      "2022-04-25 15:25:09.409986: I tensorflow/stream_executor/cuda/cuda_gpu_executor.cc:936] successful NUMA node read from SysFS had negative value (-1), but there must be at least one NUMA node, so returning NUMA node zero\n",
      "2022-04-25 15:25:09.410255: I tensorflow/stream_executor/cuda/cuda_gpu_executor.cc:936] successful NUMA node read from SysFS had negative value (-1), but there must be at least one NUMA node, so returning NUMA node zero\n",
      "2022-04-25 15:25:09.772810: I tensorflow/stream_executor/cuda/cuda_gpu_executor.cc:936] successful NUMA node read from SysFS had negative value (-1), but there must be at least one NUMA node, so returning NUMA node zero\n",
      "2022-04-25 15:25:09.773271: I tensorflow/stream_executor/cuda/cuda_gpu_executor.cc:936] successful NUMA node read from SysFS had negative value (-1), but there must be at least one NUMA node, so returning NUMA node zero\n",
      "2022-04-25 15:25:09.773667: I tensorflow/stream_executor/cuda/cuda_gpu_executor.cc:936] successful NUMA node read from SysFS had negative value (-1), but there must be at least one NUMA node, so returning NUMA node zero\n",
      "2022-04-25 15:25:09.774039: I tensorflow/core/common_runtime/gpu/gpu_device.cc:1525] Created device /job:localhost/replica:0/task:0/device:GPU:0 with 6682 MB memory:  -> device: 0, name: NVIDIA GeForce GTX 1080, pci bus id: 0000:01:00.0, compute capability: 6.1\n",
      "2022-04-25 15:25:10.595088: I tensorflow/stream_executor/cuda/cuda_dnn.cc:368] Loaded cuDNN version 8204\n",
      "2022-04-25 15:25:10.835687: I tensorflow/core/platform/default/subprocess.cc:304] Start cannot spawn child process: No such file or directory\n"
     ]
    },
    {
     "name": "stdout",
     "output_type": "stream",
     "text": [
      "261/274 [===========================>..] - ETA: 0s - loss: 0.7283Generator reached end of epoch. Resetting...\n",
      "273/274 [============================>.] - ETA: 0s - loss: 0.7256Generator reached end of epoch. Resetting...\n",
      "274/274 [==============================] - 11s 35ms/step - loss: 0.7231 - val_loss: 0.3154\n",
      "Epoch 2/50\n",
      "261/274 [===========================>..] - ETA: 0s - loss: 0.5817Generator reached end of epoch. Resetting...\n",
      "273/274 [============================>.] - ETA: 0s - loss: 0.5829Generator reached end of epoch. Resetting...\n",
      "274/274 [==============================] - 10s 35ms/step - loss: 0.5810 - val_loss: 0.2723\n",
      "Epoch 3/50\n",
      "261/274 [===========================>..] - ETA: 0s - loss: 0.5626Generator reached end of epoch. Resetting...\n",
      "273/274 [============================>.] - ETA: 0s - loss: 0.5650Generator reached end of epoch. Resetting...\n",
      "274/274 [==============================] - 10s 35ms/step - loss: 0.5632 - val_loss: 0.2948\n",
      "Epoch 4/50\n",
      "261/274 [===========================>..] - ETA: 0s - loss: 0.5412Generator reached end of epoch. Resetting...\n",
      "273/274 [============================>.] - ETA: 0s - loss: 0.5432Generator reached end of epoch. Resetting...\n",
      "274/274 [==============================] - 10s 35ms/step - loss: 0.5413 - val_loss: 0.2676\n",
      "Epoch 5/50\n",
      "261/274 [===========================>..] - ETA: 0s - loss: 0.5121Generator reached end of epoch. Resetting...\n",
      "273/274 [============================>.] - ETA: 0s - loss: 0.5162Generator reached end of epoch. Resetting...\n",
      "274/274 [==============================] - 10s 35ms/step - loss: 0.5145 - val_loss: 0.2594\n",
      "Epoch 6/50\n",
      "261/274 [===========================>..] - ETA: 0s - loss: 0.5024Generator reached end of epoch. Resetting...\n",
      "273/274 [============================>.] - ETA: 0s - loss: 0.5043Generator reached end of epoch. Resetting...\n",
      "274/274 [==============================] - 10s 35ms/step - loss: 0.5026 - val_loss: 0.2509\n",
      "Epoch 7/50\n",
      "261/274 [===========================>..] - ETA: 0s - loss: 0.4925Generator reached end of epoch. Resetting...\n",
      "273/274 [============================>.] - ETA: 0s - loss: 0.4949Generator reached end of epoch. Resetting...\n",
      "274/274 [==============================] - 10s 35ms/step - loss: 0.4932 - val_loss: 0.2621\n",
      "Epoch 8/50\n",
      "261/274 [===========================>..] - ETA: 0s - loss: 0.4836Generator reached end of epoch. Resetting...\n",
      "273/274 [============================>.] - ETA: 0s - loss: 0.4854Generator reached end of epoch. Resetting...\n",
      "274/274 [==============================] - 9s 34ms/step - loss: 0.4838 - val_loss: 0.2291\n",
      "Epoch 9/50\n",
      "261/274 [===========================>..] - ETA: 0s - loss: 0.4607Generator reached end of epoch. Resetting...\n",
      "273/274 [============================>.] - ETA: 0s - loss: 0.4609Generator reached end of epoch. Resetting...\n",
      "274/274 [==============================] - 10s 35ms/step - loss: 0.4593 - val_loss: 0.2252\n",
      "Epoch 10/50\n",
      "261/274 [===========================>..] - ETA: 0s - loss: 0.4598Generator reached end of epoch. Resetting...\n",
      "273/274 [============================>.] - ETA: 0s - loss: 0.4614Generator reached end of epoch. Resetting...\n",
      "274/274 [==============================] - 10s 35ms/step - loss: 0.4598 - val_loss: 0.2303\n",
      "Epoch 11/50\n",
      "261/274 [===========================>..] - ETA: 0s - loss: 0.4511Generator reached end of epoch. Resetting...\n",
      "273/274 [============================>.] - ETA: 0s - loss: 0.4537Generator reached end of epoch. Resetting...\n",
      "274/274 [==============================] - 10s 35ms/step - loss: 0.4522 - val_loss: 0.2618\n",
      "Epoch 12/50\n",
      "261/274 [===========================>..] - ETA: 0s - loss: 0.4426Generator reached end of epoch. Resetting...\n",
      "273/274 [============================>.] - ETA: 0s - loss: 0.4435Generator reached end of epoch. Resetting...\n",
      "274/274 [==============================] - 10s 35ms/step - loss: 0.4419 - val_loss: 0.2110\n",
      "Epoch 13/50\n",
      "261/274 [===========================>..] - ETA: 0s - loss: 0.4344Generator reached end of epoch. Resetting...\n",
      "273/274 [============================>.] - ETA: 0s - loss: 0.4371Generator reached end of epoch. Resetting...\n",
      "274/274 [==============================] - 10s 36ms/step - loss: 0.4357 - val_loss: 0.2239\n",
      "Epoch 14/50\n",
      "261/274 [===========================>..] - ETA: 0s - loss: 0.4303Generator reached end of epoch. Resetting...\n",
      "273/274 [============================>.] - ETA: 0s - loss: 0.4314Generator reached end of epoch. Resetting...\n",
      "274/274 [==============================] - 10s 36ms/step - loss: 0.4300 - val_loss: 0.2268\n",
      "Epoch 15/50\n",
      "261/274 [===========================>..] - ETA: 0s - loss: 0.4202Generator reached end of epoch. Resetting...\n",
      "273/274 [============================>.] - ETA: 0s - loss: 0.4223Generator reached end of epoch. Resetting...\n",
      "274/274 [==============================] - 10s 36ms/step - loss: 0.4209 - val_loss: 0.2135\n",
      "Epoch 16/50\n",
      "261/274 [===========================>..] - ETA: 0s - loss: 0.4155Generator reached end of epoch. Resetting...\n",
      "273/274 [============================>.] - ETA: 0s - loss: 0.4190Generator reached end of epoch. Resetting...\n",
      "274/274 [==============================] - 10s 36ms/step - loss: 0.4176 - val_loss: 0.2030\n",
      "Epoch 17/50\n",
      "261/274 [===========================>..] - ETA: 0s - loss: 0.4045Generator reached end of epoch. Resetting...\n",
      "273/274 [============================>.] - ETA: 0s - loss: 0.4065Generator reached end of epoch. Resetting...\n",
      "274/274 [==============================] - 10s 36ms/step - loss: 0.4052 - val_loss: 0.2053\n",
      "Epoch 18/50\n",
      "261/274 [===========================>..] - ETA: 0s - loss: 0.3906Generator reached end of epoch. Resetting...\n",
      "273/274 [============================>.] - ETA: 0s - loss: 0.3921Generator reached end of epoch. Resetting...\n",
      "274/274 [==============================] - 10s 36ms/step - loss: 0.3908 - val_loss: 0.2041\n",
      "Epoch 19/50\n",
      "261/274 [===========================>..] - ETA: 0s - loss: 0.3976Generator reached end of epoch. Resetting...\n",
      "273/274 [============================>.] - ETA: 0s - loss: 0.3981Generator reached end of epoch. Resetting...\n",
      "274/274 [==============================] - 10s 36ms/step - loss: 0.3968 - val_loss: 0.1877\n",
      "Epoch 20/50\n",
      "261/274 [===========================>..] - ETA: 0s - loss: 0.3969Generator reached end of epoch. Resetting...\n",
      "273/274 [============================>.] - ETA: 0s - loss: 0.3979Generator reached end of epoch. Resetting...\n",
      "274/274 [==============================] - 10s 36ms/step - loss: 0.3965 - val_loss: 0.1913\n",
      "Epoch 21/50\n",
      "261/274 [===========================>..] - ETA: 0s - loss: 0.3845Generator reached end of epoch. Resetting...\n",
      "273/274 [============================>.] - ETA: 0s - loss: 0.3856Generator reached end of epoch. Resetting...\n",
      "274/274 [==============================] - 10s 36ms/step - loss: 0.3843 - val_loss: 0.1894\n",
      "Epoch 22/50\n",
      "261/274 [===========================>..] - ETA: 0s - loss: 0.3788Generator reached end of epoch. Resetting...\n",
      "273/274 [============================>.] - ETA: 0s - loss: 0.3806Generator reached end of epoch. Resetting...\n",
      "274/274 [==============================] - 10s 36ms/step - loss: 0.3793 - val_loss: 0.2047\n",
      "Epoch 23/50\n",
      "261/274 [===========================>..] - ETA: 0s - loss: 0.3756Generator reached end of epoch. Resetting...\n",
      "273/274 [============================>.] - ETA: 0s - loss: 0.3758Generator reached end of epoch. Resetting...\n",
      "274/274 [==============================] - 10s 36ms/step - loss: 0.3746 - val_loss: 0.1892\n",
      "Epoch 24/50\n",
      "261/274 [===========================>..] - ETA: 0s - loss: 0.3805Generator reached end of epoch. Resetting...\n",
      "273/274 [============================>.] - ETA: 0s - loss: 0.3819Generator reached end of epoch. Resetting...\n",
      "274/274 [==============================] - 10s 36ms/step - loss: 0.3806 - val_loss: 0.1973\n",
      "Epoch 25/50\n",
      "261/274 [===========================>..] - ETA: 0s - loss: 0.3755Generator reached end of epoch. Resetting...\n",
      "273/274 [============================>.] - ETA: 0s - loss: 0.3798Generator reached end of epoch. Resetting...\n",
      "274/274 [==============================] - 10s 36ms/step - loss: 0.3785 - val_loss: 0.2137\n",
      "Epoch 26/50\n",
      "261/274 [===========================>..] - ETA: 0s - loss: 0.3578Generator reached end of epoch. Resetting...\n",
      "273/274 [============================>.] - ETA: 0s - loss: 0.3615Generator reached end of epoch. Resetting...\n",
      "274/274 [==============================] - 10s 36ms/step - loss: 0.3602 - val_loss: 0.1955\n",
      "Epoch 27/50\n",
      "261/274 [===========================>..] - ETA: 0s - loss: 0.3662Generator reached end of epoch. Resetting...\n",
      "273/274 [============================>.] - ETA: 0s - loss: 0.3673Generator reached end of epoch. Resetting...\n",
      "274/274 [==============================] - 10s 36ms/step - loss: 0.3661 - val_loss: 0.1944\n",
      "Epoch 28/50\n",
      "261/274 [===========================>..] - ETA: 0s - loss: 0.3566Generator reached end of epoch. Resetting...\n",
      "273/274 [============================>.] - ETA: 0s - loss: 0.3590Generator reached end of epoch. Resetting...\n",
      "274/274 [==============================] - 9s 35ms/step - loss: 0.3578 - val_loss: 0.1992\n",
      "Epoch 29/50\n",
      "261/274 [===========================>..] - ETA: 0s - loss: 0.3537Generator reached end of epoch. Resetting...\n",
      "273/274 [============================>.] - ETA: 0s - loss: 0.3566Generator reached end of epoch. Resetting...\n",
      "274/274 [==============================] - 10s 36ms/step - loss: 0.3553 - val_loss: 0.2062\n",
      "Epoch 30/50\n",
      "261/274 [===========================>..] - ETA: 0s - loss: 0.3455Generator reached end of epoch. Resetting...\n",
      "273/274 [============================>.] - ETA: 0s - loss: 0.3463Generator reached end of epoch. Resetting...\n",
      "274/274 [==============================] - 10s 36ms/step - loss: 0.3451 - val_loss: 0.1924\n",
      "Epoch 31/50\n",
      "261/274 [===========================>..] - ETA: 0s - loss: 0.3438Generator reached end of epoch. Resetting...\n",
      "273/274 [============================>.] - ETA: 0s - loss: 0.3451Generator reached end of epoch. Resetting...\n",
      "274/274 [==============================] - 10s 35ms/step - loss: 0.3439 - val_loss: 0.1890\n",
      "Epoch 32/50\n",
      "261/274 [===========================>..] - ETA: 0s - loss: 0.3529Generator reached end of epoch. Resetting...\n",
      "273/274 [============================>.] - ETA: 0s - loss: 0.3525Generator reached end of epoch. Resetting...\n",
      "274/274 [==============================] - 10s 36ms/step - loss: 0.3513 - val_loss: 0.1841\n",
      "Epoch 33/50\n",
      "261/274 [===========================>..] - ETA: 0s - loss: 0.3376Generator reached end of epoch. Resetting...\n",
      "273/274 [============================>.] - ETA: 0s - loss: 0.3385Generator reached end of epoch. Resetting...\n",
      "274/274 [==============================] - 10s 35ms/step - loss: 0.3374 - val_loss: 0.1850\n",
      "Epoch 34/50\n",
      "261/274 [===========================>..] - ETA: 0s - loss: 0.3345Generator reached end of epoch. Resetting...\n",
      "273/274 [============================>.] - ETA: 0s - loss: 0.3364Generator reached end of epoch. Resetting...\n",
      "274/274 [==============================] - 10s 36ms/step - loss: 0.3352 - val_loss: 0.1681\n",
      "Epoch 35/50\n",
      "261/274 [===========================>..] - ETA: 0s - loss: 0.3281Generator reached end of epoch. Resetting...\n",
      "273/274 [============================>.] - ETA: 0s - loss: 0.3304Generator reached end of epoch. Resetting...\n",
      "274/274 [==============================] - 10s 36ms/step - loss: 0.3293 - val_loss: 0.1785\n",
      "Epoch 36/50\n",
      "261/274 [===========================>..] - ETA: 0s - loss: 0.3346Generator reached end of epoch. Resetting...\n",
      "273/274 [============================>.] - ETA: 0s - loss: 0.3389Generator reached end of epoch. Resetting...\n",
      "274/274 [==============================] - 10s 36ms/step - loss: 0.3377 - val_loss: 0.2194\n",
      "Epoch 37/50\n",
      "261/274 [===========================>..] - ETA: 0s - loss: 0.3297Generator reached end of epoch. Resetting...\n",
      "273/274 [============================>.] - ETA: 0s - loss: 0.3302Generator reached end of epoch. Resetting...\n",
      "274/274 [==============================] - 10s 36ms/step - loss: 0.3291 - val_loss: 0.1904\n",
      "Epoch 38/50\n",
      "261/274 [===========================>..] - ETA: 0s - loss: 0.3291Generator reached end of epoch. Resetting...\n",
      "273/274 [============================>.] - ETA: 0s - loss: 0.3305Generator reached end of epoch. Resetting...\n",
      "274/274 [==============================] - 10s 36ms/step - loss: 0.3294 - val_loss: 0.1822\n",
      "Epoch 39/50\n",
      "261/274 [===========================>..] - ETA: 0s - loss: 0.3185Generator reached end of epoch. Resetting...\n",
      "273/274 [============================>.] - ETA: 0s - loss: 0.3203Generator reached end of epoch. Resetting...\n",
      "274/274 [==============================] - 10s 35ms/step - loss: 0.3192 - val_loss: 0.1874\n",
      "Epoch 40/50\n",
      "261/274 [===========================>..] - ETA: 0s - loss: 0.3210Generator reached end of epoch. Resetting...\n",
      "273/274 [============================>.] - ETA: 0s - loss: 0.3231Generator reached end of epoch. Resetting...\n",
      "274/274 [==============================] - 10s 36ms/step - loss: 0.3221 - val_loss: 0.1866\n",
      "Epoch 41/50\n",
      "261/274 [===========================>..] - ETA: 0s - loss: 0.3224Generator reached end of epoch. Resetting...\n",
      "273/274 [============================>.] - ETA: 0s - loss: 0.3232Generator reached end of epoch. Resetting...\n",
      "274/274 [==============================] - 10s 36ms/step - loss: 0.3222 - val_loss: 0.1848\n",
      "Epoch 42/50\n",
      "261/274 [===========================>..] - ETA: 0s - loss: 0.3127Generator reached end of epoch. Resetting...\n",
      "273/274 [============================>.] - ETA: 0s - loss: 0.3145Generator reached end of epoch. Resetting...\n",
      "274/274 [==============================] - 10s 36ms/step - loss: 0.3134 - val_loss: 0.2013\n",
      "Epoch 43/50\n",
      "261/274 [===========================>..] - ETA: 0s - loss: 0.3105Generator reached end of epoch. Resetting...\n",
      "273/274 [============================>.] - ETA: 0s - loss: 0.3115Generator reached end of epoch. Resetting...\n",
      "274/274 [==============================] - 10s 36ms/step - loss: 0.3104 - val_loss: 0.1758\n",
      "Epoch 44/50\n",
      "261/274 [===========================>..] - ETA: 0s - loss: 0.3136Generator reached end of epoch. Resetting...\n",
      "273/274 [============================>.] - ETA: 0s - loss: 0.3151Generator reached end of epoch. Resetting...\n",
      "274/274 [==============================] - 10s 36ms/step - loss: 0.3141 - val_loss: 0.1867\n",
      "Epoch 45/50\n",
      "261/274 [===========================>..] - ETA: 0s - loss: 0.3189Generator reached end of epoch. Resetting...\n",
      "273/274 [============================>.] - ETA: 0s - loss: 0.3190Generator reached end of epoch. Resetting...\n",
      "274/274 [==============================] - 10s 36ms/step - loss: 0.3179 - val_loss: 0.1852\n",
      "Epoch 46/50\n",
      "261/274 [===========================>..] - ETA: 0s - loss: 0.3084Generator reached end of epoch. Resetting...\n",
      "273/274 [============================>.] - ETA: 0s - loss: 0.3115Generator reached end of epoch. Resetting...\n",
      "274/274 [==============================] - 10s 36ms/step - loss: 0.3105 - val_loss: 0.1863\n",
      "Epoch 47/50\n",
      "261/274 [===========================>..] - ETA: 0s - loss: 0.3140Generator reached end of epoch. Resetting...\n",
      "273/274 [============================>.] - ETA: 0s - loss: 0.3157Generator reached end of epoch. Resetting...\n",
      "274/274 [==============================] - 10s 36ms/step - loss: 0.3147 - val_loss: 0.1930\n",
      "Epoch 48/50\n",
      "261/274 [===========================>..] - ETA: 0s - loss: 0.3084Generator reached end of epoch. Resetting...\n",
      "273/274 [============================>.] - ETA: 0s - loss: 0.3101Generator reached end of epoch. Resetting...\n",
      "274/274 [==============================] - 10s 36ms/step - loss: 0.3091 - val_loss: 0.1709\n",
      "Epoch 49/50\n",
      "261/274 [===========================>..] - ETA: 0s - loss: 0.3066Generator reached end of epoch. Resetting...\n",
      "273/274 [============================>.] - ETA: 0s - loss: 0.3085Generator reached end of epoch. Resetting...\n",
      "274/274 [==============================] - 10s 35ms/step - loss: 0.3075 - val_loss: 0.1726\n",
      "Epoch 50/50\n",
      "261/274 [===========================>..] - ETA: 0s - loss: 0.3035Generator reached end of epoch. Resetting...\n",
      "273/274 [============================>.] - ETA: 0s - loss: 0.3065Generator reached end of epoch. Resetting...\n",
      "274/274 [==============================] - 10s 36ms/step - loss: 0.3054 - val_loss: 0.1785\n"
     ]
    },
    {
     "name": "stderr",
     "output_type": "stream",
     "text": [
      "2022-04-25 15:33:17.519999: W tensorflow/python/util/util.cc:368] Sets are not currently considered sequences, but this may change in the future, so consider avoiding using them.\n",
      "WARNING:absl:Found untraced functions such as SpecialActivation_layer_call_fn, SpecialActivation_layer_call_and_return_conditional_losses, SpecialActivation_layer_call_fn, SpecialActivation_layer_call_and_return_conditional_losses while saving (showing 4 of 4). These functions will not be directly callable after loading.\n"
     ]
    },
    {
     "name": "stdout",
     "output_type": "stream",
     "text": [
      "INFO:tensorflow:Assets written to: results/cnn-training-220425/fold_0_a-seq-50eps-lr0.0010-nostandard_model/assets\n"
     ]
    },
    {
     "name": "stderr",
     "output_type": "stream",
     "text": [
      "INFO:tensorflow:Assets written to: results/cnn-training-220425/fold_0_a-seq-50eps-lr0.0010-nostandard_model/assets\n"
     ]
    }
   ],
   "source": [
    "if standard:\n",
    "    with open('results/computed/added_means_by_fold.pickle', 'rb') as file_pi:\n",
    "        means = pickle.load(file_pi)\n",
    "    with open('results/computed/added_std_by_fold.pickle', 'rb') as file_pi:\n",
    "        stds = pickle.load(file_pi)\n",
    "\n",
    "if isinstance(training_mode, int):\n",
    "    fold = training_mode\n",
    "else:\n",
    "    fold = 0\n",
    "\n",
    "while fold < n_splits:\n",
    "    print()\n",
    "    print(\"Fold {}/{} ---------\".format(fold, n_splits))\n",
    "    train_idx = kf_gen[fold][0]\n",
    "    test_idx = kf_gen[fold][1]\n",
    "    print(\"Train indices: \", train_idx)\n",
    "    print(\"Test indices: \", test_idx)\n",
    "\n",
    "    # Data\n",
    "    if nogen:\n",
    "        X_train, X_test = [\n",
    "            np.concatenate([X[i] for i in idx]) \n",
    "            for idx in (train_idx, test_idx)\n",
    "        ]\n",
    "        y_train, y_test = [\n",
    "            np.concatenate([onset_vectors[i] for i in idx]) \n",
    "            for idx in (train_idx, test_idx)\n",
    "        ]\n",
    "\n",
    "    #train_onset_ratio = y_train.sum()/len(y_train)\n",
    "\n",
    "    # Normalize with training set statistics\n",
    "    if standard:\n",
    "        mean = means[fold]\n",
    "        std = stds[fold]\n",
    "    else:\n",
    "        mean, std = None, None\n",
    "\n",
    "    # Model\n",
    "    if not continue_run:\n",
    "        tf.keras.backend.clear_session()\n",
    "    (model, norm_layer)=get_model(finetune=False)\n",
    "    model.compile(optimizer=optimizer,\n",
    "                loss=loss_fn,\n",
    "                metrics=metrics)\n",
    "                \n",
    "    if not sampling:\n",
    "        steps_per_epoch = compute_steps(train_idx, bs)\n",
    "        val_steps_per_epoch = compute_steps(test_idx, bs)\n",
    "\n",
    "    if nogen:\n",
    "        x = X_train\n",
    "        y = y_train\n",
    "        steps_per_epoch = None\n",
    "        validation_data = (X_test, y_test)\n",
    "    else:\n",
    "        x = data_generator(\n",
    "            batch_size=bs, \n",
    "            steps_per_epoch=steps_per_epoch, \n",
    "            epochs=n_epochs,\n",
    "            idx=train_idx,\n",
    "            sampling=sampling,\n",
    "            mode=mode,\n",
    "            standard=standard, mean=mean, std=std,\n",
    "        )\n",
    "        y = None\n",
    "        validation_data = data_generator(\n",
    "            batch_size=bs, \n",
    "            steps_per_epoch=val_steps_per_epoch, \n",
    "            epochs=n_epochs,\n",
    "            idx=test_idx,\n",
    "            sampling=sampling,\n",
    "            mode=mode,\n",
    "            standard=standard, mean=mean, std=std,\n",
    "        )\n",
    "\n",
    "    checkpoint_path = save_path + 'fold_{}_{}'.format(fold,training_name)+\"_cp_{epoch:04d}.ckpt\"\n",
    "    if check_at_epoch is None:\n",
    "        cp_callback=[]\n",
    "    else:\n",
    "        cp_callback = [tf.keras.callbacks.ModelCheckpoint(filepath=checkpoint_path, \n",
    "                                                    save_weights_only=True,\n",
    "                                                    save_freq=int(steps_per_epoch*check_at_epoch))]\n",
    "    # Training\n",
    "    \n",
    "    history = model.fit(\n",
    "        x = x, y = y, \n",
    "        steps_per_epoch = steps_per_epoch,\n",
    "        epochs          = n_epochs,\n",
    "        # Validation data\n",
    "        validation_data = validation_data,\n",
    "        validation_steps  = val_steps_per_epoch,\n",
    "        class_weight = {0: 1., 1: 1/0.035},\n",
    "        callbacks=cp_callback,\n",
    "        verbose=1\n",
    "    )\n",
    "\n",
    "    # Saving\n",
    "    if save:\n",
    "        model.save(save_path + 'fold_{}_{}_model'.format(fold, training_name))\n",
    "        with open(save_path + 'fold_{}_{}_history.pickle'.format(fold, training_name), 'wb') as file_pi:\n",
    "            pickle.dump(history.history, file_pi)\n",
    "    \n",
    "    \n",
    "    if training_mode != \"all\":\n",
    "        break\n",
    "    fold += 1\n",
    "    "
   ]
  },
  {
   "cell_type": "code",
   "execution_count": 14,
   "id": "349ea602",
   "metadata": {},
   "outputs": [
    {
     "data": {
      "text/plain": [
       "[<matplotlib.lines.Line2D at 0x7f49241b6940>]"
      ]
     },
     "execution_count": 14,
     "metadata": {},
     "output_type": "execute_result"
    },
    {
     "data": {
      "image/png": "[encoded data removed]",
      "text/plain": [
       "<Figure size 432x288 with 1 Axes>"
      ]
     },
     "metadata": {
      "needs_background": "light"
     },
     "output_type": "display_data"
    }
   ],
   "source": [
    "plt.plot(history.history['loss'])\n",
    "plt.plot(history.history['val_loss'])"
   ]
  },
  {
   "cell_type": "code",
   "execution_count": 16,
   "id": "9b00a668",
   "metadata": {},
   "outputs": [
    {
     "name": "stderr",
     "output_type": "stream",
     "text": [
      "/home/simonf/.venv/onsets/lib/python3.8/site-packages/madmom/io/audio.py:493: WavFileWarning: Chunk (non-data) not understood, skipping it.\n",
      "  file_sample_rate, signal = wavfile.read(filename, mmap=True)\n"
     ]
    },
    {
     "name": "stdout",
     "output_type": "stream",
     "text": [
      "stormhatten_IR2.wav\tF-score: 83.60\n",
      "slurtest02_IR1.wav\tF-score: 91.73\n",
      "slurtest01_IR2.wav\tF-score: 89.55\n",
      "slurtest03_FK1.wav\tF-score: 90.23\n",
      "6xtpsg_220319.wav\tF-score: 80.65\n",
      "slurtest04_IR2.wav\tF-score: 92.31\n",
      "melodyvib_220319.wav\tF-score: 61.70\n",
      "slurtest09_IR2.wav\tF-score: 87.07\n",
      "janissa_IR2.wav\tF-score: 74.42\n",
      "6xtpsg_220306.wav\tF-score: 76.24\n",
      "slurtest01_FK1.wav\tF-score: 86.36\n"
     ]
    },
    {
     "name": "stderr",
     "output_type": "stream",
     "text": [
      "/home/simonf/.venv/onsets/lib/python3.8/site-packages/madmom/io/audio.py:493: WavFileWarning: Chunk (non-data) not understood, skipping it.\n",
      "  file_sample_rate, signal = wavfile.read(filename, mmap=True)\n"
     ]
    },
    {
     "name": "stdout",
     "output_type": "stream",
     "text": [
      "slurtest04_FK1.wav\tF-score: 92.31\n",
      "slurtest01_IR1.wav\tF-score: 90.62\n",
      "63an_start_220306.wav\tF-score: 83.53\n",
      "slurtest08_FK1.wav\tF-score: 98.95\n"
     ]
    },
    {
     "name": "stderr",
     "output_type": "stream",
     "text": [
      "/home/simonf/.venv/onsets/lib/python3.8/site-packages/madmom/io/audio.py:493: WavFileWarning: Chunk (non-data) not understood, skipping it.\n",
      "  file_sample_rate, signal = wavfile.read(filename, mmap=True)\n"
     ]
    },
    {
     "name": "stdout",
     "output_type": "stream",
     "text": [
      "slurtest03_IR1.wav\tF-score: 86.52\n",
      "stormhatten_IR1.wav\tF-score: 87.87\n",
      "Fold [array([ 0,  1,  2,  3,  4,  5,  6,  7,  8,  9, 10, 11, 12, 13, 14, 15, 16,\n",
      "       17, 18]), array([19, 20, 21, 22, 23, 24, 25, 26, 27, 28, 29, 30, 31, 32, 33, 34, 35])]    average F-score 85.51\n",
      "Total (weighted) F-score:  85.12\n"
     ]
    }
   ],
   "source": [
    "from modules.analysis_funcs import get_segmented_data, get_test_peaks\n",
    "import mir_eval\n",
    "\n",
    "TOL = 0.025\n",
    "\n",
    "CD_list = []\n",
    "FN_list = []\n",
    "FP_list = []\n",
    "\n",
    "fold = kf_gen[0]\n",
    "test_idx = fold[1]\n",
    "fold_average = []\n",
    "for r in test_idx:\n",
    "    rec_name = os.path.basename(audio_fnames[r])\n",
    "    sig = madmom.audio.Signal(audio_fnames[r])\n",
    "    x = get_segmented_data(audio_fnames[r])\n",
    "    out = model.predict(x)\n",
    "    peaks = get_test_peaks(out, 1./FPS)\n",
    "    \n",
    "    [CD,FN,FP,doubles,merged] = evaluate(onset_schedules[r], peaks, tol_sec=TOL)\n",
    "    CD_list.append(CD)\n",
    "    FN_list.append(FN)\n",
    "    FP_list.append(FP)\n",
    "    scores = mir_eval.onset.evaluate(onset_schedules[r], peaks, window=TOL)\n",
    "    print(rec_name + \"\\t\" + \"F-score: {:.2f}\".format(100*scores[\"F-measure\"]))\n",
    "    fold_average.append(scores[\"F-measure\"])\n",
    "print(\"Average F-score {:.2f}\".format(fold, 100*np.mean(fold_average)))\n",
    "print(\"Total (weighted) F-score: \", \"{:.2f}\".format(100*np.sum(CD_list)/(np.sum(CD_list)+.5*(np.sum(FP_list) + np.sum(FN_list)))))"
   ]
  },
  {
   "cell_type": "code",
   "execution_count": 24,
   "id": "c2d93f3c",
   "metadata": {},
   "outputs": [
    {
     "name": "stdout",
     "output_type": "stream",
     "text": [
      "stormhatten_IR2.wav\n",
      "slurtest02_IR1.wav\n",
      "slurtest01_IR2.wav\n",
      "slurtest03_FK1.wav\n",
      "6xtpsg_220319.wav\n",
      "slurtest04_IR2.wav\n",
      "melodyvib_220319.wav\n",
      "slurtest09_IR2.wav\n",
      "janissa_IR2.wav\n",
      "6xtpsg_220306.wav\n",
      "slurtest01_FK1.wav\n",
      "slurtest04_FK1.wav\n"
     ]
    },
    {
     "name": "stderr",
     "output_type": "stream",
     "text": [
      "/home/simonf/.venv/onsets/lib/python3.8/site-packages/madmom/io/audio.py:493: WavFileWarning: Chunk (non-data) not understood, skipping it.\n",
      "  file_sample_rate, signal = wavfile.read(filename, mmap=True)\n"
     ]
    },
    {
     "name": "stdout",
     "output_type": "stream",
     "text": [
      "slurtest01_IR1.wav\n",
      "63an_start_220306.wav\n",
      "slurtest08_FK1.wav\n",
      "slurtest03_IR1.wav\n"
     ]
    },
    {
     "name": "stderr",
     "output_type": "stream",
     "text": [
      "/home/simonf/.venv/onsets/lib/python3.8/site-packages/madmom/io/audio.py:493: WavFileWarning: Chunk (non-data) not understood, skipping it.\n",
      "  file_sample_rate, signal = wavfile.read(filename, mmap=True)\n"
     ]
    },
    {
     "name": "stdout",
     "output_type": "stream",
     "text": [
      "stormhatten_IR1.wav\n"
     ]
    }
   ],
   "source": [
    "\n",
    "scoress = []\n",
    "for r in test_idx:\n",
    "    scores = []\n",
    "    rec_name = os.path.basename(audio_fnames[r])\n",
    "    print(rec_name)\n",
    "    sig = madmom.audio.Signal(audio_fnames[r])\n",
    "    x = get_segmented_data(audio_fnames[r])\n",
    "    for epoch in epoch_checks:\n",
    "        model.load_weights(checkpoint_path.format(epoch=epoch))\n",
    "        out = model.predict(x)\n",
    "        peaks = get_test_peaks(out, 1./FPS)\n",
    "        s = mir_eval.onset.evaluate(onset_schedules[r], peaks, window=TOL)\n",
    "        scores.append(s[\"F-measure\"])\n",
    "    scoress.append(scores)"
   ]
  },
  {
   "cell_type": "code",
   "execution_count": 37,
   "id": "17540b4f",
   "metadata": {},
   "outputs": [
    {
     "data": {
      "image/png": "[encoded data removed]",
      "text/plain": [
       "<Figure size 432x288 with 1 Axes>"
      ]
     },
     "metadata": {
      "needs_background": "light"
     },
     "output_type": "display_data"
    },
    {
     "data": {
      "text/plain": [
       "<BarContainer object of 10 artists>"
      ]
     },
     "execution_count": 37,
     "metadata": {},
     "output_type": "execute_result"
    },
    {
     "data": {
      "image/png": "[encoded data removed]",
      "text/plain": [
       "<Figure size 432x288 with 1 Axes>"
      ]
     },
     "metadata": {
      "needs_background": "light"
     },
     "output_type": "display_data"
    }
   ],
   "source": [
    "epoch_checks = np.arange(check_at_epoch, n_epochs+check_at_epoch, check_at_epoch)\n",
    "n, bins, _ = plt.hist(np.argmax(np.array(scoress), axis=1))\n",
    "plt.show()\n",
    "plt.bar(epoch_checks, n, width=5.0)"
   ]
  },
  {
   "cell_type": "code",
   "execution_count": 15,
   "id": "8b89eb73",
   "metadata": {},
   "outputs": [],
   "source": [
    "with open(\"results/cnn-training-220409/fold_0_added-sample-gen-nostandard_history.pickle\", 'rb') as file_pi:\n",
    "    h_samp = pickle.load(file_pi)\n",
    "with open(\"results/cnn-training-220409/fold_0_added-seq-gen-nostandard_history.pickle\", 'rb') as file_pi:\n",
    "    h_seq = pickle.load(file_pi)\n"
   ]
  },
  {
   "cell_type": "code",
   "execution_count": 16,
   "id": "7660db53",
   "metadata": {},
   "outputs": [
    {
     "data": {
      "text/plain": [
       "<matplotlib.legend.Legend at 0x7fa11ab888b0>"
      ]
     },
     "execution_count": 16,
     "metadata": {},
     "output_type": "execute_result"
    },
    {
     "data": {
      "image/png": "[encoded data removed]",
      "text/plain": [
       "<Figure size 432x288 with 1 Axes>"
      ]
     },
     "metadata": {
      "needs_background": "light"
     },
     "output_type": "display_data"
    }
   ],
   "source": [
    "from scipy.signal import medfilt\n",
    "samp_val_smooth = medfilt(h_samp[\"val_loss\"], 3)\n",
    "\n",
    "plt.plot(h_samp['loss'], \"-\")\n",
    "#plt.plot(h_samp['val_loss'], \"-\")\n",
    "plt.plot(samp_val_smooth, \"-\")\n",
    "plt.plot(h_seq['loss'], \"-\")\n",
    "plt.plot(h_seq['val_loss'], \"-\")\n",
    "plt.legend([\n",
    "    \"Sampling Training loss\", \n",
    "    \"Sampling Validation loss\",\n",
    "    \"Sequential Training loss\", \n",
    "    \"Sequential Validation loss\",\n",
    "])"
   ]
  },
  {
   "cell_type": "code",
   "execution_count": 21,
   "id": "473bca2b",
   "metadata": {},
   "outputs": [
    {
     "data": {
      "text/plain": [
       "[<matplotlib.lines.Line2D at 0x7fa11a98ce50>]"
      ]
     },
     "execution_count": 21,
     "metadata": {},
     "output_type": "execute_result"
    },
    {
     "data": {
      "image/png": "[encoded data removed]",
      "text/plain": [
       "<Figure size 432x288 with 1 Axes>"
      ]
     },
     "metadata": {
      "needs_background": "light"
     },
     "output_type": "display_data"
    }
   ],
   "source": [
    "fold = \"4\"\n",
    "with open(\"results/cnn-training-220409/fold_\"+fold+\"_added-sample-gen-nostandard_history.pickle\", 'rb') as file_pi:\n",
    "    h = pickle.load(file_pi)\n",
    "plt.plot(h['loss'], \"-\")\n",
    "plt.plot(h['val_loss'], \"-\")"
   ]
  },
  {
   "cell_type": "code",
   "execution_count": 93,
   "id": "c361d908",
   "metadata": {},
   "outputs": [
    {
     "data": {
      "text/plain": [
       "<matplotlib.legend.Legend at 0x15169c370>"
      ]
     },
     "execution_count": 93,
     "metadata": {},
     "output_type": "execute_result"
    },
    {
     "data": {
      "image/png": "[encoded data removed]",
      "text/plain": [
       "<Figure size 432x288 with 1 Axes>"
      ]
     },
     "metadata": {
      "needs_background": "light"
     },
     "output_type": "display_data"
    }
   ],
   "source": [
    "plt.plot(h_all['loss'], \"-\")\n",
    "plt.plot(h_all['val_loss'], \"-\")\n",
    "plt.plot(h_dense['loss'], \".\")\n",
    "plt.plot(h_dense['val_loss'], \".\")\n",
    "plt.legend([\n",
    "    \"Whole model retrained - training loss\", \n",
    "    \"Whole model retrained - validation loss\",\n",
    "    \"Only dense layers trained - training loss\", \n",
    "    \"Only dense layers trained - validation loss\",\n",
    "])"
   ]
  },
  {
   "cell_type": "code",
   "execution_count": 26,
   "id": "1d83928b",
   "metadata": {},
   "outputs": [
    {
     "data": {
      "text/plain": [
       "<matplotlib.legend.Legend at 0x7f20f03a3c40>"
      ]
     },
     "execution_count": 26,
     "metadata": {},
     "output_type": "execute_result"
    },
    {
     "data": {
      "image/png": "[encoded data removed]",
      "text/plain": [
       "<Figure size 1440x288 with 2 Axes>"
      ]
     },
     "metadata": {
      "needs_background": "light"
     },
     "output_type": "display_data"
    }
   ],
   "source": [
    "fig, axs = plt.subplots(1,2,figsize=(20,4))\n",
    "history = h\n",
    "# Prec. training\n",
    "axs[0].plot([tp/(fp+tp) for (tp, fp) in zip(history['tp'], history['fp'])], color='lightblue')\n",
    "# Rec. training\n",
    "axs[0].plot([tp/(fn+tp) for (tp, fn) in zip(history['tp'], history['fn'])], color='lightgreen')\n",
    "# F-measure\n",
    "axs[0].plot([2*tp/(2*tp+fp+fn) for (tp, fp, fn) in zip(history['tp'], history['fp'], history['fn'])], 'k:')\n",
    "axs[0].legend([\"Precision\", \"Recall\", \"F-measure\"])\n",
    "\n",
    "# Prec. training\n",
    "axs[1].plot([tp/(fp+tp) for (tp, fp) in zip(history['val_tp'], history['val_fp'])], color='lightblue')\n",
    "# Rec. training\n",
    "axs[1].plot([tp/(fn+tp) for (tp, fn) in zip(history['val_tp'], history['val_fn'])], color='lightgreen')\n",
    "# F-measure\n",
    "axs[1].plot([2*tp/(2*tp+fp+fn) for (tp, fp, fn) in zip(history['val_tp'], history['val_fp'], history['val_fn'])], 'k:')\n",
    "axs[1].legend([\"Precision\", \"Recall\", \"F-measure\"])"
   ]
  },
  {
   "cell_type": "code",
   "execution_count": 37,
   "id": "4a2a98df",
   "metadata": {},
   "outputs": [],
   "source": [
    "\n"
   ]
  },
  {
   "cell_type": "markdown",
   "id": "d0c015ec",
   "metadata": {},
   "source": [
    "## Audio analysis and onset extraction"
   ]
  },
  {
   "cell_type": "code",
   "execution_count": 121,
   "id": "3e488ddb",
   "metadata": {},
   "outputs": [
    {
     "name": "stdout",
     "output_type": "stream",
     "text": [
      "Test recordings:  [17]\n",
      "Length of recordings:  ['101.2 s']\n",
      "[10124.843537414967]\n",
      "Length of onset vectors:  [10125]\n",
      "Number of annotated onsets:  [164]  =  164\n"
     ]
    }
   ],
   "source": [
    "F_RATE = HOP/SR \n",
    "train_idx = np.array([ 0,  1,  3,  5,  6,  7, 8,  9, 10, 11, 12, 13, 15, 17, 18])\n",
    "test_idx = np.array([ 2,  4, 14, 16])\n",
    "test_idx = np.array([16])\n",
    "test_audio_paths = ['datasets/initslurtest_vn/initslurtest_vn_wav/slurtest{:02d}.wav'.format(test_index+1) for test_index in test_idx]\n",
    "test_audios = [madmom.audio.signal.load_wave_file(path)[0] for path in test_audio_paths]\n",
    "test_lengths = [len(test_audio)/SR for test_audio in test_audios]\n",
    "test_onsets = [genfromtxt('datasets/initslurtest_vn/initslurtest_vn_annotations/{:02d}.txt'.format(test_index+1), delimiter=',') for test_index in test_idx]\n",
    "test_onset_vectors = [get_label_vector(test_onset, len(test_audio)/SR, HOP, SR) for test_audio, test_onset in zip(test_audios, test_onsets)]\n",
    "print(\"Test recordings: \", test_idx+1)\n",
    "print(\"Length of recordings: \", [\"{:.1f} s\".format(l) for l in test_lengths])\n",
    "print([len(a)/HOP for a in test_audios])\n",
    "print(\"Length of onset vectors: \", [len(v) for v in test_onset_vectors])\n",
    "print(\"Number of annotated onsets: \", \n",
    "    [len(test_onset) for test_onset in test_onsets], \n",
    "    \" = \", np.sum([len(test_onset) for test_onset in test_onsets])\n",
    ")"
   ]
  },
  {
   "cell_type": "code",
   "execution_count": 122,
   "id": "40d836e4",
   "metadata": {},
   "outputs": [],
   "source": [
    "full_audio = np.concatenate(test_audios)\n",
    "cum_lengths = np.concatenate(([0.0], np.cumsum(test_lengths)))[:-1]\n",
    "full_onsets = np.concatenate(\n",
    "    [shift + onset for (shift, onset) in zip(cum_lengths, test_onsets)]\n",
    ")\n",
    "full_onset_vectors = np.concatenate(test_onset_vectors)"
   ]
  },
  {
   "cell_type": "code",
   "execution_count": 127,
   "id": "133cbdc8",
   "metadata": {},
   "outputs": [],
   "source": [
    "index_to_fold = {\n",
    "    0: 2,\n",
    "    1: 2,\n",
    "    2: 1,\n",
    "    3: 0,\n",
    "    4: 1,\n",
    "    5: 4,\n",
    "    6: 0,\n",
    "    7: 2,\n",
    "    8: 3,\n",
    "    9: 3,\n",
    "    10: 0,\n",
    "    11: 4,\n",
    "    12: 4,\n",
    "    13: 2,\n",
    "    14: 1,\n",
    "    15: 0,\n",
    "    16: 1,\n",
    "    17: 3,\n",
    "    18: 3,\n",
    "}"
   ]
  },
  {
   "cell_type": "code",
   "execution_count": 132,
   "id": "eb53d6f9",
   "metadata": {},
   "outputs": [],
   "source": [
    "def get_test_peaks(activations, f_rate, threshold=0.5, kernel_size=5, n_pre=5, n_post=5):\n",
    "    return madmom.features.onsets.peak_picking(\n",
    "                                        activations=activations, \n",
    "                                        threshold=threshold, \n",
    "                                        smooth=kernel_size, \n",
    "                                        pre_avg=n_pre, \n",
    "                                        post_avg=n_post, \n",
    "                                        pre_max=n_pre, \n",
    "                                        post_max=n_post\n",
    "    )[0].astype(np.float32)*f_rate"
   ]
  },
  {
   "cell_type": "code",
   "execution_count": 130,
   "id": "b57be9f2",
   "metadata": {},
   "outputs": [],
   "source": [
    "with open('results/cnn-training-220331/mean_by_fold.pickle', 'rb') as file_pi:\n",
    "    means = pickle.load(file_pi)\n",
    "with open('results/cnn-training-220331/std_by_fold.pickle', 'rb') as file_pi:\n",
    "    stds = pickle.load(file_pi)"
   ]
  },
  {
   "cell_type": "code",
   "execution_count": 160,
   "id": "741d8287",
   "metadata": {},
   "outputs": [
    {
     "name": "stdout",
     "output_type": "stream",
     "text": [
      "Test recording no  1  which is in test set of fold  2\n",
      "Loading data...\n",
      "Loading model...\n",
      "Predicting...\n",
      "Evaluating...\n",
      "Precision: 78.2 %\n",
      "Recall: 98.4 %\n",
      "F-score: 87.1 %\n",
      "Test recording no  2  which is in test set of fold  2\n",
      "Loading data...\n",
      "Loading model...\n",
      "Predicting...\n",
      "Evaluating...\n",
      "Precision: 71.8 %\n",
      "Recall: 100.0 %\n",
      "F-score: 83.6 %\n",
      "Test recording no  3  which is in test set of fold  1\n",
      "Loading data...\n",
      "Loading model...\n",
      "Predicting...\n",
      "Evaluating...\n",
      "Precision: 76.0 %\n",
      "Recall: 93.4 %\n",
      "F-score: 83.8 %\n",
      "Test recording no  4  which is in test set of fold  0\n",
      "Loading data...\n",
      "Loading model...\n"
     ]
    },
    {
     "name": "stderr",
     "output_type": "stream",
     "text": [
      "Exception ignored in: <function WeakKeyDictionary.__init__.<locals>.remove at 0x13d3caa60>\n",
      "Traceback (most recent call last):\n",
      "  File \"/usr/local/Cellar/python@3.9/3.9.10/Frameworks/Python.framework/Versions/3.9/lib/python3.9/weakref.py\", line 370, in remove\n",
      "    def remove(k, selfref=ref(self)):\n",
      "KeyboardInterrupt: \n"
     ]
    },
    {
     "name": "stdout",
     "output_type": "stream",
     "text": [
      "Predicting...\n",
      "Evaluating...\n",
      "Precision: 90.9 %\n",
      "Recall: 93.3 %\n",
      "F-score: 92.1 %\n",
      "Test recording no  5  which is in test set of fold  1\n",
      "Loading data...\n",
      "Loading model...\n",
      "Predicting...\n",
      "Evaluating...\n",
      "Precision: 68.8 %\n",
      "Recall: 94.1 %\n",
      "F-score: 79.5 %\n",
      "Test recording no  6  which is in test set of fold  4\n",
      "Loading data...\n",
      "Loading model...\n",
      "Predicting...\n",
      "Evaluating...\n",
      "Precision: 93.6 %\n",
      "Recall: 95.4 %\n",
      "F-score: 94.5 %\n",
      "Test recording no  7  which is in test set of fold  0\n",
      "Loading data...\n",
      "Loading model...\n",
      "Predicting...\n",
      "Evaluating...\n",
      "Precision: 92.5 %\n",
      "Recall: 84.7 %\n",
      "F-score: 88.4 %\n",
      "Test recording no  8  which is in test set of fold  2\n",
      "Loading data...\n",
      "Loading model...\n",
      "Predicting...\n",
      "Evaluating...\n",
      "Precision: 79.8 %\n",
      "Recall: 96.7 %\n",
      "F-score: 87.4 %\n",
      "Test recording no  9  which is in test set of fold  3\n",
      "Loading data...\n",
      "Loading model...\n",
      "Predicting...\n",
      "Evaluating...\n",
      "Precision: 75.0 %\n",
      "Recall: 92.6 %\n",
      "F-score: 82.9 %\n",
      "Test recording no  10  which is in test set of fold  3\n",
      "Loading data...\n",
      "Loading model...\n",
      "Predicting...\n",
      "Evaluating...\n",
      "Precision: 50.0 %\n",
      "Recall: 50.0 %\n",
      "F-score: 50.0 %\n",
      "Test recording no  11  which is in test set of fold  0\n",
      "Loading data...\n",
      "Loading model...\n",
      "Predicting...\n",
      "Evaluating...\n",
      "Precision: 60.4 %\n",
      "Recall: 63.0 %\n",
      "F-score: 61.7 %\n",
      "Test recording no  12  which is in test set of fold  4\n",
      "Loading data...\n",
      "Loading model...\n",
      "Predicting...\n",
      "Evaluating...\n",
      "Precision: 49.2 %\n",
      "Recall: 93.8 %\n",
      "F-score: 64.5 %\n",
      "Test recording no  13  which is in test set of fold  4\n",
      "Loading data...\n",
      "Loading model...\n",
      "Predicting...\n",
      "Evaluating...\n",
      "Precision: 65.6 %\n",
      "Recall: 95.5 %\n",
      "F-score: 77.8 %\n",
      "Test recording no  14  which is in test set of fold  2\n",
      "Loading data...\n",
      "Loading model...\n",
      "Predicting...\n",
      "Evaluating...\n",
      "Precision: 69.8 %\n",
      "Recall: 83.0 %\n",
      "F-score: 75.9 %\n",
      "Test recording no  15  which is in test set of fold  1\n",
      "Loading data...\n",
      "Loading model...\n",
      "Predicting...\n",
      "Evaluating...\n",
      "Precision: 72.7 %\n",
      "Recall: 91.2 %\n",
      "F-score: 80.9 %\n",
      "Test recording no  16  which is in test set of fold  0\n",
      "Loading data...\n",
      "Loading model...\n",
      "Predicting...\n",
      "Evaluating...\n",
      "Precision: 69.2 %\n",
      "Recall: 87.1 %\n",
      "F-score: 77.1 %\n",
      "Test recording no  17  which is in test set of fold  1\n",
      "Loading data...\n",
      "Loading model...\n",
      "Predicting...\n",
      "Evaluating...\n",
      "Precision: 54.5 %\n",
      "Recall: 73.8 %\n",
      "F-score: 62.7 %\n",
      "Test recording no  18  which is in test set of fold  3\n",
      "Loading data...\n",
      "Loading model...\n",
      "Predicting...\n",
      "Evaluating...\n",
      "Precision: 42.1 %\n",
      "Recall: 50.0 %\n",
      "F-score: 45.7 %\n",
      "Test recording no  19  which is in test set of fold  3\n",
      "Loading data...\n",
      "Loading model...\n",
      "Predicting...\n",
      "Evaluating...\n",
      "Precision: 85.4 %\n",
      "Recall: 89.2 %\n",
      "F-score: 87.2 %\n"
     ]
    }
   ],
   "source": [
    "from analyze_detection import evaluate\n",
    "\n",
    "TOL = 0.03\n",
    "\n",
    "for test_index in np.arange(0,19):\n",
    "    fold = index_to_fold[test_index]\n",
    "    print(\"Test recording no \", test_index + 1, \" which is in test set of fold \", fold)\n",
    "    print(\"Loading data...\")\n",
    "    X_test = X[test_index]\n",
    "    training_name = \"finetune-dense-dropout\"\n",
    "    print(\"Loading model...\")\n",
    "\n",
    "    #Fold-independent\n",
    "    model = tf.keras.models.load_model('results/cnn-training-220330/finetune-all-plus-dropout_model')\n",
    "    model = tf.keras.models.load_model('results/cnn-training-220331/{}_fold_{}_model'.format(fold, training_name))\n",
    "    print(\"Predicting...\")\n",
    "    test_model_out = model.predict((X_test-means[fold])/stds[fold])\n",
    "    peaks = get_test_peaks(test_model_out, HOP/SR)\n",
    "    print(\"Evaluating...\")\n",
    "    [CD,FN,FP,doubles,merged] = evaluate(onset_schedules[test_index], peaks, tol_sec=TOL)\n",
    "    print(\"Precision: {:.1f} %\".format( 100*CD/(CD+FP)))\n",
    "    print(\"Recall: {:.1f} %\".format( 100*CD/(CD+FN)))\n",
    "    print(\"F-score: {:.1f} %\".format( 200*CD/(2*CD+FP+FN)))\n",
    "    #print(\"{}\\t{}\\t{}\".format(CD,FN,FP))\n",
    "\n",
    "    "
   ]
  },
  {
   "cell_type": "code",
   "execution_count": 128,
   "id": "6a820900",
   "metadata": {},
   "outputs": [],
   "source": [
    "def get_test_peaks(activations, f_rate, threshold=0.5, kernel_size=5, n_pre=5, n_post=5):\n",
    "    return madmom.features.onsets.peak_picking(\n",
    "                                        activations=activations, \n",
    "                                        threshold=threshold, \n",
    "                                        smooth=kernel_size, \n",
    "                                        pre_avg=n_pre, \n",
    "                                        post_avg=n_post, \n",
    "                                        pre_max=n_pre, \n",
    "                                        post_max=n_post\n",
    "    )[0].astype(np.float32)*f_rate\n"
   ]
  },
  {
   "cell_type": "code",
   "execution_count": 67,
   "id": "db506487",
   "metadata": {},
   "outputs": [
    {
     "name": "stdout",
     "output_type": "stream",
     "text": [
      "[10.099999  10.26      10.4       10.5199995 10.679999  10.79\n",
      " 10.94      11.05      11.23      11.79      12.44      12.57\n",
      " 12.71      12.83      12.99      13.11      13.24      13.37\n",
      " 13.54     ]\n"
     ]
    },
    {
     "data": {
      "text/plain": [
       "<matplotlib.collections.PathCollection at 0x14d8142b0>"
      ]
     },
     "execution_count": 67,
     "metadata": {},
     "output_type": "execute_result"
    },
    {
     "data": {
      "image/png": "[encoded data removed]",
      "text/plain": [
       "<Figure size 432x288 with 1 Axes>"
      ]
     },
     "metadata": {
      "needs_background": "light"
     },
     "output_type": "display_data"
    }
   ],
   "source": [
    "start_sec = 10\n",
    "end_sec = 14\n",
    "selected_peaks = test_peaks[np.intersect1d(\n",
    "    np.where(test_peaks>=start_sec)[0],\n",
    "    np.where(test_peaks<end_sec)[0])\n",
    "]\n",
    "selected_onsets = full_onsets[np.intersect1d(\n",
    "    np.where(full_onsets>=start_sec)[0],\n",
    "    np.where(full_onsets<end_sec)[0])\n",
    "]\n",
    "print(selected_peaks)\n",
    "plt.scatter(selected_peaks, np.zeros_like(selected_peaks), marker='x', color='blue')\n",
    "plt.scatter(selected_onsets, np.zeros_like(selected_onsets), marker='x', color='green')"
   ]
  },
  {
   "cell_type": "code",
   "execution_count": 126,
   "id": "10d8b049",
   "metadata": {},
   "outputs": [
    {
     "name": "stdout",
     "output_type": "stream",
     "text": [
      "Precision: 61.0 %\n",
      "Recall: 76.2 %\n",
      "F-score: 67.8 %\n"
     ]
    }
   ],
   "source": [
    "from analyze_detection import evaluate\n",
    "\n",
    "true = full_onsets\n",
    "pred = test_peaks\n",
    "\n",
    "TOL = 0.03\n",
    "[CD,FN,FP,doubles,merged] = evaluate(true, pred, tol_sec=TOL)\n",
    "print(\"Precision: {:.1f} %\".format( 100*CD/(CD+FP)))\n",
    "print(\"Recall: {:.1f} %\".format( 100*CD/(CD+FN)))\n",
    "print(\"F-score: {:.1f} %\".format( 200*CD/(2*CD+FP+FN)))"
   ]
  },
  {
   "cell_type": "code",
   "execution_count": 82,
   "id": "238a057a",
   "metadata": {},
   "outputs": [
    {
     "name": "stdout",
     "output_type": "stream",
     "text": [
      "Cannot plot selected region, choose other start/dur values\n"
     ]
    },
    {
     "data": {
      "text/plain": [
       "<Figure size 1800x360 with 0 Axes>"
      ]
     },
     "metadata": {},
     "output_type": "display_data"
    }
   ],
   "source": [
    "start_sec = 30\n",
    "dur_sec = 5\n",
    "\n",
    "selected_audio = full_audio[start_sec*SR:(start_sec+dur_sec)*SR]\n",
    "selected_onsets = full_onsets[np.intersect1d(\n",
    "        np.where(full_onsets>=start_sec)[0], \n",
    "        np.where(full_onsets<start_sec+dur_sec)[0]\n",
    ")]\n",
    "selected_onehot = full_onset_vectors[int(start_sec/F_RATE):int((start_sec+dur_sec)/F_RATE)]\n",
    "fig = plt.figure(figsize=(25,5))\n",
    "if start_sec + dur_sec < len(full_audio)/SR:\n",
    "    \n",
    "    \n",
    "    plt.plot(\n",
    "        np.linspace(start_sec, start_sec+dur_sec, dur_sec*SR),\n",
    "        selected_audio, \n",
    "        color=\"lightgray\"\n",
    "    )\n",
    "    for i, onset in enumerate(selected_onehot):\n",
    "        if onset==1:\n",
    "            plt.scatter(start_sec + i*F_RATE/dur_sec, 0, color='green')\n",
    "    plt.xlabel(\"Seconds\")\n",
    "    plt.show()\n",
    "\n",
    "else:\n",
    "    print(\"Cannot plot selected region, choose other start/dur values\")"
   ]
  },
  {
   "cell_type": "code",
   "execution_count": 138,
   "id": "245acaf2",
   "metadata": {},
   "outputs": [
    {
     "name": "stdout",
     "output_type": "stream",
     "text": [
      "2\n",
      "2\n",
      "1\n",
      "0\n",
      "1\n",
      "4\n",
      "0\n",
      "2\n",
      "3\n",
      "3\n",
      "0\n",
      "4\n",
      "4\n",
      "2\n",
      "1\n",
      "0\n",
      "1\n",
      "3\n",
      "3\n"
     ]
    }
   ],
   "source": [
    "for f in index_to_fold.values():\n",
    "    print(f)"
   ]
  },
  {
   "cell_type": "code",
   "execution_count": 22,
   "id": "f2f78602",
   "metadata": {},
   "outputs": [
    {
     "name": "stdout",
     "output_type": "stream",
     "text": [
      "Precision: 58.2 %\n",
      "Recall: 61.5 %\n"
     ]
    }
   ],
   "source": []
  },
  {
   "cell_type": "code",
   "execution_count": null,
   "id": "22736e04",
   "metadata": {},
   "outputs": [],
   "source": [
    "#f = open(\"datasets/initslurtest_vn/model-output/bockmodel-220315-slurtest{:02d}.txt\".format(test_index), \"w\")\n",
    "#for i in range(len(peaks)):\n",
    "#    f.write(str(np.round((peaks[i]+7)*440/44100, decimals=2))+ \"\\n\")\n",
    "#f.close()"
   ]
  },
  {
   "cell_type": "code",
   "execution_count": null,
   "id": "82bf4341",
   "metadata": {},
   "outputs": [],
   "source": []
  }
 ],
 "metadata": {
  "interpreter": {
   "hash": "aee8b7b246df8f9039afb4144a1f6fd8d2ca17a180786b69acc140d282b71a49"
  },
  "kernelspec": {
   "display_name": "flow",
   "language": "python",
   "name": "flow"
  },
  "language_info": {
   "codemirror_mode": {
    "name": "ipython",
    "version": 3
   },
   "file_extension": ".py",
   "mimetype": "text/x-python",
   "name": "python",
   "nbconvert_exporter": "python",
   "pygments_lexer": "ipython3",
   "version": "3.8.10"
  }
 },
 "nbformat": 4,
 "nbformat_minor": 5
}
