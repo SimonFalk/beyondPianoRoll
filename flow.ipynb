{
 "cells": [
  {
   "cell_type": "code",
   "execution_count": 1,
   "id": "b0f89d5a",
   "metadata": {},
   "outputs": [],
   "source": [
    "import os\n",
    "import pickle\n",
    "import datetime\n",
    "import warnings\n",
    "\n",
    "import numpy as np\n",
    "from numpy import genfromtxt\n",
    "import matplotlib.pyplot as plt\n",
    "from sklearn.model_selection import KFold, train_test_split\n",
    "\n",
    "import tensorflow as tf\n",
    "import madmom\n",
    "\n",
    "from segment import segment_spectrogram\n",
    "from modules.labels import get_label_vector\n",
    "from modules.madmom_cnn_prep import cnn_preprocessor, cnn_normalize\n",
    "from datasets import Dataset\n",
    "from analyze_detection import evaluate, f_score\n",
    "from models.bock2013pret import get_model\n",
    "\n",
    "%load_ext autoreload\n",
    "%autoreload 2\n",
    "\n",
    "def fxn():\n",
    "    warnings.warn(\"deprecated\", DeprecationWarning)\n",
    "\n",
    "SR = 44100\n",
    "FPS = 100\n",
    "CONTEXT = 7\n",
    "\n"
   ]
  },
  {
   "cell_type": "code",
   "execution_count": 2,
   "id": "29ac37ea",
   "metadata": {},
   "outputs": [
    {
     "name": "stdout",
     "output_type": "stream",
     "text": [
      "Some sample rates are not equal to 44.1kHz!\n",
      "Some sample rates are not equal to 44.1kHz!\n"
     ]
    },
    {
     "name": "stderr",
     "output_type": "stream",
     "text": [
      "/home/simonf/.venv/onsets/lib/python3.8/site-packages/madmom/audio/signal.py:457: UserWarning: Deprecated as of version 0.16. Please use madmom.io.audio.load_wave_file instead. Will be removed in version 0.18.\n",
      "  warnings.warn('Deprecated as of version 0.16. Please use madmom.io.audio.'\n",
      "/home/simonf/.venv/onsets/lib/python3.8/site-packages/madmom/io/audio.py:493: WavFileWarning: Chunk (non-data) not understood, skipping it.\n",
      "  file_sample_rate, signal = wavfile.read(filename, mmap=True)\n"
     ]
    }
   ],
   "source": [
    "ds0 = Dataset(\"initslurtest\")\n",
    "ds1 = Dataset(\"slurtest_add_1\")\n",
    "\n",
    "audio_fnames = ds0.get_audio_paths() + ds1.get_audio_paths()\n",
    "label_fnames = ds0.get_annotation_paths() + ds1.get_annotation_paths()\n",
    "\n",
    "audios = [madmom.audio.signal.load_wave_file(filename)[0] for filename in audio_fnames]\n",
    "sample_rates = [madmom.audio.signal.load_wave_file(filename)[1] for filename in audio_fnames]\n",
    "onset_schedules = [np.loadtxt(label_fname, usecols=0) for label_fname in label_fnames]\n",
    "for ele in sample_rates:\n",
    "    if ele != SR:\n",
    "        print(\"Some sample rates are not equal to 44.1kHz!\")\n"
   ]
  },
  {
   "cell_type": "code",
   "execution_count": 3,
   "id": "ba7d99b1",
   "metadata": {},
   "outputs": [],
   "source": [
    "# Load preprocessing funciton\n",
    "preprocessor = cnn_preprocessor()\n",
    "box_processor = madmom.features.onsets.CNNOnsetProcessor()"
   ]
  },
  {
   "cell_type": "code",
   "execution_count": 4,
   "id": "41a06a39",
   "metadata": {},
   "outputs": [
    {
     "name": "stdout",
     "output_type": "stream",
     "text": [
      "Name of rec: slurtest01.wav\n",
      "Len in seconds: 16.96\n",
      "Shape of audio: (748032,)\n",
      "Shape of onset schedule: (62,)\n",
      "Onsets from 0.77s to 15.16s\n",
      "\n",
      "Name of rec: slurtest02.wav\n",
      "Len in seconds: 16.20\n",
      "Shape of audio: (714240,)\n",
      "Shape of onset schedule: (61,)\n",
      "Onsets from 0.60s to 14.53s\n",
      "\n",
      "Name of rec: slurtest03.wav\n",
      "Len in seconds: 16.57\n",
      "Shape of audio: (730624,)\n",
      "Shape of onset schedule: (61,)\n",
      "Onsets from 0.84s to 14.70s\n",
      "\n",
      "Name of rec: slurtest04.wav\n",
      "Len in seconds: 15.96\n",
      "Shape of audio: (703884,)\n",
      "Shape of onset schedule: (75,)\n",
      "Onsets from 0.46s to 14.87s\n",
      "\n",
      "Name of rec: slurtest05.wav\n",
      "Len in seconds: 34.10\n",
      "Shape of audio: (1503744,)\n",
      "Shape of onset schedule: (101,)\n",
      "Onsets from 0.49s to 31.76s\n",
      "\n",
      "Name of rec: slurtest06.wav\n",
      "Len in seconds: 49.62\n",
      "Shape of audio: (2188288,)\n",
      "Shape of onset schedule: (350,)\n",
      "Onsets from 0.59s to 47.13s\n",
      "\n",
      "Name of rec: slurtest07.wav\n",
      "Len in seconds: 49.74\n",
      "Shape of audio: (2193408,)\n",
      "Shape of onset schedule: (352,)\n",
      "Onsets from 0.31s to 47.16s\n",
      "\n",
      "Name of rec: slurtest08.wav\n",
      "Len in seconds: 29.14\n",
      "Shape of audio: (1285120,)\n",
      "Shape of onset schedule: (90,)\n",
      "Onsets from 0.62s to 28.17s\n",
      "\n",
      "Name of rec: slurtest09.wav\n",
      "Len in seconds: 36.22\n",
      "Shape of audio: (1597440,)\n",
      "Shape of onset schedule: (68,)\n",
      "Onsets from 0.53s to 33.82s\n",
      "\n",
      "Name of rec: slurtest10.wav\n",
      "Len in seconds: 40.25\n",
      "Shape of audio: (1775104,)\n",
      "Shape of onset schedule: (52,)\n",
      "Onsets from 0.40s to 39.44s\n",
      "\n",
      "Name of rec: slurtest11.wav\n",
      "Len in seconds: 36.17\n",
      "Shape of audio: (1594880,)\n",
      "Shape of onset schedule: (46,)\n",
      "Onsets from 0.32s to 36.15s\n",
      "\n",
      "Name of rec: slurtest12.wav\n",
      "Len in seconds: 31.95\n",
      "Shape of audio: (1409024,)\n",
      "Shape of onset schedule: (32,)\n",
      "Onsets from 1.12s to 27.33s\n",
      "\n",
      "Name of rec: slurtest13.wav\n",
      "Len in seconds: 28.11\n",
      "Shape of audio: (1239508,)\n",
      "Shape of onset schedule: (44,)\n",
      "Onsets from 0.84s to 25.83s\n",
      "\n",
      "Name of rec: slurtest14.wav\n",
      "Len in seconds: 29.40\n",
      "Shape of audio: (1296384,)\n",
      "Shape of onset schedule: (53,)\n",
      "Onsets from 0.54s to 27.01s\n",
      "\n",
      "Name of rec: slurtest15.wav\n",
      "Len in seconds: 36.28\n",
      "Shape of audio: (1600000,)\n",
      "Shape of onset schedule: (102,)\n",
      "Onsets from 0.61s to 34.97s\n",
      "\n",
      "Name of rec: slurtest16.wav\n",
      "Len in seconds: 41.77\n",
      "Shape of audio: (1841881,)\n",
      "Shape of onset schedule: (116,)\n",
      "Onsets from 0.75s to 40.66s\n",
      "\n",
      "Name of rec: slurtest17.wav\n",
      "Len in seconds: 101.25\n",
      "Shape of audio: (4465056,)\n",
      "Shape of onset schedule: (164,)\n",
      "Onsets from 1.08s to 97.81s\n",
      "\n",
      "Name of rec: slurtest18.wav\n",
      "Len in seconds: 55.86\n",
      "Shape of audio: (2463367,)\n",
      "Shape of onset schedule: (32,)\n",
      "Onsets from 0.55s to 51.79s\n",
      "\n",
      "Name of rec: slurtest19.wav\n",
      "Len in seconds: 56.62\n",
      "Shape of audio: (2497024, 2)\n",
      "Shape of onset schedule: (203,)\n",
      "Onsets from 0.61s to 55.00s\n",
      "\n",
      "Name of rec: stormhatten_IR2.wav\n",
      "Len in seconds: 61.99\n",
      "Shape of audio: (2733731,)\n",
      "Shape of onset schedule: (147,)\n",
      "Onsets from 0.74s to 59.38s\n",
      "\n",
      "Name of rec: slurtest02_IR1.wav\n",
      "Len in seconds: 17.91\n",
      "Shape of audio: (789668,)\n",
      "Shape of onset schedule: (62,)\n",
      "Onsets from 1.53s to 16.41s\n",
      "\n",
      "Name of rec: slurtest01_IR2.wav\n",
      "Len in seconds: 18.50\n",
      "Shape of audio: (815900,)\n",
      "Shape of onset schedule: (62,)\n",
      "Onsets from 1.38s to 16.70s\n",
      "\n",
      "Name of rec: slurtest03_FK1.wav\n",
      "Len in seconds: 19.03\n",
      "Shape of audio: (839387,)\n",
      "Shape of onset schedule: (62,)\n",
      "Onsets from 0.63s to 17.97s\n",
      "\n",
      "Name of rec: 6xtpsg_220319.wav\n",
      "Len in seconds: 55.79\n",
      "Shape of audio: (2460160,)\n",
      "Shape of onset schedule: (84,)\n",
      "Onsets from 0.98s to 53.80s\n",
      "\n",
      "Name of rec: slurtest04_IR2.wav\n",
      "Len in seconds: 18.18\n",
      "Shape of audio: (801944,)\n",
      "Shape of onset schedule: (75,)\n",
      "Onsets from 0.75s to 16.58s\n",
      "\n",
      "Name of rec: melodyvib_220319.wav\n",
      "Len in seconds: 71.59\n",
      "Shape of audio: (3157083,)\n",
      "Shape of onset schedule: (81,)\n",
      "Onsets from 2.77s to 68.95s\n",
      "\n",
      "Name of rec: slurtest09_IR2.wav\n",
      "Len in seconds: 35.65\n",
      "Shape of audio: (1572036,)\n",
      "Shape of onset schedule: (66,)\n",
      "Onsets from 0.93s to 31.14s\n",
      "\n",
      "Name of rec: janissa_IR2.wav\n",
      "Len in seconds: 37.05\n",
      "Shape of audio: (1633868,)\n",
      "Shape of onset schedule: (81,)\n",
      "Onsets from 1.66s to 35.55s\n",
      "\n",
      "Name of rec: 6xtpsg_220306.wav\n",
      "Len in seconds: 57.95\n",
      "Shape of audio: (2781645,)\n",
      "Shape of onset schedule: (86,)\n",
      "Onsets from 3.04s to 55.52s\n",
      "\n",
      "Name of rec: slurtest01_FK1.wav\n",
      "Len in seconds: 18.12\n",
      "Shape of audio: (798949,)\n",
      "Shape of onset schedule: (62,)\n",
      "Onsets from 0.28s to 19.20s\n",
      "\n",
      "Name of rec: slurtest04_FK1.wav\n",
      "Len in seconds: 19.24\n",
      "Shape of audio: (848341,)\n",
      "Shape of onset schedule: (74,)\n",
      "Onsets from 0.69s to 18.86s\n",
      "\n",
      "Name of rec: slurtest01_IR1.wav\n",
      "Len in seconds: 19.22\n",
      "Shape of audio: (847753,)\n",
      "Shape of onset schedule: (62,)\n",
      "Onsets from 0.99s to 19.20s\n",
      "\n",
      "Name of rec: 63an_start_220306.wav\n",
      "Len in seconds: 30.26\n",
      "Shape of audio: (1452688,)\n",
      "Shape of onset schedule: (76,)\n",
      "Onsets from 0.70s to 29.60s\n",
      "\n",
      "Name of rec: slurtest08_FK1.wav\n",
      "Len in seconds: 37.15\n",
      "Shape of audio: (1638336,)\n",
      "Shape of onset schedule: (94,)\n",
      "Onsets from 0.41s to 35.73s\n",
      "\n",
      "Name of rec: slurtest03_IR1.wav\n",
      "Len in seconds: 19.16\n",
      "Shape of audio: (845040,)\n",
      "Shape of onset schedule: (64,)\n",
      "Onsets from 0.60s to 18.39s\n",
      "\n",
      "Name of rec: stormhatten_IR1.wav\n",
      "Len in seconds: 63.90\n",
      "Shape of audio: (2818048,)\n",
      "Shape of onset schedule: (142,)\n",
      "Onsets from 1.50s to 60.16s\n",
      "\n"
     ]
    },
    {
     "data": {
      "text/plain": [
       "[None,\n",
       " None,\n",
       " None,\n",
       " None,\n",
       " None,\n",
       " None,\n",
       " None,\n",
       " None,\n",
       " None,\n",
       " None,\n",
       " None,\n",
       " None,\n",
       " None,\n",
       " None,\n",
       " None,\n",
       " None,\n",
       " None,\n",
       " None,\n",
       " None,\n",
       " None,\n",
       " None,\n",
       " None,\n",
       " None,\n",
       " None,\n",
       " None,\n",
       " None,\n",
       " None,\n",
       " None,\n",
       " None,\n",
       " None,\n",
       " None,\n",
       " None,\n",
       " None,\n",
       " None,\n",
       " None,\n",
       " None]"
      ]
     },
     "execution_count": 4,
     "metadata": {},
     "output_type": "execute_result"
    }
   ],
   "source": [
    "[print(\"Name of rec: {}\\n\"\n",
    "       \"Len in seconds: {:.2f}\\n\"\n",
    "       \"Shape of audio: {}\\n\"\n",
    "       \"Shape of onset schedule: {}\\n\"\n",
    "       \"Onsets from {:.2f}s to {:.2f}s\\n\".format(\n",
    "                                        os.path.split(fname)[1], \n",
    "                                        audio.shape[0]/sr,\n",
    "                                        audio.shape,\n",
    "                                        schedule.shape,\n",
    "                                        schedule.min(),\n",
    "                                        schedule.max(),\n",
    "                                        ) \n",
    "    ) for fname, audio, schedule, sr in zip(audio_fnames, audios, onset_schedules, sample_rates)\n",
    "]"
   ]
  },
  {
   "cell_type": "code",
   "execution_count": 5,
   "id": "df3577bc",
   "metadata": {},
   "outputs": [
    {
     "data": {
      "text/plain": [
       "[<matplotlib.lines.Line2D at 0x7fa005ac3d00>]"
      ]
     },
     "execution_count": 5,
     "metadata": {},
     "output_type": "execute_result"
    },
    {
     "data": {
      "image/png": "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",
      "text/plain": [
       "<Figure size 432x288 with 2 Axes>"
      ]
     },
     "metadata": {
      "needs_background": "light"
     },
     "output_type": "display_data"
    }
   ],
   "source": [
    "# Add white noise to recordings\n",
    "# Noise variance is adjusted to a fixed Signal Noise Ratio computed recording-wise\n",
    "# snr_db = 20 means S/N=10\n",
    "# snr_db = 10 means S/N≈3.2\n",
    "SNR_DB = 10\n",
    "snr_v = 10**(SNR_DB/20)\n",
    "\n",
    "def augmentation(audio, t=None, p=None):\n",
    "    if t==None:\n",
    "        return audio\n",
    "    elif t==\"white_noise\":\n",
    "        # p contains snr_db parameter\n",
    "        return audio+np.random.normal(\n",
    "            scale=madmom.audio.signal.root_mean_square(audio)/(10**(p/20)),\n",
    "            size=audio.shape\n",
    "            )\n",
    "\n",
    "noisy_audios = [augmentation(audio, t=\"white_noise\", p=SNR_DB) for audio in audios]\n",
    "fig, axs = plt.subplots(2,1)\n",
    "axs[0].plot(audios[0][:100000])\n",
    "axs[1].plot(noisy_audios[0][:100000])"
   ]
  },
  {
   "cell_type": "code",
   "execution_count": 6,
   "id": "78d4d97e",
   "metadata": {},
   "outputs": [],
   "source": [
    "onset_vectors = [get_label_vector(sched, len(audio)/sr, FPS)\n",
    "    for (sched, audio, sr) in zip(onset_schedules, audios, sample_rates)\n",
    "]"
   ]
  },
  {
   "cell_type": "code",
   "execution_count": 18,
   "id": "9d6656f4",
   "metadata": {},
   "outputs": [
    {
     "name": "stderr",
     "output_type": "stream",
     "text": [
      "/home/simonf/.venv/onsets/lib/python3.8/site-packages/madmom/io/audio.py:493: WavFileWarning: Chunk (non-data) not understood, skipping it.\n",
      "  file_sample_rate, signal = wavfile.read(filename, mmap=True)\n",
      "/home/simonf/.venv/onsets/lib/python3.8/site-packages/madmom/io/audio.py:493: WavFileWarning: Chunk (non-data) not understood, skipping it.\n",
      "  file_sample_rate, signal = wavfile.read(filename, mmap=True)\n",
      "/home/simonf/.venv/onsets/lib/python3.8/site-packages/madmom/io/audio.py:493: WavFileWarning: Chunk (non-data) not understood, skipping it.\n",
      "  file_sample_rate, signal = wavfile.read(filename, mmap=True)\n"
     ]
    },
    {
     "name": "stdout",
     "output_type": "stream",
     "text": [
      "(1711, 80, 3)\n",
      "933531.1591314819\n"
     ]
    }
   ],
   "source": [
    "# Create data and normalize\n",
    "mm_proc_frames = [preprocessor(fname) for fname in audio_fnames]\n",
    "mm_frames_normalized = [cnn_normalize(frame_set) for frame_set in mm_proc_frames]\n",
    "print(mm_frames_normalized[0].shape)\n",
    "X = [[\n",
    "    data[i-CONTEXT:i+CONTEXT+1,:,:] \n",
    "    for i in range(CONTEXT, data.shape[0]-CONTEXT)\n",
    "] for data in mm_frames_normalized]\n",
    "X = [np.transpose(np.stack(data, 0), [0,2,1,3]) for data in X]\n",
    "print(X[0].sum())"
   ]
  },
  {
   "cell_type": "code",
   "execution_count": 22,
   "id": "7144fff3",
   "metadata": {},
   "outputs": [],
   "source": [
    "def data_generator(\n",
    "    batch_size,\n",
    "    steps_per_epoch,\n",
    "    epochs,\n",
    "    idx, \n",
    "    sampling=True,\n",
    "    mode=None,\n",
    "    standard=False,\n",
    "    mean=None,\n",
    "    std=None\n",
    "):\n",
    "    \n",
    "    #for _ in range(steps_per_epoch * epochs):\n",
    "    if not sampling:\n",
    "        ep = 0\n",
    "        file_p = 0\n",
    "        frame_p = 0\n",
    "    \n",
    "    while True:\n",
    "        # Select indices for training or test\n",
    "        if sampling:\n",
    "            file_i = np.random.choice(idx)\n",
    "        else:\n",
    "            file_i = idx[file_p]\n",
    "        \n",
    "        #print(\"Selected file index: \", file_i)\n",
    "        fname = audio_fnames[file_i]\n",
    "        \n",
    "        if mode==\"use_prep_frames\":\n",
    "            frames = mm_frames_normalized[file_i]\n",
    "        elif mode==\"use_raw_frames\":\n",
    "            # No normalization\n",
    "            frames = mm_proc_frames[file_i]    \n",
    "        else:\n",
    "            # Compute frames\n",
    "            with warnings.catch_warnings():\n",
    "                warnings.simplefilter(\"ignore\")\n",
    "                fxn()\n",
    "                frames = cnn_normalize(preprocessor(fname))\n",
    "\n",
    "        if standard:\n",
    "            frames = (frames-mean)/std\n",
    "            \n",
    "        #print(\"Frame size: \", frames.shape[0])\n",
    "\n",
    "        # Retrieve onsets \n",
    "        onsets = onset_vectors[file_i]\n",
    "        #print(\"Computed frames of size \", frames.shape)\n",
    "        #print(\"Onset vectors have len \", len(onsets))\n",
    "\n",
    "        # Sample a set of indices (defined from audio start,\n",
    "        # that is CONTEXT values counted from x array start)\n",
    "        if sampling:\n",
    "            focus_idx = np.random.choice(\n",
    "                np.arange(frames.shape[0]-2*CONTEXT-1), \n",
    "                size=batch_size\n",
    "            )\n",
    "            #print(\"Sampled focus idx between \", 0, \" and \", frames.shape[0]-2*CONTEXT-1)\n",
    "        else:\n",
    "            #print(\"Focus idx from \", frame_p, \" to \", frame_p+batch_size)\n",
    "            focus_idx = np.arange(frame_p, frame_p+batch_size)\n",
    "        \n",
    "\n",
    "        # Segmentation\n",
    "        x = [frames[focus:focus+2*CONTEXT+1,:,:] for focus in focus_idx]\n",
    "        x = np.transpose(np.stack(x, 0), [0,2,1,3])\n",
    "        #print(\"Segmented x has shape \", x.shape)\n",
    "        if x.shape[0] != batch_size:\n",
    "            print(\"Delivering less than batch-size\")\n",
    "\n",
    "        # Labels\n",
    "        y = onsets[focus_idx]\n",
    "        yield (x, y)\n",
    "\n",
    "        if not sampling:\n",
    "            if frame_p + 2*batch_size >= frames.shape[0]-2*CONTEXT-1:\n",
    "                if file_p == len(idx) - 1:\n",
    "                    ep += 1\n",
    "                    print(\"Generator reached end of epoch. Resetting...\")\n",
    "                    file_p = 0\n",
    "                    frame_p = 0\n",
    "                else:\n",
    "                    file_p += 1\n",
    "                    frame_p = 0\n",
    "            else:\n",
    "                frame_p += batch_size\n",
    "            \n",
    "\n"
   ]
  },
  {
   "cell_type": "code",
   "execution_count": 9,
   "id": "bcc4b361",
   "metadata": {},
   "outputs": [],
   "source": [
    "# K-Fold:\n",
    "\n",
    "\n",
    "random_seed = 119\n",
    "n_splits =  5\n",
    "kf = KFold(n_splits=n_splits, shuffle=True, random_state=True)\n",
    "kf_gen = list(kf.split(np.arange(len(audio_fnames))))"
   ]
  },
  {
   "cell_type": "code",
   "execution_count": 32,
   "id": "89002ea2",
   "metadata": {},
   "outputs": [
    {
     "name": "stdout",
     "output_type": "stream",
     "text": [
      "(102247, 80, 3)\n",
      "(80, 1, 3)\n",
      "(107524, 80, 3)\n",
      "(80, 1, 3)\n",
      "(115162, 80, 3)\n",
      "(80, 1, 3)\n",
      "(98082, 80, 3)\n",
      "(80, 1, 3)\n",
      "(108217, 80, 3)\n",
      "(80, 1, 3)\n"
     ]
    }
   ],
   "source": [
    "# Precompute statistics\n",
    "means_per_fold = []\n",
    "std_per_fold = []\n",
    "for train_idx, test_idx in kf_gen:\n",
    "    train_frames = np.concatenate([mm_proc_frames[i] for i in train_idx]) \n",
    "    mean_train = train_frames.mean(0).reshape((80,1,3))\n",
    "    std_train = train_frames.std(0, ddof=1).reshape((80,1,3))\n",
    "    means_per_fold.append(mean_train)\n",
    "    std_per_fold.append(std_train)\n",
    "\n",
    "with open('results/computed/added_means_by_fold.pickle', 'wb') as file_pi:\n",
    "    pickle.dump(means_per_fold, file_pi)\n",
    "with open('results/computed/added_std_by_fold.pickle', 'wb') as file_pi:\n",
    "    pickle.dump(std_per_fold, file_pi)\n",
    "\n"
   ]
  },
  {
   "cell_type": "code",
   "execution_count": 10,
   "id": "55b91d22",
   "metadata": {},
   "outputs": [],
   "source": [
    "def compute_steps(idx, bs):\n",
    "    song_sizes = np.array([len(f) for f in mm_frames_normalized])[idx]-2*CONTEXT-1\n",
    "    steps_per_song = np.floor_divide(song_sizes, bs)\n",
    "    return np.sum(steps_per_song)"
   ]
  },
  {
   "cell_type": "code",
   "execution_count": 11,
   "id": "5c1e774c",
   "metadata": {},
   "outputs": [],
   "source": [
    "loss_fn = tf.keras.losses.BinaryCrossentropy(from_logits=False)\n",
    "optimizer = tf.keras.optimizers.Adam()\n",
    "metrics = [\n",
    "    #tf.keras.metrics.TruePositives(name='tp', thresholds=0.5),\n",
    "    #tf.keras.metrics.TrueNegatives(name='tn', thresholds=0.5),\n",
    "    #tf.keras.metrics.FalsePositives(name='fp', thresholds=0.5),\n",
    "    #tf.keras.metrics.FalseNegatives(name='fn', thresholds=0.5),\n",
    "]"
   ]
  },
  {
   "cell_type": "code",
   "execution_count": 33,
   "id": "0be42001",
   "metadata": {},
   "outputs": [],
   "source": [
    "continue_run = False\n",
<<<<<<< HEAD
    "training_mode = 0 # REMEMBER TO CHANGE\n",
    "\n",
    "save = True # REMEMBER TO CHANGE\n",
    "training_name = \"added-sample-gen-standard\" # REMEMBER TO CHANGE\n",
    "date_today = \"220420\" # TODO - automatically\n",
    "n_epochs = 50 # REMEMBER TO CHANGE\n",
=======
    "training_mode = \"all\" # REMEMBER TO CHANGE\n",
    "standard = False\n",
    "save = True # REMEMBER TO CHANGE\n",
    "training_name = \"added-seq-gen-nostandard\" # REMEMBER TO CHANGE\n",
    "date_today = \"220420\" # TODO - automatically\n",
    "n_epochs = 1 # REMEMBER TO CHANGE\n",
>>>>>>> 3df88b39fa7b7d02bc21aec8c2c503c891aa2169
    "bs = 256\n",
    "steps_per_epoch = int(np.sum(np.array([len(f) for f in mm_frames_normalized])[kf_gen[0][0]]-2*CONTEXT-1)/bs)\n",
    "val_steps_per_epoch = 30\n",
    "nogen = False\n",
    "sampling = False\n",
    "\n",
    "standard = False # keep in mind on which data format statistics are computed \n",
    "mode = 'use_prep_frames' # Preparing by BN layer/\"CNN normalization\"\n",
    "#mode = 'use_raw_frames' # No preparing"
   ]
  },
  {
   "cell_type": "code",
   "execution_count": 34,
   "id": "83087052",
   "metadata": {},
   "outputs": [
    {
     "name": "stdout",
     "output_type": "stream",
     "text": [
      "\n",
      "Fold 0/5 ---------\n",
      "Train indices:  [ 0  1  2  4  5  6  7  8  9 10 11 12 13 14 15 16 18 20 22 24 25 26 27 29\n",
      " 31 32 33 35]\n",
      "Test indices:  [ 3 17 19 21 23 28 30 34]\n",
      "Epoch 1/50\n"
     ]
    },
    {
     "name": "stderr",
     "output_type": "stream",
     "text": [
      "2022-04-20 13:01:16.758363: I tensorflow/stream_executor/cuda/cuda_dnn.cc:368] Loaded cuDNN version 8204\n",
      "2022-04-20 13:01:16.984602: I tensorflow/core/platform/default/subprocess.cc:304] Start cannot spawn child process: No such file or directory\n"
     ]
    },
    {
     "name": "stdout",
     "output_type": "stream",
     "text": [
      "383/384 [============================>.] - ETA: 0s - loss: 0.0870Generator reached end of epoch. Resetting...\n",
      "Generator reached end of epoch. Resetting...\n",
      "384/384 [==============================] - 12s 28ms/step - loss: 0.0868 - val_loss: 0.0597\n",
      "Epoch 2/50\n",
      "383/384 [============================>.] - ETA: 0s - loss: 0.0796Generator reached end of epoch. Resetting...\n",
      "Generator reached end of epoch. Resetting...\n",
      "384/384 [==============================] - 11s 28ms/step - loss: 0.0795 - val_loss: 0.0583\n",
      "Epoch 3/50\n",
      "383/384 [============================>.] - ETA: 0s - loss: 0.0762Generator reached end of epoch. Resetting...\n",
      "Generator reached end of epoch. Resetting...\n",
      "384/384 [==============================] - 11s 28ms/step - loss: 0.0760 - val_loss: 0.0580\n",
      "Epoch 4/50\n",
      "383/384 [============================>.] - ETA: 0s - loss: 0.0751Generator reached end of epoch. Resetting...\n",
      "Generator reached end of epoch. Resetting...\n",
      "384/384 [==============================] - 11s 28ms/step - loss: 0.0749 - val_loss: 0.0574\n",
      "Epoch 5/50\n",
      "383/384 [============================>.] - ETA: 0s - loss: 0.0741Generator reached end of epoch. Resetting...\n",
      "Generator reached end of epoch. Resetting...\n",
      "384/384 [==============================] - 11s 28ms/step - loss: 0.0740 - val_loss: 0.0573\n",
      "Epoch 6/50\n",
      "383/384 [============================>.] - ETA: 0s - loss: 0.0727Generator reached end of epoch. Resetting...\n",
      "Generator reached end of epoch. Resetting...\n",
      "384/384 [==============================] - 11s 28ms/step - loss: 0.0726 - val_loss: 0.0574\n",
      "Epoch 7/50\n",
      "383/384 [============================>.] - ETA: 0s - loss: 0.0718Generator reached end of epoch. Resetting...\n",
      "Generator reached end of epoch. Resetting...\n",
      "384/384 [==============================] - 11s 28ms/step - loss: 0.0717 - val_loss: 0.0576\n",
      "Epoch 8/50\n",
      "383/384 [============================>.] - ETA: 0s - loss: 0.0710Generator reached end of epoch. Resetting...\n",
      "Generator reached end of epoch. Resetting...\n",
      "384/384 [==============================] - 11s 28ms/step - loss: 0.0709 - val_loss: 0.0562\n",
      "Epoch 9/50\n",
      "383/384 [============================>.] - ETA: 0s - loss: 0.0704Generator reached end of epoch. Resetting...\n",
      "Generator reached end of epoch. Resetting...\n",
      "384/384 [==============================] - 11s 28ms/step - loss: 0.0703 - val_loss: 0.0567\n",
      "Epoch 10/50\n",
      "383/384 [============================>.] - ETA: 0s - loss: 0.0705Generator reached end of epoch. Resetting...\n",
      "Generator reached end of epoch. Resetting...\n",
      "384/384 [==============================] - 11s 28ms/step - loss: 0.0704 - val_loss: 0.0565\n",
      "Epoch 11/50\n",
      "383/384 [============================>.] - ETA: 0s - loss: 0.0699Generator reached end of epoch. Resetting...\n",
      "Generator reached end of epoch. Resetting...\n",
      "384/384 [==============================] - 11s 28ms/step - loss: 0.0697 - val_loss: 0.0567\n",
      "Epoch 12/50\n",
      "383/384 [============================>.] - ETA: 0s - loss: 0.0687Generator reached end of epoch. Resetting...\n",
      "Generator reached end of epoch. Resetting...\n",
      "384/384 [==============================] - 11s 28ms/step - loss: 0.0685 - val_loss: 0.0566\n",
      "Epoch 13/50\n",
      "383/384 [============================>.] - ETA: 0s - loss: 0.0688Generator reached end of epoch. Resetting...\n",
      "Generator reached end of epoch. Resetting...\n",
      "384/384 [==============================] - 11s 29ms/step - loss: 0.0687 - val_loss: 0.0564\n",
      "Epoch 14/50\n",
      "383/384 [============================>.] - ETA: 0s - loss: 0.0673Generator reached end of epoch. Resetting...\n",
      "Generator reached end of epoch. Resetting...\n",
      "384/384 [==============================] - 11s 29ms/step - loss: 0.0672 - val_loss: 0.0564\n",
      "Epoch 15/50\n",
      "383/384 [============================>.] - ETA: 0s - loss: 0.0678Generator reached end of epoch. Resetting...\n",
      "Generator reached end of epoch. Resetting...\n",
      "384/384 [==============================] - 11s 28ms/step - loss: 0.0676 - val_loss: 0.0564\n",
      "Epoch 16/50\n",
      "383/384 [============================>.] - ETA: 0s - loss: 0.0672Generator reached end of epoch. Resetting...\n",
      "Generator reached end of epoch. Resetting...\n",
      "384/384 [==============================] - 11s 29ms/step - loss: 0.0671 - val_loss: 0.0568\n",
      "Epoch 17/50\n",
      "383/384 [============================>.] - ETA: 0s - loss: 0.0670Generator reached end of epoch. Resetting...\n",
      "Generator reached end of epoch. Resetting...\n",
      "384/384 [==============================] - 11s 29ms/step - loss: 0.0669 - val_loss: 0.0559\n",
      "Epoch 18/50\n",
      "383/384 [============================>.] - ETA: 0s - loss: 0.0664Generator reached end of epoch. Resetting...\n",
      "Generator reached end of epoch. Resetting...\n",
      "384/384 [==============================] - 11s 28ms/step - loss: 0.0663 - val_loss: 0.0561\n",
      "Epoch 19/50\n",
      "383/384 [============================>.] - ETA: 0s - loss: 0.0660Generator reached end of epoch. Resetting...\n",
      "Generator reached end of epoch. Resetting...\n",
      "384/384 [==============================] - 11s 28ms/step - loss: 0.0659 - val_loss: 0.0560\n",
      "Epoch 20/50\n",
      "383/384 [============================>.] - ETA: 0s - loss: 0.0651Generator reached end of epoch. Resetting...\n",
      "Generator reached end of epoch. Resetting...\n",
      "384/384 [==============================] - 11s 28ms/step - loss: 0.0650 - val_loss: 0.0562\n",
      "Epoch 21/50\n",
      "383/384 [============================>.] - ETA: 0s - loss: 0.0650Generator reached end of epoch. Resetting...\n",
      "Generator reached end of epoch. Resetting...\n",
      "384/384 [==============================] - 11s 29ms/step - loss: 0.0649 - val_loss: 0.0563\n",
      "Epoch 22/50\n",
      "383/384 [============================>.] - ETA: 0s - loss: 0.0639Generator reached end of epoch. Resetting...\n",
      "Generator reached end of epoch. Resetting...\n",
      "384/384 [==============================] - 11s 29ms/step - loss: 0.0638 - val_loss: 0.0572\n",
      "Epoch 23/50\n",
      "383/384 [============================>.] - ETA: 0s - loss: 0.0643Generator reached end of epoch. Resetting...\n",
      "Generator reached end of epoch. Resetting...\n",
      "384/384 [==============================] - 11s 28ms/step - loss: 0.0642 - val_loss: 0.0560\n",
      "Epoch 24/50\n",
      "383/384 [============================>.] - ETA: 0s - loss: 0.0632Generator reached end of epoch. Resetting...\n",
      "Generator reached end of epoch. Resetting...\n",
      "384/384 [==============================] - 11s 28ms/step - loss: 0.0631 - val_loss: 0.0562\n",
      "Epoch 25/50\n",
      "383/384 [============================>.] - ETA: 0s - loss: 0.0627Generator reached end of epoch. Resetting...\n",
      "Generator reached end of epoch. Resetting...\n",
      "384/384 [==============================] - 11s 28ms/step - loss: 0.0626 - val_loss: 0.0570\n",
      "Epoch 26/50\n",
      "383/384 [============================>.] - ETA: 0s - loss: 0.0626Generator reached end of epoch. Resetting...\n",
      "Generator reached end of epoch. Resetting...\n",
      "384/384 [==============================] - 11s 29ms/step - loss: 0.0625 - val_loss: 0.0564\n",
      "Epoch 27/50\n",
      "383/384 [============================>.] - ETA: 0s - loss: 0.0619Generator reached end of epoch. Resetting...\n",
      "Generator reached end of epoch. Resetting...\n",
      "384/384 [==============================] - 11s 29ms/step - loss: 0.0619 - val_loss: 0.0567\n",
      "Epoch 28/50\n",
      "383/384 [============================>.] - ETA: 0s - loss: 0.0623Generator reached end of epoch. Resetting...\n",
      "Generator reached end of epoch. Resetting...\n",
      "384/384 [==============================] - 11s 29ms/step - loss: 0.0622 - val_loss: 0.0567\n",
      "Epoch 29/50\n",
      "383/384 [============================>.] - ETA: 0s - loss: 0.0620Generator reached end of epoch. Resetting...\n",
      "Generator reached end of epoch. Resetting...\n",
      "384/384 [==============================] - 11s 29ms/step - loss: 0.0619 - val_loss: 0.0567\n",
      "Epoch 30/50\n",
      "383/384 [============================>.] - ETA: 0s - loss: 0.0622Generator reached end of epoch. Resetting...\n",
      "Generator reached end of epoch. Resetting...\n",
      "384/384 [==============================] - 11s 29ms/step - loss: 0.0621 - val_loss: 0.0564\n",
      "Epoch 31/50\n",
      "383/384 [============================>.] - ETA: 0s - loss: 0.0607Generator reached end of epoch. Resetting...\n",
      "Generator reached end of epoch. Resetting...\n",
      "384/384 [==============================] - 11s 28ms/step - loss: 0.0606 - val_loss: 0.0564\n",
      "Epoch 32/50\n",
      "383/384 [============================>.] - ETA: 0s - loss: 0.0608Generator reached end of epoch. Resetting...\n",
      "Generator reached end of epoch. Resetting...\n",
      "384/384 [==============================] - 11s 29ms/step - loss: 0.0607 - val_loss: 0.0564\n",
      "Epoch 33/50\n",
      "383/384 [============================>.] - ETA: 0s - loss: 0.0602Generator reached end of epoch. Resetting...\n",
      "Generator reached end of epoch. Resetting...\n",
      "384/384 [==============================] - 11s 29ms/step - loss: 0.0601 - val_loss: 0.0567\n",
      "Epoch 34/50\n",
      "383/384 [============================>.] - ETA: 0s - loss: 0.0604Generator reached end of epoch. Resetting...\n",
      "Generator reached end of epoch. Resetting...\n",
      "384/384 [==============================] - 11s 29ms/step - loss: 0.0603 - val_loss: 0.0567\n",
      "Epoch 35/50\n",
      "383/384 [============================>.] - ETA: 0s - loss: 0.0597Generator reached end of epoch. Resetting...\n",
      "Generator reached end of epoch. Resetting...\n",
      "384/384 [==============================] - 11s 29ms/step - loss: 0.0596 - val_loss: 0.0566\n",
      "Epoch 36/50\n",
      "383/384 [============================>.] - ETA: 0s - loss: 0.0597Generator reached end of epoch. Resetting...\n",
      "Generator reached end of epoch. Resetting...\n",
      "384/384 [==============================] - 11s 29ms/step - loss: 0.0596 - val_loss: 0.0568\n",
      "Epoch 37/50\n",
      "383/384 [============================>.] - ETA: 0s - loss: 0.0585Generator reached end of epoch. Resetting...\n",
      "Generator reached end of epoch. Resetting...\n",
      "384/384 [==============================] - 11s 29ms/step - loss: 0.0585 - val_loss: 0.0566\n",
      "Epoch 38/50\n",
      "383/384 [============================>.] - ETA: 0s - loss: 0.0585Generator reached end of epoch. Resetting...\n",
      "Generator reached end of epoch. Resetting...\n",
      "384/384 [==============================] - 11s 29ms/step - loss: 0.0584 - val_loss: 0.0576\n",
      "Epoch 39/50\n",
      "383/384 [============================>.] - ETA: 0s - loss: 0.0586Generator reached end of epoch. Resetting...\n",
      "Generator reached end of epoch. Resetting...\n",
      "384/384 [==============================] - 11s 29ms/step - loss: 0.0585 - val_loss: 0.0575\n",
      "Epoch 40/50\n",
      "383/384 [============================>.] - ETA: 0s - loss: 0.0578Generator reached end of epoch. Resetting...\n",
      "Generator reached end of epoch. Resetting...\n",
      "384/384 [==============================] - 11s 29ms/step - loss: 0.0577 - val_loss: 0.0578\n",
      "Epoch 41/50\n",
      "383/384 [============================>.] - ETA: 0s - loss: 0.0576Generator reached end of epoch. Resetting...\n",
      "Generator reached end of epoch. Resetting...\n",
      "384/384 [==============================] - 11s 29ms/step - loss: 0.0575 - val_loss: 0.0571\n",
      "Epoch 42/50\n",
      "383/384 [============================>.] - ETA: 0s - loss: 0.0571Generator reached end of epoch. Resetting...\n",
      "Generator reached end of epoch. Resetting...\n",
      "384/384 [==============================] - 11s 29ms/step - loss: 0.0570 - val_loss: 0.0574\n",
      "Epoch 43/50\n",
      "383/384 [============================>.] - ETA: 0s - loss: 0.0577Generator reached end of epoch. Resetting...\n",
      "Generator reached end of epoch. Resetting...\n",
      "384/384 [==============================] - 11s 29ms/step - loss: 0.0576 - val_loss: 0.0569\n",
      "Epoch 44/50\n",
      "383/384 [============================>.] - ETA: 0s - loss: 0.0565Generator reached end of epoch. Resetting...\n",
      "Generator reached end of epoch. Resetting...\n",
      "384/384 [==============================] - 11s 29ms/step - loss: 0.0564 - val_loss: 0.0570\n",
      "Epoch 45/50\n",
      "383/384 [============================>.] - ETA: 0s - loss: 0.0560Generator reached end of epoch. Resetting...\n",
      "Generator reached end of epoch. Resetting...\n",
      "384/384 [==============================] - 11s 29ms/step - loss: 0.0559 - val_loss: 0.0564\n",
      "Epoch 46/50\n",
      "383/384 [============================>.] - ETA: 0s - loss: 0.0568Generator reached end of epoch. Resetting...\n",
      "Generator reached end of epoch. Resetting...\n",
      "384/384 [==============================] - 11s 29ms/step - loss: 0.0567 - val_loss: 0.0579\n",
      "Epoch 47/50\n",
      "383/384 [============================>.] - ETA: 0s - loss: 0.0553Generator reached end of epoch. Resetting...\n",
      "Generator reached end of epoch. Resetting...\n",
      "384/384 [==============================] - 11s 29ms/step - loss: 0.0552 - val_loss: 0.0570\n",
      "Epoch 48/50\n",
      "383/384 [============================>.] - ETA: 0s - loss: 0.0560Generator reached end of epoch. Resetting...\n",
      "Generator reached end of epoch. Resetting...\n",
      "384/384 [==============================] - 11s 29ms/step - loss: 0.0559 - val_loss: 0.0570\n",
      "Epoch 49/50\n",
      "383/384 [============================>.] - ETA: 0s - loss: 0.0563Generator reached end of epoch. Resetting...\n",
      "Generator reached end of epoch. Resetting...\n",
      "384/384 [==============================] - 11s 29ms/step - loss: 0.0563 - val_loss: 0.0578\n",
      "Epoch 50/50\n",
      "383/384 [============================>.] - ETA: 0s - loss: 0.0560Generator reached end of epoch. Resetting...\n",
      "Generator reached end of epoch. Resetting...\n",
      "384/384 [==============================] - 11s 29ms/step - loss: 0.0559 - val_loss: 0.0580\n"
     ]
    },
    {
     "name": "stderr",
     "output_type": "stream",
     "text": [
      "2022-04-20 13:10:24.543883: W tensorflow/python/util/util.cc:368] Sets are not currently considered sequences, but this may change in the future, so consider avoiding using them.\n",
      "WARNING:absl:Found untraced functions such as SpecialActivation_layer_call_fn, SpecialActivation_layer_call_and_return_conditional_losses, SpecialActivation_layer_call_fn, SpecialActivation_layer_call_and_return_conditional_losses while saving (showing 4 of 4). These functions will not be directly callable after loading.\n"
     ]
    },
    {
     "name": "stdout",
     "output_type": "stream",
     "text": [
      "INFO:tensorflow:Assets written to: results/cnn-training-220420/fold_0_added-sample-gen-standard_model/assets\n"
     ]
    },
    {
     "name": "stderr",
     "output_type": "stream",
     "text": [
      "INFO:tensorflow:Assets written to: results/cnn-training-220420/fold_0_added-sample-gen-standard_model/assets\n"
     ]
    }
   ],
   "source": [
    "if standard:\n",
    "    with open('results/computed/added_means_by_fold.pickle', 'rb') as file_pi:\n",
    "        means = pickle.load(file_pi)\n",
    "    with open('results/computed/added_std_by_fold.pickle', 'rb') as file_pi:\n",
    "        stds = pickle.load(file_pi)\n",
    "\n",
    "if isinstance(training_mode, int):\n",
    "    fold = training_mode\n",
    "else:\n",
    "    fold = 0\n",
    "\n",
    "while fold < n_splits:\n",
    "    print()\n",
    "    print(\"Fold {}/{} ---------\".format(fold, n_splits))\n",
    "    train_idx = kf_gen[fold][0]\n",
    "    test_idx = kf_gen[fold][1]\n",
    "    print(\"Train indices: \", train_idx)\n",
    "    print(\"Test indices: \", test_idx)\n",
    "\n",
    "    # Data\n",
    "    if nogen:\n",
    "        X_train, X_test = [\n",
    "            np.concatenate([X[i] for i in idx]) \n",
    "            for idx in (train_idx, test_idx)\n",
    "        ]\n",
    "        y_train, y_test = [\n",
    "            np.concatenate([onset_vectors[i] for i in idx]) \n",
    "            for idx in (train_idx, test_idx)\n",
    "        ]\n",
    "\n",
    "    #train_onset_ratio = y_train.sum()/len(y_train)\n",
    "\n",
    "    # Normalize with training set statistics\n",
    "    if standard:\n",
    "        mean = means[fold]\n",
    "        std = stds[fold]\n",
    "    else:\n",
    "        mean, std = None, None\n",
    "\n",
    "    # Model\n",
    "    if not continue_run:\n",
    "        tf.keras.backend.clear_session()\n",
    "    (model, norm_layer)=get_model(finetune=False)\n",
    "    \n",
    "    model.compile(optimizer=optimizer,\n",
    "                loss=loss_fn,\n",
    "                metrics=metrics)\n",
    "                \n",
    "    if not sampling:\n",
    "        steps_per_epoch = compute_steps(train_idx, bs)\n",
    "        val_steps_per_epoch = compute_steps(test_idx, bs)\n",
    "\n",
    "    if nogen:\n",
    "        x = X_train\n",
    "        y = y_train\n",
    "        steps_per_epoch = None\n",
    "        validation_data = (X_test, y_test)\n",
    "    else:\n",
    "        x = data_generator(\n",
    "            batch_size=bs, \n",
    "            steps_per_epoch=steps_per_epoch, \n",
    "            epochs=n_epochs,\n",
    "            idx=train_idx,\n",
    "            sampling=sampling,\n",
    "            mode=mode,\n",
    "            standard=standard, mean=mean, std=std,\n",
    "        )\n",
    "        y = None\n",
    "        validation_data = data_generator(\n",
    "            batch_size=bs, \n",
    "            steps_per_epoch=val_steps_per_epoch, \n",
    "            epochs=n_epochs,\n",
    "            idx=test_idx,\n",
    "            sampling=sampling,\n",
    "            mode=mode,\n",
    "            standard=standard, mean=mean, std=std,\n",
    "        )\n",
    "\n",
    "\n",
    "    # Training\n",
    "    history = model.fit(\n",
    "        x = x, y = y, \n",
    "        steps_per_epoch = steps_per_epoch,\n",
    "        epochs          = n_epochs,\n",
    "        # Validation data\n",
    "        validation_data = validation_data,\n",
    "        validation_steps  = val_steps_per_epoch,\n",
    "        #class_weight = {0: 1., 1: 1/0.035},\n",
    "        verbose=1\n",
    "    )\n",
    "\n",
    "    # Saving\n",
    "    if save:\n",
    "        model.save('results/cnn-training-{}/fold_{}_{}_model'.format(date_today, fold, training_name))\n",
    "        with open('results/cnn-training-{}/fold_{}_{}_history.pickle'.format(date_today, fold, training_name), 'wb') as file_pi:\n",
    "            pickle.dump(history.history, file_pi)\n",
    "    \n",
    "    \n",
    "    if training_mode != \"all\":\n",
    "        break\n",
    "    fold += 1\n",
    "    "
   ]
  },
  {
   "cell_type": "code",
   "execution_count": 39,
   "id": "349ea602",
   "metadata": {},
   "outputs": [
    {
     "data": {
      "text/plain": [
       "[<matplotlib.lines.Line2D at 0x7f9f48653d90>]"
      ]
     },
     "execution_count": 39,
     "metadata": {},
     "output_type": "execute_result"
    },
    {
     "data": {
      "image/png": "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",
      "text/plain": [
       "<Figure size 432x288 with 1 Axes>"
      ]
     },
     "metadata": {
      "needs_background": "light"
     },
     "output_type": "display_data"
    }
   ],
   "source": [
    "plt.plot(history.history['loss'])\n",
    "plt.plot(history.history['val_loss'])"
   ]
  },
  {
   "cell_type": "code",
   "execution_count": 42,
   "id": "9b00a668",
   "metadata": {},
   "outputs": [
    {
     "ename": "TypeError",
     "evalue": "Cannot convert 0.0 to EagerTensor of dtype int64",
     "output_type": "error",
     "traceback": [
      "\u001b[0;31m---------------------------------------------------------------------------\u001b[0m",
      "\u001b[0;31mTypeError\u001b[0m                                 Traceback (most recent call last)",
      "\u001b[1;32m/home/simonf/beyondPianoRoll/flow.ipynb Cell 15'\u001b[0m in \u001b[0;36m<cell line: 2>\u001b[0;34m()\u001b[0m\n\u001b[1;32m      <a href='vscode-notebook-cell://ssh-remote%2B130.237.67.120/home/simonf/beyondPianoRoll/flow.ipynb#ch0000037vscode-remote?line=0'>1</a>\u001b[0m bce \u001b[39m=\u001b[39m tf\u001b[39m.\u001b[39mkeras\u001b[39m.\u001b[39mlosses\u001b[39m.\u001b[39mBinaryCrossentropy(from_logits\u001b[39m=\u001b[39m\u001b[39mFalse\u001b[39;00m)\n\u001b[0;32m----> <a href='vscode-notebook-cell://ssh-remote%2B130.237.67.120/home/simonf/beyondPianoRoll/flow.ipynb#ch0000037vscode-remote?line=1'>2</a>\u001b[0m bce(y_train, (pred\u001b[39m.\u001b[39;49mreshape(\u001b[39m-\u001b[39;49m\u001b[39m1\u001b[39;49m)\u001b[39m>\u001b[39;49m\u001b[39m0.5\u001b[39;49m)\u001b[39m.\u001b[39;49mastype(np\u001b[39m.\u001b[39;49mint64))\n",
      "File \u001b[0;32m~/.venv/onsets/lib/python3.8/site-packages/keras/losses.py:141\u001b[0m, in \u001b[0;36mLoss.__call__\u001b[0;34m(self, y_true, y_pred, sample_weight)\u001b[0m\n\u001b[1;32m    <a href='file:///home/simonf/.venv/onsets/lib/python3.8/site-packages/keras/losses.py?line=138'>139</a>\u001b[0m \u001b[39melse\u001b[39;00m:\n\u001b[1;32m    <a href='file:///home/simonf/.venv/onsets/lib/python3.8/site-packages/keras/losses.py?line=139'>140</a>\u001b[0m   call_fn \u001b[39m=\u001b[39m tf\u001b[39m.\u001b[39m__internal__\u001b[39m.\u001b[39mautograph\u001b[39m.\u001b[39mtf_convert(\u001b[39mself\u001b[39m\u001b[39m.\u001b[39mcall, tf\u001b[39m.\u001b[39m__internal__\u001b[39m.\u001b[39mautograph\u001b[39m.\u001b[39mcontrol_status_ctx())\n\u001b[0;32m--> <a href='file:///home/simonf/.venv/onsets/lib/python3.8/site-packages/keras/losses.py?line=140'>141</a>\u001b[0m losses \u001b[39m=\u001b[39m call_fn(y_true, y_pred)\n\u001b[1;32m    <a href='file:///home/simonf/.venv/onsets/lib/python3.8/site-packages/keras/losses.py?line=141'>142</a>\u001b[0m \u001b[39mreturn\u001b[39;00m losses_utils\u001b[39m.\u001b[39mcompute_weighted_loss(\n\u001b[1;32m    <a href='file:///home/simonf/.venv/onsets/lib/python3.8/site-packages/keras/losses.py?line=142'>143</a>\u001b[0m     losses, sample_weight, reduction\u001b[39m=\u001b[39m\u001b[39mself\u001b[39m\u001b[39m.\u001b[39m_get_reduction())\n",
      "File \u001b[0;32m~/.venv/onsets/lib/python3.8/site-packages/keras/losses.py:245\u001b[0m, in \u001b[0;36mLossFunctionWrapper.call\u001b[0;34m(self, y_true, y_pred)\u001b[0m\n\u001b[1;32m    <a href='file:///home/simonf/.venv/onsets/lib/python3.8/site-packages/keras/losses.py?line=241'>242</a>\u001b[0m   y_pred, y_true \u001b[39m=\u001b[39m losses_utils\u001b[39m.\u001b[39msqueeze_or_expand_dimensions(y_pred, y_true)\n\u001b[1;32m    <a href='file:///home/simonf/.venv/onsets/lib/python3.8/site-packages/keras/losses.py?line=243'>244</a>\u001b[0m ag_fn \u001b[39m=\u001b[39m tf\u001b[39m.\u001b[39m__internal__\u001b[39m.\u001b[39mautograph\u001b[39m.\u001b[39mtf_convert(\u001b[39mself\u001b[39m\u001b[39m.\u001b[39mfn, tf\u001b[39m.\u001b[39m__internal__\u001b[39m.\u001b[39mautograph\u001b[39m.\u001b[39mcontrol_status_ctx())\n\u001b[0;32m--> <a href='file:///home/simonf/.venv/onsets/lib/python3.8/site-packages/keras/losses.py?line=244'>245</a>\u001b[0m \u001b[39mreturn\u001b[39;00m ag_fn(y_true, y_pred, \u001b[39m*\u001b[39;49m\u001b[39m*\u001b[39;49m\u001b[39mself\u001b[39;49m\u001b[39m.\u001b[39;49m_fn_kwargs)\n",
      "File \u001b[0;32m~/.venv/onsets/lib/python3.8/site-packages/tensorflow/python/util/traceback_utils.py:153\u001b[0m, in \u001b[0;36mfilter_traceback.<locals>.error_handler\u001b[0;34m(*args, **kwargs)\u001b[0m\n\u001b[1;32m    <a href='file:///home/simonf/.venv/onsets/lib/python3.8/site-packages/tensorflow/python/util/traceback_utils.py?line=150'>151</a>\u001b[0m \u001b[39mexcept\u001b[39;00m \u001b[39mException\u001b[39;00m \u001b[39mas\u001b[39;00m e:\n\u001b[1;32m    <a href='file:///home/simonf/.venv/onsets/lib/python3.8/site-packages/tensorflow/python/util/traceback_utils.py?line=151'>152</a>\u001b[0m   filtered_tb \u001b[39m=\u001b[39m _process_traceback_frames(e\u001b[39m.\u001b[39m__traceback__)\n\u001b[0;32m--> <a href='file:///home/simonf/.venv/onsets/lib/python3.8/site-packages/tensorflow/python/util/traceback_utils.py?line=152'>153</a>\u001b[0m   \u001b[39mraise\u001b[39;00m e\u001b[39m.\u001b[39mwith_traceback(filtered_tb) \u001b[39mfrom\u001b[39;00m \u001b[39mNone\u001b[39m\n\u001b[1;32m    <a href='file:///home/simonf/.venv/onsets/lib/python3.8/site-packages/tensorflow/python/util/traceback_utils.py?line=153'>154</a>\u001b[0m \u001b[39mfinally\u001b[39;00m:\n\u001b[1;32m    <a href='file:///home/simonf/.venv/onsets/lib/python3.8/site-packages/tensorflow/python/util/traceback_utils.py?line=154'>155</a>\u001b[0m   \u001b[39mdel\u001b[39;00m filtered_tb\n",
      "File \u001b[0;32m~/.venv/onsets/lib/python3.8/site-packages/keras/losses.py:1923\u001b[0m, in \u001b[0;36mbinary_crossentropy\u001b[0;34m(y_true, y_pred, from_logits, label_smoothing, axis)\u001b[0m\n\u001b[1;32m   <a href='file:///home/simonf/.venv/onsets/lib/python3.8/site-packages/keras/losses.py?line=1920'>1921</a>\u001b[0m y_pred \u001b[39m=\u001b[39m tf\u001b[39m.\u001b[39mconvert_to_tensor(y_pred)\n\u001b[1;32m   <a href='file:///home/simonf/.venv/onsets/lib/python3.8/site-packages/keras/losses.py?line=1921'>1922</a>\u001b[0m y_true \u001b[39m=\u001b[39m tf\u001b[39m.\u001b[39mcast(y_true, y_pred\u001b[39m.\u001b[39mdtype)\n\u001b[0;32m-> <a href='file:///home/simonf/.venv/onsets/lib/python3.8/site-packages/keras/losses.py?line=1922'>1923</a>\u001b[0m label_smoothing \u001b[39m=\u001b[39m tf\u001b[39m.\u001b[39;49mconvert_to_tensor(label_smoothing, dtype\u001b[39m=\u001b[39;49my_pred\u001b[39m.\u001b[39;49mdtype)\n\u001b[1;32m   <a href='file:///home/simonf/.venv/onsets/lib/python3.8/site-packages/keras/losses.py?line=1924'>1925</a>\u001b[0m \u001b[39mdef\u001b[39;00m \u001b[39m_smooth_labels\u001b[39m():\n\u001b[1;32m   <a href='file:///home/simonf/.venv/onsets/lib/python3.8/site-packages/keras/losses.py?line=1925'>1926</a>\u001b[0m   \u001b[39mreturn\u001b[39;00m y_true \u001b[39m*\u001b[39m (\u001b[39m1.0\u001b[39m \u001b[39m-\u001b[39m label_smoothing) \u001b[39m+\u001b[39m \u001b[39m0.5\u001b[39m \u001b[39m*\u001b[39m label_smoothing\n",
      "\u001b[0;31mTypeError\u001b[0m: Cannot convert 0.0 to EagerTensor of dtype int64"
     ]
    }
   ],
   "source": [
    "bce = tf.keras.losses.BinaryCrossentropy(from_logits=False)\n",
    "bce(y_train, (pred.reshape(-1)>0.5).astype(np.int64))"
   ]
  },
  {
   "cell_type": "code",
   "execution_count": null,
   "id": "c2d93f3c",
   "metadata": {},
   "outputs": [
    {
     "name": "stdout",
     "output_type": "stream",
     "text": [
      "F-score before postprocessing: 0.3920179307353048\n"
     ]
    }
   ],
   "source": [
    "THRES = ''\n",
    "VAL = ''\n",
    "TPS = h[VAL + 'tp' + THRES]\n",
    "FNS = h[VAL + 'fn' + THRES]\n",
    "FPS = h[VAL + 'fp' + THRES]\n",
    "print(\"F-score before postprocessing:\", 2*TPS[-2]/(2*TPS[-2] + FPS[-2] + FNS[-2]))"
   ]
  },
  {
   "cell_type": "code",
   "execution_count": 15,
   "id": "8b89eb73",
   "metadata": {},
   "outputs": [],
   "source": [
    "with open(\"results/cnn-training-220409/fold_0_added-sample-gen-nostandard_history.pickle\", 'rb') as file_pi:\n",
    "    h_samp = pickle.load(file_pi)\n",
    "with open(\"results/cnn-training-220409/fold_0_added-seq-gen-nostandard_history.pickle\", 'rb') as file_pi:\n",
    "    h_seq = pickle.load(file_pi)\n"
   ]
  },
  {
   "cell_type": "code",
   "execution_count": 16,
   "id": "7660db53",
   "metadata": {},
   "outputs": [
    {
     "data": {
      "text/plain": [
       "<matplotlib.legend.Legend at 0x7fa11ab888b0>"
      ]
     },
     "execution_count": 16,
     "metadata": {},
     "output_type": "execute_result"
    },
    {
     "data": {
      "image/png": "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",
      "text/plain": [
       "<Figure size 432x288 with 1 Axes>"
      ]
     },
     "metadata": {
      "needs_background": "light"
     },
     "output_type": "display_data"
    }
   ],
   "source": [
    "from scipy.signal import medfilt\n",
    "samp_val_smooth = medfilt(h_samp[\"val_loss\"], 3)\n",
    "\n",
    "plt.plot(h_samp['loss'], \"-\")\n",
    "#plt.plot(h_samp['val_loss'], \"-\")\n",
    "plt.plot(samp_val_smooth, \"-\")\n",
    "plt.plot(h_seq['loss'], \"-\")\n",
    "plt.plot(h_seq['val_loss'], \"-\")\n",
    "plt.legend([\n",
    "    \"Sampling Training loss\", \n",
    "    \"Sampling Validation loss\",\n",
    "    \"Sequential Training loss\", \n",
    "    \"Sequential Validation loss\",\n",
    "])"
   ]
  },
  {
   "cell_type": "code",
   "execution_count": 21,
   "id": "473bca2b",
   "metadata": {},
   "outputs": [
    {
     "data": {
      "text/plain": [
       "[<matplotlib.lines.Line2D at 0x7fa11a98ce50>]"
      ]
     },
     "execution_count": 21,
     "metadata": {},
     "output_type": "execute_result"
    },
    {
     "data": {
      "image/png": "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",
      "text/plain": [
       "<Figure size 432x288 with 1 Axes>"
      ]
     },
     "metadata": {
      "needs_background": "light"
     },
     "output_type": "display_data"
    }
   ],
   "source": [
    "fold = \"4\"\n",
    "with open(\"results/cnn-training-220409/fold_\"+fold+\"_added-sample-gen-nostandard_history.pickle\", 'rb') as file_pi:\n",
    "    h = pickle.load(file_pi)\n",
    "plt.plot(h['loss'], \"-\")\n",
    "plt.plot(h['val_loss'], \"-\")"
   ]
  },
  {
   "cell_type": "code",
   "execution_count": 93,
   "id": "c361d908",
   "metadata": {},
   "outputs": [
    {
     "data": {
      "text/plain": [
       "<matplotlib.legend.Legend at 0x15169c370>"
      ]
     },
     "execution_count": 93,
     "metadata": {},
     "output_type": "execute_result"
    },
    {
     "data": {
      "image/png": "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",
      "text/plain": [
       "<Figure size 432x288 with 1 Axes>"
      ]
     },
     "metadata": {
      "needs_background": "light"
     },
     "output_type": "display_data"
    }
   ],
   "source": [
    "plt.plot(h_all['loss'], \"-\")\n",
    "plt.plot(h_all['val_loss'], \"-\")\n",
    "plt.plot(h_dense['loss'], \".\")\n",
    "plt.plot(h_dense['val_loss'], \".\")\n",
    "plt.legend([\n",
    "    \"Whole model retrained - training loss\", \n",
    "    \"Whole model retrained - validation loss\",\n",
    "    \"Only dense layers trained - training loss\", \n",
    "    \"Only dense layers trained - validation loss\",\n",
    "])"
   ]
  },
  {
   "cell_type": "code",
   "execution_count": 26,
   "id": "1d83928b",
   "metadata": {},
   "outputs": [
    {
     "data": {
      "text/plain": [
       "<matplotlib.legend.Legend at 0x7f20f03a3c40>"
      ]
     },
     "execution_count": 26,
     "metadata": {},
     "output_type": "execute_result"
    },
    {
     "data": {
      "image/png": "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",
      "text/plain": [
       "<Figure size 1440x288 with 2 Axes>"
      ]
     },
     "metadata": {
      "needs_background": "light"
     },
     "output_type": "display_data"
    }
   ],
   "source": [
    "fig, axs = plt.subplots(1,2,figsize=(20,4))\n",
    "history = h\n",
    "# Prec. training\n",
    "axs[0].plot([tp/(fp+tp) for (tp, fp) in zip(history['tp'], history['fp'])], color='lightblue')\n",
    "# Rec. training\n",
    "axs[0].plot([tp/(fn+tp) for (tp, fn) in zip(history['tp'], history['fn'])], color='lightgreen')\n",
    "# F-measure\n",
    "axs[0].plot([2*tp/(2*tp+fp+fn) for (tp, fp, fn) in zip(history['tp'], history['fp'], history['fn'])], 'k:')\n",
    "axs[0].legend([\"Precision\", \"Recall\", \"F-measure\"])\n",
    "\n",
    "# Prec. training\n",
    "axs[1].plot([tp/(fp+tp) for (tp, fp) in zip(history['val_tp'], history['val_fp'])], color='lightblue')\n",
    "# Rec. training\n",
    "axs[1].plot([tp/(fn+tp) for (tp, fn) in zip(history['val_tp'], history['val_fn'])], color='lightgreen')\n",
    "# F-measure\n",
    "axs[1].plot([2*tp/(2*tp+fp+fn) for (tp, fp, fn) in zip(history['val_tp'], history['val_fp'], history['val_fn'])], 'k:')\n",
    "axs[1].legend([\"Precision\", \"Recall\", \"F-measure\"])"
   ]
  },
  {
   "cell_type": "code",
   "execution_count": 37,
   "id": "4a2a98df",
   "metadata": {},
   "outputs": [],
   "source": [
    "\n"
   ]
  },
  {
   "cell_type": "markdown",
   "id": "d0c015ec",
   "metadata": {},
   "source": [
    "## Audio analysis and onset extraction"
   ]
  },
  {
   "cell_type": "code",
   "execution_count": 121,
   "id": "3e488ddb",
   "metadata": {},
   "outputs": [
    {
     "name": "stdout",
     "output_type": "stream",
     "text": [
      "Test recordings:  [17]\n",
      "Length of recordings:  ['101.2 s']\n",
      "[10124.843537414967]\n",
      "Length of onset vectors:  [10125]\n",
      "Number of annotated onsets:  [164]  =  164\n"
     ]
    }
   ],
   "source": [
    "F_RATE = HOP/SR \n",
    "train_idx = np.array([ 0,  1,  3,  5,  6,  7, 8,  9, 10, 11, 12, 13, 15, 17, 18])\n",
    "test_idx = np.array([ 2,  4, 14, 16])\n",
    "test_idx = np.array([16])\n",
    "test_audio_paths = ['datasets/initslurtest_vn/initslurtest_vn_wav/slurtest{:02d}.wav'.format(test_index+1) for test_index in test_idx]\n",
    "test_audios = [madmom.audio.signal.load_wave_file(path)[0] for path in test_audio_paths]\n",
    "test_lengths = [len(test_audio)/SR for test_audio in test_audios]\n",
    "test_onsets = [genfromtxt('datasets/initslurtest_vn/initslurtest_vn_annotations/{:02d}.txt'.format(test_index+1), delimiter=',') for test_index in test_idx]\n",
    "test_onset_vectors = [get_label_vector(test_onset, len(test_audio)/SR, HOP, SR) for test_audio, test_onset in zip(test_audios, test_onsets)]\n",
    "print(\"Test recordings: \", test_idx+1)\n",
    "print(\"Length of recordings: \", [\"{:.1f} s\".format(l) for l in test_lengths])\n",
    "print([len(a)/HOP for a in test_audios])\n",
    "print(\"Length of onset vectors: \", [len(v) for v in test_onset_vectors])\n",
    "print(\"Number of annotated onsets: \", \n",
    "    [len(test_onset) for test_onset in test_onsets], \n",
    "    \" = \", np.sum([len(test_onset) for test_onset in test_onsets])\n",
    ")"
   ]
  },
  {
   "cell_type": "code",
   "execution_count": 122,
   "id": "40d836e4",
   "metadata": {},
   "outputs": [],
   "source": [
    "full_audio = np.concatenate(test_audios)\n",
    "cum_lengths = np.concatenate(([0.0], np.cumsum(test_lengths)))[:-1]\n",
    "full_onsets = np.concatenate(\n",
    "    [shift + onset for (shift, onset) in zip(cum_lengths, test_onsets)]\n",
    ")\n",
    "full_onset_vectors = np.concatenate(test_onset_vectors)"
   ]
  },
  {
   "cell_type": "code",
   "execution_count": 127,
   "id": "133cbdc8",
   "metadata": {},
   "outputs": [],
   "source": [
    "index_to_fold = {\n",
    "    0: 2,\n",
    "    1: 2,\n",
    "    2: 1,\n",
    "    3: 0,\n",
    "    4: 1,\n",
    "    5: 4,\n",
    "    6: 0,\n",
    "    7: 2,\n",
    "    8: 3,\n",
    "    9: 3,\n",
    "    10: 0,\n",
    "    11: 4,\n",
    "    12: 4,\n",
    "    13: 2,\n",
    "    14: 1,\n",
    "    15: 0,\n",
    "    16: 1,\n",
    "    17: 3,\n",
    "    18: 3,\n",
    "}"
   ]
  },
  {
   "cell_type": "code",
   "execution_count": 132,
   "id": "eb53d6f9",
   "metadata": {},
   "outputs": [],
   "source": [
    "def get_test_peaks(activations, f_rate, threshold=0.5, kernel_size=5, n_pre=5, n_post=5):\n",
    "    return madmom.features.onsets.peak_picking(\n",
    "                                        activations=activations, \n",
    "                                        threshold=threshold, \n",
    "                                        smooth=kernel_size, \n",
    "                                        pre_avg=n_pre, \n",
    "                                        post_avg=n_post, \n",
    "                                        pre_max=n_pre, \n",
    "                                        post_max=n_post\n",
    "    )[0].astype(np.float32)*f_rate"
   ]
  },
  {
   "cell_type": "code",
   "execution_count": 130,
   "id": "b57be9f2",
   "metadata": {},
   "outputs": [],
   "source": [
    "with open('results/cnn-training-220331/mean_by_fold.pickle', 'rb') as file_pi:\n",
    "    means = pickle.load(file_pi)\n",
    "with open('results/cnn-training-220331/std_by_fold.pickle', 'rb') as file_pi:\n",
    "    stds = pickle.load(file_pi)"
   ]
  },
  {
   "cell_type": "code",
   "execution_count": 160,
   "id": "741d8287",
   "metadata": {},
   "outputs": [
    {
     "name": "stdout",
     "output_type": "stream",
     "text": [
      "Test recording no  1  which is in test set of fold  2\n",
      "Loading data...\n",
      "Loading model...\n",
      "Predicting...\n",
      "Evaluating...\n",
      "Precision: 78.2 %\n",
      "Recall: 98.4 %\n",
      "F-score: 87.1 %\n",
      "Test recording no  2  which is in test set of fold  2\n",
      "Loading data...\n",
      "Loading model...\n",
      "Predicting...\n",
      "Evaluating...\n",
      "Precision: 71.8 %\n",
      "Recall: 100.0 %\n",
      "F-score: 83.6 %\n",
      "Test recording no  3  which is in test set of fold  1\n",
      "Loading data...\n",
      "Loading model...\n",
      "Predicting...\n",
      "Evaluating...\n",
      "Precision: 76.0 %\n",
      "Recall: 93.4 %\n",
      "F-score: 83.8 %\n",
      "Test recording no  4  which is in test set of fold  0\n",
      "Loading data...\n",
      "Loading model...\n"
     ]
    },
    {
     "name": "stderr",
     "output_type": "stream",
     "text": [
      "Exception ignored in: <function WeakKeyDictionary.__init__.<locals>.remove at 0x13d3caa60>\n",
      "Traceback (most recent call last):\n",
      "  File \"/usr/local/Cellar/python@3.9/3.9.10/Frameworks/Python.framework/Versions/3.9/lib/python3.9/weakref.py\", line 370, in remove\n",
      "    def remove(k, selfref=ref(self)):\n",
      "KeyboardInterrupt: \n"
     ]
    },
    {
     "name": "stdout",
     "output_type": "stream",
     "text": [
      "Predicting...\n",
      "Evaluating...\n",
      "Precision: 90.9 %\n",
      "Recall: 93.3 %\n",
      "F-score: 92.1 %\n",
      "Test recording no  5  which is in test set of fold  1\n",
      "Loading data...\n",
      "Loading model...\n",
      "Predicting...\n",
      "Evaluating...\n",
      "Precision: 68.8 %\n",
      "Recall: 94.1 %\n",
      "F-score: 79.5 %\n",
      "Test recording no  6  which is in test set of fold  4\n",
      "Loading data...\n",
      "Loading model...\n",
      "Predicting...\n",
      "Evaluating...\n",
      "Precision: 93.6 %\n",
      "Recall: 95.4 %\n",
      "F-score: 94.5 %\n",
      "Test recording no  7  which is in test set of fold  0\n",
      "Loading data...\n",
      "Loading model...\n",
      "Predicting...\n",
      "Evaluating...\n",
      "Precision: 92.5 %\n",
      "Recall: 84.7 %\n",
      "F-score: 88.4 %\n",
      "Test recording no  8  which is in test set of fold  2\n",
      "Loading data...\n",
      "Loading model...\n",
      "Predicting...\n",
      "Evaluating...\n",
      "Precision: 79.8 %\n",
      "Recall: 96.7 %\n",
      "F-score: 87.4 %\n",
      "Test recording no  9  which is in test set of fold  3\n",
      "Loading data...\n",
      "Loading model...\n",
      "Predicting...\n",
      "Evaluating...\n",
      "Precision: 75.0 %\n",
      "Recall: 92.6 %\n",
      "F-score: 82.9 %\n",
      "Test recording no  10  which is in test set of fold  3\n",
      "Loading data...\n",
      "Loading model...\n",
      "Predicting...\n",
      "Evaluating...\n",
      "Precision: 50.0 %\n",
      "Recall: 50.0 %\n",
      "F-score: 50.0 %\n",
      "Test recording no  11  which is in test set of fold  0\n",
      "Loading data...\n",
      "Loading model...\n",
      "Predicting...\n",
      "Evaluating...\n",
      "Precision: 60.4 %\n",
      "Recall: 63.0 %\n",
      "F-score: 61.7 %\n",
      "Test recording no  12  which is in test set of fold  4\n",
      "Loading data...\n",
      "Loading model...\n",
      "Predicting...\n",
      "Evaluating...\n",
      "Precision: 49.2 %\n",
      "Recall: 93.8 %\n",
      "F-score: 64.5 %\n",
      "Test recording no  13  which is in test set of fold  4\n",
      "Loading data...\n",
      "Loading model...\n",
      "Predicting...\n",
      "Evaluating...\n",
      "Precision: 65.6 %\n",
      "Recall: 95.5 %\n",
      "F-score: 77.8 %\n",
      "Test recording no  14  which is in test set of fold  2\n",
      "Loading data...\n",
      "Loading model...\n",
      "Predicting...\n",
      "Evaluating...\n",
      "Precision: 69.8 %\n",
      "Recall: 83.0 %\n",
      "F-score: 75.9 %\n",
      "Test recording no  15  which is in test set of fold  1\n",
      "Loading data...\n",
      "Loading model...\n",
      "Predicting...\n",
      "Evaluating...\n",
      "Precision: 72.7 %\n",
      "Recall: 91.2 %\n",
      "F-score: 80.9 %\n",
      "Test recording no  16  which is in test set of fold  0\n",
      "Loading data...\n",
      "Loading model...\n",
      "Predicting...\n",
      "Evaluating...\n",
      "Precision: 69.2 %\n",
      "Recall: 87.1 %\n",
      "F-score: 77.1 %\n",
      "Test recording no  17  which is in test set of fold  1\n",
      "Loading data...\n",
      "Loading model...\n",
      "Predicting...\n",
      "Evaluating...\n",
      "Precision: 54.5 %\n",
      "Recall: 73.8 %\n",
      "F-score: 62.7 %\n",
      "Test recording no  18  which is in test set of fold  3\n",
      "Loading data...\n",
      "Loading model...\n",
      "Predicting...\n",
      "Evaluating...\n",
      "Precision: 42.1 %\n",
      "Recall: 50.0 %\n",
      "F-score: 45.7 %\n",
      "Test recording no  19  which is in test set of fold  3\n",
      "Loading data...\n",
      "Loading model...\n",
      "Predicting...\n",
      "Evaluating...\n",
      "Precision: 85.4 %\n",
      "Recall: 89.2 %\n",
      "F-score: 87.2 %\n"
     ]
    }
   ],
   "source": [
    "from analyze_detection import evaluate\n",
    "\n",
    "TOL = 0.03\n",
    "\n",
    "for test_index in np.arange(0,19):\n",
    "    fold = index_to_fold[test_index]\n",
    "    print(\"Test recording no \", test_index + 1, \" which is in test set of fold \", fold)\n",
    "    print(\"Loading data...\")\n",
    "    X_test = X[test_index]\n",
    "    training_name = \"finetune-dense-dropout\"\n",
    "    print(\"Loading model...\")\n",
    "\n",
    "    #Fold-independent\n",
    "    model = tf.keras.models.load_model('results/cnn-training-220330/finetune-all-plus-dropout_model')\n",
    "    model = tf.keras.models.load_model('results/cnn-training-220331/{}_fold_{}_model'.format(fold, training_name))\n",
    "    print(\"Predicting...\")\n",
    "    test_model_out = model.predict((X_test-means[fold])/stds[fold])\n",
    "    peaks = get_test_peaks(test_model_out, HOP/SR)\n",
    "    print(\"Evaluating...\")\n",
    "    [CD,FN,FP,doubles,merged] = evaluate(onset_schedules[test_index], peaks, tol_sec=TOL)\n",
    "    print(\"Precision: {:.1f} %\".format( 100*CD/(CD+FP)))\n",
    "    print(\"Recall: {:.1f} %\".format( 100*CD/(CD+FN)))\n",
    "    print(\"F-score: {:.1f} %\".format( 200*CD/(2*CD+FP+FN)))\n",
    "    #print(\"{}\\t{}\\t{}\".format(CD,FN,FP))\n",
    "\n",
    "    "
   ]
  },
  {
   "cell_type": "code",
   "execution_count": 128,
   "id": "6a820900",
   "metadata": {},
   "outputs": [],
   "source": [
    "def get_test_peaks(activations, f_rate, threshold=0.5, kernel_size=5, n_pre=5, n_post=5):\n",
    "    return madmom.features.onsets.peak_picking(\n",
    "                                        activations=activations, \n",
    "                                        threshold=threshold, \n",
    "                                        smooth=kernel_size, \n",
    "                                        pre_avg=n_pre, \n",
    "                                        post_avg=n_post, \n",
    "                                        pre_max=n_pre, \n",
    "                                        post_max=n_post\n",
    "    )[0].astype(np.float32)*f_rate\n"
   ]
  },
  {
   "cell_type": "code",
   "execution_count": 67,
   "id": "db506487",
   "metadata": {},
   "outputs": [
    {
     "name": "stdout",
     "output_type": "stream",
     "text": [
      "[10.099999  10.26      10.4       10.5199995 10.679999  10.79\n",
      " 10.94      11.05      11.23      11.79      12.44      12.57\n",
      " 12.71      12.83      12.99      13.11      13.24      13.37\n",
      " 13.54     ]\n"
     ]
    },
    {
     "data": {
      "text/plain": [
       "<matplotlib.collections.PathCollection at 0x14d8142b0>"
      ]
     },
     "execution_count": 67,
     "metadata": {},
     "output_type": "execute_result"
    },
    {
     "data": {
      "image/png": "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",
      "text/plain": [
       "<Figure size 432x288 with 1 Axes>"
      ]
     },
     "metadata": {
      "needs_background": "light"
     },
     "output_type": "display_data"
    }
   ],
   "source": [
    "start_sec = 10\n",
    "end_sec = 14\n",
    "selected_peaks = test_peaks[np.intersect1d(\n",
    "    np.where(test_peaks>=start_sec)[0],\n",
    "    np.where(test_peaks<end_sec)[0])\n",
    "]\n",
    "selected_onsets = full_onsets[np.intersect1d(\n",
    "    np.where(full_onsets>=start_sec)[0],\n",
    "    np.where(full_onsets<end_sec)[0])\n",
    "]\n",
    "print(selected_peaks)\n",
    "plt.scatter(selected_peaks, np.zeros_like(selected_peaks), marker='x', color='blue')\n",
    "plt.scatter(selected_onsets, np.zeros_like(selected_onsets), marker='x', color='green')"
   ]
  },
  {
   "cell_type": "code",
   "execution_count": 126,
   "id": "10d8b049",
   "metadata": {},
   "outputs": [
    {
     "name": "stdout",
     "output_type": "stream",
     "text": [
      "Precision: 61.0 %\n",
      "Recall: 76.2 %\n",
      "F-score: 67.8 %\n"
     ]
    }
   ],
   "source": [
    "from analyze_detection import evaluate\n",
    "\n",
    "true = full_onsets\n",
    "pred = test_peaks\n",
    "\n",
    "TOL = 0.03\n",
    "[CD,FN,FP,doubles,merged] = evaluate(true, pred, tol_sec=TOL)\n",
    "print(\"Precision: {:.1f} %\".format( 100*CD/(CD+FP)))\n",
    "print(\"Recall: {:.1f} %\".format( 100*CD/(CD+FN)))\n",
    "print(\"F-score: {:.1f} %\".format( 200*CD/(2*CD+FP+FN)))"
   ]
  },
  {
   "cell_type": "code",
   "execution_count": 82,
   "id": "238a057a",
   "metadata": {},
   "outputs": [
    {
     "name": "stdout",
     "output_type": "stream",
     "text": [
      "Cannot plot selected region, choose other start/dur values\n"
     ]
    },
    {
     "data": {
      "text/plain": [
       "<Figure size 1800x360 with 0 Axes>"
      ]
     },
     "metadata": {},
     "output_type": "display_data"
    }
   ],
   "source": [
    "start_sec = 30\n",
    "dur_sec = 5\n",
    "\n",
    "selected_audio = full_audio[start_sec*SR:(start_sec+dur_sec)*SR]\n",
    "selected_onsets = full_onsets[np.intersect1d(\n",
    "        np.where(full_onsets>=start_sec)[0], \n",
    "        np.where(full_onsets<start_sec+dur_sec)[0]\n",
    ")]\n",
    "selected_onehot = full_onset_vectors[int(start_sec/F_RATE):int((start_sec+dur_sec)/F_RATE)]\n",
    "fig = plt.figure(figsize=(25,5))\n",
    "if start_sec + dur_sec < len(full_audio)/SR:\n",
    "    \n",
    "    \n",
    "    plt.plot(\n",
    "        np.linspace(start_sec, start_sec+dur_sec, dur_sec*SR),\n",
    "        selected_audio, \n",
    "        color=\"lightgray\"\n",
    "    )\n",
    "    for i, onset in enumerate(selected_onehot):\n",
    "        if onset==1:\n",
    "            plt.scatter(start_sec + i*F_RATE/dur_sec, 0, color='green')\n",
    "    plt.xlabel(\"Seconds\")\n",
    "    plt.show()\n",
    "\n",
    "else:\n",
    "    print(\"Cannot plot selected region, choose other start/dur values\")"
   ]
  },
  {
   "cell_type": "code",
   "execution_count": 138,
   "id": "245acaf2",
   "metadata": {},
   "outputs": [
    {
     "name": "stdout",
     "output_type": "stream",
     "text": [
      "2\n",
      "2\n",
      "1\n",
      "0\n",
      "1\n",
      "4\n",
      "0\n",
      "2\n",
      "3\n",
      "3\n",
      "0\n",
      "4\n",
      "4\n",
      "2\n",
      "1\n",
      "0\n",
      "1\n",
      "3\n",
      "3\n"
     ]
    }
   ],
   "source": [
    "for f in index_to_fold.values():\n",
    "    print(f)"
   ]
  },
  {
   "cell_type": "code",
   "execution_count": 22,
   "id": "f2f78602",
   "metadata": {},
   "outputs": [
    {
     "name": "stdout",
     "output_type": "stream",
     "text": [
      "Precision: 58.2 %\n",
      "Recall: 61.5 %\n"
     ]
    }
   ],
   "source": []
  },
  {
   "cell_type": "code",
   "execution_count": null,
   "id": "22736e04",
   "metadata": {},
   "outputs": [],
   "source": [
    "#f = open(\"datasets/initslurtest_vn/model-output/bockmodel-220315-slurtest{:02d}.txt\".format(test_index), \"w\")\n",
    "#for i in range(len(peaks)):\n",
    "#    f.write(str(np.round((peaks[i]+7)*440/44100, decimals=2))+ \"\\n\")\n",
    "#f.close()"
   ]
  },
  {
   "cell_type": "code",
   "execution_count": null,
   "id": "82bf4341",
   "metadata": {},
   "outputs": [],
   "source": []
  }
 ],
 "metadata": {
  "interpreter": {
   "hash": "aee8b7b246df8f9039afb4144a1f6fd8d2ca17a180786b69acc140d282b71a49"
  },
  "kernelspec": {
   "display_name": "flow",
   "language": "python",
   "name": "flow"
  },
  "language_info": {
   "codemirror_mode": {
    "name": "ipython",
    "version": 3
   },
   "file_extension": ".py",
   "mimetype": "text/x-python",
   "name": "python",
   "nbconvert_exporter": "python",
   "pygments_lexer": "ipython3",
   "version": "3.8.10"
  }
 },
 "nbformat": 4,
 "nbformat_minor": 5
}
