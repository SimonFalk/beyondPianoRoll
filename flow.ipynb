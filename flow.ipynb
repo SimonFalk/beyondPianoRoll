{
 "cells": [
  {
   "cell_type": "code",
   "execution_count": 89,
   "id": "b0f89d5a",
   "metadata": {},
   "outputs": [
    {
     "name": "stdout",
     "output_type": "stream",
     "text": [
      "The autoreload extension is already loaded. To reload it, use:\n",
      "  %reload_ext autoreload\n",
      "The tensorboard extension is already loaded. To reload it, use:\n",
      "  %reload_ext tensorboard\n"
     ]
    }
   ],
   "source": [
    "import os\n",
    "import pickle\n",
    "import datetime\n",
    "\n",
    "import numpy as np\n",
    "from numpy import genfromtxt\n",
    "import matplotlib.pyplot as plt\n",
    "\n",
    "import tensorflow as tf\n",
    "import madmom\n",
    "\n",
    "from segment import segment_spectrogram\n",
    "from modules.labels import get_label_vector\n",
    "from modules.madmom_cnn_prep import cnn_preprocessor\n",
    "from datasets import Dataset\n",
    "from analyze_detection import evaluate, f_score\n",
    "\n",
    "%load_ext autoreload\n",
    "%load_ext tensorboard\n",
    "%autoreload 2\n",
    "\n",
    "SR = 44100\n",
    "HOP = 441\n",
    "CONTEXT = 7\n"
   ]
  },
  {
   "cell_type": "code",
   "execution_count": 3,
   "id": "d5efad60",
   "metadata": {},
   "outputs": [],
   "source": [
    "# Load Madmom normalization\n",
    "def cnn_normalize(frames):\n",
    "    inv_std = np.load(\"models/bock2013pret_inv_std.npy\")\n",
    "    mean = np.load(\"models/bock2013pret_mean.npy\")\n",
    "    frames_normalized = (frames - np.reshape(mean, (1,80,3)))*np.reshape(inv_std, (1,80,3))\n",
    "    return frames_normalized\n",
    "    \n",
    "# Load preprocessing funciton\n",
    "preprocessor = cnn_preprocessor()\n",
    "box_processor = madmom.features.onsets.CNNOnsetProcessor()"
   ]
  },
  {
   "cell_type": "code",
   "execution_count": 4,
   "id": "29ac37ea",
   "metadata": {},
   "outputs": [
    {
     "name": "stdout",
     "output_type": "stream",
     "text": [
      "Dataset created\n",
      "Found 19 audio files and 0 annotation files.\n"
     ]
    },
    {
     "name": "stderr",
     "output_type": "stream",
     "text": [
      "/usr/local/lib/python3.9/site-packages/madmom/audio/signal.py:457: UserWarning: Deprecated as of version 0.16. Please use madmom.io.audio.load_wave_file instead. Will be removed in version 0.18.\n",
      "  warnings.warn('Deprecated as of version 0.16. Please use madmom.io.audio.'\n",
      "/usr/local/lib/python3.9/site-packages/madmom/io/audio.py:493: WavFileWarning: Chunk (non-data) not understood, skipping it.\n",
      "  file_sample_rate, signal = wavfile.read(filename, mmap=True)\n"
     ]
    }
   ],
   "source": [
    "ds = Dataset(\"initslurtest\")\n",
    "audio_fnames = ds.get_audio_paths()\n",
    "label_fnames = ds.get_annotation_paths()\n",
    "\n",
    "audios = [madmom.audio.signal.load_wave_file(filename)[0] for filename in audio_fnames]\n",
    "sample_rates = [madmom.audio.signal.load_wave_file(filename)[1] for filename in audio_fnames]\n",
    "onset_schedules = [genfromtxt(label_fname, delimiter=',') for label_fname in label_fnames]\n",
    "for ele in sample_rates:\n",
    "    if ele != SR:\n",
    "        print(\"Some sample rates are not equal to 44.1kHz!\")\n"
   ]
  },
  {
   "cell_type": "code",
   "execution_count": 5,
   "id": "41a06a39",
   "metadata": {},
   "outputs": [
    {
     "name": "stdout",
     "output_type": "stream",
     "text": [
      "Name of rec: slurtest01.wav\n",
      "Len in seconds: 16.96\n",
      "Shape of audio: (748032,)\n",
      "Shape of onset schedule: (62,)\n",
      "Onsets from 0.77s to 15.16s\n",
      "\n",
      "Name of rec: slurtest02.wav\n",
      "Len in seconds: 16.20\n",
      "Shape of audio: (714240,)\n",
      "Shape of onset schedule: (61,)\n",
      "Onsets from 0.60s to 14.53s\n",
      "\n",
      "Name of rec: slurtest03.wav\n",
      "Len in seconds: 16.57\n",
      "Shape of audio: (730624,)\n",
      "Shape of onset schedule: (61,)\n",
      "Onsets from 0.84s to 14.70s\n",
      "\n",
      "Name of rec: slurtest04.wav\n",
      "Len in seconds: 15.96\n",
      "Shape of audio: (703884,)\n",
      "Shape of onset schedule: (75,)\n",
      "Onsets from 0.46s to 14.87s\n",
      "\n",
      "Name of rec: slurtest05.wav\n",
      "Len in seconds: 34.10\n",
      "Shape of audio: (1503744,)\n",
      "Shape of onset schedule: (101,)\n",
      "Onsets from 0.49s to 31.76s\n",
      "\n",
      "Name of rec: slurtest06.wav\n",
      "Len in seconds: 49.62\n",
      "Shape of audio: (2188288,)\n",
      "Shape of onset schedule: (350,)\n",
      "Onsets from 0.59s to 47.13s\n",
      "\n",
      "Name of rec: slurtest07.wav\n",
      "Len in seconds: 49.74\n",
      "Shape of audio: (2193408,)\n",
      "Shape of onset schedule: (352,)\n",
      "Onsets from 0.31s to 47.16s\n",
      "\n",
      "Name of rec: slurtest08.wav\n",
      "Len in seconds: 29.14\n",
      "Shape of audio: (1285120,)\n",
      "Shape of onset schedule: (90,)\n",
      "Onsets from 0.62s to 28.17s\n",
      "\n",
      "Name of rec: slurtest09.wav\n",
      "Len in seconds: 36.22\n",
      "Shape of audio: (1597440,)\n",
      "Shape of onset schedule: (68,)\n",
      "Onsets from 0.53s to 33.82s\n",
      "\n",
      "Name of rec: slurtest10.wav\n",
      "Len in seconds: 40.25\n",
      "Shape of audio: (1775104,)\n",
      "Shape of onset schedule: (52,)\n",
      "Onsets from 0.40s to 39.44s\n",
      "\n",
      "Name of rec: slurtest11.wav\n",
      "Len in seconds: 36.17\n",
      "Shape of audio: (1594880,)\n",
      "Shape of onset schedule: (46,)\n",
      "Onsets from 0.32s to 36.15s\n",
      "\n",
      "Name of rec: slurtest12.wav\n",
      "Len in seconds: 31.95\n",
      "Shape of audio: (1409024,)\n",
      "Shape of onset schedule: (32,)\n",
      "Onsets from 1.12s to 27.33s\n",
      "\n",
      "Name of rec: slurtest13.wav\n",
      "Len in seconds: 28.11\n",
      "Shape of audio: (1239508,)\n",
      "Shape of onset schedule: (44,)\n",
      "Onsets from 0.84s to 25.83s\n",
      "\n",
      "Name of rec: slurtest14.wav\n",
      "Len in seconds: 29.40\n",
      "Shape of audio: (1296384,)\n",
      "Shape of onset schedule: (53,)\n",
      "Onsets from 0.54s to 27.01s\n",
      "\n",
      "Name of rec: slurtest15.wav\n",
      "Len in seconds: 36.28\n",
      "Shape of audio: (1600000,)\n",
      "Shape of onset schedule: (102,)\n",
      "Onsets from 0.61s to 34.97s\n",
      "\n",
      "Name of rec: slurtest16.wav\n",
      "Len in seconds: 41.77\n",
      "Shape of audio: (1841881,)\n",
      "Shape of onset schedule: (116,)\n",
      "Onsets from 0.75s to 40.66s\n",
      "\n",
      "Name of rec: slurtest17.wav\n",
      "Len in seconds: 101.25\n",
      "Shape of audio: (4465056,)\n",
      "Shape of onset schedule: (164,)\n",
      "Onsets from 1.08s to 97.81s\n",
      "\n",
      "Name of rec: slurtest18.wav\n",
      "Len in seconds: 55.86\n",
      "Shape of audio: (2463367,)\n",
      "Shape of onset schedule: (32,)\n",
      "Onsets from 0.55s to 51.79s\n",
      "\n",
      "Name of rec: slurtest19.wav\n",
      "Len in seconds: 56.62\n",
      "Shape of audio: (2497024, 2)\n",
      "Shape of onset schedule: (203,)\n",
      "Onsets from 0.61s to 55.00s\n",
      "\n"
     ]
    },
    {
     "data": {
      "text/plain": [
       "[None,\n",
       " None,\n",
       " None,\n",
       " None,\n",
       " None,\n",
       " None,\n",
       " None,\n",
       " None,\n",
       " None,\n",
       " None,\n",
       " None,\n",
       " None,\n",
       " None,\n",
       " None,\n",
       " None,\n",
       " None,\n",
       " None,\n",
       " None,\n",
       " None]"
      ]
     },
     "execution_count": 5,
     "metadata": {},
     "output_type": "execute_result"
    }
   ],
   "source": [
    "[print(\"Name of rec: {}\\n\"\n",
    "       \"Len in seconds: {:.2f}\\n\"\n",
    "       \"Shape of audio: {}\\n\"\n",
    "       \"Shape of onset schedule: {}\\n\"\n",
    "       \"Onsets from {:.2f}s to {:.2f}s\\n\".format(\n",
    "                                        os.path.split(fname)[1], \n",
    "                                        audio.shape[0]/44100,\n",
    "                                        audio.shape,\n",
    "                                        schedule.shape,\n",
    "                                        schedule.min(),\n",
    "                                        schedule.max(),\n",
    "                                        ) \n",
    "    ) for fname, audio, schedule in zip(audio_fnames, audios, onset_schedules)\n",
    "]"
   ]
  },
  {
   "cell_type": "code",
   "execution_count": 6,
   "id": "df3577bc",
   "metadata": {},
   "outputs": [
    {
     "ename": "NameError",
     "evalue": "name 'rms' is not defined",
     "output_type": "error",
     "traceback": [
      "\u001b[0;31m---------------------------------------------------------------------------\u001b[0m",
      "\u001b[0;31mNameError\u001b[0m                                 Traceback (most recent call last)",
      "\u001b[1;32m/Users/simonfal/kth-master/exjobb/beyondPianoRoll/flow.ipynb Cell 5'\u001b[0m in \u001b[0;36m<cell line: 18>\u001b[0;34m()\u001b[0m\n\u001b[1;32m     <a href='vscode-notebook-cell:/Users/simonfal/kth-master/exjobb/beyondPianoRoll/flow.ipynb#ch0000004?line=10'>11</a>\u001b[0m     \u001b[39melif\u001b[39;00m t\u001b[39m==\u001b[39m\u001b[39m\"\u001b[39m\u001b[39mwhite_noise\u001b[39m\u001b[39m\"\u001b[39m:\n\u001b[1;32m     <a href='vscode-notebook-cell:/Users/simonfal/kth-master/exjobb/beyondPianoRoll/flow.ipynb#ch0000004?line=11'>12</a>\u001b[0m         \u001b[39m# p contains snr_db parameter\u001b[39;00m\n\u001b[1;32m     <a href='vscode-notebook-cell:/Users/simonfal/kth-master/exjobb/beyondPianoRoll/flow.ipynb#ch0000004?line=12'>13</a>\u001b[0m         \u001b[39mreturn\u001b[39;00m audio\u001b[39m+\u001b[39mnp\u001b[39m.\u001b[39mrandom\u001b[39m.\u001b[39mnormal(\n\u001b[1;32m     <a href='vscode-notebook-cell:/Users/simonfal/kth-master/exjobb/beyondPianoRoll/flow.ipynb#ch0000004?line=13'>14</a>\u001b[0m             scale\u001b[39m=\u001b[39mnp\u001b[39m.\u001b[39mmean(rms(y\u001b[39m=\u001b[39maudio))\u001b[39m/\u001b[39m(\u001b[39m10\u001b[39m\u001b[39m*\u001b[39m\u001b[39m*\u001b[39m(p\u001b[39m/\u001b[39m\u001b[39m20\u001b[39m)),\n\u001b[1;32m     <a href='vscode-notebook-cell:/Users/simonfal/kth-master/exjobb/beyondPianoRoll/flow.ipynb#ch0000004?line=14'>15</a>\u001b[0m             size\u001b[39m=\u001b[39maudio\u001b[39m.\u001b[39mshape\n\u001b[1;32m     <a href='vscode-notebook-cell:/Users/simonfal/kth-master/exjobb/beyondPianoRoll/flow.ipynb#ch0000004?line=15'>16</a>\u001b[0m             )\n\u001b[0;32m---> <a href='vscode-notebook-cell:/Users/simonfal/kth-master/exjobb/beyondPianoRoll/flow.ipynb#ch0000004?line=17'>18</a>\u001b[0m noisy_audios \u001b[39m=\u001b[39m [augmentation(audio, t\u001b[39m=\u001b[39m\u001b[39m\"\u001b[39m\u001b[39mwhite_noise\u001b[39m\u001b[39m\"\u001b[39m, p\u001b[39m=\u001b[39mSNR_DB) \u001b[39mfor\u001b[39;00m audio \u001b[39min\u001b[39;00m audios]\n\u001b[1;32m     <a href='vscode-notebook-cell:/Users/simonfal/kth-master/exjobb/beyondPianoRoll/flow.ipynb#ch0000004?line=18'>19</a>\u001b[0m fig, axs \u001b[39m=\u001b[39m plt\u001b[39m.\u001b[39msubplots(\u001b[39m2\u001b[39m,\u001b[39m1\u001b[39m)\n\u001b[1;32m     <a href='vscode-notebook-cell:/Users/simonfal/kth-master/exjobb/beyondPianoRoll/flow.ipynb#ch0000004?line=19'>20</a>\u001b[0m axs[\u001b[39m0\u001b[39m]\u001b[39m.\u001b[39mplot(audios[\u001b[39m0\u001b[39m][:\u001b[39m100000\u001b[39m])\n",
      "\u001b[1;32m/Users/simonfal/kth-master/exjobb/beyondPianoRoll/flow.ipynb Cell 5'\u001b[0m in \u001b[0;36m<listcomp>\u001b[0;34m(.0)\u001b[0m\n\u001b[1;32m     <a href='vscode-notebook-cell:/Users/simonfal/kth-master/exjobb/beyondPianoRoll/flow.ipynb#ch0000004?line=10'>11</a>\u001b[0m     \u001b[39melif\u001b[39;00m t\u001b[39m==\u001b[39m\u001b[39m\"\u001b[39m\u001b[39mwhite_noise\u001b[39m\u001b[39m\"\u001b[39m:\n\u001b[1;32m     <a href='vscode-notebook-cell:/Users/simonfal/kth-master/exjobb/beyondPianoRoll/flow.ipynb#ch0000004?line=11'>12</a>\u001b[0m         \u001b[39m# p contains snr_db parameter\u001b[39;00m\n\u001b[1;32m     <a href='vscode-notebook-cell:/Users/simonfal/kth-master/exjobb/beyondPianoRoll/flow.ipynb#ch0000004?line=12'>13</a>\u001b[0m         \u001b[39mreturn\u001b[39;00m audio\u001b[39m+\u001b[39mnp\u001b[39m.\u001b[39mrandom\u001b[39m.\u001b[39mnormal(\n\u001b[1;32m     <a href='vscode-notebook-cell:/Users/simonfal/kth-master/exjobb/beyondPianoRoll/flow.ipynb#ch0000004?line=13'>14</a>\u001b[0m             scale\u001b[39m=\u001b[39mnp\u001b[39m.\u001b[39mmean(rms(y\u001b[39m=\u001b[39maudio))\u001b[39m/\u001b[39m(\u001b[39m10\u001b[39m\u001b[39m*\u001b[39m\u001b[39m*\u001b[39m(p\u001b[39m/\u001b[39m\u001b[39m20\u001b[39m)),\n\u001b[1;32m     <a href='vscode-notebook-cell:/Users/simonfal/kth-master/exjobb/beyondPianoRoll/flow.ipynb#ch0000004?line=14'>15</a>\u001b[0m             size\u001b[39m=\u001b[39maudio\u001b[39m.\u001b[39mshape\n\u001b[1;32m     <a href='vscode-notebook-cell:/Users/simonfal/kth-master/exjobb/beyondPianoRoll/flow.ipynb#ch0000004?line=15'>16</a>\u001b[0m             )\n\u001b[0;32m---> <a href='vscode-notebook-cell:/Users/simonfal/kth-master/exjobb/beyondPianoRoll/flow.ipynb#ch0000004?line=17'>18</a>\u001b[0m noisy_audios \u001b[39m=\u001b[39m [augmentation(audio, t\u001b[39m=\u001b[39;49m\u001b[39m\"\u001b[39;49m\u001b[39mwhite_noise\u001b[39;49m\u001b[39m\"\u001b[39;49m, p\u001b[39m=\u001b[39;49mSNR_DB) \u001b[39mfor\u001b[39;00m audio \u001b[39min\u001b[39;00m audios]\n\u001b[1;32m     <a href='vscode-notebook-cell:/Users/simonfal/kth-master/exjobb/beyondPianoRoll/flow.ipynb#ch0000004?line=18'>19</a>\u001b[0m fig, axs \u001b[39m=\u001b[39m plt\u001b[39m.\u001b[39msubplots(\u001b[39m2\u001b[39m,\u001b[39m1\u001b[39m)\n\u001b[1;32m     <a href='vscode-notebook-cell:/Users/simonfal/kth-master/exjobb/beyondPianoRoll/flow.ipynb#ch0000004?line=19'>20</a>\u001b[0m axs[\u001b[39m0\u001b[39m]\u001b[39m.\u001b[39mplot(audios[\u001b[39m0\u001b[39m][:\u001b[39m100000\u001b[39m])\n",
      "\u001b[1;32m/Users/simonfal/kth-master/exjobb/beyondPianoRoll/flow.ipynb Cell 5'\u001b[0m in \u001b[0;36maugmentation\u001b[0;34m(audio, t, p)\u001b[0m\n\u001b[1;32m     <a href='vscode-notebook-cell:/Users/simonfal/kth-master/exjobb/beyondPianoRoll/flow.ipynb#ch0000004?line=9'>10</a>\u001b[0m     \u001b[39mreturn\u001b[39;00m audio\n\u001b[1;32m     <a href='vscode-notebook-cell:/Users/simonfal/kth-master/exjobb/beyondPianoRoll/flow.ipynb#ch0000004?line=10'>11</a>\u001b[0m \u001b[39melif\u001b[39;00m t\u001b[39m==\u001b[39m\u001b[39m\"\u001b[39m\u001b[39mwhite_noise\u001b[39m\u001b[39m\"\u001b[39m:\n\u001b[1;32m     <a href='vscode-notebook-cell:/Users/simonfal/kth-master/exjobb/beyondPianoRoll/flow.ipynb#ch0000004?line=11'>12</a>\u001b[0m     \u001b[39m# p contains snr_db parameter\u001b[39;00m\n\u001b[1;32m     <a href='vscode-notebook-cell:/Users/simonfal/kth-master/exjobb/beyondPianoRoll/flow.ipynb#ch0000004?line=12'>13</a>\u001b[0m     \u001b[39mreturn\u001b[39;00m audio\u001b[39m+\u001b[39mnp\u001b[39m.\u001b[39mrandom\u001b[39m.\u001b[39mnormal(\n\u001b[0;32m---> <a href='vscode-notebook-cell:/Users/simonfal/kth-master/exjobb/beyondPianoRoll/flow.ipynb#ch0000004?line=13'>14</a>\u001b[0m         scale\u001b[39m=\u001b[39mnp\u001b[39m.\u001b[39mmean(rms(y\u001b[39m=\u001b[39maudio))\u001b[39m/\u001b[39m(\u001b[39m10\u001b[39m\u001b[39m*\u001b[39m\u001b[39m*\u001b[39m(p\u001b[39m/\u001b[39m\u001b[39m20\u001b[39m)),\n\u001b[1;32m     <a href='vscode-notebook-cell:/Users/simonfal/kth-master/exjobb/beyondPianoRoll/flow.ipynb#ch0000004?line=14'>15</a>\u001b[0m         size\u001b[39m=\u001b[39maudio\u001b[39m.\u001b[39mshape\n\u001b[1;32m     <a href='vscode-notebook-cell:/Users/simonfal/kth-master/exjobb/beyondPianoRoll/flow.ipynb#ch0000004?line=15'>16</a>\u001b[0m         )\n",
      "\u001b[0;31mNameError\u001b[0m: name 'rms' is not defined"
     ]
    }
   ],
   "source": [
    "# Add white noise to recordings\n",
    "# Noise variance is adjusted to a fixed Signal Noise Ratio computed recording-wise\n",
    "# snr_db = 20 means S/N=10\n",
    "# snr_db = 10 means S/N≈3.2\n",
    "SNR_DB = 10\n",
    "snr_v = 10**(SNR_DB/20)\n",
    "\n",
    "def augmentation(audio, t=None, p=None):\n",
    "    if t==None:\n",
    "        return audio\n",
    "    elif t==\"white_noise\":\n",
    "        # p contains snr_db parameter\n",
    "        return audio+np.random.normal(\n",
    "            scale=np.mean(rms(y=audio))/(10**(p/20)),\n",
    "            size=audio.shape\n",
    "            )\n",
    "\n",
    "noisy_audios = [augmentation(audio, t=\"white_noise\", p=SNR_DB) for audio in audios]\n",
    "fig, axs = plt.subplots(2,1)\n",
    "axs[0].plot(audios[0][:100000])\n",
    "axs[1].plot(noisy_audios[0][:100000])"
   ]
  },
  {
   "cell_type": "code",
   "execution_count": 8,
   "id": "78d4d97e",
   "metadata": {},
   "outputs": [
    {
     "name": "stdout",
     "output_type": "stream",
     "text": [
      "(1697,)\n"
     ]
    }
   ],
   "source": [
    "onset_vectors = [get_label_vector(sched, len(audio)/SR, HOP, SR)\n",
    "    for (sched, audio) in zip(onset_schedules, audios)\n",
    "]\n",
    "print(onset_vectors[0].shape)"
   ]
  },
  {
   "cell_type": "code",
   "execution_count": 9,
   "id": "9d6656f4",
   "metadata": {},
   "outputs": [
    {
     "name": "stdout",
     "output_type": "stream",
     "text": [
      "(1711, 80, 3)\n",
      "(1697, 80, 15, 3)\n"
     ]
    }
   ],
   "source": [
    "# Create data and normalize\n",
    "mm_proc_frames = [preprocessor(fname) for fname in audio_fnames]\n",
    "mm_frames_normalized = [cnn_normalize(frame_set) for frame_set in mm_proc_frames]\n",
    "print(mm_frames_normalized[0].shape)\n",
    "X = [[\n",
    "    data[i-CONTEXT:i+CONTEXT+1,:,:] \n",
    "    for i in range(CONTEXT, data.shape[0]-CONTEXT)\n",
    "] for data in mm_frames_normalized]\n",
    "X = [np.transpose(np.stack(data, 0), [0,2,1,3]) for data in X]\n",
    "print(X[0].shape)"
   ]
  },
  {
   "cell_type": "code",
   "execution_count": 10,
   "id": "5783cde5",
   "metadata": {},
   "outputs": [
    {
     "name": "stdout",
     "output_type": "stream",
     "text": [
      "[array([ 0, 15, 13,  8, 14,  4,  7,  9,  6, 10, 17, 18,  2]), array([11, 16,  1,  3]), array([12,  5])]\n"
     ]
    }
   ],
   "source": [
    "from sklearn.model_selection import train_test_split\n",
    "random_seed = 119\n",
    "test = 0.1\n",
    "validation = 0.2\n",
    "training = 0.7\n",
    "train_idx, test_val_idx = train_test_split(np.arange(len(audio_fnames)), test_size=test+validation, random_state=random_seed)\n",
    "val_idx, test_idx = train_test_split(test_val_idx, test_size=test/(test+validation), random_state=random_seed)\n",
    "idx_split = [train_idx, val_idx, test_idx]\n",
    "print(idx_split)"
   ]
  },
  {
   "cell_type": "code",
   "execution_count": 11,
   "id": "9c68d180",
   "metadata": {},
   "outputs": [],
   "source": [
    "X_train, X_val, X_test = [\n",
    "    np.concatenate([X[i] for i in idx]) \n",
    "    for idx in idx_split\n",
    "]\n",
    "y_train, y_val, y_test = [\n",
    "    np.concatenate([onset_vectors[i] for i in idx]) \n",
    "    for idx in idx_split\n",
    "]\n",
    "\n",
    "train_onset_ratio = y_train.sum()/len(y_train)"
   ]
  },
  {
   "cell_type": "code",
   "execution_count": 12,
   "id": "8fa8bbca",
   "metadata": {},
   "outputs": [
    {
     "name": "stdout",
     "output_type": "stream",
     "text": [
      "0.02823809325040698\n"
     ]
    }
   ],
   "source": [
    "print(train_onset_ratio)"
   ]
  },
  {
   "cell_type": "code",
   "execution_count": 13,
   "id": "0438ee7b",
   "metadata": {},
   "outputs": [],
   "source": [
    "# Normalize\n",
    "center_frames_train = X_train[:,:,7,:]\n",
    "mean_train = center_frames_train.mean(0).reshape((1,80,1,3))\n",
    "std_train = center_frames_train.std(0, ddof=1).reshape((1,80,1,3))\n",
    "\n",
    "X_train = (X_train - mean_train)/std_train\n",
    "X_val = (X_val - mean_train)/std_train\n",
    "X_test = (X_test - mean_train)/std_train"
   ]
  },
  {
   "cell_type": "code",
   "execution_count": 97,
   "id": "6af74962",
   "metadata": {},
   "outputs": [
    {
     "name": "stdout",
     "output_type": "stream",
     "text": [
      "Model: \"sequential_9\"\n",
      "_________________________________________________________________\n",
      " Layer (type)                Output Shape              Param #   \n",
      "=================================================================\n",
      " permute_9 (Permute)         (None, 15, 80, 3)         0         \n",
      "                                                                 \n",
      " conv2d_18 (Conv2D)          (None, 9, 78, 10)         640       \n",
      "                                                                 \n",
      " max_pooling2d_18 (MaxPoolin  (None, 9, 26, 10)        0         \n",
      " g2D)                                                            \n",
      "                                                                 \n",
      " conv2d_19 (Conv2D)          (None, 7, 24, 20)         1820      \n",
      "                                                                 \n",
      " max_pooling2d_19 (MaxPoolin  (None, 7, 8, 20)         0         \n",
      " g2D)                                                            \n",
      "                                                                 \n",
      " flatten_9 (Flatten)         (None, 1120)              0         \n",
      "                                                                 \n",
      " dropout_16 (Dropout)        (None, 1120)              0         \n",
      "                                                                 \n",
      " dense_18 (Dense)            (None, 256)               286976    \n",
      "                                                                 \n",
      " dropout_17 (Dropout)        (None, 256)               0         \n",
      "                                                                 \n",
      " dense_19 (Dense)            (None, 1)                 257       \n",
      "                                                                 \n",
      "=================================================================\n",
      "Total params: 289,693\n",
      "Trainable params: 287,233\n",
      "Non-trainable params: 2,460\n",
      "_________________________________________________________________\n"
     ]
    }
   ],
   "source": [
    "# Load model\n",
    "from models.bock2013pret import get_model\n",
    "(model, norm_layer)=get_model(finetune=True)\n",
    "\n",
    "model.summary()"
   ]
  },
  {
   "cell_type": "code",
   "execution_count": 98,
   "id": "47c79011",
   "metadata": {},
   "outputs": [],
   "source": [
    "from modules.metrics import f1\n",
    "loss_fn = tf.keras.losses.BinaryCrossentropy(from_logits=False)\n",
    "optimizer = tf.keras.optimizers.Adam()\n",
    "metrics = [\n",
    "    tf.keras.metrics.TruePositives(name='tp', thresholds=0.5),\n",
    "    tf.keras.metrics.TrueNegatives(name='tn', thresholds=0.5),\n",
    "    tf.keras.metrics.FalsePositives(name='fp', thresholds=0.5),\n",
    "    tf.keras.metrics.FalseNegatives(name='fn', thresholds=0.5),\n",
    "]\n",
    "\n",
    "log_dir = \"results/tensorboard/\" + datetime.datetime.now().strftime(\"%Y%m%d-%H%M%S\")\n",
    "tensorboard_callback = tf.keras.callbacks.TensorBoard(log_dir=log_dir, histogram_freq=1)\n",
    "\n",
    "model.compile(optimizer=optimizer,\n",
    "              loss=loss_fn,\n",
    "              metrics=metrics)\n"
   ]
  },
  {
   "cell_type": "code",
   "execution_count": 99,
   "id": "83087052",
   "metadata": {},
   "outputs": [],
   "source": [
    "history = model.fit(\n",
    "    x=X_train,\n",
    "    y=y_train,\n",
    "    validation_data=(X_val, y_val),\n",
    "    class_weight = {0: 1., 1: 1/train_onset_ratio},\n",
    "    epochs = 30,\n",
    "    batch_size = 256,\n",
    "    callbacks=[tensorboard_callback]\n",
    ")"
   ]
  },
  {
   "cell_type": "code",
   "execution_count": 39,
   "id": "c2d93f3c",
   "metadata": {},
   "outputs": [
    {
     "name": "stdout",
     "output_type": "stream",
     "text": [
      "F-score before postprocessing: 0.4441067207024654\n"
     ]
    }
   ],
   "source": [
    "THRES = ''\n",
    "VAL = ''\n",
    "TPS = history.history[VAL + 'tp' + THRES]\n",
    "FNS = history.history[VAL + 'fn' + THRES]\n",
    "FPS = history.history[VAL + 'fp' + THRES]\n",
    "print(\"F-score before postprocessing:\", 2*TPS[-2]/(2*TPS[-2] + FPS[-2] + FNS[-2]))"
   ]
  },
  {
   "cell_type": "code",
   "execution_count": 40,
   "id": "c361d908",
   "metadata": {},
   "outputs": [
    {
     "data": {
      "text/plain": [
       "<matplotlib.legend.Legend at 0x155521370>"
      ]
     },
     "execution_count": 40,
     "metadata": {},
     "output_type": "execute_result"
    },
    {
     "data": {
      "image/png": "[encoded data removed]",
      "text/plain": [
       "<Figure size 432x288 with 1 Axes>"
      ]
     },
     "metadata": {
      "needs_background": "light"
     },
     "output_type": "display_data"
    }
   ],
   "source": [
    "plt.plot(history.history['loss'])\n",
    "plt.plot(history.history['val_loss'])\n",
    "plt.legend([\"Training loss\", \"Validation loss\"])"
   ]
  },
  {
   "cell_type": "code",
   "execution_count": 41,
   "id": "1d83928b",
   "metadata": {},
   "outputs": [
    {
     "data": {
      "text/plain": [
       "<matplotlib.legend.Legend at 0x155479b50>"
      ]
     },
     "execution_count": 41,
     "metadata": {},
     "output_type": "execute_result"
    },
    {
     "data": {
      "image/png": "[encoded data removed]",
      "text/plain": [
       "<Figure size 1440x288 with 2 Axes>"
      ]
     },
     "metadata": {
      "needs_background": "light"
     },
     "output_type": "display_data"
    }
   ],
   "source": [
    "fig, axs = plt.subplots(1,2,figsize=(20,4))\n",
    "# Prec. training\n",
    "axs[0].plot([tp/(fp+tp) for (tp, fp) in zip(history.history['tp'], history.history['fp'])], color='lightblue')\n",
    "# Rec. training\n",
    "axs[0].plot([tp/(fn+tp) for (tp, fn) in zip(history.history['tp'], history.history['fn'])], color='lightgreen')\n",
    "# F-measure\n",
    "axs[0].plot([2*tp/(2*tp+fp+fn) for (tp, fp, fn) in zip(history.history['tp'], history.history['fp'], history.history['fn'])], 'k:')\n",
    "axs[0].legend([\"Precision\", \"Recall\", \"F-measure\"])\n",
    "\n",
    "# Prec. training\n",
    "axs[1].plot([tp/(fp+tp) for (tp, fp) in zip(history.history['val_tp'], history.history['val_fp'])], color='lightblue')\n",
    "# Rec. training\n",
    "axs[1].plot([tp/(fn+tp) for (tp, fn) in zip(history.history['val_tp'], history.history['val_fn'])], color='lightgreen')\n",
    "# F-measure\n",
    "axs[1].plot([2*tp/(2*tp+fp+fn) for (tp, fp, fn) in zip(history.history['val_tp'], history.history['val_fp'], history.history['val_fn'])], 'k:')\n",
    "axs[1].legend([\"Precision\", \"Recall\", \"F-measure\"])"
   ]
  },
  {
   "cell_type": "code",
   "execution_count": 37,
   "id": "4a2a98df",
   "metadata": {},
   "outputs": [],
   "source": [
    "training_name = \"finetune-all-plus-dropout\"\n",
    "with open('results/cnn-training-220330/{}_history.pickle'.format(training_name), 'wb') as file_pi:\n",
    "    pickle.dump(history.history, file_pi)"
   ]
  },
  {
   "cell_type": "code",
   "execution_count": 38,
   "id": "e99bae2f",
   "metadata": {},
   "outputs": [
    {
     "name": "stderr",
     "output_type": "stream",
     "text": [
      "WARNING:absl:Found untraced functions such as SpecialActivation_layer_call_fn, SpecialActivation_layer_call_and_return_conditional_losses, SpecialActivation_layer_call_fn, SpecialActivation_layer_call_and_return_conditional_losses while saving (showing 4 of 4). These functions will not be directly callable after loading.\n"
     ]
    },
    {
     "name": "stdout",
     "output_type": "stream",
     "text": [
      "INFO:tensorflow:Assets written to: results/cnn-training-220330/finetune-all-plus-dropout_model/assets\n"
     ]
    },
    {
     "name": "stderr",
     "output_type": "stream",
     "text": [
      "INFO:tensorflow:Assets written to: results/cnn-training-220330/finetune-all-plus-dropout_model/assets\n"
     ]
    }
   ],
   "source": [
    "model.save('results/cnn-training-220330/{}_model'.format(training_name))\n",
    "\n"
   ]
  },
  {
   "cell_type": "markdown",
   "id": "d0c015ec",
   "metadata": {},
   "source": [
    "## Audio analysis and onset extraction"
   ]
  },
  {
   "cell_type": "code",
   "execution_count": 84,
   "id": "3e488ddb",
   "metadata": {},
   "outputs": [
    {
     "name": "stdout",
     "output_type": "stream",
     "text": [
      "Test recordings:  [13  6]\n",
      "Length of recordings:  ['28.1 s', '49.6 s']\n",
      "[2810.675736961451, 4962.104308390023]\n",
      "Length of onset vectors:  [2811, 4963]\n",
      "Number of annotated onsets:  [44, 350]  =  394\n"
     ]
    },
    {
     "name": "stderr",
     "output_type": "stream",
     "text": [
      "/usr/local/lib/python3.9/site-packages/madmom/audio/signal.py:457: UserWarning: Deprecated as of version 0.16. Please use madmom.io.audio.load_wave_file instead. Will be removed in version 0.18.\n",
      "  warnings.warn('Deprecated as of version 0.16. Please use madmom.io.audio.'\n",
      "/usr/local/lib/python3.9/site-packages/madmom/io/audio.py:493: WavFileWarning: Chunk (non-data) not understood, skipping it.\n",
      "  file_sample_rate, signal = wavfile.read(filename, mmap=True)\n"
     ]
    }
   ],
   "source": [
    "F_RATE = HOP/SR \n",
    "test_idx = np.array([12, 5])\n",
    "test_audio_paths = ['datasets/initslurtest_vn/initslurtest_vn_wav/slurtest{:02d}.wav'.format(test_index+1) for test_index in test_idx]\n",
    "test_audios = [madmom.audio.signal.load_wave_file(path)[0] for path in test_audio_paths]\n",
    "test_lengths = [len(test_audio)/SR for test_audio in test_audios]\n",
    "test_onsets = [genfromtxt('datasets/initslurtest_vn/initslurtest_vn_annotations/{:02d}.txt'.format(test_index+1), delimiter=',') for test_index in test_idx]\n",
    "test_onset_vectors = [get_label_vector(test_onset, len(test_audio)/SR, HOP, SR) for test_audio, test_onset in zip(test_audios, test_onsets)]\n",
    "print(\"Test recordings: \", test_idx+1)\n",
    "print(\"Length of recordings: \", [\"{:.1f} s\".format(l) for l in test_lengths])\n",
    "print([len(a)/HOP for a in test_audios])\n",
    "print(\"Length of onset vectors: \", [len(v) for v in test_onset_vectors])\n",
    "print(\"Number of annotated onsets: \", \n",
    "    [len(test_onset) for test_onset in test_onsets], \n",
    "    \" = \", np.sum([len(test_onset) for test_onset in test_onsets])\n",
    ")"
   ]
  },
  {
   "cell_type": "code",
   "execution_count": 85,
   "id": "40d836e4",
   "metadata": {},
   "outputs": [],
   "source": [
    "full_audio = np.concatenate(test_audios)\n",
    "cum_lengths = np.concatenate(([0.0], np.cumsum(test_lengths)))[:-1]\n",
    "full_onsets = np.concatenate(\n",
    "    [shift + onset for (shift, onset) in zip(cum_lengths, test_onsets)]\n",
    ")\n",
    "full_onset_vectors = np.concatenate(test_onset_vectors)"
   ]
  },
  {
   "cell_type": "code",
   "execution_count": 86,
   "id": "741d8287",
   "metadata": {},
   "outputs": [
    {
     "ename": "NameError",
     "evalue": "name 'X_tra' is not defined",
     "output_type": "error",
     "traceback": [
      "\u001b[0;31m---------------------------------------------------------------------------\u001b[0m",
      "\u001b[0;31mNameError\u001b[0m                                 Traceback (most recent call last)",
      "\u001b[1;32m/Users/simonfal/kth-master/exjobb/beyondPianoRoll/flow.ipynb Cell 23'\u001b[0m in \u001b[0;36m<cell line: 3>\u001b[0;34m()\u001b[0m\n\u001b[1;32m      <a href='vscode-notebook-cell:/Users/simonfal/kth-master/exjobb/beyondPianoRoll/flow.ipynb#ch0000028?line=0'>1</a>\u001b[0m \u001b[39mfrom\u001b[39;00m \u001b[39mmodels\u001b[39;00m\u001b[39m.\u001b[39;00m\u001b[39mbock2013pret\u001b[39;00m \u001b[39mimport\u001b[39;00m get_model\n\u001b[1;32m      <a href='vscode-notebook-cell:/Users/simonfal/kth-master/exjobb/beyondPianoRoll/flow.ipynb#ch0000028?line=1'>2</a>\u001b[0m (base_model, norm_layer)\u001b[39m=\u001b[39mget_model()\n\u001b[0;32m----> <a href='vscode-notebook-cell:/Users/simonfal/kth-master/exjobb/beyondPianoRoll/flow.ipynb#ch0000028?line=2'>3</a>\u001b[0m test_model_out \u001b[39m=\u001b[39m model\u001b[39m.\u001b[39mpredict(X_tra)\n",
      "\u001b[0;31mNameError\u001b[0m: name 'X_tra' is not defined"
     ]
    }
   ],
   "source": [
    "from models.bock2013pret import get_model\n",
    "(base_model, norm_layer)=get_model()\n",
    "test_model_out = model.predict(X_tra)"
   ]
  },
  {
   "cell_type": "code",
   "execution_count": 95,
   "id": "6a820900",
   "metadata": {},
   "outputs": [
    {
     "data": {
      "text/plain": [
       "416"
      ]
     },
     "execution_count": 95,
     "metadata": {},
     "output_type": "execute_result"
    }
   ],
   "source": [
    "KERNEL_SIZE = 5\n",
    "N_PRE = 5\n",
    "N_POST = 1\n",
    "THRES = 0.5\n",
    "\n",
    "test_peaks = madmom.features.onsets.peak_picking(\n",
    "                                    activations=test_model_out, \n",
    "                                    threshold=THRES, \n",
    "                                    smooth=KERNEL_SIZE, \n",
    "                                    pre_avg=N_PRE, \n",
    "                                    post_avg=N_POST, \n",
    "                                    pre_max=N_PRE, \n",
    "                                    post_max=N_POST\n",
    ")[0].astype(np.float32)*F_RATE\n",
    "\n",
    "len(test_peaks)\n"
   ]
  },
  {
   "cell_type": "code",
   "execution_count": null,
   "id": "db506487",
   "metadata": {},
   "outputs": [
    {
     "name": "stdout",
     "output_type": "stream",
     "text": [
      "[10.309999 10.84     11.38     11.96     12.45     13.03    ]\n"
     ]
    },
    {
     "data": {
      "text/plain": [
       "<matplotlib.collections.PathCollection at 0x1529dfee0>"
      ]
     },
     "execution_count": 51,
     "metadata": {},
     "output_type": "execute_result"
    },
    {
     "data": {
      "image/png": "[encoded data removed]",
      "text/plain": [
       "<Figure size 432x288 with 1 Axes>"
      ]
     },
     "metadata": {
      "needs_background": "light"
     },
     "output_type": "display_data"
    }
   ],
   "source": [
    "start_sec = 10\n",
    "end_sec = 14\n",
    "selected_peaks = test_peaks[np.intersect1d(\n",
    "    np.where(test_peaks>=start_sec)[0],\n",
    "    np.where(test_peaks<end_sec)[0])\n",
    "]\n",
    "selected_onsets = full_onsets[np.intersect1d(\n",
    "    np.where(full_onsets>=start_sec)[0],\n",
    "    np.where(full_onsets<end_sec)[0])\n",
    "]\n",
    "print(selected_peaks)\n",
    "plt.scatter(selected_peaks, np.zeros_like(selected_peaks), marker='x', color='blue')\n",
    "plt.scatter(selected_onsets, np.zeros_like(selected_onsets), marker='x', color='green')"
   ]
  },
  {
   "cell_type": "code",
   "execution_count": 96,
   "id": "10d8b049",
   "metadata": {},
   "outputs": [
    {
     "name": "stdout",
     "output_type": "stream",
     "text": [
      "374\n",
      "Precision: 89.9 %\n",
      "Recall: 94.9 %\n",
      "F-score: 92.3 %\n"
     ]
    }
   ],
   "source": [
    "from analyze_detection import evaluate\n",
    "\n",
    "true = full_onsets\n",
    "pred = test_peaks\n",
    "\n",
    "TOL = 0.025\n",
    "[CD,FN,FP,doubles,merged] = evaluate(true, pred, tol_sec=TOL)\n",
    "print(CD)\n",
    "print(\"Precision: {:.1f} %\".format( 100*CD/(CD+FP)))\n",
    "print(\"Recall: {:.1f} %\".format( 100*CD/(CD+FN)))\n",
    "print(\"F-score: {:.1f} %\".format( 200*CD/(2*CD+FP+FN)))"
   ]
  },
  {
   "cell_type": "code",
   "execution_count": 82,
   "id": "238a057a",
   "metadata": {},
   "outputs": [
    {
     "name": "stdout",
     "output_type": "stream",
     "text": [
      "Cannot plot selected region, choose other start/dur values\n"
     ]
    },
    {
     "data": {
      "text/plain": [
       "<Figure size 1800x360 with 0 Axes>"
      ]
     },
     "metadata": {},
     "output_type": "display_data"
    }
   ],
   "source": [
    "start_sec = 30\n",
    "dur_sec = 5\n",
    "\n",
    "selected_audio = full_audio[start_sec*SR:(start_sec+dur_sec)*SR]\n",
    "selected_onsets = full_onsets[np.intersect1d(\n",
    "        np.where(full_onsets>=start_sec)[0], \n",
    "        np.where(full_onsets<start_sec+dur_sec)[0]\n",
    ")]\n",
    "selected_onehot = full_onset_vectors[int(start_sec/F_RATE):int((start_sec+dur_sec)/F_RATE)]\n",
    "fig = plt.figure(figsize=(25,5))\n",
    "if start_sec + dur_sec < len(full_audio)/SR:\n",
    "    \n",
    "    \n",
    "    plt.plot(\n",
    "        np.linspace(start_sec, start_sec+dur_sec, dur_sec*SR),\n",
    "        selected_audio, \n",
    "        color=\"lightgray\"\n",
    "    )\n",
    "    for i, onset in enumerate(selected_onehot):\n",
    "        if onset==1:\n",
    "            plt.scatter(start_sec + i*F_RATE/dur_sec, 0, color='green')\n",
    "    plt.xlabel(\"Seconds\")\n",
    "    plt.show()\n",
    "\n",
    "else:\n",
    "    print(\"Cannot plot selected region, choose other start/dur values\")"
   ]
  },
  {
   "cell_type": "code",
   "execution_count": 81,
   "id": "245acaf2",
   "metadata": {},
   "outputs": [
    {
     "data": {
      "text/plain": [
       "0.01"
      ]
     },
     "execution_count": 81,
     "metadata": {},
     "output_type": "execute_result"
    }
   ],
   "source": []
  },
  {
   "cell_type": "code",
   "execution_count": 22,
   "id": "f2f78602",
   "metadata": {},
   "outputs": [
    {
     "name": "stdout",
     "output_type": "stream",
     "text": [
      "Precision: 58.2 %\n",
      "Recall: 61.5 %\n"
     ]
    }
   ],
   "source": []
  },
  {
   "cell_type": "code",
   "execution_count": null,
   "id": "22736e04",
   "metadata": {},
   "outputs": [],
   "source": [
    "#f = open(\"datasets/initslurtest_vn/model-output/bockmodel-220315-slurtest{:02d}.txt\".format(test_index), \"w\")\n",
    "#for i in range(len(peaks)):\n",
    "#    f.write(str(np.round((peaks[i]+7)*440/44100, decimals=2))+ \"\\n\")\n",
    "#f.close()"
   ]
  },
  {
   "cell_type": "code",
   "execution_count": null,
   "id": "82bf4341",
   "metadata": {},
   "outputs": [],
   "source": []
  }
 ],
 "metadata": {
  "kernelspec": {
   "display_name": "Python 3 (ipykernel)",
   "language": "python",
   "name": "python3"
  },
  "language_info": {
   "codemirror_mode": {
    "name": "ipython",
    "version": 3
   },
   "file_extension": ".py",
   "mimetype": "text/x-python",
   "name": "python",
   "nbconvert_exporter": "python",
   "pygments_lexer": "ipython3",
   "version": "3.9.10"
  }
 },
 "nbformat": 4,
 "nbformat_minor": 5
}
