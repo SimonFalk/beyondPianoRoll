{
 "cells": [
  {
   "cell_type": "code",
   "execution_count": 1,
   "id": "b0f89d5a",
   "metadata": {},
   "outputs": [],
   "source": [
    "import os\n",
    "import pickle\n",
    "import datetime\n",
    "import warnings\n",
    "\n",
    "import numpy as np\n",
    "from numpy import genfromtxt\n",
    "import matplotlib.pyplot as plt\n",
    "from sklearn.model_selection import KFold, train_test_split\n",
    "\n",
    "import tensorflow as tf\n",
    "import madmom\n",
    "\n",
    "from segment import segment_spectrogram\n",
    "from modules.labels import get_label_vector\n",
    "from modules.madmom_cnn_prep import cnn_preprocessor\n",
    "from datasets import Dataset\n",
    "from analyze_detection import evaluate, f_score\n",
    "from models.bock2013pret import get_model\n",
    "\n",
    "%load_ext autoreload\n",
    "%autoreload 2\n",
    "\n",
    "def fxn():\n",
    "    warnings.warn(\"deprecated\", DeprecationWarning)\n",
    "\n",
    "SR = 44100\n",
    "FPS = 100\n",
    "CONTEXT = 7\n",
    "\n"
   ]
  },
  {
   "cell_type": "code",
   "execution_count": 2,
   "id": "d5efad60",
   "metadata": {},
   "outputs": [],
   "source": [
    "# Load Madmom normalization\n",
    "def cnn_normalize(frames):\n",
    "    inv_std = np.load(\"models/bock2013pret_inv_std.npy\")\n",
    "    mean = np.load(\"models/bock2013pret_mean.npy\")\n",
    "    frames_normalized = (frames - np.reshape(mean, (1,80,3)))*np.reshape(inv_std, (1,80,3))\n",
    "    return frames_normalized\n",
    "    "
   ]
  },
  {
   "cell_type": "code",
   "execution_count": 3,
   "id": "29ac37ea",
   "metadata": {},
   "outputs": [
    {
     "name": "stdout",
     "output_type": "stream",
     "text": [
      "Some sample rates are not equal to 44.1kHz!\n",
      "Some sample rates are not equal to 44.1kHz!\n"
     ]
    },
    {
     "name": "stderr",
     "output_type": "stream",
     "text": [
      "/home/simonf/.venv/onsets/lib/python3.8/site-packages/madmom/audio/signal.py:457: UserWarning: Deprecated as of version 0.16. Please use madmom.io.audio.load_wave_file instead. Will be removed in version 0.18.\n",
      "  warnings.warn('Deprecated as of version 0.16. Please use madmom.io.audio.'\n",
      "/home/simonf/.venv/onsets/lib/python3.8/site-packages/madmom/io/audio.py:493: WavFileWarning: Chunk (non-data) not understood, skipping it.\n",
      "  file_sample_rate, signal = wavfile.read(filename, mmap=True)\n"
     ]
    }
   ],
   "source": [
    "ds0 = Dataset(\"initslurtest\")\n",
    "ds1 = Dataset(\"slurtest_add_1\")\n",
    "\n",
    "audio_fnames = ds0.get_audio_paths() + ds1.get_audio_paths()\n",
    "label_fnames = ds0.get_annotation_paths() + ds1.get_annotation_paths()\n",
    "\n",
    "audios = [madmom.audio.signal.load_wave_file(filename)[0] for filename in audio_fnames]\n",
    "sample_rates = [madmom.audio.signal.load_wave_file(filename)[1] for filename in audio_fnames]\n",
    "onset_schedules = [np.loadtxt(label_fname, usecols=0) for label_fname in label_fnames]\n",
    "for ele in sample_rates:\n",
    "    if ele != SR:\n",
    "        print(\"Some sample rates are not equal to 44.1kHz!\")\n"
   ]
  },
  {
   "cell_type": "code",
   "execution_count": 4,
   "id": "ba7d99b1",
   "metadata": {},
   "outputs": [],
   "source": [
    "# Load preprocessing funciton\n",
    "preprocessor = cnn_preprocessor()\n",
    "box_processor = madmom.features.onsets.CNNOnsetProcessor()"
   ]
  },
  {
   "cell_type": "code",
   "execution_count": 5,
   "id": "41a06a39",
   "metadata": {},
   "outputs": [
    {
     "name": "stdout",
     "output_type": "stream",
     "text": [
      "Name of rec: slurtest01.wav\n",
      "Len in seconds: 16.96\n",
      "Shape of audio: (748032,)\n",
      "Shape of onset schedule: (62,)\n",
      "Onsets from 0.77s to 15.16s\n",
      "\n",
      "Name of rec: slurtest02.wav\n",
      "Len in seconds: 16.20\n",
      "Shape of audio: (714240,)\n",
      "Shape of onset schedule: (61,)\n",
      "Onsets from 0.60s to 14.53s\n",
      "\n",
      "Name of rec: slurtest03.wav\n",
      "Len in seconds: 16.57\n",
      "Shape of audio: (730624,)\n",
      "Shape of onset schedule: (61,)\n",
      "Onsets from 0.84s to 14.70s\n",
      "\n",
      "Name of rec: slurtest04.wav\n",
      "Len in seconds: 15.96\n",
      "Shape of audio: (703884,)\n",
      "Shape of onset schedule: (75,)\n",
      "Onsets from 0.46s to 14.87s\n",
      "\n",
      "Name of rec: slurtest05.wav\n",
      "Len in seconds: 34.10\n",
      "Shape of audio: (1503744,)\n",
      "Shape of onset schedule: (101,)\n",
      "Onsets from 0.49s to 31.76s\n",
      "\n",
      "Name of rec: slurtest06.wav\n",
      "Len in seconds: 49.62\n",
      "Shape of audio: (2188288,)\n",
      "Shape of onset schedule: (350,)\n",
      "Onsets from 0.59s to 47.13s\n",
      "\n",
      "Name of rec: slurtest07.wav\n",
      "Len in seconds: 49.74\n",
      "Shape of audio: (2193408,)\n",
      "Shape of onset schedule: (352,)\n",
      "Onsets from 0.31s to 47.16s\n",
      "\n",
      "Name of rec: slurtest08.wav\n",
      "Len in seconds: 29.14\n",
      "Shape of audio: (1285120,)\n",
      "Shape of onset schedule: (90,)\n",
      "Onsets from 0.62s to 28.17s\n",
      "\n",
      "Name of rec: slurtest09.wav\n",
      "Len in seconds: 36.22\n",
      "Shape of audio: (1597440,)\n",
      "Shape of onset schedule: (68,)\n",
      "Onsets from 0.53s to 33.82s\n",
      "\n",
      "Name of rec: slurtest10.wav\n",
      "Len in seconds: 40.25\n",
      "Shape of audio: (1775104,)\n",
      "Shape of onset schedule: (52,)\n",
      "Onsets from 0.40s to 39.44s\n",
      "\n",
      "Name of rec: slurtest11.wav\n",
      "Len in seconds: 36.17\n",
      "Shape of audio: (1594880,)\n",
      "Shape of onset schedule: (46,)\n",
      "Onsets from 0.32s to 36.15s\n",
      "\n",
      "Name of rec: slurtest12.wav\n",
      "Len in seconds: 31.95\n",
      "Shape of audio: (1409024,)\n",
      "Shape of onset schedule: (32,)\n",
      "Onsets from 1.12s to 27.33s\n",
      "\n",
      "Name of rec: slurtest13.wav\n",
      "Len in seconds: 28.11\n",
      "Shape of audio: (1239508,)\n",
      "Shape of onset schedule: (44,)\n",
      "Onsets from 0.84s to 25.83s\n",
      "\n",
      "Name of rec: slurtest14.wav\n",
      "Len in seconds: 29.40\n",
      "Shape of audio: (1296384,)\n",
      "Shape of onset schedule: (53,)\n",
      "Onsets from 0.54s to 27.01s\n",
      "\n",
      "Name of rec: slurtest15.wav\n",
      "Len in seconds: 36.28\n",
      "Shape of audio: (1600000,)\n",
      "Shape of onset schedule: (102,)\n",
      "Onsets from 0.61s to 34.97s\n",
      "\n",
      "Name of rec: slurtest16.wav\n",
      "Len in seconds: 41.77\n",
      "Shape of audio: (1841881,)\n",
      "Shape of onset schedule: (116,)\n",
      "Onsets from 0.75s to 40.66s\n",
      "\n",
      "Name of rec: slurtest17.wav\n",
      "Len in seconds: 101.25\n",
      "Shape of audio: (4465056,)\n",
      "Shape of onset schedule: (164,)\n",
      "Onsets from 1.08s to 97.81s\n",
      "\n",
      "Name of rec: slurtest18.wav\n",
      "Len in seconds: 55.86\n",
      "Shape of audio: (2463367,)\n",
      "Shape of onset schedule: (32,)\n",
      "Onsets from 0.55s to 51.79s\n",
      "\n",
      "Name of rec: slurtest19.wav\n",
      "Len in seconds: 56.62\n",
      "Shape of audio: (2497024, 2)\n",
      "Shape of onset schedule: (203,)\n",
      "Onsets from 0.61s to 55.00s\n",
      "\n",
      "Name of rec: stormhatten_IR2.wav\n",
      "Len in seconds: 61.99\n",
      "Shape of audio: (2733731,)\n",
      "Shape of onset schedule: (147,)\n",
      "Onsets from 0.74s to 59.38s\n",
      "\n",
      "Name of rec: slurtest02_IR1.wav\n",
      "Len in seconds: 17.91\n",
      "Shape of audio: (789668,)\n",
      "Shape of onset schedule: (62,)\n",
      "Onsets from 1.53s to 16.41s\n",
      "\n",
      "Name of rec: slurtest01_IR2.wav\n",
      "Len in seconds: 18.50\n",
      "Shape of audio: (815900,)\n",
      "Shape of onset schedule: (62,)\n",
      "Onsets from 1.38s to 16.70s\n",
      "\n",
      "Name of rec: slurtest03_FK1.wav\n",
      "Len in seconds: 19.03\n",
      "Shape of audio: (839387,)\n",
      "Shape of onset schedule: (62,)\n",
      "Onsets from 0.63s to 17.97s\n",
      "\n",
      "Name of rec: 6xtpsg_220319.wav\n",
      "Len in seconds: 55.79\n",
      "Shape of audio: (2460160,)\n",
      "Shape of onset schedule: (84,)\n",
      "Onsets from 0.98s to 53.80s\n",
      "\n",
      "Name of rec: slurtest04_IR2.wav\n",
      "Len in seconds: 18.18\n",
      "Shape of audio: (801944,)\n",
      "Shape of onset schedule: (75,)\n",
      "Onsets from 0.75s to 16.58s\n",
      "\n",
      "Name of rec: melodyvib_220319.wav\n",
      "Len in seconds: 71.59\n",
      "Shape of audio: (3157083,)\n",
      "Shape of onset schedule: (81,)\n",
      "Onsets from 2.77s to 68.95s\n",
      "\n",
      "Name of rec: slurtest09_IR2.wav\n",
      "Len in seconds: 35.65\n",
      "Shape of audio: (1572036,)\n",
      "Shape of onset schedule: (66,)\n",
      "Onsets from 0.93s to 31.14s\n",
      "\n",
      "Name of rec: janissa_IR2.wav\n",
      "Len in seconds: 37.05\n",
      "Shape of audio: (1633868,)\n",
      "Shape of onset schedule: (81,)\n",
      "Onsets from 1.66s to 35.55s\n",
      "\n",
      "Name of rec: 6xtpsg_220306.wav\n",
      "Len in seconds: 57.95\n",
      "Shape of audio: (2781645,)\n",
      "Shape of onset schedule: (86,)\n",
      "Onsets from 3.04s to 55.52s\n",
      "\n",
      "Name of rec: slurtest01_FK1.wav\n",
      "Len in seconds: 18.12\n",
      "Shape of audio: (798949,)\n",
      "Shape of onset schedule: (62,)\n",
      "Onsets from 0.28s to 19.20s\n",
      "\n",
      "Name of rec: slurtest04_FK1.wav\n",
      "Len in seconds: 19.24\n",
      "Shape of audio: (848341,)\n",
      "Shape of onset schedule: (74,)\n",
      "Onsets from 0.69s to 18.86s\n",
      "\n",
      "Name of rec: slurtest01_IR1.wav\n",
      "Len in seconds: 19.22\n",
      "Shape of audio: (847753,)\n",
      "Shape of onset schedule: (62,)\n",
      "Onsets from 0.99s to 19.20s\n",
      "\n",
      "Name of rec: 63an_start_220306.wav\n",
      "Len in seconds: 30.26\n",
      "Shape of audio: (1452688,)\n",
      "Shape of onset schedule: (76,)\n",
      "Onsets from 0.70s to 29.60s\n",
      "\n",
      "Name of rec: slurtest08_FK1.wav\n",
      "Len in seconds: 37.15\n",
      "Shape of audio: (1638336,)\n",
      "Shape of onset schedule: (94,)\n",
      "Onsets from 0.41s to 35.73s\n",
      "\n",
      "Name of rec: slurtest03_IR1.wav\n",
      "Len in seconds: 19.16\n",
      "Shape of audio: (845040,)\n",
      "Shape of onset schedule: (64,)\n",
      "Onsets from 0.60s to 18.39s\n",
      "\n",
      "Name of rec: stormhatten_IR1.wav\n",
      "Len in seconds: 63.90\n",
      "Shape of audio: (2818048,)\n",
      "Shape of onset schedule: (142,)\n",
      "Onsets from 1.50s to 60.16s\n",
      "\n"
     ]
    },
    {
     "data": {
      "text/plain": [
       "[None,\n",
       " None,\n",
       " None,\n",
       " None,\n",
       " None,\n",
       " None,\n",
       " None,\n",
       " None,\n",
       " None,\n",
       " None,\n",
       " None,\n",
       " None,\n",
       " None,\n",
       " None,\n",
       " None,\n",
       " None,\n",
       " None,\n",
       " None,\n",
       " None,\n",
       " None,\n",
       " None,\n",
       " None,\n",
       " None,\n",
       " None,\n",
       " None,\n",
       " None,\n",
       " None,\n",
       " None,\n",
       " None,\n",
       " None,\n",
       " None,\n",
       " None,\n",
       " None,\n",
       " None,\n",
       " None,\n",
       " None]"
      ]
     },
     "execution_count": 5,
     "metadata": {},
     "output_type": "execute_result"
    }
   ],
   "source": [
    "[print(\"Name of rec: {}\\n\"\n",
    "       \"Len in seconds: {:.2f}\\n\"\n",
    "       \"Shape of audio: {}\\n\"\n",
    "       \"Shape of onset schedule: {}\\n\"\n",
    "       \"Onsets from {:.2f}s to {:.2f}s\\n\".format(\n",
    "                                        os.path.split(fname)[1], \n",
    "                                        audio.shape[0]/sr,\n",
    "                                        audio.shape,\n",
    "                                        schedule.shape,\n",
    "                                        schedule.min(),\n",
    "                                        schedule.max(),\n",
    "                                        ) \n",
    "    ) for fname, audio, schedule, sr in zip(audio_fnames, audios, onset_schedules, sample_rates)\n",
    "]"
   ]
  },
  {
   "cell_type": "code",
   "execution_count": 6,
   "id": "df3577bc",
   "metadata": {},
   "outputs": [
    {
     "data": {
      "text/plain": [
       "[<matplotlib.lines.Line2D at 0x7f9018263100>]"
      ]
     },
     "execution_count": 6,
     "metadata": {},
     "output_type": "execute_result"
    },
    {
     "data": {
      "image/png": "[encoded data removed]",
      "text/plain": [
       "<Figure size 432x288 with 2 Axes>"
      ]
     },
     "metadata": {
      "needs_background": "light"
     },
     "output_type": "display_data"
    }
   ],
   "source": [
    "# Add white noise to recordings\n",
    "# Noise variance is adjusted to a fixed Signal Noise Ratio computed recording-wise\n",
    "# snr_db = 20 means S/N=10\n",
    "# snr_db = 10 means S/N≈3.2\n",
    "SNR_DB = 10\n",
    "snr_v = 10**(SNR_DB/20)\n",
    "\n",
    "def augmentation(audio, t=None, p=None):\n",
    "    if t==None:\n",
    "        return audio\n",
    "    elif t==\"white_noise\":\n",
    "        # p contains snr_db parameter\n",
    "        return audio+np.random.normal(\n",
    "            scale=madmom.audio.signal.root_mean_square(audio)/(10**(p/20)),\n",
    "            size=audio.shape\n",
    "            )\n",
    "\n",
    "noisy_audios = [augmentation(audio, t=\"white_noise\", p=SNR_DB) for audio in audios]\n",
    "fig, axs = plt.subplots(2,1)\n",
    "axs[0].plot(audios[0][:100000])\n",
    "axs[1].plot(noisy_audios[0][:100000])"
   ]
  },
  {
   "cell_type": "code",
   "execution_count": 7,
   "id": "78d4d97e",
   "metadata": {},
   "outputs": [],
   "source": [
    "onset_vectors = [get_label_vector(sched, len(audio)/sr, FPS)\n",
    "    for (sched, audio, sr) in zip(onset_schedules, audios, sample_rates)\n",
    "]"
   ]
  },
  {
   "cell_type": "code",
   "execution_count": 8,
   "id": "9d6656f4",
   "metadata": {},
   "outputs": [
    {
     "name": "stderr",
     "output_type": "stream",
     "text": [
      "/home/simonf/.venv/onsets/lib/python3.8/site-packages/madmom/io/audio.py:493: WavFileWarning: Chunk (non-data) not understood, skipping it.\n",
      "  file_sample_rate, signal = wavfile.read(filename, mmap=True)\n",
      "/home/simonf/.venv/onsets/lib/python3.8/site-packages/madmom/io/audio.py:493: WavFileWarning: Chunk (non-data) not understood, skipping it.\n",
      "  file_sample_rate, signal = wavfile.read(filename, mmap=True)\n",
      "/home/simonf/.venv/onsets/lib/python3.8/site-packages/madmom/io/audio.py:493: WavFileWarning: Chunk (non-data) not understood, skipping it.\n",
      "  file_sample_rate, signal = wavfile.read(filename, mmap=True)\n"
     ]
    },
    {
     "name": "stdout",
     "output_type": "stream",
     "text": [
      "(1711, 80, 3)\n"
     ]
    }
   ],
   "source": [
    "# Create data and normalize\n",
    "mm_proc_frames = [preprocessor(fname) for fname in audio_fnames]\n",
    "mm_frames_normalized = [cnn_normalize(frame_set) for frame_set in mm_proc_frames]\n",
    "print(mm_frames_normalized[0].shape)\n",
    "#X = [[\n",
    "#    data[i-CONTEXT:i+CONTEXT+1,:,:] \n",
    "#    for i in range(CONTEXT, data.shape[0]-CONTEXT)\n",
    "#] for data in mm_frames_normalized]\n",
    "#X = [np.transpose(np.stack(data, 0), [0,2,1,3]) for data in X]\n",
    "#print(X[0].shape)"
   ]
  },
  {
   "cell_type": "code",
   "execution_count": 22,
   "id": "7144fff3",
   "metadata": {},
   "outputs": [],
   "source": [
    "def data_generator(\n",
    "    batch_size,\n",
    "    steps_per_epoch,\n",
    "    epochs,\n",
    "    idx, \n",
    "    sampling=True,\n",
    "    mode=None\n",
    "):\n",
    "    \n",
    "    #for _ in range(steps_per_epoch * epochs):\n",
    "    if not sampling:\n",
    "        ep = 0\n",
    "        file_p = 0\n",
    "        frame_p = 0\n",
    "    \n",
    "    while True:\n",
    "        # Select indices for training or test\n",
    "        if sampling:\n",
    "            file_i = np.random.choice(idx)\n",
    "        else:\n",
    "            file_i = idx[file_p]\n",
    "        \n",
    "        #print(\"Selected file index: \", file_i)\n",
    "        fname = audio_fnames[file_i]\n",
    "        \n",
    "        if mode==\"use_prep_frames\":\n",
    "            frames_normalized = mm_frames_normalized[file_i]\n",
    "            \n",
    "        else:\n",
    "            # Compute frames\n",
    "            with warnings.catch_warnings():\n",
    "                warnings.simplefilter(\"ignore\")\n",
    "                fxn()\n",
    "                frames_normalized = cnn_normalize(preprocessor(fname))\n",
    "        #print(\"Frame size: \", frames_normalized.shape[0])\n",
    "\n",
    "        # Retrieve onsets \n",
    "        onsets = onset_vectors[file_i]\n",
    "        #print(\"Computed frames of size \", frames_normalized.shape)\n",
    "        #print(\"Onset vectors have len \", len(onsets))\n",
    "\n",
    "        # Sample a set of indices (defined from audio start,\n",
    "        # that is CONTEXT values counted from x array start)\n",
    "        if sampling:\n",
    "            focus_idx = np.random.choice(\n",
    "                np.arange(frames_normalized.shape[0]-2*CONTEXT-1), \n",
    "                size=batch_size\n",
    "            )\n",
    "            #print(\"Sampled focus idx between \", 0, \" and \", frames_normalized.shape[0]-2*CONTEXT-1)\n",
    "        else:\n",
    "            #print(\"Focus idx from \", frame_p, \" to \", frame_p+batch_size)\n",
    "            focus_idx = np.arange(frame_p, frame_p+batch_size)\n",
    "        \n",
    "\n",
    "        # Segmentation\n",
    "        x = [frames_normalized[focus:focus+2*CONTEXT+1,:,:] for focus in focus_idx]\n",
    "        x = np.transpose(np.stack(x, 0), [0,2,1,3])\n",
    "        #print(\"Segmented x has shape \", x.shape)\n",
    "        if x.shape[0] != batch_size:\n",
    "            print(\"Delivering less than batch-size\")\n",
    "\n",
    "        # Labels\n",
    "        y = onsets[focus_idx]\n",
    "        yield (x, y)\n",
    "\n",
    "        if not sampling:\n",
    "            if frame_p + 2*batch_size >= frames_normalized.shape[0]-2*CONTEXT-1:\n",
    "                if file_p == len(idx) - 1:\n",
    "                    ep += 1\n",
    "                    print(\"Generator reached end of epoch. Resetting...\")\n",
    "                    file_p = 0\n",
    "                    frame_p = 0\n",
    "                else:\n",
    "                    file_p += 1\n",
    "                    frame_p = 0\n",
    "            else:\n",
    "                frame_p += batch_size\n",
    "            \n",
    "\n"
   ]
  },
  {
   "cell_type": "code",
   "execution_count": 10,
   "id": "bcc4b361",
   "metadata": {},
   "outputs": [],
   "source": [
    "# K-Fold:\n",
    "\n",
    "\n",
    "random_seed = 119\n",
    "n_splits =  5\n",
    "kf = KFold(n_splits=n_splits, shuffle=True, random_state=True)\n",
    "kf_gen = list(kf.split(np.arange(len(audio_fnames))))"
   ]
  },
  {
   "cell_type": "code",
   "execution_count": 11,
   "id": "55b91d22",
   "metadata": {},
   "outputs": [],
   "source": [
    "def compute_steps(idx, bs):\n",
    "    song_sizes = np.array([len(f) for f in mm_frames_normalized])[idx]-2*CONTEXT-1\n",
    "    steps_per_song = np.floor_divide(song_sizes, bs)\n",
    "    print(song_sizes)\n",
    "    print(steps_per_song)\n",
    "    return np.sum(steps_per_song)"
   ]
  },
  {
   "cell_type": "code",
   "execution_count": 12,
   "id": "47c79011",
   "metadata": {},
   "outputs": [
    {
     "name": "stderr",
     "output_type": "stream",
     "text": [
      "2022-04-09 19:11:08.297178: I tensorflow/stream_executor/cuda/cuda_gpu_executor.cc:936] successful NUMA node read from SysFS had negative value (-1), but there must be at least one NUMA node, so returning NUMA node zero\n",
      "2022-04-09 19:11:08.301724: I tensorflow/stream_executor/cuda/cuda_gpu_executor.cc:936] successful NUMA node read from SysFS had negative value (-1), but there must be at least one NUMA node, so returning NUMA node zero\n",
      "2022-04-09 19:11:08.302051: I tensorflow/stream_executor/cuda/cuda_gpu_executor.cc:936] successful NUMA node read from SysFS had negative value (-1), but there must be at least one NUMA node, so returning NUMA node zero\n",
      "2022-04-09 19:11:08.302609: I tensorflow/core/platform/cpu_feature_guard.cc:151] This TensorFlow binary is optimized with oneAPI Deep Neural Network Library (oneDNN) to use the following CPU instructions in performance-critical operations:  AVX2 FMA\n",
      "To enable them in other operations, rebuild TensorFlow with the appropriate compiler flags.\n",
      "2022-04-09 19:11:08.302975: I tensorflow/stream_executor/cuda/cuda_gpu_executor.cc:936] successful NUMA node read from SysFS had negative value (-1), but there must be at least one NUMA node, so returning NUMA node zero\n",
      "2022-04-09 19:11:08.303293: I tensorflow/stream_executor/cuda/cuda_gpu_executor.cc:936] successful NUMA node read from SysFS had negative value (-1), but there must be at least one NUMA node, so returning NUMA node zero\n",
      "2022-04-09 19:11:08.303582: I tensorflow/stream_executor/cuda/cuda_gpu_executor.cc:936] successful NUMA node read from SysFS had negative value (-1), but there must be at least one NUMA node, so returning NUMA node zero\n",
      "2022-04-09 19:11:08.653634: I tensorflow/stream_executor/cuda/cuda_gpu_executor.cc:936] successful NUMA node read from SysFS had negative value (-1), but there must be at least one NUMA node, so returning NUMA node zero\n",
      "2022-04-09 19:11:08.653979: I tensorflow/stream_executor/cuda/cuda_gpu_executor.cc:936] successful NUMA node read from SysFS had negative value (-1), but there must be at least one NUMA node, so returning NUMA node zero\n",
      "2022-04-09 19:11:08.654275: I tensorflow/stream_executor/cuda/cuda_gpu_executor.cc:936] successful NUMA node read from SysFS had negative value (-1), but there must be at least one NUMA node, so returning NUMA node zero\n",
      "2022-04-09 19:11:08.654557: I tensorflow/core/common_runtime/gpu/gpu_device.cc:1525] Created device /job:localhost/replica:0/task:0/device:GPU:0 with 7236 MB memory:  -> device: 0, name: NVIDIA GeForce GTX 1080, pci bus id: 0000:01:00.0, compute capability: 6.1\n"
     ]
    }
   ],
   "source": [
    "loss_fn = tf.keras.losses.BinaryCrossentropy(from_logits=False)\n",
    "optimizer = tf.keras.optimizers.Adam()\n",
    "metrics = [\n",
    "    tf.keras.metrics.TruePositives(name='tp', thresholds=0.5),\n",
    "    tf.keras.metrics.TrueNegatives(name='tn', thresholds=0.5),\n",
    "    tf.keras.metrics.FalsePositives(name='fp', thresholds=0.5),\n",
    "    tf.keras.metrics.FalseNegatives(name='fn', thresholds=0.5),\n",
    "]\n"
   ]
  },
  {
   "cell_type": "code",
   "execution_count": 19,
   "id": "0be42001",
   "metadata": {},
   "outputs": [],
   "source": [
    "continue_run = False\n",
    "training_mode = 0 # REMEMBER TO CHANGE\n",
    "standard = False\n",
    "save = False # REMEMBER TO CHANGE\n",
    "training_name = \"added-sample-gen-nostandard\" # REMEMBER TO CHANGE\n",
    "date_today = \"220409\" # TODO - automatically\n",
    "n_epochs = 50 # REMEMBER TO CHANGE\n",
    "bs = 256\n",
    "steps_per_epoch = int(np.sum(np.array([len(f) for f in mm_frames_normalized])[kf_gen[0][0]]-2*CONTEXT-1)/bs)\n",
    "val_steps_per_epoch = 30\n",
    "nogen = False \n",
    "sampling = True"
   ]
  },
  {
   "cell_type": "code",
   "execution_count": 23,
   "id": "83087052",
   "metadata": {},
   "outputs": [
    {
     "name": "stdout",
     "output_type": "stream",
     "text": [
      "\n",
      "Fold 0/5 ---------\n",
      "Train indices:  [ 0  1  2  4  5  6  7  8  9 10 11 12 13 14 15 16 18 20 22 24 25 26 27 29\n",
      " 31 32 33 35]\n",
      "Test indices:  [ 3 17 19 21 23 28 30 34]\n",
      "Epoch 1/50\n"
     ]
    },
    {
     "name": "stderr",
     "output_type": "stream",
     "text": [
      "2022-04-09 19:13:34.665795: I tensorflow/stream_executor/cuda/cuda_dnn.cc:368] Loaded cuDNN version 8204\n",
      "2022-04-09 19:13:34.892789: I tensorflow/core/platform/default/subprocess.cc:304] Start cannot spawn child process: No such file or directory\n"
     ]
    },
    {
     "name": "stdout",
     "output_type": "stream",
     "text": [
      "397/397 [==============================] - 15s 34ms/step - loss: 0.6481 - tp: 2513.0000 - tn: 85984.0000 - fp: 12679.0000 - fn: 456.0000 - val_loss: 0.1758 - val_tp: 162.0000 - val_tn: 6966.0000 - val_fp: 531.0000 - val_fn: 21.0000\n",
      "Epoch 2/50\n",
      "397/397 [==============================] - 13s 34ms/step - loss: 0.5692 - tp: 2800.0000 - tn: 86085.0000 - fp: 12403.0000 - fn: 344.0000 - val_loss: 0.2596 - val_tp: 154.0000 - val_tn: 6706.0000 - val_fp: 796.0000 - val_fn: 24.0000\n",
      "Epoch 3/50\n",
      "397/397 [==============================] - 13s 33ms/step - loss: 0.4963 - tp: 2581.0000 - tn: 87985.0000 - fp: 10780.0000 - fn: 286.0000 - val_loss: 0.1845 - val_tp: 194.0000 - val_tn: 6939.0000 - val_fp: 521.0000 - val_fn: 26.0000\n",
      "Epoch 4/50\n",
      "397/397 [==============================] - 13s 34ms/step - loss: 0.5027 - tp: 2578.0000 - tn: 88271.0000 - fp: 10479.0000 - fn: 304.0000 - val_loss: 0.1926 - val_tp: 171.0000 - val_tn: 6936.0000 - val_fp: 554.0000 - val_fn: 19.0000\n",
      "Epoch 5/50\n",
      "397/397 [==============================] - 13s 34ms/step - loss: 0.4689 - tp: 2749.0000 - tn: 88408.0000 - fp: 10215.0000 - fn: 260.0000 - val_loss: 0.2053 - val_tp: 190.0000 - val_tn: 6858.0000 - val_fp: 602.0000 - val_fn: 30.0000\n",
      "Epoch 6/50\n",
      "397/397 [==============================] - 13s 34ms/step - loss: 0.4608 - tp: 2663.0000 - tn: 88672.0000 - fp: 10038.0000 - fn: 259.0000 - val_loss: 0.1868 - val_tp: 160.0000 - val_tn: 6940.0000 - val_fp: 559.0000 - val_fn: 21.0000\n",
      "Epoch 7/50\n",
      "397/397 [==============================] - 13s 34ms/step - loss: 0.4422 - tp: 2642.0000 - tn: 88851.0000 - fp: 9908.0000 - fn: 231.0000 - val_loss: 0.2096 - val_tp: 203.0000 - val_tn: 6828.0000 - val_fp: 630.0000 - val_fn: 19.0000\n",
      "Epoch 8/50\n",
      "397/397 [==============================] - 13s 34ms/step - loss: 0.4489 - tp: 2672.0000 - tn: 88642.0000 - fp: 10076.0000 - fn: 242.0000 - val_loss: 0.2079 - val_tp: 170.0000 - val_tn: 6904.0000 - val_fp: 588.0000 - val_fn: 18.0000\n",
      "Epoch 9/50\n",
      "397/397 [==============================] - 13s 34ms/step - loss: 0.4485 - tp: 2559.0000 - tn: 89128.0000 - fp: 9705.0000 - fn: 240.0000 - val_loss: 0.1829 - val_tp: 168.0000 - val_tn: 6971.0000 - val_fp: 513.0000 - val_fn: 28.0000\n",
      "Epoch 10/50\n",
      "397/397 [==============================] - 13s 34ms/step - loss: 0.4562 - tp: 2818.0000 - tn: 88194.0000 - fp: 10366.0000 - fn: 254.0000 - val_loss: 0.2230 - val_tp: 205.0000 - val_tn: 6799.0000 - val_fp: 653.0000 - val_fn: 23.0000\n",
      "Epoch 11/50\n",
      "397/397 [==============================] - 13s 34ms/step - loss: 0.4431 - tp: 2691.0000 - tn: 88820.0000 - fp: 9882.0000 - fn: 239.0000 - val_loss: 0.1769 - val_tp: 157.0000 - val_tn: 6986.0000 - val_fp: 507.0000 - val_fn: 30.0000\n",
      "Epoch 12/50\n",
      "397/397 [==============================] - 14s 34ms/step - loss: 0.4211 - tp: 2639.0000 - tn: 89184.0000 - fp: 9589.0000 - fn: 220.0000 - val_loss: 0.2099 - val_tp: 217.0000 - val_tn: 6828.0000 - val_fp: 606.0000 - val_fn: 29.0000\n",
      "Epoch 13/50\n",
      "397/397 [==============================] - 13s 34ms/step - loss: 0.4054 - tp: 2710.0000 - tn: 89425.0000 - fp: 9277.0000 - fn: 220.0000 - val_loss: 0.2087 - val_tp: 185.0000 - val_tn: 6852.0000 - val_fp: 621.0000 - val_fn: 22.0000\n",
      "Epoch 14/50\n",
      "397/397 [==============================] - 14s 34ms/step - loss: 0.4107 - tp: 2590.0000 - tn: 89652.0000 - fp: 9170.0000 - fn: 220.0000 - val_loss: 0.1917 - val_tp: 165.0000 - val_tn: 6920.0000 - val_fp: 571.0000 - val_fn: 24.0000\n",
      "Epoch 15/50\n",
      "397/397 [==============================] - 13s 34ms/step - loss: 0.3984 - tp: 2581.0000 - tn: 89666.0000 - fp: 9181.0000 - fn: 204.0000 - val_loss: 0.2086 - val_tp: 204.0000 - val_tn: 6859.0000 - val_fp: 600.0000 - val_fn: 17.0000\n",
      "Epoch 16/50\n",
      "397/397 [==============================] - 14s 34ms/step - loss: 0.4042 - tp: 2665.0000 - tn: 89596.0000 - fp: 9169.0000 - fn: 202.0000 - val_loss: 0.1972 - val_tp: 166.0000 - val_tn: 6928.0000 - val_fp: 564.0000 - val_fn: 22.0000\n",
      "Epoch 17/50\n",
      "397/397 [==============================] - 13s 34ms/step - loss: 0.3962 - tp: 2743.0000 - tn: 89461.0000 - fp: 9224.0000 - fn: 204.0000 - val_loss: 0.2154 - val_tp: 185.0000 - val_tn: 6830.0000 - val_fp: 646.0000 - val_fn: 19.0000\n",
      "Epoch 18/50\n",
      "397/397 [==============================] - 13s 34ms/step - loss: 0.3939 - tp: 2826.0000 - tn: 89344.0000 - fp: 9283.0000 - fn: 179.0000 - val_loss: 0.1906 - val_tp: 171.0000 - val_tn: 6914.0000 - val_fp: 571.0000 - val_fn: 24.0000\n",
      "Epoch 19/50\n",
      "397/397 [==============================] - 14s 35ms/step - loss: 0.3930 - tp: 2885.0000 - tn: 89227.0000 - fp: 9334.0000 - fn: 186.0000 - val_loss: 0.2005 - val_tp: 144.0000 - val_tn: 6913.0000 - val_fp: 599.0000 - val_fn: 24.0000\n",
      "Epoch 20/50\n",
      "397/397 [==============================] - 13s 34ms/step - loss: 0.3774 - tp: 2723.0000 - tn: 89821.0000 - fp: 8904.0000 - fn: 184.0000 - val_loss: 0.1794 - val_tp: 165.0000 - val_tn: 6970.0000 - val_fp: 526.0000 - val_fn: 19.0000\n",
      "Epoch 21/50\n",
      "397/397 [==============================] - 14s 34ms/step - loss: 0.3769 - tp: 2759.0000 - tn: 89535.0000 - fp: 9161.0000 - fn: 177.0000 - val_loss: 0.2196 - val_tp: 243.0000 - val_tn: 6743.0000 - val_fp: 676.0000 - val_fn: 18.0000\n",
      "Epoch 22/50\n",
      "397/397 [==============================] - 14s 34ms/step - loss: 0.3987 - tp: 2930.0000 - tn: 89047.0000 - fp: 9463.0000 - fn: 192.0000 - val_loss: 0.1915 - val_tp: 210.0000 - val_tn: 6894.0000 - val_fp: 553.0000 - val_fn: 23.0000\n",
      "Epoch 23/50\n",
      "397/397 [==============================] - 13s 34ms/step - loss: 0.3743 - tp: 2844.0000 - tn: 89435.0000 - fp: 9181.0000 - fn: 172.0000 - val_loss: 0.1507 - val_tp: 155.0000 - val_tn: 7055.0000 - val_fp: 446.0000 - val_fn: 24.0000\n",
      "Epoch 24/50\n",
      "397/397 [==============================] - 13s 34ms/step - loss: 0.3636 - tp: 2813.0000 - tn: 89684.0000 - fp: 8989.0000 - fn: 146.0000 - val_loss: 0.1862 - val_tp: 156.0000 - val_tn: 6923.0000 - val_fp: 580.0000 - val_fn: 21.0000\n",
      "Epoch 25/50\n",
      "397/397 [==============================] - 13s 34ms/step - loss: 0.3575 - tp: 2720.0000 - tn: 90125.0000 - fp: 8627.0000 - fn: 160.0000 - val_loss: 0.1976 - val_tp: 222.0000 - val_tn: 6866.0000 - val_fp: 575.0000 - val_fn: 17.0000\n",
      "Epoch 26/50\n",
      "397/397 [==============================] - 13s 34ms/step - loss: 0.3427 - tp: 2666.0000 - tn: 90293.0000 - fp: 8536.0000 - fn: 137.0000 - val_loss: 0.1679 - val_tp: 141.0000 - val_tn: 7008.0000 - val_fp: 513.0000 - val_fn: 18.0000\n",
      "Epoch 27/50\n",
      "397/397 [==============================] - 13s 34ms/step - loss: 0.3627 - tp: 2797.0000 - tn: 89841.0000 - fp: 8834.0000 - fn: 160.0000 - val_loss: 0.1711 - val_tp: 154.0000 - val_tn: 7009.0000 - val_fp: 497.0000 - val_fn: 20.0000\n",
      "Epoch 28/50\n",
      "397/397 [==============================] - 13s 33ms/step - loss: 0.3632 - tp: 2864.0000 - tn: 89710.0000 - fp: 8912.0000 - fn: 146.0000 - val_loss: 0.1781 - val_tp: 186.0000 - val_tn: 6945.0000 - val_fp: 512.0000 - val_fn: 37.0000\n",
      "Epoch 29/50\n",
      "397/397 [==============================] - 13s 34ms/step - loss: 0.3685 - tp: 2925.0000 - tn: 89539.0000 - fp: 9015.0000 - fn: 153.0000 - val_loss: 0.2032 - val_tp: 172.0000 - val_tn: 6886.0000 - val_fp: 594.0000 - val_fn: 28.0000\n",
      "Epoch 30/50\n",
      "397/397 [==============================] - 13s 33ms/step - loss: 0.3504 - tp: 2780.0000 - tn: 89839.0000 - fp: 8872.0000 - fn: 141.0000 - val_loss: 0.1685 - val_tp: 146.0000 - val_tn: 7036.0000 - val_fp: 474.0000 - val_fn: 24.0000\n",
      "Epoch 31/50\n",
      "397/397 [==============================] - 13s 34ms/step - loss: 0.3490 - tp: 2863.0000 - tn: 89893.0000 - fp: 8729.0000 - fn: 147.0000 - val_loss: 0.2006 - val_tp: 186.0000 - val_tn: 6880.0000 - val_fp: 594.0000 - val_fn: 20.0000\n",
      "Epoch 32/50\n",
      "397/397 [==============================] - 14s 34ms/step - loss: 0.3266 - tp: 2698.0000 - tn: 90740.0000 - fp: 8066.0000 - fn: 128.0000 - val_loss: 0.1402 - val_tp: 139.0000 - val_tn: 7122.0000 - val_fp: 397.0000 - val_fn: 22.0000\n",
      "Epoch 33/50\n",
      "397/397 [==============================] - 14s 34ms/step - loss: 0.3412 - tp: 2920.0000 - tn: 89987.0000 - fp: 8585.0000 - fn: 140.0000 - val_loss: 0.1771 - val_tp: 171.0000 - val_tn: 6955.0000 - val_fp: 535.0000 - val_fn: 19.0000\n",
      "Epoch 34/50\n",
      "397/397 [==============================] - 13s 34ms/step - loss: 0.3326 - tp: 2689.0000 - tn: 90558.0000 - fp: 8231.0000 - fn: 154.0000 - val_loss: 0.1649 - val_tp: 192.0000 - val_tn: 6983.0000 - val_fp: 476.0000 - val_fn: 29.0000\n",
      "Epoch 35/50\n",
      "397/397 [==============================] - 13s 34ms/step - loss: 0.3567 - tp: 2876.0000 - tn: 89888.0000 - fp: 8723.0000 - fn: 145.0000 - val_loss: 0.1830 - val_tp: 161.0000 - val_tn: 6977.0000 - val_fp: 525.0000 - val_fn: 17.0000\n",
      "Epoch 36/50\n",
      "397/397 [==============================] - 13s 34ms/step - loss: 0.3307 - tp: 2755.0000 - tn: 90429.0000 - fp: 8317.0000 - fn: 131.0000 - val_loss: 0.1889 - val_tp: 157.0000 - val_tn: 6970.0000 - val_fp: 538.0000 - val_fn: 15.0000\n",
      "Epoch 37/50\n",
      "397/397 [==============================] - 13s 34ms/step - loss: 0.3333 - tp: 2766.0000 - tn: 90629.0000 - fp: 8102.0000 - fn: 135.0000 - val_loss: 0.1899 - val_tp: 157.0000 - val_tn: 6925.0000 - val_fp: 578.0000 - val_fn: 20.0000\n",
      "Epoch 38/50\n",
      "397/397 [==============================] - 14s 34ms/step - loss: 0.3298 - tp: 2659.0000 - tn: 90790.0000 - fp: 8041.0000 - fn: 142.0000 - val_loss: 0.1889 - val_tp: 174.0000 - val_tn: 6910.0000 - val_fp: 564.0000 - val_fn: 32.0000\n",
      "Epoch 39/50\n",
      "397/397 [==============================] - 13s 34ms/step - loss: 0.3298 - tp: 2833.0000 - tn: 90220.0000 - fp: 8452.0000 - fn: 127.0000 - val_loss: 0.1761 - val_tp: 169.0000 - val_tn: 6976.0000 - val_fp: 513.0000 - val_fn: 22.0000\n",
      "Epoch 40/50\n",
      "397/397 [==============================] - 14s 34ms/step - loss: 0.3132 - tp: 2709.0000 - tn: 90875.0000 - fp: 7932.0000 - fn: 116.0000 - val_loss: 0.1402 - val_tp: 149.0000 - val_tn: 7088.0000 - val_fp: 410.0000 - val_fn: 33.0000\n",
      "Epoch 41/50\n",
      "397/397 [==============================] - 14s 34ms/step - loss: 0.3356 - tp: 2815.0000 - tn: 90387.0000 - fp: 8295.0000 - fn: 135.0000 - val_loss: 0.2177 - val_tp: 194.0000 - val_tn: 6839.0000 - val_fp: 627.0000 - val_fn: 20.0000\n",
      "Epoch 42/50\n",
      "397/397 [==============================] - 14s 34ms/step - loss: 0.3167 - tp: 2903.0000 - tn: 90518.0000 - fp: 8097.0000 - fn: 114.0000 - val_loss: 0.1617 - val_tp: 177.0000 - val_tn: 7011.0000 - val_fp: 461.0000 - val_fn: 31.0000\n",
      "Epoch 43/50\n",
      "397/397 [==============================] - 13s 34ms/step - loss: 0.3327 - tp: 2900.0000 - tn: 90177.0000 - fp: 8437.0000 - fn: 118.0000 - val_loss: 0.2121 - val_tp: 172.0000 - val_tn: 6839.0000 - val_fp: 644.0000 - val_fn: 25.0000\n",
      "Epoch 44/50\n",
      "397/397 [==============================] - 14s 34ms/step - loss: 0.3314 - tp: 2982.0000 - tn: 89923.0000 - fp: 8599.0000 - fn: 128.0000 - val_loss: 0.1686 - val_tp: 225.0000 - val_tn: 6914.0000 - val_fp: 514.0000 - val_fn: 27.0000\n",
      "Epoch 45/50\n",
      "397/397 [==============================] - 14s 34ms/step - loss: 0.3147 - tp: 2853.0000 - tn: 90515.0000 - fp: 8140.0000 - fn: 124.0000 - val_loss: 0.1672 - val_tp: 164.0000 - val_tn: 6992.0000 - val_fp: 491.0000 - val_fn: 33.0000\n",
      "Epoch 46/50\n",
      "397/397 [==============================] - 14s 34ms/step - loss: 0.3196 - tp: 2731.0000 - tn: 90712.0000 - fp: 8069.0000 - fn: 120.0000 - val_loss: 0.1568 - val_tp: 165.0000 - val_tn: 7049.0000 - val_fp: 444.0000 - val_fn: 22.0000\n",
      "Epoch 47/50\n",
      "397/397 [==============================] - 14s 34ms/step - loss: 0.3072 - tp: 2811.0000 - tn: 90911.0000 - fp: 7791.0000 - fn: 119.0000 - val_loss: 0.1755 - val_tp: 181.0000 - val_tn: 6954.0000 - val_fp: 524.0000 - val_fn: 21.0000\n",
      "Epoch 48/50\n",
      "397/397 [==============================] - 14s 34ms/step - loss: 0.3139 - tp: 2816.0000 - tn: 90676.0000 - fp: 8024.0000 - fn: 116.0000 - val_loss: 0.1669 - val_tp: 169.0000 - val_tn: 6980.0000 - val_fp: 501.0000 - val_fn: 30.0000\n",
      "Epoch 49/50\n",
      "397/397 [==============================] - 13s 34ms/step - loss: 0.3123 - tp: 2963.0000 - tn: 90667.0000 - fp: 7894.0000 - fn: 108.0000 - val_loss: 0.1421 - val_tp: 138.0000 - val_tn: 7125.0000 - val_fp: 390.0000 - val_fn: 27.0000\n",
      "Epoch 50/50\n",
      "397/397 [==============================] - 14s 34ms/step - loss: 0.3065 - tp: 2782.0000 - tn: 90919.0000 - fp: 7810.0000 - fn: 121.0000 - val_loss: 0.1584 - val_tp: 124.0000 - val_tn: 7069.0000 - val_fp: 464.0000 - val_fn: 23.0000\n"
     ]
    }
   ],
   "source": [
    "if standard:\n",
    "    with open('results/cnn-training-220331/mean_by_fold.pickle', 'rb') as file_pi:\n",
    "        means = pickle.load(file_pi)\n",
    "    with open('results/cnn-training-220331/std_by_fold.pickle', 'rb') as file_pi:\n",
    "        stds = pickle.load(file_pi)\n",
    "\n",
    "if isinstance(training_mode, int):\n",
    "    fold = training_mode\n",
    "else:\n",
    "    fold = 0\n",
    "\n",
    "while fold < n_splits:\n",
    "    print()\n",
    "    print(\"Fold {}/{} ---------\".format(fold, n_splits))\n",
    "    train_idx = kf_gen[fold][0]\n",
    "    test_idx = kf_gen[fold][1]\n",
    "    print(\"Train indices: \", train_idx)\n",
    "    print(\"Test indices: \", test_idx)\n",
    "\n",
    "    # Data\n",
    "    if nogen:\n",
    "        X_train, X_test = [\n",
    "            np.concatenate([X[i] for i in idx]) \n",
    "            for idx in (train_idx, test_idx)\n",
    "        ]\n",
    "        y_train, y_test = [\n",
    "            np.concatenate([onset_vectors[i] for i in idx]) \n",
    "            for idx in (train_idx, test_idx)\n",
    "        ]\n",
    "\n",
    "    #train_onset_ratio = y_train.sum()/len(y_train)\n",
    "\n",
    "    # Normalize with training set statistics\n",
    "    #if standard:\n",
    "    #    X_train = (X_train - means[fold])/stds[fold]\n",
    "    #    X_test = (X_test - means[fold])/stds[fold]\n",
    "\n",
    "    # Model\n",
    "    if not continue_run:\n",
    "        tf.keras.backend.clear_session()\n",
    "    (model, norm_layer)=get_model(finetune=False)\n",
    "    \n",
    "    model.compile(optimizer=optimizer,\n",
    "                loss=loss_fn,\n",
    "                metrics=metrics)\n",
    "                \n",
    "    if not sampling:\n",
    "        steps_per_epoch = compute_steps(train_idx, bs)\n",
    "        val_steps_per_epoch = compute_steps(test_idx, bs)\n",
    "\n",
    "    if nogen:\n",
    "        x = X_train\n",
    "        y = y_train\n",
    "        steps_per_epoch = None\n",
    "        validation_data = (X_test, y_test)\n",
    "    else:\n",
    "        x = data_generator(\n",
    "            batch_size=bs, \n",
    "            steps_per_epoch=steps_per_epoch, \n",
    "            epochs=n_epochs,\n",
    "            idx=train_idx,\n",
    "            sampling=sampling,\n",
    "            mode='use_prep_frames'\n",
    "        )\n",
    "        y = None\n",
    "        validation_data = data_generator(\n",
    "            batch_size=bs, \n",
    "            steps_per_epoch=val_steps_per_epoch, \n",
    "            epochs=n_epochs,\n",
    "            idx=test_idx,\n",
    "            sampling=sampling,\n",
    "            mode='use_prep_frames'\n",
    "        )\n",
    "\n",
    "\n",
    "    # Training\n",
    "    history = model.fit(\n",
    "        x = x, y = y, \n",
    "        steps_per_epoch = steps_per_epoch,\n",
    "        epochs          = n_epochs,\n",
    "        # Validation data\n",
    "        validation_data = validation_data,\n",
    "        validation_steps  = val_steps_per_epoch,\n",
    "        class_weight = {0: 1., 1: 1/0.035},\n",
    "        verbose=1\n",
    "    )\n",
    "\n",
    "    # Saving\n",
    "    if save:\n",
    "        model.save('results/cnn-training-{}/fold_{}_{}_model'.format(date_today, fold, training_name))\n",
    "        with open('results/cnn-training-{}/fold_{}_{}_history.pickle'.format(date_today, fold, training_name), 'wb') as file_pi:\n",
    "            pickle.dump(history.history, file_pi)\n",
    "    \n",
    "    \n",
    "    if training_mode != \"all\":\n",
    "        break\n",
    "    fold += 1\n",
    "    "
   ]
  },
  {
   "cell_type": "code",
   "execution_count": 27,
   "id": "8b89eb73",
   "metadata": {},
   "outputs": [],
   "source": [
    "with open(\"results/cnn-training-220409/fold_0_added-sample-gen-nostandard_history.pickle\", 'rb') as file_pi:\n",
    "    h_samp = pickle.load(file_pi)\n",
    "with open(\"results/cnn-training-220409/fold_0_added-seq-gen-nostandard_history.pickle\", 'rb') as file_pi:\n",
    "    h_seq = pickle.load(file_pi)\n"
   ]
  },
  {
   "cell_type": "code",
   "execution_count": 24,
   "id": "c2d93f3c",
   "metadata": {},
   "outputs": [
    {
     "name": "stdout",
     "output_type": "stream",
     "text": [
      "F-score before postprocessing: 0.3920179307353048\n"
     ]
    }
   ],
   "source": [
    "THRES = ''\n",
    "VAL = ''\n",
    "TPS = h[VAL + 'tp' + THRES]\n",
    "FNS = h[VAL + 'fn' + THRES]\n",
    "FPS = h[VAL + 'fp' + THRES]\n",
    "print(\"F-score before postprocessing:\", 2*TPS[-2]/(2*TPS[-2] + FPS[-2] + FNS[-2]))"
   ]
  },
  {
   "cell_type": "code",
   "execution_count": 36,
   "id": "c2996eaa",
   "metadata": {},
   "outputs": [],
   "source": [
    "from scipy.signal import medfilt\n",
    "samp_val_smooth = medfilt(h_samp[\"val_loss\"], 3)"
   ]
  },
  {
   "cell_type": "code",
   "execution_count": 37,
   "id": "7660db53",
   "metadata": {},
   "outputs": [
    {
     "data": {
      "text/plain": [
       "<matplotlib.legend.Legend at 0x7f8fa059b460>"
      ]
     },
     "execution_count": 37,
     "metadata": {},
     "output_type": "execute_result"
    },
    {
     "data": {
      "image/png": "[encoded data removed]",
      "text/plain": [
       "<Figure size 432x288 with 1 Axes>"
      ]
     },
     "metadata": {
      "needs_background": "light"
     },
     "output_type": "display_data"
    }
   ],
   "source": [
    "plt.plot(h_samp['loss'], \"-\")\n",
    "#plt.plot(h_samp['val_loss'], \"-\")\n",
    "plt.plot(samp_val_smooth, \"-\")\n",
    "plt.plot(h_seq['loss'], \"-\")\n",
    "plt.plot(h_seq['val_loss'], \"-\")\n",
    "plt.legend([\n",
    "    \"Sampling Training loss\", \n",
    "    \"Sampling Validation loss\",\n",
    "    \"Sequential Training loss\", \n",
    "    \"Sequential Validation loss\",\n",
    "])"
   ]
  },
  {
   "cell_type": "code",
   "execution_count": 93,
   "id": "c361d908",
   "metadata": {},
   "outputs": [
    {
     "data": {
      "text/plain": [
       "<matplotlib.legend.Legend at 0x15169c370>"
      ]
     },
     "execution_count": 93,
     "metadata": {},
     "output_type": "execute_result"
    },
    {
     "data": {
      "image/png": "[encoded data removed]",
      "text/plain": [
       "<Figure size 432x288 with 1 Axes>"
      ]
     },
     "metadata": {
      "needs_background": "light"
     },
     "output_type": "display_data"
    }
   ],
   "source": [
    "plt.plot(h_all['loss'], \"-\")\n",
    "plt.plot(h_all['val_loss'], \"-\")\n",
    "plt.plot(h_dense['loss'], \".\")\n",
    "plt.plot(h_dense['val_loss'], \".\")\n",
    "plt.legend([\n",
    "    \"Whole model retrained - training loss\", \n",
    "    \"Whole model retrained - validation loss\",\n",
    "    \"Only dense layers trained - training loss\", \n",
    "    \"Only dense layers trained - validation loss\",\n",
    "])"
   ]
  },
  {
   "cell_type": "code",
   "execution_count": 26,
   "id": "1d83928b",
   "metadata": {},
   "outputs": [
    {
     "data": {
      "text/plain": [
       "<matplotlib.legend.Legend at 0x7f20f03a3c40>"
      ]
     },
     "execution_count": 26,
     "metadata": {},
     "output_type": "execute_result"
    },
    {
     "data": {
      "image/png": "[encoded data removed]",
      "text/plain": [
       "<Figure size 1440x288 with 2 Axes>"
      ]
     },
     "metadata": {
      "needs_background": "light"
     },
     "output_type": "display_data"
    }
   ],
   "source": [
    "fig, axs = plt.subplots(1,2,figsize=(20,4))\n",
    "history = h\n",
    "# Prec. training\n",
    "axs[0].plot([tp/(fp+tp) for (tp, fp) in zip(history['tp'], history['fp'])], color='lightblue')\n",
    "# Rec. training\n",
    "axs[0].plot([tp/(fn+tp) for (tp, fn) in zip(history['tp'], history['fn'])], color='lightgreen')\n",
    "# F-measure\n",
    "axs[0].plot([2*tp/(2*tp+fp+fn) for (tp, fp, fn) in zip(history['tp'], history['fp'], history['fn'])], 'k:')\n",
    "axs[0].legend([\"Precision\", \"Recall\", \"F-measure\"])\n",
    "\n",
    "# Prec. training\n",
    "axs[1].plot([tp/(fp+tp) for (tp, fp) in zip(history['val_tp'], history['val_fp'])], color='lightblue')\n",
    "# Rec. training\n",
    "axs[1].plot([tp/(fn+tp) for (tp, fn) in zip(history['val_tp'], history['val_fn'])], color='lightgreen')\n",
    "# F-measure\n",
    "axs[1].plot([2*tp/(2*tp+fp+fn) for (tp, fp, fn) in zip(history['val_tp'], history['val_fp'], history['val_fn'])], 'k:')\n",
    "axs[1].legend([\"Precision\", \"Recall\", \"F-measure\"])"
   ]
  },
  {
   "cell_type": "code",
   "execution_count": 37,
   "id": "4a2a98df",
   "metadata": {},
   "outputs": [],
   "source": [
    "\n"
   ]
  },
  {
   "cell_type": "markdown",
   "id": "d0c015ec",
   "metadata": {},
   "source": [
    "## Audio analysis and onset extraction"
   ]
  },
  {
   "cell_type": "code",
   "execution_count": 121,
   "id": "3e488ddb",
   "metadata": {},
   "outputs": [
    {
     "name": "stdout",
     "output_type": "stream",
     "text": [
      "Test recordings:  [17]\n",
      "Length of recordings:  ['101.2 s']\n",
      "[10124.843537414967]\n",
      "Length of onset vectors:  [10125]\n",
      "Number of annotated onsets:  [164]  =  164\n"
     ]
    }
   ],
   "source": [
    "F_RATE = HOP/SR \n",
    "train_idx = np.array([ 0,  1,  3,  5,  6,  7, 8,  9, 10, 11, 12, 13, 15, 17, 18])\n",
    "test_idx = np.array([ 2,  4, 14, 16])\n",
    "test_idx = np.array([16])\n",
    "test_audio_paths = ['datasets/initslurtest_vn/initslurtest_vn_wav/slurtest{:02d}.wav'.format(test_index+1) for test_index in test_idx]\n",
    "test_audios = [madmom.audio.signal.load_wave_file(path)[0] for path in test_audio_paths]\n",
    "test_lengths = [len(test_audio)/SR for test_audio in test_audios]\n",
    "test_onsets = [genfromtxt('datasets/initslurtest_vn/initslurtest_vn_annotations/{:02d}.txt'.format(test_index+1), delimiter=',') for test_index in test_idx]\n",
    "test_onset_vectors = [get_label_vector(test_onset, len(test_audio)/SR, HOP, SR) for test_audio, test_onset in zip(test_audios, test_onsets)]\n",
    "print(\"Test recordings: \", test_idx+1)\n",
    "print(\"Length of recordings: \", [\"{:.1f} s\".format(l) for l in test_lengths])\n",
    "print([len(a)/HOP for a in test_audios])\n",
    "print(\"Length of onset vectors: \", [len(v) for v in test_onset_vectors])\n",
    "print(\"Number of annotated onsets: \", \n",
    "    [len(test_onset) for test_onset in test_onsets], \n",
    "    \" = \", np.sum([len(test_onset) for test_onset in test_onsets])\n",
    ")"
   ]
  },
  {
   "cell_type": "code",
   "execution_count": 122,
   "id": "40d836e4",
   "metadata": {},
   "outputs": [],
   "source": [
    "full_audio = np.concatenate(test_audios)\n",
    "cum_lengths = np.concatenate(([0.0], np.cumsum(test_lengths)))[:-1]\n",
    "full_onsets = np.concatenate(\n",
    "    [shift + onset for (shift, onset) in zip(cum_lengths, test_onsets)]\n",
    ")\n",
    "full_onset_vectors = np.concatenate(test_onset_vectors)"
   ]
  },
  {
   "cell_type": "code",
   "execution_count": 127,
   "id": "133cbdc8",
   "metadata": {},
   "outputs": [],
   "source": [
    "index_to_fold = {\n",
    "    0: 2,\n",
    "    1: 2,\n",
    "    2: 1,\n",
    "    3: 0,\n",
    "    4: 1,\n",
    "    5: 4,\n",
    "    6: 0,\n",
    "    7: 2,\n",
    "    8: 3,\n",
    "    9: 3,\n",
    "    10: 0,\n",
    "    11: 4,\n",
    "    12: 4,\n",
    "    13: 2,\n",
    "    14: 1,\n",
    "    15: 0,\n",
    "    16: 1,\n",
    "    17: 3,\n",
    "    18: 3,\n",
    "}"
   ]
  },
  {
   "cell_type": "code",
   "execution_count": 132,
   "id": "eb53d6f9",
   "metadata": {},
   "outputs": [],
   "source": [
    "def get_test_peaks(activations, f_rate, threshold=0.5, kernel_size=5, n_pre=5, n_post=5):\n",
    "    return madmom.features.onsets.peak_picking(\n",
    "                                        activations=activations, \n",
    "                                        threshold=threshold, \n",
    "                                        smooth=kernel_size, \n",
    "                                        pre_avg=n_pre, \n",
    "                                        post_avg=n_post, \n",
    "                                        pre_max=n_pre, \n",
    "                                        post_max=n_post\n",
    "    )[0].astype(np.float32)*f_rate"
   ]
  },
  {
   "cell_type": "code",
   "execution_count": 130,
   "id": "b57be9f2",
   "metadata": {},
   "outputs": [],
   "source": [
    "with open('results/cnn-training-220331/mean_by_fold.pickle', 'rb') as file_pi:\n",
    "    means = pickle.load(file_pi)\n",
    "with open('results/cnn-training-220331/std_by_fold.pickle', 'rb') as file_pi:\n",
    "    stds = pickle.load(file_pi)"
   ]
  },
  {
   "cell_type": "code",
   "execution_count": 160,
   "id": "741d8287",
   "metadata": {},
   "outputs": [
    {
     "name": "stdout",
     "output_type": "stream",
     "text": [
      "Test recording no  1  which is in test set of fold  2\n",
      "Loading data...\n",
      "Loading model...\n",
      "Predicting...\n",
      "Evaluating...\n",
      "Precision: 78.2 %\n",
      "Recall: 98.4 %\n",
      "F-score: 87.1 %\n",
      "Test recording no  2  which is in test set of fold  2\n",
      "Loading data...\n",
      "Loading model...\n",
      "Predicting...\n",
      "Evaluating...\n",
      "Precision: 71.8 %\n",
      "Recall: 100.0 %\n",
      "F-score: 83.6 %\n",
      "Test recording no  3  which is in test set of fold  1\n",
      "Loading data...\n",
      "Loading model...\n",
      "Predicting...\n",
      "Evaluating...\n",
      "Precision: 76.0 %\n",
      "Recall: 93.4 %\n",
      "F-score: 83.8 %\n",
      "Test recording no  4  which is in test set of fold  0\n",
      "Loading data...\n",
      "Loading model...\n"
     ]
    },
    {
     "name": "stderr",
     "output_type": "stream",
     "text": [
      "Exception ignored in: <function WeakKeyDictionary.__init__.<locals>.remove at 0x13d3caa60>\n",
      "Traceback (most recent call last):\n",
      "  File \"/usr/local/Cellar/python@3.9/3.9.10/Frameworks/Python.framework/Versions/3.9/lib/python3.9/weakref.py\", line 370, in remove\n",
      "    def remove(k, selfref=ref(self)):\n",
      "KeyboardInterrupt: \n"
     ]
    },
    {
     "name": "stdout",
     "output_type": "stream",
     "text": [
      "Predicting...\n",
      "Evaluating...\n",
      "Precision: 90.9 %\n",
      "Recall: 93.3 %\n",
      "F-score: 92.1 %\n",
      "Test recording no  5  which is in test set of fold  1\n",
      "Loading data...\n",
      "Loading model...\n",
      "Predicting...\n",
      "Evaluating...\n",
      "Precision: 68.8 %\n",
      "Recall: 94.1 %\n",
      "F-score: 79.5 %\n",
      "Test recording no  6  which is in test set of fold  4\n",
      "Loading data...\n",
      "Loading model...\n",
      "Predicting...\n",
      "Evaluating...\n",
      "Precision: 93.6 %\n",
      "Recall: 95.4 %\n",
      "F-score: 94.5 %\n",
      "Test recording no  7  which is in test set of fold  0\n",
      "Loading data...\n",
      "Loading model...\n",
      "Predicting...\n",
      "Evaluating...\n",
      "Precision: 92.5 %\n",
      "Recall: 84.7 %\n",
      "F-score: 88.4 %\n",
      "Test recording no  8  which is in test set of fold  2\n",
      "Loading data...\n",
      "Loading model...\n",
      "Predicting...\n",
      "Evaluating...\n",
      "Precision: 79.8 %\n",
      "Recall: 96.7 %\n",
      "F-score: 87.4 %\n",
      "Test recording no  9  which is in test set of fold  3\n",
      "Loading data...\n",
      "Loading model...\n",
      "Predicting...\n",
      "Evaluating...\n",
      "Precision: 75.0 %\n",
      "Recall: 92.6 %\n",
      "F-score: 82.9 %\n",
      "Test recording no  10  which is in test set of fold  3\n",
      "Loading data...\n",
      "Loading model...\n",
      "Predicting...\n",
      "Evaluating...\n",
      "Precision: 50.0 %\n",
      "Recall: 50.0 %\n",
      "F-score: 50.0 %\n",
      "Test recording no  11  which is in test set of fold  0\n",
      "Loading data...\n",
      "Loading model...\n",
      "Predicting...\n",
      "Evaluating...\n",
      "Precision: 60.4 %\n",
      "Recall: 63.0 %\n",
      "F-score: 61.7 %\n",
      "Test recording no  12  which is in test set of fold  4\n",
      "Loading data...\n",
      "Loading model...\n",
      "Predicting...\n",
      "Evaluating...\n",
      "Precision: 49.2 %\n",
      "Recall: 93.8 %\n",
      "F-score: 64.5 %\n",
      "Test recording no  13  which is in test set of fold  4\n",
      "Loading data...\n",
      "Loading model...\n",
      "Predicting...\n",
      "Evaluating...\n",
      "Precision: 65.6 %\n",
      "Recall: 95.5 %\n",
      "F-score: 77.8 %\n",
      "Test recording no  14  which is in test set of fold  2\n",
      "Loading data...\n",
      "Loading model...\n",
      "Predicting...\n",
      "Evaluating...\n",
      "Precision: 69.8 %\n",
      "Recall: 83.0 %\n",
      "F-score: 75.9 %\n",
      "Test recording no  15  which is in test set of fold  1\n",
      "Loading data...\n",
      "Loading model...\n",
      "Predicting...\n",
      "Evaluating...\n",
      "Precision: 72.7 %\n",
      "Recall: 91.2 %\n",
      "F-score: 80.9 %\n",
      "Test recording no  16  which is in test set of fold  0\n",
      "Loading data...\n",
      "Loading model...\n",
      "Predicting...\n",
      "Evaluating...\n",
      "Precision: 69.2 %\n",
      "Recall: 87.1 %\n",
      "F-score: 77.1 %\n",
      "Test recording no  17  which is in test set of fold  1\n",
      "Loading data...\n",
      "Loading model...\n",
      "Predicting...\n",
      "Evaluating...\n",
      "Precision: 54.5 %\n",
      "Recall: 73.8 %\n",
      "F-score: 62.7 %\n",
      "Test recording no  18  which is in test set of fold  3\n",
      "Loading data...\n",
      "Loading model...\n",
      "Predicting...\n",
      "Evaluating...\n",
      "Precision: 42.1 %\n",
      "Recall: 50.0 %\n",
      "F-score: 45.7 %\n",
      "Test recording no  19  which is in test set of fold  3\n",
      "Loading data...\n",
      "Loading model...\n",
      "Predicting...\n",
      "Evaluating...\n",
      "Precision: 85.4 %\n",
      "Recall: 89.2 %\n",
      "F-score: 87.2 %\n"
     ]
    }
   ],
   "source": [
    "from analyze_detection import evaluate\n",
    "\n",
    "TOL = 0.03\n",
    "\n",
    "for test_index in np.arange(0,19):\n",
    "    fold = index_to_fold[test_index]\n",
    "    print(\"Test recording no \", test_index + 1, \" which is in test set of fold \", fold)\n",
    "    print(\"Loading data...\")\n",
    "    X_test = X[test_index]\n",
    "    training_name = \"finetune-dense-dropout\"\n",
    "    print(\"Loading model...\")\n",
    "\n",
    "    #Fold-independent\n",
    "    model = tf.keras.models.load_model('results/cnn-training-220330/finetune-all-plus-dropout_model')\n",
    "    model = tf.keras.models.load_model('results/cnn-training-220331/{}_fold_{}_model'.format(fold, training_name))\n",
    "    print(\"Predicting...\")\n",
    "    test_model_out = model.predict((X_test-means[fold])/stds[fold])\n",
    "    peaks = get_test_peaks(test_model_out, HOP/SR)\n",
    "    print(\"Evaluating...\")\n",
    "    [CD,FN,FP,doubles,merged] = evaluate(onset_schedules[test_index], peaks, tol_sec=TOL)\n",
    "    print(\"Precision: {:.1f} %\".format( 100*CD/(CD+FP)))\n",
    "    print(\"Recall: {:.1f} %\".format( 100*CD/(CD+FN)))\n",
    "    print(\"F-score: {:.1f} %\".format( 200*CD/(2*CD+FP+FN)))\n",
    "    #print(\"{}\\t{}\\t{}\".format(CD,FN,FP))\n",
    "\n",
    "    "
   ]
  },
  {
   "cell_type": "code",
   "execution_count": 128,
   "id": "6a820900",
   "metadata": {},
   "outputs": [],
   "source": [
    "def get_test_peaks(activations, f_rate, threshold=0.5, kernel_size=5, n_pre=5, n_post=5):\n",
    "    return madmom.features.onsets.peak_picking(\n",
    "                                        activations=activations, \n",
    "                                        threshold=threshold, \n",
    "                                        smooth=kernel_size, \n",
    "                                        pre_avg=n_pre, \n",
    "                                        post_avg=n_post, \n",
    "                                        pre_max=n_pre, \n",
    "                                        post_max=n_post\n",
    "    )[0].astype(np.float32)*f_rate\n"
   ]
  },
  {
   "cell_type": "code",
   "execution_count": 67,
   "id": "db506487",
   "metadata": {},
   "outputs": [
    {
     "name": "stdout",
     "output_type": "stream",
     "text": [
      "[10.099999  10.26      10.4       10.5199995 10.679999  10.79\n",
      " 10.94      11.05      11.23      11.79      12.44      12.57\n",
      " 12.71      12.83      12.99      13.11      13.24      13.37\n",
      " 13.54     ]\n"
     ]
    },
    {
     "data": {
      "text/plain": [
       "<matplotlib.collections.PathCollection at 0x14d8142b0>"
      ]
     },
     "execution_count": 67,
     "metadata": {},
     "output_type": "execute_result"
    },
    {
     "data": {
      "image/png": "[encoded data removed]",
      "text/plain": [
       "<Figure size 432x288 with 1 Axes>"
      ]
     },
     "metadata": {
      "needs_background": "light"
     },
     "output_type": "display_data"
    }
   ],
   "source": [
    "start_sec = 10\n",
    "end_sec = 14\n",
    "selected_peaks = test_peaks[np.intersect1d(\n",
    "    np.where(test_peaks>=start_sec)[0],\n",
    "    np.where(test_peaks<end_sec)[0])\n",
    "]\n",
    "selected_onsets = full_onsets[np.intersect1d(\n",
    "    np.where(full_onsets>=start_sec)[0],\n",
    "    np.where(full_onsets<end_sec)[0])\n",
    "]\n",
    "print(selected_peaks)\n",
    "plt.scatter(selected_peaks, np.zeros_like(selected_peaks), marker='x', color='blue')\n",
    "plt.scatter(selected_onsets, np.zeros_like(selected_onsets), marker='x', color='green')"
   ]
  },
  {
   "cell_type": "code",
   "execution_count": 126,
   "id": "10d8b049",
   "metadata": {},
   "outputs": [
    {
     "name": "stdout",
     "output_type": "stream",
     "text": [
      "Precision: 61.0 %\n",
      "Recall: 76.2 %\n",
      "F-score: 67.8 %\n"
     ]
    }
   ],
   "source": [
    "from analyze_detection import evaluate\n",
    "\n",
    "true = full_onsets\n",
    "pred = test_peaks\n",
    "\n",
    "TOL = 0.03\n",
    "[CD,FN,FP,doubles,merged] = evaluate(true, pred, tol_sec=TOL)\n",
    "print(\"Precision: {:.1f} %\".format( 100*CD/(CD+FP)))\n",
    "print(\"Recall: {:.1f} %\".format( 100*CD/(CD+FN)))\n",
    "print(\"F-score: {:.1f} %\".format( 200*CD/(2*CD+FP+FN)))"
   ]
  },
  {
   "cell_type": "code",
   "execution_count": 82,
   "id": "238a057a",
   "metadata": {},
   "outputs": [
    {
     "name": "stdout",
     "output_type": "stream",
     "text": [
      "Cannot plot selected region, choose other start/dur values\n"
     ]
    },
    {
     "data": {
      "text/plain": [
       "<Figure size 1800x360 with 0 Axes>"
      ]
     },
     "metadata": {},
     "output_type": "display_data"
    }
   ],
   "source": [
    "start_sec = 30\n",
    "dur_sec = 5\n",
    "\n",
    "selected_audio = full_audio[start_sec*SR:(start_sec+dur_sec)*SR]\n",
    "selected_onsets = full_onsets[np.intersect1d(\n",
    "        np.where(full_onsets>=start_sec)[0], \n",
    "        np.where(full_onsets<start_sec+dur_sec)[0]\n",
    ")]\n",
    "selected_onehot = full_onset_vectors[int(start_sec/F_RATE):int((start_sec+dur_sec)/F_RATE)]\n",
    "fig = plt.figure(figsize=(25,5))\n",
    "if start_sec + dur_sec < len(full_audio)/SR:\n",
    "    \n",
    "    \n",
    "    plt.plot(\n",
    "        np.linspace(start_sec, start_sec+dur_sec, dur_sec*SR),\n",
    "        selected_audio, \n",
    "        color=\"lightgray\"\n",
    "    )\n",
    "    for i, onset in enumerate(selected_onehot):\n",
    "        if onset==1:\n",
    "            plt.scatter(start_sec + i*F_RATE/dur_sec, 0, color='green')\n",
    "    plt.xlabel(\"Seconds\")\n",
    "    plt.show()\n",
    "\n",
    "else:\n",
    "    print(\"Cannot plot selected region, choose other start/dur values\")"
   ]
  },
  {
   "cell_type": "code",
   "execution_count": 138,
   "id": "245acaf2",
   "metadata": {},
   "outputs": [
    {
     "name": "stdout",
     "output_type": "stream",
     "text": [
      "2\n",
      "2\n",
      "1\n",
      "0\n",
      "1\n",
      "4\n",
      "0\n",
      "2\n",
      "3\n",
      "3\n",
      "0\n",
      "4\n",
      "4\n",
      "2\n",
      "1\n",
      "0\n",
      "1\n",
      "3\n",
      "3\n"
     ]
    }
   ],
   "source": [
    "for f in index_to_fold.values():\n",
    "    print(f)"
   ]
  },
  {
   "cell_type": "code",
   "execution_count": 22,
   "id": "f2f78602",
   "metadata": {},
   "outputs": [
    {
     "name": "stdout",
     "output_type": "stream",
     "text": [
      "Precision: 58.2 %\n",
      "Recall: 61.5 %\n"
     ]
    }
   ],
   "source": []
  },
  {
   "cell_type": "code",
   "execution_count": null,
   "id": "22736e04",
   "metadata": {},
   "outputs": [],
   "source": [
    "#f = open(\"datasets/initslurtest_vn/model-output/bockmodel-220315-slurtest{:02d}.txt\".format(test_index), \"w\")\n",
    "#for i in range(len(peaks)):\n",
    "#    f.write(str(np.round((peaks[i]+7)*440/44100, decimals=2))+ \"\\n\")\n",
    "#f.close()"
   ]
  },
  {
   "cell_type": "code",
   "execution_count": null,
   "id": "82bf4341",
   "metadata": {},
   "outputs": [],
   "source": []
  }
 ],
 "metadata": {
  "kernelspec": {
   "display_name": "flow",
   "language": "python",
   "name": "flow"
  },
  "language_info": {
   "codemirror_mode": {
    "name": "ipython",
    "version": 3
   },
   "file_extension": ".py",
   "mimetype": "text/x-python",
   "name": "python",
   "nbconvert_exporter": "python",
   "pygments_lexer": "ipython3",
   "version": "3.8.10"
  }
 },
 "nbformat": 4,
 "nbformat_minor": 5
}
