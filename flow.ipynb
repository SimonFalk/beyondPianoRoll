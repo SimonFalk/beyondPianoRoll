{
 "cells": [
  {
   "cell_type": "code",
   "execution_count": 1,
   "id": "b0f89d5a",
   "metadata": {},
   "outputs": [],
   "source": [
    "import os\n",
    "import pickle\n",
    "import datetime\n",
    "import warnings\n",
    "\n",
    "import numpy as np\n",
    "from numpy import genfromtxt\n",
    "import matplotlib.pyplot as plt\n",
    "from sklearn.model_selection import KFold, train_test_split, StratifiedKFold\n",
    "\n",
    "import tensorflow as tf\n",
    "import madmom\n",
    "\n",
    "from segment import segment_spectrogram\n",
    "from modules.labels import get_label_vector, shuffle_frames, get_label_table\n",
    "from modules.madmom_cnn_prep import cnn_preprocessor, cnn_normalize\n",
    "from datasets import Dataset\n",
    "from analyze_detection import evaluate, f_score\n",
    "from models.bock2013pret import get_model\n",
    "\n",
    "%load_ext autoreload\n",
    "%autoreload 2\n",
    "\n",
    "def fxn():\n",
    "    warnings.warn(\"deprecated\", DeprecationWarning)\n",
    "\n",
    "SR = 44100\n",
    "FPS = 100\n",
    "CONTEXT = 7"
   ]
  },
  {
   "cell_type": "code",
   "execution_count": 2,
   "id": "29ac37ea",
   "metadata": {},
   "outputs": [
    {
     "name": "stdout",
     "output_type": "stream",
     "text": [
      "Some sample rates are not equal to 44.1kHz!\n",
      "Some sample rates are not equal to 44.1kHz!\n",
      "Some sample rates are not equal to 44.1kHz!\n"
     ]
    },
    {
     "name": "stderr",
     "output_type": "stream",
     "text": [
      "/home/simonf/.venv/onsets/lib/python3.8/site-packages/madmom/audio/signal.py:457: UserWarning: Deprecated as of version 0.16. Please use madmom.io.audio.load_wave_file instead. Will be removed in version 0.18.\n",
      "  warnings.warn('Deprecated as of version 0.16. Please use madmom.io.audio.'\n",
      "/home/simonf/.venv/onsets/lib/python3.8/site-packages/madmom/io/audio.py:493: WavFileWarning: Chunk (non-data) not understood, skipping it.\n",
      "  file_sample_rate, signal = wavfile.read(filename, mmap=True)\n"
     ]
    }
   ],
   "source": [
    "ds0 = Dataset(\"initslurtest\")\n",
    "ds1 = Dataset(\"slurtest_add_1\")\n",
    "ds2 = Dataset(\"slurtest_add_2\")\n",
    "ds3 = Dataset(\"slurtest_test\")\n",
    "\n",
    "audio_fnames = ds0.get_audio_paths() + ds1.get_audio_paths() + ds2.get_audio_paths() + ds3.get_audio_paths()\n",
    "label_fnames = ds0.get_annotation_paths() + ds1.get_annotation_paths() + ds2.get_annotation_paths() + ds2.get_annotation_paths()\n",
    "\n",
    "\n",
    "audios = [madmom.audio.signal.load_wave_file(filename)[0] for filename in audio_fnames]\n",
    "sample_rates = [madmom.audio.signal.load_wave_file(filename)[1] for filename in audio_fnames]\n",
    "onset_schedules = [np.loadtxt(label_fname, usecols=0) for label_fname in label_fnames]\n",
    "for ele in sample_rates:\n",
    "    if ele != SR:\n",
    "        print(\"Some sample rates are not equal to 44.1kHz!\")\n",
    "\n",
    "# TODO move to mixed dataset (not based on recordings)\n",
    "# TODO investigate sample rate problem\n"
   ]
  },
  {
   "cell_type": "code",
   "execution_count": 3,
   "id": "ba7d99b1",
   "metadata": {},
   "outputs": [],
   "source": [
    "# Load preprocessing funciton\n",
    "preprocessor = cnn_preprocessor()\n",
    "box_processor = madmom.features.onsets.CNNOnsetProcessor()"
   ]
  },
  {
   "cell_type": "code",
   "execution_count": 5,
   "id": "df3577bc",
   "metadata": {},
   "outputs": [
    {
     "ename": "TypeError",
     "evalue": "can only concatenate str (not \"int\") to str",
     "output_type": "error",
     "traceback": [
      "\u001b[0;31m---------------------------------------------------------------------------\u001b[0m",
      "\u001b[0;31mTypeError\u001b[0m                                 Traceback (most recent call last)",
      "\u001b[1;32m/home/simonf/beyondPianoRoll/flow.ipynb Cell 4\u001b[0m in \u001b[0;36m<cell line: 18>\u001b[0;34m()\u001b[0m\n\u001b[1;32m     <a href='vscode-notebook-cell://ssh-remote%2B130.237.67.120/home/simonf/beyondPianoRoll/flow.ipynb#W3sdnNjb2RlLXJlbW90ZQ%3D%3D?line=12'>13</a>\u001b[0m         \u001b[39mreturn\u001b[39;00m audio\u001b[39m+\u001b[39mnp\u001b[39m.\u001b[39mrandom\u001b[39m.\u001b[39mnormal(\n\u001b[1;32m     <a href='vscode-notebook-cell://ssh-remote%2B130.237.67.120/home/simonf/beyondPianoRoll/flow.ipynb#W3sdnNjb2RlLXJlbW90ZQ%3D%3D?line=13'>14</a>\u001b[0m             scale\u001b[39m=\u001b[39mmadmom\u001b[39m.\u001b[39maudio\u001b[39m.\u001b[39msignal\u001b[39m.\u001b[39mroot_mean_square(audio)\u001b[39m/\u001b[39m(\u001b[39m10\u001b[39m\u001b[39m*\u001b[39m\u001b[39m*\u001b[39m(p\u001b[39m/\u001b[39m\u001b[39m20\u001b[39m)),\n\u001b[1;32m     <a href='vscode-notebook-cell://ssh-remote%2B130.237.67.120/home/simonf/beyondPianoRoll/flow.ipynb#W3sdnNjb2RlLXJlbW90ZQ%3D%3D?line=14'>15</a>\u001b[0m             size\u001b[39m=\u001b[39maudio\u001b[39m.\u001b[39mshape\n\u001b[1;32m     <a href='vscode-notebook-cell://ssh-remote%2B130.237.67.120/home/simonf/beyondPianoRoll/flow.ipynb#W3sdnNjb2RlLXJlbW90ZQ%3D%3D?line=15'>16</a>\u001b[0m             )\n\u001b[1;32m     <a href='vscode-notebook-cell://ssh-remote%2B130.237.67.120/home/simonf/beyondPianoRoll/flow.ipynb#W3sdnNjb2RlLXJlbW90ZQ%3D%3D?line=17'>18</a>\u001b[0m \u001b[39mfor\u001b[39;00m audio, fname \u001b[39min\u001b[39;00m \u001b[39mzip\u001b[39m(audios, audio_fnames):\n\u001b[0;32m---> <a href='vscode-notebook-cell://ssh-remote%2B130.237.67.120/home/simonf/beyondPianoRoll/flow.ipynb#W3sdnNjb2RlLXJlbW90ZQ%3D%3D?line=18'>19</a>\u001b[0m     np\u001b[39m.\u001b[39msave(\u001b[39m\"\u001b[39;49m\u001b[39mdataset/augmented/\u001b[39;49m\u001b[39m\"\u001b[39;49m \u001b[39m+\u001b[39;49m os\u001b[39m.\u001b[39;49mpath\u001b[39m.\u001b[39;49mbasename(fname) \u001b[39m+\u001b[39;49m \u001b[39m\"\u001b[39;49m\u001b[39m_noise_SNRdB_\u001b[39;49m\u001b[39m\"\u001b[39;49m\u001b[39m+\u001b[39;49mSNR_DB)\n",
      "\u001b[0;31mTypeError\u001b[0m: can only concatenate str (not \"int\") to str"
     ]
    }
   ],
   "source": [
    "# Add white noise to recordings\n",
    "# Noise variance is adjusted to a fixed Signal Noise Ratio computed recording-wise\n",
    "# snr_db = 20 means S/N=10\n",
    "# snr_db = 10 means S/N≈3.2\n",
    "SNR_DB = 10\n",
    "snr_v = 10**(SNR_DB/20)\n",
    "\n",
    "def augmentation(audio, t=None, p=None):\n",
    "    if t==None:\n",
    "        return audio\n",
    "    elif t==\"white_noise\":\n",
    "        # p contains snr_db parameter\n",
    "        return audio+np.random.normal(\n",
    "            scale=madmom.audio.signal.root_mean_square(audio)/(10**(p/20)),\n",
    "            size=audio.shape\n",
    "            )\n",
    "\n",
    "for audio, fname in zip(audios, audio_fnames):\n",
    "    np.save(\"dataset/augmented/\" + os.path.basename(fname) + \"_noise_SNRdB_\"+SNR_DB)\n",
    "\n",
    "# TODO enable augmentation\n"
   ]
  },
  {
   "cell_type": "code",
   "execution_count": 4,
   "id": "78d4d97e",
   "metadata": {},
   "outputs": [],
   "source": [
    "onset_vectors = [get_label_vector(sched, len(audio)/sr, FPS)\n",
    "    for (sched, audio, sr) in zip(onset_schedules, audios, sample_rates)\n",
    "]"
   ]
  },
  {
   "cell_type": "code",
   "execution_count": 5,
   "id": "9d6656f4",
   "metadata": {},
   "outputs": [
    {
     "name": "stderr",
     "output_type": "stream",
     "text": [
      "/home/simonf/.venv/onsets/lib/python3.8/site-packages/madmom/io/audio.py:493: WavFileWarning: Chunk (non-data) not understood, skipping it.\n",
      "  file_sample_rate, signal = wavfile.read(filename, mmap=True)\n",
      "/home/simonf/.venv/onsets/lib/python3.8/site-packages/madmom/io/audio.py:493: WavFileWarning: Chunk (non-data) not understood, skipping it.\n",
      "  file_sample_rate, signal = wavfile.read(filename, mmap=True)\n",
      "/home/simonf/.venv/onsets/lib/python3.8/site-packages/madmom/io/audio.py:493: WavFileWarning: Chunk (non-data) not understood, skipping it.\n",
      "  file_sample_rate, signal = wavfile.read(filename, mmap=True)\n"
     ]
    }
   ],
   "source": [
    "# Create data and normalize\n",
    "mm_proc_frames = [preprocessor(fname) for fname in audio_fnames]\n",
    "mm_frames_normalized = [cnn_normalize(frame_set) for frame_set in mm_proc_frames]\n"
   ]
  },
  {
   "cell_type": "code",
   "execution_count": 6,
   "id": "7144fff3",
   "metadata": {},
   "outputs": [],
   "source": [
    "def data_generator(\n",
    "    batch_size,\n",
    "    steps_per_epoch,\n",
    "    epochs,\n",
    "    idx, \n",
    "    sampling=True,\n",
    "    mode=None,\n",
    "    standard=False,\n",
    "    mean=None,\n",
    "    std=None, \n",
    "    single_channel=False\n",
    "):\n",
    "    \n",
    "    #for _ in range(steps_per_epoch * epochs):\n",
    "    if not sampling:\n",
    "        ep = 0\n",
    "        file_p = 0\n",
    "        frame_p = 0\n",
    "    \n",
    "    while True:\n",
    "        # Select indices for training or test\n",
    "        if sampling:\n",
    "            file_i = np.random.choice(idx)\n",
    "        else:\n",
    "            file_i = idx[file_p]\n",
    "        \n",
    "        #print(\"Selected file index: \", file_i)\n",
    "        fname = audio_fnames[file_i]\n",
    "        \n",
    "        if mode==\"use_prep_frames\":\n",
    "            frames = mm_frames_normalized[file_i]\n",
    "        elif mode==\"use_raw_frames\":\n",
    "            # No normalization\n",
    "            frames = mm_proc_frames[file_i]    \n",
    "        else:\n",
    "            # Compute frames\n",
    "            with warnings.catch_warnings():\n",
    "                warnings.simplefilter(\"ignore\")\n",
    "                fxn()\n",
    "                frames = cnn_normalize(preprocessor(fname))\n",
    "\n",
    "        if standard:\n",
    "            frames = (frames-mean)/std\n",
    "            \n",
    "        #print(\"Frame size: \", frames.shape[0])\n",
    "\n",
    "        # Retrieve onsets \n",
    "        onsets = onset_vectors[file_i]\n",
    "        #print(\"Computed frames of size \", frames.shape)\n",
    "        #print(\"Onset vectors have len \", len(onsets))\n",
    "\n",
    "        # Sample a set of indices (defined from audio start,\n",
    "        # that is CONTEXT values counted from x array start)\n",
    "        if sampling:\n",
    "            focus_idx = np.random.choice(\n",
    "                np.arange(frames.shape[0]-2*CONTEXT-1), \n",
    "                size=batch_size\n",
    "            )\n",
    "            #print(\"Sampled focus idx between \", 0, \" and \", frames.shape[0]-2*CONTEXT-1)\n",
    "        else:\n",
    "            #print(\"Focus idx from \", frame_p, \" to \", frame_p+batch_size)\n",
    "            focus_idx = np.arange(frame_p, frame_p+batch_size)\n",
    "        \n",
    "\n",
    "        # Segmentation\n",
    "        x = [frames[focus:focus+2*CONTEXT+1,:,:] for focus in focus_idx]\n",
    "        if single_channel:\n",
    "            x = np.transpose(np.stack(x,0)[:,:,:,0], [0,2,1])\n",
    "        else:   \n",
    "            x = np.transpose(np.stack(x, 0), [0,2,1,3])\n",
    "        #print(\"Segmented x has shape \", x.shape)\n",
    "        if x.shape[0] != batch_size:\n",
    "            print(\"Delivering less than batch-size\")\n",
    "\n",
    "        # Labels\n",
    "        y = onsets[focus_idx]\n",
    "        yield (x, y)\n",
    "\n",
    "        if not sampling:\n",
    "            if frame_p + 2*batch_size >= frames.shape[0]-2*CONTEXT-1:\n",
    "                if file_p == len(idx) - 1:\n",
    "                    ep += 1\n",
    "                    print(\"Generator reached end of epoch. Resetting...\")\n",
    "                    file_p = 0\n",
    "                    frame_p = 0\n",
    "                else:\n",
    "                    file_p += 1\n",
    "                    frame_p = 0\n",
    "            else:\n",
    "                frame_p += batch_size\n",
    "            "
   ]
  },
  {
   "cell_type": "code",
   "execution_count": 7,
   "id": "9ab8a240",
   "metadata": {},
   "outputs": [],
   "source": [
    "# Custom split:\n",
    "n_splits = 1\n",
    "split_at_rec = 18\n",
    "folds = [[np.arange(split_at_rec), np.arange(split_at_rec, len(audio_fnames))]]\n",
    "folds = [[[1], [2]]]\n"
   ]
  },
  {
   "cell_type": "code",
   "execution_count": 7,
   "id": "207926be",
   "metadata": {},
   "outputs": [],
   "source": [
    "# Stratified by musician\n",
    "sa_recs = list(np.arange(19)) + [23, 25, 28, 32, 36, 37, 45, 46]\n",
    "fk_recs = [22, 29, 30, 33, 44, 47]\n",
    "ir_recs = np.setdiff1d(list(np.arange(49)), sa_recs + fk_recs)\n",
    "\n",
    "random_seed = 119\n",
    "n_splits = 5\n",
    "skf = StratifiedKFold(n_splits=5, shuffle=True, random_state=random_seed)\n",
    "\n",
    "folds = list(skf.split(\n",
    "    np.concatenate((sa_recs, ir_recs)), # Indices in devset\n",
    "    np.concatenate((np.zeros(len(sa_recs)), np.ones(len(ir_recs)))) # Boolean whether recs are played by a certain musician\n",
    "))\n"
   ]
  },
  {
   "cell_type": "code",
   "execution_count": 80,
   "id": "bcc4b361",
   "metadata": {},
   "outputs": [],
   "source": [
    "# K-Fold:\n",
    "random_seed = 119\n",
    "n_splits =  5\n",
    "kf = KFold(n_splits=n_splits, shuffle=True, random_state=True)\n",
    "folds = list(kf.split(np.arange(len(audio_fnames))))"
   ]
  },
  {
   "cell_type": "code",
   "execution_count": 8,
   "id": "89002ea2",
   "metadata": {},
   "outputs": [],
   "source": [
    "# Precompute statistics\n",
    "means_per_fold = []\n",
    "std_per_fold = []\n",
    "onset_ratios = []\n",
    "for train_idx, test_idx in folds:\n",
    "    train_frames = np.concatenate([mm_proc_frames[i] for i in train_idx]) \n",
    "    mean_train = train_frames.mean(0)\n",
    "    std_train = train_frames.std(0, ddof=1)\n",
    "    means_per_fold.append(np.expand_dims(mean_train, axis=0))\n",
    "    std_per_fold.append(np.expand_dims(std_train, axis=0))\n",
    "\n",
    "#with open('results/computed/added_means_by_fold.pickle', 'wb') as file_pi:\n",
    "#    pickle.dump(means_per_fold, file_pi)\n",
    "#with open('results/computed/added_std_by_fold.pickle', 'wb') as file_pi:\n",
    "#    pickle.dump(std_per_fold, file_pi)\n",
    "\n"
   ]
  },
  {
   "cell_type": "code",
   "execution_count": 9,
   "id": "55b91d22",
   "metadata": {},
   "outputs": [],
   "source": [
    "def compute_steps(idx, bs):\n",
    "    song_sizes = np.array([len(f) for f in mm_proc_frames])[idx]-2*CONTEXT-1\n",
    "    steps_per_song = np.floor_divide(song_sizes, bs)\n",
    "    return np.sum(steps_per_song)"
   ]
  },
  {
   "cell_type": "code",
   "execution_count": 10,
   "id": "0be42001",
   "metadata": {},
   "outputs": [],
   "source": [
    "datasets = \"full\"\n",
    "continue_run = False\n",
    "training_mode = 0 # REMEMBER TO CHANGE\n",
    "check_at_epoch = None\n",
    "\n",
    "custom_model = False\n",
    "\n",
    "save = False # REMEMBER TO CHANGE\n",
    " # REMEMBER TO CHANGE\n",
    "save_path = \"results/cnn-training-220425/\" # TODO - automatically\n",
    "n_epochs = 10 # REMEMBER TO CHANGE\n",
    "learning_r = 0.0005\n",
    "bs = 256\n",
    "steps_per_epoch = int(np.sum(np.array([len(f) for f in mm_proc_frames])[folds[0][0]]-2*CONTEXT-1)/bs)\n",
    "val_steps_per_epoch = 100\n",
    "nogen = False\n",
    "sampling = False\n",
    "l2_lambda = 0 # DEFAULT: 0.01\n",
    "dropout_p = 0.0\n",
    "W = np.sum([len(vec) for vec in onset_vectors])/np.sum([vec.sum() for vec in onset_vectors])\n",
    "\n",
    "finetune = False\n",
    "\n",
    "standard = True # keep in mind on which data format statistics are computed \n",
    "mode = 'use_prep_frames' # Preparing by BN layer/\"CNN normalization\"\n",
    "mode = 'use_raw_frames' # No preparing\n",
    "\n",
    "\n",
    "training_name = \"{}-{}-{}eps-lr{:.4f}-{}\".format(\n",
    "    datasets, \n",
    "    \"nogen\" if nogen else (\"sample\" if sampling else \"seq\"),\n",
    "    n_epochs,\n",
    "    learning_r,\n",
    "    \"standard\" if standard else \"nostandard\"\n",
    ")\n"
   ]
  },
  {
   "cell_type": "code",
   "execution_count": 11,
   "id": "bb961d30",
   "metadata": {},
   "outputs": [],
   "source": [
    "def wbce(y_true, y_pred):\n",
    "    y_pred = tf.keras.backend.clip(y_pred, 1e-7, 1-1e-7)\n",
    "    logits = tf.keras.backend.log(y_pred/(1-y_pred))\n",
    "    return tf.nn.weighted_cross_entropy_with_logits(\n",
    "        y_true, logits, W\n",
    "    )\n",
    "\n",
    "loss_fn = tf.keras.losses.BinaryCrossentropy(from_logits=False)\n",
    "optimizer = tf.keras.optimizers.Adam()\n",
    "metrics = [\n",
    "    wbce\n",
    "    #tf.keras.metrics.TruePositives(name='tp', thresholds=0.5),\n",
    "    #tf.keras.metrics.TrueNegatives(name='tn', thresholds=0.5),\n",
    "    #tf.keras.metrics.FalsePositives(name='fp', thresholds=0.5),\n",
    "    #tf.keras.metrics.FalseNegatives(name='fn', thresholds=0.5),\n",
    "]"
   ]
  },
  {
   "cell_type": "code",
   "execution_count": 12,
   "id": "accf57d0",
   "metadata": {},
   "outputs": [
    {
     "name": "stderr",
     "output_type": "stream",
     "text": [
      "2022-10-22 14:46:44.304685: I tensorflow/stream_executor/cuda/cuda_gpu_executor.cc:936] successful NUMA node read from SysFS had negative value (-1), but there must be at least one NUMA node, so returning NUMA node zero\n",
      "2022-10-22 14:46:44.318039: I tensorflow/stream_executor/cuda/cuda_gpu_executor.cc:936] successful NUMA node read from SysFS had negative value (-1), but there must be at least one NUMA node, so returning NUMA node zero\n",
      "2022-10-22 14:46:44.318802: I tensorflow/stream_executor/cuda/cuda_gpu_executor.cc:936] successful NUMA node read from SysFS had negative value (-1), but there must be at least one NUMA node, so returning NUMA node zero\n",
      "2022-10-22 14:46:44.320294: I tensorflow/core/platform/cpu_feature_guard.cc:151] This TensorFlow binary is optimized with oneAPI Deep Neural Network Library (oneDNN) to use the following CPU instructions in performance-critical operations:  AVX2 FMA\n",
      "To enable them in other operations, rebuild TensorFlow with the appropriate compiler flags.\n",
      "2022-10-22 14:46:44.320882: I tensorflow/stream_executor/cuda/cuda_gpu_executor.cc:936] successful NUMA node read from SysFS had negative value (-1), but there must be at least one NUMA node, so returning NUMA node zero\n",
      "2022-10-22 14:46:44.321616: I tensorflow/stream_executor/cuda/cuda_gpu_executor.cc:936] successful NUMA node read from SysFS had negative value (-1), but there must be at least one NUMA node, so returning NUMA node zero\n",
      "2022-10-22 14:46:44.322381: I tensorflow/stream_executor/cuda/cuda_gpu_executor.cc:936] successful NUMA node read from SysFS had negative value (-1), but there must be at least one NUMA node, so returning NUMA node zero\n",
      "2022-10-22 14:46:44.686148: I tensorflow/stream_executor/cuda/cuda_gpu_executor.cc:936] successful NUMA node read from SysFS had negative value (-1), but there must be at least one NUMA node, so returning NUMA node zero\n",
      "2022-10-22 14:46:44.686505: I tensorflow/stream_executor/cuda/cuda_gpu_executor.cc:936] successful NUMA node read from SysFS had negative value (-1), but there must be at least one NUMA node, so returning NUMA node zero\n",
      "2022-10-22 14:46:44.686766: I tensorflow/stream_executor/cuda/cuda_gpu_executor.cc:936] successful NUMA node read from SysFS had negative value (-1), but there must be at least one NUMA node, so returning NUMA node zero\n",
      "2022-10-22 14:46:44.687009: I tensorflow/core/common_runtime/gpu/gpu_device.cc:1525] Created device /job:localhost/replica:0/task:0/device:GPU:0 with 4962 MB memory:  -> device: 0, name: NVIDIA GeForce GTX 1080, pci bus id: 0000:01:00.0, compute capability: 6.1\n"
     ]
    }
   ],
   "source": [
    "from keras.regularizers import l2\n",
    "\n",
    "model = tf.keras.Sequential([\n",
    "        tf.keras.layers.Input(shape=(80, 15)),\n",
    "        tf.keras.layers.Flatten(),\n",
    "        tf.keras.layers.Dense(256, \n",
    "            trainable = True,\n",
    "            activation = \"sigmoid\",\n",
    "            kernel_regularizer=l2(l2_lambda),\n",
    "            bias_regularizer=l2(l2_lambda)\n",
    "        ),\n",
    "        tf.keras.layers.Dense(64, \n",
    "            trainable = True,\n",
    "            activation = \"sigmoid\",\n",
    "            kernel_regularizer=l2(l2_lambda),\n",
    "            bias_regularizer=l2(l2_lambda)\n",
    "        ),\n",
    "        tf.keras.layers.Dense(1, \n",
    "            activation = \"sigmoid\",\n",
    "            kernel_regularizer=l2(l2_lambda),\n",
    "            bias_regularizer=l2(l2_lambda)\n",
    "    )  \n",
    "    ])"
   ]
  },
  {
   "cell_type": "code",
   "execution_count": 13,
   "id": "83087052",
   "metadata": {},
   "outputs": [
    {
     "name": "stdout",
     "output_type": "stream",
     "text": [
      "\n",
      "Fold 0/1 ---------\n",
      "Train indices:  [1]\n",
      "Test indices:  [2]\n"
     ]
    }
   ],
   "source": [
    "#if standard:\n",
    "#    with open('results/computed/added_means_by_fold.pickle', 'rb') as file_pi:\n",
    "#        means = pickle.load(file_pi)\n",
    "#    with open('results/computed/added_std_by_fold.pickle', 'rb') as file_pi:\n",
    "#        stds = pickle.load(file_pi)\n",
    "\n",
    "from numpy import single\n",
    "\n",
    "\n",
    "if isinstance(training_mode, int):\n",
    "    fold = training_mode\n",
    "else:\n",
    "    fold = 0\n",
    "\n",
    "while fold < n_splits:\n",
    "    print()\n",
    "    print(\"Fold {}/{} ---------\".format(fold, n_splits))\n",
    "    train_idx = folds[fold][0]\n",
    "    test_idx = folds[fold][1]\n",
    "    print(\"Train indices: \", train_idx)\n",
    "    print(\"Test indices: \", test_idx)\n",
    "\n",
    "    # Data\n",
    "    if nogen:\n",
    "        X_train, X_test = [\n",
    "            np.concatenate([X[i] for i in idx]) \n",
    "            for idx in (train_idx, test_idx)\n",
    "        ]\n",
    "        y_train, y_test = [\n",
    "            np.concatenate([onset_vectors[i] for i in idx]) \n",
    "            for idx in (train_idx, test_idx)\n",
    "        ]\n",
    "\n",
    "    #train_onset_ratio = y_train.sum()/len(y_train)\n",
    "\n",
    "    # Normalize with training set statistics\n",
    "    if standard:\n",
    "        mean = means_per_fold[fold]\n",
    "        std = std_per_fold[fold]\n",
    "    else:\n",
    "        mean, std = None, None\n",
    "\n",
    "    # Model\n",
    "    if not continue_run:\n",
    "        tf.keras.backend.clear_session()\n",
    "    if custom_model:\n",
    "        model = model \n",
    "    else:\n",
    "        (model, norm_layer)=get_model(finetune=finetune, l2_lambda=l2_lambda, dropout_p=dropout_p)\n",
    "    model.compile(optimizer=optimizer,\n",
    "                loss=loss_fn,\n",
    "                metrics=metrics)\n",
    "                \n",
    "    if not sampling:\n",
    "        steps_per_epoch = compute_steps(train_idx, bs)\n",
    "        val_steps_per_epoch = compute_steps(test_idx, bs)\n",
    "\n",
    "    if nogen:\n",
    "        x = X_train\n",
    "        y = y_train\n",
    "        steps_per_epoch = None\n",
    "        validation_data = (X_test, y_test)\n",
    "    else:\n",
    "        x = data_generator(\n",
    "            batch_size=bs, \n",
    "            steps_per_epoch=steps_per_epoch, \n",
    "            epochs=n_epochs,\n",
    "            idx=train_idx,\n",
    "            sampling=sampling,\n",
    "            mode=mode,\n",
    "            standard=standard, mean=mean, std=std,\n",
    "            single_channel=custom_model\n",
    "        )\n",
    "        y = None\n",
    "        validation_data = data_generator(\n",
    "            batch_size=bs, \n",
    "            steps_per_epoch=val_steps_per_epoch, \n",
    "            epochs=n_epochs,\n",
    "            idx=test_idx,\n",
    "            sampling=sampling,\n",
    "            mode=mode,\n",
    "            standard=standard, mean=mean, std=std,\n",
    "            single_channel=custom_model\n",
    "        )\n",
    "\n",
    "    checkpoint_path = save_path + 'fold_{}_{}'.format(fold,training_name)+\"_cp_{epoch:04d}.ckpt\"\n",
    "    if check_at_epoch is None:\n",
    "        cp_callback=[]\n",
    "    else:\n",
    "        cp_callback = [tf.keras.callbacks.ModelCheckpoint(filepath=checkpoint_path, \n",
    "                                                    save_weights_only=True,\n",
    "                                                    save_freq=int(steps_per_epoch*check_at_epoch))]\n",
    "    # Training\n",
    "    \"\"\"\n",
    "    history = model.fit(\n",
    "        x = x, y = y, \n",
    "        steps_per_epoch = steps_per_epoch,\n",
    "        epochs          = n_epochs,\n",
    "        # Validation data\n",
    "        validation_data = validation_data,\n",
    "        validation_steps  = val_steps_per_epoch,\n",
    "        class_weight = {0:1, 1:W},\n",
    "        callbacks=cp_callback,\n",
    "        verbose=1\n",
    "    )\n",
    "\"\"\"\n",
    "\n",
    "    # Saving\n",
    "    if save:\n",
    "        model.save(save_path + 'fold_{}_{}_model'.format(fold, training_name))\n",
    "        with open(save_path + 'fold_{}_{}_history.pickle'.format(fold, training_name), 'wb') as file_pi:\n",
    "            pickle.dump(history.history, file_pi)\n",
    "    \n",
    "    \n",
    "    if training_mode != \"all\":\n",
    "        break\n",
    "    fold += 1\n",
    "\n",
    "# TODO change class weights - should not be hardcoded"
   ]
  },
  {
   "cell_type": "code",
   "execution_count": 49,
   "id": "349ea602",
   "metadata": {},
   "outputs": [
    {
     "data": {
      "text/plain": [
       "<matplotlib.legend.Legend at 0x7f03e1c13490>"
      ]
     },
     "execution_count": 49,
     "metadata": {},
     "output_type": "execute_result"
    },
    {
     "data": {
      "image/png": "[encoded data removed]",
      "text/plain": [
       "<Figure size 432x288 with 1 Axes>"
      ]
     },
     "metadata": {
      "needs_background": "light"
     },
     "output_type": "display_data"
    }
   ],
   "source": [
    "plt.plot(history.history['wbce'])\n",
    "plt.plot(history.history['val_wbce'])\n",
    "plt.legend([\"Training\", \"Validation\"])"
   ]
  },
  {
   "cell_type": "code",
   "execution_count": null,
   "id": "f8dd2013",
   "metadata": {},
   "outputs": [
    {
     "ename": "",
     "evalue": "",
     "output_type": "error",
     "traceback": [
      "\u001b[1;31mCanceled future for execute_request message before replies were done"
     ]
    },
    {
     "ename": "",
     "evalue": "",
     "output_type": "error",
     "traceback": [
      "\u001b[1;31mThe Kernel crashed while executing code in the the current cell or a previous cell. Please review the code in the cell(s) to identify a possible cause of the failure. Click <a href='https://aka.ms/vscodeJupyterKernelCrash'>here</a> for more info. View Jupyter <a href='command:jupyter.viewOutput'>log</a> for further details."
     ]
    }
   ],
   "source": []
  },
  {
   "cell_type": "code",
   "execution_count": null,
   "id": "7e4fc909",
   "metadata": {},
   "outputs": [],
   "source": []
  }
 ],
 "metadata": {
  "kernelspec": {
   "display_name": "flow",
   "language": "python",
   "name": "flow"
  },
  "language_info": {
   "codemirror_mode": {
    "name": "ipython",
    "version": 3
   },
   "file_extension": ".py",
   "mimetype": "text/x-python",
   "name": "python",
   "nbconvert_exporter": "python",
   "pygments_lexer": "ipython3",
   "version": "3.8.10"
  },
  "vscode": {
   "interpreter": {
    "hash": "36cf16204b8548560b1c020c4e8fb5b57f0e4c58016f52f2d4be01e192833930"
   }
  }
 },
 "nbformat": 4,
 "nbformat_minor": 5
}
