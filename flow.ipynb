{
 "cells": [
  {
   "cell_type": "code",
   "execution_count": 1,
   "id": "b0f89d5a",
   "metadata": {},
   "outputs": [],
   "source": [
    "import os\n",
    "import pickle\n",
    "import datetime\n",
    "import warnings\n",
    "\n",
    "import numpy as np\n",
    "from numpy import genfromtxt\n",
    "import matplotlib.pyplot as plt\n",
    "from sklearn.model_selection import KFold, train_test_split\n",
    "\n",
    "import tensorflow as tf\n",
    "import madmom\n",
    "\n",
    "from segment import segment_spectrogram\n",
    "from modules.labels import get_label_vector\n",
    "from modules.madmom_cnn_prep import cnn_preprocessor\n",
    "from datasets import Dataset\n",
    "from analyze_detection import evaluate, f_score\n",
    "from models.bock2013pret import get_model\n",
    "\n",
    "%load_ext autoreload\n",
    "%autoreload 2\n",
    "\n",
    "def fxn():\n",
    "    warnings.warn(\"deprecated\", DeprecationWarning)\n",
    "\n",
    "SR = 44100\n",
    "FPS = 100\n",
    "CONTEXT = 7\n"
   ]
  },
  {
   "cell_type": "code",
   "execution_count": 2,
   "id": "d5efad60",
   "metadata": {},
   "outputs": [],
   "source": [
    "# Load Madmom normalization\n",
    "def cnn_normalize(frames):\n",
    "    inv_std = np.load(\"models/bock2013pret_inv_std.npy\")\n",
    "    mean = np.load(\"models/bock2013pret_mean.npy\")\n",
    "    frames_normalized = (frames - np.reshape(mean, (1,80,3)))*np.reshape(inv_std, (1,80,3))\n",
    "    return frames_normalized\n",
    "    "
   ]
  },
  {
   "cell_type": "code",
   "execution_count": 3,
   "id": "29ac37ea",
   "metadata": {},
   "outputs": [
    {
     "name": "stdout",
     "output_type": "stream",
     "text": [
      "Some sample rates are not equal to 44.1kHz!\n",
      "Some sample rates are not equal to 44.1kHz!\n"
     ]
    },
    {
     "name": "stderr",
     "output_type": "stream",
     "text": [
      "/home/simonf/.venv/onsets/lib/python3.8/site-packages/madmom/audio/signal.py:457: UserWarning: Deprecated as of version 0.16. Please use madmom.io.audio.load_wave_file instead. Will be removed in version 0.18.\n",
      "  warnings.warn('Deprecated as of version 0.16. Please use madmom.io.audio.'\n",
      "/home/simonf/.venv/onsets/lib/python3.8/site-packages/madmom/io/audio.py:493: WavFileWarning: Chunk (non-data) not understood, skipping it.\n",
      "  file_sample_rate, signal = wavfile.read(filename, mmap=True)\n"
     ]
    }
   ],
   "source": [
    "ds0 = Dataset(\"initslurtest\")\n",
    "ds1 = Dataset(\"slurtest_add_1\")\n",
    "\n",
    "audio_fnames = ds0.get_audio_paths() + ds1.get_audio_paths()\n",
    "label_fnames = ds0.get_annotation_paths() + ds1.get_annotation_paths()\n",
    "\n",
    "audios = [madmom.audio.signal.load_wave_file(filename)[0] for filename in audio_fnames]\n",
    "sample_rates = [madmom.audio.signal.load_wave_file(filename)[1] for filename in audio_fnames]\n",
    "onset_schedules = [np.loadtxt(label_fname, usecols=0) for label_fname in label_fnames]\n",
    "for ele in sample_rates:\n",
    "    if ele != SR:\n",
    "        print(\"Some sample rates are not equal to 44.1kHz!\")\n"
   ]
  },
  {
   "cell_type": "code",
   "execution_count": 4,
   "id": "ba7d99b1",
   "metadata": {},
   "outputs": [],
   "source": [
    "# Load preprocessing funciton\n",
    "preprocessor = cnn_preprocessor()\n",
    "box_processor = madmom.features.onsets.CNNOnsetProcessor()"
   ]
  },
  {
   "cell_type": "code",
   "execution_count": null,
   "id": "41a06a39",
   "metadata": {},
   "outputs": [],
   "source": [
    "[print(\"Name of rec: {}\\n\"\n",
    "       \"Len in seconds: {:.2f}\\n\"\n",
    "       \"Shape of audio: {}\\n\"\n",
    "       \"Shape of onset schedule: {}\\n\"\n",
    "       \"Onsets from {:.2f}s to {:.2f}s\\n\".format(\n",
    "                                        os.path.split(fname)[1], \n",
    "                                        audio.shape[0]/sr,\n",
    "                                        audio.shape,\n",
    "                                        schedule.shape,\n",
    "                                        schedule.min(),\n",
    "                                        schedule.max(),\n",
    "                                        ) \n",
    "    ) for fname, audio, schedule, sr in zip(audio_fnames, audios, onset_schedules, sample_rates)\n",
    "]"
   ]
  },
  {
   "cell_type": "code",
   "execution_count": null,
   "id": "df3577bc",
   "metadata": {},
   "outputs": [],
   "source": [
    "# Add white noise to recordings\n",
    "# Noise variance is adjusted to a fixed Signal Noise Ratio computed recording-wise\n",
    "# snr_db = 20 means S/N=10\n",
    "# snr_db = 10 means S/N≈3.2\n",
    "SNR_DB = 10\n",
    "snr_v = 10**(SNR_DB/20)\n",
    "\n",
    "def augmentation(audio, t=None, p=None):\n",
    "    if t==None:\n",
    "        return audio\n",
    "    elif t==\"white_noise\":\n",
    "        # p contains snr_db parameter\n",
    "        return audio+np.random.normal(\n",
    "            scale=madmom.audio.signal.root_mean_square(audio)/(10**(p/20)),\n",
    "            size=audio.shape\n",
    "            )\n",
    "\n",
    "noisy_audios = [augmentation(audio, t=\"white_noise\", p=SNR_DB) for audio in audios]\n",
    "fig, axs = plt.subplots(2,1)\n",
    "axs[0].plot(audios[0][:100000])\n",
    "axs[1].plot(noisy_audios[0][:100000])"
   ]
  },
  {
   "cell_type": "code",
   "execution_count": 6,
   "id": "78d4d97e",
   "metadata": {},
   "outputs": [],
   "source": [
    "onset_vectors = [get_label_vector(sched, len(audio)/sr, FPS)\n",
    "    for (sched, audio, sr) in zip(onset_schedules, audios, sample_rates)\n",
    "]"
   ]
  },
  {
   "cell_type": "code",
   "execution_count": 89,
   "id": "9d6656f4",
   "metadata": {},
   "outputs": [
    {
     "name": "stderr",
     "output_type": "stream",
     "text": [
      "/home/simonf/.venv/onsets/lib/python3.8/site-packages/madmom/io/audio.py:493: WavFileWarning: Chunk (non-data) not understood, skipping it.\n",
      "  file_sample_rate, signal = wavfile.read(filename, mmap=True)\n"
     ]
    },
    {
     "name": "stdout",
     "output_type": "stream",
     "text": [
      "(1711, 80, 3)\n",
      "(1697, 80, 15, 3)\n"
     ]
    }
   ],
   "source": [
    "# Create data and normalize\n",
    "mm_proc_frames = [proc(fname) for fname, proc in zip(audio_fnames, preprocessors)]\n",
    "mm_frames_normalized = [cnn_normalize(frame_set) for frame_set in mm_proc_frames]\n",
    "print(mm_frames_normalized[0].shape)\n",
    "X = [[\n",
    "    data[i-CONTEXT:i+CONTEXT+1,:,:] \n",
    "    for i in range(CONTEXT, data.shape[0]-CONTEXT)\n",
    "] for data in mm_frames_normalized]\n",
    "X = [np.transpose(np.stack(data, 0), [0,2,1,3]) for data in X]\n",
    "print(X[0].shape)"
   ]
  },
  {
   "cell_type": "code",
   "execution_count": null,
   "id": "5783cde5",
   "metadata": {},
   "outputs": [],
   "source": [
    "# Single split:\n",
    "\n",
    "from sklearn.model_selection import train_test_split\n",
    "random_seed = 119\n",
    "test = 0.1\n",
    "validation = 0.2\n",
    "training = 0.7\n",
    "train_idx, test_val_idx = train_test_split(np.arange(len(audio_fnames)), test_size=test+validation, random_state=random_seed)\n",
    "val_idx, test_idx = train_test_split(test_val_idx, test_size=test/(test+validation), random_state=random_seed)\n",
    "idx_split = [train_idx, val_idx, test_idx]\n",
    "print(idx_split)\n",
    "\n",
    "# Divide\n",
    "X_train, X_val, X_test = [\n",
    "    np.concatenate([X[i] for i in idx]) \n",
    "    for idx in idx_split\n",
    "]\n",
    "y_train, y_val, y_test = [\n",
    "    np.concatenate([onset_vectors[i] for i in idx]) \n",
    "    for idx in idx_split\n",
    "]\n",
    "\n",
    "train_onset_ratio = y_train.sum()/len(y_train)\n",
    "\n",
    "# Normalize\n",
    "center_frames_train = X_train[:,:,7,:]\n",
    "mean_train = center_frames_train.mean(0).reshape((1,80,1,3))\n",
    "std_train = center_frames_train.std(0, ddof=1).reshape((1,80,1,3))\n",
    "\n",
    "X_train = (X_train - mean_train)/std_train\n",
    "X_val = (X_val - mean_train)/std_train\n",
    "X_test = (X_test - mean_train)/std_train"
   ]
  },
  {
   "cell_type": "code",
   "execution_count": 7,
   "id": "7144fff3",
   "metadata": {},
   "outputs": [],
   "source": [
    "def data_generator(\n",
    "    batch_size,\n",
    "    steps_per_epoch,\n",
    "    epochs,\n",
    "    idx,\n",
    "    mode = 0 # 0 for training, 1 for test\n",
    "):\n",
    "    \n",
    "    for _ in range(steps_per_epoch * epochs):\n",
    "\n",
    "        # Select indices for training or test\n",
    "        file_i = np.random.choice(idx)\n",
    "        #print(\"Selected file index: \", file_i)\n",
    "        fname = audio_fnames[file_i]\n",
    "        \n",
    "        # Compute frames\n",
    "        with warnings.catch_warnings():\n",
    "            warnings.simplefilter(\"ignore\")\n",
    "            fxn()\n",
    "            frames_normalized = cnn_normalize(preprocessor(fname))\n",
    "\n",
    "        # Retrieve onsets \n",
    "        onsets = onset_vectors[file_i]\n",
    "        #print(\"Computed frames of size \", frames_normalized.shape)\n",
    "        #print(\"Onset vectors have len \", len(onsets))\n",
    "\n",
    "        # Sample a set of indices (defined from audio start,\n",
    "        # that is CONTEXT values counted from x array start)\n",
    "        focus_idx = np.random.choice(\n",
    "            np.arange(frames_normalized.shape[0]-2*CONTEXT-1), \n",
    "            size=batch_size\n",
    "        )\n",
    "        #print(\"Sampled focus idx between \", 0, \" and \", frames_normalized.shape[0]-2*CONTEXT-1)\n",
    "\n",
    "        # Segmentation\n",
    "        x = [frames_normalized[focus:focus+2*CONTEXT+1,:,:] for focus in focus_idx]\n",
    "        x = np.transpose(np.stack(x, 0), [0,2,1,3])\n",
    "        #print(\"Segmented x has shape \", x.shape)\n",
    "\n",
    "        # Labels\n",
    "        \n",
    "        y = onsets[focus_idx]\n",
    "        yield (x, y)"
   ]
  },
  {
   "cell_type": "code",
   "execution_count": 159,
   "id": "5ae980e4",
   "metadata": {},
   "outputs": [
    {
     "name": "stdout",
     "output_type": "stream",
     "text": [
      "Selected file index:  19\n",
      "Computed frames of size  (6213, 80, 3)\n",
      "Onset vectors have len  6199\n",
      "Sampled focus idx between  0  and  6198\n",
      "Segmented x has shape  (10, 80, 15, 3)\n"
     ]
    }
   ],
   "source": [
    "(x, y) = next(data_generator(batch_size=10, steps_per_epoch=3, epochs=1, idx=kf_gen[0][1]))"
   ]
  },
  {
   "cell_type": "code",
   "execution_count": 9,
   "id": "bcc4b361",
   "metadata": {},
   "outputs": [],
   "source": [
    "# K-Fold:\n",
    "\n",
    "\n",
    "random_seed = 119\n",
    "n_splits =  5\n",
    "kf = KFold(n_splits=n_splits, shuffle=True, random_state=True)\n",
    "kf_gen = list(kf.split(np.arange(len(audio_fnames))))\n"
   ]
  },
  {
   "cell_type": "code",
   "execution_count": 10,
   "id": "47c79011",
   "metadata": {},
   "outputs": [
    {
     "name": "stderr",
     "output_type": "stream",
     "text": [
      "2022-04-07 10:20:36.566122: I tensorflow/stream_executor/cuda/cuda_gpu_executor.cc:936] successful NUMA node read from SysFS had negative value (-1), but there must be at least one NUMA node, so returning NUMA node zero\n",
      "2022-04-07 10:20:36.570892: I tensorflow/stream_executor/cuda/cuda_gpu_executor.cc:936] successful NUMA node read from SysFS had negative value (-1), but there must be at least one NUMA node, so returning NUMA node zero\n",
      "2022-04-07 10:20:36.571220: I tensorflow/stream_executor/cuda/cuda_gpu_executor.cc:936] successful NUMA node read from SysFS had negative value (-1), but there must be at least one NUMA node, so returning NUMA node zero\n",
      "2022-04-07 10:20:36.571815: I tensorflow/core/platform/cpu_feature_guard.cc:151] This TensorFlow binary is optimized with oneAPI Deep Neural Network Library (oneDNN) to use the following CPU instructions in performance-critical operations:  AVX2 FMA\n",
      "To enable them in other operations, rebuild TensorFlow with the appropriate compiler flags.\n",
      "2022-04-07 10:20:36.572136: I tensorflow/stream_executor/cuda/cuda_gpu_executor.cc:936] successful NUMA node read from SysFS had negative value (-1), but there must be at least one NUMA node, so returning NUMA node zero\n",
      "2022-04-07 10:20:36.572437: I tensorflow/stream_executor/cuda/cuda_gpu_executor.cc:936] successful NUMA node read from SysFS had negative value (-1), but there must be at least one NUMA node, so returning NUMA node zero\n",
      "2022-04-07 10:20:36.572722: I tensorflow/stream_executor/cuda/cuda_gpu_executor.cc:936] successful NUMA node read from SysFS had negative value (-1), but there must be at least one NUMA node, so returning NUMA node zero\n",
      "2022-04-07 10:20:36.916632: I tensorflow/stream_executor/cuda/cuda_gpu_executor.cc:936] successful NUMA node read from SysFS had negative value (-1), but there must be at least one NUMA node, so returning NUMA node zero\n",
      "2022-04-07 10:20:36.916964: I tensorflow/stream_executor/cuda/cuda_gpu_executor.cc:936] successful NUMA node read from SysFS had negative value (-1), but there must be at least one NUMA node, so returning NUMA node zero\n",
      "2022-04-07 10:20:36.917253: I tensorflow/stream_executor/cuda/cuda_gpu_executor.cc:936] successful NUMA node read from SysFS had negative value (-1), but there must be at least one NUMA node, so returning NUMA node zero\n",
      "2022-04-07 10:20:36.917526: I tensorflow/core/common_runtime/gpu/gpu_device.cc:1525] Created device /job:localhost/replica:0/task:0/device:GPU:0 with 7236 MB memory:  -> device: 0, name: NVIDIA GeForce GTX 1080, pci bus id: 0000:01:00.0, compute capability: 6.1\n"
     ]
    }
   ],
   "source": [
    "from modules.metrics import f1\n",
    "loss_fn = tf.keras.losses.BinaryCrossentropy(from_logits=False)\n",
    "optimizer = tf.keras.optimizers.Adam()\n",
    "metrics = [\n",
    "    tf.keras.metrics.TruePositives(name='tp', thresholds=0.5),\n",
    "    tf.keras.metrics.TrueNegatives(name='tn', thresholds=0.5),\n",
    "    tf.keras.metrics.FalsePositives(name='fp', thresholds=0.5),\n",
    "    tf.keras.metrics.FalseNegatives(name='fn', thresholds=0.5),\n",
    "]\n",
    "\n"
   ]
  },
  {
   "cell_type": "code",
   "execution_count": 14,
   "id": "0be42001",
   "metadata": {},
   "outputs": [],
   "source": [
    "\n",
    "\n",
    "continue_run = True # REMEMEBER TO TURN OFF\n",
    "training_mode = 0 # REMEMBER TO CHANGE\n",
    "standard = False\n",
    "save = False # REMEMBER TO CHANGE\n",
    "training_name = \"added-sample-nostandard\" # REMEMBER TO CHANGE\n",
    "date_today = \"220407\" # TODO - automatically\n",
    "n_epochs = 20 # REMEMBER TO CHANGE\n",
    "steps_per_epoch = 100\n",
    "val_steps_per_epoch = 30\n",
    "bs = 256"
   ]
  },
  {
   "cell_type": "code",
   "execution_count": 15,
   "id": "83087052",
   "metadata": {},
   "outputs": [
    {
     "name": "stdout",
     "output_type": "stream",
     "text": [
      "\n",
      "Fold 0/5 ---------\n",
      "Train indices:  [ 0  1  2  4  5  6  7  8  9 10 11 12 13 14 15 16 18 20 22 24 25 26 27 29\n",
      " 31 32 33 35]\n",
      "Test indices:  [ 3 17 19 21 23 28 30 34]\n",
      "Epoch 1/20\n",
      "100/100 [==============================] - 75s 753ms/step - loss: 0.8240 - tp: 661.0000 - tn: 28452.0000 - fp: 3995.0000 - fn: 172.0000 - val_loss: 0.2482 - val_tp: 202.0000 - val_tn: 6661.0000 - val_fp: 793.0000 - val_fn: 24.0000\n",
      "Epoch 2/20\n",
      " 94/100 [===========================>..] - ETA: 2s - loss: 0.7083 - tp: 614.0000 - tn: 19800.0000 - fp: 3537.0000 - fn: 113.0000"
     ]
    },
    {
     "ename": "KeyboardInterrupt",
     "evalue": "",
     "output_type": "error",
     "traceback": [
      "\u001b[0;31m---------------------------------------------------------------------------\u001b[0m",
      "\u001b[0;31mKeyboardInterrupt\u001b[0m                         Traceback (most recent call last)",
      "\u001b[1;32m/home/simonf/beyondPianoRoll/flow.ipynb Cell 15'\u001b[0m in \u001b[0;36m<cell line: 12>\u001b[0;34m()\u001b[0m\n\u001b[1;32m     <a href='vscode-notebook-cell://ssh-remote%2B130.237.67.120/home/simonf/beyondPianoRoll/flow.ipynb#ch0000014vscode-remote?line=40'>41</a>\u001b[0m model\u001b[39m.\u001b[39mcompile(optimizer\u001b[39m=\u001b[39moptimizer,\n\u001b[1;32m     <a href='vscode-notebook-cell://ssh-remote%2B130.237.67.120/home/simonf/beyondPianoRoll/flow.ipynb#ch0000014vscode-remote?line=41'>42</a>\u001b[0m             loss\u001b[39m=\u001b[39mloss_fn,\n\u001b[1;32m     <a href='vscode-notebook-cell://ssh-remote%2B130.237.67.120/home/simonf/beyondPianoRoll/flow.ipynb#ch0000014vscode-remote?line=42'>43</a>\u001b[0m             metrics\u001b[39m=\u001b[39mmetrics)\n\u001b[1;32m     <a href='vscode-notebook-cell://ssh-remote%2B130.237.67.120/home/simonf/beyondPianoRoll/flow.ipynb#ch0000014vscode-remote?line=44'>45</a>\u001b[0m \u001b[39m# Training\u001b[39;00m\n\u001b[0;32m---> <a href='vscode-notebook-cell://ssh-remote%2B130.237.67.120/home/simonf/beyondPianoRoll/flow.ipynb#ch0000014vscode-remote?line=45'>46</a>\u001b[0m history \u001b[39m=\u001b[39m model\u001b[39m.\u001b[39;49mfit(\n\u001b[1;32m     <a href='vscode-notebook-cell://ssh-remote%2B130.237.67.120/home/simonf/beyondPianoRoll/flow.ipynb#ch0000014vscode-remote?line=46'>47</a>\u001b[0m     x \u001b[39m=\u001b[39;49m data_generator(\n\u001b[1;32m     <a href='vscode-notebook-cell://ssh-remote%2B130.237.67.120/home/simonf/beyondPianoRoll/flow.ipynb#ch0000014vscode-remote?line=47'>48</a>\u001b[0m         batch_size\u001b[39m=\u001b[39;49mbs, \n\u001b[1;32m     <a href='vscode-notebook-cell://ssh-remote%2B130.237.67.120/home/simonf/beyondPianoRoll/flow.ipynb#ch0000014vscode-remote?line=48'>49</a>\u001b[0m         steps_per_epoch\u001b[39m=\u001b[39;49msteps_per_epoch, \n\u001b[1;32m     <a href='vscode-notebook-cell://ssh-remote%2B130.237.67.120/home/simonf/beyondPianoRoll/flow.ipynb#ch0000014vscode-remote?line=49'>50</a>\u001b[0m         epochs\u001b[39m=\u001b[39;49mn_epochs,\n\u001b[1;32m     <a href='vscode-notebook-cell://ssh-remote%2B130.237.67.120/home/simonf/beyondPianoRoll/flow.ipynb#ch0000014vscode-remote?line=50'>51</a>\u001b[0m         idx\u001b[39m=\u001b[39;49mtrain_idx\n\u001b[1;32m     <a href='vscode-notebook-cell://ssh-remote%2B130.237.67.120/home/simonf/beyondPianoRoll/flow.ipynb#ch0000014vscode-remote?line=51'>52</a>\u001b[0m     ),\n\u001b[1;32m     <a href='vscode-notebook-cell://ssh-remote%2B130.237.67.120/home/simonf/beyondPianoRoll/flow.ipynb#ch0000014vscode-remote?line=52'>53</a>\u001b[0m     batch_size      \u001b[39m=\u001b[39;49m bs,\n\u001b[1;32m     <a href='vscode-notebook-cell://ssh-remote%2B130.237.67.120/home/simonf/beyondPianoRoll/flow.ipynb#ch0000014vscode-remote?line=53'>54</a>\u001b[0m     steps_per_epoch \u001b[39m=\u001b[39;49m steps_per_epoch,\n\u001b[1;32m     <a href='vscode-notebook-cell://ssh-remote%2B130.237.67.120/home/simonf/beyondPianoRoll/flow.ipynb#ch0000014vscode-remote?line=54'>55</a>\u001b[0m     epochs          \u001b[39m=\u001b[39;49m n_epochs,\n\u001b[1;32m     <a href='vscode-notebook-cell://ssh-remote%2B130.237.67.120/home/simonf/beyondPianoRoll/flow.ipynb#ch0000014vscode-remote?line=55'>56</a>\u001b[0m     \n\u001b[1;32m     <a href='vscode-notebook-cell://ssh-remote%2B130.237.67.120/home/simonf/beyondPianoRoll/flow.ipynb#ch0000014vscode-remote?line=56'>57</a>\u001b[0m     \u001b[39m# Validation data\u001b[39;49;00m\n\u001b[1;32m     <a href='vscode-notebook-cell://ssh-remote%2B130.237.67.120/home/simonf/beyondPianoRoll/flow.ipynb#ch0000014vscode-remote?line=57'>58</a>\u001b[0m     validation_data \u001b[39m=\u001b[39;49m tf\u001b[39m.\u001b[39;49mdata\u001b[39m.\u001b[39;49mDataset\u001b[39m.\u001b[39;49mfrom_generator(\n\u001b[1;32m     <a href='vscode-notebook-cell://ssh-remote%2B130.237.67.120/home/simonf/beyondPianoRoll/flow.ipynb#ch0000014vscode-remote?line=58'>59</a>\u001b[0m         \u001b[39mlambda\u001b[39;49;00m: data_generator(\n\u001b[1;32m     <a href='vscode-notebook-cell://ssh-remote%2B130.237.67.120/home/simonf/beyondPianoRoll/flow.ipynb#ch0000014vscode-remote?line=59'>60</a>\u001b[0m             batch_size\u001b[39m=\u001b[39;49mbs, \n\u001b[1;32m     <a href='vscode-notebook-cell://ssh-remote%2B130.237.67.120/home/simonf/beyondPianoRoll/flow.ipynb#ch0000014vscode-remote?line=60'>61</a>\u001b[0m             steps_per_epoch\u001b[39m=\u001b[39;49mval_steps_per_epoch, \n\u001b[1;32m     <a href='vscode-notebook-cell://ssh-remote%2B130.237.67.120/home/simonf/beyondPianoRoll/flow.ipynb#ch0000014vscode-remote?line=61'>62</a>\u001b[0m             epochs\u001b[39m=\u001b[39;49m\u001b[39m1\u001b[39;49m,\n\u001b[1;32m     <a href='vscode-notebook-cell://ssh-remote%2B130.237.67.120/home/simonf/beyondPianoRoll/flow.ipynb#ch0000014vscode-remote?line=62'>63</a>\u001b[0m             idx\u001b[39m=\u001b[39;49mtest_idx\n\u001b[1;32m     <a href='vscode-notebook-cell://ssh-remote%2B130.237.67.120/home/simonf/beyondPianoRoll/flow.ipynb#ch0000014vscode-remote?line=63'>64</a>\u001b[0m         ),\n\u001b[1;32m     <a href='vscode-notebook-cell://ssh-remote%2B130.237.67.120/home/simonf/beyondPianoRoll/flow.ipynb#ch0000014vscode-remote?line=64'>65</a>\u001b[0m         output_signature \u001b[39m=\u001b[39;49m (\n\u001b[1;32m     <a href='vscode-notebook-cell://ssh-remote%2B130.237.67.120/home/simonf/beyondPianoRoll/flow.ipynb#ch0000014vscode-remote?line=65'>66</a>\u001b[0m             tf\u001b[39m.\u001b[39;49mTensorSpec(shape \u001b[39m=\u001b[39;49m (bs, \u001b[39m80\u001b[39;49m , \u001b[39m15\u001b[39;49m, \u001b[39m3\u001b[39;49m), dtype \u001b[39m=\u001b[39;49m tf\u001b[39m.\u001b[39;49mfloat64),\n\u001b[1;32m     <a href='vscode-notebook-cell://ssh-remote%2B130.237.67.120/home/simonf/beyondPianoRoll/flow.ipynb#ch0000014vscode-remote?line=66'>67</a>\u001b[0m             tf\u001b[39m.\u001b[39;49mTensorSpec(shape \u001b[39m=\u001b[39;49m (bs),     dtype \u001b[39m=\u001b[39;49m tf\u001b[39m.\u001b[39;49mfloat64),\n\u001b[1;32m     <a href='vscode-notebook-cell://ssh-remote%2B130.237.67.120/home/simonf/beyondPianoRoll/flow.ipynb#ch0000014vscode-remote?line=67'>68</a>\u001b[0m         )\n\u001b[1;32m     <a href='vscode-notebook-cell://ssh-remote%2B130.237.67.120/home/simonf/beyondPianoRoll/flow.ipynb#ch0000014vscode-remote?line=68'>69</a>\u001b[0m     ),\n\u001b[1;32m     <a href='vscode-notebook-cell://ssh-remote%2B130.237.67.120/home/simonf/beyondPianoRoll/flow.ipynb#ch0000014vscode-remote?line=69'>70</a>\u001b[0m     validation_batch_size \u001b[39m=\u001b[39;49m bs,\n\u001b[1;32m     <a href='vscode-notebook-cell://ssh-remote%2B130.237.67.120/home/simonf/beyondPianoRoll/flow.ipynb#ch0000014vscode-remote?line=70'>71</a>\u001b[0m     validation_steps      \u001b[39m=\u001b[39;49m val_steps_per_epoch,\n\u001b[1;32m     <a href='vscode-notebook-cell://ssh-remote%2B130.237.67.120/home/simonf/beyondPianoRoll/flow.ipynb#ch0000014vscode-remote?line=71'>72</a>\u001b[0m     class_weight \u001b[39m=\u001b[39;49m {\u001b[39m0\u001b[39;49m: \u001b[39m1.\u001b[39;49m, \u001b[39m1\u001b[39;49m: \u001b[39m1\u001b[39;49m\u001b[39m/\u001b[39;49m\u001b[39m0.035\u001b[39;49m},\n\u001b[1;32m     <a href='vscode-notebook-cell://ssh-remote%2B130.237.67.120/home/simonf/beyondPianoRoll/flow.ipynb#ch0000014vscode-remote?line=72'>73</a>\u001b[0m     verbose\u001b[39m=\u001b[39;49m\u001b[39m1\u001b[39;49m\n\u001b[1;32m     <a href='vscode-notebook-cell://ssh-remote%2B130.237.67.120/home/simonf/beyondPianoRoll/flow.ipynb#ch0000014vscode-remote?line=73'>74</a>\u001b[0m )\n\u001b[1;32m     <a href='vscode-notebook-cell://ssh-remote%2B130.237.67.120/home/simonf/beyondPianoRoll/flow.ipynb#ch0000014vscode-remote?line=75'>76</a>\u001b[0m \u001b[39m# Saving\u001b[39;00m\n\u001b[1;32m     <a href='vscode-notebook-cell://ssh-remote%2B130.237.67.120/home/simonf/beyondPianoRoll/flow.ipynb#ch0000014vscode-remote?line=76'>77</a>\u001b[0m \u001b[39mif\u001b[39;00m save:\n",
      "File \u001b[0;32m~/.venv/onsets/lib/python3.8/site-packages/keras/utils/traceback_utils.py:64\u001b[0m, in \u001b[0;36mfilter_traceback.<locals>.error_handler\u001b[0;34m(*args, **kwargs)\u001b[0m\n\u001b[1;32m     <a href='file:///home/simonf/.venv/onsets/lib/python3.8/site-packages/keras/utils/traceback_utils.py?line=61'>62</a>\u001b[0m filtered_tb \u001b[39m=\u001b[39m \u001b[39mNone\u001b[39;00m\n\u001b[1;32m     <a href='file:///home/simonf/.venv/onsets/lib/python3.8/site-packages/keras/utils/traceback_utils.py?line=62'>63</a>\u001b[0m \u001b[39mtry\u001b[39;00m:\n\u001b[0;32m---> <a href='file:///home/simonf/.venv/onsets/lib/python3.8/site-packages/keras/utils/traceback_utils.py?line=63'>64</a>\u001b[0m   \u001b[39mreturn\u001b[39;00m fn(\u001b[39m*\u001b[39;49margs, \u001b[39m*\u001b[39;49m\u001b[39m*\u001b[39;49mkwargs)\n\u001b[1;32m     <a href='file:///home/simonf/.venv/onsets/lib/python3.8/site-packages/keras/utils/traceback_utils.py?line=64'>65</a>\u001b[0m \u001b[39mexcept\u001b[39;00m \u001b[39mException\u001b[39;00m \u001b[39mas\u001b[39;00m e:  \u001b[39m# pylint: disable=broad-except\u001b[39;00m\n\u001b[1;32m     <a href='file:///home/simonf/.venv/onsets/lib/python3.8/site-packages/keras/utils/traceback_utils.py?line=65'>66</a>\u001b[0m   filtered_tb \u001b[39m=\u001b[39m _process_traceback_frames(e\u001b[39m.\u001b[39m__traceback__)\n",
      "File \u001b[0;32m~/.venv/onsets/lib/python3.8/site-packages/keras/engine/training.py:1384\u001b[0m, in \u001b[0;36mModel.fit\u001b[0;34m(self, x, y, batch_size, epochs, verbose, callbacks, validation_split, validation_data, shuffle, class_weight, sample_weight, initial_epoch, steps_per_epoch, validation_steps, validation_batch_size, validation_freq, max_queue_size, workers, use_multiprocessing)\u001b[0m\n\u001b[1;32m   <a href='file:///home/simonf/.venv/onsets/lib/python3.8/site-packages/keras/engine/training.py?line=1376'>1377</a>\u001b[0m \u001b[39mwith\u001b[39;00m tf\u001b[39m.\u001b[39mprofiler\u001b[39m.\u001b[39mexperimental\u001b[39m.\u001b[39mTrace(\n\u001b[1;32m   <a href='file:///home/simonf/.venv/onsets/lib/python3.8/site-packages/keras/engine/training.py?line=1377'>1378</a>\u001b[0m     \u001b[39m'\u001b[39m\u001b[39mtrain\u001b[39m\u001b[39m'\u001b[39m,\n\u001b[1;32m   <a href='file:///home/simonf/.venv/onsets/lib/python3.8/site-packages/keras/engine/training.py?line=1378'>1379</a>\u001b[0m     epoch_num\u001b[39m=\u001b[39mepoch,\n\u001b[1;32m   <a href='file:///home/simonf/.venv/onsets/lib/python3.8/site-packages/keras/engine/training.py?line=1379'>1380</a>\u001b[0m     step_num\u001b[39m=\u001b[39mstep,\n\u001b[1;32m   <a href='file:///home/simonf/.venv/onsets/lib/python3.8/site-packages/keras/engine/training.py?line=1380'>1381</a>\u001b[0m     batch_size\u001b[39m=\u001b[39mbatch_size,\n\u001b[1;32m   <a href='file:///home/simonf/.venv/onsets/lib/python3.8/site-packages/keras/engine/training.py?line=1381'>1382</a>\u001b[0m     _r\u001b[39m=\u001b[39m\u001b[39m1\u001b[39m):\n\u001b[1;32m   <a href='file:///home/simonf/.venv/onsets/lib/python3.8/site-packages/keras/engine/training.py?line=1382'>1383</a>\u001b[0m   callbacks\u001b[39m.\u001b[39mon_train_batch_begin(step)\n\u001b[0;32m-> <a href='file:///home/simonf/.venv/onsets/lib/python3.8/site-packages/keras/engine/training.py?line=1383'>1384</a>\u001b[0m   tmp_logs \u001b[39m=\u001b[39m \u001b[39mself\u001b[39;49m\u001b[39m.\u001b[39;49mtrain_function(iterator)\n\u001b[1;32m   <a href='file:///home/simonf/.venv/onsets/lib/python3.8/site-packages/keras/engine/training.py?line=1384'>1385</a>\u001b[0m   \u001b[39mif\u001b[39;00m data_handler\u001b[39m.\u001b[39mshould_sync:\n\u001b[1;32m   <a href='file:///home/simonf/.venv/onsets/lib/python3.8/site-packages/keras/engine/training.py?line=1385'>1386</a>\u001b[0m     context\u001b[39m.\u001b[39masync_wait()\n",
      "File \u001b[0;32m~/.venv/onsets/lib/python3.8/site-packages/tensorflow/python/util/traceback_utils.py:150\u001b[0m, in \u001b[0;36mfilter_traceback.<locals>.error_handler\u001b[0;34m(*args, **kwargs)\u001b[0m\n\u001b[1;32m    <a href='file:///home/simonf/.venv/onsets/lib/python3.8/site-packages/tensorflow/python/util/traceback_utils.py?line=147'>148</a>\u001b[0m filtered_tb \u001b[39m=\u001b[39m \u001b[39mNone\u001b[39;00m\n\u001b[1;32m    <a href='file:///home/simonf/.venv/onsets/lib/python3.8/site-packages/tensorflow/python/util/traceback_utils.py?line=148'>149</a>\u001b[0m \u001b[39mtry\u001b[39;00m:\n\u001b[0;32m--> <a href='file:///home/simonf/.venv/onsets/lib/python3.8/site-packages/tensorflow/python/util/traceback_utils.py?line=149'>150</a>\u001b[0m   \u001b[39mreturn\u001b[39;00m fn(\u001b[39m*\u001b[39;49margs, \u001b[39m*\u001b[39;49m\u001b[39m*\u001b[39;49mkwargs)\n\u001b[1;32m    <a href='file:///home/simonf/.venv/onsets/lib/python3.8/site-packages/tensorflow/python/util/traceback_utils.py?line=150'>151</a>\u001b[0m \u001b[39mexcept\u001b[39;00m \u001b[39mException\u001b[39;00m \u001b[39mas\u001b[39;00m e:\n\u001b[1;32m    <a href='file:///home/simonf/.venv/onsets/lib/python3.8/site-packages/tensorflow/python/util/traceback_utils.py?line=151'>152</a>\u001b[0m   filtered_tb \u001b[39m=\u001b[39m _process_traceback_frames(e\u001b[39m.\u001b[39m__traceback__)\n",
      "File \u001b[0;32m~/.venv/onsets/lib/python3.8/site-packages/tensorflow/python/eager/def_function.py:915\u001b[0m, in \u001b[0;36mFunction.__call__\u001b[0;34m(self, *args, **kwds)\u001b[0m\n\u001b[1;32m    <a href='file:///home/simonf/.venv/onsets/lib/python3.8/site-packages/tensorflow/python/eager/def_function.py?line=911'>912</a>\u001b[0m compiler \u001b[39m=\u001b[39m \u001b[39m\"\u001b[39m\u001b[39mxla\u001b[39m\u001b[39m\"\u001b[39m \u001b[39mif\u001b[39;00m \u001b[39mself\u001b[39m\u001b[39m.\u001b[39m_jit_compile \u001b[39melse\u001b[39;00m \u001b[39m\"\u001b[39m\u001b[39mnonXla\u001b[39m\u001b[39m\"\u001b[39m\n\u001b[1;32m    <a href='file:///home/simonf/.venv/onsets/lib/python3.8/site-packages/tensorflow/python/eager/def_function.py?line=913'>914</a>\u001b[0m \u001b[39mwith\u001b[39;00m OptionalXlaContext(\u001b[39mself\u001b[39m\u001b[39m.\u001b[39m_jit_compile):\n\u001b[0;32m--> <a href='file:///home/simonf/.venv/onsets/lib/python3.8/site-packages/tensorflow/python/eager/def_function.py?line=914'>915</a>\u001b[0m   result \u001b[39m=\u001b[39m \u001b[39mself\u001b[39;49m\u001b[39m.\u001b[39;49m_call(\u001b[39m*\u001b[39;49margs, \u001b[39m*\u001b[39;49m\u001b[39m*\u001b[39;49mkwds)\n\u001b[1;32m    <a href='file:///home/simonf/.venv/onsets/lib/python3.8/site-packages/tensorflow/python/eager/def_function.py?line=916'>917</a>\u001b[0m new_tracing_count \u001b[39m=\u001b[39m \u001b[39mself\u001b[39m\u001b[39m.\u001b[39mexperimental_get_tracing_count()\n\u001b[1;32m    <a href='file:///home/simonf/.venv/onsets/lib/python3.8/site-packages/tensorflow/python/eager/def_function.py?line=917'>918</a>\u001b[0m without_tracing \u001b[39m=\u001b[39m (tracing_count \u001b[39m==\u001b[39m new_tracing_count)\n",
      "File \u001b[0;32m~/.venv/onsets/lib/python3.8/site-packages/tensorflow/python/eager/def_function.py:947\u001b[0m, in \u001b[0;36mFunction._call\u001b[0;34m(self, *args, **kwds)\u001b[0m\n\u001b[1;32m    <a href='file:///home/simonf/.venv/onsets/lib/python3.8/site-packages/tensorflow/python/eager/def_function.py?line=943'>944</a>\u001b[0m   \u001b[39mself\u001b[39m\u001b[39m.\u001b[39m_lock\u001b[39m.\u001b[39mrelease()\n\u001b[1;32m    <a href='file:///home/simonf/.venv/onsets/lib/python3.8/site-packages/tensorflow/python/eager/def_function.py?line=944'>945</a>\u001b[0m   \u001b[39m# In this case we have created variables on the first call, so we run the\u001b[39;00m\n\u001b[1;32m    <a href='file:///home/simonf/.venv/onsets/lib/python3.8/site-packages/tensorflow/python/eager/def_function.py?line=945'>946</a>\u001b[0m   \u001b[39m# defunned version which is guaranteed to never create variables.\u001b[39;00m\n\u001b[0;32m--> <a href='file:///home/simonf/.venv/onsets/lib/python3.8/site-packages/tensorflow/python/eager/def_function.py?line=946'>947</a>\u001b[0m   \u001b[39mreturn\u001b[39;00m \u001b[39mself\u001b[39;49m\u001b[39m.\u001b[39;49m_stateless_fn(\u001b[39m*\u001b[39;49margs, \u001b[39m*\u001b[39;49m\u001b[39m*\u001b[39;49mkwds)  \u001b[39m# pylint: disable=not-callable\u001b[39;00m\n\u001b[1;32m    <a href='file:///home/simonf/.venv/onsets/lib/python3.8/site-packages/tensorflow/python/eager/def_function.py?line=947'>948</a>\u001b[0m \u001b[39melif\u001b[39;00m \u001b[39mself\u001b[39m\u001b[39m.\u001b[39m_stateful_fn \u001b[39mis\u001b[39;00m \u001b[39mnot\u001b[39;00m \u001b[39mNone\u001b[39;00m:\n\u001b[1;32m    <a href='file:///home/simonf/.venv/onsets/lib/python3.8/site-packages/tensorflow/python/eager/def_function.py?line=948'>949</a>\u001b[0m   \u001b[39m# Release the lock early so that multiple threads can perform the call\u001b[39;00m\n\u001b[1;32m    <a href='file:///home/simonf/.venv/onsets/lib/python3.8/site-packages/tensorflow/python/eager/def_function.py?line=949'>950</a>\u001b[0m   \u001b[39m# in parallel.\u001b[39;00m\n\u001b[1;32m    <a href='file:///home/simonf/.venv/onsets/lib/python3.8/site-packages/tensorflow/python/eager/def_function.py?line=950'>951</a>\u001b[0m   \u001b[39mself\u001b[39m\u001b[39m.\u001b[39m_lock\u001b[39m.\u001b[39mrelease()\n",
      "File \u001b[0;32m~/.venv/onsets/lib/python3.8/site-packages/tensorflow/python/eager/function.py:2956\u001b[0m, in \u001b[0;36mFunction.__call__\u001b[0;34m(self, *args, **kwargs)\u001b[0m\n\u001b[1;32m   <a href='file:///home/simonf/.venv/onsets/lib/python3.8/site-packages/tensorflow/python/eager/function.py?line=2952'>2953</a>\u001b[0m \u001b[39mwith\u001b[39;00m \u001b[39mself\u001b[39m\u001b[39m.\u001b[39m_lock:\n\u001b[1;32m   <a href='file:///home/simonf/.venv/onsets/lib/python3.8/site-packages/tensorflow/python/eager/function.py?line=2953'>2954</a>\u001b[0m   (graph_function,\n\u001b[1;32m   <a href='file:///home/simonf/.venv/onsets/lib/python3.8/site-packages/tensorflow/python/eager/function.py?line=2954'>2955</a>\u001b[0m    filtered_flat_args) \u001b[39m=\u001b[39m \u001b[39mself\u001b[39m\u001b[39m.\u001b[39m_maybe_define_function(args, kwargs)\n\u001b[0;32m-> <a href='file:///home/simonf/.venv/onsets/lib/python3.8/site-packages/tensorflow/python/eager/function.py?line=2955'>2956</a>\u001b[0m \u001b[39mreturn\u001b[39;00m graph_function\u001b[39m.\u001b[39;49m_call_flat(\n\u001b[1;32m   <a href='file:///home/simonf/.venv/onsets/lib/python3.8/site-packages/tensorflow/python/eager/function.py?line=2956'>2957</a>\u001b[0m     filtered_flat_args, captured_inputs\u001b[39m=\u001b[39;49mgraph_function\u001b[39m.\u001b[39;49mcaptured_inputs)\n",
      "File \u001b[0;32m~/.venv/onsets/lib/python3.8/site-packages/tensorflow/python/eager/function.py:1853\u001b[0m, in \u001b[0;36mConcreteFunction._call_flat\u001b[0;34m(self, args, captured_inputs, cancellation_manager)\u001b[0m\n\u001b[1;32m   <a href='file:///home/simonf/.venv/onsets/lib/python3.8/site-packages/tensorflow/python/eager/function.py?line=1848'>1849</a>\u001b[0m possible_gradient_type \u001b[39m=\u001b[39m gradients_util\u001b[39m.\u001b[39mPossibleTapeGradientTypes(args)\n\u001b[1;32m   <a href='file:///home/simonf/.venv/onsets/lib/python3.8/site-packages/tensorflow/python/eager/function.py?line=1849'>1850</a>\u001b[0m \u001b[39mif\u001b[39;00m (possible_gradient_type \u001b[39m==\u001b[39m gradients_util\u001b[39m.\u001b[39mPOSSIBLE_GRADIENT_TYPES_NONE\n\u001b[1;32m   <a href='file:///home/simonf/.venv/onsets/lib/python3.8/site-packages/tensorflow/python/eager/function.py?line=1850'>1851</a>\u001b[0m     \u001b[39mand\u001b[39;00m executing_eagerly):\n\u001b[1;32m   <a href='file:///home/simonf/.venv/onsets/lib/python3.8/site-packages/tensorflow/python/eager/function.py?line=1851'>1852</a>\u001b[0m   \u001b[39m# No tape is watching; skip to running the function.\u001b[39;00m\n\u001b[0;32m-> <a href='file:///home/simonf/.venv/onsets/lib/python3.8/site-packages/tensorflow/python/eager/function.py?line=1852'>1853</a>\u001b[0m   \u001b[39mreturn\u001b[39;00m \u001b[39mself\u001b[39m\u001b[39m.\u001b[39m_build_call_outputs(\u001b[39mself\u001b[39;49m\u001b[39m.\u001b[39;49m_inference_function\u001b[39m.\u001b[39;49mcall(\n\u001b[1;32m   <a href='file:///home/simonf/.venv/onsets/lib/python3.8/site-packages/tensorflow/python/eager/function.py?line=1853'>1854</a>\u001b[0m       ctx, args, cancellation_manager\u001b[39m=\u001b[39;49mcancellation_manager))\n\u001b[1;32m   <a href='file:///home/simonf/.venv/onsets/lib/python3.8/site-packages/tensorflow/python/eager/function.py?line=1854'>1855</a>\u001b[0m forward_backward \u001b[39m=\u001b[39m \u001b[39mself\u001b[39m\u001b[39m.\u001b[39m_select_forward_and_backward_functions(\n\u001b[1;32m   <a href='file:///home/simonf/.venv/onsets/lib/python3.8/site-packages/tensorflow/python/eager/function.py?line=1855'>1856</a>\u001b[0m     args,\n\u001b[1;32m   <a href='file:///home/simonf/.venv/onsets/lib/python3.8/site-packages/tensorflow/python/eager/function.py?line=1856'>1857</a>\u001b[0m     possible_gradient_type,\n\u001b[1;32m   <a href='file:///home/simonf/.venv/onsets/lib/python3.8/site-packages/tensorflow/python/eager/function.py?line=1857'>1858</a>\u001b[0m     executing_eagerly)\n\u001b[1;32m   <a href='file:///home/simonf/.venv/onsets/lib/python3.8/site-packages/tensorflow/python/eager/function.py?line=1858'>1859</a>\u001b[0m forward_function, args_with_tangents \u001b[39m=\u001b[39m forward_backward\u001b[39m.\u001b[39mforward()\n",
      "File \u001b[0;32m~/.venv/onsets/lib/python3.8/site-packages/tensorflow/python/eager/function.py:499\u001b[0m, in \u001b[0;36m_EagerDefinedFunction.call\u001b[0;34m(self, ctx, args, cancellation_manager)\u001b[0m\n\u001b[1;32m    <a href='file:///home/simonf/.venv/onsets/lib/python3.8/site-packages/tensorflow/python/eager/function.py?line=496'>497</a>\u001b[0m \u001b[39mwith\u001b[39;00m _InterpolateFunctionError(\u001b[39mself\u001b[39m):\n\u001b[1;32m    <a href='file:///home/simonf/.venv/onsets/lib/python3.8/site-packages/tensorflow/python/eager/function.py?line=497'>498</a>\u001b[0m   \u001b[39mif\u001b[39;00m cancellation_manager \u001b[39mis\u001b[39;00m \u001b[39mNone\u001b[39;00m:\n\u001b[0;32m--> <a href='file:///home/simonf/.venv/onsets/lib/python3.8/site-packages/tensorflow/python/eager/function.py?line=498'>499</a>\u001b[0m     outputs \u001b[39m=\u001b[39m execute\u001b[39m.\u001b[39;49mexecute(\n\u001b[1;32m    <a href='file:///home/simonf/.venv/onsets/lib/python3.8/site-packages/tensorflow/python/eager/function.py?line=499'>500</a>\u001b[0m         \u001b[39mstr\u001b[39;49m(\u001b[39mself\u001b[39;49m\u001b[39m.\u001b[39;49msignature\u001b[39m.\u001b[39;49mname),\n\u001b[1;32m    <a href='file:///home/simonf/.venv/onsets/lib/python3.8/site-packages/tensorflow/python/eager/function.py?line=500'>501</a>\u001b[0m         num_outputs\u001b[39m=\u001b[39;49m\u001b[39mself\u001b[39;49m\u001b[39m.\u001b[39;49m_num_outputs,\n\u001b[1;32m    <a href='file:///home/simonf/.venv/onsets/lib/python3.8/site-packages/tensorflow/python/eager/function.py?line=501'>502</a>\u001b[0m         inputs\u001b[39m=\u001b[39;49margs,\n\u001b[1;32m    <a href='file:///home/simonf/.venv/onsets/lib/python3.8/site-packages/tensorflow/python/eager/function.py?line=502'>503</a>\u001b[0m         attrs\u001b[39m=\u001b[39;49mattrs,\n\u001b[1;32m    <a href='file:///home/simonf/.venv/onsets/lib/python3.8/site-packages/tensorflow/python/eager/function.py?line=503'>504</a>\u001b[0m         ctx\u001b[39m=\u001b[39;49mctx)\n\u001b[1;32m    <a href='file:///home/simonf/.venv/onsets/lib/python3.8/site-packages/tensorflow/python/eager/function.py?line=504'>505</a>\u001b[0m   \u001b[39melse\u001b[39;00m:\n\u001b[1;32m    <a href='file:///home/simonf/.venv/onsets/lib/python3.8/site-packages/tensorflow/python/eager/function.py?line=505'>506</a>\u001b[0m     outputs \u001b[39m=\u001b[39m execute\u001b[39m.\u001b[39mexecute_with_cancellation(\n\u001b[1;32m    <a href='file:///home/simonf/.venv/onsets/lib/python3.8/site-packages/tensorflow/python/eager/function.py?line=506'>507</a>\u001b[0m         \u001b[39mstr\u001b[39m(\u001b[39mself\u001b[39m\u001b[39m.\u001b[39msignature\u001b[39m.\u001b[39mname),\n\u001b[1;32m    <a href='file:///home/simonf/.venv/onsets/lib/python3.8/site-packages/tensorflow/python/eager/function.py?line=507'>508</a>\u001b[0m         num_outputs\u001b[39m=\u001b[39m\u001b[39mself\u001b[39m\u001b[39m.\u001b[39m_num_outputs,\n\u001b[0;32m   (...)\u001b[0m\n\u001b[1;32m    <a href='file:///home/simonf/.venv/onsets/lib/python3.8/site-packages/tensorflow/python/eager/function.py?line=510'>511</a>\u001b[0m         ctx\u001b[39m=\u001b[39mctx,\n\u001b[1;32m    <a href='file:///home/simonf/.venv/onsets/lib/python3.8/site-packages/tensorflow/python/eager/function.py?line=511'>512</a>\u001b[0m         cancellation_manager\u001b[39m=\u001b[39mcancellation_manager)\n",
      "File \u001b[0;32m~/.venv/onsets/lib/python3.8/site-packages/tensorflow/python/eager/execute.py:54\u001b[0m, in \u001b[0;36mquick_execute\u001b[0;34m(op_name, num_outputs, inputs, attrs, ctx, name)\u001b[0m\n\u001b[1;32m     <a href='file:///home/simonf/.venv/onsets/lib/python3.8/site-packages/tensorflow/python/eager/execute.py?line=51'>52</a>\u001b[0m \u001b[39mtry\u001b[39;00m:\n\u001b[1;32m     <a href='file:///home/simonf/.venv/onsets/lib/python3.8/site-packages/tensorflow/python/eager/execute.py?line=52'>53</a>\u001b[0m   ctx\u001b[39m.\u001b[39mensure_initialized()\n\u001b[0;32m---> <a href='file:///home/simonf/.venv/onsets/lib/python3.8/site-packages/tensorflow/python/eager/execute.py?line=53'>54</a>\u001b[0m   tensors \u001b[39m=\u001b[39m pywrap_tfe\u001b[39m.\u001b[39;49mTFE_Py_Execute(ctx\u001b[39m.\u001b[39;49m_handle, device_name, op_name,\n\u001b[1;32m     <a href='file:///home/simonf/.venv/onsets/lib/python3.8/site-packages/tensorflow/python/eager/execute.py?line=54'>55</a>\u001b[0m                                       inputs, attrs, num_outputs)\n\u001b[1;32m     <a href='file:///home/simonf/.venv/onsets/lib/python3.8/site-packages/tensorflow/python/eager/execute.py?line=55'>56</a>\u001b[0m \u001b[39mexcept\u001b[39;00m core\u001b[39m.\u001b[39m_NotOkStatusException \u001b[39mas\u001b[39;00m e:\n\u001b[1;32m     <a href='file:///home/simonf/.venv/onsets/lib/python3.8/site-packages/tensorflow/python/eager/execute.py?line=56'>57</a>\u001b[0m   \u001b[39mif\u001b[39;00m name \u001b[39mis\u001b[39;00m \u001b[39mnot\u001b[39;00m \u001b[39mNone\u001b[39;00m:\n",
      "\u001b[0;31mKeyboardInterrupt\u001b[0m: "
     ]
    }
   ],
   "source": [
    "if standard:\n",
    "    with open('results/cnn-training-220331/mean_by_fold.pickle', 'rb') as file_pi:\n",
    "        means = pickle.load(file_pi)\n",
    "    with open('results/cnn-training-220331/std_by_fold.pickle', 'rb') as file_pi:\n",
    "        stds = pickle.load(file_pi)\n",
    "\n",
    "if isinstance(training_mode, int):\n",
    "    fold = training_mode\n",
    "else:\n",
    "    fold = 0\n",
    "\n",
    "while fold < n_splits:\n",
    "    print()\n",
    "    print(\"Fold {}/{} ---------\".format(fold, n_splits))\n",
    "    train_idx = kf_gen[fold][0]\n",
    "    test_idx = kf_gen[fold][1]\n",
    "    print(\"Train indices: \", train_idx)\n",
    "    print(\"Test indices: \", test_idx)\n",
    "\n",
    "    # Data\n",
    "    #X_train, X_test = [\n",
    "    #    np.concatenate([X[i] for i in idx]) \n",
    "    #    for idx in (train_idx, test_idx)\n",
    "    #]\n",
    "    #y_train, y_test = [\n",
    "    #    np.concatenate([onset_vectors[i] for i in idx]) \n",
    "    #    for idx in (train_idx, test_idx)\n",
    "    #]\n",
    "\n",
    "    #train_onset_ratio = y_train.sum()/len(y_train)\n",
    "\n",
    "    # Normalize with training set statistics\n",
    "    #if standard:\n",
    "    #    X_train = (X_train - means[fold])/stds[fold]\n",
    "    #    X_test = (X_test - means[fold])/stds[fold]\n",
    "\n",
    "    # Model\n",
    "    if not continue_run:\n",
    "        tf.keras.backend.clear_session()\n",
    "    (model, norm_layer)=get_model(finetune=False)\n",
    "    model.compile(optimizer=optimizer,\n",
    "                loss=loss_fn,\n",
    "                metrics=metrics)\n",
    "\n",
    "    # Training\n",
    "    history = model.fit(\n",
    "        x = data_generator(\n",
    "            batch_size=bs, \n",
    "            steps_per_epoch=steps_per_epoch, \n",
    "            epochs=n_epochs,\n",
    "            idx=train_idx\n",
    "        ),\n",
    "        batch_size      = bs,\n",
    "        steps_per_epoch = steps_per_epoch,\n",
    "        epochs          = n_epochs,\n",
    "        \n",
    "        # Validation data\n",
    "        validation_data = tf.data.Dataset.from_generator(\n",
    "            lambda: data_generator(\n",
    "                batch_size=bs, \n",
    "                steps_per_epoch=val_steps_per_epoch, \n",
    "                epochs=1,\n",
    "                idx=test_idx\n",
    "            ),\n",
    "            output_signature = (\n",
    "                tf.TensorSpec(shape = (bs, 80 , 15, 3), dtype = tf.float64),\n",
    "                tf.TensorSpec(shape = (bs),     dtype = tf.float64),\n",
    "            )\n",
    "        ),\n",
    "        validation_batch_size = bs,\n",
    "        validation_steps      = val_steps_per_epoch,\n",
    "        class_weight = {0: 1., 1: 1/0.035},\n",
    "        verbose=1\n",
    "    )\n",
    "\n",
    "    # Saving\n",
    "    if save:\n",
    "        model.save('results/cnn-training-{}/fold_{}_{}_model'.format(date_today, fold, training_name))\n",
    "        with open('results/cnn-training-{}/fold_{}_{}_history.pickle'.format(date_today, fold, training_name), 'wb') as file_pi:\n",
    "            pickle.dump(history.history, file_pi)\n",
    "    \n",
    "    \n",
    "    if training_mode != \"all\":\n",
    "        break\n",
    "    fold += 1\n",
    "    "
   ]
  },
  {
   "cell_type": "code",
   "execution_count": 156,
   "id": "8b89eb73",
   "metadata": {},
   "outputs": [],
   "source": [
    "with open('results/cnn-training-220330/{}_fold_{}_history.pickle'.format(4, \"finetune-all-dropout\"), 'rb') as file_pi:\n",
    "    h_all = pickle.load(file_pi)\n",
    "with open('results/cnn-training-220330/{}_fold_{}_history.pickle'.format(4, \"only-bn-finetune-all\"), 'rb') as file_pi:\n",
    "    h_bn = pickle.load(file_pi)\n"
   ]
  },
  {
   "cell_type": "code",
   "execution_count": 13,
   "id": "c2d93f3c",
   "metadata": {},
   "outputs": [
    {
     "name": "stdout",
     "output_type": "stream",
     "text": [
      "F-score before postprocessing: 0.33311696741529273\n"
     ]
    }
   ],
   "source": [
    "THRES = ''\n",
    "VAL = ''\n",
    "TPS = history.history[VAL + 'tp' + THRES]\n",
    "FNS = history.history[VAL + 'fn' + THRES]\n",
    "FPS = history.history[VAL + 'fp' + THRES]\n",
    "print(\"F-score before postprocessing:\", 2*TPS[-2]/(2*TPS[-2] + FPS[-2] + FNS[-2]))"
   ]
  },
  {
   "cell_type": "code",
   "execution_count": 157,
   "id": "7660db53",
   "metadata": {},
   "outputs": [
    {
     "data": {
      "text/plain": [
       "<matplotlib.legend.Legend at 0x153126a90>"
      ]
     },
     "execution_count": 157,
     "metadata": {},
     "output_type": "execute_result"
    },
    {
     "data": {
      "image/png": "[encoded data removed]",
      "text/plain": [
       "<Figure size 432x288 with 1 Axes>"
      ]
     },
     "metadata": {
      "needs_background": "light"
     },
     "output_type": "display_data"
    }
   ],
   "source": [
    "plt.plot(h_all['loss'], \"-\")\n",
    "plt.plot(h_all['val_loss'], \"-\")\n",
    "plt.plot(h_bn['loss'], \".\")\n",
    "plt.plot(h_bn['val_loss'], \".\")\n",
    "plt.legend([\n",
    "    \"Both normalizations - training loss\", \n",
    "    \"Both normalizations - validation loss\",\n",
    "    \"Only pretrained normalization - training loss\", \n",
    "    \"Only pretrained normalization - validation loss\",\n",
    "])"
   ]
  },
  {
   "cell_type": "code",
   "execution_count": 93,
   "id": "c361d908",
   "metadata": {},
   "outputs": [
    {
     "data": {
      "text/plain": [
       "<matplotlib.legend.Legend at 0x15169c370>"
      ]
     },
     "execution_count": 93,
     "metadata": {},
     "output_type": "execute_result"
    },
    {
     "data": {
      "image/png": "[encoded data removed]",
      "text/plain": [
       "<Figure size 432x288 with 1 Axes>"
      ]
     },
     "metadata": {
      "needs_background": "light"
     },
     "output_type": "display_data"
    }
   ],
   "source": [
    "plt.plot(h_all['loss'], \"-\")\n",
    "plt.plot(h_all['val_loss'], \"-\")\n",
    "plt.plot(h_dense['loss'], \".\")\n",
    "plt.plot(h_dense['val_loss'], \".\")\n",
    "plt.legend([\n",
    "    \"Whole model retrained - training loss\", \n",
    "    \"Whole model retrained - validation loss\",\n",
    "    \"Only dense layers trained - training loss\", \n",
    "    \"Only dense layers trained - validation loss\",\n",
    "])"
   ]
  },
  {
   "cell_type": "code",
   "execution_count": 30,
   "id": "1d83928b",
   "metadata": {},
   "outputs": [
    {
     "data": {
      "text/plain": [
       "<matplotlib.legend.Legend at 0x14fbdc790>"
      ]
     },
     "execution_count": 30,
     "metadata": {},
     "output_type": "execute_result"
    },
    {
     "data": {
      "image/png": "[encoded data removed]",
      "text/plain": [
       "<Figure size 1440x288 with 2 Axes>"
      ]
     },
     "metadata": {
      "needs_background": "light"
     },
     "output_type": "display_data"
    }
   ],
   "source": [
    "fig, axs = plt.subplots(1,2,figsize=(20,4))\n",
    "# Prec. training\n",
    "axs[0].plot([tp/(fp+tp) for (tp, fp) in zip(history['tp'], history['fp'])], color='lightblue')\n",
    "# Rec. training\n",
    "axs[0].plot([tp/(fn+tp) for (tp, fn) in zip(history['tp'], history['fn'])], color='lightgreen')\n",
    "# F-measure\n",
    "axs[0].plot([2*tp/(2*tp+fp+fn) for (tp, fp, fn) in zip(history['tp'], history['fp'], history['fn'])], 'k:')\n",
    "axs[0].legend([\"Precision\", \"Recall\", \"F-measure\"])\n",
    "\n",
    "# Prec. training\n",
    "axs[1].plot([tp/(fp+tp) for (tp, fp) in zip(history['val_tp'], history['val_fp'])], color='lightblue')\n",
    "# Rec. training\n",
    "axs[1].plot([tp/(fn+tp) for (tp, fn) in zip(history['val_tp'], history['val_fn'])], color='lightgreen')\n",
    "# F-measure\n",
    "axs[1].plot([2*tp/(2*tp+fp+fn) for (tp, fp, fn) in zip(history['val_tp'], history['val_fp'], history['val_fn'])], 'k:')\n",
    "axs[1].legend([\"Precision\", \"Recall\", \"F-measure\"])"
   ]
  },
  {
   "cell_type": "code",
   "execution_count": 37,
   "id": "4a2a98df",
   "metadata": {},
   "outputs": [],
   "source": [
    "\n"
   ]
  },
  {
   "cell_type": "markdown",
   "id": "d0c015ec",
   "metadata": {},
   "source": [
    "## Audio analysis and onset extraction"
   ]
  },
  {
   "cell_type": "code",
   "execution_count": 121,
   "id": "3e488ddb",
   "metadata": {},
   "outputs": [
    {
     "name": "stdout",
     "output_type": "stream",
     "text": [
      "Test recordings:  [17]\n",
      "Length of recordings:  ['101.2 s']\n",
      "[10124.843537414967]\n",
      "Length of onset vectors:  [10125]\n",
      "Number of annotated onsets:  [164]  =  164\n"
     ]
    }
   ],
   "source": [
    "F_RATE = HOP/SR \n",
    "train_idx = np.array([ 0,  1,  3,  5,  6,  7, 8,  9, 10, 11, 12, 13, 15, 17, 18])\n",
    "test_idx = np.array([ 2,  4, 14, 16])\n",
    "test_idx = np.array([16])\n",
    "test_audio_paths = ['datasets/initslurtest_vn/initslurtest_vn_wav/slurtest{:02d}.wav'.format(test_index+1) for test_index in test_idx]\n",
    "test_audios = [madmom.audio.signal.load_wave_file(path)[0] for path in test_audio_paths]\n",
    "test_lengths = [len(test_audio)/SR for test_audio in test_audios]\n",
    "test_onsets = [genfromtxt('datasets/initslurtest_vn/initslurtest_vn_annotations/{:02d}.txt'.format(test_index+1), delimiter=',') for test_index in test_idx]\n",
    "test_onset_vectors = [get_label_vector(test_onset, len(test_audio)/SR, HOP, SR) for test_audio, test_onset in zip(test_audios, test_onsets)]\n",
    "print(\"Test recordings: \", test_idx+1)\n",
    "print(\"Length of recordings: \", [\"{:.1f} s\".format(l) for l in test_lengths])\n",
    "print([len(a)/HOP for a in test_audios])\n",
    "print(\"Length of onset vectors: \", [len(v) for v in test_onset_vectors])\n",
    "print(\"Number of annotated onsets: \", \n",
    "    [len(test_onset) for test_onset in test_onsets], \n",
    "    \" = \", np.sum([len(test_onset) for test_onset in test_onsets])\n",
    ")"
   ]
  },
  {
   "cell_type": "code",
   "execution_count": 122,
   "id": "40d836e4",
   "metadata": {},
   "outputs": [],
   "source": [
    "full_audio = np.concatenate(test_audios)\n",
    "cum_lengths = np.concatenate(([0.0], np.cumsum(test_lengths)))[:-1]\n",
    "full_onsets = np.concatenate(\n",
    "    [shift + onset for (shift, onset) in zip(cum_lengths, test_onsets)]\n",
    ")\n",
    "full_onset_vectors = np.concatenate(test_onset_vectors)"
   ]
  },
  {
   "cell_type": "code",
   "execution_count": 127,
   "id": "133cbdc8",
   "metadata": {},
   "outputs": [],
   "source": [
    "index_to_fold = {\n",
    "    0: 2,\n",
    "    1: 2,\n",
    "    2: 1,\n",
    "    3: 0,\n",
    "    4: 1,\n",
    "    5: 4,\n",
    "    6: 0,\n",
    "    7: 2,\n",
    "    8: 3,\n",
    "    9: 3,\n",
    "    10: 0,\n",
    "    11: 4,\n",
    "    12: 4,\n",
    "    13: 2,\n",
    "    14: 1,\n",
    "    15: 0,\n",
    "    16: 1,\n",
    "    17: 3,\n",
    "    18: 3,\n",
    "}"
   ]
  },
  {
   "cell_type": "code",
   "execution_count": 132,
   "id": "eb53d6f9",
   "metadata": {},
   "outputs": [],
   "source": [
    "def get_test_peaks(activations, f_rate, threshold=0.5, kernel_size=5, n_pre=5, n_post=5):\n",
    "    return madmom.features.onsets.peak_picking(\n",
    "                                        activations=activations, \n",
    "                                        threshold=threshold, \n",
    "                                        smooth=kernel_size, \n",
    "                                        pre_avg=n_pre, \n",
    "                                        post_avg=n_post, \n",
    "                                        pre_max=n_pre, \n",
    "                                        post_max=n_post\n",
    "    )[0].astype(np.float32)*f_rate"
   ]
  },
  {
   "cell_type": "code",
   "execution_count": 130,
   "id": "b57be9f2",
   "metadata": {},
   "outputs": [],
   "source": [
    "with open('results/cnn-training-220331/mean_by_fold.pickle', 'rb') as file_pi:\n",
    "    means = pickle.load(file_pi)\n",
    "with open('results/cnn-training-220331/std_by_fold.pickle', 'rb') as file_pi:\n",
    "    stds = pickle.load(file_pi)"
   ]
  },
  {
   "cell_type": "code",
   "execution_count": 160,
   "id": "741d8287",
   "metadata": {},
   "outputs": [
    {
     "name": "stdout",
     "output_type": "stream",
     "text": [
      "Test recording no  1  which is in test set of fold  2\n",
      "Loading data...\n",
      "Loading model...\n",
      "Predicting...\n",
      "Evaluating...\n",
      "Precision: 78.2 %\n",
      "Recall: 98.4 %\n",
      "F-score: 87.1 %\n",
      "Test recording no  2  which is in test set of fold  2\n",
      "Loading data...\n",
      "Loading model...\n",
      "Predicting...\n",
      "Evaluating...\n",
      "Precision: 71.8 %\n",
      "Recall: 100.0 %\n",
      "F-score: 83.6 %\n",
      "Test recording no  3  which is in test set of fold  1\n",
      "Loading data...\n",
      "Loading model...\n",
      "Predicting...\n",
      "Evaluating...\n",
      "Precision: 76.0 %\n",
      "Recall: 93.4 %\n",
      "F-score: 83.8 %\n",
      "Test recording no  4  which is in test set of fold  0\n",
      "Loading data...\n",
      "Loading model...\n"
     ]
    },
    {
     "name": "stderr",
     "output_type": "stream",
     "text": [
      "Exception ignored in: <function WeakKeyDictionary.__init__.<locals>.remove at 0x13d3caa60>\n",
      "Traceback (most recent call last):\n",
      "  File \"/usr/local/Cellar/python@3.9/3.9.10/Frameworks/Python.framework/Versions/3.9/lib/python3.9/weakref.py\", line 370, in remove\n",
      "    def remove(k, selfref=ref(self)):\n",
      "KeyboardInterrupt: \n"
     ]
    },
    {
     "name": "stdout",
     "output_type": "stream",
     "text": [
      "Predicting...\n",
      "Evaluating...\n",
      "Precision: 90.9 %\n",
      "Recall: 93.3 %\n",
      "F-score: 92.1 %\n",
      "Test recording no  5  which is in test set of fold  1\n",
      "Loading data...\n",
      "Loading model...\n",
      "Predicting...\n",
      "Evaluating...\n",
      "Precision: 68.8 %\n",
      "Recall: 94.1 %\n",
      "F-score: 79.5 %\n",
      "Test recording no  6  which is in test set of fold  4\n",
      "Loading data...\n",
      "Loading model...\n",
      "Predicting...\n",
      "Evaluating...\n",
      "Precision: 93.6 %\n",
      "Recall: 95.4 %\n",
      "F-score: 94.5 %\n",
      "Test recording no  7  which is in test set of fold  0\n",
      "Loading data...\n",
      "Loading model...\n",
      "Predicting...\n",
      "Evaluating...\n",
      "Precision: 92.5 %\n",
      "Recall: 84.7 %\n",
      "F-score: 88.4 %\n",
      "Test recording no  8  which is in test set of fold  2\n",
      "Loading data...\n",
      "Loading model...\n",
      "Predicting...\n",
      "Evaluating...\n",
      "Precision: 79.8 %\n",
      "Recall: 96.7 %\n",
      "F-score: 87.4 %\n",
      "Test recording no  9  which is in test set of fold  3\n",
      "Loading data...\n",
      "Loading model...\n",
      "Predicting...\n",
      "Evaluating...\n",
      "Precision: 75.0 %\n",
      "Recall: 92.6 %\n",
      "F-score: 82.9 %\n",
      "Test recording no  10  which is in test set of fold  3\n",
      "Loading data...\n",
      "Loading model...\n",
      "Predicting...\n",
      "Evaluating...\n",
      "Precision: 50.0 %\n",
      "Recall: 50.0 %\n",
      "F-score: 50.0 %\n",
      "Test recording no  11  which is in test set of fold  0\n",
      "Loading data...\n",
      "Loading model...\n",
      "Predicting...\n",
      "Evaluating...\n",
      "Precision: 60.4 %\n",
      "Recall: 63.0 %\n",
      "F-score: 61.7 %\n",
      "Test recording no  12  which is in test set of fold  4\n",
      "Loading data...\n",
      "Loading model...\n",
      "Predicting...\n",
      "Evaluating...\n",
      "Precision: 49.2 %\n",
      "Recall: 93.8 %\n",
      "F-score: 64.5 %\n",
      "Test recording no  13  which is in test set of fold  4\n",
      "Loading data...\n",
      "Loading model...\n",
      "Predicting...\n",
      "Evaluating...\n",
      "Precision: 65.6 %\n",
      "Recall: 95.5 %\n",
      "F-score: 77.8 %\n",
      "Test recording no  14  which is in test set of fold  2\n",
      "Loading data...\n",
      "Loading model...\n",
      "Predicting...\n",
      "Evaluating...\n",
      "Precision: 69.8 %\n",
      "Recall: 83.0 %\n",
      "F-score: 75.9 %\n",
      "Test recording no  15  which is in test set of fold  1\n",
      "Loading data...\n",
      "Loading model...\n",
      "Predicting...\n",
      "Evaluating...\n",
      "Precision: 72.7 %\n",
      "Recall: 91.2 %\n",
      "F-score: 80.9 %\n",
      "Test recording no  16  which is in test set of fold  0\n",
      "Loading data...\n",
      "Loading model...\n",
      "Predicting...\n",
      "Evaluating...\n",
      "Precision: 69.2 %\n",
      "Recall: 87.1 %\n",
      "F-score: 77.1 %\n",
      "Test recording no  17  which is in test set of fold  1\n",
      "Loading data...\n",
      "Loading model...\n",
      "Predicting...\n",
      "Evaluating...\n",
      "Precision: 54.5 %\n",
      "Recall: 73.8 %\n",
      "F-score: 62.7 %\n",
      "Test recording no  18  which is in test set of fold  3\n",
      "Loading data...\n",
      "Loading model...\n",
      "Predicting...\n",
      "Evaluating...\n",
      "Precision: 42.1 %\n",
      "Recall: 50.0 %\n",
      "F-score: 45.7 %\n",
      "Test recording no  19  which is in test set of fold  3\n",
      "Loading data...\n",
      "Loading model...\n",
      "Predicting...\n",
      "Evaluating...\n",
      "Precision: 85.4 %\n",
      "Recall: 89.2 %\n",
      "F-score: 87.2 %\n"
     ]
    }
   ],
   "source": [
    "from analyze_detection import evaluate\n",
    "\n",
    "TOL = 0.03\n",
    "\n",
    "for test_index in np.arange(0,19):\n",
    "    fold = index_to_fold[test_index]\n",
    "    print(\"Test recording no \", test_index + 1, \" which is in test set of fold \", fold)\n",
    "    print(\"Loading data...\")\n",
    "    X_test = X[test_index]\n",
    "    training_name = \"finetune-dense-dropout\"\n",
    "    print(\"Loading model...\")\n",
    "\n",
    "    #Fold-independent\n",
    "    model = tf.keras.models.load_model('results/cnn-training-220330/finetune-all-plus-dropout_model')\n",
    "    model = tf.keras.models.load_model('results/cnn-training-220331/{}_fold_{}_model'.format(fold, training_name))\n",
    "    print(\"Predicting...\")\n",
    "    test_model_out = model.predict((X_test-means[fold])/stds[fold])\n",
    "    peaks = get_test_peaks(test_model_out, HOP/SR)\n",
    "    print(\"Evaluating...\")\n",
    "    [CD,FN,FP,doubles,merged] = evaluate(onset_schedules[test_index], peaks, tol_sec=TOL)\n",
    "    print(\"Precision: {:.1f} %\".format( 100*CD/(CD+FP)))\n",
    "    print(\"Recall: {:.1f} %\".format( 100*CD/(CD+FN)))\n",
    "    print(\"F-score: {:.1f} %\".format( 200*CD/(2*CD+FP+FN)))\n",
    "    #print(\"{}\\t{}\\t{}\".format(CD,FN,FP))\n",
    "\n",
    "    "
   ]
  },
  {
   "cell_type": "code",
   "execution_count": 128,
   "id": "6a820900",
   "metadata": {},
   "outputs": [],
   "source": [
    "def get_test_peaks(activations, f_rate, threshold=0.5, kernel_size=5, n_pre=5, n_post=5):\n",
    "    return madmom.features.onsets.peak_picking(\n",
    "                                        activations=activations, \n",
    "                                        threshold=threshold, \n",
    "                                        smooth=kernel_size, \n",
    "                                        pre_avg=n_pre, \n",
    "                                        post_avg=n_post, \n",
    "                                        pre_max=n_pre, \n",
    "                                        post_max=n_post\n",
    "    )[0].astype(np.float32)*f_rate\n"
   ]
  },
  {
   "cell_type": "code",
   "execution_count": 67,
   "id": "db506487",
   "metadata": {},
   "outputs": [
    {
     "name": "stdout",
     "output_type": "stream",
     "text": [
      "[10.099999  10.26      10.4       10.5199995 10.679999  10.79\n",
      " 10.94      11.05      11.23      11.79      12.44      12.57\n",
      " 12.71      12.83      12.99      13.11      13.24      13.37\n",
      " 13.54     ]\n"
     ]
    },
    {
     "data": {
      "text/plain": [
       "<matplotlib.collections.PathCollection at 0x14d8142b0>"
      ]
     },
     "execution_count": 67,
     "metadata": {},
     "output_type": "execute_result"
    },
    {
     "data": {
      "image/png": "[encoded data removed]",
      "text/plain": [
       "<Figure size 432x288 with 1 Axes>"
      ]
     },
     "metadata": {
      "needs_background": "light"
     },
     "output_type": "display_data"
    }
   ],
   "source": [
    "start_sec = 10\n",
    "end_sec = 14\n",
    "selected_peaks = test_peaks[np.intersect1d(\n",
    "    np.where(test_peaks>=start_sec)[0],\n",
    "    np.where(test_peaks<end_sec)[0])\n",
    "]\n",
    "selected_onsets = full_onsets[np.intersect1d(\n",
    "    np.where(full_onsets>=start_sec)[0],\n",
    "    np.where(full_onsets<end_sec)[0])\n",
    "]\n",
    "print(selected_peaks)\n",
    "plt.scatter(selected_peaks, np.zeros_like(selected_peaks), marker='x', color='blue')\n",
    "plt.scatter(selected_onsets, np.zeros_like(selected_onsets), marker='x', color='green')"
   ]
  },
  {
   "cell_type": "code",
   "execution_count": 126,
   "id": "10d8b049",
   "metadata": {},
   "outputs": [
    {
     "name": "stdout",
     "output_type": "stream",
     "text": [
      "Precision: 61.0 %\n",
      "Recall: 76.2 %\n",
      "F-score: 67.8 %\n"
     ]
    }
   ],
   "source": [
    "from analyze_detection import evaluate\n",
    "\n",
    "true = full_onsets\n",
    "pred = test_peaks\n",
    "\n",
    "TOL = 0.03\n",
    "[CD,FN,FP,doubles,merged] = evaluate(true, pred, tol_sec=TOL)\n",
    "print(\"Precision: {:.1f} %\".format( 100*CD/(CD+FP)))\n",
    "print(\"Recall: {:.1f} %\".format( 100*CD/(CD+FN)))\n",
    "print(\"F-score: {:.1f} %\".format( 200*CD/(2*CD+FP+FN)))"
   ]
  },
  {
   "cell_type": "code",
   "execution_count": 82,
   "id": "238a057a",
   "metadata": {},
   "outputs": [
    {
     "name": "stdout",
     "output_type": "stream",
     "text": [
      "Cannot plot selected region, choose other start/dur values\n"
     ]
    },
    {
     "data": {
      "text/plain": [
       "<Figure size 1800x360 with 0 Axes>"
      ]
     },
     "metadata": {},
     "output_type": "display_data"
    }
   ],
   "source": [
    "start_sec = 30\n",
    "dur_sec = 5\n",
    "\n",
    "selected_audio = full_audio[start_sec*SR:(start_sec+dur_sec)*SR]\n",
    "selected_onsets = full_onsets[np.intersect1d(\n",
    "        np.where(full_onsets>=start_sec)[0], \n",
    "        np.where(full_onsets<start_sec+dur_sec)[0]\n",
    ")]\n",
    "selected_onehot = full_onset_vectors[int(start_sec/F_RATE):int((start_sec+dur_sec)/F_RATE)]\n",
    "fig = plt.figure(figsize=(25,5))\n",
    "if start_sec + dur_sec < len(full_audio)/SR:\n",
    "    \n",
    "    \n",
    "    plt.plot(\n",
    "        np.linspace(start_sec, start_sec+dur_sec, dur_sec*SR),\n",
    "        selected_audio, \n",
    "        color=\"lightgray\"\n",
    "    )\n",
    "    for i, onset in enumerate(selected_onehot):\n",
    "        if onset==1:\n",
    "            plt.scatter(start_sec + i*F_RATE/dur_sec, 0, color='green')\n",
    "    plt.xlabel(\"Seconds\")\n",
    "    plt.show()\n",
    "\n",
    "else:\n",
    "    print(\"Cannot plot selected region, choose other start/dur values\")"
   ]
  },
  {
   "cell_type": "code",
   "execution_count": 138,
   "id": "245acaf2",
   "metadata": {},
   "outputs": [
    {
     "name": "stdout",
     "output_type": "stream",
     "text": [
      "2\n",
      "2\n",
      "1\n",
      "0\n",
      "1\n",
      "4\n",
      "0\n",
      "2\n",
      "3\n",
      "3\n",
      "0\n",
      "4\n",
      "4\n",
      "2\n",
      "1\n",
      "0\n",
      "1\n",
      "3\n",
      "3\n"
     ]
    }
   ],
   "source": [
    "for f in index_to_fold.values():\n",
    "    print(f)"
   ]
  },
  {
   "cell_type": "code",
   "execution_count": 22,
   "id": "f2f78602",
   "metadata": {},
   "outputs": [
    {
     "name": "stdout",
     "output_type": "stream",
     "text": [
      "Precision: 58.2 %\n",
      "Recall: 61.5 %\n"
     ]
    }
   ],
   "source": []
  },
  {
   "cell_type": "code",
   "execution_count": null,
   "id": "22736e04",
   "metadata": {},
   "outputs": [],
   "source": [
    "#f = open(\"datasets/initslurtest_vn/model-output/bockmodel-220315-slurtest{:02d}.txt\".format(test_index), \"w\")\n",
    "#for i in range(len(peaks)):\n",
    "#    f.write(str(np.round((peaks[i]+7)*440/44100, decimals=2))+ \"\\n\")\n",
    "#f.close()"
   ]
  },
  {
   "cell_type": "code",
   "execution_count": null,
   "id": "82bf4341",
   "metadata": {},
   "outputs": [],
   "source": []
  }
 ],
 "metadata": {
  "kernelspec": {
   "display_name": "flow",
   "language": "python",
   "name": "flow"
  },
  "language_info": {
   "codemirror_mode": {
    "name": "ipython",
    "version": 3
   },
   "file_extension": ".py",
   "mimetype": "text/x-python",
   "name": "python",
   "nbconvert_exporter": "python",
   "pygments_lexer": "ipython3",
   "version": "3.8.10"
  }
 },
 "nbformat": 4,
 "nbformat_minor": 5
}
