{
 "cells": [
  {
   "cell_type": "code",
   "execution_count": 63,
   "metadata": {},
   "outputs": [],
   "source": [
    "import numpy as np\n",
    "import madmom\n",
    "import pickle\n",
    "from madmom.ml.nn import NeuralNetwork\n",
    "from copy import deepcopy"
   ]
  },
  {
   "cell_type": "code",
   "execution_count": 88,
   "metadata": {},
   "outputs": [],
   "source": [
    "with open('datasets/madmom_models-master/onsets/2013/onsets_cnn.pkl', 'rb') as f:\n",
    "    u = pickle._Unpickler(f)\n",
    "    u.encoding = 'latin1'\n",
    "    base_model = u.load()"
   ]
  },
  {
   "cell_type": "code",
   "execution_count": 92,
   "metadata": {},
   "outputs": [
    {
     "name": "stdout",
     "output_type": "stream",
     "text": [
      "(10,)\n",
      "(3, 10, 7, 3)\n",
      "<function linear at 0x7fb6f74108b0>\n",
      "valid\n"
     ]
    }
   ],
   "source": [
    "'''\n",
    " 'bias',\n",
    " 'pad',\n",
    " 'reset',\n",
    " 'stride',\n",
    " 'weights']\n",
    "'''\n",
    "lay = base_model.layers[1]\n",
    "\n",
    "linear_fn = base_model.layers[0].activation_fn\n",
    "\n",
    "print(lay.bias.shape)\n",
    "print(lay.weights.shape)\n",
    "print(lay.activation_fn)\n",
    "print(lay.pad)"
   ]
  },
  {
   "cell_type": "code",
   "execution_count": 90,
   "metadata": {},
   "outputs": [],
   "source": [
    "#lay.bias = np.zeros((1))\n",
    "#lay.weights = np.array([[1,-5],[-5,2]]).reshape((1,1,2,2))\n",
    "lay.activation_fn = linear_fn"
   ]
  },
  {
   "cell_type": "code",
   "execution_count": 91,
   "metadata": {},
   "outputs": [],
   "source": [
    "\n",
    "base_model.layers = [base_model.layers[0], lay]\n",
    "with open('models/toy_model.pickle', 'wb') as file_pi:\n",
    "    pickle.dump(base_model, file_pi)"
   ]
  },
  {
   "cell_type": "code",
   "execution_count": 80,
   "metadata": {},
   "outputs": [],
   "source": [
    "nn = NeuralNetwork.load('models/toy_model.pickle')\n"
   ]
  },
  {
   "cell_type": "code",
   "execution_count": 81,
   "metadata": {},
   "outputs": [],
   "source": [
    "act = nn(np.eye(3))"
   ]
  },
  {
   "cell_type": "code",
   "execution_count": 82,
   "metadata": {},
   "outputs": [
    {
     "name": "stdout",
     "output_type": "stream",
     "text": [
      "[[[ 3.]\n",
      "  [-5.]]\n",
      "\n",
      " [[-5.]\n",
      "  [ 3.]]]\n"
     ]
    }
   ],
   "source": [
    "print(act)"
   ]
  },
  {
   "cell_type": "code",
   "execution_count": null,
   "metadata": {},
   "outputs": [],
   "source": []
  }
 ],
 "metadata": {
  "interpreter": {
   "hash": "aee8b7b246df8f9039afb4144a1f6fd8d2ca17a180786b69acc140d282b71a49"
  },
  "kernelspec": {
   "display_name": "Python 3.9.10 64-bit",
   "language": "python",
   "name": "python3"
  },
  "language_info": {
   "codemirror_mode": {
    "name": "ipython",
    "version": 3
   },
   "file_extension": ".py",
   "mimetype": "text/x-python",
   "name": "python",
   "nbconvert_exporter": "python",
   "pygments_lexer": "ipython3",
   "version": "3.8.8"
  },
  "orig_nbformat": 4
 },
 "nbformat": 4,
 "nbformat_minor": 2
}
