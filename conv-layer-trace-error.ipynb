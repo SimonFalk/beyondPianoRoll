{
 "cells": [
  {
   "cell_type": "code",
   "execution_count": 6,
   "metadata": {},
   "outputs": [],
   "source": [
    "import numpy as np\n",
    "import madmom\n",
    "import pickle\n",
    "from madmom.ml.nn import NeuralNetwork\n",
    "from copy import deepcopy"
   ]
  },
  {
   "cell_type": "code",
   "execution_count": 17,
   "metadata": {},
   "outputs": [],
   "source": [
    "def _cnn_onset_processor_pad(data):\n",
    "    \"\"\"Pad the data by repeating the first and last frame 7 times.\"\"\"\n",
    "    pad_start = np.repeat(data[:1], 7, axis=0)\n",
    "    pad_stop = np.repeat(data[-1:], 7, axis=0)\n",
    "    return np.concatenate((pad_start, data, pad_stop))"
   ]
  },
  {
   "cell_type": "code",
   "execution_count": 7,
   "metadata": {},
   "outputs": [],
   "source": [
    "with open('datasets/madmom_models-master/onsets/2013/onsets_cnn.pkl', 'rb') as f:\n",
    "    u = pickle._Unpickler(f)\n",
    "    u.encoding = 'latin1'\n",
    "    base_model = u.load()"
   ]
  },
  {
   "cell_type": "code",
   "execution_count": 8,
   "metadata": {},
   "outputs": [
    {
     "name": "stdout",
     "output_type": "stream",
     "text": [
      "(10,)\n",
      "(3, 10, 7, 3)\n",
      "<function tanh at 0x7fd2dcd508b0>\n",
      "valid\n"
     ]
    }
   ],
   "source": [
    "'''\n",
    " 'bias',\n",
    " 'pad',\n",
    " 'reset',\n",
    " 'stride',\n",
    " 'weights']\n",
    "'''\n",
    "lay = base_model.layers[1]\n",
    "\n",
    "linear_fn = base_model.layers[0].activation_fn\n",
    "\n",
    "print(lay.bias.shape)\n",
    "print(lay.weights.shape)\n",
    "print(lay.activation_fn)\n",
    "print(lay.pad)"
   ]
  },
  {
   "cell_type": "code",
   "execution_count": 9,
   "metadata": {},
   "outputs": [],
   "source": [
    "lay.bias = np.zeros_like(lay.bias)\n",
    "lay.weights = np.ones_like(lay.weights)/np.size(lay.weights)\n",
    "lay.activation_fn = linear_fn"
   ]
  },
  {
   "cell_type": "code",
   "execution_count": 10,
   "metadata": {},
   "outputs": [],
   "source": [
    "\n",
    "base_model.layers = [lay]\n",
    "with open('models/toy_model.pickle', 'wb') as file_pi:\n",
    "    pickle.dump(base_model, file_pi)"
   ]
  },
  {
   "cell_type": "code",
   "execution_count": 11,
   "metadata": {},
   "outputs": [],
   "source": [
    "nn = NeuralNetwork.load('models/toy_model.pickle')\n"
   ]
  },
  {
   "cell_type": "code",
   "execution_count": 18,
   "metadata": {},
   "outputs": [
    {
     "data": {
      "text/plain": [
       "(-1.1668240167396324, 0.9492300645795243)"
      ]
     },
     "execution_count": 18,
     "metadata": {},
     "output_type": "execute_result"
    }
   ],
   "source": [
    "mm_proc_frames = np.load(\"results/processor_test/prep.npy\")\n",
    "mm_proc_frames = _cnn_onset_processor_pad(mm_proc_frames)\n",
    "inv_std = np.load(\"models/bock2013pret_inv_std.npy\")\n",
    "mean = np.load(\"models/bock2013pret_mean.npy\")\n",
    "mm_frames_normalized = (mm_proc_frames - np.reshape(mean, (1,80,3)))*np.reshape(inv_std, (1,80,3))\n",
    "mm_frames_normalized.min(), mm_frames_normalized.max()"
   ]
  },
  {
   "cell_type": "code",
   "execution_count": 19,
   "metadata": {},
   "outputs": [],
   "source": [
    "act = nn(mm_frames_normalized)"
   ]
  },
  {
   "cell_type": "code",
   "execution_count": 20,
   "metadata": {},
   "outputs": [
    {
     "name": "stdout",
     "output_type": "stream",
     "text": [
      "0.05692679\n"
     ]
    }
   ],
   "source": [
    "print(act.mean())"
   ]
  },
  {
   "cell_type": "code",
   "execution_count": null,
   "metadata": {},
   "outputs": [],
   "source": []
  }
 ],
 "metadata": {
  "interpreter": {
   "hash": "aee8b7b246df8f9039afb4144a1f6fd8d2ca17a180786b69acc140d282b71a49"
  },
  "kernelspec": {
   "display_name": "Python 3.9.10 64-bit",
   "language": "python",
   "name": "python3"
  },
  "language_info": {
   "codemirror_mode": {
    "name": "ipython",
    "version": 3
   },
   "file_extension": ".py",
   "mimetype": "text/x-python",
   "name": "python",
   "nbconvert_exporter": "python",
   "pygments_lexer": "ipython3",
   "version": "3.8.8"
  },
  "orig_nbformat": 4
 },
 "nbformat": 4,
 "nbformat_minor": 2
}
