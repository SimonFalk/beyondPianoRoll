{
 "cells": [
  {
   "cell_type": "code",
   "execution_count": 35,
   "metadata": {},
   "outputs": [
    {
     "name": "stdout",
     "output_type": "stream",
     "text": [
      "The autoreload extension is already loaded. To reload it, use:\n",
      "  %reload_ext autoreload\n"
     ]
    }
   ],
   "source": [
    "import numpy as np\n",
    "import madmom\n",
    "import pickle\n",
    "from madmom.ml.nn import NeuralNetwork\n",
    "from copy import deepcopy\n",
    "from modules.madmom_cnn_prep import cnn_preprocessor\n",
    "\n",
    "%load_ext autoreload\n",
    "%autoreload 2"
   ]
  },
  {
   "cell_type": "code",
   "execution_count": 2,
   "metadata": {},
   "outputs": [],
   "source": [
    "def _cnn_onset_processor_pad(data):\n",
    "    \"\"\"Pad the data by repeating the first and last frame 7 times.\"\"\"\n",
    "    pad_start = np.repeat(data[:1], 7, axis=0)\n",
    "    pad_stop = np.repeat(data[-1:], 7, axis=0)\n",
    "    return np.concatenate((pad_start, data, pad_stop))"
   ]
  },
  {
   "cell_type": "code",
   "execution_count": 3,
   "metadata": {},
   "outputs": [],
   "source": [
    "with open('datasets/madmom_models-master/onsets/2013/onsets_cnn.pkl', 'rb') as f:\n",
    "    u = pickle._Unpickler(f)\n",
    "    u.encoding = 'latin1'\n",
    "    base_model = u.load()"
   ]
  },
  {
   "cell_type": "code",
   "execution_count": 4,
   "metadata": {},
   "outputs": [
    {
     "name": "stdout",
     "output_type": "stream",
     "text": [
      "(10,)\n",
      "(3, 10, 7, 3)\n",
      "<function tanh at 0x11b835c10>\n",
      "valid\n"
     ]
    }
   ],
   "source": [
    "'''\n",
    " 'bias',\n",
    " 'pad',\n",
    " 'reset',\n",
    " 'stride',\n",
    " 'weights']\n",
    "'''\n",
    "lay = base_model.layers[1]\n",
    "\n",
    "linear_fn = base_model.layers[0].activation_fn\n",
    "\n",
    "print(lay.bias.shape)\n",
    "print(lay.weights.shape)\n",
    "print(lay.activation_fn)\n",
    "print(lay.pad)"
   ]
  },
  {
   "cell_type": "code",
   "execution_count": 5,
   "metadata": {},
   "outputs": [],
   "source": [
    "lay.bias = np.zeros_like(lay.bias)\n",
    "lay.weights = np.ones_like(lay.weights)/np.size(lay.weights)\n",
    "lay.activation_fn = linear_fn"
   ]
  },
  {
   "cell_type": "code",
   "execution_count": 6,
   "metadata": {},
   "outputs": [],
   "source": [
    "\n",
    "base_model.layers = [lay]\n",
    "with open('models/toy_model.pickle', 'wb') as file_pi:\n",
    "    pickle.dump(base_model, file_pi)"
   ]
  },
  {
   "cell_type": "code",
   "execution_count": 7,
   "metadata": {},
   "outputs": [],
   "source": [
    "nn = NeuralNetwork.load('models/toy_model.pickle')\n"
   ]
  },
  {
   "cell_type": "code",
   "execution_count": 25,
   "metadata": {},
   "outputs": [
    {
     "ename": "ImportError",
     "evalue": "cannot import name 'cnn_normalize' from 'modules.madmom_cnn_prep' (/Users/simonfal/kth-master/exjobb/beyondPianoRoll/modules/madmom_cnn_prep.py)",
     "output_type": "error",
     "traceback": [
      "\u001b[0;31m---------------------------------------------------------------------------\u001b[0m",
      "\u001b[0;31mImportError\u001b[0m                               Traceback (most recent call last)",
      "\u001b[1;32m/Users/simonfal/kth-master/exjobb/beyondPianoRoll/conv-layer-trace-error.ipynb Cell 8'\u001b[0m in \u001b[0;36m<cell line: 1>\u001b[0;34m()\u001b[0m\n\u001b[0;32m----> <a href='vscode-notebook-cell:/Users/simonfal/kth-master/exjobb/beyondPianoRoll/conv-layer-trace-error.ipynb#ch0000011?line=0'>1</a>\u001b[0m \u001b[39mfrom\u001b[39;00m \u001b[39mmodules\u001b[39;00m\u001b[39m.\u001b[39;00m\u001b[39mmadmom_cnn_prep\u001b[39;00m \u001b[39mimport\u001b[39;00m cnn_preprocessor, cnn_normalize\n\u001b[1;32m      <a href='vscode-notebook-cell:/Users/simonfal/kth-master/exjobb/beyondPianoRoll/conv-layer-trace-error.ipynb#ch0000011?line=1'>2</a>\u001b[0m preprocessor \u001b[39m=\u001b[39m cnn_preprocessor()\n\u001b[1;32m      <a href='vscode-notebook-cell:/Users/simonfal/kth-master/exjobb/beyondPianoRoll/conv-layer-trace-error.ipynb#ch0000011?line=2'>3</a>\u001b[0m frames \u001b[39m=\u001b[39m preprocessor(\u001b[39m\"\u001b[39m\u001b[39mdatasets/OnsetLabeledInstr2013/development/Violin/42954_FreqMan_hoochie_violin_pt1.wav\u001b[39m\u001b[39m\"\u001b[39m)\n",
      "\u001b[0;31mImportError\u001b[0m: cannot import name 'cnn_normalize' from 'modules.madmom_cnn_prep' (/Users/simonfal/kth-master/exjobb/beyondPianoRoll/modules/madmom_cnn_prep.py)"
     ]
    }
   ],
   "source": [
    "\n",
    "preprocessor = cnn_preprocessor()\n",
    "frames = preprocessor(\"datasets/OnsetLabeledInstr2013/development/Violin/42954_FreqMan_hoochie_violin_pt1.wav\")\n",
    "frames.sum()\n"
   ]
  },
  {
   "cell_type": "code",
   "execution_count": 21,
   "metadata": {},
   "outputs": [
    {
     "name": "stdout",
     "output_type": "stream",
     "text": [
      "-394389.75\n"
     ]
    },
    {
     "data": {
      "text/plain": [
       "60564.552902900556"
      ]
     },
     "execution_count": 21,
     "metadata": {},
     "output_type": "execute_result"
    }
   ],
   "source": [
    "mm_proc_frames = np.load(\"results/processor_test/prep_alt.npy\")\n",
    "print(mm_proc_frames.sum())\n",
    "inv_std = np.load(\"models/bock2013pret_inv_std.npy\")\n",
    "mean = np.load(\"models/bock2013pret_mean.npy\")\n",
    "mm_frames_normalized = (mm_proc_frames - np.reshape(mean, (1,80,3)))*np.reshape(inv_std, (1,80,3))\n",
    "mm_frames_normalized.sum()"
   ]
  },
  {
   "cell_type": "code",
   "execution_count": 19,
   "metadata": {},
   "outputs": [],
   "source": [
    "act = nn(mm_frames_normalized)"
   ]
  },
  {
   "cell_type": "code",
   "execution_count": 20,
   "metadata": {},
   "outputs": [
    {
     "name": "stdout",
     "output_type": "stream",
     "text": [
      "0.05692679\n"
     ]
    }
   ],
   "source": [
    "print(act.mean())"
   ]
  },
  {
   "cell_type": "code",
   "execution_count": null,
   "metadata": {},
   "outputs": [],
   "source": []
  }
 ],
 "metadata": {
  "interpreter": {
   "hash": "aee8b7b246df8f9039afb4144a1f6fd8d2ca17a180786b69acc140d282b71a49"
  },
  "kernelspec": {
   "display_name": "Python 3.9.10 64-bit",
   "language": "python",
   "name": "python3"
  },
  "language_info": {
   "codemirror_mode": {
    "name": "ipython",
    "version": 3
   },
   "file_extension": ".py",
   "mimetype": "text/x-python",
   "name": "python",
   "nbconvert_exporter": "python",
   "pygments_lexer": "ipython3",
   "version": "3.9.10"
  },
  "orig_nbformat": 4
 },
 "nbformat": 4,
 "nbformat_minor": 2
}
