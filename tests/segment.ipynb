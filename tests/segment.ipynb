{
 "cells": [
  {
   "cell_type": "code",
   "execution_count": null,
   "id": "abbe080a",
   "metadata": {},
   "outputs": [],
   "source": [
    "import tensorflow as tf\n",
    "import tensorflow_io as tfio\n",
    "import matplotlib.pyplot as plt\n",
    "import numpy as np\n",
    "from numpy import genfromtxt\n",
    "import pickle"
   ]
  },
  {
   "cell_type": "code",
   "execution_count": null,
   "id": "cc8cfaeb",
   "metadata": {},
   "outputs": [],
   "source": [
    "MELS = 80"
   ]
  },
  {
   "cell_type": "code",
   "execution_count": null,
   "id": "ac66b4e7",
   "metadata": {},
   "outputs": [],
   "source": [
    "def segment_spectrogram(spect, n_margin):\n",
    "    data = []\n",
    "    n_samples = spect.shape[0]\n",
    "    print(n_samples)\n",
    "    for i in range(n_margin, n_samples - n_margin - 1):\n",
    "        data.append(spect[i-n_margin:i+n_margin+1,:])\n",
    "\n",
    "    data = np.stack(data)\n",
    "    return data\n",
    "\n",
    "N_MARGIN = 7\n",
    "x_dim = N_MARGIN*2+1\n",
    "y_dim = MELS\n",
    "data = []\n",
    "for spect in spects:\n",
    "    data.append(segment_spectrogram(spect, N_MARGIN))\n",
    "data = np.stack(data, axis=-1)\n",
    "n_samples = data.shape[0]\n",
    "print(\"Samples: \", n_samples)\n",
    "ds = tf.data.Dataset.from_tensor_slices((\n",
    "    data, \n",
    "    labels[N_MARGIN:-N_MARGIN-1])\n",
    ")\n",
    "n_channels = len(spects)\n",
    "print(\"Channels: \", n_channels)"
   ]
  }
 ],
 "metadata": {
  "kernelspec": {
   "display_name": "Python 3 (ipykernel)",
   "language": "python",
   "name": "python3"
  },
  "language_info": {
   "codemirror_mode": {
    "name": "ipython",
    "version": 3
   },
   "file_extension": ".py",
   "mimetype": "text/x-python",
   "name": "python",
   "nbconvert_exporter": "python",
   "pygments_lexer": "ipython3",
   "version": "3.9.7"
  }
 },
 "nbformat": 4,
 "nbformat_minor": 5
}
