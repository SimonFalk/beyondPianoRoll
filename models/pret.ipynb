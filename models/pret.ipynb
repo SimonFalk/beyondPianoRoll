{
 "cells": [
  {
   "cell_type": "code",
   "execution_count": 42,
   "metadata": {},
   "outputs": [],
   "source": [
    "import madmom\n",
    "import pickle\n",
    "import numpy as np\n",
    "import tensorflow as tf"
   ]
  },
  {
   "cell_type": "code",
   "execution_count": 32,
   "metadata": {},
   "outputs": [],
   "source": [
    "# Workaround for opening Python2 pickle object\n",
    "with open('datasets/madmom_models-master/onsets/2013/onsets_cnn.pkl', 'rb') as f:\n",
    "    u = pickle._Unpickler(f)\n",
    "    u.encoding = 'latin1'\n",
    "    p = u.load()\n",
    "\n"
   ]
  },
  {
   "cell_type": "code",
   "execution_count": 41,
   "metadata": {},
   "outputs": [
    {
     "name": "stdout",
     "output_type": "stream",
     "text": [
      "['__call__', '__class__', '__delattr__', '__dict__', '__dir__', '__doc__', '__eq__', '__format__', '__ge__', '__getattribute__', '__gt__', '__hash__', '__init__', '__init_subclass__', '__le__', '__lt__', '__module__', '__ne__', '__new__', '__reduce__', '__reduce_ex__', '__repr__', '__setattr__', '__sizeof__', '__str__', '__subclasshook__', '__weakref__', 'activate', 'activation_fn', 'beta', 'gamma', 'inv_std', 'mean', 'reset']\n",
      "Activation_fn:  <function linear at 0x11cee9a60>\n",
      "Beta:  0\n",
      "Gamma:  1\n",
      "Inv std:  (80, 3)\n",
      "Mean:  (80, 3)\n"
     ]
    }
   ],
   "source": [
    "# Batch Normalization layer\n",
    "lay = p.layers[0]\n",
    "print(dir(lay))\n",
    "print(\"Activation_fn: \", lay.activation_fn)\n",
    "print(\"Beta: \", lay.beta)\n",
    "print(\"Gamma: \", lay.gamma)\n",
    "print(\"Inv std: \", lay.inv_std.shape)\n",
    "print(\"Mean: \", lay.mean.shape)"
   ]
  },
  {
   "cell_type": "code",
   "execution_count": 65,
   "metadata": {},
   "outputs": [
    {
     "name": "stdout",
     "output_type": "stream",
     "text": [
      "Act fn:  <function tanh at 0x11cee9b80>\n",
      "Weights:  (3, 10, 7, 3)\n",
      "Bias:  (10,)\n",
      "Pad:  valid\n",
      "stride:  1\n",
      "(7, 3, 3, 10)\n"
     ]
    }
   ],
   "source": [
    "# Convolutional layer\n",
    "lay = p.layers[1]\n",
    "print(\"Act fn: \", lay.activation_fn)\n",
    "print(\"Weights: \", lay.weights.shape)\n",
    "print(\"Bias: \", lay.bias.shape)\n",
    "print(\"Pad: \", lay.pad)\n",
    "print(\"stride: \",lay.stride)\n",
    "\n",
    "print(np.transpose(lay.weights, axes=[2,3,0,1]).shape)"
   ]
  },
  {
   "cell_type": "code",
   "execution_count": 75,
   "metadata": {},
   "outputs": [
    {
     "name": "stdout",
     "output_type": "stream",
     "text": [
      "Act fn:  <function tanh at 0x11cee9b80>\n",
      "Weights:  (10, 20, 3, 3)\n",
      "Bias:  (20,)\n",
      "Pad:  valid\n",
      "stride:  1\n",
      "(3, 3, 10, 20)\n"
     ]
    }
   ],
   "source": [
    "lay = p.layers[3]\n",
    "print(\"Act fn: \", lay.activation_fn)\n",
    "print(\"Weights: \", lay.weights.shape)\n",
    "print(\"Bias: \", lay.bias.shape)\n",
    "print(\"Pad: \", lay.pad)\n",
    "print(\"stride: \",lay.stride)\n",
    "\n",
    "print(np.transpose(lay.weights, axes=[2,3,0,1]).shape)\n"
   ]
  },
  {
   "cell_type": "code",
   "execution_count": 84,
   "metadata": {},
   "outputs": [
    {
     "data": {
      "text/plain": [
       "(array([1, 3]), array([1, 3]), array([1, 3]), array([1, 3]))"
      ]
     },
     "execution_count": 84,
     "metadata": {},
     "output_type": "execute_result"
    }
   ],
   "source": [
    "#Pooling layers\n",
    "p.layers[2].stride, p.layers[2].size, p.layers[4].stride, p.layers[4].size"
   ]
  },
  {
   "cell_type": "code",
   "execution_count": 104,
   "metadata": {},
   "outputs": [
    {
     "name": "stdout",
     "output_type": "stream",
     "text": [
      "Act fn:  <function sigmoid at 0x11cee9c10>\n",
      "Weights:  (1120, 256)\n",
      "Bias:  (256,)\n"
     ]
    }
   ],
   "source": [
    "lay = p.layers[6]\n",
    "print(\"Act fn: \", lay.activation_fn)\n",
    "print(\"Weights: \", lay.weights.shape)\n",
    "print(\"Bias: \", lay.bias.shape)\n"
   ]
  },
  {
   "cell_type": "code",
   "execution_count": 101,
   "metadata": {},
   "outputs": [
    {
     "data": {
      "text/plain": [
       "1120"
      ]
     },
     "execution_count": 101,
     "metadata": {},
     "output_type": "execute_result"
    }
   ],
   "source": []
  },
  {
   "cell_type": "code",
   "execution_count": 108,
   "metadata": {},
   "outputs": [],
   "source": [
    "model = tf.keras.Sequential([\n",
    "    tf.keras.layers.Input(shape=(80, 15, 3)),\n",
    "    tf.keras.layers.Permute((2,1,3)),\n",
    "    tf.keras.layers.Conv2D(\n",
    "        activation = 'tanh',\n",
    "        filters = 10,\n",
    "        kernel_size = (7,3),\n",
    "        strides = 1\n",
    "    ),\n",
    "    tf.keras.layers.MaxPooling2D(\n",
    "         pool_size=(1, 3), \n",
    "            strides=(1,3)\n",
    "    ),\n",
    "    tf.keras.layers.Conv2D(\n",
    "        activation = 'tanh',\n",
    "        filters = 20,\n",
    "        kernel_size = (3,3),\n",
    "        strides = 1\n",
    "    ),  \n",
    "    tf.keras.layers.MaxPooling2D(\n",
    "         pool_size=(1, 3), \n",
    "            strides=(1,3)\n",
    "    ),\n",
    "    tf.keras.layers.Flatten(),\n",
    "    tf.keras.layers.Dense(256, activation = 'sigmoid'),\n",
    "    tf.keras.layers.Dense(1, activation = 'sigmoid', \n",
    "     )\n",
    "])"
   ]
  },
  {
   "cell_type": "code",
   "execution_count": null,
   "metadata": {},
   "outputs": [],
   "source": []
  },
  {
   "cell_type": "code",
   "execution_count": 110,
   "metadata": {},
   "outputs": [],
   "source": [
    "model.layers[1].set_weights([\n",
    "    np.transpose(p.layers[1].weights, [2,3,0,1]), \n",
    "    p.layers[1].bias\n",
    "])\n",
    "\n",
    "model.layers[3].set_weights([\n",
    "    np.transpose(p.layers[3].weights, [2,3,0,1]), \n",
    "    p.layers[3].bias\n",
    "])\n",
    "\n",
    "model.layers[6].set_weights([\n",
    "    p.layers[6].weights, \n",
    "    p.layers[6].bias\n",
    "])\n",
    "\n",
    "model.layers[7].set_weights([\n",
    "    p.layers[7].weights, \n",
    "    p.layers[7].bias\n",
    "])"
   ]
  },
  {
   "cell_type": "code",
   "execution_count": 107,
   "metadata": {},
   "outputs": [
    {
     "data": {
      "text/plain": [
       "[<tf.Variable 'dense_10/kernel:0' shape=(1120, 64) dtype=float32, numpy=\n",
       " array([[ 0.01096088, -0.06231456,  0.05448451, ...,  0.05413527,\n",
       "          0.04888607, -0.03124151],\n",
       "        [ 0.06031195,  0.04046613, -0.02071594, ...,  0.02188477,\n",
       "          0.05278087,  0.03738573],\n",
       "        [-0.00490151,  0.02751981, -0.05178542, ..., -0.05709495,\n",
       "         -0.05234237, -0.05252508],\n",
       "        ...,\n",
       "        [ 0.04643755, -0.03966928,  0.05653187, ..., -0.00513978,\n",
       "         -0.06503255, -0.06670948],\n",
       "        [ 0.06526931,  0.05491904,  0.0332076 , ..., -0.04825261,\n",
       "          0.0553588 , -0.03803964],\n",
       "        [-0.02238995,  0.00387419, -0.0350247 , ..., -0.02247724,\n",
       "         -0.04711654,  0.06887134]], dtype=float32)>,\n",
       " <tf.Variable 'dense_10/bias:0' shape=(64,) dtype=float32, numpy=\n",
       " array([0., 0., 0., 0., 0., 0., 0., 0., 0., 0., 0., 0., 0., 0., 0., 0., 0.,\n",
       "        0., 0., 0., 0., 0., 0., 0., 0., 0., 0., 0., 0., 0., 0., 0., 0., 0.,\n",
       "        0., 0., 0., 0., 0., 0., 0., 0., 0., 0., 0., 0., 0., 0., 0., 0., 0.,\n",
       "        0., 0., 0., 0., 0., 0., 0., 0., 0., 0., 0., 0., 0.], dtype=float32)>]"
      ]
     },
     "execution_count": 107,
     "metadata": {},
     "output_type": "execute_result"
    }
   ],
   "source": []
  },
  {
   "cell_type": "code",
   "execution_count": null,
   "metadata": {},
   "outputs": [],
   "source": []
  }
 ],
 "metadata": {
  "interpreter": {
   "hash": "9c0cb9023902fdc3303bf6557d5793815390de749cede4991ec670f1ecb58a25"
  },
  "kernelspec": {
   "display_name": "Python 3.8.8 ('base')",
   "language": "python",
   "name": "python3"
  },
  "language_info": {
   "codemirror_mode": {
    "name": "ipython",
    "version": 3
   },
   "file_extension": ".py",
   "mimetype": "text/x-python",
   "name": "python",
   "nbconvert_exporter": "python",
   "pygments_lexer": "ipython3",
   "version": "3.9.10"
  },
  "orig_nbformat": 4
 },
 "nbformat": 4,
 "nbformat_minor": 2
}
