{
 "cells": [
  {
   "cell_type": "code",
   "execution_count": 16,
   "metadata": {},
   "outputs": [
    {
     "name": "stdout",
     "output_type": "stream",
     "text": [
      "The autoreload extension is already loaded. To reload it, use:\n",
      "  %reload_ext autoreload\n"
     ]
    },
    {
     "name": "stderr",
     "output_type": "stream",
     "text": [
      "[autoreload of datasets failed: Traceback (most recent call last):\n",
      "  File \"/usr/local/lib/python3.9/site-packages/IPython/extensions/autoreload.py\", line 257, in check\n",
      "    superreload(m, reload, self.old_objects)\n",
      "  File \"/usr/local/lib/python3.9/site-packages/IPython/extensions/autoreload.py\", line 455, in superreload\n",
      "    module = reload(module)\n",
      "  File \"/usr/local/Cellar/python@3.9/3.9.10/Frameworks/Python.framework/Versions/3.9/lib/python3.9/importlib/__init__.py\", line 169, in reload\n",
      "    _bootstrap._exec(spec, module)\n",
      "  File \"<frozen importlib._bootstrap>\", line 613, in _exec\n",
      "  File \"<frozen importlib._bootstrap_external>\", line 846, in exec_module\n",
      "  File \"<frozen importlib._bootstrap_external>\", line 983, in get_code\n",
      "  File \"<frozen importlib._bootstrap_external>\", line 913, in source_to_code\n",
      "  File \"<frozen importlib._bootstrap>\", line 228, in _call_with_frames_removed\n",
      "  File \"/Users/simonfal/kth-master/exjobb/beyondPianoRoll/datasets/__init__.py\", line 63\n",
      "    class Dataset:\n",
      "    ^\n",
      "SyntaxError: invalid syntax\n",
      "]\n"
     ]
    }
   ],
   "source": [
    "import os\n",
    "import pickle\n",
    "import numpy as np\n",
    "import tensorflow as tf\n",
    "import madmom\n",
    "import mir_eval\n",
    "from sklearn.model_selection import KFold\n",
    "\n",
    "from modules.labels import get_label_vector\n",
    "from modules.madmom_cnn_prep import cnn_preprocessor\n",
    "from datasets import Dataset\n",
    "from modules.analysis_funcs import get_idx_to_fold, get_segmented_data, get_test_peaks\n",
    "from analyze_detection import evaluate\n",
    "from modules.energy_based import legato_mg, onsets_threshold_gate\n",
    "\n",
    "%load_ext autoreload\n",
    "%autoreload 2\n",
    "\n",
    "FPS = 100\n",
    "CONTEXT = 7\n",
    "\n",
    "# Load Madmom normalization\n",
    "def cnn_normalize(frames):\n",
    "    inv_std = np.load(\"models/bock2013pret_inv_std.npy\")\n",
    "    mean = np.load(\"models/bock2013pret_mean.npy\")\n",
    "    frames_normalized = (frames - np.reshape(mean, (1,80,3)))*np.reshape(inv_std, (1,80,3))\n",
    "    return frames_normalized"
   ]
  },
  {
   "cell_type": "code",
   "execution_count": 17,
   "metadata": {},
   "outputs": [],
   "source": [
    "frame = madmom.audio.signal.FramedSignalProcessor(frame_size=2048, hop_size=441)\n",
    "stft = madmom.audio.stft.STFTProcessor()\n",
    "spect = madmom.audio.spectrogram.SpectrogramProcessor()\n",
    "proc = madmom.processors.SequentialProcessor([frame, stft, spect])"
   ]
  },
  {
   "cell_type": "code",
   "execution_count": 33,
   "metadata": {},
   "outputs": [
    {
     "name": "stderr",
     "output_type": "stream",
     "text": [
      "/usr/local/lib/python3.9/site-packages/madmom/audio/signal.py:457: UserWarning: Deprecated as of version 0.16. Please use madmom.io.audio.load_wave_file instead. Will be removed in version 0.18.\n",
      "  warnings.warn('Deprecated as of version 0.16. Please use madmom.io.audio.'\n",
      "/usr/local/lib/python3.9/site-packages/madmom/io/audio.py:493: WavFileWarning: Chunk (non-data) not understood, skipping it.\n",
      "  file_sample_rate, signal = wavfile.read(filename, mmap=True)\n"
     ]
    }
   ],
   "source": [
    "ds0 = Dataset(\"initslurtest\")\n",
    "ds1 = Dataset(\"slurtest_add_1\")\n",
    "ds2 = Dataset(\"slurtest_add_2\")\n",
    "\n",
    "audio_fnames = ds2.get_audio_paths() #+ ds1.get_audio_paths()\n",
    "#label_fnames = ds1.get_annotation_paths() #+ ds1.get_annotation_paths()\n",
    "\n",
    "audios = [madmom.audio.signal.load_wave_file(filename)[0] for filename in audio_fnames]\n",
    "sample_rates = [madmom.audio.signal.load_wave_file(filename)[1] for filename in audio_fnames]\n",
    "#onset_schedules = [np.loadtxt(label_fname, usecols=0) for label_fname in label_fnames]"
   ]
  },
  {
   "cell_type": "code",
   "execution_count": 35,
   "metadata": {},
   "outputs": [
    {
     "name": "stdout",
     "output_type": "stream",
     "text": [
      "13\n",
      "8.819142526455026 s\n",
      "49.14855158730156\n",
      "1380\n",
      "40.70373473748474\n",
      "0.4011483079710145\n"
     ]
    }
   ],
   "source": [
    "audio_lengths_sec = [len(audio)/sr for audio,sr in zip(audios, sample_rates)]\n",
    "#iois = [np.ediff1d(onsets) for onsets in onset_schedules]\n",
    "#ioi_spreads = [np.std(np.ediff1d(onsets)) for onsets in onset_schedules]\n",
    "#onset_number = [len(onsets) for onsets in onset_schedules]\n",
    "#mean_ioi = np.sum([np.sum(ioi) for ioi in iois])/np.sum(onset_number)\n",
    "print(len(audios))\n",
    "print(np.sum(audio_lengths_sec)/60, \"s\")\n",
    "print(.819142526455026*60)\n",
    "print(np.sum(onset_number))\n",
    "print(np.mean(audio_lengths_sec))\n",
    "print(mean_ioi)"
   ]
  },
  {
   "cell_type": "code",
   "execution_count": 11,
   "metadata": {},
   "outputs": [],
   "source": [
    "random_seed = 119\n",
    "n_splits =  5\n",
    "kf = KFold(n_splits=n_splits, shuffle=True, random_state=True)\n",
    "kf_gen = list(kf.split(np.arange(len(audio_fnames))))"
   ]
  },
  {
   "cell_type": "code",
   "execution_count": 12,
   "metadata": {},
   "outputs": [],
   "source": [
    "base_path = \"results/cnn-training-220409/\"\n",
    "folds_path = base_path + \"folds.pkl\"\n",
    "\n",
    "model_name = \"added-sample-gen-nostandard\"\n",
    "\n",
    "folds = kf_gen\n",
    "#with open(folds_path, \"rb\") as f:\n",
    "    #folds = pickle.load(f)\n",
    "\n",
    "itf = get_idx_to_fold(folds)\n",
    "\n",
    "neural = False\n",
    "TOL = 0.025\n"
   ]
  },
  {
   "cell_type": "code",
   "execution_count": null,
   "metadata": {},
   "outputs": [],
   "source": []
  },
  {
   "cell_type": "code",
   "execution_count": 13,
   "metadata": {},
   "outputs": [
    {
     "ename": "IndexError",
     "evalue": "index 1698 is out of bounds for axis 0 with size 1697",
     "output_type": "error",
     "traceback": [
      "\u001b[0;31m---------------------------------------------------------------------------\u001b[0m",
      "\u001b[0;31mIndexError\u001b[0m                                Traceback (most recent call last)",
      "\u001b[1;32m/Users/simonfal/kth-master/exjobb/beyondPianoRoll/analysis.ipynb Cell 7'\u001b[0m in \u001b[0;36m<cell line: 5>\u001b[0;34m()\u001b[0m\n\u001b[1;32m     <a href='vscode-notebook-cell:/Users/simonfal/kth-master/exjobb/beyondPianoRoll/analysis.ipynb#ch0000004?line=11'>12</a>\u001b[0m     peaks \u001b[39m=\u001b[39m get_test_peaks(out, \u001b[39m1.\u001b[39m\u001b[39m/\u001b[39mFPS)\n\u001b[1;32m     <a href='vscode-notebook-cell:/Users/simonfal/kth-master/exjobb/beyondPianoRoll/analysis.ipynb#ch0000004?line=12'>13</a>\u001b[0m \u001b[39melse\u001b[39;00m:\n\u001b[0;32m---> <a href='vscode-notebook-cell:/Users/simonfal/kth-master/exjobb/beyondPianoRoll/analysis.ipynb#ch0000004?line=13'>14</a>\u001b[0m     leg_on, leg_val \u001b[39m=\u001b[39m legato_mg(audio_fnames[r], rel_delta\u001b[39m=\u001b[39;49m\u001b[39m0.2\u001b[39;49m)\n\u001b[1;32m     <a href='vscode-notebook-cell:/Users/simonfal/kth-master/exjobb/beyondPianoRoll/analysis.ipynb#ch0000004?line=14'>15</a>\u001b[0m     peaks \u001b[39m=\u001b[39m onsets_threshold_gate(leg_on, leg_val, \u001b[39m1.0\u001b[39m)\n\u001b[1;32m     <a href='vscode-notebook-cell:/Users/simonfal/kth-master/exjobb/beyondPianoRoll/analysis.ipynb#ch0000004?line=16'>17</a>\u001b[0m [CD,FN,FP,doubles,merged] \u001b[39m=\u001b[39m evaluate(onset_schedules[r], peaks, tol_sec\u001b[39m=\u001b[39mTOL)\n",
      "File \u001b[0;32m~/kth-master/exjobb/beyondPianoRoll/modules/energy_based.py:47\u001b[0m, in \u001b[0;36mlegato_mg\u001b[0;34m(file, rel_delta, sep)\u001b[0m\n\u001b[1;32m     <a href='file:///Users/simonfal/kth-master/exjobb/beyondPianoRoll/modules/energy_based.py?line=37'>38</a>\u001b[0m     \u001b[39melse\u001b[39;00m:\n\u001b[1;32m     <a href='file:///Users/simonfal/kth-master/exjobb/beyondPianoRoll/modules/energy_based.py?line=38'>39</a>\u001b[0m         sep \u001b[39m=\u001b[39m rel_delta\u001b[39m*\u001b[39mtyp_dist\n\u001b[1;32m     <a href='file:///Users/simonfal/kth-master/exjobb/beyondPianoRoll/modules/energy_based.py?line=40'>41</a>\u001b[0m legato_meas \u001b[39m=\u001b[39m np\u001b[39m.\u001b[39marray([\n\u001b[1;32m     <a href='file:///Users/simonfal/kth-master/exjobb/beyondPianoRoll/modules/energy_based.py?line=41'>42</a>\u001b[0m     e0\u001b[39m/\u001b[39mnp\u001b[39m.\u001b[39mmin((e1,e2))\n\u001b[1;32m     <a href='file:///Users/simonfal/kth-master/exjobb/beyondPianoRoll/modules/energy_based.py?line=42'>43</a>\u001b[0m     \u001b[39mfor\u001b[39;00m (e0, e1, e2) \u001b[39min\u001b[39;00m\n\u001b[1;32m     <a href='file:///Users/simonfal/kth-master/exjobb/beyondPianoRoll/modules/energy_based.py?line=43'>44</a>\u001b[0m     \u001b[39mzip\u001b[39m(\n\u001b[1;32m     <a href='file:///Users/simonfal/kth-master/exjobb/beyondPianoRoll/modules/energy_based.py?line=44'>45</a>\u001b[0m         energy[(onsets\u001b[39m*\u001b[39mFPS)\u001b[39m.\u001b[39mastype(\u001b[39mint\u001b[39m)],\n\u001b[1;32m     <a href='file:///Users/simonfal/kth-master/exjobb/beyondPianoRoll/modules/energy_based.py?line=45'>46</a>\u001b[0m         energy[((onsets \u001b[39m-\u001b[39m sep)\u001b[39m*\u001b[39mFPS)\u001b[39m.\u001b[39mastype(\u001b[39mint\u001b[39m)],\n\u001b[0;32m---> <a href='file:///Users/simonfal/kth-master/exjobb/beyondPianoRoll/modules/energy_based.py?line=46'>47</a>\u001b[0m         energy[((onsets \u001b[39m+\u001b[39;49m sep)\u001b[39m*\u001b[39;49mFPS)\u001b[39m.\u001b[39;49mastype(\u001b[39mint\u001b[39;49m)]\n\u001b[1;32m     <a href='file:///Users/simonfal/kth-master/exjobb/beyondPianoRoll/modules/energy_based.py?line=47'>48</a>\u001b[0m     )\n\u001b[1;32m     <a href='file:///Users/simonfal/kth-master/exjobb/beyondPianoRoll/modules/energy_based.py?line=48'>49</a>\u001b[0m ])\n\u001b[1;32m     <a href='file:///Users/simonfal/kth-master/exjobb/beyondPianoRoll/modules/energy_based.py?line=50'>51</a>\u001b[0m \u001b[39m# Output: Onset times together with legato measure\u001b[39;00m\n\u001b[1;32m     <a href='file:///Users/simonfal/kth-master/exjobb/beyondPianoRoll/modules/energy_based.py?line=51'>52</a>\u001b[0m \u001b[39mreturn\u001b[39;00m onsets, legato_meas\n",
      "\u001b[0;31mIndexError\u001b[0m: index 1698 is out of bounds for axis 0 with size 1697"
     ]
    }
   ],
   "source": [
    "neural=False\n",
    "CD_list = []\n",
    "FN_list = []\n",
    "FP_list = []\n",
    "for r in range(len(itf.keys())):\n",
    "    fold = itf[r]\n",
    "    rec_name = os.path.basename(audio_fnames[r])\n",
    "    x = get_segmented_data(audio_fnames[r])\n",
    "    if neural:\n",
    "        model = tf.keras.models.load_model(base_path + \"fold_\" + str(fold) + \"_\" + model_name + \"_model\")\n",
    "        out = model.predict(x)\n",
    "        peaks = get_test_peaks(out, 1./FPS)\n",
    "    else:\n",
    "        leg_on, leg_val = legato_mg(audio_fnames[r], rel_delta=0.2)\n",
    "        peaks = onsets_threshold_gate(leg_on, leg_val, 1.0)\n",
    "    \n",
    "    [CD,FN,FP,doubles,merged] = evaluate(onset_schedules[r], peaks, tol_sec=TOL)\n",
    "    CD_list.append(CD)\n",
    "    FN_list.append(FN)\n",
    "    FP_list.append(FP)\n",
    "\n",
    "    scores = mir_eval.onset.evaluate(onset_schedules[r], peaks, window=TOL)\n",
    "    print(rec_name + \"\\t\" + \"F-score: {:.2f}\".format(100*scores[\"F-measure\"]))\n",
    "\n"
   ]
  },
  {
   "cell_type": "code",
   "execution_count": 40,
   "metadata": {},
   "outputs": [
    {
     "data": {
      "text/plain": [
       "0.8505654281098546"
      ]
     },
     "execution_count": 40,
     "metadata": {},
     "output_type": "execute_result"
    }
   ],
   "source": [
    "np.sum(CD_list)/(np.sum(CD_list)+.5*(np.sum(FP_list) + np.sum(FN_list)))"
   ]
  },
  {
   "cell_type": "code",
   "execution_count": null,
   "metadata": {},
   "outputs": [],
   "source": []
  }
 ],
 "metadata": {
  "interpreter": {
   "hash": "aee8b7b246df8f9039afb4144a1f6fd8d2ca17a180786b69acc140d282b71a49"
  },
  "kernelspec": {
   "display_name": "flow",
   "language": "python",
   "name": "python3"
  },
  "language_info": {
   "codemirror_mode": {
    "name": "ipython",
    "version": 3
   },
   "file_extension": ".py",
   "mimetype": "text/x-python",
   "name": "python",
   "nbconvert_exporter": "python",
   "pygments_lexer": "ipython3",
   "version": "3.9.10"
  },
  "orig_nbformat": 4
 },
 "nbformat": 4,
 "nbformat_minor": 2
}
