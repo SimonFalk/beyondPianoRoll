{
 "cells": [
  {
   "cell_type": "code",
   "execution_count": 35,
   "metadata": {},
   "outputs": [
    {
     "name": "stdout",
     "output_type": "stream",
     "text": [
      "The autoreload extension is already loaded. To reload it, use:\n",
      "  %reload_ext autoreload\n"
     ]
    }
   ],
   "source": [
    "import os\n",
    "import pickle\n",
    "import numpy as np\n",
    "import tensorflow as tf\n",
    "import madmom\n",
    "import mir_eval\n",
    "\n",
    "from modules.labels import get_label_vector\n",
    "from modules.madmom_cnn_prep import cnn_preprocessor\n",
    "from datasets import Dataset\n",
    "from modules.analysis_funcs import get_idx_to_fold, get_segmented_data, get_test_peaks\n",
    "from analyze_detection import evaluate\n",
    "\n",
    "%load_ext autoreload\n",
    "%autoreload 2\n",
    "\n",
    "FPS = 100\n",
    "CONTEXT = 7\n",
    "\n",
    "# Load Madmom normalization\n",
    "def cnn_normalize(frames):\n",
    "    inv_std = np.load(\"models/bock2013pret_inv_std.npy\")\n",
    "    mean = np.load(\"models/bock2013pret_mean.npy\")\n",
    "    frames_normalized = (frames - np.reshape(mean, (1,80,3)))*np.reshape(inv_std, (1,80,3))\n",
    "    return frames_normalized"
   ]
  },
  {
   "cell_type": "code",
   "execution_count": 20,
   "metadata": {},
   "outputs": [
    {
     "name": "stderr",
     "output_type": "stream",
     "text": [
      "/home/simonf/.venv/onsets/lib/python3.8/site-packages/madmom/audio/signal.py:457: UserWarning: Deprecated as of version 0.16. Please use madmom.io.audio.load_wave_file instead. Will be removed in version 0.18.\n",
      "  warnings.warn('Deprecated as of version 0.16. Please use madmom.io.audio.'\n",
      "/home/simonf/.venv/onsets/lib/python3.8/site-packages/madmom/io/audio.py:493: WavFileWarning: Chunk (non-data) not understood, skipping it.\n",
      "  file_sample_rate, signal = wavfile.read(filename, mmap=True)\n"
     ]
    }
   ],
   "source": [
    "ds0 = Dataset(\"initslurtest\")\n",
    "ds1 = Dataset(\"slurtest_add_1\")\n",
    "\n",
    "audio_fnames = ds0.get_audio_paths() + ds1.get_audio_paths()\n",
    "label_fnames = ds0.get_annotation_paths() + ds1.get_annotation_paths()\n",
    "\n",
    "audios = [madmom.audio.signal.load_wave_file(filename)[0] for filename in audio_fnames]\n",
    "sample_rates = [madmom.audio.signal.load_wave_file(filename)[1] for filename in audio_fnames]\n",
    "onset_schedules = [np.loadtxt(label_fname, usecols=0) for label_fname in label_fnames]"
   ]
  },
  {
   "cell_type": "code",
   "execution_count": 38,
   "metadata": {},
   "outputs": [],
   "source": [
    "base_path = \"results/cnn-training-220409/\"\n",
    "folds_path = base_path + \"folds.pkl\"\n",
    "\n",
    "model_name = \"added-sample-gen-nostandard\"\n",
    "\n",
    "with open(folds_path, \"rb\") as f:\n",
    "    folds = pickle.load(f)\n",
    "\n",
    "itf = get_idx_to_fold(folds)\n",
    "\n",
    "TOL = 0.025\n"
   ]
  },
  {
   "cell_type": "code",
   "execution_count": 39,
   "metadata": {},
   "outputs": [
    {
     "name": "stdout",
     "output_type": "stream",
     "text": [
      "odict_keys(['F-measure', 'Precision', 'Recall'])\n",
      "slurtest01.wav\tF-score: 88.06\n",
      "odict_keys(['F-measure', 'Precision', 'Recall'])\n",
      "slurtest02.wav\tF-score: 91.73\n",
      "odict_keys(['F-measure', 'Precision', 'Recall'])\n",
      "slurtest03.wav\tF-score: 92.19\n",
      "odict_keys(['F-measure', 'Precision', 'Recall'])\n",
      "slurtest04.wav\tF-score: 91.72\n",
      "odict_keys(['F-measure', 'Precision', 'Recall'])\n",
      "slurtest05.wav\tF-score: 83.12\n",
      "odict_keys(['F-measure', 'Precision', 'Recall'])\n",
      "slurtest06.wav\tF-score: 96.49\n",
      "odict_keys(['F-measure', 'Precision', 'Recall'])\n",
      "slurtest07.wav\tF-score: 94.42\n",
      "odict_keys(['F-measure', 'Precision', 'Recall'])\n",
      "slurtest08.wav\tF-score: 94.18\n",
      "odict_keys(['F-measure', 'Precision', 'Recall'])\n",
      "slurtest09.wav\tF-score: 84.97\n",
      "odict_keys(['F-measure', 'Precision', 'Recall'])\n",
      "slurtest10.wav\tF-score: 49.18\n",
      "odict_keys(['F-measure', 'Precision', 'Recall'])\n",
      "slurtest11.wav\tF-score: 64.00\n",
      "odict_keys(['F-measure', 'Precision', 'Recall'])\n",
      "slurtest12.wav\tF-score: 67.42\n"
     ]
    },
    {
     "name": "stderr",
     "output_type": "stream",
     "text": [
      "/home/simonf/.venv/onsets/lib/python3.8/site-packages/madmom/io/audio.py:493: WavFileWarning: Chunk (non-data) not understood, skipping it.\n",
      "  file_sample_rate, signal = wavfile.read(filename, mmap=True)\n"
     ]
    },
    {
     "name": "stdout",
     "output_type": "stream",
     "text": [
      "odict_keys(['F-measure', 'Precision', 'Recall'])\n",
      "slurtest13.wav\tF-score: 81.19\n",
      "odict_keys(['F-measure', 'Precision', 'Recall'])\n",
      "slurtest14.wav\tF-score: 82.35\n",
      "odict_keys(['F-measure', 'Precision', 'Recall'])\n",
      "slurtest15.wav\tF-score: 86.61\n",
      "odict_keys(['F-measure', 'Precision', 'Recall'])\n",
      "slurtest16.wav\tF-score: 81.78\n",
      "odict_keys(['F-measure', 'Precision', 'Recall'])\n",
      "slurtest17.wav\tF-score: 60.71\n",
      "odict_keys(['F-measure', 'Precision', 'Recall'])\n",
      "slurtest18.wav\tF-score: 51.28\n",
      "odict_keys(['F-measure', 'Precision', 'Recall'])\n",
      "slurtest19.wav\tF-score: 90.95\n",
      "odict_keys(['F-measure', 'Precision', 'Recall'])\n",
      "stormhatten_IR2.wav\tF-score: 81.94\n",
      "odict_keys(['F-measure', 'Precision', 'Recall'])\n",
      "slurtest02_IR1.wav\tF-score: 94.49\n",
      "odict_keys(['F-measure', 'Precision', 'Recall'])\n",
      "slurtest01_IR2.wav\tF-score: 93.02\n",
      "odict_keys(['F-measure', 'Precision', 'Recall'])\n",
      "slurtest03_FK1.wav\tF-score: 94.49\n",
      "odict_keys(['F-measure', 'Precision', 'Recall'])\n",
      "6xtpsg_220319.wav\tF-score: 78.72\n",
      "odict_keys(['F-measure', 'Precision', 'Recall'])\n",
      "slurtest04_IR2.wav\tF-score: 96.64\n",
      "odict_keys(['F-measure', 'Precision', 'Recall'])\n",
      "melodyvib_220319.wav\tF-score: 55.45\n",
      "odict_keys(['F-measure', 'Precision', 'Recall'])\n",
      "slurtest09_IR2.wav\tF-score: 87.67\n",
      "odict_keys(['F-measure', 'Precision', 'Recall'])\n",
      "janissa_IR2.wav\tF-score: 76.36\n",
      "odict_keys(['F-measure', 'Precision', 'Recall'])\n",
      "6xtpsg_220306.wav\tF-score: 74.61\n",
      "odict_keys(['F-measure', 'Precision', 'Recall'])\n",
      "slurtest01_FK1.wav\tF-score: 89.76\n"
     ]
    },
    {
     "name": "stderr",
     "output_type": "stream",
     "text": [
      "/home/simonf/.venv/onsets/lib/python3.8/site-packages/madmom/io/audio.py:493: WavFileWarning: Chunk (non-data) not understood, skipping it.\n",
      "  file_sample_rate, signal = wavfile.read(filename, mmap=True)\n"
     ]
    },
    {
     "name": "stdout",
     "output_type": "stream",
     "text": [
      "odict_keys(['F-measure', 'Precision', 'Recall'])\n",
      "slurtest04_FK1.wav\tF-score: 93.51\n",
      "odict_keys(['F-measure', 'Precision', 'Recall'])\n",
      "slurtest01_IR1.wav\tF-score: 92.06\n",
      "odict_keys(['F-measure', 'Precision', 'Recall'])\n",
      "63an_start_220306.wav\tF-score: 81.82\n",
      "odict_keys(['F-measure', 'Precision', 'Recall'])\n",
      "slurtest08_FK1.wav\tF-score: 96.91\n"
     ]
    },
    {
     "name": "stderr",
     "output_type": "stream",
     "text": [
      "/home/simonf/.venv/onsets/lib/python3.8/site-packages/madmom/io/audio.py:493: WavFileWarning: Chunk (non-data) not understood, skipping it.\n",
      "  file_sample_rate, signal = wavfile.read(filename, mmap=True)\n"
     ]
    },
    {
     "name": "stdout",
     "output_type": "stream",
     "text": [
      "odict_keys(['F-measure', 'Precision', 'Recall'])\n",
      "slurtest03_IR1.wav\tF-score: 90.91\n",
      "odict_keys(['F-measure', 'Precision', 'Recall'])\n",
      "stormhatten_IR1.wav\tF-score: 87.79\n"
     ]
    }
   ],
   "source": [
    "CD_list = []\n",
    "FN_list = []\n",
    "FP_list = []\n",
    "for r in range(len(itf.keys())):\n",
    "    fold = itf[r]\n",
    "    rec_name = os.path.basename(audio_fnames[r])\n",
    "    x = get_segmented_data(audio_fnames[r])\n",
    "    training_name = \"finetune-dense-dropout\"\n",
    "    model = tf.keras.models.load_model(base_path + \"fold_\" + str(fold) + \"_\" + model_name + \"_model\")\n",
    "    out = model.predict(x)\n",
    "    peaks = get_test_peaks(out, 1./FPS)\n",
    "    [CD,FN,FP,doubles,merged] = evaluate(onset_schedules[r], peaks, tol_sec=TOL)\n",
    "    CD_list.append(CD)\n",
    "    FN_list.append(FN)\n",
    "    FP_list.append(FP)\n",
    "\n",
    "    scores = mir_eval.onset.evaluate(onset_schedules[r], peaks, window=TOL)\n",
    "    print(scores.keys())\n",
    "    print(rec_name + \"\\t\" + \"F-score: {:.2f}\".format(100*scores[\"F-measure\"]))\n",
    "\n"
   ]
  },
  {
   "cell_type": "code",
   "execution_count": 40,
   "metadata": {},
   "outputs": [
    {
     "data": {
      "text/plain": [
       "0.8505654281098546"
      ]
     },
     "execution_count": 40,
     "metadata": {},
     "output_type": "execute_result"
    }
   ],
   "source": [
    "np.sum(CD_list)/(np.sum(CD_list)+.5*(np.sum(FP_list) + np.sum(FN_list)))"
   ]
  },
  {
   "cell_type": "code",
   "execution_count": null,
   "metadata": {},
   "outputs": [],
   "source": []
  }
 ],
 "metadata": {
  "kernelspec": {
   "display_name": "flow",
   "language": "python",
   "name": "flow"
  },
  "language_info": {
   "codemirror_mode": {
    "name": "ipython",
    "version": 3
   },
   "file_extension": ".py",
   "mimetype": "text/x-python",
   "name": "python",
   "nbconvert_exporter": "python",
   "pygments_lexer": "ipython3",
   "version": "3.8.10"
  },
  "orig_nbformat": 4
 },
 "nbformat": 4,
 "nbformat_minor": 2
}
