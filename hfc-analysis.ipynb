{
 "cells": [
  {
   "cell_type": "code",
   "execution_count": 1,
   "metadata": {},
   "outputs": [],
   "source": [
    "%load_ext autoreload\n",
    "%autoreload 2\n",
    "import os\n",
    "import numpy as np\n",
    "import madmom\n",
    "import mir_eval\n",
    "from modules.analysis_funcs import aubio_peakpicker_do, aubio_postprocessing\n",
    "from analyze_detection import evaluate\n",
    "\n",
    "from sklearn.metrics import roc_curve\n",
    "import matplotlib.pyplot as plt\n"
   ]
  },
  {
   "cell_type": "code",
   "execution_count": 9,
   "metadata": {},
   "outputs": [
    {
     "name": "stderr",
     "output_type": "stream",
     "text": [
      "/usr/local/lib/python3.9/site-packages/madmom/audio/signal.py:457: UserWarning: Deprecated as of version 0.16. Please use madmom.io.audio.load_wave_file instead. Will be removed in version 0.18.\n",
      "  warnings.warn('Deprecated as of version 0.16. Please use madmom.io.audio.'\n",
      "/usr/local/lib/python3.9/site-packages/madmom/io/audio.py:493: WavFileWarning: Chunk (non-data) not understood, skipping it.\n",
      "  file_sample_rate, signal = wavfile.read(filename, mmap=True)\n"
     ]
    }
   ],
   "source": [
    "from datasets import Dataset\n",
    "ds0 = Dataset(\"initslurtest\")\n",
    "ds1 = Dataset(\"slurtest_add_1\")\n",
    "ds_test = Dataset(\"slurtest_test\")\n",
    "\n",
    "audio_fnames = ds1.get_audio_paths() #+ ds1.get_audio_paths()\n",
    "#audio_fnames = ds_test.get_audio_paths()\n",
    "#label_fnames = ds_test.get_annotation_paths()\n",
    "label_fnames = ds1.get_annotation_paths() #+ ds1.get_annotation_paths()\n",
    "audios = [madmom.audio.signal.load_wave_file(filename)[0] for filename in audio_fnames]\n",
    "sample_rates = [madmom.audio.signal.load_wave_file(filename)[1] for filename in audio_fnames]\n",
    "onset_schedules = [np.loadtxt(label_fname, usecols=0) for label_fname in label_fnames]\n"
   ]
  },
  {
   "cell_type": "code",
   "execution_count": 7,
   "metadata": {},
   "outputs": [],
   "source": [
    "sigg = madmom.audio.signal.SignalProcessor(num_channels=1)\n",
    "frame = madmom.audio.signal.FramedSignalProcessor(frame_size=256, hop_size=441)\n",
    "stft = madmom.audio.stft.STFTProcessor()\n",
    "proc = madmom.processors.SequentialProcessor([sigg, frame, stft])"
   ]
  },
  {
   "cell_type": "code",
   "execution_count": 5,
   "metadata": {},
   "outputs": [],
   "source": [
    "SHIFT = 5\n",
    "THRES = 0.5\n",
    "TOLS = np.arange(0.01,0.06,0.01)\n",
    "HOP = 441\n",
    "\n"
   ]
  },
  {
   "cell_type": "code",
   "execution_count": 11,
   "metadata": {},
   "outputs": [
    {
     "name": "stdout",
     "output_type": "stream",
     "text": [
      "stormhatten_IR2.wav 0.7681660899653979\n",
      "slurtest02_IR1.wav 0.7863247863247863\n",
      "slurtest01_IR2.wav 0.7454545454545455\n",
      "slurtest03_FK1.wav 0.9105691056910569\n",
      "6xtpsg_220319.wav 0.5874125874125875\n",
      "slurtest04_IR2.wav 0.8993288590604026\n",
      "melodyvib_220319.wav 0.4918032786885245\n",
      "slurtest09_IR2.wav 0.7878787878787878\n",
      "janissa_IR2.wav 0.6706586826347306\n",
      "6xtpsg_220306.wav 0.20952380952380953\n",
      "slurtest01_FK1.wav 0.88\n",
      "slurtest04_FK1.wav 0.8888888888888888\n",
      "slurtest01_IR1.wav 0.6666666666666667\n",
      "63an_start_220306.wav 0.5046728971962617\n",
      "slurtest08_FK1.wav 0.9064039408866995\n",
      "slurtest03_IR1.wav 0.7358490566037736\n",
      "stormhatten_IR1.wav 0.8172043010752689\n"
     ]
    }
   ],
   "source": [
    "# With SonicVisualizer HFC onsets\n",
    "\n",
    "TOL = 0.025\n",
    "fs = []\n",
    "rs = []\n",
    "ps = []\n",
    "CD_list = []\n",
    "FN_list = []\n",
    "FP_list = []\n",
    "for r in np.arange(len(audio_fnames)):\n",
    "    rec_name = os.path.basename(audio_fnames[r])\n",
    "    #print(rec_name)\n",
    "    spect = proc(audio_fnames[r])\n",
    "    peaks = np.genfromtxt(fname=\"datasets/slurtest_add/hfc2_detections/\" + rec_name[:-4] + \".csv\")\n",
    "    #[CD,FN,FP,doubles,merged] = evaluate(onset_schedules[r], peaks, tol_sec=TOL)\n",
    "    #CD_list.append(CD)\n",
    "    #FN_list.append(FN)\n",
    "    #FP_list.append(FP)\n",
    "    scores = mir_eval.onset.evaluate(onset_schedules[r], peaks, window=TOL)\n",
    "    #print(scores[\"F-measure\"], scores[\"Recall\"], scores[\"Precision\"])\n",
    "    fs.append(scores[\"F-measure\"])\n",
    "    ps.append(scores[\"Precision\"])\n",
    "    rs.append(scores[\"Recall\"])\n",
    "    print(rec_name, scores[\"F-measure\"])\n",
    "#print(TOL)\n",
    "#print(\"Mean F: \", np.mean(fs))\n",
    "#print(\"Mean P: \", np.mean(ps))\n",
    "#print(\"Mean R: \", np.mean(rs))"
   ]
  },
  {
   "cell_type": "code",
   "execution_count": 8,
   "metadata": {},
   "outputs": [
    {
     "name": "stdout",
     "output_type": "stream",
     "text": [
      "Total F:  72.70\n",
      "Total P:  81.03\n",
      "Total R:  65.92\n"
     ]
    }
   ],
   "source": [
    "print(\"Total F: \", \"{:.2f}\".format(100*np.sum(CD_list)/(np.sum(CD_list)+.5*(np.sum(FP_list) + np.sum(FN_list)))))\n",
    "print(\"Total P: \", \"{:.2f}\".format(100*np.sum(CD_list)/(np.sum(CD_list)+np.sum(FP_list))))\n",
    "print(\"Total R: \", \"{:.2f}\".format(100*np.sum(CD_list)/(np.sum(CD_list)+np.sum(FN_list))))"
   ]
  },
  {
   "cell_type": "code",
   "execution_count": 9,
   "metadata": {},
   "outputs": [
    {
     "name": "stdout",
     "output_type": "stream",
     "text": [
      "0.01\n",
      "Mean F:  0.3891553596449332\n",
      "Mean P:  0.45356731110662313\n",
      "Mean R:  0.3519304423029404\n",
      "0.02\n",
      "Mean F:  0.6358880374416361\n",
      "Mean P:  0.7274769783525139\n",
      "Mean R:  0.5852347686423652\n",
      "0.03\n",
      "Mean F:  0.7198238117917328\n",
      "Mean P:  0.8242778315524731\n",
      "Mean R:  0.6616532912194756\n",
      "0.04\n",
      "Mean F:  0.7309223123643593\n",
      "Mean P:  0.8382952683353515\n",
      "Mean R:  0.6711975322568515\n",
      "0.05\n",
      "Mean F:  0.7347684662105132\n",
      "Mean P:  0.8425325564709447\n",
      "Mean R:  0.674718659017415\n"
     ]
    }
   ],
   "source": [
    "\n",
    "fss = []\n",
    "for TOL in TOLS:\n",
    "    fs = []\n",
    "    rs = []\n",
    "    ps = []\n",
    "    CD_list = []\n",
    "    FN_list = []\n",
    "    FP_list = []\n",
    "    for r in np.arange(len(audio_fnames)):\n",
    "        rec_name = os.path.basename(audio_fnames[r])\n",
    "        #print(rec_name)\n",
    "        #spect = proc(audio_fnames[r])\n",
    "        #hfc = madmom.features.onsets.high_frequency_content(np.abs(spect))\n",
    "        #onehot, out = aubio_peakpicker_do(hfc, threshold=THRES)\n",
    "        #peaks = (np.where(onehot==1)[0]-SHIFT)*HOP/sample_rates[r]\n",
    "        peaks = np.genfromtxt(fname=\"datasets/slurtest_add/hfc2_detections/\" + rec_name[:-4] + \".csv\")\n",
    "        [CD,FN,FP,doubles,merged] = evaluate(onset_schedules[r], peaks, tol_sec=TOL)\n",
    "        CD_list.append(CD)\n",
    "        FN_list.append(FN)\n",
    "        FP_list.append(FP)\n",
    "        scores = mir_eval.onset.evaluate(onset_schedules[r], peaks, window=TOL)\n",
    "        #print(scores[\"F-measure\"], scores[\"Recall\"], scores[\"Precision\"])\n",
    "        fs.append(scores[\"F-measure\"])\n",
    "        ps.append(scores[\"Precision\"])\n",
    "        rs.append(scores[\"Recall\"])\n",
    "    print(TOL)\n",
    "    print(\"Mean F: \", np.mean(fs))\n",
    "    print(\"Mean P: \", np.mean(ps))\n",
    "    print(\"Mean R: \", np.mean(rs))\n",
    "    fss.append(np.mean(fs))"
   ]
  },
  {
   "cell_type": "code",
   "execution_count": 10,
   "metadata": {},
   "outputs": [],
   "source": [
    "np.save(file=\"results/computed/hfc_time_prec.npy\", arr=fss)\n"
   ]
  },
  {
   "cell_type": "code",
   "execution_count": 12,
   "metadata": {},
   "outputs": [
    {
     "data": {
      "text/plain": [
       "Text(0.5, 0, 'Tolerance window [ms]')"
      ]
     },
     "execution_count": 12,
     "metadata": {},
     "output_type": "execute_result"
    },
    {
     "data": {
      "image/png": "[encoded data removed]",
      "text/plain": [
       "<Figure size 432x288 with 1 Axes>"
      ]
     },
     "metadata": {
      "needs_background": "light"
     },
     "output_type": "display_data"
    }
   ],
   "source": [
    "time_prec = np.array([np.load(file=\"results/computed/hfc_time_prec.npy\"),np.load(file=\"results/computed/cnn_time_prec.npy\")])\n",
    "plt.bar(\n",
    "    x=np.arange(10,60,10),\n",
    "    height=time_prec.transpose()[:,0]/0.6948,\n",
    "    align='edge',\n",
    "    width = 2.0\n",
    ")\n",
    "plt.bar(\n",
    "    x=np.arange(10,60,10),\n",
    "    height=time_prec.transpose()[:,1]/0.8692,\n",
    "    width=-2.0,\n",
    "    align='edge'\n",
    ")\n",
    "plt.legend([\"HFC method\", \"CNN method\"], loc=\"lower right\")\n",
    "plt.ylabel(\"F-score relative to 25 ms tolerance w.\")\n",
    "plt.xlabel(\"Tolerance window [ms]\")\n",
    "\n"
   ]
  },
  {
   "cell_type": "code",
   "execution_count": 15,
   "metadata": {},
   "outputs": [
    {
     "data": {
      "text/plain": [
       "array([ 67.63413655,  93.96500603, 101.94686941, 103.9372538 ,\n",
       "       104.71221762])"
      ]
     },
     "execution_count": 15,
     "metadata": {},
     "output_type": "execute_result"
    }
   ],
   "source": [
    "100*time_prec.transpose()[:,1]/0.8692"
   ]
  },
  {
   "cell_type": "code",
   "execution_count": 17,
   "metadata": {},
   "outputs": [
    {
     "name": "stdout",
     "output_type": "stream",
     "text": [
      "\\begin{tabular}{lrrrrr}\n",
      "\\toprule\n",
      "{} &        10 &        20 &        30 &        40 &        50 \\\\\n",
      "\\midrule\n",
      "HFC &  0.389155 &  0.635888 &  0.719824 &  0.730922 &  0.734768 \\\\\n",
      "CNN &  0.587876 &  0.816744 &  0.886122 &  0.903423 &  0.910159 \\\\\n",
      "\\bottomrule\n",
      "\\end{tabular}\n",
      "\n"
     ]
    },
    {
     "name": "stderr",
     "output_type": "stream",
     "text": [
      "/var/folders/hb/mg80hj2s1lqdy7x5r3zdlk0m0000gp/T/ipykernel_14807/1124330622.py:4: FutureWarning: In future versions `DataFrame.to_latex` is expected to utilise the base implementation of `Styler.to_latex` for formatting and rendering. The arguments signature may therefore change. It is recommended instead to use `DataFrame.style.to_latex` which also contains additional functionality.\n",
      "  pd.DataFrame(time_prec,\n"
     ]
    }
   ],
   "source": [
    "import pandas as pd\n",
    "print(\n",
    "    \n",
    "    pd.DataFrame(time_prec,\n",
    "    columns=np.arange(10,60,10),\n",
    "    index=[\"HFC\", \"CNN\"],).to_latex()\n",
    ")"
   ]
  },
  {
   "cell_type": "code",
   "execution_count": 26,
   "metadata": {},
   "outputs": [
    {
     "name": "stdout",
     "output_type": "stream",
     "text": [
      "Total F:  60.42\n",
      "Total P:  74.53\n",
      "Total R:  50.80\n"
     ]
    }
   ],
   "source": [
    "print(\"Total F: \", \"{:.2f}\".format(100*np.sum(CD_list)/(np.sum(CD_list)+.5*(np.sum(FP_list) + np.sum(FN_list)))))\n",
    "print(\"Total P: \", \"{:.2f}\".format(100*np.sum(CD_list)/(np.sum(CD_list)+np.sum(FP_list))))\n",
    "print(\"Total R: \", \"{:.2f}\".format(100*np.sum(CD_list)/(np.sum(CD_list)+np.sum(FN_list))))"
   ]
  },
  {
   "cell_type": "code",
   "execution_count": 23,
   "metadata": {},
   "outputs": [],
   "source": [
    "THRESS = [0.001,0.01,0.05,0.1,0.15,0.2,0.5,0.9]\n",
    "cds = np.zeros((len(THRESS), len(audio_fnames)))\n",
    "fps = np.zeros((len(THRESS), len(audio_fnames)))\n",
    "fns = np.zeros((len(THRESS), len(audio_fnames)))\n",
    "tns = np.zeros((len(THRESS), len(audio_fnames)))"
   ]
  },
  {
   "cell_type": "code",
   "execution_count": 17,
   "metadata": {},
   "outputs": [],
   "source": [
    "positives = np.zeros(len(audios))\n",
    "negatives = np.zeros(len(audios))\n",
    "for a, onsets in enumerate(onset_schedules):\n",
    "    positives[a] = np.sum(onsets)\n",
    "    negatives[a] = len(onsets) - np.sum(onsets)\n",
    "    "
   ]
  },
  {
   "cell_type": "code",
   "execution_count": 28,
   "metadata": {},
   "outputs": [
    {
     "name": "stdout",
     "output_type": "stream",
     "text": [
      "datasets/initslurtest_vn/initslurtest_vn_wav/slurtest01.wav\n",
      "[0.42033898 0.43971631 0.52863436 0.64864865 0.75159236 0.7862069\n",
      " 0.46153846 0.07874016]\n",
      "datasets/initslurtest_vn/initslurtest_vn_wav/slurtest02.wav\n",
      "[0.41696113 0.43703704 0.5462963  0.65909091 0.7037037  0.73333333\n",
      " 0.544      0.1300813 ]\n",
      "datasets/initslurtest_vn/initslurtest_vn_wav/slurtest03.wav\n",
      "[0.42553191 0.44280443 0.55299539 0.65217391 0.72392638 0.73076923\n",
      " 0.43076923 0.09677419]\n",
      "datasets/initslurtest_vn/initslurtest_vn_wav/slurtest04.wav\n",
      "[0.54744526 0.57034221 0.65777778 0.76041667 0.79545455 0.80239521\n",
      " 0.36601307 0.10526316]\n",
      "datasets/initslurtest_vn/initslurtest_vn_wav/slurtest05.wav\n",
      "[0.36812144 0.38645418 0.46568627 0.5497076  0.64111498 0.6741573\n",
      " 0.65420561 0.21463415]\n",
      "datasets/initslurtest_vn/initslurtest_vn_wav/slurtest06.wav\n",
      "[0.66465257 0.67484663 0.71317829 0.70906949 0.68203883 0.63840399\n",
      " 0.37569061 0.10496454]\n",
      "datasets/initslurtest_vn/initslurtest_vn_wav/slurtest07.wav\n",
      "[0.64886251 0.66869919 0.69146608 0.69800235 0.66340269 0.63211125\n",
      " 0.28296703 0.05915493]\n",
      "datasets/initslurtest_vn/initslurtest_vn_wav/slurtest08.wav\n",
      "[0.41346154 0.43765903 0.52012384 0.60215054 0.66935484 0.71489362\n",
      " 0.59701493 0.38095238]\n",
      "datasets/initslurtest_vn/initslurtest_vn_wav/slurtest09.wav\n",
      "[0.23633157 0.2518797  0.3358396  0.44290657 0.56       0.61616162\n",
      " 0.43055556 0.1294964 ]\n",
      "datasets/initslurtest_vn/initslurtest_vn_wav/slurtest10.wav\n",
      "[0.13001383 0.13391557 0.15238095 0.19178082 0.24334601 0.27860697\n",
      " 0.15652174 0.05660377]\n",
      "datasets/initslurtest_vn/initslurtest_vn_wav/slurtest11.wav\n",
      "[0.12732919 0.13290113 0.16738197 0.21212121 0.26829268 0.34444444\n",
      " 0.26       0.08510638]\n",
      "datasets/initslurtest_vn/initslurtest_vn_wav/slurtest12.wav\n",
      "[0.12809917 0.13686534 0.18987342 0.29850746 0.34394904 0.3902439\n",
      " 0.42857143 0.30136986]\n",
      "datasets/initslurtest_vn/initslurtest_vn_wav/slurtest13.wav\n",
      "[0.20873786 0.22811671 0.31851852 0.42211055 0.51572327 0.56521739\n",
      " 0.53191489 0.19565217]\n",
      "datasets/initslurtest_vn/initslurtest_vn_wav/slurtest14.wav\n",
      "[0.23423423 0.25242718 0.34210526 0.40833333 0.48167539 0.56774194\n",
      " 0.3539823  0.14545455]\n",
      "datasets/initslurtest_vn/initslurtest_vn_wav/slurtest15.wav\n",
      "[0.36666667 0.38223938 0.4469526  0.53296703 0.62135922 0.62237762\n",
      " 0.48214286 0.21800948]\n",
      "datasets/initslurtest_vn/initslurtest_vn_wav/slurtest16.wav\n",
      "[0.35093168 0.36129032 0.43700787 0.49760766 0.55434783 0.62732919\n",
      " 0.57142857 0.20338983]\n",
      "datasets/initslurtest_vn/initslurtest_vn_wav/slurtest17.wav\n",
      "[0.18269812 0.19346573 0.24789207 0.32464455 0.38554217 0.38198198\n",
      " 0.2        0.04819277]\n",
      "datasets/initslurtest_vn/initslurtest_vn_wav/slurtest18.wav\n",
      "[0.06113537 0.06308411 0.08858603 0.14168937 0.18032787 0.2247191\n",
      " 0.         0.        ]\n",
      "datasets/initslurtest_vn/initslurtest_vn_wav/slurtest19.wav\n",
      "[0.40744571 0.42456897 0.50391645 0.57819905 0.61702128 0.62548263\n",
      " 0.31353919 0.10243902]\n",
      "datasets/slurtest_add/slurtest_add_audio/stormhatten_IR2.wav\n",
      "[0.2980063  0.31590656 0.41185185 0.51450677 0.60332542 0.65454545\n",
      " 0.46905537 0.12      ]\n",
      "datasets/slurtest_add/slurtest_add_audio/slurtest02_IR1.wav\n",
      "[0.37575758 0.3961039  0.47826087 0.58139535 0.58974359 0.56551724\n",
      " 0.29457364 0.016     ]\n",
      "datasets/slurtest_add/slurtest_add_audio/slurtest01_IR2.wav\n",
      "[0.33613445 0.36363636 0.48214286 0.58139535 0.60645161 0.56944444\n",
      " 0.34375    0.048     ]\n",
      "datasets/slurtest_add/slurtest_add_audio/slurtest03_FK1.wav\n",
      "[0.34005764 0.3597561  0.46721311 0.54450262 0.66242038 0.62585034\n",
      " 0.37209302 0.03149606]\n",
      "datasets/slurtest_add/slurtest_add_audio/6xtpsg_220319.wav\n",
      "[0.15608741 0.1659292  0.23604466 0.32935561 0.40677966 0.48333333\n",
      " 0.2295082  0.04705882]\n",
      "datasets/slurtest_add/slurtest_add_audio/slurtest04_IR2.wav\n",
      "[0.48993289 0.52898551 0.67298578 0.75268817 0.78612717 0.76363636\n",
      " 0.43870968 0.10457516]\n",
      "datasets/slurtest_add/slurtest_add_audio/melodyvib_220319.wav\n",
      "[0.10722264 0.11332801 0.15265487 0.19261637 0.24355972 0.28484848\n",
      " 0.09302326 0.02439024]\n",
      "datasets/slurtest_add/slurtest_add_audio/slurtest09_IR2.wav\n",
      "[0.20588235 0.22702703 0.38390093 0.52678571 0.58333333 0.57988166\n",
      " 0.30985915 0.02962963]\n",
      "datasets/slurtest_add/slurtest_add_audio/janissa_IR2.wav\n",
      "[0.24822695 0.26185958 0.33746898 0.41230769 0.45551601 0.5\n",
      " 0.40883978 0.18934911]\n",
      "datasets/slurtest_add/slurtest_add_audio/6xtpsg_220306.wav\n",
      "[0.13264427 0.141527   0.2070922  0.31325301 0.40689655 0.43776824\n",
      " 0.12359551 0.03448276]\n",
      "datasets/slurtest_add/slurtest_add_audio/slurtest01_FK1.wav\n",
      "[0.36137072 0.37540453 0.47302905 0.54545455 0.58823529 0.63576159\n",
      " 0.34645669 0.048     ]\n",
      "datasets/slurtest_add/slurtest_add_audio/slurtest04_FK1.wav\n",
      "[0.44047619 0.45201238 0.6        0.68316832 0.72625698 0.76646707\n",
      " 0.43421053 0.08      ]\n",
      "datasets/slurtest_add/slurtest_add_audio/slurtest01_IR1.wav\n",
      "[0.33237822 0.34250765 0.44537815 0.55248619 0.55900621 0.53947368\n",
      " 0.28125    0.01587302]\n",
      "datasets/slurtest_add/slurtest_add_audio/63an_start_220306.wav\n",
      "[0.25249169 0.27486438 0.37593985 0.48797251 0.6036036  0.69148936\n",
      " 0.17948718 0.02614379]\n",
      "datasets/slurtest_add/slurtest_add_audio/slurtest08_FK1.wav\n",
      "[0.37051793 0.38830898 0.4744898  0.57680251 0.66909091 0.71428571\n",
      " 0.65048544 0.33333333]\n",
      "datasets/slurtest_add/slurtest_add_audio/slurtest03_IR1.wav\n",
      "[0.36151603 0.39490446 0.52678571 0.60335196 0.63803681 0.63157895\n",
      " 0.2556391  0.03100775]\n",
      "datasets/slurtest_add/slurtest_add_audio/stormhatten_IR1.wav\n",
      "[0.275154   0.29621381 0.39461883 0.51190476 0.60576923 0.64721485\n",
      " 0.57912458 0.16608997]\n"
     ]
    }
   ],
   "source": [
    "for a, (fname, audio, onsets, sr) in enumerate(zip(audio_fnames, audios, onset_schedules, sample_rates)):\n",
    "    \n",
    "    for t, THRES in enumerate(THRESS):\n",
    "        spect = proc(fname)\n",
    "        hfc = madmom.features.onsets.high_frequency_content(np.abs(spect))\n",
    "        onehot, out = aubio_peakpicker_do(hfc, threshold=THRES)\n",
    "        peaks = (np.where(onehot==1)[0]-SHIFT)*HOP/sr\n",
    "        [CD,FN,FP,doubles,merged] = evaluate(onsets, peaks, tol_sec=TOL)\n",
    "        cds[t, a] = CD\n",
    "        fps[t, a] = FP\n",
    "        fns[t, a] = FN\n",
    "        tns[t, a] = (len(onehot)-onehot.sum()) - FN\n",
    "    print(fname)\n",
    "    print(cds[:,a]/(cds[:,a]+0.5*fps[:,a]+fns[:,a]))\n"
   ]
  },
  {
   "cell_type": "code",
   "execution_count": 51,
   "metadata": {},
   "outputs": [
    {
     "data": {
      "text/plain": [
       "Text(0, 0.5, 'True positive rate')"
      ]
     },
     "execution_count": 51,
     "metadata": {},
     "output_type": "execute_result"
    },
    {
     "data": {
      "image/png": "[encoded data removed]",
      "text/plain": [
       "<Figure size 432x288 with 1 Axes>"
      ]
     },
     "metadata": {
      "needs_background": "light"
     },
     "output_type": "display_data"
    }
   ],
   "source": [
    "fscores = []\n",
    "WIN_SIZES = [512]\n",
    "for win_size in WIN_SIZES:\n",
    "    cds = np.load(\"results/hfc-eval-220422/hfc_AB_w\"+ str(win_size)+\"_tuning_cds.npy\")\n",
    "    fns = np.load(\"results/hfc-eval-220422/hfc_AB_w\"+ str(win_size)+\"_tuning_fns.npy\")\n",
    "    fps = np.load(\"results/hfc-eval-220422/hfc_AB_w\"+ str(win_size)+\"_tuning_fps.npy\")\n",
    "    tns = np.load(\"results/hfc-eval-220422/hfc_AB_w\"+ str(win_size)+\"_tuning_tns.npy\")\n",
    "    tpr = cds.sum(1)/(cds.sum(1)+fns.sum(1))\n",
    "    fpr = fps.sum(1)/(fps.sum(1)+tns.sum(1))\n",
    "    fscores.append(cds.sum(1)/(cds.sum(1)+0.5*fps.sum(1)+0.5*fns.sum(1)))\n",
    "    plt.plot(fpr, tpr, '-o')\n",
    "    f=cds.sum(1)/(cds.sum(1)+0.5*fps.sum(1)+0.5*fns.sum(1))\n",
    "    for i in range(len(tpr)):\n",
    "        if i==1:\n",
    "            dx=-0.015\n",
    "        elif i==0:\n",
    "            dx=-0.007\n",
    "        else:\n",
    "            dx=0.005\n",
    "        if i==len(tpr)-1:\n",
    "            dy=0.01\n",
    "        elif i==0:\n",
    "            dy=-0.07\n",
    "        elif i==1:\n",
    "            dy=-0.1\n",
    "        else:\n",
    "            dy=-0.05\n",
    "        plt.text(x=fpr[i]+dx, y=tpr[i]+dy, s=\"{:.2f}\".format(100*f[i]))\n",
    "    plt.arrow(fpr[1]-0.010, tpr[1]-0.055, 0.0040, 0.030, width=0.0001, head_width=0.002)\n",
    "\n",
    "plt.xlabel(\"False positive rate\")\n",
    "plt.ylabel(\"True positive rate\")\n",
    "\n",
    "#plt.legend([\"Frame size \" + str(w) for w in WIN_SIZES])"
   ]
  },
  {
   "cell_type": "code",
   "execution_count": 18,
   "metadata": {},
   "outputs": [
    {
     "name": "stdout",
     "output_type": "stream",
     "text": [
      "\\begin{tabular}{lrrrrrrrr}\n",
      "\\toprule\n",
      "{} &  0.001 &  0.010 &  0.050 &  0.100 &  0.150 &  0.200 &  0.500 &  0.900 \\\\\n",
      "\\midrule\n",
      "256  &  25.27 &  26.27 &  31.98 &  40.85 &  50.13 &  58.58 &  65.58 &  27.20 \\\\\n",
      "512  &  27.37 &  28.76 &  36.35 &  46.96 &  56.14 &  63.32 &  60.30 &  22.24 \\\\\n",
      "1024 &  29.42 &  31.11 &  40.03 &  50.36 &  58.59 &  63.48 &  52.22 &  19.82 \\\\\n",
      "\\bottomrule\n",
      "\\end{tabular}\n",
      "\n"
     ]
    },
    {
     "name": "stderr",
     "output_type": "stream",
     "text": [
      "/var/folders/hb/mg80hj2s1lqdy7x5r3zdlk0m0000gp/T/ipykernel_2930/1535588750.py:2: FutureWarning: In future versions `DataFrame.to_latex` is expected to utilise the base implementation of `Styler.to_latex` for formatting and rendering. The arguments signature may therefore change. It is recommended instead to use `DataFrame.style.to_latex` which also contains additional functionality.\n",
      "  print(pd.DataFrame(\n"
     ]
    }
   ],
   "source": [
    "import pandas as pd\n",
    "print(pd.DataFrame(\n",
    "    100*np.array(fscores),\n",
    "    columns = [0.001,0.01,0.05,0.1,0.15,0.2,0.5,0.9],\n",
    "    index = [256, 512, 1024]\n",
    ").to_latex(float_format=\"%.2f\"))"
   ]
  },
  {
   "cell_type": "code",
   "execution_count": 5,
   "metadata": {},
   "outputs": [
    {
     "ename": "NameError",
     "evalue": "name 'tns' is not defined",
     "output_type": "error",
     "traceback": [
      "\u001b[0;31m---------------------------------------------------------------------------\u001b[0m",
      "\u001b[0;31mNameError\u001b[0m                                 Traceback (most recent call last)",
      "\u001b[1;32m/Users/simonfal/kth-master/exjobb/beyondPianoRoll/hfc-analysis.ipynb Cell 8'\u001b[0m in \u001b[0;36m<cell line: 1>\u001b[0;34m()\u001b[0m\n\u001b[0;32m----> <a href='vscode-notebook-cell:/Users/simonfal/kth-master/exjobb/beyondPianoRoll/hfc-analysis.ipynb#ch0000007?line=0'>1</a>\u001b[0m tns\u001b[39m+\u001b[39mfps\n",
      "\u001b[0;31mNameError\u001b[0m: name 'tns' is not defined"
     ]
    }
   ],
   "source": [
    "fscores"
   ]
  },
  {
   "cell_type": "code",
   "execution_count": 29,
   "metadata": {},
   "outputs": [],
   "source": [
    "np.save(file=\"results/hfc-eval-220422/hfc_AB_w1024_tuning_tns.npy\", arr=tns)"
   ]
  },
  {
   "cell_type": "code",
   "execution_count": null,
   "metadata": {},
   "outputs": [],
   "source": [
    "np.load(file=\"results/hfc-eval-220422/hfc_AB_w512_tuning_tns.npy\")"
   ]
  }
 ],
 "metadata": {
  "interpreter": {
   "hash": "aee8b7b246df8f9039afb4144a1f6fd8d2ca17a180786b69acc140d282b71a49"
  },
  "kernelspec": {
   "display_name": "Python 3.9.10 64-bit",
   "language": "python",
   "name": "python3"
  },
  "language_info": {
   "codemirror_mode": {
    "name": "ipython",
    "version": 3
   },
   "file_extension": ".py",
   "mimetype": "text/x-python",
   "name": "python",
   "nbconvert_exporter": "python",
   "pygments_lexer": "ipython3",
   "version": "3.9.10"
  },
  "orig_nbformat": 4
 },
 "nbformat": 4,
 "nbformat_minor": 2
}
