{
 "cells": [
  {
   "cell_type": "code",
   "execution_count": 1,
   "metadata": {},
   "outputs": [],
   "source": [
    "%load_ext autoreload\n",
    "%autoreload 2\n",
    "import os\n",
    "import numpy as np\n",
    "import madmom\n",
    "import mir_eval\n",
    "from modules.analysis_funcs import aubio_peakpicker_do, aubio_postprocessing\n",
    "from analyze_detection import evaluate\n",
    "\n",
    "from sklearn.metrics import roc_curve\n",
    "import matplotlib.pyplot as plt\n"
   ]
  },
  {
   "cell_type": "code",
   "execution_count": 6,
   "metadata": {},
   "outputs": [
    {
     "name": "stderr",
     "output_type": "stream",
     "text": [
      "/usr/local/lib/python3.9/site-packages/madmom/audio/signal.py:457: UserWarning: Deprecated as of version 0.16. Please use madmom.io.audio.load_wave_file instead. Will be removed in version 0.18.\n",
      "  warnings.warn('Deprecated as of version 0.16. Please use madmom.io.audio.'\n",
      "/usr/local/lib/python3.9/site-packages/madmom/io/audio.py:493: WavFileWarning: Chunk (non-data) not understood, skipping it.\n",
      "  file_sample_rate, signal = wavfile.read(filename, mmap=True)\n"
     ]
    }
   ],
   "source": [
    "from datasets import Dataset\n",
    "ds0 = Dataset(\"initslurtest\")\n",
    "ds1 = Dataset(\"slurtest_add_1\")\n",
    "ds_test = Dataset(\"slurtest_test\")\n",
    "\n",
    "audio_fnames = ds1.get_audio_paths() #+ ds1.get_audio_paths()\n",
    "#audio_fnames = ds_test.get_audio_paths()\n",
    "#label_fnames = ds_test.get_annotation_paths()\n",
    "label_fnames = ds1.get_annotation_paths() #+ ds1.get_annotation_paths()\n",
    "audios = [madmom.audio.signal.load_wave_file(filename)[0] for filename in audio_fnames]\n",
    "sample_rates = [madmom.audio.signal.load_wave_file(filename)[1] for filename in audio_fnames]\n",
    "onset_schedules = [np.loadtxt(label_fname, usecols=0) for label_fname in label_fnames]\n"
   ]
  },
  {
   "cell_type": "code",
   "execution_count": 7,
   "metadata": {},
   "outputs": [],
   "source": [
    "sigg = madmom.audio.signal.SignalProcessor(num_channels=1)\n",
    "frame = madmom.audio.signal.FramedSignalProcessor(frame_size=256, hop_size=441)\n",
    "stft = madmom.audio.stft.STFTProcessor()\n",
    "proc = madmom.processors.SequentialProcessor([sigg, frame, stft])"
   ]
  },
  {
   "cell_type": "code",
   "execution_count": 8,
   "metadata": {},
   "outputs": [],
   "source": [
    "SHIFT = 5\n",
    "THRES = 0.5\n",
    "TOLS = np.arange(0.01,0.06,0.01)\n",
    "HOP = 441\n",
    "\n"
   ]
  },
  {
   "cell_type": "code",
   "execution_count": 13,
   "metadata": {},
   "outputs": [
    {
     "name": "stderr",
     "output_type": "stream",
     "text": [
      "/usr/local/lib/python3.9/site-packages/madmom/io/audio.py:493: WavFileWarning: Chunk (non-data) not understood, skipping it.\n",
      "  file_sample_rate, signal = wavfile.read(filename, mmap=True)\n"
     ]
    },
    {
     "name": "stdout",
     "output_type": "stream",
     "text": [
      "stormhatten_IR2.wav 0.7681660899653979\n",
      "slurtest02_IR1.wav 0.7863247863247863\n",
      "slurtest01_IR2.wav 0.7454545454545455\n",
      "slurtest03_FK1.wav 0.9105691056910569\n",
      "6xtpsg_220319.wav 0.5874125874125875\n",
      "slurtest04_IR2.wav 0.8993288590604026\n",
      "melodyvib_220319.wav 0.4918032786885245\n",
      "slurtest09_IR2.wav 0.7878787878787878\n",
      "janissa_IR2.wav 0.6706586826347306\n",
      "6xtpsg_220306.wav 0.20952380952380953\n",
      "slurtest01_FK1.wav 0.88\n",
      "slurtest04_FK1.wav 0.8888888888888888\n",
      "slurtest01_IR1.wav 0.6666666666666667\n",
      "63an_start_220306.wav 0.5046728971962617\n",
      "slurtest08_FK1.wav 0.9064039408866995\n",
      "slurtest03_IR1.wav 0.7358490566037736\n",
      "stormhatten_IR1.wav 0.8172043010752689\n"
     ]
    }
   ],
   "source": [
    "# With SonicVisualizer HFC onsets\n",
    "\n",
    "TOL = 0.025\n",
    "fs = []\n",
    "rs = []\n",
    "ps = []\n",
    "CD_list = []\n",
    "FN_list = []\n",
    "FP_list = []\n",
    "for r in np.arange(len(audio_fnames)):\n",
    "    rec_name = os.path.basename(audio_fnames[r])\n",
    "    #print(rec_name)\n",
    "    spect = proc(audio_fnames[r])\n",
    "    peaks = np.genfromtxt(fname=\"datasets/slurtest_add/hfc2_detections/\" + rec_name[:-4] + \".csv\")\n",
    "    [CD,FN,FP,doubles,merged] = evaluate(onset_schedules[r], peaks, tol_sec=TOL)\n",
    "    CD_list.append(CD)\n",
    "    FN_list.append(FN)\n",
    "    FP_list.append(FP)\n",
    "    scores = mir_eval.onset.evaluate(onset_schedules[r], peaks, window=TOL)\n",
    "    #print(scores[\"F-measure\"], scores[\"Recall\"], scores[\"Precision\"])\n",
    "    fs.append(scores[\"F-measure\"])\n",
    "    ps.append(scores[\"Precision\"])\n",
    "    rs.append(scores[\"Recall\"])\n",
    "    print(rec_name, scores[\"F-measure\"])\n",
    "#print(TOL)\n",
    "#print(\"Mean F: \", np.mean(fs))\n",
    "#print(\"Mean P: \", np.mean(ps))\n",
    "#print(\"Mean R: \", np.mean(rs))"
   ]
  },
  {
   "cell_type": "code",
   "execution_count": 14,
   "metadata": {},
   "outputs": [
    {
     "name": "stdout",
     "output_type": "stream",
     "text": [
      "Total F:  74.32\n",
      "Total P:  81.56\n",
      "Total R:  68.26\n"
     ]
    }
   ],
   "source": [
    "print(\"Total F: \", \"{:.2f}\".format(100*np.sum(CD_list)/(np.sum(CD_list)+.5*(np.sum(FP_list) + np.sum(FN_list)))))\n",
    "print(\"Total P: \", \"{:.2f}\".format(100*np.sum(CD_list)/(np.sum(CD_list)+np.sum(FP_list))))\n",
    "print(\"Total R: \", \"{:.2f}\".format(100*np.sum(CD_list)/(np.sum(CD_list)+np.sum(FN_list))))"
   ]
  },
  {
   "cell_type": "code",
   "execution_count": 9,
   "metadata": {},
   "outputs": [
    {
     "name": "stdout",
     "output_type": "stream",
     "text": [
      "0.01\n",
      "Mean F:  0.3891553596449332\n",
      "Mean P:  0.45356731110662313\n",
      "Mean R:  0.3519304423029404\n",
      "0.02\n",
      "Mean F:  0.6358880374416361\n",
      "Mean P:  0.7274769783525139\n",
      "Mean R:  0.5852347686423652\n",
      "0.03\n",
      "Mean F:  0.7198238117917328\n",
      "Mean P:  0.8242778315524731\n",
      "Mean R:  0.6616532912194756\n",
      "0.04\n",
      "Mean F:  0.7309223123643593\n",
      "Mean P:  0.8382952683353515\n",
      "Mean R:  0.6711975322568515\n",
      "0.05\n",
      "Mean F:  0.7347684662105132\n",
      "Mean P:  0.8425325564709447\n",
      "Mean R:  0.674718659017415\n"
     ]
    }
   ],
   "source": [
    "\n",
    "fss = []\n",
    "for TOL in TOLS:\n",
    "    fs = []\n",
    "    rs = []\n",
    "    ps = []\n",
    "    CD_list = []\n",
    "    FN_list = []\n",
    "    FP_list = []\n",
    "    for r in np.arange(len(audio_fnames)):\n",
    "        rec_name = os.path.basename(audio_fnames[r])\n",
    "        #print(rec_name)\n",
    "        #spect = proc(audio_fnames[r])\n",
    "        #hfc = madmom.features.onsets.high_frequency_content(np.abs(spect))\n",
    "        #onehot, out = aubio_peakpicker_do(hfc, threshold=THRES)\n",
    "        #peaks = (np.where(onehot==1)[0]-SHIFT)*HOP/sample_rates[r]\n",
    "        peaks = np.genfromtxt(fname=\"datasets/slurtest_add/hfc2_detections/\" + rec_name[:-4] + \".csv\")\n",
    "        [CD,FN,FP,doubles,merged] = evaluate(onset_schedules[r], peaks, tol_sec=TOL)\n",
    "        CD_list.append(CD)\n",
    "        FN_list.append(FN)\n",
    "        FP_list.append(FP)\n",
    "        scores = mir_eval.onset.evaluate(onset_schedules[r], peaks, window=TOL)\n",
    "        #print(scores[\"F-measure\"], scores[\"Recall\"], scores[\"Precision\"])\n",
    "        fs.append(scores[\"F-measure\"])\n",
    "        ps.append(scores[\"Precision\"])\n",
    "        rs.append(scores[\"Recall\"])\n",
    "    print(TOL)\n",
    "    print(\"Mean F: \", np.mean(fs))\n",
    "    print(\"Mean P: \", np.mean(ps))\n",
    "    print(\"Mean R: \", np.mean(rs))\n",
    "    fss.append(np.mean(fs))"
   ]
  },
  {
   "cell_type": "code",
   "execution_count": 10,
   "metadata": {},
   "outputs": [],
   "source": [
    "np.save(file=\"results/computed/hfc_time_prec.npy\", arr=fss)\n"
   ]
  },
  {
   "cell_type": "code",
   "execution_count": 12,
   "metadata": {},
   "outputs": [
    {
     "data": {
      "text/plain": [
       "Text(0.5, 0, 'Tolerance window [ms]')"
      ]
     },
     "execution_count": 12,
     "metadata": {},
     "output_type": "execute_result"
    },
    {
     "data": {
      "image/png": "[encoded data removed]",
      "text/plain": [
       "<Figure size 432x288 with 1 Axes>"
      ]
     },
     "metadata": {
      "needs_background": "light"
     },
     "output_type": "display_data"
    }
   ],
   "source": [
    "time_prec = np.array([np.load(file=\"results/computed/hfc_time_prec.npy\"),np.load(file=\"results/computed/cnn_time_prec.npy\")])\n",
    "plt.bar(\n",
    "    x=np.arange(10,60,10),\n",
    "    height=time_prec.transpose()[:,0]/0.6948,\n",
    "    align='edge',\n",
    "    width = 2.0\n",
    ")\n",
    "plt.bar(\n",
    "    x=np.arange(10,60,10),\n",
    "    height=time_prec.transpose()[:,1]/0.8692,\n",
    "    width=-2.0,\n",
    "    align='edge'\n",
    ")\n",
    "plt.legend([\"HFC method\", \"CNN method\"], loc=\"lower right\")\n",
    "plt.ylabel(\"F-score relative to 25 ms tolerance w.\")\n",
    "plt.xlabel(\"Tolerance window [ms]\")\n",
    "\n"
   ]
  },
  {
   "cell_type": "code",
   "execution_count": 15,
   "metadata": {},
   "outputs": [
    {
     "data": {
      "text/plain": [
       "array([ 67.63413655,  93.96500603, 101.94686941, 103.9372538 ,\n",
       "       104.71221762])"
      ]
     },
     "execution_count": 15,
     "metadata": {},
     "output_type": "execute_result"
    }
   ],
   "source": [
    "100*time_prec.transpose()[:,1]/0.8692"
   ]
  },
  {
   "cell_type": "code",
   "execution_count": 17,
   "metadata": {},
   "outputs": [
    {
     "name": "stdout",
     "output_type": "stream",
     "text": [
      "\\begin{tabular}{lrrrrr}\n",
      "\\toprule\n",
      "{} &        10 &        20 &        30 &        40 &        50 \\\\\n",
      "\\midrule\n",
      "HFC &  0.389155 &  0.635888 &  0.719824 &  0.730922 &  0.734768 \\\\\n",
      "CNN &  0.587876 &  0.816744 &  0.886122 &  0.903423 &  0.910159 \\\\\n",
      "\\bottomrule\n",
      "\\end{tabular}\n",
      "\n"
     ]
    },
    {
     "name": "stderr",
     "output_type": "stream",
     "text": [
      "/var/folders/hb/mg80hj2s1lqdy7x5r3zdlk0m0000gp/T/ipykernel_14807/1124330622.py:4: FutureWarning: In future versions `DataFrame.to_latex` is expected to utilise the base implementation of `Styler.to_latex` for formatting and rendering. The arguments signature may therefore change. It is recommended instead to use `DataFrame.style.to_latex` which also contains additional functionality.\n",
      "  pd.DataFrame(time_prec,\n"
     ]
    }
   ],
   "source": [
    "import pandas as pd\n",
    "print(\n",
    "    \n",
    "    pd.DataFrame(time_prec,\n",
    "    columns=np.arange(10,60,10),\n",
    "    index=[\"HFC\", \"CNN\"],).to_latex()\n",
    ")"
   ]
  },
  {
   "cell_type": "code",
   "execution_count": 26,
   "metadata": {},
   "outputs": [
    {
     "name": "stdout",
     "output_type": "stream",
     "text": [
      "Total F:  60.42\n",
      "Total P:  74.53\n",
      "Total R:  50.80\n"
     ]
    }
   ],
   "source": [
    "print(\"Total F: \", \"{:.2f}\".format(100*np.sum(CD_list)/(np.sum(CD_list)+.5*(np.sum(FP_list) + np.sum(FN_list)))))\n",
    "print(\"Total P: \", \"{:.2f}\".format(100*np.sum(CD_list)/(np.sum(CD_list)+np.sum(FP_list))))\n",
    "print(\"Total R: \", \"{:.2f}\".format(100*np.sum(CD_list)/(np.sum(CD_list)+np.sum(FN_list))))"
   ]
  },
  {
   "cell_type": "code",
   "execution_count": 15,
   "metadata": {},
   "outputs": [],
   "source": [
    "THRESS = [0.001,0.01,0.05,0.1,0.15,0.2,0.5,0.9]\n",
    "cds = np.zeros((len(THRESS), len(audio_fnames)))\n",
    "fps = np.zeros((len(THRESS), len(audio_fnames)))\n",
    "fns = np.zeros((len(THRESS), len(audio_fnames)))\n",
    "tns = np.zeros((len(THRESS), len(audio_fnames)))"
   ]
  },
  {
   "cell_type": "code",
   "execution_count": 16,
   "metadata": {},
   "outputs": [],
   "source": [
    "positives = np.zeros(len(audios))\n",
    "negatives = np.zeros(len(audios))\n",
    "for a, onsets in enumerate(onset_schedules):\n",
    "    positives[a] = np.sum(onsets)\n",
    "    negatives[a] = len(onsets) - np.sum(onsets)\n",
    "    "
   ]
  },
  {
   "cell_type": "code",
   "execution_count": 17,
   "metadata": {},
   "outputs": [
    {
     "name": "stdout",
     "output_type": "stream",
     "text": [
      "datasets/slurtest_add/slurtest_add_audio/stormhatten_IR2.wav\n",
      "[0.25247971 0.26717557 0.33452808 0.44264943 0.53578732 0.60648148\n",
      " 0.6375     0.15384615]\n",
      "datasets/slurtest_add/slurtest_add_audio/slurtest02_IR1.wav\n",
      "[0.32085561 0.33426184 0.40955631 0.50892857 0.59782609 0.64596273\n",
      " 0.40944882 0.06349206]\n",
      "datasets/slurtest_add/slurtest_add_audio/slurtest01_IR2.wav\n",
      "[0.29722922 0.3060686  0.39322034 0.4806867  0.58241758 0.65384615\n",
      " 0.52380952 0.128     ]\n",
      "datasets/slurtest_add/slurtest_add_audio/slurtest03_FK1.wav\n",
      "[0.31052632 0.32065217 0.39473684 0.48962656 0.61052632 0.66666667\n",
      " 0.58267717 0.09448819]\n",
      "datasets/slurtest_add/slurtest_add_audio/6xtpsg_220319.wav\n",
      "[0.13775934 0.14372294 0.17446809 0.22985075 0.30277186 0.38650307\n",
      " 0.37362637 0.05780347]\n",
      "datasets/slurtest_add/slurtest_add_audio/slurtest04_IR2.wav\n",
      "[0.4137931  0.43902439 0.53932584 0.66055046 0.72820513 0.78212291\n",
      " 0.67096774 0.1986755 ]\n",
      "datasets/slurtest_add/slurtest_add_audio/melodyvib_220319.wav\n",
      "[0.09863725 0.10107817 0.12234494 0.16197183 0.20621931 0.27423168\n",
      " 0.21468927 0.04878049]\n",
      "datasets/slurtest_add/slurtest_add_audio/slurtest09_IR2.wav\n",
      "[0.17980636 0.19202363 0.28384279 0.45454545 0.58447489 0.65968586\n",
      " 0.6056338  0.10218978]\n",
      "datasets/slurtest_add/slurtest_add_audio/janissa_IR2.wav\n",
      "[0.21904762 0.2247557  0.29777778 0.36723164 0.45229682 0.49411765\n",
      " 0.50549451 0.22485207]\n",
      "datasets/slurtest_add/slurtest_add_audio/6xtpsg_220306.wav\n",
      "[0.10693069 0.11088296 0.13781223 0.18028846 0.25402504 0.32904884\n",
      " 0.21111111 0.05714286]\n",
      "datasets/slurtest_add/slurtest_add_audio/slurtest01_FK1.wav\n",
      "[0.32091691 0.33136095 0.40143369 0.49339207 0.54639175 0.63855422\n",
      " 0.54263566 0.16      ]\n",
      "datasets/slurtest_add/slurtest_add_audio/slurtest04_FK1.wav\n",
      "[0.39459459 0.41714286 0.5087108  0.61087866 0.68932039 0.76086957\n",
      " 0.54304636 0.10666667]\n",
      "datasets/slurtest_add/slurtest_add_audio/slurtest01_IR1.wav\n",
      "[0.28009828 0.29381443 0.38283828 0.48275862 0.56842105 0.60606061\n",
      " 0.43410853 0.07874016]\n",
      "datasets/slurtest_add/slurtest_add_audio/63an_start_220306.wav\n",
      "[0.1956242  0.20320856 0.24675325 0.34259259 0.4260355  0.5093633\n",
      " 0.40506329 0.03921569]\n",
      "datasets/slurtest_add/slurtest_add_audio/slurtest08_FK1.wav\n",
      "[0.27761194 0.290625   0.33941606 0.43192488 0.5508982  0.62585034\n",
      " 0.77358491 0.41584158]\n",
      "datasets/slurtest_add/slurtest_add_audio/slurtest03_IR1.wav\n",
      "[0.31343284 0.32291667 0.38853503 0.46774194 0.58883249 0.6547619\n",
      " 0.56923077 0.09302326]\n",
      "datasets/slurtest_add/slurtest_add_audio/stormhatten_IR1.wav\n",
      "[0.23044575 0.24028269 0.31014823 0.41230769 0.52362205 0.60788863\n",
      " 0.59672131 0.1862069 ]\n"
     ]
    }
   ],
   "source": [
    "for a, (fname, audio, onsets, sr) in enumerate(zip(audio_fnames, audios, onset_schedules, sample_rates)):\n",
    "    \n",
    "    for t, THRES in enumerate(THRESS):\n",
    "        spect = proc(fname)\n",
    "        hfc = madmom.features.onsets.high_frequency_content(np.abs(spect))\n",
    "        onehot, out = aubio_peakpicker_do(hfc, threshold=THRES)\n",
    "        peaks = (np.where(onehot==1)[0]-SHIFT)*HOP/sr\n",
    "        [CD,FN,FP,doubles,merged] = evaluate(onsets, peaks, tol_sec=TOL)\n",
    "        cds[t, a] = CD\n",
    "        fps[t, a] = FP\n",
    "        fns[t, a] = FN\n",
    "        tns[t, a] = (len(onehot)-onehot.sum()) - FN\n",
    "    print(fname)\n",
    "    print(cds[:,a]/(cds[:,a]+0.5*fps[:,a]+fns[:,a]))\n"
   ]
  },
  {
   "cell_type": "code",
   "execution_count": 20,
   "metadata": {},
   "outputs": [
    {
     "data": {
      "text/plain": [
       "Text(0, 0.5, 'True positive rate')"
      ]
     },
     "execution_count": 20,
     "metadata": {},
     "output_type": "execute_result"
    },
    {
     "data": {
      "image/png": "[encoded data removed]",
      "text/plain": [
       "<Figure size 432x288 with 1 Axes>"
      ]
     },
     "metadata": {
      "needs_background": "light"
     },
     "output_type": "display_data"
    }
   ],
   "source": [
    "fscores = []\n",
    "WIN_SIZES = [512]\n",
    "for win_size in WIN_SIZES:\n",
    "    cds = np.load(\"results/hfc-eval-220422/hfc_AB_w\"+ str(win_size)+\"_tuning_cds.npy\")\n",
    "    fns = np.load(\"results/hfc-eval-220422/hfc_AB_w\"+ str(win_size)+\"_tuning_fns.npy\")\n",
    "    fps = np.load(\"results/hfc-eval-220422/hfc_AB_w\"+ str(win_size)+\"_tuning_fps.npy\")\n",
    "    tns = np.load(\"results/hfc-eval-220422/hfc_AB_w\"+ str(win_size)+\"_tuning_tns.npy\")\n",
    "    tpr = cds.sum(1)/(cds.sum(1)+fns.sum(1))\n",
    "    fpr = fps.sum(1)/(fps.sum(1)+tns.sum(1))\n",
    "    fscores.append(cds.sum(1)/(cds.sum(1)+0.5*fps.sum(1)+0.5*fns.sum(1)))\n",
    "    plt.plot(fpr, tpr, '-o')\n",
    "    f=cds.sum(1)/(cds.sum(1)+0.5*fps.sum(1)+0.5*fns.sum(1))\n",
    "    for i in range(len(tpr)):\n",
    "        if i==1:\n",
    "            dx=-0.015\n",
    "        elif i==0:\n",
    "            dx=-0.007\n",
    "        else:\n",
    "            dx=0.005\n",
    "        if i==len(tpr)-1:\n",
    "            dy=0.01\n",
    "        elif i==0:\n",
    "            dy=-0.07\n",
    "        elif i==1:\n",
    "            dy=-0.1\n",
    "        else:\n",
    "            dy=-0.05\n",
    "        plt.text(x=fpr[i]+dx, y=tpr[i]+dy, s=\"{}: {:.2f}\".format(str(THRESS[i]),100*f[i]))\n",
    "    plt.arrow(fpr[1]-0.010, tpr[1]-0.055, 0.0040, 0.030, width=0.0001, head_width=0.002)\n",
    "\n",
    "plt.xlabel(\"False positive rate\")\n",
    "plt.ylabel(\"True positive rate\")\n",
    "\n",
    "#plt.legend([\"Frame size \" + str(w) for w in WIN_SIZES])"
   ]
  },
  {
   "cell_type": "code",
   "execution_count": 18,
   "metadata": {},
   "outputs": [
    {
     "name": "stdout",
     "output_type": "stream",
     "text": [
      "\\begin{tabular}{lrrrrrrrr}\n",
      "\\toprule\n",
      "{} &  0.001 &  0.010 &  0.050 &  0.100 &  0.150 &  0.200 &  0.500 &  0.900 \\\\\n",
      "\\midrule\n",
      "256  &  25.27 &  26.27 &  31.98 &  40.85 &  50.13 &  58.58 &  65.58 &  27.20 \\\\\n",
      "512  &  27.37 &  28.76 &  36.35 &  46.96 &  56.14 &  63.32 &  60.30 &  22.24 \\\\\n",
      "1024 &  29.42 &  31.11 &  40.03 &  50.36 &  58.59 &  63.48 &  52.22 &  19.82 \\\\\n",
      "\\bottomrule\n",
      "\\end{tabular}\n",
      "\n"
     ]
    },
    {
     "name": "stderr",
     "output_type": "stream",
     "text": [
      "/var/folders/hb/mg80hj2s1lqdy7x5r3zdlk0m0000gp/T/ipykernel_2930/1535588750.py:2: FutureWarning: In future versions `DataFrame.to_latex` is expected to utilise the base implementation of `Styler.to_latex` for formatting and rendering. The arguments signature may therefore change. It is recommended instead to use `DataFrame.style.to_latex` which also contains additional functionality.\n",
      "  print(pd.DataFrame(\n"
     ]
    }
   ],
   "source": [
    "import pandas as pd\n",
    "print(pd.DataFrame(\n",
    "    100*np.array(fscores),\n",
    "    columns = [0.001,0.01,0.05,0.1,0.15,0.2,0.5,0.9],\n",
    "    index = [256, 512, 1024]\n",
    ").to_latex(float_format=\"%.2f\"))"
   ]
  },
  {
   "cell_type": "code",
   "execution_count": 5,
   "metadata": {},
   "outputs": [
    {
     "ename": "NameError",
     "evalue": "name 'tns' is not defined",
     "output_type": "error",
     "traceback": [
      "\u001b[0;31m---------------------------------------------------------------------------\u001b[0m",
      "\u001b[0;31mNameError\u001b[0m                                 Traceback (most recent call last)",
      "\u001b[1;32m/Users/simonfal/kth-master/exjobb/beyondPianoRoll/hfc-analysis.ipynb Cell 8'\u001b[0m in \u001b[0;36m<cell line: 1>\u001b[0;34m()\u001b[0m\n\u001b[0;32m----> <a href='vscode-notebook-cell:/Users/simonfal/kth-master/exjobb/beyondPianoRoll/hfc-analysis.ipynb#ch0000007?line=0'>1</a>\u001b[0m tns\u001b[39m+\u001b[39mfps\n",
      "\u001b[0;31mNameError\u001b[0m: name 'tns' is not defined"
     ]
    }
   ],
   "source": [
    "fscores"
   ]
  },
  {
   "cell_type": "code",
   "execution_count": 29,
   "metadata": {},
   "outputs": [],
   "source": [
    "np.save(file=\"results/hfc-eval-220422/hfc_AB_w1024_tuning_tns.npy\", arr=tns)"
   ]
  },
  {
   "cell_type": "code",
   "execution_count": null,
   "metadata": {},
   "outputs": [],
   "source": [
    "np.load(file=\"results/hfc-eval-220422/hfc_AB_w512_tuning_tns.npy\")"
   ]
  }
 ],
 "metadata": {
  "interpreter": {
   "hash": "aee8b7b246df8f9039afb4144a1f6fd8d2ca17a180786b69acc140d282b71a49"
  },
  "kernelspec": {
   "display_name": "Python 3.9.10 64-bit",
   "language": "python",
   "name": "python3"
  },
  "language_info": {
   "codemirror_mode": {
    "name": "ipython",
    "version": 3
   },
   "file_extension": ".py",
   "mimetype": "text/x-python",
   "name": "python",
   "nbconvert_exporter": "python",
   "pygments_lexer": "ipython3",
   "version": "3.9.10"
  },
  "orig_nbformat": 4
 },
 "nbformat": 4,
 "nbformat_minor": 2
}
