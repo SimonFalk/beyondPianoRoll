{
 "cells": [
  {
   "cell_type": "code",
   "execution_count": 1,
   "metadata": {},
   "outputs": [],
   "source": [
    "%load_ext autoreload\n",
    "%autoreload 2\n",
    "import numpy as np\n",
    "import madmom\n",
    "import mir_eval\n",
    "from modules.analysis_funcs import aubio_peakpicker_do, aubio_postprocessing\n",
    "from analyze_detection import evaluate\n",
    "\n",
    "from sklearn.metrics import roc_curve\n",
    "import matplotlib.pyplot as plt\n"
   ]
  },
  {
   "cell_type": "code",
   "execution_count": 9,
   "metadata": {},
   "outputs": [
    {
     "name": "stderr",
     "output_type": "stream",
     "text": [
      "/usr/local/lib/python3.9/site-packages/madmom/audio/signal.py:457: UserWarning: Deprecated as of version 0.16. Please use madmom.io.audio.load_wave_file instead. Will be removed in version 0.18.\n",
      "  warnings.warn('Deprecated as of version 0.16. Please use madmom.io.audio.'\n",
      "/usr/local/lib/python3.9/site-packages/madmom/io/audio.py:493: WavFileWarning: Chunk (non-data) not understood, skipping it.\n",
      "  file_sample_rate, signal = wavfile.read(filename, mmap=True)\n"
     ]
    }
   ],
   "source": [
    "from datasets import Dataset\n",
    "ds0 = Dataset(\"initslurtest\")\n",
    "ds1 = Dataset(\"slurtest_add_1\")\n",
    "\n",
    "audio_fnames = ds0.get_audio_paths() + ds1.get_audio_paths()\n",
    "label_fnames = ds0.get_annotation_paths() + ds1.get_annotation_paths()\n",
    "audios = [madmom.audio.signal.load_wave_file(filename)[0] for filename in audio_fnames]\n",
    "sample_rates = [madmom.audio.signal.load_wave_file(filename)[1] for filename in audio_fnames]\n",
    "onset_schedules = [np.loadtxt(label_fname, usecols=0) for label_fname in label_fnames]"
   ]
  },
  {
   "cell_type": "code",
   "execution_count": 15,
   "metadata": {},
   "outputs": [],
   "source": [
    "sigg = madmom.audio.signal.SignalProcessor(num_channels=1)\n",
    "frame = madmom.audio.signal.FramedSignalProcessor(frame_size=512, hop_size=441)\n",
    "stft = madmom.audio.stft.STFTProcessor()\n",
    "proc = madmom.processors.SequentialProcessor([sigg, frame, stft])"
   ]
  },
  {
   "cell_type": "code",
   "execution_count": 11,
   "metadata": {},
   "outputs": [],
   "source": [
    "SHIFT = 5\n",
    "THRES = 0.15\n",
    "TOL = 0.025\n",
    "HOP = 441\n",
    "\n"
   ]
  },
  {
   "cell_type": "code",
   "execution_count": 12,
   "metadata": {},
   "outputs": [],
   "source": [
    "THRESS = [0.001,0.01,0.05,0.1,0.15,0.2,0.5,0.9]\n",
    "cds = np.zeros((len(THRESS), len(audio_fnames)))\n",
    "fps = np.zeros((len(THRESS), len(audio_fnames)))\n",
    "fns = np.zeros((len(THRESS), len(audio_fnames)))\n",
    "tns = np.zeros((len(THRESS), len(audio_fnames)))"
   ]
  },
  {
   "cell_type": "code",
   "execution_count": 17,
   "metadata": {},
   "outputs": [],
   "source": [
    "positives = np.zeros(len(audios))\n",
    "negatives = np.zeros(len(audios))\n",
    "for a, onsets in enumerate(onset_schedules):\n",
    "    positives[a] = np.sum(onsets)\n",
    "    negatives[a] = len(onsets) - np.sum(onsets)\n",
    "    "
   ]
  },
  {
   "cell_type": "code",
   "execution_count": 16,
   "metadata": {},
   "outputs": [
    {
     "name": "stdout",
     "output_type": "stream",
     "text": [
      "datasets/initslurtest_vn/initslurtest_vn_wav/slurtest01.wav\n",
      "[0.39616613 0.41059603 0.52765957 0.62564103 0.73493976 0.84507042\n",
      " 0.625      0.06299213]\n",
      "datasets/initslurtest_vn/initslurtest_vn_wav/slurtest02.wav\n",
      "[0.38538206 0.40277778 0.5        0.60103627 0.69090909 0.72368421\n",
      " 0.64516129 0.17886179]\n",
      "datasets/initslurtest_vn/initslurtest_vn_wav/slurtest03.wav\n",
      "[0.40410959 0.41549296 0.5        0.61780105 0.69005848 0.71698113\n",
      " 0.56923077 0.12903226]\n",
      "datasets/initslurtest_vn/initslurtest_vn_wav/slurtest04.wav\n",
      "[0.52363636 0.54135338 0.60759494 0.68899522 0.73298429 0.75138122\n",
      " 0.5        0.07894737]\n",
      "datasets/initslurtest_vn/initslurtest_vn_wav/slurtest05.wav\n",
      "[0.33616299 0.35357143 0.42888403 0.545961   0.6        0.67407407\n",
      " 0.71028037 0.25490196]\n",
      "datasets/initslurtest_vn/initslurtest_vn_wav/slurtest06.wav\n",
      "[0.65380906 0.6627451  0.69665272 0.71668533 0.71058824 0.68459658\n",
      " 0.42758621 0.11931818]\n",
      "datasets/initslurtest_vn/initslurtest_vn_wav/slurtest07.wav\n",
      "[0.64068441 0.64859632 0.68835257 0.71771429 0.71634615 0.69086358\n",
      " 0.36712329 0.07052186]\n",
      "datasets/initslurtest_vn/initslurtest_vn_wav/slurtest08.wav\n",
      "[0.38241758 0.39816934 0.48484848 0.58085809 0.65413534 0.7016129\n",
      " 0.68341709 0.37696335]\n",
      "datasets/initslurtest_vn/initslurtest_vn_wav/slurtest09.wav\n",
      "[0.22003284 0.23063683 0.31828979 0.4244373  0.55555556 0.64\n",
      " 0.55714286 0.14388489]\n",
      "datasets/initslurtest_vn/initslurtest_vn_wav/slurtest10.wav\n",
      "[0.1231979  0.12789116 0.14358974 0.19230769 0.23076923 0.28699552\n",
      " 0.19298246 0.05660377]\n",
      "datasets/initslurtest_vn/initslurtest_vn_wav/slurtest11.wav\n",
      "[0.11988304 0.12576687 0.14678899 0.20967742 0.2633452  0.33018868\n",
      " 0.33009709 0.06382979]\n",
      "datasets/initslurtest_vn/initslurtest_vn_wav/slurtest12.wav\n",
      "[0.11940299 0.13087935 0.17563739 0.26839827 0.35087719 0.42748092\n",
      " 0.48192771 0.32      ]\n"
     ]
    },
    {
     "name": "stderr",
     "output_type": "stream",
     "text": [
      "/usr/local/lib/python3.9/site-packages/madmom/io/audio.py:493: WavFileWarning: Chunk (non-data) not understood, skipping it.\n",
      "  file_sample_rate, signal = wavfile.read(filename, mmap=True)\n"
     ]
    },
    {
     "name": "stdout",
     "output_type": "stream",
     "text": [
      "datasets/initslurtest_vn/initslurtest_vn_wav/slurtest13.wav\n",
      "[0.20754717 0.22222222 0.28476821 0.3943662  0.50909091 0.6\n",
      " 0.63157895 0.28571429]\n",
      "datasets/initslurtest_vn/initslurtest_vn_wav/slurtest14.wav\n",
      "[0.20773931 0.22077922 0.28571429 0.38059701 0.43518519 0.52380952\n",
      " 0.45217391 0.18181818]\n",
      "datasets/initslurtest_vn/initslurtest_vn_wav/slurtest15.wav\n",
      "[0.35211268 0.36297641 0.43162393 0.51546392 0.59327217 0.66896552\n",
      " 0.5520362  0.27751196]\n",
      "datasets/initslurtest_vn/initslurtest_vn_wav/slurtest16.wav\n",
      "[0.32611833 0.3419062  0.40794224 0.48660714 0.55263158 0.59347181\n",
      " 0.60557769 0.19574468]\n",
      "datasets/initslurtest_vn/initslurtest_vn_wav/slurtest17.wav\n",
      "[0.1681128  0.17775229 0.22173596 0.286      0.33628319 0.3788122\n",
      " 0.26330532 0.06626506]\n",
      "datasets/initslurtest_vn/initslurtest_vn_wav/slurtest18.wav\n",
      "[0.05650858 0.05970149 0.07738095 0.11899314 0.17921147 0.22335025\n",
      " 0.02777778 0.        ]\n",
      "datasets/initslurtest_vn/initslurtest_vn_wav/slurtest19.wav\n",
      "[0.38709677 0.4020202  0.47815534 0.58258258 0.63888889 0.6743738\n",
      " 0.4608076  0.10757946]\n",
      "datasets/slurtest_add/slurtest_add_audio/stormhatten_IR2.wav\n",
      "[0.27805362 0.29386892 0.38292011 0.48736462 0.59009009 0.64160401\n",
      " 0.56493506 0.13377926]\n",
      "datasets/slurtest_add/slurtest_add_audio/slurtest02_IR1.wav\n",
      "[0.35260116 0.36969697 0.4765625  0.55497382 0.64556962 0.66216216\n",
      " 0.37795276 0.032     ]\n",
      "datasets/slurtest_add/slurtest_add_audio/slurtest01_IR2.wav\n",
      "[0.30729167 0.32152589 0.43609023 0.5625     0.64968153 0.69444444\n",
      " 0.47619048 0.064     ]\n",
      "datasets/slurtest_add/slurtest_add_audio/slurtest03_FK1.wav\n",
      "[0.30978261 0.32664756 0.42804428 0.5631068  0.66257669 0.72222222\n",
      " 0.484375   0.04761905]\n",
      "datasets/slurtest_add/slurtest_add_audio/6xtpsg_220319.wav\n",
      "[0.14939309 0.15748031 0.20833333 0.30278884 0.39428571 0.45588235\n",
      " 0.32044199 0.04678363]\n",
      "datasets/slurtest_add/slurtest_add_audio/slurtest04_IR2.wav\n",
      "[0.46056782 0.47868852 0.59259259 0.73195876 0.76923077 0.8045977\n",
      " 0.55128205 0.1589404 ]\n",
      "datasets/slurtest_add/slurtest_add_audio/melodyvib_220319.wav\n",
      "[0.101162   0.10655148 0.1381323  0.1751026  0.23366337 0.27642276\n",
      " 0.16       0.03658537]\n",
      "datasets/slurtest_add/slurtest_add_audio/slurtest09_IR2.wav\n",
      "[0.18867925 0.208      0.34391534 0.53781513 0.64646465 0.72941176\n",
      " 0.45714286 0.02941176]\n",
      "datasets/slurtest_add/slurtest_add_audio/janissa_IR2.wav\n",
      "[0.2295082  0.2443281  0.31775701 0.4047619  0.47482014 0.5203252\n",
      " 0.49450549 0.21428571]\n",
      "datasets/slurtest_add/slurtest_add_audio/6xtpsg_220306.wav\n",
      "[0.12330827 0.12718601 0.17073171 0.24460432 0.33952255 0.42066421\n",
      " 0.15642458 0.03448276]\n",
      "datasets/slurtest_add/slurtest_add_audio/slurtest01_FK1.wav\n",
      "[0.34146341 0.3566879  0.45714286 0.54726368 0.61363636 0.67532468\n",
      " 0.42857143 0.048     ]\n",
      "datasets/slurtest_add/slurtest_add_audio/slurtest04_FK1.wav\n",
      "[0.40896359 0.44108761 0.55938697 0.67298578 0.75824176 0.77456647\n",
      " 0.47682119 0.09333333]\n",
      "datasets/slurtest_add/slurtest_add_audio/slurtest01_IR1.wav\n",
      "[0.31182796 0.33237822 0.43939394 0.51456311 0.58682635 0.6025641\n",
      " 0.3125     0.04724409]\n",
      "datasets/slurtest_add/slurtest_add_audio/63an_start_220306.wav\n",
      "[0.22720478 0.24476651 0.30927835 0.42690058 0.53030303 0.58767773\n",
      " 0.26751592 0.02614379]\n",
      "datasets/slurtest_add/slurtest_add_audio/slurtest08_FK1.wav\n",
      "[0.32982456 0.34750462 0.42272727 0.53488372 0.61744966 0.69961977\n",
      " 0.71497585 0.39215686]\n",
      "datasets/slurtest_add/slurtest_add_audio/slurtest03_IR1.wav\n",
      "[0.32972973 0.33994334 0.45559846 0.60962567 0.65030675 0.66216216\n",
      " 0.39694656 0.04651163]\n",
      "datasets/slurtest_add/slurtest_add_audio/stormhatten_IR1.wav\n",
      "[0.25       0.26588465 0.34816754 0.46478873 0.57977528 0.6443299\n",
      " 0.58666667 0.16608997]\n"
     ]
    }
   ],
   "source": [
    "for a, (fname, audio, onsets, sr) in enumerate(zip(audio_fnames, audios, onset_schedules, sample_rates)):\n",
    "    \n",
    "    for t, THRES in enumerate(THRESS):\n",
    "        spect = proc(fname)\n",
    "        hfc = madmom.features.onsets.high_frequency_content(np.abs(spect))\n",
    "        onehot, out = aubio_peakpicker_do(hfc, threshold=THRES)\n",
    "        peaks = (np.where(onehot==1)[0]-SHIFT)*HOP/sr\n",
    "        [CD,FN,FP,doubles,merged] = evaluate(onsets, peaks, tol_sec=TOL)\n",
    "        cds[t, a] = CD\n",
    "        fps[t, a] = FP\n",
    "        fns[t, a] = FN\n",
    "        tns[t, a] = (len(onehot)-onehot.sum()) - FN\n",
    "    print(fname)\n",
    "    print(cds[:,a]/(cds[:,a]+0.5*fps[:,a]+fns[:,a]))\n"
   ]
  },
  {
   "cell_type": "code",
   "execution_count": 4,
   "metadata": {},
   "outputs": [
    {
     "ename": "NameError",
     "evalue": "name 'tns' is not defined",
     "output_type": "error",
     "traceback": [
      "\u001b[0;31m---------------------------------------------------------------------------\u001b[0m",
      "\u001b[0;31mNameError\u001b[0m                                 Traceback (most recent call last)",
      "\u001b[1;32m/Users/simonfal/kth-master/exjobb/beyondPianoRoll/hfc-analysis.ipynb Cell 7'\u001b[0m in \u001b[0;36m<cell line: 1>\u001b[0;34m()\u001b[0m\n\u001b[1;32m      <a href='vscode-notebook-cell:/Users/simonfal/kth-master/exjobb/beyondPianoRoll/hfc-analysis.ipynb#ch0000006?line=3'>4</a>\u001b[0m fps \u001b[39m=\u001b[39m np\u001b[39m.\u001b[39mload(\u001b[39m\"\u001b[39m\u001b[39mresults/hfc-eval-220422/hfc_AB_w\u001b[39m\u001b[39m\"\u001b[39m\u001b[39m+\u001b[39m \u001b[39mstr\u001b[39m(win_size)\u001b[39m+\u001b[39m\u001b[39m\"\u001b[39m\u001b[39m_tuning_fps.npy\u001b[39m\u001b[39m\"\u001b[39m)\n\u001b[1;32m      <a href='vscode-notebook-cell:/Users/simonfal/kth-master/exjobb/beyondPianoRoll/hfc-analysis.ipynb#ch0000006?line=4'>5</a>\u001b[0m tpr \u001b[39m=\u001b[39m cds\u001b[39m.\u001b[39msum(\u001b[39m1\u001b[39m)\u001b[39m/\u001b[39m(cds\u001b[39m.\u001b[39msum(\u001b[39m1\u001b[39m)\u001b[39m+\u001b[39mfns\u001b[39m.\u001b[39msum(\u001b[39m1\u001b[39m))\n\u001b[0;32m----> <a href='vscode-notebook-cell:/Users/simonfal/kth-master/exjobb/beyondPianoRoll/hfc-analysis.ipynb#ch0000006?line=5'>6</a>\u001b[0m fpr \u001b[39m=\u001b[39m fps\u001b[39m.\u001b[39msum(\u001b[39m1\u001b[39m)\u001b[39m/\u001b[39m(fps\u001b[39m.\u001b[39msum(\u001b[39m1\u001b[39m)\u001b[39m+\u001b[39mtns\u001b[39m.\u001b[39msum(\u001b[39m1\u001b[39m))\n\u001b[1;32m      <a href='vscode-notebook-cell:/Users/simonfal/kth-master/exjobb/beyondPianoRoll/hfc-analysis.ipynb#ch0000006?line=6'>7</a>\u001b[0m fscores \u001b[39m=\u001b[39m cds\u001b[39m.\u001b[39msum(\u001b[39m1\u001b[39m)\u001b[39m/\u001b[39m(cds\u001b[39m.\u001b[39msum(\u001b[39m1\u001b[39m)\u001b[39m+\u001b[39m\u001b[39m0.5\u001b[39m\u001b[39m*\u001b[39mfps\u001b[39m.\u001b[39msum(\u001b[39m1\u001b[39m)\u001b[39m+\u001b[39m\u001b[39m0.5\u001b[39m\u001b[39m*\u001b[39mfns\u001b[39m.\u001b[39msum(\u001b[39m1\u001b[39m))\n\u001b[1;32m      <a href='vscode-notebook-cell:/Users/simonfal/kth-master/exjobb/beyondPianoRoll/hfc-analysis.ipynb#ch0000006?line=7'>8</a>\u001b[0m plt\u001b[39m.\u001b[39mplot(fpr, tpr, \u001b[39m'\u001b[39m\u001b[39m-o\u001b[39m\u001b[39m'\u001b[39m)\n",
      "\u001b[0;31mNameError\u001b[0m: name 'tns' is not defined"
     ]
    }
   ],
   "source": [
    "for win_size in [256, 512, 1024]:\n",
    "    cds = np.load(\"results/hfc-eval-220422/hfc_AB_w\"+ str(win_size)+\"_tuning_cds.npy\")\n",
    "    fns = np.load(\"results/hfc-eval-220422/hfc_AB_w\"+ str(win_size)+\"_tuning_fns.npy\")\n",
    "    fps = np.load(\"results/hfc-eval-220422/hfc_AB_w\"+ str(win_size)+\"_tuning_fps.npy\")\n",
    "    tpr = cds.sum(1)/(cds.sum(1)+fns.sum(1))\n",
    "    fpr = fps.sum(1)/(fps.sum(1)+tns.sum(1))\n",
    "    fscores = cds.sum(1)/(cds.sum(1)+0.5*fps.sum(1)+0.5*fns.sum(1))\n",
    "    plt.plot(fpr, tpr, '-o')\n",
    "plt.show()\n"
   ]
  },
  {
   "cell_type": "code",
   "execution_count": 5,
   "metadata": {},
   "outputs": [
    {
     "ename": "NameError",
     "evalue": "name 'tns' is not defined",
     "output_type": "error",
     "traceback": [
      "\u001b[0;31m---------------------------------------------------------------------------\u001b[0m",
      "\u001b[0;31mNameError\u001b[0m                                 Traceback (most recent call last)",
      "\u001b[1;32m/Users/simonfal/kth-master/exjobb/beyondPianoRoll/hfc-analysis.ipynb Cell 8'\u001b[0m in \u001b[0;36m<cell line: 1>\u001b[0;34m()\u001b[0m\n\u001b[0;32m----> <a href='vscode-notebook-cell:/Users/simonfal/kth-master/exjobb/beyondPianoRoll/hfc-analysis.ipynb#ch0000007?line=0'>1</a>\u001b[0m tns\u001b[39m+\u001b[39mfps\n",
      "\u001b[0;31mNameError\u001b[0m: name 'tns' is not defined"
     ]
    }
   ],
   "source": [
    "fscores"
   ]
  },
  {
   "cell_type": "code",
   "execution_count": 14,
   "metadata": {},
   "outputs": [],
   "source": [
    "np.save(file=\"results/hfc-eval-220422/hfc_AB_w512_tuning_tns.npy\", arr=fns)"
   ]
  },
  {
   "cell_type": "code",
   "execution_count": null,
   "metadata": {},
   "outputs": [],
   "source": []
  }
 ],
 "metadata": {
  "interpreter": {
   "hash": "aee8b7b246df8f9039afb4144a1f6fd8d2ca17a180786b69acc140d282b71a49"
  },
  "kernelspec": {
   "display_name": "Python 3.9.10 64-bit",
   "language": "python",
   "name": "python3"
  },
  "language_info": {
   "codemirror_mode": {
    "name": "ipython",
    "version": 3
   },
   "file_extension": ".py",
   "mimetype": "text/x-python",
   "name": "python",
   "nbconvert_exporter": "python",
   "pygments_lexer": "ipython3",
   "version": "3.9.10"
  },
  "orig_nbformat": 4
 },
 "nbformat": 4,
 "nbformat_minor": 2
}
