{
 "cells": [
  {
   "cell_type": "code",
   "execution_count": 1,
   "metadata": {},
   "outputs": [
    {
     "name": "stdout",
     "output_type": "stream",
     "text": [
      "2.8.0\n"
     ]
    }
   ],
   "source": [
    "# TensorFlow and tf.keras\n",
    "import tensorflow as tf\n",
    "\n",
    "# Helper libraries\n",
    "import numpy as np\n",
    "import matplotlib.pyplot as plt\n",
    "from sklearn.model_selection import train_test_split\n",
    "\n",
    "print(tf.__version__)\n"
   ]
  },
  {
   "cell_type": "code",
   "execution_count": 2,
   "metadata": {},
   "outputs": [
    {
     "name": "stdout",
     "output_type": "stream",
     "text": [
      "Downloading data from https://storage.googleapis.com/tensorflow/tf-keras-datasets/train-labels-idx1-ubyte.gz\n",
      "32768/29515 [=================================] - 0s 0us/step\n",
      "40960/29515 [=========================================] - 0s 0us/step\n",
      "Downloading data from https://storage.googleapis.com/tensorflow/tf-keras-datasets/train-images-idx3-ubyte.gz\n",
      "26427392/26421880 [==============================] - 2s 0us/step\n",
      "26435584/26421880 [==============================] - 2s 0us/step\n",
      "Downloading data from https://storage.googleapis.com/tensorflow/tf-keras-datasets/t10k-labels-idx1-ubyte.gz\n",
      "16384/5148 [===============================================================================================] - 0s 0us/step\n",
      "Downloading data from https://storage.googleapis.com/tensorflow/tf-keras-datasets/t10k-images-idx3-ubyte.gz\n",
      "4423680/4422102 [==============================] - 0s 0us/step\n",
      "4431872/4422102 [==============================] - 0s 0us/step\n"
     ]
    }
   ],
   "source": [
    "fashion_mnist = tf.keras.datasets.fashion_mnist\n",
    "(train_images, train_labels), (test_images, test_labels) = fashion_mnist.load_data()\n",
    "(train_images, val_images, train_labels, val_labels) = train_test_split(train_images, train_labels, test_size=0.33, random_state=42)\n"
   ]
  },
  {
   "cell_type": "code",
   "execution_count": 3,
   "metadata": {},
   "outputs": [],
   "source": [
    "class_names = ['T-shirt/top', 'Trouser', 'Pullover', 'Dress', 'Coat',\n",
    "               'Sandal', 'Shirt', 'Sneaker', 'Bag', 'Ankle boot']\n"
   ]
  },
  {
   "cell_type": "code",
   "execution_count": 9,
   "metadata": {},
   "outputs": [],
   "source": [
    "# Preprocess both train and test\n",
    "train_images = train_images / 255.0\n",
    "val_images = val_images /255.0\n",
    "test_images = test_images / 255.0\n"
   ]
  },
  {
   "cell_type": "code",
   "execution_count": 10,
   "metadata": {},
   "outputs": [
    {
     "name": "stderr",
     "output_type": "stream",
     "text": [
      "2022-04-23 15:45:08.959606: I tensorflow/stream_executor/cuda/cuda_gpu_executor.cc:936] successful NUMA node read from SysFS had negative value (-1), but there must be at least one NUMA node, so returning NUMA node zero\n",
      "2022-04-23 15:45:08.963906: I tensorflow/stream_executor/cuda/cuda_gpu_executor.cc:936] successful NUMA node read from SysFS had negative value (-1), but there must be at least one NUMA node, so returning NUMA node zero\n",
      "2022-04-23 15:45:08.964246: I tensorflow/stream_executor/cuda/cuda_gpu_executor.cc:936] successful NUMA node read from SysFS had negative value (-1), but there must be at least one NUMA node, so returning NUMA node zero\n",
      "2022-04-23 15:45:08.965161: I tensorflow/core/platform/cpu_feature_guard.cc:151] This TensorFlow binary is optimized with oneAPI Deep Neural Network Library (oneDNN) to use the following CPU instructions in performance-critical operations:  AVX2 FMA\n",
      "To enable them in other operations, rebuild TensorFlow with the appropriate compiler flags.\n",
      "2022-04-23 15:45:08.965496: I tensorflow/stream_executor/cuda/cuda_gpu_executor.cc:936] successful NUMA node read from SysFS had negative value (-1), but there must be at least one NUMA node, so returning NUMA node zero\n",
      "2022-04-23 15:45:08.965814: I tensorflow/stream_executor/cuda/cuda_gpu_executor.cc:936] successful NUMA node read from SysFS had negative value (-1), but there must be at least one NUMA node, so returning NUMA node zero\n",
      "2022-04-23 15:45:08.966095: I tensorflow/stream_executor/cuda/cuda_gpu_executor.cc:936] successful NUMA node read from SysFS had negative value (-1), but there must be at least one NUMA node, so returning NUMA node zero\n",
      "2022-04-23 15:45:09.330763: I tensorflow/stream_executor/cuda/cuda_gpu_executor.cc:936] successful NUMA node read from SysFS had negative value (-1), but there must be at least one NUMA node, so returning NUMA node zero\n",
      "2022-04-23 15:45:09.331172: I tensorflow/stream_executor/cuda/cuda_gpu_executor.cc:936] successful NUMA node read from SysFS had negative value (-1), but there must be at least one NUMA node, so returning NUMA node zero\n",
      "2022-04-23 15:45:09.331484: I tensorflow/stream_executor/cuda/cuda_gpu_executor.cc:936] successful NUMA node read from SysFS had negative value (-1), but there must be at least one NUMA node, so returning NUMA node zero\n",
      "2022-04-23 15:45:09.331746: I tensorflow/core/common_runtime/gpu/gpu_device.cc:1525] Created device /job:localhost/replica:0/task:0/device:GPU:0 with 6682 MB memory:  -> device: 0, name: NVIDIA GeForce GTX 1080, pci bus id: 0000:01:00.0, compute capability: 6.1\n"
     ]
    }
   ],
   "source": [
    "model = tf.keras.Sequential([\n",
    "    tf.keras.layers.Flatten(input_shape=(28, 28)),\n",
    "    tf.keras.layers.Dense(128, activation='relu'),\n",
    "    tf.keras.layers.Dense(1, activation='sigmoid')\n",
    "])"
   ]
  },
  {
   "cell_type": "code",
   "execution_count": 11,
   "metadata": {},
   "outputs": [
    {
     "name": "stdout",
     "output_type": "stream",
     "text": [
      "Model: \"sequential\"\n",
      "_________________________________________________________________\n",
      " Layer (type)                Output Shape              Param #   \n",
      "=================================================================\n",
      " flatten (Flatten)           (None, 784)               0         \n",
      "                                                                 \n",
      " dense (Dense)               (None, 128)               100480    \n",
      "                                                                 \n",
      " dense_1 (Dense)             (None, 1)                 129       \n",
      "                                                                 \n",
      "=================================================================\n",
      "Total params: 100,609\n",
      "Trainable params: 100,609\n",
      "Non-trainable params: 0\n",
      "_________________________________________________________________\n"
     ]
    }
   ],
   "source": [
    "model.summary()"
   ]
  },
  {
   "cell_type": "code",
   "execution_count": 12,
   "metadata": {},
   "outputs": [],
   "source": [
    "model.compile(optimizer='adam',\n",
    "              loss=tf.keras.losses.BinaryCrossentropy(from_logits=False),\n",
    "              metrics=['accuracy']\n",
    ")\n",
    "\n"
   ]
  },
  {
   "cell_type": "code",
   "execution_count": 24,
   "metadata": {},
   "outputs": [],
   "source": [
    "import os\n",
    "checkpoint_path = \"results/cnn-training-220423/cp-{epoch:04d}.ckpt\"\n",
    "checkpoint_dir = os.path.dirname(checkpoint_path)\n",
    "\n",
    "cp_callback = tf.keras.callbacks.ModelCheckpoint(filepath=checkpoint_path,\n",
    "                                                 save_weights_only=True,\n",
    "                                                 save_freq=3*32,\n",
    "                                                 verbose=1\n",
    ")\n"
   ]
  },
  {
   "cell_type": "code",
   "execution_count": 25,
   "metadata": {},
   "outputs": [
    {
     "name": "stdout",
     "output_type": "stream",
     "text": [
      "Epoch 1/10\n",
      "  89/1257 [=>............................] - ETA: 2s - loss: 0.0584 - accuracy: 0.9726\n",
      "Epoch 1: saving model to results/cnn-training-220423/cp-0001.ckpt\n",
      " 180/1257 [===>..........................] - ETA: 1s - loss: 0.0603 - accuracy: 0.9727\n",
      "Epoch 1: saving model to results/cnn-training-220423/cp-0001.ckpt\n",
      " 268/1257 [=====>........................] - ETA: 1s - loss: 0.0606 - accuracy: 0.9735\n",
      "Epoch 1: saving model to results/cnn-training-220423/cp-0001.ckpt\n",
      " 353/1257 [=======>......................] - ETA: 1s - loss: 0.0596 - accuracy: 0.9738\n",
      "Epoch 1: saving model to results/cnn-training-220423/cp-0001.ckpt\n",
      " 476/1257 [==========>...................] - ETA: 1s - loss: 0.0588 - accuracy: 0.9751\n",
      "Epoch 1: saving model to results/cnn-training-220423/cp-0001.ckpt\n",
      " 562/1257 [============>.................] - ETA: 1s - loss: 0.0596 - accuracy: 0.9750\n",
      "Epoch 1: saving model to results/cnn-training-220423/cp-0001.ckpt\n",
      " 650/1257 [==============>...............] - ETA: 1s - loss: 0.0592 - accuracy: 0.9755\n",
      "Epoch 1: saving model to results/cnn-training-220423/cp-0001.ckpt\n",
      " 740/1257 [================>.............] - ETA: 0s - loss: 0.0598 - accuracy: 0.9752\n",
      "Epoch 1: saving model to results/cnn-training-220423/cp-0001.ckpt\n",
      " 860/1257 [===================>..........] - ETA: 0s - loss: 0.0609 - accuracy: 0.9746\n",
      "Epoch 1: saving model to results/cnn-training-220423/cp-0001.ckpt\n",
      " 948/1257 [=====================>........] - ETA: 0s - loss: 0.0606 - accuracy: 0.9747\n",
      "Epoch 1: saving model to results/cnn-training-220423/cp-0001.ckpt\n",
      "1038/1257 [=======================>......] - ETA: 0s - loss: 0.0605 - accuracy: 0.9748\n",
      "Epoch 1: saving model to results/cnn-training-220423/cp-0001.ckpt\n",
      "1126/1257 [=========================>....] - ETA: 0s - loss: 0.0599 - accuracy: 0.9752\n",
      "Epoch 1: saving model to results/cnn-training-220423/cp-0001.ckpt\n",
      "1243/1257 [============================>.] - ETA: 0s - loss: 0.0597 - accuracy: 0.9751\n",
      "Epoch 1: saving model to results/cnn-training-220423/cp-0001.ckpt\n",
      "1257/1257 [==============================] - 3s 2ms/step - loss: 0.0597 - accuracy: 0.9750 - val_loss: 0.0882 - val_accuracy: 0.9637\n",
      "Epoch 2/10\n",
      "  62/1257 [>.............................] - ETA: 1s - loss: 0.0671 - accuracy: 0.9748\n",
      "Epoch 2: saving model to results/cnn-training-220423/cp-0002.ckpt\n",
      " 181/1257 [===>..........................] - ETA: 1s - loss: 0.0577 - accuracy: 0.9757\n",
      "Epoch 2: saving model to results/cnn-training-220423/cp-0002.ckpt\n",
      " 267/1257 [=====>........................] - ETA: 1s - loss: 0.0607 - accuracy: 0.9745\n",
      "Epoch 2: saving model to results/cnn-training-220423/cp-0002.ckpt\n",
      " 353/1257 [=======>......................] - ETA: 1s - loss: 0.0609 - accuracy: 0.9749\n",
      "Epoch 2: saving model to results/cnn-training-220423/cp-0002.ckpt\n",
      " 442/1257 [=========>....................] - ETA: 1s - loss: 0.0604 - accuracy: 0.9750\n",
      "Epoch 2: saving model to results/cnn-training-220423/cp-0002.ckpt\n",
      " 552/1257 [============>.................] - ETA: 1s - loss: 0.0603 - accuracy: 0.9745\n",
      "Epoch 2: saving model to results/cnn-training-220423/cp-0002.ckpt\n",
      " 628/1257 [=============>................] - ETA: 1s - loss: 0.0607 - accuracy: 0.9743\n",
      "Epoch 2: saving model to results/cnn-training-220423/cp-0002.ckpt\n",
      " 736/1257 [================>.............] - ETA: 0s - loss: 0.0601 - accuracy: 0.9746\n",
      "Epoch 2: saving model to results/cnn-training-220423/cp-0002.ckpt\n",
      " 849/1257 [===================>..........] - ETA: 0s - loss: 0.0599 - accuracy: 0.9749\n",
      "Epoch 2: saving model to results/cnn-training-220423/cp-0002.ckpt\n",
      " 928/1257 [=====================>........] - ETA: 0s - loss: 0.0592 - accuracy: 0.9750\n",
      "Epoch 2: saving model to results/cnn-training-220423/cp-0002.ckpt\n",
      "1046/1257 [=======================>......] - ETA: 0s - loss: 0.0587 - accuracy: 0.9753\n",
      "Epoch 2: saving model to results/cnn-training-220423/cp-0002.ckpt\n",
      "1122/1257 [=========================>....] - ETA: 0s - loss: 0.0589 - accuracy: 0.9755\n",
      "Epoch 2: saving model to results/cnn-training-220423/cp-0002.ckpt\n",
      "1232/1257 [============================>.] - ETA: 0s - loss: 0.0588 - accuracy: 0.9755\n",
      "Epoch 2: saving model to results/cnn-training-220423/cp-0002.ckpt\n",
      "1257/1257 [==============================] - 2s 2ms/step - loss: 0.0587 - accuracy: 0.9755 - val_loss: 0.0846 - val_accuracy: 0.9683\n",
      "Epoch 3/10\n",
      "  43/1257 [>.............................] - ETA: 1s - loss: 0.0605 - accuracy: 0.9746    \n",
      "Epoch 3: saving model to results/cnn-training-220423/cp-0003.ckpt\n",
      " 155/1257 [==>...........................] - ETA: 1s - loss: 0.0579 - accuracy: 0.9730\n",
      "Epoch 3: saving model to results/cnn-training-220423/cp-0003.ckpt\n",
      " 266/1257 [=====>........................] - ETA: 1s - loss: 0.0525 - accuracy: 0.9774\n",
      "Epoch 3: saving model to results/cnn-training-220423/cp-0003.ckpt\n",
      " 337/1257 [=======>......................] - ETA: 1s - loss: 0.0531 - accuracy: 0.9774\n",
      "Epoch 3: saving model to results/cnn-training-220423/cp-0003.ckpt\n",
      " 449/1257 [=========>....................] - ETA: 1s - loss: 0.0547 - accuracy: 0.9763\n",
      "Epoch 3: saving model to results/cnn-training-220423/cp-0003.ckpt\n",
      " 519/1257 [===========>..................] - ETA: 1s - loss: 0.0553 - accuracy: 0.9764\n",
      "Epoch 3: saving model to results/cnn-training-220423/cp-0003.ckpt\n",
      " 635/1257 [==============>...............] - ETA: 0s - loss: 0.0550 - accuracy: 0.9770\n",
      "Epoch 3: saving model to results/cnn-training-220423/cp-0003.ckpt\n",
      " 712/1257 [===============>..............] - ETA: 0s - loss: 0.0558 - accuracy: 0.9764\n",
      "Epoch 3: saving model to results/cnn-training-220423/cp-0003.ckpt\n",
      " 830/1257 [==================>...........] - ETA: 0s - loss: 0.0566 - accuracy: 0.9763\n",
      "Epoch 3: saving model to results/cnn-training-220423/cp-0003.ckpt\n",
      " 908/1257 [====================>.........] - ETA: 0s - loss: 0.0566 - accuracy: 0.9761\n",
      "Epoch 3: saving model to results/cnn-training-220423/cp-0003.ckpt\n",
      "1032/1257 [=======================>......] - ETA: 0s - loss: 0.0565 - accuracy: 0.9761\n",
      "Epoch 3: saving model to results/cnn-training-220423/cp-0003.ckpt\n",
      "1109/1257 [=========================>....] - ETA: 0s - loss: 0.0560 - accuracy: 0.9761\n",
      "Epoch 3: saving model to results/cnn-training-220423/cp-0003.ckpt\n",
      "1226/1257 [============================>.] - ETA: 0s - loss: 0.0568 - accuracy: 0.9758\n",
      "Epoch 3: saving model to results/cnn-training-220423/cp-0003.ckpt\n",
      "1257/1257 [==============================] - 2s 2ms/step - loss: 0.0565 - accuracy: 0.9758 - val_loss: 0.0931 - val_accuracy: 0.9638\n",
      "Epoch 4/10\n",
      "  63/1257 [>.............................] - ETA: 1s - loss: 0.0568 - accuracy: 0.9812\n",
      "Epoch 4: saving model to results/cnn-training-220423/cp-0004.ckpt\n",
      " 150/1257 [==>...........................] - ETA: 1s - loss: 0.0519 - accuracy: 0.9808\n",
      "Epoch 4: saving model to results/cnn-training-220423/cp-0004.ckpt\n",
      " 232/1257 [====>.........................] - ETA: 1s - loss: 0.0536 - accuracy: 0.9783\n",
      "Epoch 4: saving model to results/cnn-training-220423/cp-0004.ckpt\n",
      " 353/1257 [=======>......................] - ETA: 1s - loss: 0.0554 - accuracy: 0.9777\n",
      "Epoch 4: saving model to results/cnn-training-220423/cp-0004.ckpt\n",
      " 439/1257 [=========>....................] - ETA: 1s - loss: 0.0561 - accuracy: 0.9770\n",
      "Epoch 4: saving model to results/cnn-training-220423/cp-0004.ckpt\n",
      " 525/1257 [===========>..................] - ETA: 1s - loss: 0.0555 - accuracy: 0.9774\n",
      "Epoch 4: saving model to results/cnn-training-220423/cp-0004.ckpt\n",
      " 643/1257 [==============>...............] - ETA: 1s - loss: 0.0555 - accuracy: 0.9773\n",
      "Epoch 4: saving model to results/cnn-training-220423/cp-0004.ckpt\n",
      " 727/1257 [================>.............] - ETA: 0s - loss: 0.0554 - accuracy: 0.9772\n",
      "Epoch 4: saving model to results/cnn-training-220423/cp-0004.ckpt\n",
      " 814/1257 [==================>...........] - ETA: 0s - loss: 0.0561 - accuracy: 0.9768\n",
      "Epoch 4: saving model to results/cnn-training-220423/cp-0004.ckpt\n",
      " 932/1257 [=====================>........] - ETA: 0s - loss: 0.0563 - accuracy: 0.9764\n",
      "Epoch 4: saving model to results/cnn-training-220423/cp-0004.ckpt\n",
      "1021/1257 [=======================>......] - ETA: 0s - loss: 0.0564 - accuracy: 0.9761\n",
      "Epoch 4: saving model to results/cnn-training-220423/cp-0004.ckpt\n",
      "1104/1257 [=========================>....] - ETA: 0s - loss: 0.0561 - accuracy: 0.9763\n",
      "Epoch 4: saving model to results/cnn-training-220423/cp-0004.ckpt\n",
      "1219/1257 [============================>.] - ETA: 0s - loss: 0.0550 - accuracy: 0.9769\n",
      "Epoch 4: saving model to results/cnn-training-220423/cp-0004.ckpt\n",
      "1257/1257 [==============================] - 3s 2ms/step - loss: 0.0550 - accuracy: 0.9768 - val_loss: 0.0967 - val_accuracy: 0.9640\n",
      "Epoch 5/10\n",
      "  33/1257 [..............................] - ETA: 1s - loss: 0.0592 - accuracy: 0.9773\n",
      "Epoch 5: saving model to results/cnn-training-220423/cp-0005.ckpt\n",
      " 150/1257 [==>...........................] - ETA: 1s - loss: 0.0532 - accuracy: 0.9777\n",
      "Epoch 5: saving model to results/cnn-training-220423/cp-0005.ckpt\n",
      " 236/1257 [====>.........................] - ETA: 1s - loss: 0.0576 - accuracy: 0.9754\n",
      "Epoch 5: saving model to results/cnn-training-220423/cp-0005.ckpt\n",
      " 325/1257 [======>.......................] - ETA: 1s - loss: 0.0559 - accuracy: 0.9764\n",
      "Epoch 5: saving model to results/cnn-training-220423/cp-0005.ckpt\n",
      " 441/1257 [=========>....................] - ETA: 1s - loss: 0.0538 - accuracy: 0.9779\n",
      "Epoch 5: saving model to results/cnn-training-220423/cp-0005.ckpt\n",
      " 528/1257 [===========>..................] - ETA: 1s - loss: 0.0535 - accuracy: 0.9778\n",
      "Epoch 5: saving model to results/cnn-training-220423/cp-0005.ckpt\n",
      " 614/1257 [=============>................] - ETA: 1s - loss: 0.0535 - accuracy: 0.9777\n",
      "Epoch 5: saving model to results/cnn-training-220423/cp-0005.ckpt\n",
      " 730/1257 [================>.............] - ETA: 0s - loss: 0.0540 - accuracy: 0.9775\n",
      "Epoch 5: saving model to results/cnn-training-220423/cp-0005.ckpt\n",
      " 816/1257 [==================>...........] - ETA: 0s - loss: 0.0531 - accuracy: 0.9782\n",
      "Epoch 5: saving model to results/cnn-training-220423/cp-0005.ckpt\n",
      " 902/1257 [====================>.........] - ETA: 0s - loss: 0.0526 - accuracy: 0.9783\n",
      "Epoch 5: saving model to results/cnn-training-220423/cp-0005.ckpt\n",
      " 995/1257 [======================>.......] - ETA: 0s - loss: 0.0529 - accuracy: 0.9782\n",
      "Epoch 5: saving model to results/cnn-training-220423/cp-0005.ckpt\n",
      "1113/1257 [=========================>....] - ETA: 0s - loss: 0.0540 - accuracy: 0.9776\n",
      "Epoch 5: saving model to results/cnn-training-220423/cp-0005.ckpt\n",
      "1200/1257 [===========================>..] - ETA: 0s - loss: 0.0537 - accuracy: 0.9778\n",
      "Epoch 5: saving model to results/cnn-training-220423/cp-0005.ckpt\n",
      "1257/1257 [==============================] - 3s 2ms/step - loss: 0.0539 - accuracy: 0.9776 - val_loss: 0.0821 - val_accuracy: 0.9683\n",
      "Epoch 6/10\n",
      "  34/1257 [..............................] - ETA: 1s - loss: 0.0419 - accuracy: 0.9779\n",
      "Epoch 6: saving model to results/cnn-training-220423/cp-0006.ckpt\n",
      " 124/1257 [=>............................] - ETA: 1s - loss: 0.0499 - accuracy: 0.9773\n",
      "Epoch 6: saving model to results/cnn-training-220423/cp-0006.ckpt\n",
      " 215/1257 [====>.........................] - ETA: 1s - loss: 0.0505 - accuracy: 0.9779\n",
      "Epoch 6: saving model to results/cnn-training-220423/cp-0006.ckpt\n",
      " 335/1257 [======>.......................] - ETA: 1s - loss: 0.0499 - accuracy: 0.9781\n",
      "Epoch 6: saving model to results/cnn-training-220423/cp-0006.ckpt\n",
      " 427/1257 [=========>....................] - ETA: 1s - loss: 0.0511 - accuracy: 0.9780\n",
      "Epoch 6: saving model to results/cnn-training-220423/cp-0006.ckpt\n",
      " 514/1257 [===========>..................] - ETA: 1s - loss: 0.0524 - accuracy: 0.9773\n",
      "Epoch 6: saving model to results/cnn-training-220423/cp-0006.ckpt\n",
      " 538/1257 [===========>..................] - ETA: 1s - loss: 0.0523 - accuracy: 0.9775"
     ]
    },
    {
     "ename": "KeyboardInterrupt",
     "evalue": "",
     "output_type": "error",
     "traceback": [
      "\u001b[0;31m---------------------------------------------------------------------------\u001b[0m",
      "\u001b[0;31mKeyboardInterrupt\u001b[0m                         Traceback (most recent call last)",
      "\u001b[1;32m/home/simonf/beyondPianoRoll/tf-tutorial-1.ipynb Cell 9'\u001b[0m in \u001b[0;36m<cell line: 1>\u001b[0;34m()\u001b[0m\n\u001b[0;32m----> <a href='vscode-notebook-cell://ssh-remote%2B130.237.67.120/home/simonf/beyondPianoRoll/tf-tutorial-1.ipynb#ch0000015vscode-remote?line=0'>1</a>\u001b[0m model\u001b[39m.\u001b[39;49mfit(\n\u001b[1;32m      <a href='vscode-notebook-cell://ssh-remote%2B130.237.67.120/home/simonf/beyondPianoRoll/tf-tutorial-1.ipynb#ch0000015vscode-remote?line=1'>2</a>\u001b[0m     train_images, \n\u001b[1;32m      <a href='vscode-notebook-cell://ssh-remote%2B130.237.67.120/home/simonf/beyondPianoRoll/tf-tutorial-1.ipynb#ch0000015vscode-remote?line=2'>3</a>\u001b[0m     train_labels, \n\u001b[1;32m      <a href='vscode-notebook-cell://ssh-remote%2B130.237.67.120/home/simonf/beyondPianoRoll/tf-tutorial-1.ipynb#ch0000015vscode-remote?line=3'>4</a>\u001b[0m     batch_size \u001b[39m=\u001b[39;49m \u001b[39m32\u001b[39;49m,\n\u001b[1;32m      <a href='vscode-notebook-cell://ssh-remote%2B130.237.67.120/home/simonf/beyondPianoRoll/tf-tutorial-1.ipynb#ch0000015vscode-remote?line=4'>5</a>\u001b[0m     validation_data\u001b[39m=\u001b[39;49m(val_images, val_labels), \n\u001b[1;32m      <a href='vscode-notebook-cell://ssh-remote%2B130.237.67.120/home/simonf/beyondPianoRoll/tf-tutorial-1.ipynb#ch0000015vscode-remote?line=5'>6</a>\u001b[0m     epochs\u001b[39m=\u001b[39;49m\u001b[39m10\u001b[39;49m,\n\u001b[1;32m      <a href='vscode-notebook-cell://ssh-remote%2B130.237.67.120/home/simonf/beyondPianoRoll/tf-tutorial-1.ipynb#ch0000015vscode-remote?line=6'>7</a>\u001b[0m     callbacks\u001b[39m=\u001b[39;49m[cp_callback]\n\u001b[1;32m      <a href='vscode-notebook-cell://ssh-remote%2B130.237.67.120/home/simonf/beyondPianoRoll/tf-tutorial-1.ipynb#ch0000015vscode-remote?line=7'>8</a>\u001b[0m )\n",
      "File \u001b[0;32m~/.venv/onsets/lib/python3.8/site-packages/keras/utils/traceback_utils.py:64\u001b[0m, in \u001b[0;36mfilter_traceback.<locals>.error_handler\u001b[0;34m(*args, **kwargs)\u001b[0m\n\u001b[1;32m     <a href='file:///home/simonf/.venv/onsets/lib/python3.8/site-packages/keras/utils/traceback_utils.py?line=61'>62</a>\u001b[0m filtered_tb \u001b[39m=\u001b[39m \u001b[39mNone\u001b[39;00m\n\u001b[1;32m     <a href='file:///home/simonf/.venv/onsets/lib/python3.8/site-packages/keras/utils/traceback_utils.py?line=62'>63</a>\u001b[0m \u001b[39mtry\u001b[39;00m:\n\u001b[0;32m---> <a href='file:///home/simonf/.venv/onsets/lib/python3.8/site-packages/keras/utils/traceback_utils.py?line=63'>64</a>\u001b[0m   \u001b[39mreturn\u001b[39;00m fn(\u001b[39m*\u001b[39;49margs, \u001b[39m*\u001b[39;49m\u001b[39m*\u001b[39;49mkwargs)\n\u001b[1;32m     <a href='file:///home/simonf/.venv/onsets/lib/python3.8/site-packages/keras/utils/traceback_utils.py?line=64'>65</a>\u001b[0m \u001b[39mexcept\u001b[39;00m \u001b[39mException\u001b[39;00m \u001b[39mas\u001b[39;00m e:  \u001b[39m# pylint: disable=broad-except\u001b[39;00m\n\u001b[1;32m     <a href='file:///home/simonf/.venv/onsets/lib/python3.8/site-packages/keras/utils/traceback_utils.py?line=65'>66</a>\u001b[0m   filtered_tb \u001b[39m=\u001b[39m _process_traceback_frames(e\u001b[39m.\u001b[39m__traceback__)\n",
      "File \u001b[0;32m~/.venv/onsets/lib/python3.8/site-packages/keras/engine/training.py:1384\u001b[0m, in \u001b[0;36mModel.fit\u001b[0;34m(self, x, y, batch_size, epochs, verbose, callbacks, validation_split, validation_data, shuffle, class_weight, sample_weight, initial_epoch, steps_per_epoch, validation_steps, validation_batch_size, validation_freq, max_queue_size, workers, use_multiprocessing)\u001b[0m\n\u001b[1;32m   <a href='file:///home/simonf/.venv/onsets/lib/python3.8/site-packages/keras/engine/training.py?line=1376'>1377</a>\u001b[0m \u001b[39mwith\u001b[39;00m tf\u001b[39m.\u001b[39mprofiler\u001b[39m.\u001b[39mexperimental\u001b[39m.\u001b[39mTrace(\n\u001b[1;32m   <a href='file:///home/simonf/.venv/onsets/lib/python3.8/site-packages/keras/engine/training.py?line=1377'>1378</a>\u001b[0m     \u001b[39m'\u001b[39m\u001b[39mtrain\u001b[39m\u001b[39m'\u001b[39m,\n\u001b[1;32m   <a href='file:///home/simonf/.venv/onsets/lib/python3.8/site-packages/keras/engine/training.py?line=1378'>1379</a>\u001b[0m     epoch_num\u001b[39m=\u001b[39mepoch,\n\u001b[1;32m   <a href='file:///home/simonf/.venv/onsets/lib/python3.8/site-packages/keras/engine/training.py?line=1379'>1380</a>\u001b[0m     step_num\u001b[39m=\u001b[39mstep,\n\u001b[1;32m   <a href='file:///home/simonf/.venv/onsets/lib/python3.8/site-packages/keras/engine/training.py?line=1380'>1381</a>\u001b[0m     batch_size\u001b[39m=\u001b[39mbatch_size,\n\u001b[1;32m   <a href='file:///home/simonf/.venv/onsets/lib/python3.8/site-packages/keras/engine/training.py?line=1381'>1382</a>\u001b[0m     _r\u001b[39m=\u001b[39m\u001b[39m1\u001b[39m):\n\u001b[1;32m   <a href='file:///home/simonf/.venv/onsets/lib/python3.8/site-packages/keras/engine/training.py?line=1382'>1383</a>\u001b[0m   callbacks\u001b[39m.\u001b[39mon_train_batch_begin(step)\n\u001b[0;32m-> <a href='file:///home/simonf/.venv/onsets/lib/python3.8/site-packages/keras/engine/training.py?line=1383'>1384</a>\u001b[0m   tmp_logs \u001b[39m=\u001b[39m \u001b[39mself\u001b[39;49m\u001b[39m.\u001b[39;49mtrain_function(iterator)\n\u001b[1;32m   <a href='file:///home/simonf/.venv/onsets/lib/python3.8/site-packages/keras/engine/training.py?line=1384'>1385</a>\u001b[0m   \u001b[39mif\u001b[39;00m data_handler\u001b[39m.\u001b[39mshould_sync:\n\u001b[1;32m   <a href='file:///home/simonf/.venv/onsets/lib/python3.8/site-packages/keras/engine/training.py?line=1385'>1386</a>\u001b[0m     context\u001b[39m.\u001b[39masync_wait()\n",
      "File \u001b[0;32m~/.venv/onsets/lib/python3.8/site-packages/tensorflow/python/util/traceback_utils.py:150\u001b[0m, in \u001b[0;36mfilter_traceback.<locals>.error_handler\u001b[0;34m(*args, **kwargs)\u001b[0m\n\u001b[1;32m    <a href='file:///home/simonf/.venv/onsets/lib/python3.8/site-packages/tensorflow/python/util/traceback_utils.py?line=147'>148</a>\u001b[0m filtered_tb \u001b[39m=\u001b[39m \u001b[39mNone\u001b[39;00m\n\u001b[1;32m    <a href='file:///home/simonf/.venv/onsets/lib/python3.8/site-packages/tensorflow/python/util/traceback_utils.py?line=148'>149</a>\u001b[0m \u001b[39mtry\u001b[39;00m:\n\u001b[0;32m--> <a href='file:///home/simonf/.venv/onsets/lib/python3.8/site-packages/tensorflow/python/util/traceback_utils.py?line=149'>150</a>\u001b[0m   \u001b[39mreturn\u001b[39;00m fn(\u001b[39m*\u001b[39;49margs, \u001b[39m*\u001b[39;49m\u001b[39m*\u001b[39;49mkwargs)\n\u001b[1;32m    <a href='file:///home/simonf/.venv/onsets/lib/python3.8/site-packages/tensorflow/python/util/traceback_utils.py?line=150'>151</a>\u001b[0m \u001b[39mexcept\u001b[39;00m \u001b[39mException\u001b[39;00m \u001b[39mas\u001b[39;00m e:\n\u001b[1;32m    <a href='file:///home/simonf/.venv/onsets/lib/python3.8/site-packages/tensorflow/python/util/traceback_utils.py?line=151'>152</a>\u001b[0m   filtered_tb \u001b[39m=\u001b[39m _process_traceback_frames(e\u001b[39m.\u001b[39m__traceback__)\n",
      "File \u001b[0;32m~/.venv/onsets/lib/python3.8/site-packages/tensorflow/python/eager/def_function.py:915\u001b[0m, in \u001b[0;36mFunction.__call__\u001b[0;34m(self, *args, **kwds)\u001b[0m\n\u001b[1;32m    <a href='file:///home/simonf/.venv/onsets/lib/python3.8/site-packages/tensorflow/python/eager/def_function.py?line=911'>912</a>\u001b[0m compiler \u001b[39m=\u001b[39m \u001b[39m\"\u001b[39m\u001b[39mxla\u001b[39m\u001b[39m\"\u001b[39m \u001b[39mif\u001b[39;00m \u001b[39mself\u001b[39m\u001b[39m.\u001b[39m_jit_compile \u001b[39melse\u001b[39;00m \u001b[39m\"\u001b[39m\u001b[39mnonXla\u001b[39m\u001b[39m\"\u001b[39m\n\u001b[1;32m    <a href='file:///home/simonf/.venv/onsets/lib/python3.8/site-packages/tensorflow/python/eager/def_function.py?line=913'>914</a>\u001b[0m \u001b[39mwith\u001b[39;00m OptionalXlaContext(\u001b[39mself\u001b[39m\u001b[39m.\u001b[39m_jit_compile):\n\u001b[0;32m--> <a href='file:///home/simonf/.venv/onsets/lib/python3.8/site-packages/tensorflow/python/eager/def_function.py?line=914'>915</a>\u001b[0m   result \u001b[39m=\u001b[39m \u001b[39mself\u001b[39;49m\u001b[39m.\u001b[39;49m_call(\u001b[39m*\u001b[39;49margs, \u001b[39m*\u001b[39;49m\u001b[39m*\u001b[39;49mkwds)\n\u001b[1;32m    <a href='file:///home/simonf/.venv/onsets/lib/python3.8/site-packages/tensorflow/python/eager/def_function.py?line=916'>917</a>\u001b[0m new_tracing_count \u001b[39m=\u001b[39m \u001b[39mself\u001b[39m\u001b[39m.\u001b[39mexperimental_get_tracing_count()\n\u001b[1;32m    <a href='file:///home/simonf/.venv/onsets/lib/python3.8/site-packages/tensorflow/python/eager/def_function.py?line=917'>918</a>\u001b[0m without_tracing \u001b[39m=\u001b[39m (tracing_count \u001b[39m==\u001b[39m new_tracing_count)\n",
      "File \u001b[0;32m~/.venv/onsets/lib/python3.8/site-packages/tensorflow/python/eager/def_function.py:947\u001b[0m, in \u001b[0;36mFunction._call\u001b[0;34m(self, *args, **kwds)\u001b[0m\n\u001b[1;32m    <a href='file:///home/simonf/.venv/onsets/lib/python3.8/site-packages/tensorflow/python/eager/def_function.py?line=943'>944</a>\u001b[0m   \u001b[39mself\u001b[39m\u001b[39m.\u001b[39m_lock\u001b[39m.\u001b[39mrelease()\n\u001b[1;32m    <a href='file:///home/simonf/.venv/onsets/lib/python3.8/site-packages/tensorflow/python/eager/def_function.py?line=944'>945</a>\u001b[0m   \u001b[39m# In this case we have created variables on the first call, so we run the\u001b[39;00m\n\u001b[1;32m    <a href='file:///home/simonf/.venv/onsets/lib/python3.8/site-packages/tensorflow/python/eager/def_function.py?line=945'>946</a>\u001b[0m   \u001b[39m# defunned version which is guaranteed to never create variables.\u001b[39;00m\n\u001b[0;32m--> <a href='file:///home/simonf/.venv/onsets/lib/python3.8/site-packages/tensorflow/python/eager/def_function.py?line=946'>947</a>\u001b[0m   \u001b[39mreturn\u001b[39;00m \u001b[39mself\u001b[39;49m\u001b[39m.\u001b[39;49m_stateless_fn(\u001b[39m*\u001b[39;49margs, \u001b[39m*\u001b[39;49m\u001b[39m*\u001b[39;49mkwds)  \u001b[39m# pylint: disable=not-callable\u001b[39;00m\n\u001b[1;32m    <a href='file:///home/simonf/.venv/onsets/lib/python3.8/site-packages/tensorflow/python/eager/def_function.py?line=947'>948</a>\u001b[0m \u001b[39melif\u001b[39;00m \u001b[39mself\u001b[39m\u001b[39m.\u001b[39m_stateful_fn \u001b[39mis\u001b[39;00m \u001b[39mnot\u001b[39;00m \u001b[39mNone\u001b[39;00m:\n\u001b[1;32m    <a href='file:///home/simonf/.venv/onsets/lib/python3.8/site-packages/tensorflow/python/eager/def_function.py?line=948'>949</a>\u001b[0m   \u001b[39m# Release the lock early so that multiple threads can perform the call\u001b[39;00m\n\u001b[1;32m    <a href='file:///home/simonf/.venv/onsets/lib/python3.8/site-packages/tensorflow/python/eager/def_function.py?line=949'>950</a>\u001b[0m   \u001b[39m# in parallel.\u001b[39;00m\n\u001b[1;32m    <a href='file:///home/simonf/.venv/onsets/lib/python3.8/site-packages/tensorflow/python/eager/def_function.py?line=950'>951</a>\u001b[0m   \u001b[39mself\u001b[39m\u001b[39m.\u001b[39m_lock\u001b[39m.\u001b[39mrelease()\n",
      "File \u001b[0;32m~/.venv/onsets/lib/python3.8/site-packages/tensorflow/python/eager/function.py:2956\u001b[0m, in \u001b[0;36mFunction.__call__\u001b[0;34m(self, *args, **kwargs)\u001b[0m\n\u001b[1;32m   <a href='file:///home/simonf/.venv/onsets/lib/python3.8/site-packages/tensorflow/python/eager/function.py?line=2952'>2953</a>\u001b[0m \u001b[39mwith\u001b[39;00m \u001b[39mself\u001b[39m\u001b[39m.\u001b[39m_lock:\n\u001b[1;32m   <a href='file:///home/simonf/.venv/onsets/lib/python3.8/site-packages/tensorflow/python/eager/function.py?line=2953'>2954</a>\u001b[0m   (graph_function,\n\u001b[1;32m   <a href='file:///home/simonf/.venv/onsets/lib/python3.8/site-packages/tensorflow/python/eager/function.py?line=2954'>2955</a>\u001b[0m    filtered_flat_args) \u001b[39m=\u001b[39m \u001b[39mself\u001b[39m\u001b[39m.\u001b[39m_maybe_define_function(args, kwargs)\n\u001b[0;32m-> <a href='file:///home/simonf/.venv/onsets/lib/python3.8/site-packages/tensorflow/python/eager/function.py?line=2955'>2956</a>\u001b[0m \u001b[39mreturn\u001b[39;00m graph_function\u001b[39m.\u001b[39;49m_call_flat(\n\u001b[1;32m   <a href='file:///home/simonf/.venv/onsets/lib/python3.8/site-packages/tensorflow/python/eager/function.py?line=2956'>2957</a>\u001b[0m     filtered_flat_args, captured_inputs\u001b[39m=\u001b[39;49mgraph_function\u001b[39m.\u001b[39;49mcaptured_inputs)\n",
      "File \u001b[0;32m~/.venv/onsets/lib/python3.8/site-packages/tensorflow/python/eager/function.py:1853\u001b[0m, in \u001b[0;36mConcreteFunction._call_flat\u001b[0;34m(self, args, captured_inputs, cancellation_manager)\u001b[0m\n\u001b[1;32m   <a href='file:///home/simonf/.venv/onsets/lib/python3.8/site-packages/tensorflow/python/eager/function.py?line=1848'>1849</a>\u001b[0m possible_gradient_type \u001b[39m=\u001b[39m gradients_util\u001b[39m.\u001b[39mPossibleTapeGradientTypes(args)\n\u001b[1;32m   <a href='file:///home/simonf/.venv/onsets/lib/python3.8/site-packages/tensorflow/python/eager/function.py?line=1849'>1850</a>\u001b[0m \u001b[39mif\u001b[39;00m (possible_gradient_type \u001b[39m==\u001b[39m gradients_util\u001b[39m.\u001b[39mPOSSIBLE_GRADIENT_TYPES_NONE\n\u001b[1;32m   <a href='file:///home/simonf/.venv/onsets/lib/python3.8/site-packages/tensorflow/python/eager/function.py?line=1850'>1851</a>\u001b[0m     \u001b[39mand\u001b[39;00m executing_eagerly):\n\u001b[1;32m   <a href='file:///home/simonf/.venv/onsets/lib/python3.8/site-packages/tensorflow/python/eager/function.py?line=1851'>1852</a>\u001b[0m   \u001b[39m# No tape is watching; skip to running the function.\u001b[39;00m\n\u001b[0;32m-> <a href='file:///home/simonf/.venv/onsets/lib/python3.8/site-packages/tensorflow/python/eager/function.py?line=1852'>1853</a>\u001b[0m   \u001b[39mreturn\u001b[39;00m \u001b[39mself\u001b[39m\u001b[39m.\u001b[39m_build_call_outputs(\u001b[39mself\u001b[39;49m\u001b[39m.\u001b[39;49m_inference_function\u001b[39m.\u001b[39;49mcall(\n\u001b[1;32m   <a href='file:///home/simonf/.venv/onsets/lib/python3.8/site-packages/tensorflow/python/eager/function.py?line=1853'>1854</a>\u001b[0m       ctx, args, cancellation_manager\u001b[39m=\u001b[39;49mcancellation_manager))\n\u001b[1;32m   <a href='file:///home/simonf/.venv/onsets/lib/python3.8/site-packages/tensorflow/python/eager/function.py?line=1854'>1855</a>\u001b[0m forward_backward \u001b[39m=\u001b[39m \u001b[39mself\u001b[39m\u001b[39m.\u001b[39m_select_forward_and_backward_functions(\n\u001b[1;32m   <a href='file:///home/simonf/.venv/onsets/lib/python3.8/site-packages/tensorflow/python/eager/function.py?line=1855'>1856</a>\u001b[0m     args,\n\u001b[1;32m   <a href='file:///home/simonf/.venv/onsets/lib/python3.8/site-packages/tensorflow/python/eager/function.py?line=1856'>1857</a>\u001b[0m     possible_gradient_type,\n\u001b[1;32m   <a href='file:///home/simonf/.venv/onsets/lib/python3.8/site-packages/tensorflow/python/eager/function.py?line=1857'>1858</a>\u001b[0m     executing_eagerly)\n\u001b[1;32m   <a href='file:///home/simonf/.venv/onsets/lib/python3.8/site-packages/tensorflow/python/eager/function.py?line=1858'>1859</a>\u001b[0m forward_function, args_with_tangents \u001b[39m=\u001b[39m forward_backward\u001b[39m.\u001b[39mforward()\n",
      "File \u001b[0;32m~/.venv/onsets/lib/python3.8/site-packages/tensorflow/python/eager/function.py:499\u001b[0m, in \u001b[0;36m_EagerDefinedFunction.call\u001b[0;34m(self, ctx, args, cancellation_manager)\u001b[0m\n\u001b[1;32m    <a href='file:///home/simonf/.venv/onsets/lib/python3.8/site-packages/tensorflow/python/eager/function.py?line=496'>497</a>\u001b[0m \u001b[39mwith\u001b[39;00m _InterpolateFunctionError(\u001b[39mself\u001b[39m):\n\u001b[1;32m    <a href='file:///home/simonf/.venv/onsets/lib/python3.8/site-packages/tensorflow/python/eager/function.py?line=497'>498</a>\u001b[0m   \u001b[39mif\u001b[39;00m cancellation_manager \u001b[39mis\u001b[39;00m \u001b[39mNone\u001b[39;00m:\n\u001b[0;32m--> <a href='file:///home/simonf/.venv/onsets/lib/python3.8/site-packages/tensorflow/python/eager/function.py?line=498'>499</a>\u001b[0m     outputs \u001b[39m=\u001b[39m execute\u001b[39m.\u001b[39;49mexecute(\n\u001b[1;32m    <a href='file:///home/simonf/.venv/onsets/lib/python3.8/site-packages/tensorflow/python/eager/function.py?line=499'>500</a>\u001b[0m         \u001b[39mstr\u001b[39;49m(\u001b[39mself\u001b[39;49m\u001b[39m.\u001b[39;49msignature\u001b[39m.\u001b[39;49mname),\n\u001b[1;32m    <a href='file:///home/simonf/.venv/onsets/lib/python3.8/site-packages/tensorflow/python/eager/function.py?line=500'>501</a>\u001b[0m         num_outputs\u001b[39m=\u001b[39;49m\u001b[39mself\u001b[39;49m\u001b[39m.\u001b[39;49m_num_outputs,\n\u001b[1;32m    <a href='file:///home/simonf/.venv/onsets/lib/python3.8/site-packages/tensorflow/python/eager/function.py?line=501'>502</a>\u001b[0m         inputs\u001b[39m=\u001b[39;49margs,\n\u001b[1;32m    <a href='file:///home/simonf/.venv/onsets/lib/python3.8/site-packages/tensorflow/python/eager/function.py?line=502'>503</a>\u001b[0m         attrs\u001b[39m=\u001b[39;49mattrs,\n\u001b[1;32m    <a href='file:///home/simonf/.venv/onsets/lib/python3.8/site-packages/tensorflow/python/eager/function.py?line=503'>504</a>\u001b[0m         ctx\u001b[39m=\u001b[39;49mctx)\n\u001b[1;32m    <a href='file:///home/simonf/.venv/onsets/lib/python3.8/site-packages/tensorflow/python/eager/function.py?line=504'>505</a>\u001b[0m   \u001b[39melse\u001b[39;00m:\n\u001b[1;32m    <a href='file:///home/simonf/.venv/onsets/lib/python3.8/site-packages/tensorflow/python/eager/function.py?line=505'>506</a>\u001b[0m     outputs \u001b[39m=\u001b[39m execute\u001b[39m.\u001b[39mexecute_with_cancellation(\n\u001b[1;32m    <a href='file:///home/simonf/.venv/onsets/lib/python3.8/site-packages/tensorflow/python/eager/function.py?line=506'>507</a>\u001b[0m         \u001b[39mstr\u001b[39m(\u001b[39mself\u001b[39m\u001b[39m.\u001b[39msignature\u001b[39m.\u001b[39mname),\n\u001b[1;32m    <a href='file:///home/simonf/.venv/onsets/lib/python3.8/site-packages/tensorflow/python/eager/function.py?line=507'>508</a>\u001b[0m         num_outputs\u001b[39m=\u001b[39m\u001b[39mself\u001b[39m\u001b[39m.\u001b[39m_num_outputs,\n\u001b[0;32m   (...)\u001b[0m\n\u001b[1;32m    <a href='file:///home/simonf/.venv/onsets/lib/python3.8/site-packages/tensorflow/python/eager/function.py?line=510'>511</a>\u001b[0m         ctx\u001b[39m=\u001b[39mctx,\n\u001b[1;32m    <a href='file:///home/simonf/.venv/onsets/lib/python3.8/site-packages/tensorflow/python/eager/function.py?line=511'>512</a>\u001b[0m         cancellation_manager\u001b[39m=\u001b[39mcancellation_manager)\n",
      "File \u001b[0;32m~/.venv/onsets/lib/python3.8/site-packages/tensorflow/python/eager/execute.py:54\u001b[0m, in \u001b[0;36mquick_execute\u001b[0;34m(op_name, num_outputs, inputs, attrs, ctx, name)\u001b[0m\n\u001b[1;32m     <a href='file:///home/simonf/.venv/onsets/lib/python3.8/site-packages/tensorflow/python/eager/execute.py?line=51'>52</a>\u001b[0m \u001b[39mtry\u001b[39;00m:\n\u001b[1;32m     <a href='file:///home/simonf/.venv/onsets/lib/python3.8/site-packages/tensorflow/python/eager/execute.py?line=52'>53</a>\u001b[0m   ctx\u001b[39m.\u001b[39mensure_initialized()\n\u001b[0;32m---> <a href='file:///home/simonf/.venv/onsets/lib/python3.8/site-packages/tensorflow/python/eager/execute.py?line=53'>54</a>\u001b[0m   tensors \u001b[39m=\u001b[39m pywrap_tfe\u001b[39m.\u001b[39;49mTFE_Py_Execute(ctx\u001b[39m.\u001b[39;49m_handle, device_name, op_name,\n\u001b[1;32m     <a href='file:///home/simonf/.venv/onsets/lib/python3.8/site-packages/tensorflow/python/eager/execute.py?line=54'>55</a>\u001b[0m                                       inputs, attrs, num_outputs)\n\u001b[1;32m     <a href='file:///home/simonf/.venv/onsets/lib/python3.8/site-packages/tensorflow/python/eager/execute.py?line=55'>56</a>\u001b[0m \u001b[39mexcept\u001b[39;00m core\u001b[39m.\u001b[39m_NotOkStatusException \u001b[39mas\u001b[39;00m e:\n\u001b[1;32m     <a href='file:///home/simonf/.venv/onsets/lib/python3.8/site-packages/tensorflow/python/eager/execute.py?line=56'>57</a>\u001b[0m   \u001b[39mif\u001b[39;00m name \u001b[39mis\u001b[39;00m \u001b[39mnot\u001b[39;00m \u001b[39mNone\u001b[39;00m:\n",
      "\u001b[0;31mKeyboardInterrupt\u001b[0m: "
     ]
    }
   ],
   "source": [
    "\n",
    "model.fit(\n",
    "    train_images, \n",
    "    train_labels, \n",
    "    batch_size = 32,\n",
    "    validation_data=(val_images, val_labels), \n",
    "    epochs=10,\n",
    "    callbacks=[cp_callback]\n",
    ")\n"
   ]
  },
  {
   "cell_type": "code",
   "execution_count": 83,
   "metadata": {},
   "outputs": [],
   "source": [
    "pred = model.predict(train_images)\n"
   ]
  },
  {
   "cell_type": "code",
   "execution_count": 79,
   "metadata": {},
   "outputs": [],
   "source": [
    "B = np.where(pred>0.5, 1, 0).reshape((-1)).astype(np.float32)"
   ]
  },
  {
   "cell_type": "code",
   "execution_count": 84,
   "metadata": {},
   "outputs": [],
   "source": [
    "bce = tf.keras.losses.BinaryCrossentropy(from_logits=False)\n",
    "bce(train_labels, pred)"
   ]
  },
  {
   "cell_type": "code",
   "execution_count": 45,
   "metadata": {},
   "outputs": [
    {
     "data": {
      "text/plain": [
       "53140"
      ]
     },
     "execution_count": 45,
     "metadata": {},
     "output_type": "execute_result"
    }
   ],
   "source": [
    "\n",
    "\n",
    "np.sum(A*B)"
   ]
  },
  {
   "cell_type": "code",
   "execution_count": 33,
   "metadata": {},
   "outputs": [
    {
     "name": "stdout",
     "output_type": "stream",
     "text": [
      "313/313 - 1s - loss: 0.3527 - accuracy: 0.8796 - 782ms/epoch - 2ms/step\n",
      "\n",
      "Test accuracy: 0.8795999884605408\n"
     ]
    }
   ],
   "source": [
    "test_loss, test_acc = model.evaluate(test_images,  test_labels, verbose=2)\n",
    "\n",
    "print('\\nTest accuracy:', test_acc)\n"
   ]
  },
  {
   "cell_type": "code",
   "execution_count": 34,
   "metadata": {},
   "outputs": [],
   "source": [
    "probability_model = tf.keras.Sequential([model, \n",
    "                                         tf.keras.layers.Softmax()])\n"
   ]
  },
  {
   "cell_type": "code",
   "execution_count": 35,
   "metadata": {},
   "outputs": [],
   "source": [
    "predictions = probability_model.predict(test_images)\n"
   ]
  },
  {
   "cell_type": "code",
   "execution_count": 41,
   "metadata": {},
   "outputs": [
    {
     "name": "stdout",
     "output_type": "stream",
     "text": [
      "(5.9892518e-05, 'T-shirt/top')\n",
      "(3.6508465e-14, 'Trouser')\n",
      "(0.99979645, 'Pullover')\n",
      "(5.390233e-10, 'Dress')\n",
      "(8.579558e-05, 'Coat')\n",
      "(8.918108e-12, 'Sandal')\n",
      "(5.7978446e-05, 'Shirt')\n",
      "(2.033656e-12, 'Sneaker')\n",
      "(2.9201763e-12, 'Bag')\n",
      "(5.991143e-14, 'Ankle boot')\n"
     ]
    }
   ],
   "source": [
    "for pair in zip(list(predictions[1]), class_names):\n",
    "    print(pair)\n"
   ]
  },
  {
   "cell_type": "code",
   "execution_count": 44,
   "metadata": {},
   "outputs": [],
   "source": [
    "# Add the image to a batch where it's the only member.\n",
    "img = test_images[1]\n",
    "\n",
    "img = (np.expand_dims(img,0))\n",
    "\n",
    "predictions_single = probability_model.predict(img)\n"
   ]
  },
  {
   "cell_type": "code",
   "execution_count": 45,
   "metadata": {},
   "outputs": [
    {
     "ename": "NameError",
     "evalue": "name 'plot_value_array' is not defined",
     "output_type": "error",
     "traceback": [
      "\u001b[0;31m---------------------------------------------------------------------------\u001b[0m",
      "\u001b[0;31mNameError\u001b[0m                                 Traceback (most recent call last)",
      "\u001b[0;32m<ipython-input-45-429851f24638>\u001b[0m in \u001b[0;36m<module>\u001b[0;34m\u001b[0m\n\u001b[0;32m----> 1\u001b[0;31m \u001b[0mplot_value_array\u001b[0m\u001b[0;34m(\u001b[0m\u001b[0;36m1\u001b[0m\u001b[0;34m,\u001b[0m \u001b[0mpredictions_single\u001b[0m\u001b[0;34m[\u001b[0m\u001b[0;36m0\u001b[0m\u001b[0;34m]\u001b[0m\u001b[0;34m,\u001b[0m \u001b[0mtest_labels\u001b[0m\u001b[0;34m)\u001b[0m\u001b[0;34m\u001b[0m\u001b[0;34m\u001b[0m\u001b[0m\n\u001b[0m\u001b[1;32m      2\u001b[0m \u001b[0m_\u001b[0m \u001b[0;34m=\u001b[0m \u001b[0mplt\u001b[0m\u001b[0;34m.\u001b[0m\u001b[0mxticks\u001b[0m\u001b[0;34m(\u001b[0m\u001b[0mrange\u001b[0m\u001b[0;34m(\u001b[0m\u001b[0;36m10\u001b[0m\u001b[0;34m)\u001b[0m\u001b[0;34m,\u001b[0m \u001b[0mclass_names\u001b[0m\u001b[0;34m,\u001b[0m \u001b[0mrotation\u001b[0m\u001b[0;34m=\u001b[0m\u001b[0;36m45\u001b[0m\u001b[0;34m)\u001b[0m\u001b[0;34m\u001b[0m\u001b[0;34m\u001b[0m\u001b[0m\n\u001b[1;32m      3\u001b[0m \u001b[0mplt\u001b[0m\u001b[0;34m.\u001b[0m\u001b[0mshow\u001b[0m\u001b[0;34m(\u001b[0m\u001b[0;34m)\u001b[0m\u001b[0;34m\u001b[0m\u001b[0;34m\u001b[0m\u001b[0m\n",
      "\u001b[0;31mNameError\u001b[0m: name 'plot_value_array' is not defined"
     ]
    }
   ],
   "source": [
    "plot_value_array(1, predictions_single[0], test_labels)\n",
    "_ = plt.xticks(range(10), class_names, rotation=45)\n",
    "plt.show()\n"
   ]
  },
  {
   "cell_type": "code",
   "execution_count": null,
   "metadata": {},
   "outputs": [],
   "source": []
  }
 ],
 "metadata": {
  "kernelspec": {
   "display_name": "flow",
   "language": "python",
   "name": "flow"
  },
  "language_info": {
   "codemirror_mode": {
    "name": "ipython",
    "version": 3
   },
   "file_extension": ".py",
   "mimetype": "text/x-python",
   "name": "python",
   "nbconvert_exporter": "python",
   "pygments_lexer": "ipython3",
   "version": "3.8.10"
  }
 },
 "nbformat": 4,
 "nbformat_minor": 2
}
