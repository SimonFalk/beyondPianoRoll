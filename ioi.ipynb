{
 "cells": [
  {
   "cell_type": "code",
   "execution_count": 5,
   "id": "b0f89d5a",
   "metadata": {},
   "outputs": [
    {
     "name": "stdout",
     "output_type": "stream",
     "text": [
      "The autoreload extension is already loaded. To reload it, use:\n",
      "  %reload_ext autoreload\n"
     ]
    }
   ],
   "source": [
    "import os\n",
    "import pickle\n",
    "import datetime\n",
    "\n",
    "import numpy as np\n",
    "from numpy import genfromtxt\n",
    "import matplotlib.pyplot as plt\n",
    "from sklearn.model_selection import KFold, train_test_split\n",
    "from datasets import Dataset\n",
    "\n",
    "import madmom\n",
    "\n",
    "%load_ext autoreload\n",
    "%autoreload 2\n"
   ]
  },
  {
   "cell_type": "code",
   "execution_count": 10,
   "id": "29ac37ea",
   "metadata": {},
   "outputs": [
    {
     "name": "stdout",
     "output_type": "stream",
     "text": [
      "Dataset created\n",
      "Found 20 audio files and 0 annotation files.\n"
     ]
    },
    {
     "name": "stderr",
     "output_type": "stream",
     "text": [
      "/usr/local/lib/python3.9/site-packages/madmom/audio/signal.py:457: UserWarning: Deprecated as of version 0.16. Please use madmom.io.audio.load_wave_file instead. Will be removed in version 0.18.\n",
      "  warnings.warn('Deprecated as of version 0.16. Please use madmom.io.audio.'\n",
      "/usr/local/lib/python3.9/site-packages/madmom/io/audio.py:493: WavFileWarning: Chunk (non-data) not understood, skipping it.\n",
      "  file_sample_rate, signal = wavfile.read(filename, mmap=True)\n"
     ]
    }
   ],
   "source": [
    "ds = Dataset(\"initslurtest\")\n",
    "audio_fnames = ds.get_audio_paths()\n",
    "label_fnames = ds.get_annotation_paths()\n",
    "\n",
    "audios = [madmom.audio.signal.load_wave_file(filename)[0] for filename in audio_fnames]\n",
    "sample_rates = [madmom.audio.signal.load_wave_file(filename)[1] for filename in audio_fnames]\n",
    "onset_schedules = [genfromtxt(label_fname, delimiter=',') for label_fname in label_fnames]\n"
   ]
  },
  {
   "cell_type": "code",
   "execution_count": null,
   "id": "41a06a39",
   "metadata": {},
   "outputs": [],
   "source": [
    "[print(\"Name of rec: {}\\n\"\n",
    "       \"Len in seconds: {:.2f}\\n\"\n",
    "       \"Shape of audio: {}\\n\"\n",
    "       \"Shape of onset schedule: {}\\n\"\n",
    "       \"Onsets from {:.2f}s to {:.2f}s\\n\".format(\n",
    "                                        os.path.split(fname)[1], \n",
    "                                        audio.shape[0]/44100,\n",
    "                                        audio.shape,\n",
    "                                        schedule.shape,\n",
    "                                        schedule.min(),\n",
    "                                        schedule.max(),\n",
    "                                        ) \n",
    "    ) for fname, audio, schedule in zip(audio_fnames, audios, onset_schedules)\n",
    "]"
   ]
  },
  {
   "cell_type": "code",
   "execution_count": 5,
   "id": "78d4d97e",
   "metadata": {},
   "outputs": [
    {
     "name": "stdout",
     "output_type": "stream",
     "text": [
      "(1697,)\n"
     ]
    }
   ],
   "source": [
    "onset_vectors = [get_label_vector(sched, len(audio)/SR, HOP, SR)\n",
    "    for (sched, audio) in zip(onset_schedules, audios)\n",
    "]\n",
    "print(onset_vectors[0].shape)"
   ]
  },
  {
   "cell_type": "code",
   "execution_count": 27,
   "id": "9d6656f4",
   "metadata": {},
   "outputs": [],
   "source": [
    "proc = madmom.features.onsets.CNNOnsetProcessor()\n",
    "pp = madmom.features.onsets.OnsetPeakPickingProcessor(smooth=5, pre_avg=5, post_avg=1, pre_max=5, post_max=1)\n",
    "pp0 = madmom.features.onsets.OnsetPeakPickingProcessor(threshold=0.7)\n",
    "act_fn = proc(audio_fnames[0])\n"
   ]
  },
  {
   "cell_type": "code",
   "execution_count": 47,
   "id": "66bc87ce",
   "metadata": {},
   "outputs": [
    {
     "name": "stdout",
     "output_type": "stream",
     "text": [
      "[ 0.75  1.11  1.31  1.44  1.61  1.73  1.88  2.05  2.21  2.35  2.63  2.81\n",
      "  2.92  3.04  3.24  3.4   3.53  3.85  4.03  4.15  4.29  4.46  4.62  4.75\n",
      "  4.89  5.05  5.18  5.33  5.45  5.67  5.84  5.97  6.13  6.29  6.47  6.58\n",
      "  6.73  6.89  7.05  7.19  7.32  7.47  7.61  7.76  7.86  8.08  8.21  8.35\n",
      "  8.46  8.64  8.68  8.84  8.96  9.1   9.26  9.54  9.69  9.85  9.98 10.14\n",
      " 10.26 10.48 10.62 10.81 10.93 11.07 11.11 11.23 11.36 11.51 11.64 11.78\n",
      " 11.93 12.03 12.07 12.25 12.38 12.52 12.64 12.84 12.99 13.12 13.23 13.43\n",
      " 13.6  13.71 13.84 14.   14.14 14.29 14.43 14.58 14.71 14.83 14.98 15.16\n",
      " 15.71 16.95]\n"
     ]
    }
   ],
   "source": [
    "pred = pp0(act_fn)\n",
    "print(pred)"
   ]
  },
  {
   "cell_type": "code",
   "execution_count": 49,
   "id": "82bf4341",
   "metadata": {},
   "outputs": [
    {
     "name": "stdout",
     "output_type": "stream",
     "text": [
      "3307.499999999988\n"
     ]
    }
   ],
   "source": [
    "clip_len = np.median(np.diff(pred))/2\n",
    "np.sum(np.diff(pred)<clip_len)\n",
    "print(clip_len*44100)\n"
   ]
  },
  {
   "cell_type": "code",
   "execution_count": 64,
   "id": "72915c3c",
   "metadata": {},
   "outputs": [],
   "source": [
    "framed = np.array(madmom.audio.signal.FramedSignal(audios[0], frame_size=int(clip_len*44100), hop_size=441))"
   ]
  },
  {
   "cell_type": "code",
   "execution_count": 90,
   "id": "0d465e3a",
   "metadata": {},
   "outputs": [
    {
     "data": {
      "text/plain": [
       "(array([ 3., 17., 23., 29., 21.,  3.,  0.,  0.,  1.,  1.]),\n",
       " array([-2311636. , -1341783.9,  -371931.8,   597920.3,  1567772.4,\n",
       "         2537624.5,  3507476.6,  4477328.7,  5447180.8,  6417032.9,\n",
       "         7386885. ]),\n",
       " <BarContainer object of 10 artists>)"
      ]
     },
     "execution_count": 90,
     "metadata": {},
     "output_type": "execute_result"
    },
    {
     "data": {
      "image/png": "[encoded data removed]",
      "text/plain": [
       "<Figure size 432x288 with 1 Axes>"
      ]
     },
     "metadata": {
      "needs_background": "light"
     },
     "output_type": "display_data"
    }
   ],
   "source": [
    "plt.hist(np.sum(framed[(pred*100-4).astype(int)]**2, 1))"
   ]
  },
  {
   "cell_type": "code",
   "execution_count": null,
   "id": "64a9de00",
   "metadata": {},
   "outputs": [],
   "source": []
  }
 ],
 "metadata": {
  "interpreter": {
   "hash": "aee8b7b246df8f9039afb4144a1f6fd8d2ca17a180786b69acc140d282b71a49"
  },
  "kernelspec": {
   "display_name": "flow",
   "language": "python",
   "name": "python3"
  },
  "language_info": {
   "codemirror_mode": {
    "name": "ipython",
    "version": 3
   },
   "file_extension": ".py",
   "mimetype": "text/x-python",
   "name": "python",
   "nbconvert_exporter": "python",
   "pygments_lexer": "ipython3",
   "version": "3.9.10"
  }
 },
 "nbformat": 4,
 "nbformat_minor": 5
}
